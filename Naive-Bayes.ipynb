{
 "cells": [
  {
   "cell_type": "code",
   "execution_count": 1,
   "metadata": {},
   "outputs": [],
   "source": [
    "import csv\n",
    "\n",
    "def loadFile(filename):\n",
    "    with open(filename, 'r') as csvfile:\n",
    "        rows = csv.reader(csvfile)\n",
    "        dataset = list(rows)\n",
    "        dataset.pop(0)\n",
    "        return dataset"
   ]
  },
  {
   "cell_type": "code",
   "execution_count": 2,
   "metadata": {},
   "outputs": [],
   "source": [
    "import random\n",
    "\n",
    "def splitDataset(dataset, splitRatio):\n",
    "    trainingSet = []\n",
    "    size = int(len(dataset)*splitRatio)\n",
    "    length = len(dataset[0])-1\n",
    "    \n",
    "    for i in range(size):\n",
    "        item = random.choice(dataset)\n",
    "        itemIndex = dataset.index(item)\n",
    "        trainingSet.append(dataset.pop(itemIndex))\n",
    "    \n",
    "    return [trainingSet, dataset]"
   ]
  },
  {
   "cell_type": "code",
   "execution_count": 3,
   "metadata": {},
   "outputs": [],
   "source": [
    "def getindex(Tuple):\n",
    "    if Tuple[4]=='LookupError':\n",
    "        return 0\n",
    "    if Tuple[4]=='B':\n",
    "        return 1\n",
    "    if Tuple[4]=='R':\n",
    "        return 2\n",
    "    "
   ]
  },
  {
   "cell_type": "code",
   "execution_count": 4,
   "metadata": {},
   "outputs": [],
   "source": [
    "def AVCSet(trainingSet):\n",
    "    attributes = len(trainingSet[0])-1\n",
    "    AVCSet = []\n",
    "    instancesLen = len(trainingSet)\n",
    "    for i in range(attributes):\n",
    "        temp = [[0,0,0],[0,0,0],[0,0,0],[0,0,0],[0,0,0]]\n",
    "        for j in range(instancesLen):\n",
    "            ind1 = int(trainingSet[j][i])-1\n",
    "            ind2 = getindex(trainingSet[j])\n",
    "            temp[ind1][ind2]+=1\n",
    "        AVCSet.append(temp)\n",
    "    return AVCSet\n"
   ]
  },
  {
   "cell_type": "code",
   "execution_count": 5,
   "metadata": {},
   "outputs": [],
   "source": [
    "def prior(trainingSet):\n",
    "    totalInstances = [0,0,0]\n",
    "    total = len(trainingSet)\n",
    "    \n",
    "    for i in trainingSet:\n",
    "        ind = getindex(i)\n",
    "        totalInstances[ind]+=1\n",
    "        \n",
    "    Prior = []\n",
    "    for i in totalInstances:\n",
    "        Prior.append( i/total )\n",
    "    return [totalInstances, Prior]\n"
   ]
  },
  {
   "cell_type": "code",
   "execution_count": 6,
   "metadata": {},
   "outputs": [],
   "source": [
    "def likelihood(avcset):\n",
    "    Likelihood = []\n",
    "    for i in range(len(avcset)):\n",
    "        temp1 = []\n",
    "        for j in range(len(avcset[i])):\n",
    "            temp2 = []\n",
    "            for k in range(len(avcset[i][j])):\n",
    "                numerator = avcset[i][j][k]\n",
    "                denominetor = totalInstances[k]\n",
    "                temp2.append( numerator/denominetor )\n",
    "            temp1.append(temp2)\n",
    "        Likelihood.append(temp1)\n",
    "    return Likelihood\n"
   ]
  },
  {
   "cell_type": "code",
   "execution_count": 7,
   "metadata": {},
   "outputs": [],
   "source": [
    "def lkh(ind1, ind2, ind3):\n",
    "    return Likelihood[ind1][ind2][ind3]\n"
   ]
  },
  {
   "cell_type": "code",
   "execution_count": 8,
   "metadata": {},
   "outputs": [],
   "source": [
    "def predictedClass(Tuple, Prior):\n",
    "    length = len(Tuple)-1\n",
    "    \n",
    "    probability = [1,1,1]\n",
    "    for i in range(0,3):\n",
    "        for t in range(length):\n",
    "            probability[i] *= lkh(t, int(Tuple[t])-1, i)\n",
    "        probability[i] *= Prior[i]\n",
    "    \n",
    "    pClassValue = max(probability[0], probability[1], probability[2])\n",
    "\n",
    "    return probability.index(pClassValue)\n",
    "#print(predictedClass(testSet[0]))"
   ]
  },
  {
   "cell_type": "code",
   "execution_count": 9,
   "metadata": {},
   "outputs": [
    {
     "ename": "NameError",
     "evalue": "name 'testSet' is not defined",
     "output_type": "error",
     "traceback": [
      "\u001b[1;31m---------------------------------------------------------------------------\u001b[0m",
      "\u001b[1;31mNameError\u001b[0m                                 Traceback (most recent call last)",
      "\u001b[1;32m<ipython-input-9-c59d597d674e>\u001b[0m in \u001b[0;36m<module>\u001b[1;34m\u001b[0m\n\u001b[0;32m      6\u001b[0m         \u001b[0mPredictedClass\u001b[0m\u001b[1;33m.\u001b[0m\u001b[0mappend\u001b[0m\u001b[1;33m(\u001b[0m\u001b[0mpredictedClass\u001b[0m\u001b[1;33m(\u001b[0m\u001b[0mTuple\u001b[0m\u001b[1;33m,\u001b[0m \u001b[0mPrior\u001b[0m\u001b[1;33m)\u001b[0m\u001b[1;33m)\u001b[0m\u001b[1;33m\u001b[0m\u001b[1;33m\u001b[0m\u001b[0m\n\u001b[0;32m      7\u001b[0m     \u001b[1;32mreturn\u001b[0m \u001b[0mPredictedClass\u001b[0m\u001b[1;33m\u001b[0m\u001b[1;33m\u001b[0m\u001b[0m\n\u001b[1;32m----> 8\u001b[1;33m \u001b[0mpredicted\u001b[0m \u001b[1;33m=\u001b[0m \u001b[0mpredict\u001b[0m\u001b[1;33m(\u001b[0m\u001b[0mtestSet\u001b[0m\u001b[1;33m,\u001b[0m \u001b[0mPrior\u001b[0m\u001b[1;33m)\u001b[0m\u001b[1;33m\u001b[0m\u001b[1;33m\u001b[0m\u001b[0m\n\u001b[0m",
      "\u001b[1;31mNameError\u001b[0m: name 'testSet' is not defined"
     ]
    }
   ],
   "source": [
    "def predict(testSet, Prior):\n",
    "    instancesLen = len(testSet)\n",
    "    PredictedClass=[]\n",
    "    \n",
    "    for Tuple in testSet:\n",
    "        PredictedClass.append(predictedClass(Tuple, Prior))\n",
    "    return PredictedClass\n",
    "predicted = predict(testSet, Prior)"
   ]
  },
  {
   "cell_type": "code",
   "execution_count": null,
   "metadata": {},
   "outputs": [],
   "source": [
    "def confusionMatrix(testSet, predicted):\n",
    "    ConfusionMatrix = [[0,0,0],[0,0,0],[0,0,0]]\n",
    "    for i in range(len(predicted)):\n",
    "        ind = getindex(testSet[i])\n",
    "        ConfusionMatrix[ ind ][ predicted[i] ]+=1\n",
    "        \n",
    "    return ConfusionMatrix\n"
   ]
  },
  {
   "cell_type": "code",
   "execution_count": null,
   "metadata": {},
   "outputs": [],
   "source": [
    "def result(testSet, ConfusionMatrix):\n",
    "    n = len(testSet)\n",
    "    \n",
    "    accuracy = 0\n",
    "    for i in range(0,3):\n",
    "        for j in range(0,3):\n",
    "            if i==j:\n",
    "                accuracy += ConfusionMatrix[i][j]\n",
    "    \n",
    "    accuracy/=n\n",
    "    \n",
    "    recall = []\n",
    "    \n",
    "    for i in range(0,3):\n",
    "        r = ConfusionMatrix[i][i]\n",
    "        temp = ConfusionMatrix[i][0]+ConfusionMatrix[i][1]+ConfusionMatrix[i][2]\n",
    "        if temp==0:\n",
    "            recall.append(0)\n",
    "        else:\n",
    "            r /= (temp)\n",
    "            recall.append(r)        \n",
    "        \n",
    "    percision = []\n",
    "    for i in range(0,3):\n",
    "        p = ConfusionMatrix[i][i]\n",
    "        temp = ConfusionMatrix[0][i]+ConfusionMatrix[1][i]+ConfusionMatrix[2][i]\n",
    "        if temp==0:\n",
    "            percision.append(0)\n",
    "        else:\n",
    "            p /= (temp)\n",
    "            percision.append(p)\n",
    "    print(\"Accuracy\", accuracy*100)\n",
    "    print(\"Recall[L,B,R]= \", recall)\n",
    "    print(\"Percision[L,B,R]= \", percision)\n"
   ]
  },
  {
   "cell_type": "code",
   "execution_count": 10,
   "metadata": {},
   "outputs": [],
   "source": [
    "def main():\n",
    "    dataset = loadFile('balance_scale_dataset.csv')\n",
    "    trainingSet, testSet = splitDataset(dataset.copy(),.75)\n",
    "    \n",
    "    print(\"Instances of training set: \", len(trainingSet))\n",
    "    print(\"Instances of test set: \", len(testSet))\n",
    "    \n",
    "    avcset = AVCSet(trainingSet)\n",
    "    totalInstances, Prior = prior(trainingSet)\n",
    "    Likelihood = likelihood(avcset)\n",
    "    predicted = predict(testSet, Prior)\n",
    "    ConfusionMatrix = confusionMatrix(testSet, predicted)\n",
    "    \n",
    "    print(\"ConfusionMatrix\")\n",
    "    for i in ConfusionMatrix:\n",
    "        print(i)\n",
    "\n",
    "    result(testSet, ConfusionMatrix)"
   ]
  },
  {
   "cell_type": "code",
   "execution_count": 11,
   "metadata": {},
   "outputs": [
    {
     "name": "stdout",
     "output_type": "stream",
     "text": [
      "Instances of training set:  468\n",
      "Instances of test set:  157\n"
     ]
    },
    {
     "ename": "TypeError",
     "evalue": "list indices must be integers or slices, not NoneType",
     "output_type": "error",
     "traceback": [
      "\u001b[1;31m---------------------------------------------------------------------------\u001b[0m",
      "\u001b[1;31mTypeError\u001b[0m                                 Traceback (most recent call last)",
      "\u001b[1;32m<ipython-input-11-263240bbee7e>\u001b[0m in \u001b[0;36m<module>\u001b[1;34m\u001b[0m\n\u001b[1;32m----> 1\u001b[1;33m \u001b[0mmain\u001b[0m\u001b[1;33m(\u001b[0m\u001b[1;33m)\u001b[0m\u001b[1;33m\u001b[0m\u001b[1;33m\u001b[0m\u001b[0m\n\u001b[0m",
      "\u001b[1;32m<ipython-input-10-0285185c1da0>\u001b[0m in \u001b[0;36mmain\u001b[1;34m()\u001b[0m\n\u001b[0;32m      6\u001b[0m     \u001b[0mprint\u001b[0m\u001b[1;33m(\u001b[0m\u001b[1;34m\"Instances of test set: \"\u001b[0m\u001b[1;33m,\u001b[0m \u001b[0mlen\u001b[0m\u001b[1;33m(\u001b[0m\u001b[0mtestSet\u001b[0m\u001b[1;33m)\u001b[0m\u001b[1;33m)\u001b[0m\u001b[1;33m\u001b[0m\u001b[1;33m\u001b[0m\u001b[0m\n\u001b[0;32m      7\u001b[0m \u001b[1;33m\u001b[0m\u001b[0m\n\u001b[1;32m----> 8\u001b[1;33m     \u001b[0mavcset\u001b[0m \u001b[1;33m=\u001b[0m \u001b[0mAVCSet\u001b[0m\u001b[1;33m(\u001b[0m\u001b[0mtrainingSet\u001b[0m\u001b[1;33m)\u001b[0m\u001b[1;33m\u001b[0m\u001b[1;33m\u001b[0m\u001b[0m\n\u001b[0m\u001b[0;32m      9\u001b[0m     \u001b[0mtotalInstances\u001b[0m\u001b[1;33m,\u001b[0m \u001b[0mPrior\u001b[0m \u001b[1;33m=\u001b[0m \u001b[0mprior\u001b[0m\u001b[1;33m(\u001b[0m\u001b[0mtrainingSet\u001b[0m\u001b[1;33m)\u001b[0m\u001b[1;33m\u001b[0m\u001b[1;33m\u001b[0m\u001b[0m\n\u001b[0;32m     10\u001b[0m     \u001b[0mLikelihood\u001b[0m \u001b[1;33m=\u001b[0m \u001b[0mlikelihood\u001b[0m\u001b[1;33m(\u001b[0m\u001b[0mavcset\u001b[0m\u001b[1;33m)\u001b[0m\u001b[1;33m\u001b[0m\u001b[1;33m\u001b[0m\u001b[0m\n",
      "\u001b[1;32m<ipython-input-4-05ccfec31d09>\u001b[0m in \u001b[0;36mAVCSet\u001b[1;34m(trainingSet)\u001b[0m\n\u001b[0;32m      8\u001b[0m             \u001b[0mind1\u001b[0m \u001b[1;33m=\u001b[0m \u001b[0mint\u001b[0m\u001b[1;33m(\u001b[0m\u001b[0mtrainingSet\u001b[0m\u001b[1;33m[\u001b[0m\u001b[0mj\u001b[0m\u001b[1;33m]\u001b[0m\u001b[1;33m[\u001b[0m\u001b[0mi\u001b[0m\u001b[1;33m]\u001b[0m\u001b[1;33m)\u001b[0m\u001b[1;33m-\u001b[0m\u001b[1;36m1\u001b[0m\u001b[1;33m\u001b[0m\u001b[1;33m\u001b[0m\u001b[0m\n\u001b[0;32m      9\u001b[0m             \u001b[0mind2\u001b[0m \u001b[1;33m=\u001b[0m \u001b[0mgetindex\u001b[0m\u001b[1;33m(\u001b[0m\u001b[0mtrainingSet\u001b[0m\u001b[1;33m[\u001b[0m\u001b[0mj\u001b[0m\u001b[1;33m]\u001b[0m\u001b[1;33m)\u001b[0m\u001b[1;33m\u001b[0m\u001b[1;33m\u001b[0m\u001b[0m\n\u001b[1;32m---> 10\u001b[1;33m             \u001b[0mtemp\u001b[0m\u001b[1;33m[\u001b[0m\u001b[0mind1\u001b[0m\u001b[1;33m]\u001b[0m\u001b[1;33m[\u001b[0m\u001b[0mind2\u001b[0m\u001b[1;33m]\u001b[0m\u001b[1;33m+=\u001b[0m\u001b[1;36m1\u001b[0m\u001b[1;33m\u001b[0m\u001b[1;33m\u001b[0m\u001b[0m\n\u001b[0m\u001b[0;32m     11\u001b[0m         \u001b[0mAVCSet\u001b[0m\u001b[1;33m.\u001b[0m\u001b[0mappend\u001b[0m\u001b[1;33m(\u001b[0m\u001b[0mtemp\u001b[0m\u001b[1;33m)\u001b[0m\u001b[1;33m\u001b[0m\u001b[1;33m\u001b[0m\u001b[0m\n\u001b[0;32m     12\u001b[0m     \u001b[1;32mreturn\u001b[0m \u001b[0mAVCSet\u001b[0m\u001b[1;33m\u001b[0m\u001b[1;33m\u001b[0m\u001b[0m\n",
      "\u001b[1;31mTypeError\u001b[0m: list indices must be integers or slices, not NoneType"
     ]
    }
   ],
   "source": [
    "main()"
   ]
  },
  {
   "cell_type": "code",
   "execution_count": null,
   "metadata": {},
   "outputs": [],
   "source": []
  }
 ],
 "metadata": {
  "kernelspec": {
   "display_name": "Python 3",
   "language": "python",
   "name": "python3"
  },
  "language_info": {
   "codemirror_mode": {
    "name": "ipython",
    "version": 3
   },
   "file_extension": ".py",
   "mimetype": "text/x-python",
   "name": "python",
   "nbconvert_exporter": "python",
   "pygments_lexer": "ipython3",
   "version": "3.7.1"
  }
 },
 "nbformat": 4,
 "nbformat_minor": 2
}
