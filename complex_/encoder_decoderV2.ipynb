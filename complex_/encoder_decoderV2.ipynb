{
  "nbformat": 4,
  "nbformat_minor": 0,
  "metadata": {
    "kernelspec": {
      "display_name": "Python 3",
      "language": "python",
      "name": "python3"
    },
    "language_info": {
      "codemirror_mode": {
        "name": "ipython",
        "version": 3
      },
      "file_extension": ".py",
      "mimetype": "text/x-python",
      "name": "python",
      "nbconvert_exporter": "python",
      "pygments_lexer": "ipython3",
      "version": "3.7.4"
    },
    "colab": {
      "name": "encoder_decoderV2.ipynb",
      "provenance": [],
      "include_colab_link": true
    },
    "accelerator": "GPU"
  },
  "cells": [
    {
      "cell_type": "markdown",
      "metadata": {
        "id": "view-in-github",
        "colab_type": "text"
      },
      "source": [
        "<a href=\"https://colab.research.google.com/github/hasiburrahman1/NLP/blob/master/encoder_decoderV2.ipynb\" target=\"_parent\"><img src=\"https://colab.research.google.com/assets/colab-badge.svg\" alt=\"Open In Colab\"/></a>"
      ]
    },
    {
      "cell_type": "code",
      "metadata": {
        "id": "tzHsWfqustqP",
        "outputId": "859bcbdf-0625-43bc-da26-59c1e90f47f5",
        "colab": {
          "base_uri": "https://localhost:8080/",
          "height": 35
        }
      },
      "source": [
        "pwd"
      ],
      "execution_count": null,
      "outputs": [
        {
          "output_type": "execute_result",
          "data": {
            "application/vnd.google.colaboratory.intrinsic+json": {
              "type": "string"
            },
            "text/plain": [
              "'/content'"
            ]
          },
          "metadata": {
            "tags": []
          },
          "execution_count": 1
        }
      ]
    },
    {
      "cell_type": "code",
      "metadata": {
        "id": "13AYMj-vs3gG",
        "outputId": "4e4fa1c9-429f-46ad-97cf-45f185e85cd1",
        "colab": {
          "base_uri": "https://localhost:8080/",
          "height": 33
        }
      },
      "source": [
        "from google.colab import drive\n",
        "drive.mount('/content/drive')"
      ],
      "execution_count": null,
      "outputs": [
        {
          "output_type": "stream",
          "text": [
            "Drive already mounted at /content/drive; to attempt to forcibly remount, call drive.mount(\"/content/drive\", force_remount=True).\n"
          ],
          "name": "stdout"
        }
      ]
    },
    {
      "cell_type": "code",
      "metadata": {
        "id": "g1dQ1yF7stqV"
      },
      "source": [
        "import pandas as pd\n",
        "import numpy as np\n",
        "import sys\n",
        "import string\n",
        "from string import digits\n",
        "from pandas import Panel\n",
        "from sklearn.datasets import make_circles\n",
        "from matplotlib import pyplot\n",
        "%matplotlib inline\n",
        "import re\n",
        "from sklearn.utils import shuffle\n",
        "from sklearn.model_selection import train_test_split\n",
        "from keras.layers import Input, LSTM, Embedding, Dense\n",
        "from keras.models import Model\n",
        "import os\n",
        "import re\n",
        "import matplotlib.pyplot as plt\n",
        "import xml.etree.ElementTree as et \n",
        "import tensorflow as tf \n",
        "import tensorflow_addons as tfa\n",
        "from tensorflow.python.keras.preprocessing.text import Tokenizer\n",
        "from tensorflow.python.keras.preprocessing.sequence import pad_sequences\n",
        "from keras.models import Sequential\n",
        "from keras.layers import Dense, Embedding, GRU, LSTM, Bidirectional\n",
        "from keras.layers.embeddings import Embedding\n",
        "from keras.initializers import Constant\n",
        "from keras.callbacks import ModelCheckpoint\n",
        "from keras.models import load_model\n",
        "from keras.callbacks import Callback\n",
        "from sklearn.metrics import confusion_matrix, f1_score, precision_score, recall_score"
      ],
      "execution_count": null,
      "outputs": []
    },
    {
      "cell_type": "code",
      "metadata": {
        "id": "tpTooBwVtD9c"
      },
      "source": [
        "# import pandas as pd \n",
        "import pandas as pd \n",
        "   \n",
        "# Takes the file's folder \n",
        "#filepath = r\"C:Documents\\dataset.csv\"\n",
        "\n",
        "filepath = r\"/content/drive/My Drive/Colab Notebooks/complex/updated complex/dataset.csv\" \n",
        "# read the CSV file \n",
        "\n",
        "#lines = pd.read_csv(filepath, encoding='ascii')\n",
        "lines = pd.read_csv(filepath, sep='delimiter', header=None, engine='python') \n"
      ],
      "execution_count": null,
      "outputs": []
    },
    {
      "cell_type": "code",
      "metadata": {
        "id": "yHeT3XDBstqa",
        "outputId": "c34070a8-92f1-4cd3-dd03-1fd205666c3c",
        "colab": {
          "base_uri": "https://localhost:8080/",
          "height": 50
        }
      },
      "source": [
        "print(len(lines)) \n",
        "lines.columns = ['qa']\n",
        "list(lines.columns)"
      ],
      "execution_count": null,
      "outputs": [
        {
          "output_type": "stream",
          "text": [
            "4040\n"
          ],
          "name": "stdout"
        },
        {
          "output_type": "execute_result",
          "data": {
            "text/plain": [
              "['qa']"
            ]
          },
          "metadata": {
            "tags": []
          },
          "execution_count": 5
        }
      ]
    },
    {
      "cell_type": "code",
      "metadata": {
        "id": "HPhka2O0stqc"
      },
      "source": [
        "lines[['question','answer']] = lines.qa.apply(lambda x: pd.Series(str(x).split(\"?\")))"
      ],
      "execution_count": null,
      "outputs": []
    },
    {
      "cell_type": "code",
      "metadata": {
        "id": "4uaQB5alstqe",
        "outputId": "35a27e82-0457-4c82-b2e8-d543a77ad8b0",
        "colab": {
          "base_uri": "https://localhost:8080/",
          "height": 33
        }
      },
      "source": [
        "list(lines.columns)"
      ],
      "execution_count": null,
      "outputs": [
        {
          "output_type": "execute_result",
          "data": {
            "text/plain": [
              "['qa', 'question', 'answer']"
            ]
          },
          "metadata": {
            "tags": []
          },
          "execution_count": 7
        }
      ]
    },
    {
      "cell_type": "code",
      "metadata": {
        "id": "kI7x7oqqstqg"
      },
      "source": [
        "for col in lines.columns: \n",
        "    if 'qa' in col: \n",
        "        del lines[col] \n",
        "  "
      ],
      "execution_count": null,
      "outputs": []
    },
    {
      "cell_type": "code",
      "metadata": {
        "id": "-fcbOqnBstqi",
        "outputId": "18c82bd8-de20-48ef-ecef-06a2ee36e75e",
        "colab": {
          "base_uri": "https://localhost:8080/",
          "height": 133
        }
      },
      "source": [
        "lines.iloc[:3]"
      ],
      "execution_count": null,
      "outputs": [
        {
          "output_type": "execute_result",
          "data": {
            "text/html": [
              "<div>\n",
              "<style scoped>\n",
              "    .dataframe tbody tr th:only-of-type {\n",
              "        vertical-align: middle;\n",
              "    }\n",
              "\n",
              "    .dataframe tbody tr th {\n",
              "        vertical-align: top;\n",
              "    }\n",
              "\n",
              "    .dataframe thead th {\n",
              "        text-align: right;\n",
              "    }\n",
              "</style>\n",
              "<table border=\"1\" class=\"dataframe\">\n",
              "  <thead>\n",
              "    <tr style=\"text-align: right;\">\n",
              "      <th></th>\n",
              "      <th>question</th>\n",
              "      <th>answer</th>\n",
              "    </tr>\n",
              "  </thead>\n",
              "  <tbody>\n",
              "    <tr>\n",
              "      <th>0</th>\n",
              "      <td>What is (are) abdominal wall defect</td>\n",
              "      <td>,An opening in the abdomen through which vario...</td>\n",
              "    </tr>\n",
              "    <tr>\n",
              "      <th>1</th>\n",
              "      <td>What are the treatments for abdominal wall defect</td>\n",
              "      <td>,Diagnostic Tests-Drug Therapy-Surgery and Reh...</td>\n",
              "    </tr>\n",
              "    <tr>\n",
              "      <th>2</th>\n",
              "      <td>What is (are) Osteoporosis</td>\n",
              "      <td>,A Bone Disease that thins and weakens the bon...</td>\n",
              "    </tr>\n",
              "  </tbody>\n",
              "</table>\n",
              "</div>"
            ],
            "text/plain": [
              "                                            question                                             answer\n",
              "0                What is (are) abdominal wall defect  ,An opening in the abdomen through which vario...\n",
              "1  What are the treatments for abdominal wall defect  ,Diagnostic Tests-Drug Therapy-Surgery and Reh...\n",
              "2                        What is (are) Osteoporosis   ,A Bone Disease that thins and weakens the bon..."
            ]
          },
          "metadata": {
            "tags": []
          },
          "execution_count": 9
        }
      ]
    },
    {
      "cell_type": "code",
      "metadata": {
        "id": "cSk31GPJstqk"
      },
      "source": [
        "lines.columns = ['source', 'target']"
      ],
      "execution_count": null,
      "outputs": []
    },
    {
      "cell_type": "code",
      "metadata": {
        "id": "EwCwcdoCstqm",
        "outputId": "616e46ae-af0e-477d-8c19-fed1b1900063",
        "colab": {
          "base_uri": "https://localhost:8080/",
          "height": 33
        }
      },
      "source": [
        "list(lines.columns)"
      ],
      "execution_count": null,
      "outputs": [
        {
          "output_type": "execute_result",
          "data": {
            "text/plain": [
              "['source', 'target']"
            ]
          },
          "metadata": {
            "tags": []
          },
          "execution_count": 11
        }
      ]
    },
    {
      "cell_type": "code",
      "metadata": {
        "id": "96Vj4Dvestqo",
        "outputId": "6aae72d6-6fcd-40e3-c471-8438c88de05f",
        "colab": {
          "base_uri": "https://localhost:8080/",
          "height": 35
        }
      },
      "source": [
        "lines['source'].iloc[2000]"
      ],
      "execution_count": null,
      "outputs": [
        {
          "output_type": "execute_result",
          "data": {
            "application/vnd.google.colaboratory.intrinsic+json": {
              "type": "string"
            },
            "text/plain": [
              "'What are the treatments for late-infantile neuronal ceroid lipofuscinosis '"
            ]
          },
          "metadata": {
            "tags": []
          },
          "execution_count": 12
        }
      ]
    },
    {
      "cell_type": "code",
      "metadata": {
        "id": "V4yFlDH3stqr",
        "outputId": "5c95ee5b-781d-43e7-b947-849c86f02e19",
        "colab": {
          "base_uri": "https://localhost:8080/",
          "height": 35
        }
      },
      "source": [
        "lines['target'].iloc[2000]"
      ],
      "execution_count": null,
      "outputs": [
        {
          "output_type": "execute_result",
          "data": {
            "application/vnd.google.colaboratory.intrinsic+json": {
              "type": "string"
            },
            "text/plain": [
              "',\"An eye disorder that affects the clear, outer covering of the eye called the cornea. \"'"
            ]
          },
          "metadata": {
            "tags": []
          },
          "execution_count": 13
        }
      ]
    },
    {
      "cell_type": "code",
      "metadata": {
        "id": "l0AL1elKstqt"
      },
      "source": [
        "lines['target'] = lines['target'].fillna('').apply(str)"
      ],
      "execution_count": null,
      "outputs": []
    },
    {
      "cell_type": "code",
      "metadata": {
        "id": "oa23n-13stqv"
      },
      "source": [
        "# convert source and target text to Lowercase \n",
        "lines.source=lines.source.apply(lambda x: x.lower())\n",
        "lines.target=lines.target.apply(lambda x: x.lower())\n",
        "\n",
        "# Remove quotes from source and target text\n",
        "lines.source=lines.source.apply(lambda x: re.sub(\"'\", '', x))\n",
        "lines.target=lines.target.apply(lambda x: re.sub(\"'\", '', x))\n",
        "\n",
        "#s = re.sub(r\"[-()\\\"#/@;:<>{}`+=~|.!?,]\", \" \", x)\n",
        "\n",
        "lines.source=lines.source.apply(lambda x: re.sub(r'[-()\\\"#/@;:<>{}`+=~|.!?,]',r' ',x))\n",
        "lines.target=lines.target.apply(lambda x: re.sub(r'[-()\\\"#/@;:<>{}`+=~|.!?,]',r' ',x))\n",
        "\n",
        "'''\n",
        "# create a set of all special characters\n",
        "special_characters= set(string.punctuation)\n",
        "\n",
        "# Remove all the special characters\n",
        "lines.source=lines.source.apply(lambda x: re.sub(r'[^a-zA-Z0-9 ]',r'',x))\n",
        "lines.target=lines.target.apply(lambda x: re.sub(r'[^a-zA-Z0-9 ]',r'',x))\n",
        "'''\n",
        "# Remove digits from source and target sentences\n",
        "num_digits= str.maketrans('','', digits)\n",
        "lines.source=lines.source.apply(lambda x: x.translate(num_digits))\n",
        "lines.target= lines.target.apply(lambda x: x.translate(num_digits))\n",
        "\n",
        "# Remove extra spaces\n",
        "lines.source=lines.source.apply(lambda x: x.strip())\n",
        "lines.target=lines.target.apply(lambda x: x.strip())\n",
        "lines.source=lines.source.apply(lambda x: re.sub(\" +\", \" \", x))\n",
        "lines.target=lines.target.apply(lambda x: re.sub(\" +\", \" \", x))\n"
      ],
      "execution_count": null,
      "outputs": []
    },
    {
      "cell_type": "code",
      "metadata": {
        "id": "d73hdKpUstqx",
        "outputId": "fd3b97ca-ad92-45ce-d2b7-e73de376471c",
        "colab": {
          "base_uri": "https://localhost:8080/",
          "height": 220
        }
      },
      "source": [
        "# Add start and end tokens to target sequences\n",
        "lines.target = lines.target.apply(lambda x : 'START_ '+ x + ' _END')\n",
        "lines.sample(6)"
      ],
      "execution_count": null,
      "outputs": [
        {
          "output_type": "execute_result",
          "data": {
            "text/html": [
              "<div>\n",
              "<style scoped>\n",
              "    .dataframe tbody tr th:only-of-type {\n",
              "        vertical-align: middle;\n",
              "    }\n",
              "\n",
              "    .dataframe tbody tr th {\n",
              "        vertical-align: top;\n",
              "    }\n",
              "\n",
              "    .dataframe thead th {\n",
              "        text-align: right;\n",
              "    }\n",
              "</style>\n",
              "<table border=\"1\" class=\"dataframe\">\n",
              "  <thead>\n",
              "    <tr style=\"text-align: right;\">\n",
              "      <th></th>\n",
              "      <th>source</th>\n",
              "      <th>target</th>\n",
              "    </tr>\n",
              "  </thead>\n",
              "  <tbody>\n",
              "    <tr>\n",
              "      <th>110</th>\n",
              "      <td>what are the treatments for lynch syndrome</td>\n",
              "      <td>START_ diagnostic tests drug therapy surgery a...</td>\n",
              "    </tr>\n",
              "    <tr>\n",
              "      <th>2212</th>\n",
              "      <td>what are the stages of uterine sarcoma</td>\n",
              "      <td>START_ stage i stage ii stage iii stage iv _END</td>\n",
              "    </tr>\n",
              "    <tr>\n",
              "      <th>1517</th>\n",
              "      <td>what are the treatments for hystrix like ichth...</td>\n",
              "      <td>START_ diagnostic tests drug therapy surgery a...</td>\n",
              "    </tr>\n",
              "    <tr>\n",
              "      <th>3260</th>\n",
              "      <td>what are the genetic changes related to spondy...</td>\n",
              "      <td>START_ mutations in the flnb gene cause spondy...</td>\n",
              "    </tr>\n",
              "    <tr>\n",
              "      <th>1064</th>\n",
              "      <td>what is are adams oliver syndrome</td>\n",
              "      <td>START_ adams oliver syndrome is a rare conditi...</td>\n",
              "    </tr>\n",
              "    <tr>\n",
              "      <th>3732</th>\n",
              "      <td>what is are wiskott aldrich syndrome</td>\n",
              "      <td>START_ this syndrome is characterized by abnor...</td>\n",
              "    </tr>\n",
              "  </tbody>\n",
              "</table>\n",
              "</div>"
            ],
            "text/plain": [
              "                                                 source                                             target\n",
              "110          what are the treatments for lynch syndrome  START_ diagnostic tests drug therapy surgery a...\n",
              "2212             what are the stages of uterine sarcoma    START_ stage i stage ii stage iii stage iv _END\n",
              "1517  what are the treatments for hystrix like ichth...  START_ diagnostic tests drug therapy surgery a...\n",
              "3260  what are the genetic changes related to spondy...  START_ mutations in the flnb gene cause spondy...\n",
              "1064                  what is are adams oliver syndrome  START_ adams oliver syndrome is a rare conditi...\n",
              "3732               what is are wiskott aldrich syndrome  START_ this syndrome is characterized by abnor..."
            ]
          },
          "metadata": {
            "tags": []
          },
          "execution_count": 16
        }
      ]
    },
    {
      "cell_type": "code",
      "metadata": {
        "id": "ODTq93PKstqz",
        "outputId": "2f294a70-0cb4-441c-9dc7-742540eddca9",
        "colab": {
          "base_uri": "https://localhost:8080/",
          "height": 35
        }
      },
      "source": [
        "lines['source'].iloc[2086]"
      ],
      "execution_count": null,
      "outputs": [
        {
          "output_type": "execute_result",
          "data": {
            "application/vnd.google.colaboratory.intrinsic+json": {
              "type": "string"
            },
            "text/plain": [
              "'how to diagnose colon cancer'"
            ]
          },
          "metadata": {
            "tags": []
          },
          "execution_count": 17
        }
      ]
    },
    {
      "cell_type": "code",
      "metadata": {
        "id": "MEra-bW3stq1",
        "outputId": "b2bd86b1-1ef6-4ade-b47d-933b9e31a4a6",
        "colab": {
          "base_uri": "https://localhost:8080/",
          "height": 35
        }
      },
      "source": [
        "lines['target'].iloc[2086]"
      ],
      "execution_count": null,
      "outputs": [
        {
          "output_type": "execute_result",
          "data": {
            "application/vnd.google.colaboratory.intrinsic+json": {
              "type": "string"
            },
            "text/plain": [
              "'START_ digital rectal exam biopsy _END'"
            ]
          },
          "metadata": {
            "tags": []
          },
          "execution_count": 18
        }
      ]
    },
    {
      "cell_type": "code",
      "metadata": {
        "id": "UZutrCzostq3",
        "outputId": "343fceb3-eac7-4eae-81d8-28275b44b051",
        "colab": {
          "base_uri": "https://localhost:8080/",
          "height": 33
        }
      },
      "source": [
        "# Find all the source and target words and sort them\n",
        "# Vocabulary of Source language\n",
        "all_source_words=set()\n",
        "for source in lines.source:\n",
        "    for word in source.split():\n",
        "        if word not in all_source_words:\n",
        "            all_source_words.add(word)\n",
        "# Vocabulary of Target \n",
        "all_target_words=set()\n",
        "for target in lines.target:\n",
        "    for word in target.split():\n",
        "        if word not in all_target_words:\n",
        "            all_target_words.add(word)\n",
        "# sort all unique source and target words\n",
        "source_words= sorted(list(all_source_words))\n",
        "target_words=sorted(list(all_target_words))\n",
        "\n",
        "len(source_words), len(target_words)"
      ],
      "execution_count": null,
      "outputs": [
        {
          "output_type": "execute_result",
          "data": {
            "text/plain": [
              "(1270, 3635)"
            ]
          },
          "metadata": {
            "tags": []
          },
          "execution_count": 19
        }
      ]
    },
    {
      "cell_type": "code",
      "metadata": {
        "id": "9CDZwIgYstq5",
        "outputId": "8656b6ed-b1c0-4198-ea1b-01cf554a20a1",
        "colab": {
          "base_uri": "https://localhost:8080/",
          "height": 50
        }
      },
      "source": [
        "#Find maximum sentence length in  the source and target data\n",
        "source_length_list=[]\n",
        "for l in lines.source:\n",
        "    source_length_list.append(len(l.split(' ')))\n",
        "max_source_length= max(source_length_list)\n",
        "print(\" Max length of the source sentence\",max_source_length)\n",
        "target_length_list=[]\n",
        "for l in lines.target:\n",
        "    target_length_list.append(len(l.split(' ')))\n",
        "max_target_length= max(target_length_list)\n",
        "print(\" Max length of the target sentence\",max_target_length)"
      ],
      "execution_count": null,
      "outputs": [
        {
          "output_type": "stream",
          "text": [
            " Max length of the source sentence 19\n",
            " Max length of the target sentence 31\n"
          ],
          "name": "stdout"
        }
      ]
    },
    {
      "cell_type": "code",
      "metadata": {
        "id": "dNEUOrIWstq7"
      },
      "source": [
        "# creating a word to index(word2idx) for source and target\n",
        "source_word2idx= dict([(word, i+1) for i,word in enumerate(source_words)])\n",
        "target_word2idx=dict([(word, i+1) for i, word in enumerate(target_words)])"
      ],
      "execution_count": null,
      "outputs": []
    },
    {
      "cell_type": "code",
      "metadata": {
        "id": "WTBTtf58stq8",
        "outputId": "a3349246-6795-4b99-b322-980461713f99",
        "colab": {
          "base_uri": "https://localhost:8080/",
          "height": 53
        }
      },
      "source": [
        "#creating a dictionary for index to word for source and target vocabulary\n",
        "source_idx2word= dict([(i, word) for word, i in  source_word2idx.items()])\n",
        "print(source_idx2word)\n",
        "target_idx2word =dict([(i, word) for word, i in target_word2idx.items()])"
      ],
      "execution_count": null,
      "outputs": [
        {
          "output_type": "stream",
          "text": [
            "{1: 'a', 2: 'aarskog', 3: 'ab', 4: 'abdominal', 5: 'abetalipoproteinemia', 6: 'abnormal', 7: 'absent', 8: 'abuse', 9: 'acatalasemia', 10: 'accumulation', 11: 'acetylglutamate', 12: 'achondrogenesis', 13: 'achondroplasia', 14: 'achromatopsia', 15: 'acid', 16: 'acidemia', 17: 'acidosis', 18: 'aciduria', 19: 'acral', 20: 'acrofacial', 21: 'acromelic', 22: 'acromicric', 23: 'actin', 24: 'activated', 25: 'acute', 26: 'acyl', 27: 'adams', 28: 'adcy', 29: 'adenine', 30: 'adenosine', 31: 'adenylosuccinate', 32: 'adermatoglyphia', 33: 'adhesion', 34: 'adiposis', 35: 'adolescent', 36: 'adrenal', 37: 'adrenoleukodystrophy', 38: 'adult', 39: 'adults', 40: 'affected', 41: 'african', 42: 'agammaglobulinemia', 43: 'age', 44: 'aggravated', 45: 'aggregate', 46: 'aicardi', 47: 'aids', 48: 'alagille', 49: 'albinism', 50: 'albright', 51: 'aldrich', 52: 'alexander', 53: 'alg', 54: 'alkaptonuria', 55: 'allan', 56: 'allergic', 57: 'alopecia', 58: 'alpers', 59: 'alpha', 60: 'amelia', 61: 'american', 62: 'amyloid', 63: 'amyloidosis', 64: 'amyotrophy', 65: 'and', 66: 'anemia', 67: 'aneurysms', 68: 'angioedema', 69: 'angiopathy', 70: 'anomalies', 71: 'anophthalmia', 72: 'antithrombin', 73: 'antitrypsin', 74: 'aortic', 75: 'aplasia', 76: 'appears', 77: 'are', 78: 'arterial', 79: 'arteriosclerosis', 80: 'arthritis', 81: 'arthropathy', 82: 'ascending', 83: 'assembly', 84: 'associated', 85: 'association', 86: 'asthma', 87: 'at', 88: 'ataxia', 89: 'atrophy', 90: 'attack', 91: 'auriculo', 92: 'autonomic', 93: 'axonal', 94: 'balance', 95: 'baraitser', 96: 'barber', 97: 'barr', 98: 'batten', 99: 'bbb', 100: 'behmel', 101: 'being', 102: 'beta', 103: 'biesecker', 104: 'bifida', 105: 'bile', 106: 'binding', 107: 'blindness', 108: 'blood', 109: 'bodies', 110: 'body', 111: 'bone', 112: 'brain', 113: 'brainstem', 114: 'breakage', 115: 'breast', 116: 'brocks', 117: 'brunner', 118: 'bulbar', 119: 'bullosa', 120: 'by', 121: 'calcification', 122: 'calv', 123: 'cancer', 124: 'capillary', 125: 'carboxylase', 126: 'carcinoid', 127: 'carcinoma', 128: 'carpal', 129: 'cataract', 130: 'cause', 131: 'causes', 132: 'cavity', 133: 'cell', 134: 'central', 135: 'cephalic', 136: 'cephalopolysyndactyly', 137: 'cerebellar', 138: 'cerebellaris', 139: 'cerebral', 140: 'cerebro', 141: 'ceroid', 142: 'chain', 143: 'changes', 144: 'charcot', 145: 'cheney', 146: 'childhood', 147: 'children', 148: 'cholestasis', 149: 'chondrodysplasia', 150: 'chorea', 151: 'choroid', 152: 'chotzen', 153: 'chromosome', 154: 'chronic', 155: 'cidp', 156: 'cirrhosis', 157: 'clinical', 158: 'cluster', 159: 'cns', 160: 'coa', 161: 'coalition', 162: 'cofactor', 163: 'coffin', 164: 'cofs', 165: 'colitis', 166: 'collins', 167: 'coloboma', 168: 'colon', 169: 'colorectal', 170: 'colpocephaly', 171: 'coma', 172: 'combined', 173: 'complex', 174: 'complications', 175: 'confetti', 176: 'congenita', 177: 'congenital', 178: 'consequences', 179: 'cord', 180: 'corneal', 181: 'coronavirus', 182: 'corticobasal', 183: 'covid', 184: 'cramps', 185: 'craniopharyngioma', 186: 'craniosynostosis', 187: 'creatine', 188: 'creutzfeldt', 189: 'cushings', 190: 'cutaneous', 191: 'cutis', 192: 'cystic', 193: 'cysts', 194: 'cytomegalovirus', 195: 'd', 196: 'dandy', 197: 'de', 198: 'deafness', 199: 'deaminase', 200: 'death', 201: 'decarboxylase', 202: 'deep', 203: 'defect', 204: 'defects', 205: 'deficiency', 206: 'degeneration', 207: 'dehydrogenase', 208: 'deletion', 209: 'delta', 210: 'dementia', 211: 'demyelinating', 212: 'dento', 213: 'dependent', 214: 'depletion', 215: 'der', 216: 'dermatomyositis', 217: 'dermatopathia', 218: 'development', 219: 'developmental', 220: 'diabetes', 221: 'diabetic', 222: 'diagnose', 223: 'diagonose', 224: 'diagonse', 225: 'diamond', 226: 'dieker', 227: 'dietz', 228: 'diffuse', 229: 'digital', 230: 'disability', 231: 'disease', 232: 'disorder', 233: 'disorders', 234: 'distal', 235: 'distichiasis', 236: 'distress', 237: 'dna', 238: 'do', 239: 'does', 240: 'dolorosa', 241: 'done', 242: 'dravet', 243: 'drop', 244: 'drug', 245: 'duane', 246: 'duct', 247: 'dudley', 248: 'duplication', 249: 'dwarfism', 250: 'dysfunction', 251: 'dysfunctions', 252: 'dysgenesis', 253: 'dysgraphia', 254: 'dyskinesia', 255: 'dyslexia', 256: 'dysostosis', 257: 'dysplasia', 258: 'dyspraxia', 259: 'dysregulation', 260: 'dyssynergia', 261: 'dystonia', 262: 'dystonias', 263: 'dystrophy', 264: 'early', 265: 'ectopia', 266: 'elevation', 267: 'empty', 268: 'encephalitis', 269: 'encephaloceles', 270: 'encephalomyopathy', 271: 'encephalopathy', 272: 'endocrine', 273: 'endometrial', 274: 'endothelial', 275: 'enteropathy', 276: 'enzyme', 277: 'eosinophilic', 278: 'ependymoma', 279: 'epidermal', 280: 'epidermolysis', 281: 'epilepsy', 282: 'epiphyseal', 283: 'episodes', 284: 'epithelial', 285: 'epstein', 286: 'erythematosus', 287: 'erythroderma', 288: 'essential', 289: 'ewing', 290: 'extracranial', 291: 'extragonadal', 292: 'fabry', 293: 'facial', 294: 'facio', 295: 'factor', 296: 'factors', 297: 'fahrs', 298: 'failure', 299: 'familial', 300: 'farbers', 301: 'febrile', 302: 'feil', 303: 'fiber', 304: 'fibers', 305: 'fibromatosis', 306: 'fibromuscular', 307: 'fibrosis', 308: 'fibrous', 309: 'fisher', 310: 'focal', 311: 'folate', 312: 'foot', 313: 'for', 314: 'form', 315: 'formiminotransferase', 316: 'franceschetti', 317: 'fraumeni', 318: 'friedreich', 319: 'friedreichs', 320: 'frontometaphyseal', 321: 'frontonasal', 322: 'frontotemporal', 323: 'fructose', 324: 'fryns', 325: 'fuchs', 326: 'fucosidosis', 327: 'fukuyama', 328: 'fumarase', 329: 'fungoides', 330: 'g', 331: 'galactose', 332: 'galactosemia', 333: 'galactosialidosis', 334: 'gamma', 335: 'gangliosidoses', 336: 'gangliosidosis', 337: 'gastaut', 338: 'gastric', 339: 'gastrointestinal', 340: 'gaucher', 341: 'gaze', 342: 'geleophysic', 343: 'generalized', 344: 'genetic', 345: 'genital', 346: 'genitalia', 347: 'genitopatellar', 348: 'germ', 349: 'gerstmann', 350: 'gerstmanns', 351: 'gestational', 352: 'ghosal', 353: 'giant', 354: 'giedion', 355: 'gilbert', 356: 'gilford', 357: 'gillespie', 358: 'girdle', 359: 'gitelman', 360: 'gland', 361: 'glanzmann', 362: 'glia', 363: 'glioma', 364: 'globin', 365: 'globozoospermia', 366: 'globulin', 367: 'glossopharyngeal', 368: 'glucose', 369: 'glut', 370: 'glutamate', 371: 'glutaric', 372: 'glutathione', 373: 'glycine', 374: 'glycogen', 375: 'glycosylation', 376: 'gm', 377: 'gnathodiaphyseal', 378: 'golabi', 379: 'goldberg', 380: 'gorlin', 381: 'goutieres', 382: 'gracile', 383: 'granulomatosis', 384: 'graves', 385: 'gravis', 386: 'gray', 387: 'greenberg', 388: 'greig', 389: 'griscelli', 390: 'grn', 391: 'growth', 392: 'grsbeck', 393: 'guanidinoacetate', 394: 'guillain', 395: 'gyrate', 396: 'hair', 397: 'hairy', 398: 'hajdu', 399: 'hall', 400: 'hand', 401: 'harlequin', 402: 'hashimoto', 403: 'hauser', 404: 'head', 405: 'hearing', 406: 'heart', 407: 'hematodiaphyseal', 408: 'hemifacial', 409: 'hemiplegic', 410: 'hemochromatosis', 411: 'hemophilia', 412: 'hemorrhagic', 413: 'hennekam', 414: 'hepatic', 415: 'hepatocerebral', 416: 'hereditary', 417: 'hermansky', 418: 'herndon', 419: 'heterotaxy', 420: 'hidradenitis', 421: 'high', 422: 'hippel', 423: 'hirschhorn', 424: 'hirschsprung', 425: 'histidinemia', 426: 'histiocytoma', 427: 'histiocytosis', 428: 'hodgkin', 429: 'holocarboxylase', 430: 'holoprosencephaly', 431: 'holt', 432: 'homocystinuria', 433: 'hopkins', 434: 'horizontal', 435: 'hormone', 436: 'horner', 437: 'how', 438: 'huntington', 439: 'hutchinson', 440: 'huttenlocher', 441: 'hyaline', 442: 'hyalinosis', 443: 'hydratase', 444: 'hydroxy', 445: 'hydroxyacyl', 446: 'hydroxyglutaric', 447: 'hydroxylase', 448: 'hydroxysteroid', 449: 'hyper', 450: 'hypercholesterolemia', 451: 'hyperekplexia', 452: 'hyperferritinemia', 453: 'hyperkalemic', 454: 'hyperlysinemia', 455: 'hypermanganesemia', 456: 'hypermethioninemia', 457: 'hyperparathyroidism', 458: 'hyperthermia', 459: 'hypertrophy', 460: 'hypopharyngeal', 461: 'hypophosphatemic', 462: 'hypoplasia', 463: 'hypotonia', 464: 'hypouricemia', 465: 'hystrix', 466: 'i', 467: 'ia', 468: 'ichthyosiform', 469: 'ichthyosis', 470: 'idiopathic', 471: 'ids', 472: 'ie', 473: 'igm', 474: 'ii', 475: 'iii', 476: 'illicit', 477: 'imerslund', 478: 'immune', 479: 'immuno', 480: 'immunodeficiency', 481: 'in', 482: 'inclusion', 483: 'incontinence', 484: 'incontinentia', 485: 'indian', 486: 'infancy', 487: 'infant', 488: 'infantile', 489: 'infarct', 490: 'infection', 491: 'infections', 492: 'infertility', 493: 'inflammatory', 494: 'inherited', 495: 'insipidus', 496: 'insulin', 497: 'intellectual', 498: 'intestinal', 499: 'intestine', 500: 'intolerance', 501: 'intrahepatic', 502: 'intranuclear', 503: 'intraocular', 504: 'intrauterine', 505: 'involvement', 506: 'irak', 507: 'iron', 508: 'is', 509: 'isobutyryl', 510: 'isodicentric', 511: 'isolated', 512: 'isomerase', 513: 'isovaleric', 514: 'it', 515: 'iv', 516: 'ix', 517: 'jackson', 518: 'jacobsen', 519: 'jadassohn', 520: 'jakob', 521: 'jampel', 522: 'jaw', 523: 'jeghers', 524: 'jervell', 525: 'johnson', 526: 'joubert', 527: 'junctional', 528: 'juvenile', 529: 'kabuki', 530: 'kallmann', 531: 'kaufman', 532: 'kawasaki', 533: 'kbg', 534: 'kearns', 535: 'keratitis', 536: 'keratoderma', 537: 'ketoacid', 538: 'kidney', 539: 'kievit', 540: 'kinase', 541: 'kleefstra', 542: 'klinefelter', 543: 'klippel', 544: 'kniest', 545: 'knobloch', 546: 'koolen', 547: 'korsakoff', 548: 'krabbe', 549: 'kster', 550: 'kufs', 551: 'kuskokwim', 552: 'l', 553: 'lacrimo', 554: 'lactate', 555: 'lactic', 556: 'lactose', 557: 'lafora', 558: 'laing', 559: 'lama', 560: 'lamellar', 561: 'lange', 562: 'langer', 563: 'langerhans', 564: 'laron', 565: 'larsen', 566: 'larsson', 567: 'laryngeal', 568: 'laryngo', 569: 'late', 570: 'lateral', 571: 'lattice', 572: 'leber', 573: 'lectin', 574: 'legg', 575: 'legius', 576: 'legs', 577: 'leigh', 578: 'leiomyomatosis', 579: 'lemli', 580: 'lennox', 581: 'lentigines', 582: 'lentis', 583: 'lenz', 584: 'leptin', 585: 'lesch', 586: 'lethal', 587: 'lethargica', 588: 'leukemia', 589: 'leukocyte', 590: 'leukodystrophy', 591: 'leukoencephalopathy', 592: 'lewy', 593: 'leydig', 594: 'li', 595: 'liability', 596: 'liddle', 597: 'ligase', 598: 'like', 599: 'likely', 600: 'limb', 601: 'lindau', 602: 'linear', 603: 'linked', 604: 'lip', 605: 'lipase', 606: 'lipid', 607: 'lipofuscinosis', 608: 'lipomembranous', 609: 'lissencephaly', 610: 'liver', 611: 'lken', 612: 'loeys', 613: 'long', 614: 'loss', 615: 'low', 616: 'lowe', 617: 'lowry', 618: 'lujan', 619: 'lundborg', 620: 'lung', 621: 'lupus', 622: 'lyase', 623: 'lymphadenopathy', 624: 'lymphangioleiomyomatosis', 625: 'lymphedema', 626: 'lymphoblastic', 627: 'lymphoma', 628: 'lymphoproliferative', 629: 'lynch', 630: 'lysinuric', 631: 'm', 632: 'maat', 633: 'mabry', 634: 'macroaneurysm', 635: 'macroglobulinemia', 636: 'macular', 637: 'maffucci', 638: 'magenis', 639: 'magnesium', 640: 'mainzer', 641: 'majeed', 642: 'mal', 643: 'malabsorption', 644: 'male', 645: 'malformation', 646: 'malformations', 647: 'malignant', 648: 'mall', 649: 'malonyl', 650: 'mandibuloacral', 651: 'mandibulofacial', 652: 'manitoba', 653: 'mannose', 654: 'mannosidosis', 655: 'many', 656: 'maple', 657: 'marchesani', 658: 'marfan', 659: 'marie', 660: 'marinesco', 661: 'maternally', 662: 'matter', 663: 'mayer', 664: 'mc', 665: 'mccune', 666: 'mckusick', 667: 'mcleod', 668: 'meckel', 669: 'mecp', 670: 'medium', 671: 'medullary', 672: 'meesmann', 673: 'megalencephalic', 674: 'megalencephaly', 675: 'megaloblastic', 676: 'megdel', 677: 'meier', 678: 'meige', 679: 'melanocytic', 680: 'melanoma', 681: 'meleda', 682: 'mellitus', 683: 'melnick', 684: 'membrane', 685: 'meningitis', 686: 'menkes', 687: 'merkel', 688: 'mesomelic', 689: 'metachromatic', 690: 'metaphyseal', 691: 'metastatic', 692: 'metatropic', 693: 'methemoglobinemia', 694: 'methylbutyryl', 695: 'methylcrotonyl', 696: 'methylglutaconyl', 697: 'methylglutaryl', 698: 'methylmalonic', 699: 'methyltransferase', 700: 'mevalonate', 701: 'microcephalic', 702: 'microcephaly', 703: 'microdeletion', 704: 'microphthalmia', 705: 'microvillus', 706: 'migraine', 707: 'migrating', 708: 'miller', 709: 'milroy', 710: 'minus', 711: 'mitochondrial', 712: 'miyoshi', 713: 'moebius', 714: 'molybdenum', 715: 'monilethrix', 716: 'most', 717: 'motion', 718: 'mowat', 719: 'moyamoya', 720: 'mpv', 721: 'muckle', 722: 'mucolipidosis', 723: 'mucopolysaccharidosis', 724: 'mucosal', 725: 'muenke', 726: 'multi', 727: 'multicentric', 728: 'multiminicore', 729: 'multiple', 730: 'multiplex', 731: 'multisystem', 732: 'muscle', 733: 'muscular', 734: 'mutase', 735: 'myasthenia', 736: 'mycosis', 737: 'myd', 738: 'myelitis', 739: 'myelodysplastic', 740: 'myelogenous', 741: 'myeloid', 742: 'myeloproliferative', 743: 'myh', 744: 'myhre', 745: 'myoclonic', 746: 'myoclonica', 747: 'myoclonus', 748: 'myofibrillar', 749: 'myopathic', 750: 'myopathies', 751: 'myopathy', 752: 'myosin', 753: 'myostatin', 754: 'myotonia', 755: 'myotonic', 756: 'myotubular', 757: 'n', 758: 'naegeli', 759: 'nager', 760: 'nail', 761: 'nakajo', 762: 'narcolepsy', 763: 'nasal', 764: 'nasopharyngeal', 765: 'neck', 766: 'necrolysis', 767: 'necrosis', 768: 'needles', 769: 'nemaline', 770: 'neonatal', 771: 'neoplasia', 772: 'neoplasms', 773: 'nephrogenic', 774: 'nephronophthisis', 775: 'nephropathy', 776: 'nervous', 777: 'netherton', 778: 'neuralgia', 779: 'neuralgic', 780: 'neuroacanthocytosis', 781: 'neuroaxonal', 782: 'neuroblastoma', 783: 'neurodegeneration', 784: 'neuroferritinopathy', 785: 'neurofibromatosis', 786: 'neurogastrointestinal', 787: 'neurohypophyseal', 788: 'neurological', 789: 'neuromyelitis', 790: 'neuronal', 791: 'neuropathy', 792: 'neutral', 793: 'neutropenia', 794: 'neutrophilic', 795: 'nevus', 796: 'nicolaides', 797: 'nielsen', 798: 'niemann', 799: 'night', 800: 'nijmegen', 801: 'nishimura', 802: 'nodulosis', 803: 'non', 804: 'nonbullous', 805: 'nonsyndromic', 806: 'noonan', 807: 'norrie', 808: 'north', 809: 'northern', 810: 'not', 811: 'nyhan', 812: 'nystagmus', 813: 'obstruction', 814: 'occlusive', 815: 'occult', 816: 'ochoa', 817: 'ocular', 818: 'oculo', 819: 'oculocutaneous', 820: 'oculodentodigital', 821: 'oculofaciocardiodental', 822: 'oculopharyngeal', 823: 'oculotrichoanal', 824: 'of', 825: 'ohdo', 826: 'ohtahara', 827: 'older', 828: 'oliver', 829: 'ollier', 830: 'onset', 831: 'onycho', 832: 'ophthalmo', 833: 'opitz', 834: 'opsoclonus', 835: 'optic', 836: 'optica', 837: 'or', 838: 'oral', 839: 'oram', 840: 'ornithine', 841: 'oropharyngeal', 842: 'osseous', 843: 'osteochondromas', 844: 'osteodysplasia', 845: 'osteodysplastic', 846: 'osteolysis', 847: 'osteoporosis', 848: 'osteosarcoma', 849: 'outlet', 850: 'outlook', 851: 'ovarian', 852: 'overload', 853: 'ow', 854: 'p', 855: 'paget', 856: 'pagets', 857: 'pain', 858: 'palsies', 859: 'palsy', 860: 'pancreatitis', 861: 'panencephalitis', 862: 'paraganglioma', 863: 'paralyses', 864: 'paralysis', 865: 'paranasal', 866: 'paraplegia', 867: 'parathyroid', 868: 'parkinson', 869: 'parkinsonism', 870: 'parkinsons', 871: 'partial', 872: 'patella', 873: 'peeling', 874: 'penile', 875: 'people', 876: 'periodic', 877: 'peripheral', 878: 'perthes', 879: 'peters', 880: 'peutz', 881: 'pfeiffer', 882: 'phenylketonuria', 883: 'pheochromocytoma', 884: 'phosphate', 885: 'phosphoglycerate', 886: 'phosphoribosylpyrophosphate', 887: 'phosphoribosyltransferase', 888: 'pick', 889: 'piebaldism', 890: 'pierre', 891: 'pigmented', 892: 'pigmenti', 893: 'pigmentosa', 894: 'pigmentosum', 895: 'pik', 896: 'pilomatricoma', 897: 'pitt', 898: 'pituitary', 899: 'plasma', 900: 'platelet', 901: 'platyspondylic', 902: 'plus', 903: 'pmm', 904: 'pol', 905: 'poland', 906: 'polyangiitis', 907: 'polycystic', 908: 'polycythemia', 909: 'polyendocrinopathy', 910: 'polyglucosan', 911: 'polymicrogyria', 912: 'polyneuropathy', 913: 'polyposis', 914: 'pompe', 915: 'pontocerebellar', 916: 'popliteal', 917: 'porphyria', 918: 'postural', 919: 'potassium', 920: 'potential', 921: 'pregnancy', 922: 'prescription', 923: 'pressure', 924: 'prevent', 925: 'primary', 926: 'primordial', 927: 'probably', 928: 'problems', 929: 'progeria', 930: 'progressive', 931: 'promyelocytic', 932: 'prostate', 933: 'protein', 934: 'pseudo', 935: 'psoriasis', 936: 'pterygium', 937: 'pudlak', 938: 'pulmonary', 939: 'pulmonic', 940: 'punctata', 941: 'purpura', 942: 'q', 943: 'qt', 944: 'quitting', 945: 'radius', 946: 'ragged', 947: 'receptor', 948: 'rectal', 949: 'red', 950: 'reductase', 951: 'refractory', 952: 'related', 953: 'renal', 954: 'renpenning', 955: 'repetitive', 956: 'research', 957: 'resistance', 958: 'respiratory', 959: 'responsive', 960: 'restless', 961: 'restriction', 962: 'reticularis', 963: 'retina', 964: 'retinal', 965: 'retinitis', 966: 'retinoblastoma', 967: 'retinoschisis', 968: 'retraction', 969: 'retroperitoneal', 970: 'rett', 971: 'rheumatoid', 972: 'rhizomelic', 973: 'rickets', 974: 'ring', 975: 'rippling', 976: 'risk', 977: 'risks', 978: 'roberts', 979: 'robin', 980: 'robinow', 981: 'robinson', 982: 'rod', 983: 'rokitansky', 984: 'rothmund', 985: 'rotor', 986: 'rubinstein', 987: 'russell', 988: 's', 989: 'sachs', 990: 'saddan', 991: 'saethre', 992: 'saldino', 993: 'salih', 994: 'salivary', 995: 'sandhoff', 996: 'sarcoma', 997: 'say', 998: 'sayre', 999: 'scheinker', 1000: 'schilders', 1001: 'schimke', 1002: 'schindler', 1003: 'schinzel', 1004: 'schwartz', 1005: 'scleroderma', 1006: 'sclerosing', 1007: 'sclerosis', 1008: 'scoliosis', 1009: 'scott', 1010: 'seizures', 1011: 'sella', 1012: 'semialdehyde', 1013: 'senior', 1014: 'sensitive', 1015: 'sensitivity', 1016: 'sensorineural', 1017: 'sensory', 1018: 'sepiapterin', 1019: 'septo', 1020: 'sequence', 1021: 'severe', 1022: 'sex', 1023: 'sheldon', 1024: 'shingles', 1025: 'short', 1026: 'shprintzen', 1027: 'shwachman', 1028: 'sialic', 1029: 'sialidosis', 1030: 'sialuria', 1031: 'sick', 1032: 'sickle', 1033: 'siderius', 1034: 'sideroblastic', 1035: 'silver', 1036: 'simpson', 1037: 'sinus', 1038: 'sitosterolemia', 1039: 'sjgren', 1040: 'skeletal', 1041: 'skin', 1042: 'slca', 1043: 'small', 1044: 'smell', 1045: 'smith', 1046: 'smoking', 1047: 'snyder', 1048: 'sost', 1049: 'sotos', 1050: 'sox', 1051: 'spasm', 1052: 'spastic', 1053: 'specific', 1054: 'spectrum', 1055: 'spherocytosis', 1056: 'spheroids', 1057: 'spina', 1058: 'spinal', 1059: 'spinocerebellar', 1060: 'spondylocarpotarsal', 1061: 'spondylocostal', 1062: 'spondyloenchondrodysplasia', 1063: 'spondyloepimetaphyseal', 1064: 'spondyloepiphyseal', 1065: 'spondyloperipheral', 1066: 'spondylothoracic', 1067: 'sponge', 1068: 'sporadic', 1069: 'spread', 1070: 'squamous', 1071: 'stages', 1072: 'stargardt', 1073: 'stationary', 1074: 'steatocystoma', 1075: 'stem', 1076: 'stenosis', 1077: 'stevens', 1078: 'stickler', 1079: 'stimulation', 1080: 'sting', 1081: 'storage', 1082: 'stormorken', 1083: 'straussler', 1084: 'stroke', 1085: 'stromal', 1086: 'strudwick', 1087: 'sturge', 1088: 'stve', 1089: 'subacute', 1090: 'subcortical', 1091: 'succinate', 1092: 'succinic', 1093: 'succinyl', 1094: 'sudden', 1095: 'sulfatase', 1096: 'sulfur', 1097: 'superactivity', 1098: 'suppurativa', 1099: 'supravalvular', 1100: 'surfactant', 1101: 'surviving', 1102: 'swallowing', 1103: 'swyer', 1104: 'symptomps', 1105: 'symptoms', 1106: 'syncope', 1107: 'syndrome', 1108: 'syndromes', 1109: 'syngap', 1110: 'synostosis', 1111: 'synthase', 1112: 'synthetase', 1113: 'syrup', 1114: 'system', 1115: 'systemic', 1116: 'systems', 1117: 'szary', 1118: 't', 1119: 'tachycardia', 1120: 'tangier', 1121: 'tarda', 1122: 'tarsal', 1123: 'task', 1124: 'taste', 1125: 'tay', 1126: 'taybi', 1127: 'telangiectasia', 1128: 'teratoid', 1129: 'testes', 1130: 'testicular', 1131: 'tethered', 1132: 'tetra', 1133: 'tetrahydrobiopterin', 1134: 'tetrasomy', 1135: 'thalassemia', 1136: 'thanatophoric', 1137: 'that', 1138: 'the', 1139: 'thiamine', 1140: 'thiopurine', 1141: 'thomson', 1142: 'thoracic', 1143: 'thrombasthenia', 1144: 'thrombocythemia', 1145: 'thrombocytopenia', 1146: 'thrombocytopenic', 1147: 'thrombotic', 1148: 'thymic', 1149: 'thymoma', 1150: 'thyroiditis', 1151: 'thyroxine', 1152: 'tibial', 1153: 'tietz', 1154: 'timothy', 1155: 'tk', 1156: 'to', 1157: 'todds', 1158: 'tooth', 1159: 'torrance', 1160: 'tourette', 1161: 'townes', 1162: 'toxic', 1163: 'tp', 1164: 'tract', 1165: 'transcarbamylase', 1166: 'transferase', 1167: 'transient', 1168: 'transthyretin', 1169: 'transverse', 1170: 'treacher', 1171: 'treatments', 1172: 'tremor', 1173: 'trenaunay', 1174: 'trials', 1175: 'trichoepithelioma', 1176: 'trichohepatoenteric', 1177: 'trichothiodystrophy', 1178: 'trifunctional', 1179: 'trigeminal', 1180: 'trimethylaminuria', 1181: 'triosephosphate', 1182: 'triple', 1183: 'trisomy', 1184: 'trophoblastic', 1185: 'troyer', 1186: 'tuberous', 1187: 'tubular', 1188: 'tumor', 1189: 'tumors', 1190: 'turner', 1191: 'type', 1192: 'tyrosine', 1193: 'tyrosinemia', 1194: 'ulcerative', 1195: 'unverricht', 1196: 'urethral', 1197: 'urinary', 1198: 'urine', 1199: 'uromodulin', 1200: 'usher', 1201: 'uterine', 1202: 'uv', 1203: 'v', 1204: 'vacterl', 1205: 'van', 1206: 'vanishing', 1207: 'variant', 1208: 'vasculitis', 1209: 'vasculopathy', 1210: 'veno', 1211: 'venous', 1212: 'vera', 1213: 'very', 1214: 'vi', 1215: 'vii', 1216: 'virus', 1217: 'vitamin', 1218: 'vitelliform', 1219: 'vitiligo', 1220: 'vldlr', 1221: 'vohwinkel', 1222: 'von', 1223: 'vries', 1224: 'vulvar', 1225: 'waardenburg', 1226: 'wagner', 1227: 'wagr', 1228: 'waldenstrm', 1229: 'walker', 1230: 'wall', 1231: 'warburg', 1232: 'warfarin', 1233: 'warsaw', 1234: 'weaver', 1235: 'weber', 1236: 'weill', 1237: 'weiss', 1238: 'weissenbacher', 1239: 'wells', 1240: 'werner', 1241: 'wernicke', 1242: 'weyers', 1243: 'what', 1244: 'whiplash', 1245: 'white', 1246: 'who', 1247: 'wiedemann', 1248: 'willebrand', 1249: 'williams', 1250: 'wilson', 1251: 'winchester', 1252: 'wiskott', 1253: 'with', 1254: 'wolf', 1255: 'wolff', 1256: 'wolfram', 1257: 'wolman', 1258: 'woolly', 1259: 'woude', 1260: 'x', 1261: 'xanthinuria', 1262: 'xeroderma', 1263: 'xx', 1264: 'xxyy', 1265: 'xyy', 1266: 'y', 1267: 'young', 1268: 'zap', 1269: 'zellweger', 1270: 'zweymller'}\n"
          ],
          "name": "stdout"
        }
      ]
    },
    {
      "cell_type": "code",
      "metadata": {
        "id": "JYVn_1F0stq-"
      },
      "source": [
        "#Shuffle the data\n",
        "lines = shuffle(lines)"
      ],
      "execution_count": null,
      "outputs": []
    },
    {
      "cell_type": "code",
      "metadata": {
        "id": "brrw0rHvstrA",
        "outputId": "4d7f9f8a-f998-4ba9-af7d-b4cb5a916756",
        "colab": {
          "base_uri": "https://localhost:8080/",
          "height": 33
        }
      },
      "source": [
        "# Train - Test Split\n",
        "X, y = lines.source, lines.target\n",
        "X_train, X_test, y_train, y_test = train_test_split(X, y, test_size = 0.2)\n",
        "X_train.shape, X_test.shape"
      ],
      "execution_count": null,
      "outputs": [
        {
          "output_type": "execute_result",
          "data": {
            "text/plain": [
              "((3232,), (808,))"
            ]
          },
          "metadata": {
            "tags": []
          },
          "execution_count": 24
        }
      ]
    },
    {
      "cell_type": "code",
      "metadata": {
        "id": "4cnhiPvkstrC"
      },
      "source": [
        "# https://stackoverflow.com/questions/54880279/how-to-handle-invalid-argument-error-in-keras\n",
        "# Input tokens for encoder\n",
        "num_encoder_tokens=len(source_words) +1\n",
        "# Input tokens for decoder zero padded\n",
        "num_decoder_tokens=len(target_words) +1"
      ],
      "execution_count": null,
      "outputs": []
    },
    {
      "cell_type": "code",
      "metadata": {
        "id": "UgD1d4bIstrE"
      },
      "source": [
        "def generate_batch(X = X_train, y = y_train, batch_size = 32):\n",
        "    ''' Generate a batch of data '''\n",
        "    while True:\n",
        "        for j in range(0, len(X), batch_size):\n",
        "            encoder_input_data = np.zeros((batch_size, max_source_length),dtype='float32')\n",
        "            decoder_input_data = np.zeros((batch_size, max_target_length),dtype='float32')\n",
        "            decoder_target_data = np.zeros((batch_size, max_target_length, num_decoder_tokens),dtype='float32')\n",
        "            for i, (input_text, target_text) in enumerate(zip(X[j:j+batch_size], y[j:j+batch_size])):\n",
        "                for t, word in enumerate(input_text.split()):\n",
        "                        encoder_input_data[i, t] = source_word2idx[word] \n",
        "                for t, word in enumerate(target_text.split()):\n",
        "                    if t<len(target_text.split())-1:\n",
        "                        decoder_input_data[i, t] = target_word2idx[word] # decoder input seq\n",
        "                    if t>0:\n",
        "                        # decoder target sequence (one hot encoded)\n",
        "                        # does not include the START_ token\n",
        "                        # Offset by one timestep\n",
        "                        #print(word)\n",
        "                        decoder_target_data[i, t - 1, target_word2idx[word]] = 1.\n",
        "                    \n",
        "            yield([encoder_input_data, decoder_input_data], decoder_target_data)"
      ],
      "execution_count": null,
      "outputs": []
    },
    {
      "cell_type": "code",
      "metadata": {
        "id": "H209mGO_strG"
      },
      "source": [
        "train_samples = len(X_train) # Total Training samples\n",
        "val_samples = len(X_test)    # Total validation or test samples\n",
        "batch_size = 32\n",
        "epochs = 100\n",
        "latent_dim=256"
      ],
      "execution_count": null,
      "outputs": []
    },
    {
      "cell_type": "code",
      "metadata": {
        "id": "qVDsuaV0strI"
      },
      "source": [
        "# Define an input sequence and process it.\n",
        "encoder_inputs = Input(shape=(None,))\n",
        "enc_emb =  Embedding(num_encoder_tokens, latent_dim, mask_zero = True)(encoder_inputs)\n",
        "encoder_lstm = LSTM(latent_dim, return_state=True)\n",
        "encoder_outputs, state_h, state_c = encoder_lstm(enc_emb)\n",
        "# We discard `encoder_outputs` and only keep the states.\n",
        "encoder_states = [state_h, state_c]"
      ],
      "execution_count": null,
      "outputs": []
    },
    {
      "cell_type": "code",
      "metadata": {
        "id": "5ks-6T9vstrK"
      },
      "source": [
        "# Set up the decoder, using `encoder_states` as initial state.\n",
        "decoder_inputs = Input(shape=(None,))\n",
        "dec_emb_layer = Embedding(num_decoder_tokens, latent_dim, mask_zero = True)\n",
        "dec_emb = dec_emb_layer(decoder_inputs)\n",
        "# We set up our decoder to return full output sequences,\n",
        "# and to return internal states as well. We don't use the\n",
        "# return states in the training model, but we will use them in inference.\n",
        "decoder_lstm = LSTM(latent_dim, return_sequences=True, return_state=True)\n",
        "decoder_outputs, _, _ = decoder_lstm(dec_emb,\n",
        "                                     initial_state=encoder_states)\n",
        "decoder_dense = Dense(num_decoder_tokens, activation='softmax')\n",
        "decoder_outputs = decoder_dense(decoder_outputs)"
      ],
      "execution_count": null,
      "outputs": []
    },
    {
      "cell_type": "code",
      "metadata": {
        "id": "9E6v3ZFdstrL"
      },
      "source": [
        "# Define the model that takes encoder and decoder input \n",
        "# to output decoder_outputs\n",
        "model = Model([encoder_inputs, decoder_inputs], decoder_outputs)"
      ],
      "execution_count": null,
      "outputs": []
    },
    {
      "cell_type": "code",
      "metadata": {
        "id": "rYCB1VRNstrN",
        "outputId": "2fc2f237-84ac-4568-97fd-57fdccf1df5d",
        "colab": {
          "base_uri": "https://localhost:8080/",
          "height": 407
        }
      },
      "source": [
        "model.compile(optimizer='rmsprop', loss='categorical_crossentropy', metrics=['accuracy', tf.keras.metrics.Precision(), tf.keras.metrics.Recall()])\n",
        "model.summary()"
      ],
      "execution_count": null,
      "outputs": [
        {
          "output_type": "stream",
          "text": [
            "Model: \"functional_1\"\n",
            "__________________________________________________________________________________________________\n",
            "Layer (type)                    Output Shape         Param #     Connected to                     \n",
            "==================================================================================================\n",
            "input_1 (InputLayer)            [(None, None)]       0                                            \n",
            "__________________________________________________________________________________________________\n",
            "input_2 (InputLayer)            [(None, None)]       0                                            \n",
            "__________________________________________________________________________________________________\n",
            "embedding (Embedding)           (None, None, 256)    325376      input_1[0][0]                    \n",
            "__________________________________________________________________________________________________\n",
            "embedding_1 (Embedding)         (None, None, 256)    930816      input_2[0][0]                    \n",
            "__________________________________________________________________________________________________\n",
            "lstm (LSTM)                     [(None, 256), (None, 525312      embedding[0][0]                  \n",
            "__________________________________________________________________________________________________\n",
            "lstm_1 (LSTM)                   [(None, None, 256),  525312      embedding_1[0][0]                \n",
            "                                                                 lstm[0][1]                       \n",
            "                                                                 lstm[0][2]                       \n",
            "__________________________________________________________________________________________________\n",
            "dense (Dense)                   (None, None, 3636)   934452      lstm_1[0][0]                     \n",
            "==================================================================================================\n",
            "Total params: 3,241,268\n",
            "Trainable params: 3,241,268\n",
            "Non-trainable params: 0\n",
            "__________________________________________________________________________________________________\n"
          ],
          "name": "stdout"
        }
      ]
    },
    {
      "cell_type": "code",
      "metadata": {
        "id": "largXnmjstrR",
        "outputId": "ec3ae1b8-15c7-4c6a-aaf1-f2fcbe7c750d",
        "colab": {
          "base_uri": "https://localhost:8080/",
          "height": 1000
        }
      },
      "source": [
        "model.fit_generator(generator = generate_batch(X_train, y_train, batch_size = batch_size),\n",
        "                    steps_per_epoch = train_samples//batch_size,\n",
        "                    validation_data = generate_batch(X_test, y_test, batch_size = batch_size),\n",
        "                    validation_steps = val_samples//batch_size, epochs=epochs)"
      ],
      "execution_count": null,
      "outputs": [
        {
          "output_type": "stream",
          "text": [
            "WARNING:tensorflow:From <ipython-input-32-fccd5a3bacdf>:4: Model.fit_generator (from tensorflow.python.keras.engine.training) is deprecated and will be removed in a future version.\n",
            "Instructions for updating:\n",
            "Please use Model.fit, which supports generators.\n",
            "Epoch 1/100\n",
            "101/101 [==============================] - 7s 70ms/step - loss: 2.0504 - accuracy: 0.1398 - precision: 0.7225 - recall: 0.0036 - val_loss: 1.8281 - val_accuracy: 0.2410 - val_precision: 0.9778 - val_recall: 0.0046\n",
            "Epoch 2/100\n",
            "101/101 [==============================] - 4s 44ms/step - loss: 1.6386 - accuracy: 0.3119 - precision: 0.8819 - recall: 0.1015 - val_loss: 1.5465 - val_accuracy: 0.3863 - val_precision: 0.9281 - val_recall: 0.1921\n",
            "Epoch 3/100\n",
            "101/101 [==============================] - 4s 44ms/step - loss: 1.3970 - accuracy: 0.4098 - precision: 0.8680 - recall: 0.2584 - val_loss: 1.3904 - val_accuracy: 0.4418 - val_precision: 0.8667 - val_recall: 0.2848\n",
            "Epoch 4/100\n",
            "101/101 [==============================] - 4s 44ms/step - loss: 1.2549 - accuracy: 0.4548 - precision: 0.8539 - recall: 0.3141 - val_loss: 1.3016 - val_accuracy: 0.4722 - val_precision: 0.8429 - val_recall: 0.3358\n",
            "Epoch 5/100\n",
            "101/101 [==============================] - 4s 44ms/step - loss: 1.1537 - accuracy: 0.4879 - precision: 0.8514 - recall: 0.3518 - val_loss: 1.2413 - val_accuracy: 0.5017 - val_precision: 0.8500 - val_recall: 0.3614\n",
            "Epoch 6/100\n",
            "101/101 [==============================] - 4s 44ms/step - loss: 1.0742 - accuracy: 0.5126 - precision: 0.8545 - recall: 0.3826 - val_loss: 1.2023 - val_accuracy: 0.5126 - val_precision: 0.8489 - val_recall: 0.3831\n",
            "Epoch 7/100\n",
            "101/101 [==============================] - 4s 44ms/step - loss: 1.0087 - accuracy: 0.5312 - precision: 0.8616 - recall: 0.4084 - val_loss: 1.1753 - val_accuracy: 0.5208 - val_precision: 0.8487 - val_recall: 0.3984\n",
            "Epoch 8/100\n",
            "101/101 [==============================] - 5s 45ms/step - loss: 0.9518 - accuracy: 0.5475 - precision: 0.8678 - recall: 0.4267 - val_loss: 1.1563 - val_accuracy: 0.5276 - val_precision: 0.8456 - val_recall: 0.4083\n",
            "Epoch 9/100\n",
            "101/101 [==============================] - 4s 44ms/step - loss: 0.9005 - accuracy: 0.5622 - precision: 0.8746 - recall: 0.4415 - val_loss: 1.1423 - val_accuracy: 0.5354 - val_precision: 0.8499 - val_recall: 0.4137\n",
            "Epoch 10/100\n",
            "101/101 [==============================] - 5s 45ms/step - loss: 0.8531 - accuracy: 0.5759 - precision: 0.8802 - recall: 0.4557 - val_loss: 1.1358 - val_accuracy: 0.5389 - val_precision: 0.8397 - val_recall: 0.4243\n",
            "Epoch 11/100\n",
            "101/101 [==============================] - 5s 45ms/step - loss: 0.8095 - accuracy: 0.5897 - precision: 0.8865 - recall: 0.4696 - val_loss: 1.1287 - val_accuracy: 0.5422 - val_precision: 0.8364 - val_recall: 0.4289\n",
            "Epoch 12/100\n",
            "101/101 [==============================] - 4s 44ms/step - loss: 0.7695 - accuracy: 0.6034 - precision: 0.8920 - recall: 0.4833 - val_loss: 1.1224 - val_accuracy: 0.5444 - val_precision: 0.8363 - val_recall: 0.4348\n",
            "Epoch 13/100\n",
            "101/101 [==============================] - 4s 45ms/step - loss: 0.7314 - accuracy: 0.6171 - precision: 0.8979 - recall: 0.4959 - val_loss: 1.1199 - val_accuracy: 0.5469 - val_precision: 0.8316 - val_recall: 0.4405\n",
            "Epoch 14/100\n",
            "101/101 [==============================] - 4s 44ms/step - loss: 0.6948 - accuracy: 0.6315 - precision: 0.9030 - recall: 0.5099 - val_loss: 1.1186 - val_accuracy: 0.5469 - val_precision: 0.8272 - val_recall: 0.4432\n",
            "Epoch 15/100\n",
            "101/101 [==============================] - 4s 44ms/step - loss: 0.6608 - accuracy: 0.6445 - precision: 0.9093 - recall: 0.5219 - val_loss: 1.1188 - val_accuracy: 0.5467 - val_precision: 0.8189 - val_recall: 0.4508\n",
            "Epoch 16/100\n",
            "101/101 [==============================] - 4s 44ms/step - loss: 0.6274 - accuracy: 0.6594 - precision: 0.9140 - recall: 0.5349 - val_loss: 1.1172 - val_accuracy: 0.5477 - val_precision: 0.8163 - val_recall: 0.4579\n",
            "Epoch 17/100\n",
            "101/101 [==============================] - 4s 44ms/step - loss: 0.5956 - accuracy: 0.6733 - precision: 0.9203 - recall: 0.5465 - val_loss: 1.1198 - val_accuracy: 0.5499 - val_precision: 0.8073 - val_recall: 0.4604\n",
            "Epoch 18/100\n",
            "101/101 [==============================] - 4s 44ms/step - loss: 0.5661 - accuracy: 0.6881 - precision: 0.9231 - recall: 0.5574 - val_loss: 1.1226 - val_accuracy: 0.5472 - val_precision: 0.8133 - val_recall: 0.4586\n",
            "Epoch 19/100\n",
            "101/101 [==============================] - 4s 44ms/step - loss: 0.5369 - accuracy: 0.7040 - precision: 0.9300 - recall: 0.5713 - val_loss: 1.1253 - val_accuracy: 0.5463 - val_precision: 0.8023 - val_recall: 0.4639\n",
            "Epoch 20/100\n",
            "101/101 [==============================] - 4s 44ms/step - loss: 0.5081 - accuracy: 0.7191 - precision: 0.9351 - recall: 0.5823 - val_loss: 1.1305 - val_accuracy: 0.5452 - val_precision: 0.8011 - val_recall: 0.4670\n",
            "Epoch 21/100\n",
            "101/101 [==============================] - 4s 44ms/step - loss: 0.4810 - accuracy: 0.7353 - precision: 0.9401 - recall: 0.5946 - val_loss: 1.1343 - val_accuracy: 0.5458 - val_precision: 0.7919 - val_recall: 0.4673\n",
            "Epoch 22/100\n",
            "101/101 [==============================] - 4s 44ms/step - loss: 0.4536 - accuracy: 0.7510 - precision: 0.9452 - recall: 0.6076 - val_loss: 1.1393 - val_accuracy: 0.5455 - val_precision: 0.7933 - val_recall: 0.4689\n",
            "Epoch 23/100\n",
            "101/101 [==============================] - 4s 44ms/step - loss: 0.4278 - accuracy: 0.7664 - precision: 0.9491 - recall: 0.6214 - val_loss: 1.1476 - val_accuracy: 0.5453 - val_precision: 0.7812 - val_recall: 0.4745\n",
            "Epoch 24/100\n",
            "101/101 [==============================] - 4s 44ms/step - loss: 0.4024 - accuracy: 0.7816 - precision: 0.9517 - recall: 0.6331 - val_loss: 1.1535 - val_accuracy: 0.5436 - val_precision: 0.7765 - val_recall: 0.4743\n",
            "Epoch 25/100\n",
            "101/101 [==============================] - 4s 44ms/step - loss: 0.3788 - accuracy: 0.7977 - precision: 0.9570 - recall: 0.6479 - val_loss: 1.1595 - val_accuracy: 0.5436 - val_precision: 0.7753 - val_recall: 0.4729\n",
            "Epoch 26/100\n",
            "101/101 [==============================] - 4s 44ms/step - loss: 0.3561 - accuracy: 0.8129 - precision: 0.9597 - recall: 0.6604 - val_loss: 1.1636 - val_accuracy: 0.5437 - val_precision: 0.7715 - val_recall: 0.4765\n",
            "Epoch 27/100\n",
            "101/101 [==============================] - 5s 45ms/step - loss: 0.3331 - accuracy: 0.8270 - precision: 0.9629 - recall: 0.6743 - val_loss: 1.1732 - val_accuracy: 0.5406 - val_precision: 0.7727 - val_recall: 0.4758\n",
            "Epoch 28/100\n",
            "101/101 [==============================] - 4s 45ms/step - loss: 0.3128 - accuracy: 0.8399 - precision: 0.9660 - recall: 0.6876 - val_loss: 1.1788 - val_accuracy: 0.5429 - val_precision: 0.7649 - val_recall: 0.4783\n",
            "Epoch 29/100\n",
            "101/101 [==============================] - 5s 45ms/step - loss: 0.2918 - accuracy: 0.8535 - precision: 0.9691 - recall: 0.7036 - val_loss: 1.1867 - val_accuracy: 0.5434 - val_precision: 0.7628 - val_recall: 0.4798\n",
            "Epoch 30/100\n",
            "101/101 [==============================] - 4s 44ms/step - loss: 0.2726 - accuracy: 0.8654 - precision: 0.9722 - recall: 0.7180 - val_loss: 1.1894 - val_accuracy: 0.5418 - val_precision: 0.7590 - val_recall: 0.4818\n",
            "Epoch 31/100\n",
            "101/101 [==============================] - 5s 45ms/step - loss: 0.2538 - accuracy: 0.8776 - precision: 0.9757 - recall: 0.7331 - val_loss: 1.2056 - val_accuracy: 0.5385 - val_precision: 0.7537 - val_recall: 0.4797\n",
            "Epoch 32/100\n",
            "101/101 [==============================] - 5s 45ms/step - loss: 0.2356 - accuracy: 0.8890 - precision: 0.9784 - recall: 0.7514 - val_loss: 1.2062 - val_accuracy: 0.5406 - val_precision: 0.7530 - val_recall: 0.4846\n",
            "Epoch 33/100\n",
            "101/101 [==============================] - 4s 44ms/step - loss: 0.2195 - accuracy: 0.8986 - precision: 0.9806 - recall: 0.7666 - val_loss: 1.2140 - val_accuracy: 0.5379 - val_precision: 0.7509 - val_recall: 0.4824\n",
            "Epoch 34/100\n",
            "101/101 [==============================] - 4s 44ms/step - loss: 0.2046 - accuracy: 0.9077 - precision: 0.9819 - recall: 0.7836 - val_loss: 1.2287 - val_accuracy: 0.5380 - val_precision: 0.7478 - val_recall: 0.4835\n",
            "Epoch 35/100\n",
            "101/101 [==============================] - 4s 44ms/step - loss: 0.1901 - accuracy: 0.9179 - precision: 0.9846 - recall: 0.8020 - val_loss: 1.2329 - val_accuracy: 0.5353 - val_precision: 0.7414 - val_recall: 0.4861\n",
            "Epoch 36/100\n",
            "101/101 [==============================] - 4s 44ms/step - loss: 0.1754 - accuracy: 0.9260 - precision: 0.9849 - recall: 0.8172 - val_loss: 1.2361 - val_accuracy: 0.5356 - val_precision: 0.7384 - val_recall: 0.4841\n",
            "Epoch 37/100\n",
            "101/101 [==============================] - 4s 44ms/step - loss: 0.1623 - accuracy: 0.9334 - precision: 0.9869 - recall: 0.8338 - val_loss: 1.2480 - val_accuracy: 0.5377 - val_precision: 0.7306 - val_recall: 0.4885\n",
            "Epoch 38/100\n",
            "101/101 [==============================] - 5s 45ms/step - loss: 0.1495 - accuracy: 0.9411 - precision: 0.9887 - recall: 0.8506 - val_loss: 1.2505 - val_accuracy: 0.5368 - val_precision: 0.7308 - val_recall: 0.4857\n",
            "Epoch 39/100\n",
            "101/101 [==============================] - 4s 44ms/step - loss: 0.1401 - accuracy: 0.9465 - precision: 0.9893 - recall: 0.8609 - val_loss: 1.2585 - val_accuracy: 0.5367 - val_precision: 0.7227 - val_recall: 0.4895\n",
            "Epoch 40/100\n",
            "101/101 [==============================] - 4s 44ms/step - loss: 0.1289 - accuracy: 0.9518 - precision: 0.9907 - recall: 0.8741 - val_loss: 1.2661 - val_accuracy: 0.5366 - val_precision: 0.7215 - val_recall: 0.4878\n",
            "Epoch 41/100\n",
            "101/101 [==============================] - 4s 44ms/step - loss: 0.1188 - accuracy: 0.9565 - precision: 0.9913 - recall: 0.8860 - val_loss: 1.2721 - val_accuracy: 0.5356 - val_precision: 0.7184 - val_recall: 0.4902\n",
            "Epoch 42/100\n",
            "101/101 [==============================] - 4s 44ms/step - loss: 0.1086 - accuracy: 0.9626 - precision: 0.9924 - recall: 0.8998 - val_loss: 1.2819 - val_accuracy: 0.5336 - val_precision: 0.7172 - val_recall: 0.4910\n",
            "Epoch 43/100\n",
            "101/101 [==============================] - 5s 45ms/step - loss: 0.1008 - accuracy: 0.9660 - precision: 0.9933 - recall: 0.9079 - val_loss: 1.2920 - val_accuracy: 0.5342 - val_precision: 0.7113 - val_recall: 0.4926\n",
            "Epoch 44/100\n",
            "101/101 [==============================] - 5s 45ms/step - loss: 0.0925 - accuracy: 0.9701 - precision: 0.9933 - recall: 0.9173 - val_loss: 1.2955 - val_accuracy: 0.5365 - val_precision: 0.7068 - val_recall: 0.4973\n",
            "Epoch 45/100\n",
            "101/101 [==============================] - 4s 44ms/step - loss: 0.0856 - accuracy: 0.9729 - precision: 0.9938 - recall: 0.9251 - val_loss: 1.3010 - val_accuracy: 0.5366 - val_precision: 0.7077 - val_recall: 0.4957\n",
            "Epoch 46/100\n",
            "101/101 [==============================] - 4s 44ms/step - loss: 0.0786 - accuracy: 0.9760 - precision: 0.9948 - recall: 0.9323 - val_loss: 1.3109 - val_accuracy: 0.5366 - val_precision: 0.7053 - val_recall: 0.4952\n",
            "Epoch 47/100\n",
            "101/101 [==============================] - 4s 44ms/step - loss: 0.0716 - accuracy: 0.9794 - precision: 0.9951 - recall: 0.9409 - val_loss: 1.3209 - val_accuracy: 0.5354 - val_precision: 0.7023 - val_recall: 0.4970\n",
            "Epoch 48/100\n",
            "101/101 [==============================] - 4s 44ms/step - loss: 0.0655 - accuracy: 0.9813 - precision: 0.9953 - recall: 0.9462 - val_loss: 1.3306 - val_accuracy: 0.5312 - val_precision: 0.6970 - val_recall: 0.4937\n",
            "Epoch 49/100\n",
            "101/101 [==============================] - 4s 44ms/step - loss: 0.0609 - accuracy: 0.9833 - precision: 0.9956 - recall: 0.9507 - val_loss: 1.3316 - val_accuracy: 0.5365 - val_precision: 0.7008 - val_recall: 0.4987\n",
            "Epoch 50/100\n",
            "101/101 [==============================] - 4s 44ms/step - loss: 0.0564 - accuracy: 0.9847 - precision: 0.9957 - recall: 0.9547 - val_loss: 1.3425 - val_accuracy: 0.5325 - val_precision: 0.6981 - val_recall: 0.4977\n",
            "Epoch 51/100\n",
            "101/101 [==============================] - 5s 45ms/step - loss: 0.0517 - accuracy: 0.9868 - precision: 0.9958 - recall: 0.9599 - val_loss: 1.3503 - val_accuracy: 0.5328 - val_precision: 0.6919 - val_recall: 0.4993\n",
            "Epoch 52/100\n",
            "101/101 [==============================] - 4s 44ms/step - loss: 0.0475 - accuracy: 0.9878 - precision: 0.9963 - recall: 0.9628 - val_loss: 1.3541 - val_accuracy: 0.5324 - val_precision: 0.6916 - val_recall: 0.4963\n",
            "Epoch 53/100\n",
            "101/101 [==============================] - 4s 44ms/step - loss: 0.0428 - accuracy: 0.9895 - precision: 0.9968 - recall: 0.9681 - val_loss: 1.3657 - val_accuracy: 0.5333 - val_precision: 0.6863 - val_recall: 0.5018\n",
            "Epoch 54/100\n",
            "101/101 [==============================] - 4s 44ms/step - loss: 0.0394 - accuracy: 0.9908 - precision: 0.9965 - recall: 0.9705 - val_loss: 1.3709 - val_accuracy: 0.5272 - val_precision: 0.6870 - val_recall: 0.4968\n",
            "Epoch 55/100\n",
            "101/101 [==============================] - 4s 44ms/step - loss: 0.0368 - accuracy: 0.9915 - precision: 0.9965 - recall: 0.9735 - val_loss: 1.3775 - val_accuracy: 0.5316 - val_precision: 0.6843 - val_recall: 0.5021\n",
            "Epoch 56/100\n",
            "101/101 [==============================] - 4s 44ms/step - loss: 0.0331 - accuracy: 0.9926 - precision: 0.9968 - recall: 0.9758 - val_loss: 1.3848 - val_accuracy: 0.5324 - val_precision: 0.6753 - val_recall: 0.4990\n",
            "Epoch 57/100\n",
            "101/101 [==============================] - 4s 44ms/step - loss: 0.0310 - accuracy: 0.9932 - precision: 0.9964 - recall: 0.9784 - val_loss: 1.3975 - val_accuracy: 0.5291 - val_precision: 0.6743 - val_recall: 0.4998\n",
            "Epoch 58/100\n",
            "101/101 [==============================] - 5s 45ms/step - loss: 0.0282 - accuracy: 0.9941 - precision: 0.9971 - recall: 0.9808 - val_loss: 1.3995 - val_accuracy: 0.5308 - val_precision: 0.6760 - val_recall: 0.5020\n",
            "Epoch 59/100\n",
            "101/101 [==============================] - 4s 44ms/step - loss: 0.0262 - accuracy: 0.9942 - precision: 0.9969 - recall: 0.9823 - val_loss: 1.4012 - val_accuracy: 0.5296 - val_precision: 0.6738 - val_recall: 0.5019\n",
            "Epoch 60/100\n",
            "101/101 [==============================] - 4s 44ms/step - loss: 0.0244 - accuracy: 0.9947 - precision: 0.9967 - recall: 0.9841 - val_loss: 1.4127 - val_accuracy: 0.5296 - val_precision: 0.6675 - val_recall: 0.5041\n",
            "Epoch 61/100\n",
            "101/101 [==============================] - 4s 44ms/step - loss: 0.0223 - accuracy: 0.9953 - precision: 0.9970 - recall: 0.9859 - val_loss: 1.4135 - val_accuracy: 0.5308 - val_precision: 0.6694 - val_recall: 0.5033\n",
            "Epoch 62/100\n",
            "101/101 [==============================] - 5s 45ms/step - loss: 0.0211 - accuracy: 0.9955 - precision: 0.9970 - recall: 0.9875 - val_loss: 1.4221 - val_accuracy: 0.5314 - val_precision: 0.6684 - val_recall: 0.5055\n",
            "Epoch 63/100\n",
            "101/101 [==============================] - 5s 45ms/step - loss: 0.0197 - accuracy: 0.9960 - precision: 0.9971 - recall: 0.9883 - val_loss: 1.4290 - val_accuracy: 0.5324 - val_precision: 0.6640 - val_recall: 0.5054\n",
            "Epoch 64/100\n",
            "101/101 [==============================] - 5s 45ms/step - loss: 0.0190 - accuracy: 0.9957 - precision: 0.9968 - recall: 0.9890 - val_loss: 1.4327 - val_accuracy: 0.5283 - val_precision: 0.6635 - val_recall: 0.5030\n",
            "Epoch 65/100\n",
            "101/101 [==============================] - 4s 44ms/step - loss: 0.0183 - accuracy: 0.9958 - precision: 0.9970 - recall: 0.9891 - val_loss: 1.4399 - val_accuracy: 0.5336 - val_precision: 0.6627 - val_recall: 0.5057\n",
            "Epoch 66/100\n",
            "101/101 [==============================] - 4s 44ms/step - loss: 0.0162 - accuracy: 0.9963 - precision: 0.9970 - recall: 0.9913 - val_loss: 1.4410 - val_accuracy: 0.5324 - val_precision: 0.6610 - val_recall: 0.5072\n",
            "Epoch 67/100\n",
            "101/101 [==============================] - 4s 44ms/step - loss: 0.0157 - accuracy: 0.9964 - precision: 0.9970 - recall: 0.9918 - val_loss: 1.4407 - val_accuracy: 0.5323 - val_precision: 0.6599 - val_recall: 0.5101\n",
            "Epoch 68/100\n",
            "101/101 [==============================] - 4s 44ms/step - loss: 0.0147 - accuracy: 0.9968 - precision: 0.9974 - recall: 0.9920 - val_loss: 1.4550 - val_accuracy: 0.5291 - val_precision: 0.6549 - val_recall: 0.5046\n",
            "Epoch 69/100\n",
            "101/101 [==============================] - 4s 44ms/step - loss: 0.0143 - accuracy: 0.9965 - precision: 0.9970 - recall: 0.9925 - val_loss: 1.4578 - val_accuracy: 0.5320 - val_precision: 0.6581 - val_recall: 0.5098\n",
            "Epoch 70/100\n",
            "101/101 [==============================] - 4s 44ms/step - loss: 0.0144 - accuracy: 0.9962 - precision: 0.9968 - recall: 0.9926 - val_loss: 1.4583 - val_accuracy: 0.5315 - val_precision: 0.6550 - val_recall: 0.5101\n",
            "Epoch 71/100\n",
            "101/101 [==============================] - 4s 44ms/step - loss: 0.0130 - accuracy: 0.9964 - precision: 0.9969 - recall: 0.9932 - val_loss: 1.4726 - val_accuracy: 0.5316 - val_precision: 0.6503 - val_recall: 0.5106\n",
            "Epoch 72/100\n",
            "101/101 [==============================] - 4s 44ms/step - loss: 0.0118 - accuracy: 0.9969 - precision: 0.9973 - recall: 0.9950 - val_loss: 1.4710 - val_accuracy: 0.5318 - val_precision: 0.6474 - val_recall: 0.5103\n",
            "Epoch 73/100\n",
            "101/101 [==============================] - 4s 44ms/step - loss: 0.0115 - accuracy: 0.9970 - precision: 0.9973 - recall: 0.9953 - val_loss: 1.4733 - val_accuracy: 0.5342 - val_precision: 0.6527 - val_recall: 0.5126\n",
            "Epoch 74/100\n",
            "101/101 [==============================] - 4s 44ms/step - loss: 0.0108 - accuracy: 0.9971 - precision: 0.9975 - recall: 0.9956 - val_loss: 1.4873 - val_accuracy: 0.5330 - val_precision: 0.6464 - val_recall: 0.5106\n",
            "Epoch 75/100\n",
            "101/101 [==============================] - 4s 43ms/step - loss: 0.0102 - accuracy: 0.9971 - precision: 0.9973 - recall: 0.9957 - val_loss: 1.4812 - val_accuracy: 0.5342 - val_precision: 0.6512 - val_recall: 0.5139\n",
            "Epoch 76/100\n",
            "101/101 [==============================] - 4s 44ms/step - loss: 0.0099 - accuracy: 0.9970 - precision: 0.9972 - recall: 0.9960 - val_loss: 1.4931 - val_accuracy: 0.5337 - val_precision: 0.6482 - val_recall: 0.5136\n",
            "Epoch 77/100\n",
            "101/101 [==============================] - 4s 44ms/step - loss: 0.0106 - accuracy: 0.9964 - precision: 0.9968 - recall: 0.9952 - val_loss: 1.4960 - val_accuracy: 0.5322 - val_precision: 0.6455 - val_recall: 0.5108\n",
            "Epoch 78/100\n",
            "101/101 [==============================] - 4s 43ms/step - loss: 0.0105 - accuracy: 0.9966 - precision: 0.9969 - recall: 0.9955 - val_loss: 1.5067 - val_accuracy: 0.5306 - val_precision: 0.6425 - val_recall: 0.5116\n",
            "Epoch 79/100\n",
            "101/101 [==============================] - 4s 43ms/step - loss: 0.0093 - accuracy: 0.9971 - precision: 0.9973 - recall: 0.9966 - val_loss: 1.4972 - val_accuracy: 0.5330 - val_precision: 0.6450 - val_recall: 0.5106\n",
            "Epoch 80/100\n",
            "101/101 [==============================] - 4s 43ms/step - loss: 0.0093 - accuracy: 0.9968 - precision: 0.9973 - recall: 0.9961 - val_loss: 1.5003 - val_accuracy: 0.5340 - val_precision: 0.6472 - val_recall: 0.5146\n",
            "Epoch 81/100\n",
            "101/101 [==============================] - 4s 43ms/step - loss: 0.0092 - accuracy: 0.9966 - precision: 0.9968 - recall: 0.9960 - val_loss: 1.5022 - val_accuracy: 0.5338 - val_precision: 0.6444 - val_recall: 0.5125\n",
            "Epoch 82/100\n",
            "101/101 [==============================] - 4s 43ms/step - loss: 0.0089 - accuracy: 0.9969 - precision: 0.9972 - recall: 0.9962 - val_loss: 1.5128 - val_accuracy: 0.5332 - val_precision: 0.6395 - val_recall: 0.5149\n",
            "Epoch 83/100\n",
            "101/101 [==============================] - 4s 44ms/step - loss: 0.0085 - accuracy: 0.9967 - precision: 0.9969 - recall: 0.9964 - val_loss: 1.5141 - val_accuracy: 0.5362 - val_precision: 0.6465 - val_recall: 0.5165\n",
            "Epoch 84/100\n",
            "101/101 [==============================] - 4s 44ms/step - loss: 0.0079 - accuracy: 0.9972 - precision: 0.9975 - recall: 0.9969 - val_loss: 1.5178 - val_accuracy: 0.5330 - val_precision: 0.6436 - val_recall: 0.5154\n",
            "Epoch 85/100\n",
            "101/101 [==============================] - 4s 44ms/step - loss: 0.0076 - accuracy: 0.9971 - precision: 0.9972 - recall: 0.9970 - val_loss: 1.5258 - val_accuracy: 0.5373 - val_precision: 0.6415 - val_recall: 0.5185\n",
            "Epoch 86/100\n",
            "101/101 [==============================] - 4s 45ms/step - loss: 0.0081 - accuracy: 0.9966 - precision: 0.9967 - recall: 0.9963 - val_loss: 1.5339 - val_accuracy: 0.5326 - val_precision: 0.6418 - val_recall: 0.5154\n",
            "Epoch 87/100\n",
            "101/101 [==============================] - 4s 44ms/step - loss: 0.0081 - accuracy: 0.9967 - precision: 0.9968 - recall: 0.9964 - val_loss: 1.5307 - val_accuracy: 0.5357 - val_precision: 0.6396 - val_recall: 0.5174\n",
            "Epoch 88/100\n",
            "101/101 [==============================] - 4s 44ms/step - loss: 0.0075 - accuracy: 0.9969 - precision: 0.9970 - recall: 0.9967 - val_loss: 1.5280 - val_accuracy: 0.5363 - val_precision: 0.6409 - val_recall: 0.5191\n",
            "Epoch 89/100\n",
            "101/101 [==============================] - 4s 44ms/step - loss: 0.0076 - accuracy: 0.9967 - precision: 0.9967 - recall: 0.9965 - val_loss: 1.5340 - val_accuracy: 0.5363 - val_precision: 0.6398 - val_recall: 0.5191\n",
            "Epoch 90/100\n",
            "101/101 [==============================] - 4s 44ms/step - loss: 0.0075 - accuracy: 0.9966 - precision: 0.9968 - recall: 0.9965 - val_loss: 1.5308 - val_accuracy: 0.5401 - val_precision: 0.6408 - val_recall: 0.5225\n",
            "Epoch 91/100\n",
            "101/101 [==============================] - 4s 44ms/step - loss: 0.0069 - accuracy: 0.9969 - precision: 0.9970 - recall: 0.9967 - val_loss: 1.5488 - val_accuracy: 0.5392 - val_precision: 0.6372 - val_recall: 0.5226\n",
            "Epoch 92/100\n",
            "101/101 [==============================] - 4s 44ms/step - loss: 0.0071 - accuracy: 0.9969 - precision: 0.9971 - recall: 0.9968 - val_loss: 1.5549 - val_accuracy: 0.5342 - val_precision: 0.6371 - val_recall: 0.5189\n",
            "Epoch 93/100\n",
            "101/101 [==============================] - 4s 44ms/step - loss: 0.0074 - accuracy: 0.9963 - precision: 0.9966 - recall: 0.9959 - val_loss: 1.5511 - val_accuracy: 0.5340 - val_precision: 0.6337 - val_recall: 0.5181\n",
            "Epoch 94/100\n",
            "101/101 [==============================] - 4s 43ms/step - loss: 0.0071 - accuracy: 0.9965 - precision: 0.9968 - recall: 0.9964 - val_loss: 1.5504 - val_accuracy: 0.5355 - val_precision: 0.6360 - val_recall: 0.5179\n",
            "Epoch 95/100\n",
            "101/101 [==============================] - 4s 44ms/step - loss: 0.0078 - accuracy: 0.9961 - precision: 0.9964 - recall: 0.9958 - val_loss: 1.5525 - val_accuracy: 0.5384 - val_precision: 0.6376 - val_recall: 0.5226\n",
            "Epoch 96/100\n",
            "101/101 [==============================] - 4s 43ms/step - loss: 0.0071 - accuracy: 0.9969 - precision: 0.9970 - recall: 0.9967 - val_loss: 1.5637 - val_accuracy: 0.5358 - val_precision: 0.6360 - val_recall: 0.5215\n",
            "Epoch 97/100\n",
            "101/101 [==============================] - 4s 44ms/step - loss: 0.0066 - accuracy: 0.9968 - precision: 0.9969 - recall: 0.9967 - val_loss: 1.5611 - val_accuracy: 0.5386 - val_precision: 0.6345 - val_recall: 0.5226\n",
            "Epoch 98/100\n",
            "101/101 [==============================] - 4s 44ms/step - loss: 0.0065 - accuracy: 0.9968 - precision: 0.9968 - recall: 0.9967 - val_loss: 1.5719 - val_accuracy: 0.5368 - val_precision: 0.6309 - val_recall: 0.5222\n",
            "Epoch 99/100\n",
            "101/101 [==============================] - 4s 44ms/step - loss: 0.0064 - accuracy: 0.9968 - precision: 0.9969 - recall: 0.9967 - val_loss: 1.5686 - val_accuracy: 0.5365 - val_precision: 0.6353 - val_recall: 0.5224\n",
            "Epoch 100/100\n",
            "101/101 [==============================] - 4s 44ms/step - loss: 0.0061 - accuracy: 0.9967 - precision: 0.9968 - recall: 0.9967 - val_loss: 1.5738 - val_accuracy: 0.5346 - val_precision: 0.6315 - val_recall: 0.5213\n"
          ],
          "name": "stdout"
        },
        {
          "output_type": "execute_result",
          "data": {
            "text/plain": [
              "<tensorflow.python.keras.callbacks.History at 0x7f57a82f8588>"
            ]
          },
          "metadata": {
            "tags": []
          },
          "execution_count": 32
        }
      ]
    },
    {
      "cell_type": "code",
      "metadata": {
        "id": "7ajjUP_hstrS"
      },
      "source": [
        "model.save_weights('nmt_weights_0epochs.h5')"
      ],
      "execution_count": null,
      "outputs": []
    },
    {
      "cell_type": "code",
      "metadata": {
        "id": "t9r8wcK_strV"
      },
      "source": [
        "model.load_weights('nmt_weights_0epochs.h5')"
      ],
      "execution_count": null,
      "outputs": []
    },
    {
      "cell_type": "code",
      "metadata": {
        "id": "7tOD_nbCstrX"
      },
      "source": [
        "# Encode the input sequence to get the \"Context vectors\"\n",
        "encoder_model = Model(encoder_inputs, encoder_states)\n",
        "# Decoder setup\n",
        "# Below tensors will hold the states of the previous time step\n",
        "decoder_state_input_h = Input(shape=(latent_dim,))\n",
        "decoder_state_input_c = Input(shape=(latent_dim,))\n",
        "decoder_state_input = [decoder_state_input_h, decoder_state_input_c]\n",
        "# Get the embeddings of the decoder sequence\n",
        "dec_emb2= dec_emb_layer(decoder_inputs)\n",
        "# To predict the next word in the sequence, set the initial states to the states from the previous time step\n",
        "decoder_outputs2, state_h2, state_c2 = decoder_lstm(dec_emb2, initial_state=decoder_state_input)\n",
        "decoder_states2 = [state_h2, state_c2]\n",
        "# A dense softmax layer to generate prob dist. over the target vocabulary\n",
        "decoder_outputs2 = decoder_dense(decoder_outputs2)\n",
        "# Final decoder model\n",
        "decoder_model = Model(\n",
        "    [decoder_inputs] + decoder_state_input,\n",
        "    [decoder_outputs2] + decoder_states2)"
      ],
      "execution_count": null,
      "outputs": []
    },
    {
      "cell_type": "code",
      "metadata": {
        "id": "9JxPxjCYstrZ"
      },
      "source": [
        "def decode_sequence(input_seq):\n",
        "    # Encode the input as state vectors.\n",
        "    states_value = encoder_model.predict(input_seq)\n",
        "    # Generate empty target sequence of length 1.\n",
        "    target_seq = np.zeros((1,1))\n",
        "    # Populate the first character of \n",
        "    #target sequence with the start character.\n",
        "    target_seq[0, 0] = target_word2idx['START_']\n",
        "# Sampling loop for a batch of sequences\n",
        "    # (to simplify, here we assume a batch of size 1).\n",
        "    stop_condition = False\n",
        "    decoded_sentence = ''\n",
        "    while not stop_condition:\n",
        "        output_tokens, h, c = decoder_model.predict([target_seq] + states_value)\n",
        "# Sample a token\n",
        "        sampled_token_index = np.argmax(output_tokens[0, -1, :])\n",
        "        sampled_word =target_idx2word[sampled_token_index]\n",
        "        decoded_sentence += ' '+ sampled_word\n",
        "# Exit condition: either hit max length\n",
        "        # or find stop character.\n",
        "        if (sampled_word == '_END' or\n",
        "           len(decoded_sentence) > 110):\n",
        "            stop_condition = True\n",
        "# Update the target sequence (of length 1).\n",
        "        target_seq = np.zeros((1,1))\n",
        "        target_seq[0, 0] = sampled_token_index\n",
        "# Update states\n",
        "        states_value = [h, c]\n",
        "    return decoded_sentence"
      ],
      "execution_count": null,
      "outputs": []
    },
    {
      "cell_type": "code",
      "metadata": {
        "id": "VfFHzNiFstra"
      },
      "source": [
        "test_gen = generate_batch(X_test, y_test, batch_size = 1)\n",
        "i=-1"
      ],
      "execution_count": null,
      "outputs": []
    },
    {
      "cell_type": "code",
      "metadata": {
        "id": "2xQ5l26Dstrd",
        "outputId": "da7ea6e9-a14b-45c8-c59b-810f97748969",
        "colab": {
          "base_uri": "https://localhost:8080/",
          "height": 1000
        }
      },
      "source": [
        "#Make predictions on the test dataset\n",
        "i+= 1\n",
        "for k in range(i,i+40):\n",
        "    #print(\"\\n\",k)\n",
        "    (input_seq, actual_output), _ = next(test_gen)\n",
        "    decoded_sentence = decode_sequence(input_seq)\n",
        "    print('Input Source Question:', X_test[k:k+1].values[0],'?')\n",
        "    print('Actual Target Answer:', y_test[k:k+1].values[0][6:-4])\n",
        "    print('Predicted Target Answer:', decoded_sentence[:-4])\n",
        "    print(\"\\n\")"
      ],
      "execution_count": null,
      "outputs": [
        {
          "output_type": "stream",
          "text": [
            "Input Source Question: what are the treatments for todds paralysis ?\n",
            "Actual Target Answer:  individuals must rest as comfortably as possible until the paralysis disappears \n",
            "Predicted Target Answer:  diagnostic tests drug therapy surgery and rehabilitation \n",
            "\n",
            "\n",
            "Input Source Question: what are the genetic changes related to glutamate formiminotransferase deficiency ?\n",
            "Actual Target Answer:  mutations in the ftcd gene cause glutamate formiminotransferase deficiency \n",
            "Predicted Target Answer:  mutations in the abdomen gene cause that deficiency \n",
            "\n",
            "\n",
            "Input Source Question: what is are alpha reductase deficiency ?\n",
            "Actual Target Answer:  a condition that affects male sexual development before birth and during puberty \n",
            "Predicted Target Answer:  a condition that prevents the body from converting certain fats to energy \n",
            "\n",
            "\n",
            "Input Source Question: what is the outlook for zellweger syndrome ?\n",
            "Actual Target Answer:  loc syndrome is a disorder that leads to abnormalities of the voicebox finger and toenails and skin \n",
            "Predicted Target Answer:  most infants do not survive past the first months respiratory distress \n",
            "\n",
            "\n",
            "Input Source Question: what are the treatments for potassium aggravated myotonia ?\n",
            "Actual Target Answer:  diagnostic tests drug therapy surgery and rehabilitation genetic counseling palliative care \n",
            "Predicted Target Answer:  diagnostic tests drug therapy surgery and rehabilitation \n",
            "\n",
            "\n",
            "Input Source Question: what are the genetic changes related to spina bifida ?\n",
            "Actual Target Answer:  a complex condition that is likely caused by the interaction of multiple genetic and environmental factors \n",
            "Predicted Target Answer:  a condition in which the neck gene characterized by the many of that can cause it that can identified \n",
            "\n",
            "\n",
            "Input Source Question: what is are alpha hydroxylase lyase deficiency ?\n",
            "Actual Target Answer:  a condition that affects the function of certain hormone producing glands called the gonad and the adrenal glands \n",
            "Predicted Target Answer:  an inherited disorder that affects the development of the brain and other parts of the body \n",
            "\n",
            "\n",
            "Input Source Question: how many people are affected by ulcerative colitis ?\n",
            "Actual Target Answer:  ulcerative colitis is most common in north america and western europe \n",
            "Predicted Target Answer:  the exact incidence of transthyretin amyloidosis is unknown \n",
            "\n",
            "\n",
            "Input Source Question: what are the genetic changes related to juvenile myoclonic epilepsy ?\n",
            "Actual Target Answer:  the genetics of juvenile myoclonic epilepsy are complex and not completely understood \n",
            "Predicted Target Answer:  juvenile myoclonic epilepsy is a condition caused by mutations in the x linked recessive pattern \n",
            "\n",
            "\n",
            "Input Source Question: what is are spinocerebellar ataxia type ?\n",
            "Actual Target Answer:  a condition characterized by progressive problems with movement that typically begin in mid adulthood \n",
            "Predicted Target Answer:  a condition characterized by progressive problems with movement \n",
            "\n",
            "\n",
            "Input Source Question: what is are nonsyndromic paraganglioma ?\n",
            "Actual Target Answer:  a type of noncancerous tumor that occurs in structures called paraganglia \n",
            "Predicted Target Answer:  a condition that affects the digestive system \n",
            "\n",
            "\n",
            "Input Source Question: what are the genetic changes related to lactate dehydrogenase deficiency ?\n",
            "Actual Target Answer:  mutations in the ldha gene cause lactate dehydrogenase a deficiency \n",
            "Predicted Target Answer:  mutations in the group of genetic and environmental factors \n",
            "\n",
            "\n",
            "Input Source Question: what are the genetic changes related to isolated duane retraction syndrome ?\n",
            "Actual Target Answer:  in most people with isolated duane retraction syndrome the cause of the condition is unknown \n",
            "Predicted Target Answer:  kbg syndrome is caused by mutations in the the symptoms gene cause \n",
            "\n",
            "\n",
            "Input Source Question: how many people are affected by mpv related hepatocerebral mitochondrial dna depletion syndrome ?\n",
            "Actual Target Answer:  thought to be a rare condition \n",
            "Predicted Target Answer:  the prevalence of tk syndrome is unknown \n",
            "\n",
            "\n",
            "Input Source Question: what are the treatments for beta hydroxysteroid dehydrogenase deficiency ?\n",
            "Actual Target Answer:  diagnostic tests drug therapy surgery and rehabilitation genetic counseling \n",
            "Predicted Target Answer:  diagnostic tests drug therapy surgery and rehabilitation genetic counseling \n",
            "\n",
            "\n",
            "Input Source Question: what research or clinical trials is being done for opsoclonus myoclonus ?\n",
            "Actual Target Answer:  the ninds supports and conducts research on movement disorders such as opsoclonus myoclonus \n",
            "Predicted Target Answer:  the ninds conducts and supports a broad program of basic and clinical research on dravet syndrome \n",
            "\n",
            "\n",
            "Input Source Question: what is are north american indian childhood cirrhosis ?\n",
            "Actual Target Answer:  north american indian childhood cirrhosis is a rare liver disorder that occurs in children \n",
            "Predicted Target Answer:  an inherited disorder in which excessive amounts of the element manganese accumulate in the body \n",
            "\n",
            "\n",
            "Input Source Question: what are the treatments for mycosis fungoides and the szary syndrome ?\n",
            "Actual Target Answer:  photodynamic therapy radiation therapy biologic therapy \n",
            "Predicted Target Answer:  surgery chemotherapy radiation therapy \n",
            "\n",
            "\n",
            "Input Source Question: what are the genetic changes related to laron syndrome ?\n",
            "Actual Target Answer:  laron syndrome is caused by mutations in the ghr gene \n",
            "Predicted Target Answer:  a condition caused by mutations in the vldlr gene \n",
            "\n",
            "\n",
            "Input Source Question: what are the symptoms of intraocular melanoma ?\n",
            "Actual Target Answer:  blurred vision dark spot loss of peripheral vision \n",
            "Predicted Target Answer:  swelling and pain in the abdomen fever \n",
            "\n",
            "\n",
            "Input Source Question: is mitochondrial encephalomyopathy lactic acidosis and stroke like episodes inherited ?\n",
            "Actual Target Answer:  this condition is inherited as maternal inheritance \n",
            "Predicted Target Answer:  this condition is inherited in an autosomal recessive pattern \n",
            "\n",
            "\n",
            "Input Source Question: what is non small cell lung cancer ?\n",
            "Actual Target Answer:  non small cell lung cancer is the most common type of lung cancer \n",
            "Predicted Target Answer:  a disease in which cancer cells form in the tissues of the dominant \n",
            "\n",
            "\n",
            "Input Source Question: how many people are affected by succinyl coa ketoacid coa transferase deficiency ?\n",
            "Actual Target Answer:  more than cases of this condition have been reported in the scientific literature \n",
            "Predicted Target Answer:  it has been reported in only a small number of people worldwide \n",
            "\n",
            "\n",
            "Input Source Question: how many people are affected by succinate coa ligase deficiency ?\n",
            "Actual Target Answer:  although the exact prevalence of succinate coa ligase deficiency is unknown it appears to be very rare \n",
            "Predicted Target Answer:  only a few affected families have been reported in the scientific literature \n",
            "\n",
            "\n",
            "Input Source Question: how many people are affected by senior lken syndrome ?\n",
            "Actual Target Answer:  senior lken syndrome is a rare disorder \n",
            "Predicted Target Answer:  the estimated incidence of jacobsen syndrome is in newborns \n",
            "\n",
            "\n",
            "Input Source Question: what is mycosis fungoides and the szary syndrome ?\n",
            "Actual Target Answer:  a disease in which lymphocytes affect the skin \n",
            "Predicted Target Answer:  a neurological disorders caused by inflammation of inflammation or at the nervous system \n",
            "\n",
            "\n",
            "Input Source Question: what are the genetic changes related to von willebrand disease ?\n",
            "Actual Target Answer:  mutations in the vwf gene cause von willebrand disease \n",
            "Predicted Target Answer:  mutations in the disease gene cause alexander disease \n",
            "\n",
            "\n",
            "Input Source Question: what is are q minus syndrome ?\n",
            "Actual Target Answer:  a type of bone marrow disorder called myelodysplastic syndrome \n",
            "Predicted Target Answer:  severe neurological disorders is characterized by an extra copy of the y chromosome in each of the body \n",
            "\n",
            "\n",
            "Input Source Question: how many people are affected by short chain acyl coa dehydrogenase deficiency ?\n",
            "Actual Target Answer:  this disorder is thought to affect approximately in to newborns \n",
            "Predicted Target Answer:  this condition is likely a rare disorder in which is estimated to affect in to individuals \n",
            "\n",
            "\n",
            "Input Source Question: what is are juvenile batten disease ?\n",
            "Actual Target Answer:  juvenile batten disease is an inherited disorder that primarily affects the nervous system \n",
            "Predicted Target Answer:  juvenile myoclonic epilepsy is a condition characterized by recurrent seizures \n",
            "\n",
            "\n",
            "Input Source Question: what are the genetic changes related to galactosemia ?\n",
            "Actual Target Answer:  mutations in the galt galk and gale genes cause galactosemia \n",
            "Predicted Target Answer:  mutations in the galt galk and gale genes cause galactosemia \n",
            "\n",
            "\n",
            "Input Source Question: what is are spinal muscular atrophy with respiratory distress type ?\n",
            "Actual Target Answer:  an inherited condition that causes muscle weakness and respiratory failure typically beginning in infancy \n",
            "Predicted Target Answer:  a condition that affects the bodys ability to break down fats \n",
            "\n",
            "\n",
            "Input Source Question: what is the outlook for encephalopathy ?\n",
            "Actual Target Answer:  encephalopathy may cause permanent structural changes and irreversible damage to the brain \n",
            "Predicted Target Answer:  the prognosis for individuals with colpocephaly \n",
            "\n",
            "\n",
            "Input Source Question: what are the genetic changes related to moebius syndrome ?\n",
            "Actual Target Answer:  the causes of moebius syndrome are unknown \n",
            "Predicted Target Answer:  mutations in the sry gene have been identified in approximately percent of individuals with swyer syndrome \n",
            "\n",
            "\n",
            "Input Source Question: is glut deficiency syndrome inherited ?\n",
            "Actual Target Answer:  this condition is usually inherited in an autosomal dominant pattern \n",
            "Predicted Target Answer:  approximately percent of cases of the blood cells are inherited in an autosomal recessive pattern \n",
            "\n",
            "\n",
            "Input Source Question: what is are lennox gastaut syndrome ?\n",
            "Actual Target Answer:  diagnostic tests drug therapy surgery and rehabilitation genetic counseling palliative care \n",
            "Predicted Target Answer:  severe or small genes syndrome is a rare condition \n",
            "\n",
            "\n",
            "Input Source Question: what are the genetic changes related to nemaline myopathy ?\n",
            "Actual Target Answer:  mutations in one of many genes can cause nemaline myopathy \n",
            "Predicted Target Answer:  a condition that results from the skin and eye \n",
            "\n",
            "\n",
            "Input Source Question: what is the outlook for tethered spinal cord syndrome ?\n",
            "Actual Target Answer:  with treatment individuals with tethered spinal cord syndrome have a normal life expectancy \n",
            "Predicted Target Answer:  some people have only a progressive history of the immune system \n",
            "\n",
            "\n",
            "Input Source Question: what are the treatments for lafora progressive myoclonus epilepsy ?\n",
            "Actual Target Answer:  diagnostic tests drug therapy surgery and rehabilitation genetic counseling palliative care \n",
            "Predicted Target Answer:  diagnostic tests drug therapy surgery and rehabilitation genetic counseling palliative care \n",
            "\n",
            "\n",
            "Input Source Question: what are the treatments for nasopharyngeal cancer ?\n",
            "Actual Target Answer:  radiation therapy chemotherapy surgery \n",
            "Predicted Target Answer:  surgery radiation therapy chemotherapy biologic therapy \n",
            "\n",
            "\n"
          ],
          "name": "stdout"
        }
      ]
    },
    {
      "cell_type": "code",
      "metadata": {
        "id": "Pb_DFSp1iTRN"
      },
      "source": [
        "#Make predictions on the train dataset\n",
        "\n",
        "train_gen = generate_batch(X_train, y_train, batch_size = 1)\n",
        "x=-1"
      ],
      "execution_count": null,
      "outputs": []
    },
    {
      "cell_type": "code",
      "metadata": {
        "id": "wqzYkycev2Oy",
        "outputId": "2ec7c29f-8e16-4421-9ca1-dfe5d6b819f9",
        "colab": {
          "base_uri": "https://localhost:8080/",
          "height": 1000
        }
      },
      "source": [
        "x+=1\n",
        "for j in range(x,x+40):\n",
        "    (input_seq, actual_output), _ = next(train_gen)\n",
        "    decoded_sentence = decode_sequence(input_seq)\n",
        "    print('Input Source Question:', X_train[j:j+1].values[0],'?')\n",
        "    print('Actual Target Answer:', y_train[j:j+1].values[0][6:-4])\n",
        "    print('Predicted Target Answer:', decoded_sentence[:-4])\n",
        "    print(\"\\n\")"
      ],
      "execution_count": null,
      "outputs": [
        {
          "output_type": "stream",
          "text": [
            "Input Source Question: how many people are affected by intrauterine growth restriction metaphyseal dysplasia adrenal hypoplasia congenita and genital anomalies ?\n",
            "Actual Target Answer:  image syndrome is very rare with only about cases reported in the medical literature \n",
            "Predicted Target Answer:  image syndrome is very rare with only about cases reported in the medical literature \n",
            "\n",
            "\n",
            "Input Source Question: how many people are affected by langer mesomelic dysplasia ?\n",
            "Actual Target Answer:  the prevalence of langer mesomelic dysplasia is unknown \n",
            "Predicted Target Answer:  the prevalence of langer mesomelic dysplasia is unknown \n",
            "\n",
            "\n",
            "Input Source Question: what is are guanidinoacetate methyltransferase deficiency ?\n",
            "Actual Target Answer:  an inherited disorder that primarily affects the brain and muscles \n",
            "Predicted Target Answer:  an inherited disorder that primarily affects the brain and muscles \n",
            "\n",
            "\n",
            "Input Source Question: how many people are affected by laing distal myopathy ?\n",
            "Actual Target Answer:  although laing distal myopathy is thought to be rare \n",
            "Predicted Target Answer:  although laing distal myopathy is thought to be rare \n",
            "\n",
            "\n",
            "Input Source Question: is spina bifida inherited ?\n",
            "Actual Target Answer:  most cases of spina bifida occur in people with no history of the disorder in their family \n",
            "Predicted Target Answer:  most cases of spina bifida occur in people with no history of the disorder in their family \n",
            "\n",
            "\n",
            "Input Source Question: what are the genetic changes related to hereditary hemorrhagic telangiectasia ?\n",
            "Actual Target Answer:  mutations in the acvrl eng and smad genes cause hereditary hemorrhagic telangiectasia \n",
            "Predicted Target Answer:  mutations in the acvrl eng and smad genes cause hereditary hemorrhagic telangiectasia \n",
            "\n",
            "\n",
            "Input Source Question: what is are mandibulofacial dysostosis with microcephaly ?\n",
            "Actual Target Answer:  a disorder that causes abnormalities of the head and face \n",
            "Predicted Target Answer:  a disorder that causes abnormalities of the head and face \n",
            "\n",
            "\n",
            "Input Source Question: is intrauterine growth restriction metaphyseal dysplasia adrenal hypoplasia congenita and genital anomalies inherited ?\n",
            "Actual Target Answer:  the inheritance of image syndrome is complex \n",
            "Predicted Target Answer:  the inheritance of image syndrome is complex \n",
            "\n",
            "\n",
            "Input Source Question: what are the genetic changes related to hystrix like ichthyosis with deafness ?\n",
            "Actual Target Answer:  hid is caused by mutations in the gjb gene \n",
            "Predicted Target Answer:  hid is caused by mutations in the gjb gene \n",
            "\n",
            "\n",
            "Input Source Question: what are the treatments for peters plus syndrome ?\n",
            "Actual Target Answer:  diagnostic tests drug therapy surgery and rehabilitation genetic counseling palliative care \n",
            "Predicted Target Answer:  diagnostic tests drug therapy surgery and rehabilitation genetic counseling palliative care \n",
            "\n",
            "\n",
            "Input Source Question: what research is being done for nasopharyngeal cancer ?\n",
            "Actual Target Answer:  researchers continue to develop new chemo drugs that might be more effective against advanced npc \n",
            "Predicted Target Answer:  researchers continue to develop new chemo drugs that might be more effective against advanced npc \n",
            "\n",
            "\n",
            "Input Source Question: what are the treatments for corticobasal degeneration ?\n",
            "Actual Target Answer:  clonazepam may help the myoclonus \n",
            "Predicted Target Answer:  clonazepam may help the myoclonus \n",
            "\n",
            "\n",
            "Input Source Question: what is are hystrix like ichthyosis with deafness ?\n",
            "Actual Target Answer:  a disorder characterized by dry scaly skin and hearing loss that is usually profound \n",
            "Predicted Target Answer:  a disorder characterized by dry scaly skin and hearing loss that is usually profound \n",
            "\n",
            "\n",
            "Input Source Question: what are the genetic changes related to maffucci syndrome ?\n",
            "Actual Target Answer:  the disorder is caused by mutations in the idh or idh gene \n",
            "Predicted Target Answer:  the disorder is caused by mutations in the idh or idh gene \n",
            "\n",
            "\n",
            "Input Source Question: is lysinuric protein intolerance inherited ?\n",
            "Actual Target Answer:  this condition is inherited in an autosomal recessive pattern \n",
            "Predicted Target Answer:  this condition is inherited in an autosomal recessive pattern \n",
            "\n",
            "\n",
            "Input Source Question: what are the symptoms of metastatic squamous neck cancer with occult primary ?\n",
            "Actual Target Answer:  a lump or pain in the neck or throat \n",
            "Predicted Target Answer:  a lump or pain in the neck or throat \n",
            "\n",
            "\n",
            "Input Source Question: what is the risk for childhood craniopharyngioma ?\n",
            "Actual Target Answer:  there are no known risk factors for childhood craniopharyngioma \n",
            "Predicted Target Answer:  there are no known risk factors for childhood craniopharyngioma \n",
            "\n",
            "\n",
            "Input Source Question: what are the genetic changes related to hirschsprung disease ?\n",
            "Actual Target Answer:  it can result from mutations in one of several genes including the ret ednrb and edn genes \n",
            "Predicted Target Answer:  it can result from mutations in one of several genes including the ret ednrb and edn genes \n",
            "\n",
            "\n",
            "Input Source Question: what is are langer mesomelic dysplasia ?\n",
            "Actual Target Answer:  langer mesomelic dysplasia is a disorder of bone growth \n",
            "Predicted Target Answer:  langer mesomelic dysplasia is a disorder of bone growth \n",
            "\n",
            "\n",
            "Input Source Question: how many people are affected by late infantile neuronal ceroid lipofuscinosis ?\n",
            "Actual Target Answer:  mutations in the tpp gene cause most cases of late infantile ncl \n",
            "Predicted Target Answer:  mutations in the tpp gene cause most cases of late infantile ncl \n",
            "\n",
            "\n",
            "Input Source Question: how many people are affected by spastic paraplegia type ?\n",
            "Actual Target Answer:  over cases of spastic paraplegia type have been reported \n",
            "Predicted Target Answer:  over cases of spastic paraplegia type have been reported \n",
            "\n",
            "\n",
            "Input Source Question: how many people are affected by polycystic lipomembranous osteodysplasia with sclerosing leukoencephalopathy ?\n",
            "Actual Target Answer:  plosl is a very rare condition \n",
            "Predicted Target Answer:  plosl is a very rare condition \n",
            "\n",
            "\n",
            "Input Source Question: is inherited thyroxine binding globulin deficiency inherited ?\n",
            "Actual Target Answer:  inherited thyroxine binding globulin deficiency has an x linked pattern of inheritance \n",
            "Predicted Target Answer:  inherited thyroxine binding globulin deficiency has an x linked pattern of inheritance \n",
            "\n",
            "\n",
            "Input Source Question: is x linked intellectual disability siderius type inherited ?\n",
            "Actual Target Answer:  this condition is inherited in an x linked recessive pattern \n",
            "Predicted Target Answer:  this condition is inherited in an x linked recessive pattern \n",
            "\n",
            "\n",
            "Input Source Question: what are the genetic changes related to fumarase deficiency ?\n",
            "Actual Target Answer:  the fh gene provides instructions for making an enzyme called fumarase \n",
            "Predicted Target Answer:  the fh gene provides instructions for making an enzyme called fumarase \n",
            "\n",
            "\n",
            "Input Source Question: what are the symptoms of prostate cancer ?\n",
            "Actual Target Answer:  inability to urinate weak or interrupted flow of urine painful or burning urination \n",
            "Predicted Target Answer:  inability to urinate weak or interrupted flow of urine painful or burning urination \n",
            "\n",
            "\n",
            "Input Source Question: what are the genetic changes related to naegeli franceschetti jadassohn syndrome dermatopathia pigmentosa reticularis ?\n",
            "Actual Target Answer:  nfjs dpr results from mutations in the krt gene \n",
            "Predicted Target Answer:  nfjs dpr results from mutations in the krt gene \n",
            "\n",
            "\n",
            "Input Source Question: what research or clinical trials is being done for coffin lowry syndrome ?\n",
            "Actual Target Answer:  the ninds supports and conducts research coffin lowry syndrome \n",
            "Predicted Target Answer:  the ninds supports and conducts research coffin lowry syndrome \n",
            "\n",
            "\n",
            "Input Source Question: what are the treatments for kleefstra syndrome ?\n",
            "Actual Target Answer:  diagnostic tests drug therapy surgery and rehabilitation genetic counseling palliative care \n",
            "Predicted Target Answer:  diagnostic tests drug therapy surgery and rehabilitation genetic counseling palliative care \n",
            "\n",
            "\n",
            "Input Source Question: what is are kawasaki disease ?\n",
            "Actual Target Answer:  kawasaki disease is a sudden and time limited illness that affects infants and young children \n",
            "Predicted Target Answer:  kawasaki disease is a sudden and time limited illness that affects infants and young children \n",
            "\n",
            "\n",
            "Input Source Question: is waardenburg syndrome inherited ?\n",
            "Actual Target Answer:  waardenburg syndrome is usually inherited in an autosomal dominant pattern \n",
            "Predicted Target Answer:  waardenburg syndrome is usually inherited in an autosomal dominant pattern \n",
            "\n",
            "\n",
            "Input Source Question: what is are achromatopsia ?\n",
            "Actual Target Answer:  achromatopsia is a condition characterized by a partial or total absence of color vision \n",
            "Predicted Target Answer:  achromatopsia is a condition characterized by a partial or total absence of color vision \n",
            "\n",
            "\n",
            "Input Source Question: how many people are affected by galactosemia ?\n",
            "Actual Target Answer:  classic galactosemia occurs in in to newborns \n",
            "Predicted Target Answer:  classic galactosemia occurs in in to newborns \n",
            "\n",
            "\n",
            "Input Source Question: what is are gorlin syndrome ?\n",
            "Actual Target Answer:  a condition that affects many areas of the body and increases the risk of developing various tumors \n",
            "Predicted Target Answer:  a condition that affects many areas of the body and increases the risk of developing various tumors \n",
            "\n",
            "\n",
            "Input Source Question: what is are pitt hopkins syndrome ?\n",
            "Actual Target Answer:  characterized by intellectual disability and developmental delay breathing problems recurrent seizures \n",
            "Predicted Target Answer:  characterized by intellectual disability and developmental delay breathing problems recurrent seizures \n",
            "\n",
            "\n",
            "Input Source Question: is nonsyndromic aplasia cutis congenita inherited ?\n",
            "Actual Target Answer:  no history of the disorder in their family \n",
            "Predicted Target Answer:  no history of the disorder in their family \n",
            "\n",
            "\n",
            "Input Source Question: how many people are affected by isolated lissencephaly sequence ?\n",
            "Actual Target Answer:  ils affects approximately in newborns \n",
            "Predicted Target Answer:  ils affects approximately in newborns \n",
            "\n",
            "\n",
            "Input Source Question: what are the genetic changes related to age related macular degeneration ?\n",
            "Actual Target Answer:  results from a combination of genetic and environmental factors \n",
            "Predicted Target Answer:  results from a combination of genetic and environmental factors \n",
            "\n",
            "\n",
            "Input Source Question: how many people are affected by grn related frontotemporal dementia ?\n",
            "Actual Target Answer:  grn related frontotemporal dementia affects an estimated to per people aged to \n",
            "Predicted Target Answer:  grn related frontotemporal dementia affects an estimated to per people aged to \n",
            "\n",
            "\n",
            "Input Source Question: what are the treatments for mucopolysaccharidosis type iv ?\n",
            "Actual Target Answer:  diagnostic tests drug therapy surgery and rehabilitation \n",
            "Predicted Target Answer:  diagnostic tests drug therapy surgery and rehabilitation \n",
            "\n",
            "\n"
          ],
          "name": "stdout"
        }
      ]
    }
  ]
}
