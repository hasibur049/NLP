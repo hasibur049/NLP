{
  "nbformat": 4,
  "nbformat_minor": 0,
  "metadata": {
    "colab": {
      "name": "complex_type_QA",
      "provenance": [],
      "collapsed_sections": [],
      "mount_file_id": "1Re6R1rM-yL9X76tUPOv3roi7wOwc8264",
      "authorship_tag": "ABX9TyMLRLh0jertFLxtrerYbxZl",
      "include_colab_link": true
    },
    "kernelspec": {
      "name": "python3",
      "display_name": "Python 3"
    }
  },
  "cells": [
    {
      "cell_type": "markdown",
      "metadata": {
        "id": "view-in-github",
        "colab_type": "text"
      },
      "source": [
        "<a href=\"https://colab.research.google.com/github/hasiburrahman1/NLP/blob/master/complex_type_QA.ipynb\" target=\"_parent\"><img src=\"https://colab.research.google.com/assets/colab-badge.svg\" alt=\"Open In Colab\"/></a>"
      ]
    },
    {
      "cell_type": "code",
      "metadata": {
        "id": "4EIq8vUx7Xyh",
        "colab_type": "code",
        "colab": {
          "base_uri": "https://localhost:8080/",
          "height": 34
        },
        "outputId": "6901c0c9-db55-4976-f390-41541919f545"
      },
      "source": [
        "from google.colab import drive\n",
        "drive.mount('/content/drive')"
      ],
      "execution_count": null,
      "outputs": [
        {
          "output_type": "stream",
          "text": [
            "Drive already mounted at /content/drive; to attempt to forcibly remount, call drive.mount(\"/content/drive\", force_remount=True).\n"
          ],
          "name": "stdout"
        }
      ]
    },
    {
      "cell_type": "code",
      "metadata": {
        "id": "zESkDF3bbokn",
        "colab_type": "code",
        "colab": {}
      },
      "source": [
        "import numpy as np \n",
        "import pandas as pd \n",
        "import os\n",
        "import re\n",
        "import matplotlib.pyplot as plt\n",
        "import xml.etree.ElementTree as et \n",
        "from tensorflow.python.keras.preprocessing.text import Tokenizer\n",
        "from tensorflow.python.keras.preprocessing.sequence import pad_sequences\n",
        "from keras.models import Sequential\n",
        "from keras.layers import Dense, Activation, Embedding, SimpleRNN, GRU, LSTM, Bidirectional, Dropout, Input, Conv2D, MaxPool2D\n",
        "from keras.layers.embeddings import Embedding\n",
        "from keras.initializers import Constant\n",
        "from keras.callbacks import ModelCheckpoint\n",
        "from keras.models import load_model\n",
        "from keras.layers import Reshape, Flatten, Dropout, Concatenate\n",
        "from keras.optimizers import Adam\n",
        "from keras.models import Model\n",
        "from keras.layers.convolutional import Conv1D\n",
        "from keras.layers import Conv1D, Dense, MaxPool1D, Flatten, Input, GlobalMaxPooling1D"
      ],
      "execution_count": null,
      "outputs": []
    },
    {
      "cell_type": "code",
      "metadata": {
        "id": "HJaUPyNVczAF",
        "colab_type": "code",
        "colab": {}
      },
      "source": [
        "from __future__ import absolute_import, division, print_function, unicode_literals\n",
        "\n",
        "import matplotlib.pyplot as plt\n",
        "import matplotlib.ticker as ticker\n",
        "from sklearn.model_selection import train_test_split\n",
        "import tensorflow as tf\n",
        "import collections\n",
        "import unicodedata\n",
        "import re\n",
        "import numpy as np\n",
        "import os\n",
        "import io\n",
        "import time\n",
        "import xlrd\n",
        "import csv"
      ],
      "execution_count": null,
      "outputs": []
    },
    {
      "cell_type": "code",
      "metadata": {
        "id": "VNe1S5OIb5ig",
        "colab_type": "code",
        "colab": {
          "base_uri": "https://localhost:8080/",
          "height": 34
        },
        "outputId": "35bde7ec-9d66-442a-eb20-47cb7d61ecf1"
      },
      "source": [
        "from google.colab import drive\n",
        "drive.mount('/content/drive')"
      ],
      "execution_count": null,
      "outputs": [
        {
          "output_type": "stream",
          "text": [
            "Drive already mounted at /content/drive; to attempt to forcibly remount, call drive.mount(\"/content/drive\", force_remount=True).\n"
          ],
          "name": "stdout"
        }
      ]
    },
    {
      "cell_type": "code",
      "metadata": {
        "id": "YDEotyU0eK1V",
        "colab_type": "code",
        "colab": {
          "base_uri": "https://localhost:8080/",
          "height": 35
        },
        "outputId": "0ebc0aee-abdb-4823-87b9-f2355376f38f"
      },
      "source": [
        "'''\n",
        "cols_to_use = ['Question', 'Answer'] # or [0,1,2,3]\n",
        "df = pd.read_csv('data.csv', usecols= cols_to_use)\n",
        "'''"
      ],
      "execution_count": null,
      "outputs": [
        {
          "output_type": "execute_result",
          "data": {
            "application/vnd.google.colaboratory.intrinsic": {
              "type": "string"
            },
            "text/plain": [
              "\"\\ncols_to_use = ['Question', 'Answer'] # or [0,1,2,3]\\ndf = pd.read_csv('data.csv', usecols= cols_to_use)\\n\""
            ]
          },
          "metadata": {
            "tags": []
          },
          "execution_count": 98
        }
      ]
    },
    {
      "cell_type": "code",
      "metadata": {
        "id": "PippEx4sk81E",
        "colab_type": "code",
        "colab": {
          "base_uri": "https://localhost:8080/",
          "height": 71
        },
        "outputId": "f69e0c3c-885f-4387-9572-fe2ac27a1c86"
      },
      "source": [
        "'''\n",
        "mport pandas\n",
        "df = pandas.read_excel(r\"/test.xlsx\")\n",
        "df = df.drop('label', 1)\n",
        "#print the column names\n",
        "print(df.columns)\n",
        "\n",
        "#get the values for a given column\n",
        "#values = df['collumn_name'].values\n",
        "\n",
        "#get a data frame with selected columns\n",
        "FORMAT = ['Question', 'Answer']\n",
        "df_selected = df[FORMAT]\n",
        "\n",
        "\n",
        "df.to_csv('dataset_csv.csv')\n",
        "!cp dataset_csv.csv \"drive/My Drive/\"\n",
        "\n",
        "df.describe()\n",
        "'''"
      ],
      "execution_count": null,
      "outputs": [
        {
          "output_type": "execute_result",
          "data": {
            "application/vnd.google.colaboratory.intrinsic": {
              "type": "string"
            },
            "text/plain": [
              "'\\nmport pandas\\ndf = pandas.read_excel(r\"/test.xlsx\")\\ndf = df.drop(\\'label\\', 1)\\n#print the column names\\nprint(df.columns)\\n\\n#get the values for a given column\\n#values = df[\\'collumn_name\\'].values\\n\\n#get a data frame with selected columns\\nFORMAT = [\\'Question\\', \\'Answer\\']\\ndf_selected = df[FORMAT]\\n\\n\\ndf.to_csv(\\'dataset_csv.csv\\')\\n!cp dataset_csv.csv \"drive/My Drive/\"\\n\\ndf.describe()\\n'"
            ]
          },
          "metadata": {
            "tags": []
          },
          "execution_count": 99
        }
      ]
    },
    {
      "cell_type": "markdown",
      "metadata": {
        "id": "BClueJRP0GrD",
        "colab_type": "text"
      },
      "source": [
        "---------------------------**Start**-------------------------------------------------------------------------------------------------------------------------------------"
      ]
    },
    {
      "cell_type": "code",
      "metadata": {
        "id": "ArvtQm2Ar4ER",
        "colab_type": "code",
        "colab": {}
      },
      "source": [
        "# dataset path\n",
        "#path_to_file = \"/datasetCleaned.txt\"\n",
        "path_to_file = \"/content/drive/My Drive/Colab Notebooks/dataset/test_Text_Document.txt\""
      ],
      "execution_count": null,
      "outputs": []
    },
    {
      "cell_type": "code",
      "metadata": {
        "id": "4zxeGMUjieLv",
        "colab_type": "code",
        "colab": {}
      },
      "source": [
        ""
      ],
      "execution_count": null,
      "outputs": []
    },
    {
      "cell_type": "code",
      "metadata": {
        "id": "PhJ9kSaxz9ej",
        "colab_type": "code",
        "colab": {}
      },
      "source": [
        "def preprocess_sentence(w):\n",
        "#     remove punctuations from lines\n",
        "    w = re.sub(r\"([?.!,¿।])\", r\" \\1 \", w)\n",
        "    w = re.sub(r'[\" \"]+', \" \", w)\n",
        "    \n",
        "    w = w.rstrip().strip()\n",
        "    #print(w)\n",
        "    # adding a start and an end token to the sentence\n",
        "    # so that the model know when to start and stop predicting.\n",
        "    w = '<start> ' + w + ' <end>'\n",
        "    #print(w)\n",
        "    return w"
      ],
      "execution_count": null,
      "outputs": []
    },
    {
      "cell_type": "code",
      "metadata": {
        "id": "JBJnP9_Az42-",
        "colab_type": "code",
        "colab": {}
      },
      "source": [
        "def vocabularyCounter(dataQuestion, dataAnswer):\n",
        "    # setup Vocabulary \n",
        "    question_words = collections.Counter([word for sentence in dataQuestion for word in sentence.split()])\n",
        "    answer_words = collections.Counter([word for sentence in dataAnswer for word in sentence.split()])\n",
        "    \n",
        "    print('Total English words: {}'.format(len([word for sentence in dataQuestion for word in sentence.split()])))\n",
        "    print('Unique English words: {}'.format(len(question_words)))\n",
        "    print('Most Common Words: \"' + '\" \"'.join(list(zip(*question_words.most_common(10)))[0]) + '\"\\n')\n",
        "\n",
        "    print('Total Bangla words: {}'.format(len([word for sentence in dataAnswer for word in sentence.split()])))\n",
        "    print('Unique Bangla words: {}'.format(len(answer_words)))\n",
        "    print('Most Common Words: \"' + '\" \"'.join(list(zip(*answer_words.most_common(10)))[0]) + '\"')"
      ],
      "execution_count": null,
      "outputs": []
    },
    {
      "cell_type": "code",
      "metadata": {
        "id": "Ed6ZnaGgcYwR",
        "colab_type": "code",
        "colab": {}
      },
      "source": [
        "\n",
        "# 1. Remove the accents\n",
        "# 2. Clean the sentences\n",
        "# 3. Return word pairs in the format: [ENGLISH, BANGLA]\n",
        "def create_dataset(path, num_examples):\n",
        "    lines = io.open(path, encoding='UTF-8').read().strip().split('\\n')\n",
        "    \n",
        "    \"\"\"\n",
        "    test test test\n",
        "    \"\"\"\n",
        "    #print(lines)\n",
        "    #print(\"\\n\")\n",
        "    #print(num_examples)\n",
        "    \"\"\"\n",
        "    test test test\n",
        "    \"\"\"\n",
        "\n",
        "    question = []\n",
        "    answer = []\n",
        "    for l in lines[:num_examples]:\n",
        "        #print(l)\n",
        "        w = l.split('\\t')\n",
        "        \"\"\"\n",
        "        test test test\n",
        "        \"\"\"\n",
        "        #print(w)\n",
        "        #print(\"\\n\")\n",
        "        \"\"\"\n",
        "        test test test\n",
        "        \"\"\"\n",
        "        question.append(w[0])\n",
        "        answer.append(w[1])\n",
        "    vocabularyCounter(question, answer) \n",
        "    word_pairs = [[preprocess_sentence(w) for w in l.split('\\t')]  for l in lines[:num_examples]]\n",
        "    #print(word_pairs)\n",
        "#     rearrange dataset src and target\n",
        "    for indd in range(len(word_pairs)):\n",
        "        temp = word_pairs[indd][0]\n",
        "        word_pairs[indd][0] = word_pairs[indd][1]\n",
        "        word_pairs[indd][1] = temp\n",
        "    print(word_pairs)\n",
        "    return zip(*word_pairs)\n"
      ],
      "execution_count": null,
      "outputs": []
    },
    {
      "cell_type": "code",
      "metadata": {
        "id": "D03Ndl35ceWm",
        "colab_type": "code",
        "colab": {
          "base_uri": "https://localhost:8080/",
          "height": 250
        },
        "outputId": "0240c36c-d1b6-4da4-98b5-2d39149fd5cb"
      },
      "source": [
        "# preprocessing function declear and vocabulary checking\n",
        "bn, en = create_dataset(path_to_file, None)\n",
        "\n",
        "print(\"\\n\\n\", en[4])\n",
        "print(bn)"
      ],
      "execution_count": null,
      "outputs": [
        {
          "output_type": "stream",
          "text": [
            "Total English words: 40\n",
            "Unique English words: 9\n",
            "Most Common Words: \"Do\" \"lincRNAs\" \"play\" \"a\" \"role\" \"human\" \"cancer?\" \"1in\" \"in\"\n",
            "\n",
            "Total Bangla words: 66\n",
            "Unique Bangla words: 50\n",
            "Most Common Words: \"lincRNAs\" \"of\" \"and\" \"to\" \"polyadenylation\" \"in\" \"cancer\" \"we\" \"the\" \"Genome-wide\"\n",
            "[['<start> Genome-wide identification and predictive modeling of lincRNAs polyadenylation in cancer genome . <end>', '<start> Do lincRNAs play a role in human cancer ? <end>'], ['<start> As expected we found lincRNAs to be present in CD14 monocytes of RA patients . <end>', '<start> Do lincRNAs play a role 1in human cancer ? <end>'], ['<start> Functional relevance of lincRNAs was further examined by biochemical assays . <end>', '<start> Do lincRNAs play a role 1in human cancer ? <end>'], ['<start> To date the mechanism of lincRNAs polyadenylation related to cancer is rarely fully_understood yet . <end>', '<start> Do lincRNAs play a role 1in human cancer ? <end>'], ['<start> Finally we propose a genetic mediator and key_regulator model to unveil the subtle relationships_between lincRNAs and lung_cancer . <end>', '<start> Do lincRNAs play a role 1in human cancer ? <end>']]\n",
            "\n",
            "\n",
            " <start> Do lincRNAs play a role 1in human cancer ? <end>\n",
            "('<start> Genome-wide identification and predictive modeling of lincRNAs polyadenylation in cancer genome . <end>', '<start> As expected we found lincRNAs to be present in CD14 monocytes of RA patients . <end>', '<start> Functional relevance of lincRNAs was further examined by biochemical assays . <end>', '<start> To date the mechanism of lincRNAs polyadenylation related to cancer is rarely fully_understood yet . <end>', '<start> Finally we propose a genetic mediator and key_regulator model to unveil the subtle relationships_between lincRNAs and lung_cancer . <end>')\n"
          ],
          "name": "stdout"
        }
      ]
    }
  ]
}