{
  "nbformat": 4,
  "nbformat_minor": 0,
  "metadata": {
    "colab": {
      "name": "factroid_type.ipynb",
      "provenance": [],
      "collapsed_sections": [],
      "mount_file_id": "1Er1s22qW7VjxjInicXV4bGeQz7agLGuM",
      "authorship_tag": "ABX9TyMwu7uby/pq+8kZ1Hc2CUwp",
      "include_colab_link": true
    },
    "kernelspec": {
      "name": "python3",
      "display_name": "Python 3"
    },
    "accelerator": "GPU"
  },
  "cells": [
    {
      "cell_type": "markdown",
      "metadata": {
        "id": "view-in-github",
        "colab_type": "text"
      },
      "source": [
        "<a href=\"https://colab.research.google.com/github/hasiburrahman1/NLP/blob/master/factroid_type.ipynb\" target=\"_parent\"><img src=\"https://colab.research.google.com/assets/colab-badge.svg\" alt=\"Open In Colab\"/></a>"
      ]
    },
    {
      "cell_type": "code",
      "metadata": {
        "id": "gInZeo8EQNqo"
      },
      "source": [
        "import numpy as np \n",
        "import pandas as pd \n",
        "import os\n",
        "import re\n",
        "import matplotlib.pyplot as plt\n",
        "import xml.etree.ElementTree as et \n",
        "import tensorflow as tf \n",
        "import tensorflow_addons as tfa\n",
        "from tensorflow.python.keras.preprocessing.text import Tokenizer\n",
        "from tensorflow.python.keras.preprocessing.sequence import pad_sequences\n",
        "from keras.models import Sequential\n",
        "from keras.layers import Dense, Activation, Embedding, SimpleRNN, GRU, LSTM, Bidirectional, Dropout, Input, Conv2D, MaxPool2D\n",
        "from keras.layers.embeddings import Embedding\n",
        "from keras.initializers import Constant\n",
        "from keras.callbacks import ModelCheckpoint\n",
        "from keras.models import load_model\n",
        "from keras.layers import Reshape, Flatten, Dropout, Concatenate\n",
        "from keras.optimizers import Adam\n",
        "from keras.models import Model\n",
        "from keras.layers.convolutional import Conv1D\n",
        "from keras.layers import Conv1D, Dense, MaxPool1D, Flatten, Input, GlobalMaxPooling1D"
      ],
      "execution_count": 36,
      "outputs": []
    },
    {
      "cell_type": "markdown",
      "metadata": {
        "id": "-Alr0O10FzzG"
      },
      "source": [
        "####Convert XML into DataFrame\n"
      ]
    },
    {
      "cell_type": "code",
      "metadata": {
        "id": "Io1zBDGLnpbI",
        "outputId": "47702126-8631-46ba-8d99-ea6d0dedc22d",
        "colab": {
          "base_uri": "https://localhost:8080/",
          "height": 66
        }
      },
      "source": [
        "xtree = et.parse(\"/content/drive/My Drive/Colab Notebooks/MedQuAD_3_GHR_QA/joined.xml\")\n",
        "xroot = xtree.getroot()\n",
        "lst = xroot.findall('QAPairs/QAPair')\n",
        "data1 = []\n",
        "data2 = []\n",
        "data3 = []\n",
        "print(len(lst))\n",
        "#print(lst)\n",
        "print(\"\\n\")\n",
        "\n",
        "for item in lst:\n",
        "    for x in item:\n",
        "         if x.get('qtype') != None:\n",
        "            qtype = x.get('qtype')\n",
        "            data1.append(qtype)\n",
        "    Question = item.find('Question').text\n",
        "    data2.append(Question)\n",
        "    Answer = item.find('Answer').text\n",
        "    data3.append(Answer)"
      ],
      "execution_count": 37,
      "outputs": [
        {
          "output_type": "stream",
          "text": [
            "5430\n",
            "\n",
            "\n"
          ],
          "name": "stdout"
        }
      ]
    },
    {
      "cell_type": "code",
      "metadata": {
        "id": "wf-MgAmdBwF0",
        "outputId": "2b3f5a97-a707-47c5-f7b7-7d537d590541",
        "colab": {
          "base_uri": "https://localhost:8080/",
          "height": 407
        }
      },
      "source": [
        "df = pd.DataFrame(list(zip(data1, data2, data3)), \n",
        "               columns =['qtype', 'Question', 'Answer']) \n",
        "\n",
        "df.drop(df.columns[[2]], axis = 1, inplace = True)\n",
        "print(len(df)) \n",
        "df"
      ],
      "execution_count": 38,
      "outputs": [
        {
          "output_type": "stream",
          "text": [
            "5430\n"
          ],
          "name": "stdout"
        },
        {
          "output_type": "execute_result",
          "data": {
            "text/html": [
              "<div>\n",
              "<style scoped>\n",
              "    .dataframe tbody tr th:only-of-type {\n",
              "        vertical-align: middle;\n",
              "    }\n",
              "\n",
              "    .dataframe tbody tr th {\n",
              "        vertical-align: top;\n",
              "    }\n",
              "\n",
              "    .dataframe thead th {\n",
              "        text-align: right;\n",
              "    }\n",
              "</style>\n",
              "<table border=\"1\" class=\"dataframe\">\n",
              "  <thead>\n",
              "    <tr style=\"text-align: right;\">\n",
              "      <th></th>\n",
              "      <th>qtype</th>\n",
              "      <th>Question</th>\n",
              "    </tr>\n",
              "  </thead>\n",
              "  <tbody>\n",
              "    <tr>\n",
              "      <th>0</th>\n",
              "      <td>information</td>\n",
              "      <td>What is (are) Aarskog-Scott syndrome ?</td>\n",
              "    </tr>\n",
              "    <tr>\n",
              "      <th>1</th>\n",
              "      <td>frequency</td>\n",
              "      <td>How many people are affected by Aarskog-Scott ...</td>\n",
              "    </tr>\n",
              "    <tr>\n",
              "      <th>2</th>\n",
              "      <td>genetic changes</td>\n",
              "      <td>What are the genetic changes related to Aarsko...</td>\n",
              "    </tr>\n",
              "    <tr>\n",
              "      <th>3</th>\n",
              "      <td>inheritance</td>\n",
              "      <td>Is Aarskog-Scott syndrome inherited ?</td>\n",
              "    </tr>\n",
              "    <tr>\n",
              "      <th>4</th>\n",
              "      <td>treatment</td>\n",
              "      <td>What are the treatments for Aarskog-Scott synd...</td>\n",
              "    </tr>\n",
              "    <tr>\n",
              "      <th>...</th>\n",
              "      <td>...</td>\n",
              "      <td>...</td>\n",
              "    </tr>\n",
              "    <tr>\n",
              "      <th>5425</th>\n",
              "      <td>information</td>\n",
              "      <td>What is (are) 9q22.3 microdeletion ?</td>\n",
              "    </tr>\n",
              "    <tr>\n",
              "      <th>5426</th>\n",
              "      <td>frequency</td>\n",
              "      <td>How many people are affected by 9q22.3 microde...</td>\n",
              "    </tr>\n",
              "    <tr>\n",
              "      <th>5427</th>\n",
              "      <td>genetic changes</td>\n",
              "      <td>What are the genetic changes related to 9q22.3...</td>\n",
              "    </tr>\n",
              "    <tr>\n",
              "      <th>5428</th>\n",
              "      <td>inheritance</td>\n",
              "      <td>Is 9q22.3 microdeletion inherited ?</td>\n",
              "    </tr>\n",
              "    <tr>\n",
              "      <th>5429</th>\n",
              "      <td>treatment</td>\n",
              "      <td>What are the treatments for 9q22.3 microdeleti...</td>\n",
              "    </tr>\n",
              "  </tbody>\n",
              "</table>\n",
              "<p>5430 rows × 2 columns</p>\n",
              "</div>"
            ],
            "text/plain": [
              "                qtype                                           Question\n",
              "0         information             What is (are) Aarskog-Scott syndrome ?\n",
              "1           frequency  How many people are affected by Aarskog-Scott ...\n",
              "2     genetic changes  What are the genetic changes related to Aarsko...\n",
              "3         inheritance              Is Aarskog-Scott syndrome inherited ?\n",
              "4           treatment  What are the treatments for Aarskog-Scott synd...\n",
              "...               ...                                                ...\n",
              "5425      information               What is (are) 9q22.3 microdeletion ?\n",
              "5426        frequency  How many people are affected by 9q22.3 microde...\n",
              "5427  genetic changes  What are the genetic changes related to 9q22.3...\n",
              "5428      inheritance                Is 9q22.3 microdeletion inherited ?\n",
              "5429        treatment  What are the treatments for 9q22.3 microdeleti...\n",
              "\n",
              "[5430 rows x 2 columns]"
            ]
          },
          "metadata": {
            "tags": []
          },
          "execution_count": 38
        }
      ]
    },
    {
      "cell_type": "markdown",
      "metadata": {
        "id": "Qp-qBcwpRJMk"
      },
      "source": [
        "###Basic data cleaning"
      ]
    },
    {
      "cell_type": "code",
      "metadata": {
        "id": "zQJOvjYA-dGG"
      },
      "source": [
        "df.to_csv('data.csv')\n",
        "!cp data.csv \"drive/My Drive/\""
      ],
      "execution_count": 39,
      "outputs": []
    },
    {
      "cell_type": "code",
      "metadata": {
        "id": "oKqebaX7PIOU",
        "outputId": "9b081de9-7067-41fb-80db-d5af07a05454",
        "colab": {
          "base_uri": "https://localhost:8080/",
          "height": 115
        }
      },
      "source": [
        "df[\"qtype\"].value_counts()"
      ],
      "execution_count": 40,
      "outputs": [
        {
          "output_type": "execute_result",
          "data": {
            "text/plain": [
              "information        1086\n",
              "genetic changes    1086\n",
              "treatment          1086\n",
              "frequency          1086\n",
              "inheritance        1086\n",
              "Name: qtype, dtype: int64"
            ]
          },
          "metadata": {
            "tags": []
          },
          "execution_count": 40
        }
      ]
    },
    {
      "cell_type": "code",
      "metadata": {
        "id": "5OVPsJJpRFLo"
      },
      "source": [
        "## categorical to numerical\n",
        "encode = {\n",
        "    \"genetic changes\" : 0,\n",
        "    \"inheritance\"  : 1,       \n",
        "    \"frequency\" : 2,    \n",
        "    \"information\" : 3,     \n",
        "    \"treatment\"  : 4,    \n",
        "}"
      ],
      "execution_count": 41,
      "outputs": []
    },
    {
      "cell_type": "code",
      "metadata": {
        "id": "yf1l-EhVRwN7",
        "outputId": "861d0c6b-92b1-414a-8980-54bdbb6369b8",
        "colab": {
          "base_uri": "https://localhost:8080/",
          "height": 191
        }
      },
      "source": [
        "df[\"qtype\"] = df[\"qtype\"].apply(lambda x: encode[x])\n",
        "df.head()"
      ],
      "execution_count": 42,
      "outputs": [
        {
          "output_type": "execute_result",
          "data": {
            "text/html": [
              "<div>\n",
              "<style scoped>\n",
              "    .dataframe tbody tr th:only-of-type {\n",
              "        vertical-align: middle;\n",
              "    }\n",
              "\n",
              "    .dataframe tbody tr th {\n",
              "        vertical-align: top;\n",
              "    }\n",
              "\n",
              "    .dataframe thead th {\n",
              "        text-align: right;\n",
              "    }\n",
              "</style>\n",
              "<table border=\"1\" class=\"dataframe\">\n",
              "  <thead>\n",
              "    <tr style=\"text-align: right;\">\n",
              "      <th></th>\n",
              "      <th>qtype</th>\n",
              "      <th>Question</th>\n",
              "    </tr>\n",
              "  </thead>\n",
              "  <tbody>\n",
              "    <tr>\n",
              "      <th>0</th>\n",
              "      <td>3</td>\n",
              "      <td>What is (are) Aarskog-Scott syndrome ?</td>\n",
              "    </tr>\n",
              "    <tr>\n",
              "      <th>1</th>\n",
              "      <td>2</td>\n",
              "      <td>How many people are affected by Aarskog-Scott ...</td>\n",
              "    </tr>\n",
              "    <tr>\n",
              "      <th>2</th>\n",
              "      <td>0</td>\n",
              "      <td>What are the genetic changes related to Aarsko...</td>\n",
              "    </tr>\n",
              "    <tr>\n",
              "      <th>3</th>\n",
              "      <td>1</td>\n",
              "      <td>Is Aarskog-Scott syndrome inherited ?</td>\n",
              "    </tr>\n",
              "    <tr>\n",
              "      <th>4</th>\n",
              "      <td>4</td>\n",
              "      <td>What are the treatments for Aarskog-Scott synd...</td>\n",
              "    </tr>\n",
              "  </tbody>\n",
              "</table>\n",
              "</div>"
            ],
            "text/plain": [
              "   qtype                                           Question\n",
              "0      3             What is (are) Aarskog-Scott syndrome ?\n",
              "1      2  How many people are affected by Aarskog-Scott ...\n",
              "2      0  What are the genetic changes related to Aarsko...\n",
              "3      1              Is Aarskog-Scott syndrome inherited ?\n",
              "4      4  What are the treatments for Aarskog-Scott synd..."
            ]
          },
          "metadata": {
            "tags": []
          },
          "execution_count": 42
        }
      ]
    },
    {
      "cell_type": "markdown",
      "metadata": {
        "id": "Ayj_CaUWSSy3"
      },
      "source": [
        "###Data cleaning for NLP"
      ]
    },
    {
      "cell_type": "code",
      "metadata": {
        "id": "aUk6j7tHVC8o",
        "outputId": "2faad2f6-a14f-4e03-c86b-e012eb344898",
        "colab": {
          "base_uri": "https://localhost:8080/",
          "height": 98
        }
      },
      "source": [
        "import nltk\n",
        "nltk.download('punkt')\n",
        "nltk.download('stopwords')"
      ],
      "execution_count": 43,
      "outputs": [
        {
          "output_type": "stream",
          "text": [
            "[nltk_data] Downloading package punkt to /root/nltk_data...\n",
            "[nltk_data]   Package punkt is already up-to-date!\n",
            "[nltk_data] Downloading package stopwords to /root/nltk_data...\n",
            "[nltk_data]   Package stopwords is already up-to-date!\n"
          ],
          "name": "stdout"
        },
        {
          "output_type": "execute_result",
          "data": {
            "text/plain": [
              "True"
            ]
          },
          "metadata": {
            "tags": []
          },
          "execution_count": 43
        }
      ]
    },
    {
      "cell_type": "code",
      "metadata": {
        "id": "aA3Ad6UOQulP"
      },
      "source": [
        "def clean_text(text):\n",
        "    text = text.lower()\n",
        "    \n",
        "    pattern = re.compile('http[s]?://(?:[a-zA-Z]|[0-9]|[$-_@.&+]|[!*\\(\\),]|(?:%[0-9a-fA-F][0-9a-fA-F]))+')\n",
        "    text = pattern.sub('', text)\n",
        "    text = \" \".join(filter(lambda x:x[0]!='@', text.split()))\n",
        "    \n",
        "    text = text.lower()\n",
        "    text = re.sub(r\"i'm\", \"i am\", text)\n",
        "    text = re.sub(r\"he's\", \"he is\", text)\n",
        "    text = re.sub(r\"she's\", \"she is\", text)\n",
        "    text = re.sub(r\"that's\", \"that is\", text)        \n",
        "    text = re.sub(r\"what's\", \"what is\", text)\n",
        "    text = re.sub(r\"where's\", \"where is\", text) \n",
        "    text = re.sub(r\"\\'ll\", \" will\", text)  \n",
        "    text = re.sub(r\"\\'ve\", \" have\", text)  \n",
        "    text = re.sub(r\"\\'re\", \" are\", text)\n",
        "    text = re.sub(r\"\\'d\", \" would\", text)\n",
        "    text = re.sub(r\"\\'ve\", \" have\", text)\n",
        "    text = re.sub(r\"won't\", \"will not\", text)\n",
        "    text = re.sub(r\"don't\", \"do not\", text)\n",
        "    text = re.sub(r\"did't\", \"did not\", text)\n",
        "    text = re.sub(r\"can't\", \"can not\", text)\n",
        "    text = re.sub(r\"it's\", \"it is\", text)\n",
        "    text = re.sub(r\"couldn't\", \"could not\", text)\n",
        "    text = re.sub(r\"have't\", \"have not\", text)\n",
        "    text = re.sub(r\"[,.\\\"\\'!@#$%^&*(){}?/;`~:<>+=-]\", \"\", text)\n",
        "    return text"
      ],
      "execution_count": 44,
      "outputs": []
    },
    {
      "cell_type": "code",
      "metadata": {
        "id": "SVmv2EoiQ58F",
        "outputId": "0139e9ad-0a3d-4f7a-db6f-a4bb68714cae",
        "colab": {
          "base_uri": "https://localhost:8080/",
          "height": 196
        }
      },
      "source": [
        "import string\n",
        "from nltk.tokenize import word_tokenize\n",
        "from nltk.corpus import stopwords\n",
        "\n",
        "def CleanTokenize(df):\n",
        "    ques_lines = list()\n",
        "    lines = df[\"Question\"].values.tolist()\n",
        "\n",
        "    for line in lines:\n",
        "        line = clean_text(line)\n",
        "        # tokenize the text\n",
        "        tokens = word_tokenize(line)\n",
        "        # remove puntuations\n",
        "        table = str.maketrans('', '', string.punctuation)\n",
        "        stripped = [w.translate(table) for w in tokens]\n",
        "        # remove non alphabetic characters\n",
        "        words = [word for word in stripped if word.isalpha()]\n",
        "        \n",
        "        stop_words = set(stopwords.words(\"english\"))\n",
        "        # remove stop words\n",
        "        words = [w for w in words if not w in stop_words]\n",
        "        \n",
        "        ques_lines.append(words)\n",
        "        \n",
        "    return ques_lines\n",
        "\n",
        "ques_lines = CleanTokenize(df)\n",
        "print(\"total line are \", len(ques_lines)) \n",
        "ques_lines[0:10]"
      ],
      "execution_count": 45,
      "outputs": [
        {
          "output_type": "stream",
          "text": [
            "total line are  5430\n"
          ],
          "name": "stdout"
        },
        {
          "output_type": "execute_result",
          "data": {
            "text/plain": [
              "[['aarskogscott', 'syndrome'],\n",
              " ['many', 'people', 'affected', 'aarskogscott', 'syndrome'],\n",
              " ['genetic', 'changes', 'related', 'aarskogscott', 'syndrome'],\n",
              " ['aarskogscott', 'syndrome', 'inherited'],\n",
              " ['treatments', 'aarskogscott', 'syndrome'],\n",
              " ['abdominal', 'wall', 'defect'],\n",
              " ['many', 'people', 'affected', 'abdominal', 'wall', 'defect'],\n",
              " ['genetic', 'changes', 'related', 'abdominal', 'wall', 'defect'],\n",
              " ['abdominal', 'wall', 'defect', 'inherited'],\n",
              " ['treatments', 'abdominal', 'wall', 'defect']]"
            ]
          },
          "metadata": {
            "tags": []
          },
          "execution_count": 45
        }
      ]
    },
    {
      "cell_type": "code",
      "metadata": {
        "id": "OXSvF7WHe2jA",
        "outputId": "e0115995-6ea7-4f39-f8fe-6042a99ca803",
        "colab": {
          "base_uri": "https://localhost:8080/",
          "height": 33
        }
      },
      "source": [
        "len(max(ques_lines, key=len))"
      ],
      "execution_count": 46,
      "outputs": [
        {
          "output_type": "execute_result",
          "data": {
            "text/plain": [
              "13"
            ]
          },
          "metadata": {
            "tags": []
          },
          "execution_count": 46
        }
      ]
    },
    {
      "cell_type": "markdown",
      "metadata": {
        "id": "7Tz6-UrHWE4I"
      },
      "source": [
        "###Train-test split"
      ]
    },
    {
      "cell_type": "code",
      "metadata": {
        "id": "45CY-fxhV4fD",
        "outputId": "ede675ca-4c83-407a-8813-46553238d565",
        "colab": {
          "base_uri": "https://localhost:8080/",
          "height": 50
        }
      },
      "source": [
        "validation_split = 0.2\n",
        "max_length = 15\n",
        "\n",
        "\n",
        "tokenizer_obj = Tokenizer()\n",
        "tokenizer_obj.fit_on_texts(ques_lines)\n",
        "sequences = tokenizer_obj.texts_to_sequences(ques_lines)\n",
        "\n",
        "word_index = tokenizer_obj.word_index\n",
        "print(\"unique tokens - \",len(word_index))\n",
        "vocab_size = len(tokenizer_obj.word_index) + 1\n",
        "print('vocab size -', vocab_size)\n",
        "\n",
        "ques_lines_pad = pad_sequences(sequences, maxlen=max_length, padding='post')\n",
        "qtype =  df['qtype'].values\n",
        "\n",
        "indices = np.arange(ques_lines_pad.shape[0])\n",
        "np.random.shuffle(indices)\n",
        "ques_lines_pad = ques_lines_pad[indices]\n",
        "qtype = qtype[indices]\n",
        "\n",
        "n_values = np.max(qtype) + 1\n",
        "\n",
        "Y = np.eye(n_values)[qtype]\n",
        "\n",
        "\n",
        "num_validation_samples = int(validation_split * ques_lines_pad.shape[0])\n",
        "\n",
        "X_train_pad = ques_lines_pad[:-num_validation_samples]\n",
        "y_train = Y[:-num_validation_samples]\n",
        "X_test_pad = ques_lines_pad[-num_validation_samples:]\n",
        "y_test = Y[-num_validation_samples:]"
      ],
      "execution_count": 47,
      "outputs": [
        {
          "output_type": "stream",
          "text": [
            "unique tokens -  1419\n",
            "vocab size - 1420\n"
          ],
          "name": "stdout"
        }
      ]
    },
    {
      "cell_type": "code",
      "metadata": {
        "id": "wJRaXreKW6PB",
        "outputId": "0f5e6545-76ff-48d5-b8d7-136ee611617c",
        "colab": {
          "base_uri": "https://localhost:8080/",
          "height": 82
        }
      },
      "source": [
        "print('Shape of X_train_pad:', X_train_pad.shape)\n",
        "print('Shape of y_train:', y_train.shape)\n",
        "\n",
        "print('Shape of X_test_pad:', X_test_pad.shape)\n",
        "print('Shape of y_test:', y_test.shape)"
      ],
      "execution_count": 48,
      "outputs": [
        {
          "output_type": "stream",
          "text": [
            "Shape of X_train_pad: (4344, 15)\n",
            "Shape of y_train: (4344, 5)\n",
            "Shape of X_test_pad: (1086, 15)\n",
            "Shape of y_test: (1086, 5)\n"
          ],
          "name": "stdout"
        }
      ]
    },
    {
      "cell_type": "markdown",
      "metadata": {
        "id": "liJHecjkXVxo"
      },
      "source": [
        "###Custom word2vec model"
      ]
    },
    {
      "cell_type": "code",
      "metadata": {
        "id": "YcnFTO4BXNV1",
        "outputId": "ac365823-9163-4a36-d4c6-cf4a53312fa5",
        "colab": {
          "base_uri": "https://localhost:8080/",
          "height": 70
        }
      },
      "source": [
        "import gensim\n",
        "model = gensim.models.Word2Vec(sentences=ques_lines, size=100, window=5, workers=4, min_count=1, sg=1) #sg= 1:skip-gram 0:cbow\n",
        "vocab_words = list(model.wv.vocab)   \n",
        "\n",
        "print(len(vocab_words))\n",
        "print(vocab_words)"
      ],
      "execution_count": 49,
      "outputs": [
        {
          "output_type": "stream",
          "text": [
            "1419\n",
            "['aarskogscott', 'syndrome', 'many', 'people', 'affected', 'genetic', 'changes', 'related', 'inherited', 'treatments', 'abdominal', 'wall', 'defect', 'abetalipoproteinemia', 'acatalasemia', 'aceruloplasminemia', 'achondrogenesis', 'achondroplasia', 'achromatopsia', 'acral', 'peeling', 'skin', 'acromicric', 'dysplasia', 'actinaccumulation', 'myopathy', 'activated', 'acute', 'promyelocytic', 'leukemia', 'adamsoliver', 'dyskinesia', 'adenine', 'phosphoribosyltransferase', 'deficiency', 'adenosine', 'deaminase', 'monophosphate', 'adenylosuccinate', 'lyase', 'adermatoglyphia', 'adiposis', 'dolorosa', 'adolescent', 'idiopathic', 'scoliosis', 'adult', 'polyglucosan', 'body', 'disease', 'adultonset', 'leukoencephalopathy', 'axonal', 'spheroids', 'pigmented', 'glia', 'african', 'iron', 'overload', 'agerelated', 'macular', 'degeneration', 'aicardi', 'aicardigoutieres', 'alagille', 'alexander', 'disorder', 'glycosylation', 'alkaptonuria', 'allanherndondudley', 'allergic', 'asthma', 'alpershuttenlocher', 'alpha', 'thalassemia', 'xlinked', 'intellectual', 'disability', 'antitrypsin', 'alphamannosidosis', 'alphamethylacylcoa', 'racemase', 'alport', 'alstrm', 'alternating', 'hemiplegia', 'childhood', 'alveolar', 'capillary', 'misalignment', 'pulmonary', 'veins', 'alzheimer', 'amelogenesis', 'imperfecta', 'aminoacylase', 'amish', 'lethal', 'microcephaly', 'amyotrophic', 'lateral', 'sclerosis', 'andermann', 'andersentawil', 'androgen', 'insensitivity', 'androgenetic', 'alopecia', 'anencephaly', 'angelman', 'anhidrotic', 'ectodermal', 'immune', 'aniridia', 'ankyloblepharonectodermal', 'defectscleft', 'lippalate', 'ankylosing', 'spondylitis', 'antiphospholipid', 'apert', 'arginase', 'arginineglycine', 'amidinotransferase', 'argininosuccinic', 'aciduria', 'aromatase', 'excess', 'aromatic', 'lamino', 'acid', 'decarboxylase', 'arrhythmogenic', 'right', 'ventricular', 'cardiomyopathy', 'arterial', 'tortuosity', 'arts', 'aspartylglucosaminuria', 'asperger', 'asphyxiating', 'thoracic', 'dystrophy', 'ataxia', 'neuropathy', 'spectrum', 'oculomotor', 'apraxia', 'vitamin', 'e', 'ataxiatelangiectasia', 'atelosteogenesis', 'type', 'atopic', 'dermatitis', 'atypical', 'hemolyticuremic', 'auriculocondylar', 'autoimmune', 'addison', 'lymphoproliferative', 'polyglandular', 'autosomal', 'dominant', 'congenital', 'stationary', 'night', 'blindness', 'hyperige', 'hypocalcemia', 'nocturnal', 'frontal', 'lobe', 'epilepsy', 'partial', 'auditory', 'features', 'vitreoretinochoroidopathy', 'recessive', 'neuromyotonia', 'cerebellar', 'methemoglobinemia', 'hypotrichosis', 'primary', 'spastic', 'charlevoixsaguenay', 'axenfeldrieger', 'ballergerold', 'bannayanrileyruvalcaba', 'baraitserwinter', 'bardetbiedl', 'bartpumphrey', 'barth', 'bartter', 'bearestevenson', 'cutis', 'gyrata', 'beckwithwiedemann', 'behet', 'benign', 'chronic', 'pemphigus', 'essential', 'blepharospasm', 'familial', 'neonatal', 'seizures', 'recurrent', 'intrahepatic', 'cholestasis', 'beta', 'betaketothiolase', 'betamannosidosis', 'betaureidopropionase', 'bietti', 'crystalline', 'biotinthiamineresponsive', 'basal', 'ganglia', 'biotinidase', 'birthoggdub', 'bjrnstad', 'bladder', 'cancer', 'blau', 'blepharophimosis', 'ptosis', 'epicanthus', 'inversus', 'bloom', 'boomerang', 'bowenconradi', 'bradyopsia', 'branchiooculofacial', 'branchiootorenalbranchiootic', 'breast', 'brody', 'brookespiegler', 'brugada', 'buschkeollendorff', 'glomerulopathy', 'caffey', 'campomelic', 'camuratiengelmann', 'canavan', 'cant', 'cap', 'malformationarteriovenous', 'malformation', 'carbamoyl', 'phosphate', 'synthetase', 'cardiofaciocutaneous', 'carney', 'complex', 'carnitine', 'palmitoyltransferase', 'ii', 'carnitineacylcarnitine', 'translocase', 'carpenter', 'cartilagehair', 'hypoplasia', 'caskrelated', 'catecholaminergic', 'polymorphic', 'tachycardia', 'nonsyndromic', 'male', 'infertility', 'caudal', 'regression', 'distal', 'celiac', 'central', 'core', 'centronuclear', 'cerebral', 'arteriopathy', 'subcortical', 'infarcts', 'cavernous', 'cerebrotendinous', 'xanthomatosis', 'chanarindorfman', 'char', 'charcotmarietooth', 'charge', 'chediakhigashi', 'cherubism', 'myocerebrohepatopathy', 'frontotemporal', 'dementia', 'cholesteryl', 'ester', 'storage', 'chops', 'chordoma', 'choreaacanthocytosis', 'choroideremia', 'christianson', 'atrial', 'intestinal', 'dysrhythmia', 'granulomatous', 'skeletal', 'chylomicron', 'retention', 'citrullinemia', 'cleidocranial', 'clouston', 'coats', 'plus', 'cockayne', 'coffinlowry', 'coffinsiris', 'cohen', 'brain', 'smallvessel', 'coldinduced', 'sweating', 'cole', 'collagen', 'virelated', 'coloboma', 'color', 'vision', 'combined', 'malonic', 'methylmalonic', 'pituitary', 'hormone', 'common', 'variable', 'complement', 'component', 'factor', 'complete', 'lcat', 'conerod', 'adrenal', 'hyperplasia', 'due', 'afibrinogenemia', 'bilateral', 'absence', 'vas', 'deferens', 'cataracts', 'facial', 'dysmorphism', 'hypoventilation', 'contractural', 'arachnodactyly', 'deafness', 'labyrinthine', 'aplasia', 'microtia', 'microdontia', 'diaphragmatic', 'hernia', 'dyserythropoietic', 'anemia', 'fibertype', 'disproportion', 'fibrosis', 'extraocular', 'muscles', 'generalized', 'lipodystrophy', 'hemidysplasia', 'ichthyosiform', 'erythroderma', 'limb', 'defects', 'hepatic', 'hyperinsulinism', 'hypothyroidism', 'pain', 'anhidrosis', 'leptin', 'mirror', 'movement', 'myasthenic', 'neuronal', 'ceroid', 'lipofuscinosis', 'plasminogen', 'stromal', 'corneal', 'sucraseisomaltase', 'binding', 'myeloid', 'cornelia', 'de', 'lange', 'corticosteroidbinding', 'globulin', 'costeff', 'costello', 'cowden', 'cranioectodermal', 'craniofacial', 'microsomia', 'craniofacialdeafnesshand', 'craniometaphyseal', 'criduchat', 'criglernajjar', 'critical', 'heart', 'crohn', 'crouzon', 'crouzonodermoskeletal', 'cryptogenic', 'cirrhosis', 'cushing', 'laxa', 'cyclic', 'neutropenia', 'vomiting', 'cystic', 'cystinosis', 'cystinuria', 'cytochrome', 'c', 'oxidase', 'oxidoreductase', 'cytogenetically', 'normal', 'czech', 'dbifunctional', 'protein', 'dandywalker', 'danon', 'darier', 'myopia', 'deafnessdystoniaoptic', 'neuronopathy', 'dentatorubralpallidoluysian', 'atrophy', 'dentinogenesis', 'denysdrash', 'deoxyguanosine', 'kinase', 'dermatofibrosarcoma', 'protuberans', 'desmoid', 'tumor', 'desmosterolosis', 'diamondblackfan', 'diastrophic', 'dihydrolipoamide', 'dehydrogenase', 'dihydropyrimidinase', 'dihydropyrimidine', 'dilated', 'arthrogryposis', 'hereditary', 'motor', 'v', 'dmdassociated', 'dolkcongenital', 'donnaibarrow', 'donohue', 'doors', 'doparesponsive', 'dystonia', 'dopamine', 'betahydroxylase', 'transporter', 'dowlingdegos', 'duaneradial', 'ray', 'dubinjohnson', 'duchenne', 'becker', 'muscular', 'thrombocytopenia', 'dyskeratosis', 'congenita', 'dystrophic', 'epidermolysis', 'bullosa', 'earlyonset', 'glaucoma', 'ehlersdanlos', 'ellisvan', 'creveld', 'emanuel', 'emerydreifuss', 'enlarged', 'parietal', 'foramina', 'eosinophil', 'peroxidase', 'epidermal', 'nevus', 'simplex', 'pyloric', 'atresia', 'epidermolytic', 'hyperkeratosis', 'episodic', 'erdheimchester', 'erythrokeratodermia', 'variabilis', 'et', 'progressiva', 'erythromelalgia', 'esophageal', 'atresiatracheoesophageal', 'fistula', 'pentosuria', 'thrombocythemia', 'tremor', 'ethylmalonic', 'encephalopathy', 'ewing', 'sarcoma', 'fabry', 'facioscapulohumeral', 'leiden', 'thrombophilia', 'x', 'xiii', 'mutated', 'cebpa', 'adenomatous', 'polyposis', 'fibrillation', 'cold', 'autoinflammatory', 'cylindromatosis', 'dysautonomia', 'neuroserpin', 'inclusion', 'bodies', 'erythrocytosis', 'exudative', 'vitreoretinopathy', 'glucocorticoid', 'hdl', 'hemiplegic', 'migraine', 'hemophagocytic', 'lymphohistiocytosis', 'hyperaldosteronism', 'hypertrophic', 'hypobetalipoproteinemia', 'calcification', 'isolated', 'hyperparathyroidism', 'adenoma', 'lipoprotein', 'lipase', 'malelimited', 'precocious', 'puberty', 'mediterranean', 'fever', 'osteochondritis', 'dissecans', 'paroxysmal', 'kinesigenic', 'nonkinesigenic', 'pityriasis', 'rubra', 'pilaris', 'porencephaly', 'restrictive', 'aortic', 'aneurysm', 'dissection', 'fanconi', 'farber', 'lipogranulomatosis', 'fatty', 'hydroxylaseassociated', 'neurodegeneration', 'feingold', 'fg', 'fibrochondrogenesis', 'fibrodysplasia', 'ossificans', 'fibronectin', 'fisheye', 'floatingharbor', 'focal', 'dermal', 'fragile', 'xassociated', 'ovarian', 'insufficiency', 'tremorataxia', 'xe', 'fraser', 'frasier', 'freemansheldon', 'friedreich', 'frontometaphyseal', 'frontonasal', 'fryns', 'fuchs', 'endothelial', 'fucosidosis', 'fukuyama', 'fumarase', 'galactosemia', 'galactosialidosis', 'gastrointestinal', 'gaucher', 'geleophysic', 'infancy', 'genitopatellar', 'ghosal', 'hematodiaphyseal', 'giant', 'melanocytic', 'gilbert', 'gillespie', 'gitelman', 'glanzmann', 'thrombasthenia', 'globozoospermia', 'glucose', 'isomerase', 'glucosegalactose', 'malabsorption', 'glutamate', 'formiminotransferase', 'glutaric', 'acidemia', 'glutathione', 'glycine', 'glycogen', 'iii', 'iv', 'ix', 'vi', 'vii', 'gangliosidosis', 'ab', 'variant', 'synthase', 'gnathodiaphyseal', 'gorlin', 'gracile', 'granulomatosis', 'polyangiitis', 'graves', 'gray', 'platelet', 'greenberg', 'greig', 'cephalopolysyndactyly', 'griscelli', 'grnrelated', 'guanidinoacetate', 'methyltransferase', 'guillainbarr', 'gyrate', 'choroid', 'retina', 'hajducheney', 'handfootgenital', 'harlequin', 'ichthyosis', 'hashimoto', 'thyroiditis', 'head', 'neck', 'squamous', 'cell', 'carcinoma', 'hemophilia', 'hennekam', 'venoocclusive', 'immunodeficiency', 'angioedema', 'angiopathy', 'nephropathy', 'aneurysms', 'muscle', 'cramps', 'antithrombin', 'amyloid', 'diffuse', 'gastric', 'folate', 'fructose', 'intolerance', 'hemochromatosis', 'hemorrhagic', 'telangiectasia', 'hyperekplexia', 'hypophosphatemic', 'rickets', 'leiomyomatosis', 'renal', 'multiple', 'osteochondromas', 'early', 'respiratory', 'failure', 'neuralgic', 'amyotrophy', 'liability', 'pressure', 'palsies', 'pancreatitis', 'paragangliomapheochromocytoma', 'sensory', 'autonomic', 'ie', 'ia', 'spherocytosis', 'xanthinuria', 'hermanskypudlak', 'heterotaxy', 'hidradenitis', 'suppurativa', 'hirschsprung', 'histidinemia', 'histiocytosislymphadenopathy', 'holocarboxylase', 'holtoram', 'homocystinuria', 'horizontal', 'gaze', 'palsy', 'progressive', 'horner', 'huntington', 'diseaselike', 'hutchinsongilford', 'progeria', 'hypercholesterolemia', 'hyperferritinemiacataract', 'hyperkalemic', 'periodic', 'paralysis', 'hyperlysinemia', 'hypermanganesemia', 'polycythemia', 'hypermethioninemia', 'hyperparathyroidismjaw', 'hyperphosphatemic', 'tumoral', 'calcinosis', 'hyperprolinemia', 'hypochondrogenesis', 'hypochondroplasia', 'hypochromic', 'microcytic', 'hypohidrotic', 'hypokalemic', 'hypomagnesemia', 'secondary', 'hypomyelination', 'cataract', 'hypophosphatasia', 'hystrixlike', 'confetti', 'inflammatory', 'imerslundgrsbeck', 'dysregulation', 'polyendocrinopathy', 'enteropathy', 'paget', 'incontinentia', 'pigmenti', 'infantile', 'neuroaxonal', 'systemic', 'hyalinosis', 'infantileonset', 'ascending', 'spinocerebellar', 'thyroxinebinding', 'pseudoobstruction', 'pregnancy', 'intranuclear', 'rod', 'intrauterine', 'growth', 'restriction', 'metaphyseal', 'genital', 'anomalies', 'ironrefractory', 'isobutyrylcoa', 'isodicentric', 'chromosome', 'duane', 'retraction', 'ectopia', 'lentis', 'lissencephaly', 'sequence', 'pierre', 'robin', 'isovaleric', 'jacksonweiss', 'jacobsen', 'jervell', 'langenielsen', 'joubert', 'junctional', 'juvenile', 'batten', 'hyaline', 'fibromatosis', 'arthritis', 'myoclonic', 'osteoporosis', 'kabuki', 'kallmann', 'kawasaki', 'kbg', 'kearnssayre', 'keratitisichthyosisdeafness', 'keratoderma', 'woolly', 'hair', 'kleefstra', 'klinefelter', 'klippelfeil', 'klippeltrenaunay', 'kniest', 'knobloch', 'koolende', 'vries', 'krabbe', 'kufs', 'kuskokwim', 'lacrimoauriculodentodigital', 'lactate', 'lactose', 'lafora', 'myoclonus', 'laing', 'lamellar', 'langer', 'mesomelic', 'langergiedion', 'langerhans', 'histiocytosis', 'laron', 'larsen', 'laryngoonychocutaneous', 'lateinfantile', 'lattice', 'leber', 'amaurosis', 'optic', 'leggcalvperthes', 'legius', 'leigh', 'lennoxgastaut', 'lenz', 'microphthalmia', 'receptor', 'leschnyhan', 'leukocyte', 'adhesion', 'brainstem', 'spinal', 'cord', 'involvement', 'elevation', 'vanishing', 'white', 'matter', 'leydig', 'lifraumeni', 'liddle', 'limbgirdle', 'loeysdietz', 'longchain', 'lowe', 'lujan', 'lung', 'lymphangioleiomyomatosis', 'lymphedemadistichiasis', 'lynch', 'lysinuric', 'mabry', 'maffucci', 'mainzersaldino', 'majeed', 'mal', 'meleda', 'malignant', 'hyperthermia', 'migrating', 'malonylcoa', 'mandibuloacral', 'mandibulofacial', 'dysostosis', 'manitoba', 'oculotrichoanal', 'mannosebinding', 'lectin', 'maple', 'syrup', 'urine', 'marfan', 'marinescosjgren', 'maternally', 'diabetes', 'mayerrokitanskyksterhauser', 'mccunealbright', 'mckusickkaufman', 'mcleod', 'neuroacanthocytosis', 'meckel', 'duplication', 'severe', 'mediumchain', 'acylcoa', 'medullary', 'kidney', 'meesmann', 'megalencephalic', 'cysts', 'megalencephalycapillary', 'megdel', 'meiergorlin', 'meige', 'melnickneedles', 'menkes', 'metachromatic', 'leukodystrophy', 'metatropic', 'betaglobin', 'mevalonate', 'microcephalic', 'osteodysplastic', 'primordial', 'dwarfism', 'microcephalycapillary', 'linear', 'microvillus', 'miller', 'millerdieker', 'milroy', 'mitochondrial', 'encephalomyopathy', 'lactic', 'acidosis', 'strokelike', 'episodes', 'membrane', 'proteinassociated', 'neurogastrointestinal', 'trifunctional', 'miyoshi', 'moebius', 'molybdenum', 'cofactor', 'monilethrix', 'mowatwilson', 'moyamoya', 'hepatocerebral', 'dna', 'depletion', 'mucklewells', 'mucolipidosis', 'alphabeta', 'gamma', 'mucopolysaccharidosis', 'muenke', 'multicentric', 'osteolysis', 'nodulosis', 'arthropathy', 'multiminicore', 'cutaneous', 'mucosal', 'venous', 'malformations', 'endocrine', 'neoplasia', 'epiphyseal', 'trichoepithelioma', 'lentigines', 'dysfunctions', 'pterygium', 'sulfatase', 'system', 'myasthenia', 'gravis', 'mycosis', 'fungoides', 'myhre', 'raggedred', 'fibers', 'myoclonusdystonia', 'myofibrillar', 'ironsulfur', 'cluster', 'assembly', 'enzyme', 'myosin', 'myostatinrelated', 'hypertrophy', 'myotonia', 'myotonic', 'nacetylglutamate', 'naegelifranceschettijadassohn', 'syndromedermatopathia', 'pigmentosa', 'reticularis', 'nager', 'nailpatella', 'nakajonishimura', 'narcolepsy', 'nemaline', 'onset', 'multisystem', 'nephrogenic', 'insipidus', 'nephronophthisis', 'netherton', 'neuroblastoma', 'neuroferritinopathy', 'neurofibromatosis', 'neurohypophyseal', 'neuromyelitis', 'optica', 'retinitis', 'neutral', 'lipid', 'nicolaidesbaraitser', 'niemannpick', 'nijmegen', 'breakage', 'nonbullous', 'hearing', 'loss', 'holoprosencephaly', 'paraganglioma', 'noonan', 'norrie', 'north', 'american', 'indian', 'northern', 'ochoa', 'ocular', 'albinism', 'oculocutaneous', 'oculodentodigital', 'oculofaciocardiodental', 'oculopharyngeal', 'ohdo', 'maatkievitbrunner', 'saybarberbieseckeryoungsimpson', 'ollier', 'ophthalmoacromelic', 'opitz', 'gbbb', 'oralfacialdigital', 'ornithine', 'transcarbamylase', 'osteogenesis', 'osteoglophonic', 'osteopetrosis', 'osteoporosispseudoglioma', 'otopalatodigital', 'otospondylomegaepiphyseal', 'pachyonychia', 'bone', 'pallisterhall', 'pallisterkillian', 'mosaic', 'palmoplantar', 'pantothenate', 'kinaseassociated', 'paramyotonia', 'parkes', 'weber', 'parkinson', 'extreme', 'hemoglobinuria', 'partington', 'pdgfraassociated', 'eosinophilic', 'pdgfrbassociated', 'pearson', 'marrowpancreas', 'pelizaeusmerzbacher', 'pendred', 'periventricular', 'heterotopia', 'permanent', 'mellitus', 'peroxisomal', 'perrault', 'perry', 'persistent', 'mllerian', 'duct', 'peters', 'peutzjeghers', 'pfeiffer', 'phenylketonuria', 'phosphoglycerate', 'mutase', 'phosphoribosylpyrophosphate', 'superactivity', 'piebaldism', 'pilomatricoma', 'pitthopkins', 'platyspondylic', 'torrance', 'pol', 'iiirelated', 'poland', 'polycystic', 'lipomembranous', 'osteodysplasia', 'sclerosing', 'vera', 'polymicrogyria', 'pompe', 'pontocerebellar', 'popliteal', 'porphyria', 'potassiumaggravated', 'potockishaffer', 'ppmx', 'praderwilli', 'preeclampsia', 'prekallikrein', 'ciliary', 'hyperoxaluria', 'macronodular', 'myelofibrosis', 'cholangitis', 'spontaneous', 'pneumothorax', 'prion', 'external', 'ophthalmoplegia', 'block', 'osseous', 'heteroplasia', 'pseudorheumatoid', 'supranuclear', 'prolidase', 'proopiomelanocortin', 'propionic', 'prostate', 'proteus', 'prothrombin', 'pseudoachondroplasia', 'pseudocholinesterase', 'pseudohypoaldosteronism', 'pseudoxanthoma', 'elasticum', 'psoriatic', 'microlithiasis', 'hypertension', 'purine', 'nucleoside', 'phosphorylase', 'pyridoxal', 'pyridoxinedependent', 'pyruvate', 'carboxylase', 'rabsonmendenhall', 'rapadilino', 'rapidonset', 'parkinsonism', 'recombinant', 'hydatidiform', 'mole', 'refsum', 'renrelated', 'hypouricemia', 'tubular', 'dysgenesis', 'renpenning', 'restless', 'legs', 'retinal', 'macroaneurysm', 'supravalvular', 'pulmonic', 'stenosis', 'retinoblastoma', 'retroperitoneal', 'rett', 'rheumatoid', 'rhizomelic', 'chondrodysplasia', 'punctata', 'ring', 'rippling', 'roberts', 'robinow', 'romanoward', 'rothmundthomson', 'rotor', 'rubinsteintaybi', 'russellsilver', 'saddan', 'saethrechotzen', 'salih', 'sandhoff', 'schimke', 'immunoosseous', 'schindler', 'schinzelgiedion', 'schwartzjampel', 'seniorlken', 'sensorineural', 'sepiapterin', 'reductase', 'septooptic', 'sheldonhall', 'short', 'qt', 'stature', 'hyperextensibility', 'depression', 'rieger', 'anomaly', 'teething', 'delay', 'shortchain', 'shprintzengoldberg', 'shwachmandiamond', 'sialic', 'sialidosis', 'sialuria', 'sick', 'sinus', 'sickle', 'silver', 'simpsongolabibehmel', 'sitosterolemia', 'sjgren', 'sjgrenlarsson', 'small', 'fiber', 'smithlemliopitz', 'smithmagenis', 'snyderrobinson', 'sostrelated', 'sotos', 'anophthalmia', 'paraplegia', 'spina', 'bifida', 'bulbar', 'distress', 'spondylocarpotarsal', 'synostosis', 'spondylocostal', 'spondyloenchondrodysplasia', 'spondyloepimetaphyseal', 'strudwick', 'spondyloepiphyseal', 'spondyloperipheral', 'spondylothoracic', 'sporadic', 'stargardt', 'steatocystoma', 'multiplex', 'stevensjohnson', 'syndrometoxic', 'necrolysis', 'stickler', 'stingassociated', 'vasculopathy', 'stormorken', 'stvewiedemann', 'succinatecoa', 'ligase', 'succinic', 'semialdehyde', 'coa', 'transferase', 'sudden', 'infant', 'death', 'testes', 'surfactant', 'dysfunction', 'swyer', 'lupus', 'erythematosus', 'scleroderma', 'tcell', 'nail', 'tangier', 'tarsalcarpal', 'coalition', 'taskspecific', 'taysachs', 'tetraamelia', 'tetrahydrobiopterin', 'tetrasomy', 'thanatophoric', 'thiamineresponsive', 'megaloblastic', 'thiopurine', 'smethyltransferase', 'thrombocytopeniaabsent', 'radius', 'thrombotic', 'thrombocytopenic', 'purpura', 'tibial', 'tietz', 'timothy', 'myopathic', 'form', 'tourette', 'townesbrocks', 'transthyretin', 'amyloidosis', 'treacher', 'collins', 'trichohepatoenteric', 'trichothiodystrophy', 'trimethylaminuria', 'triosephosphate', 'triple', 'trisomy', 'troyer', 'tuberous', 'aggregate', 'necrosis', 'receptorassociated', 'turner', 'insulin', 'resistance', 'tyrosine', 'hydroxylase', 'tyrosinemia', 'ulcerative', 'colitis', 'unverrichtlundborg', 'uromodulinassociated', 'usher', 'uvsensitive', 'vacterl', 'association', 'van', 'der', 'woude', 'ddependent', 'vitelliform', 'vitiligo', 'vldlrassociated', 'vohwinkel', 'von', 'hippellindau', 'willebrand', 'waardenburg', 'wagner', 'wagr', 'waldenstrm', 'macroglobulinemia', 'walkerwarburg', 'warfarin', 'sensitivity', 'warsaw', 'weaver', 'weillmarchesani', 'weissenbacherzweymller', 'werner', 'weyers', 'acrofacial', 'sponge', 'williams', 'wilson', 'winchester', 'wiskottaldrich', 'wolfhirschhorn', 'wolffparkinsonwhite', 'wolfram', 'wolman', 'adrenoleukodystrophy', 'agammaglobulinemia', 'creatine', 'dystoniaparkinsonism', 'hyper', 'igm', 'magnesium', 'epsteinbarr', 'virus', 'infection', 'nystagmus', 'spasm', 'siderius', 'retinoschisis', 'abnormal', 'genitalia', 'myotubular', 'sideroblastic', 'tarda', 'xeroderma', 'pigmentosum', 'zellweger', 'microdeletion', 'deletion', 'hydroxysteroid', 'hydratase', 'testicular', 'sex', 'development', 'minus', 'transient', 'myeloproliferative']\n"
          ],
          "name": "stdout"
        }
      ]
    },
    {
      "cell_type": "code",
      "metadata": {
        "id": "maJ9urB6XtmV",
        "outputId": "8f34444d-5f8d-4ac5-a77f-75f6562f8eb9",
        "colab": {
          "base_uri": "https://localhost:8080/",
          "height": 70
        }
      },
      "source": [
        "filename = \"questype_word2vec_full.txt\"\n",
        "model.wv.save_word2vec_format(filename, binary=False)"
      ],
      "execution_count": 50,
      "outputs": [
        {
          "output_type": "stream",
          "text": [
            "/usr/local/lib/python3.6/dist-packages/smart_open/smart_open_lib.py:252: UserWarning: This function is deprecated, use smart_open.open instead. See the migration notes for details: https://github.com/RaRe-Technologies/smart_open/blob/master/README.rst#migrating-to-the-new-open-function\n",
            "  'See the migration notes for details: %s' % _MIGRATION_NOTES_URL\n"
          ],
          "name": "stderr"
        }
      ]
    },
    {
      "cell_type": "code",
      "metadata": {
        "id": "oFywa32hX_Zn"
      },
      "source": [
        "embedding_index = {}\n",
        "f = open(os.path.join('', '/content/questype_word2vec_full.txt'),  encoding = \"utf-8\")\n",
        "for line in f:\n",
        "    values = line.split()\n",
        "    word = values[0]\n",
        "    coeff = np.asarray(values[1:], dtype='float32')\n",
        "    embedding_index[word] = coeff\n",
        "f.close()"
      ],
      "execution_count": 51,
      "outputs": []
    },
    {
      "cell_type": "code",
      "metadata": {
        "id": "KlDSUeGHYPE8"
      },
      "source": [
        "embedding_dim = 100\n",
        "embedding_matrix = np.zeros((len(word_index) + 1, embedding_dim))\n",
        "for word, i in word_index.items():\n",
        "    embedding_vector = embedding_index.get(word)\n",
        "    if embedding_vector is not None:\n",
        "        embedding_matrix[i] = embedding_vector"
      ],
      "execution_count": 52,
      "outputs": []
    },
    {
      "cell_type": "code",
      "metadata": {
        "id": "0X_NfOpczKzM",
        "outputId": "30a27920-cbbe-4c1e-86b2-00063d6c37a9",
        "colab": {
          "base_uri": "https://localhost:8080/",
          "height": 33
        }
      },
      "source": [
        "embedding_matrix.shape"
      ],
      "execution_count": 53,
      "outputs": [
        {
          "output_type": "execute_result",
          "data": {
            "text/plain": [
              "(1420, 100)"
            ]
          },
          "metadata": {
            "tags": []
          },
          "execution_count": 53
        }
      ]
    },
    {
      "cell_type": "code",
      "metadata": {
        "id": "XiXF4i1QYTcn"
      },
      "source": [
        "embedding_layer = Embedding(len(word_index) + 1,\n",
        "                            embedding_dim,\n",
        "                            weights=[embedding_matrix],\n",
        "                            input_length=max_length,\n",
        "                            trainable=False)"
      ],
      "execution_count": 54,
      "outputs": []
    },
    {
      "cell_type": "markdown",
      "metadata": {
        "id": "ldYOKB7cYa8U"
      },
      "source": [
        "##Create LSTM model"
      ]
    },
    {
      "cell_type": "code",
      "metadata": {
        "id": "o-Xhx2L6_Qwr",
        "outputId": "3e72723c-505c-4436-926e-367b57231be9",
        "colab": {
          "base_uri": "https://localhost:8080/",
          "height": 342
        }
      },
      "source": [
        "# https://rdrr.io/cran/tfaddons/man/metrics_f1score.html\n",
        "# https://github.com/tensorflow/addons/issues/825\n",
        "model1 = Sequential()\n",
        "model1.add(embedding_layer)\n",
        "# Recurrent layer\n",
        "model1.add(LSTM(100, return_sequences=False, \n",
        "               dropout=0.1, recurrent_dropout=0.1))\n",
        "\n",
        "# Fully connected layer\n",
        "model1.add(Dense(100, activation='relu'))\n",
        "\n",
        "# Dropout for regularization\n",
        "model1.add(Dropout(0.5))\n",
        "\n",
        "# Output layer\n",
        "model1.add(Dense(5, activation='softmax'))\n",
        "\n",
        "model1.compile(loss='categorical_crossentropy', optimizer='adam', metrics=['accuracy',tf.keras.metrics.Precision(), tf.keras.metrics.Recall(), tfa.metrics.FBetaScore(num_classes=5, average=\"macro\", threshold=0.5 )])\n",
        "\n",
        "print(model1.summary())\n"
      ],
      "execution_count": 55,
      "outputs": [
        {
          "output_type": "stream",
          "text": [
            "WARNING:tensorflow:Layer lstm_2 will not use cuDNN kernel since it doesn't meet the cuDNN kernel criteria. It will use generic GPU kernel as fallback when running on GPU\n",
            "Model: \"sequential_5\"\n",
            "_________________________________________________________________\n",
            "Layer (type)                 Output Shape              Param #   \n",
            "=================================================================\n",
            "embedding_1 (Embedding)      (None, 15, 100)           142000    \n",
            "_________________________________________________________________\n",
            "lstm_2 (LSTM)                (None, 100)               80400     \n",
            "_________________________________________________________________\n",
            "dense_7 (Dense)              (None, 100)               10100     \n",
            "_________________________________________________________________\n",
            "dropout_5 (Dropout)          (None, 100)               0         \n",
            "_________________________________________________________________\n",
            "dense_8 (Dense)              (None, 5)                 505       \n",
            "=================================================================\n",
            "Total params: 233,005\n",
            "Trainable params: 91,005\n",
            "Non-trainable params: 142,000\n",
            "_________________________________________________________________\n",
            "None\n"
          ],
          "name": "stdout"
        }
      ]
    },
    {
      "cell_type": "code",
      "metadata": {
        "id": "eAqhSMdMRn0L"
      },
      "source": [
        ""
      ],
      "execution_count": 55,
      "outputs": []
    },
    {
      "cell_type": "markdown",
      "metadata": {
        "id": "KSmX9abecyI2"
      },
      "source": [
        "\n",
        "###LSTM Model Training"
      ]
    },
    {
      "cell_type": "code",
      "metadata": {
        "id": "aeR_z2uzYvIj",
        "outputId": "73f907de-0ed9-4677-fc3a-e65c9da5aa4d",
        "colab": {
          "base_uri": "https://localhost:8080/",
          "height": 362
        }
      },
      "source": [
        "history = model1.fit(X_train_pad, y_train, epochs=10,batch_size=32, validation_data=(X_test_pad, y_test), verbose=1)"
      ],
      "execution_count": 56,
      "outputs": [
        {
          "output_type": "stream",
          "text": [
            "Epoch 1/10\n",
            "136/136 [==============================] - 9s 65ms/step - loss: 1.0795 - accuracy: 0.5424 - precision_5: 0.7961 - recall_5: 0.3407 - fbeta_score: 0.4456 - val_loss: 0.6004 - val_accuracy: 0.7017 - val_precision_5: 0.8000 - val_recall_5: 0.6703 - val_fbeta_score: 0.6723\n",
            "Epoch 2/10\n",
            "136/136 [==============================] - 8s 60ms/step - loss: 0.4655 - accuracy: 0.8135 - precision_5: 0.8637 - recall_5: 0.7555 - fbeta_score: 0.7927 - val_loss: 0.5136 - val_accuracy: 0.8260 - val_precision_5: 0.8362 - val_recall_5: 0.8177 - val_fbeta_score: 0.8265\n",
            "Epoch 3/10\n",
            "136/136 [==============================] - 8s 61ms/step - loss: 0.3376 - accuracy: 0.8669 - precision_5: 0.8867 - recall_5: 0.8432 - fbeta_score: 0.8596 - val_loss: 0.2449 - val_accuracy: 0.8941 - val_precision_5: 0.9052 - val_recall_5: 0.8877 - val_fbeta_score: 0.8950\n",
            "Epoch 4/10\n",
            "136/136 [==============================] - 8s 60ms/step - loss: 0.2958 - accuracy: 0.8854 - precision_5: 0.8978 - recall_5: 0.8736 - fbeta_score: 0.8823 - val_loss: 1.5093 - val_accuracy: 0.6639 - val_precision_5: 0.6556 - val_recall_5: 0.5820 - val_fbeta_score: 0.5664\n",
            "Epoch 5/10\n",
            "136/136 [==============================] - 8s 60ms/step - loss: 0.2775 - accuracy: 0.8950 - precision_5: 0.9025 - recall_5: 0.8847 - fbeta_score: 0.8905 - val_loss: 0.2016 - val_accuracy: 0.9171 - val_precision_5: 0.9236 - val_recall_5: 0.9134 - val_fbeta_score: 0.9172\n",
            "Epoch 6/10\n",
            "136/136 [==============================] - 8s 60ms/step - loss: 0.2366 - accuracy: 0.9118 - precision_5: 0.9195 - recall_5: 0.9047 - fbeta_score: 0.9099 - val_loss: 0.1264 - val_accuracy: 0.9540 - val_precision_5: 0.9564 - val_recall_5: 0.9503 - val_fbeta_score: 0.9545\n",
            "Epoch 7/10\n",
            "136/136 [==============================] - 8s 60ms/step - loss: 0.1868 - accuracy: 0.9314 - precision_5: 0.9357 - recall_5: 0.9277 - fbeta_score: 0.9303 - val_loss: 0.1287 - val_accuracy: 0.9558 - val_precision_5: 0.9575 - val_recall_5: 0.9540 - val_fbeta_score: 0.9565\n",
            "Epoch 8/10\n",
            "136/136 [==============================] - 8s 61ms/step - loss: 0.1684 - accuracy: 0.9399 - precision_5: 0.9460 - recall_5: 0.9360 - fbeta_score: 0.9398 - val_loss: 0.2170 - val_accuracy: 0.9079 - val_precision_5: 0.9101 - val_recall_5: 0.9042 - val_fbeta_score: 0.9054\n",
            "Epoch 9/10\n",
            "136/136 [==============================] - 8s 60ms/step - loss: 0.1781 - accuracy: 0.9397 - precision_5: 0.9441 - recall_5: 0.9332 - fbeta_score: 0.9375 - val_loss: 0.0848 - val_accuracy: 0.9779 - val_precision_5: 0.9787 - val_recall_5: 0.9724 - val_fbeta_score: 0.9764\n",
            "Epoch 10/10\n",
            "136/136 [==============================] - 8s 59ms/step - loss: 0.1383 - accuracy: 0.9519 - precision_5: 0.9550 - recall_5: 0.9484 - fbeta_score: 0.9510 - val_loss: 0.0969 - val_accuracy: 0.9659 - val_precision_5: 0.9659 - val_recall_5: 0.9659 - val_fbeta_score: 0.9669\n"
          ],
          "name": "stdout"
        }
      ]
    },
    {
      "cell_type": "code",
      "metadata": {
        "id": "9b_Hca6Z7_Gb",
        "outputId": "561be74f-ee85-4fc1-dce3-04c006bec383",
        "colab": {
          "base_uri": "https://localhost:8080/",
          "height": 295
        }
      },
      "source": [
        "\n",
        "from matplotlib import pyplot\n",
        "\n",
        "pyplot.plot(history.history['loss'])\n",
        "pyplot.plot(history.history['val_loss'])\n",
        "pyplot.title('model train vs validation loss')\n",
        "pyplot.ylabel('loss')\n",
        "pyplot.xlabel('epoch')\n",
        "pyplot.legend(['train', 'validation'], loc='upper right')\n",
        "pyplot.show()\n"
      ],
      "execution_count": 57,
      "outputs": [
        {
          "output_type": "display_data",
          "data": {
            "image/png": "[encoded data removed]",
            "text/plain": [
              "<Figure size 432x288 with 1 Axes>"
            ]
          },
          "metadata": {
            "tags": [],
            "needs_background": "light"
          }
        }
      ]
    },
    {
      "cell_type": "markdown",
      "metadata": {
        "id": "aYW_Hype1VRU"
      },
      "source": [
        "####Bidirectional LSTM"
      ]
    },
    {
      "cell_type": "code",
      "metadata": {
        "id": "AKkIKsmsVVRZ",
        "outputId": "22bf58f3-b708-4024-ff6a-d972099da228",
        "colab": {
          "base_uri": "https://localhost:8080/",
          "height": 310
        }
      },
      "source": [
        "\n",
        "model2 =Sequential()\n",
        "model2.add(embedding_layer)\n",
        "\n",
        "model2.add(Bidirectional(LSTM(100, dropout=0.2, recurrent_dropout=0.25)))\n",
        "model2.add(Dense(5, activation='softmax'))\n",
        "\n",
        "model2.compile(loss='categorical_crossentropy', optimizer='adam', metrics=['accuracy',tf.keras.metrics.Precision(), tf.keras.metrics.Recall(), tfa.metrics.FBetaScore(num_classes=5, average=\"macro\", threshold=0.5)])\n",
        "\n",
        "print(model2.summary())\n"
      ],
      "execution_count": 58,
      "outputs": [
        {
          "output_type": "stream",
          "text": [
            "WARNING:tensorflow:Layer lstm_3 will not use cuDNN kernel since it doesn't meet the cuDNN kernel criteria. It will use generic GPU kernel as fallback when running on GPU\n",
            "WARNING:tensorflow:Layer lstm_3 will not use cuDNN kernel since it doesn't meet the cuDNN kernel criteria. It will use generic GPU kernel as fallback when running on GPU\n",
            "WARNING:tensorflow:Layer lstm_3 will not use cuDNN kernel since it doesn't meet the cuDNN kernel criteria. It will use generic GPU kernel as fallback when running on GPU\n",
            "Model: \"sequential_6\"\n",
            "_________________________________________________________________\n",
            "Layer (type)                 Output Shape              Param #   \n",
            "=================================================================\n",
            "embedding_1 (Embedding)      (None, 15, 100)           142000    \n",
            "_________________________________________________________________\n",
            "bidirectional_1 (Bidirection (None, 200)               160800    \n",
            "_________________________________________________________________\n",
            "dense_9 (Dense)              (None, 5)                 1005      \n",
            "=================================================================\n",
            "Total params: 303,805\n",
            "Trainable params: 161,805\n",
            "Non-trainable params: 142,000\n",
            "_________________________________________________________________\n",
            "None\n"
          ],
          "name": "stdout"
        }
      ]
    },
    {
      "cell_type": "code",
      "metadata": {
        "id": "_5BZB2UfuWM6",
        "outputId": "18ce1490-8d3f-4d7d-ead9-59a69026a220",
        "colab": {
          "base_uri": "https://localhost:8080/",
          "height": 362
        }
      },
      "source": [
        "history = model2.fit(X_train_pad, y_train, epochs=10,batch_size=32, validation_data=(X_test_pad, y_test), verbose=1)"
      ],
      "execution_count": 59,
      "outputs": [
        {
          "output_type": "stream",
          "text": [
            "Epoch 1/10\n",
            "136/136 [==============================] - 16s 116ms/step - loss: 0.9187 - accuracy: 0.6849 - precision_6: 0.8910 - recall_6: 0.4273 - fbeta_score: 0.5655 - val_loss: 0.3083 - val_accuracy: 0.8923 - val_precision_6: 0.9021 - val_recall_6: 0.8821 - val_fbeta_score: 0.8901\n",
            "Epoch 2/10\n",
            "136/136 [==============================] - 16s 114ms/step - loss: 0.2753 - accuracy: 0.8948 - precision_6: 0.9094 - recall_6: 0.8803 - fbeta_score: 0.8903 - val_loss: 0.2262 - val_accuracy: 0.9346 - val_precision_6: 0.9440 - val_recall_6: 0.9153 - val_fbeta_score: 0.9275\n",
            "Epoch 3/10\n",
            "136/136 [==============================] - 15s 113ms/step - loss: 0.2161 - accuracy: 0.9208 - precision_6: 0.9298 - recall_6: 0.9116 - fbeta_score: 0.9185 - val_loss: 0.1246 - val_accuracy: 0.9632 - val_precision_6: 0.9684 - val_recall_6: 0.9586 - val_fbeta_score: 0.9639\n",
            "Epoch 4/10\n",
            "136/136 [==============================] - 15s 114ms/step - loss: 0.1507 - accuracy: 0.9459 - precision_6: 0.9516 - recall_6: 0.9411 - fbeta_score: 0.9452 - val_loss: 0.1004 - val_accuracy: 0.9678 - val_precision_6: 0.9713 - val_recall_6: 0.9669 - val_fbeta_score: 0.9696\n",
            "Epoch 5/10\n",
            "136/136 [==============================] - 15s 114ms/step - loss: 0.1262 - accuracy: 0.9540 - precision_6: 0.9567 - recall_6: 0.9500 - fbeta_score: 0.9526 - val_loss: 0.0827 - val_accuracy: 0.9715 - val_precision_6: 0.9713 - val_recall_6: 0.9678 - val_fbeta_score: 0.9702\n",
            "Epoch 6/10\n",
            "136/136 [==============================] - 16s 114ms/step - loss: 0.1536 - accuracy: 0.9434 - precision_6: 0.9462 - recall_6: 0.9395 - fbeta_score: 0.9420 - val_loss: 0.0861 - val_accuracy: 0.9705 - val_precision_6: 0.9704 - val_recall_6: 0.9659 - val_fbeta_score: 0.9686\n",
            "Epoch 7/10\n",
            "136/136 [==============================] - 15s 114ms/step - loss: 0.1066 - accuracy: 0.9620 - precision_6: 0.9653 - recall_6: 0.9595 - fbeta_score: 0.9618 - val_loss: 0.0901 - val_accuracy: 0.9650 - val_precision_6: 0.9650 - val_recall_6: 0.9650 - val_fbeta_score: 0.9651\n",
            "Epoch 8/10\n",
            "136/136 [==============================] - 16s 115ms/step - loss: 0.0921 - accuracy: 0.9703 - precision_6: 0.9720 - recall_6: 0.9687 - fbeta_score: 0.9700 - val_loss: 0.0703 - val_accuracy: 0.9733 - val_precision_6: 0.9750 - val_recall_6: 0.9705 - val_fbeta_score: 0.9733\n",
            "Epoch 9/10\n",
            "136/136 [==============================] - 16s 114ms/step - loss: 0.0877 - accuracy: 0.9698 - precision_6: 0.9716 - recall_6: 0.9682 - fbeta_score: 0.9695 - val_loss: 0.0680 - val_accuracy: 0.9816 - val_precision_6: 0.9843 - val_recall_6: 0.9816 - val_fbeta_score: 0.9837\n",
            "Epoch 10/10\n",
            "136/136 [==============================] - 16s 114ms/step - loss: 0.0788 - accuracy: 0.9731 - precision_6: 0.9744 - recall_6: 0.9715 - fbeta_score: 0.9726 - val_loss: 0.0772 - val_accuracy: 0.9715 - val_precision_6: 0.9724 - val_recall_6: 0.9715 - val_fbeta_score: 0.9723\n"
          ],
          "name": "stdout"
        }
      ]
    },
    {
      "cell_type": "markdown",
      "metadata": {
        "id": "WUiDfIhCVWqm"
      },
      "source": [
        "###GRU"
      ]
    },
    {
      "cell_type": "code",
      "metadata": {
        "id": "RMl72nGL1enC",
        "outputId": "ad0d298a-ad02-44f2-d57a-8b22522efa9f",
        "colab": {
          "base_uri": "https://localhost:8080/",
          "height": 342
        }
      },
      "source": [
        "\n",
        "#https://www.programcreek.com/python/example/97114/keras.layers.recurrent.GRU\n",
        "\n",
        "model3 = Sequential()\n",
        "model3.add(embedding_layer)\n",
        "model3.add(Dropout(0.5))\n",
        "model3.add(GRU(100, return_sequences=False))\n",
        "# Add dropout if overfitting\n",
        "model3.add(Dropout(0.5))\n",
        "model3.add(Dense(5))\n",
        "model3.add(Activation('softmax'))\n",
        "\n",
        "model3.compile(loss='categorical_crossentropy', optimizer='adam', metrics=['accuracy',tf.keras.metrics.Precision(), tf.keras.metrics.Recall(), tfa.metrics.FBetaScore(num_classes=5, average=\"macro\", threshold= .5)])\n",
        "model3.summary()\n"
      ],
      "execution_count": 60,
      "outputs": [
        {
          "output_type": "stream",
          "text": [
            "Model: \"sequential_7\"\n",
            "_________________________________________________________________\n",
            "Layer (type)                 Output Shape              Param #   \n",
            "=================================================================\n",
            "embedding_1 (Embedding)      (None, 15, 100)           142000    \n",
            "_________________________________________________________________\n",
            "dropout_6 (Dropout)          (None, 15, 100)           0         \n",
            "_________________________________________________________________\n",
            "gru_1 (GRU)                  (None, 100)               60600     \n",
            "_________________________________________________________________\n",
            "dropout_7 (Dropout)          (None, 100)               0         \n",
            "_________________________________________________________________\n",
            "dense_10 (Dense)             (None, 5)                 505       \n",
            "_________________________________________________________________\n",
            "activation_3 (Activation)    (None, 5)                 0         \n",
            "=================================================================\n",
            "Total params: 203,105\n",
            "Trainable params: 61,105\n",
            "Non-trainable params: 142,000\n",
            "_________________________________________________________________\n"
          ],
          "name": "stdout"
        }
      ]
    },
    {
      "cell_type": "code",
      "metadata": {
        "id": "DTZY_L_E5ax9",
        "outputId": "ae77682d-9b2a-40f4-b05c-54f084cc3403",
        "colab": {
          "base_uri": "https://localhost:8080/",
          "height": 362
        }
      },
      "source": [
        "history = model3.fit(X_train_pad, y_train, epochs=10,batch_size=60, validation_data=(X_test_pad, y_test), verbose=1)"
      ],
      "execution_count": 61,
      "outputs": [
        {
          "output_type": "stream",
          "text": [
            "Epoch 1/10\n",
            "73/73 [==============================] - 1s 14ms/step - loss: 1.4922 - accuracy: 0.2947 - precision_7: 0.5470 - recall_7: 0.0442 - fbeta_score: 0.0739 - val_loss: 1.3083 - val_accuracy: 0.3757 - val_precision_7: 0.7293 - val_recall_7: 0.1215 - val_fbeta_score: 0.1442\n",
            "Epoch 2/10\n",
            "73/73 [==============================] - 0s 7ms/step - loss: 1.2605 - accuracy: 0.4174 - precision_7: 0.6740 - recall_7: 0.1485 - fbeta_score: 0.1798 - val_loss: 1.1537 - val_accuracy: 0.5249 - val_precision_7: 0.7394 - val_recall_7: 0.1280 - val_fbeta_score: 0.1575\n",
            "Epoch 3/10\n",
            "73/73 [==============================] - 0s 7ms/step - loss: 1.0666 - accuracy: 0.5246 - precision_7: 0.6821 - recall_7: 0.2781 - fbeta_score: 0.3338 - val_loss: 0.7948 - val_accuracy: 0.7256 - val_precision_7: 0.8969 - val_recall_7: 0.3683 - val_fbeta_score: 0.4254\n",
            "Epoch 4/10\n",
            "73/73 [==============================] - 0s 7ms/step - loss: 0.7754 - accuracy: 0.6782 - precision_7: 0.7646 - recall_7: 0.5472 - fbeta_score: 0.6001 - val_loss: 0.5550 - val_accuracy: 0.7348 - val_precision_7: 0.8063 - val_recall_7: 0.6133 - val_fbeta_score: 0.6556\n",
            "Epoch 5/10\n",
            "73/73 [==============================] - 0s 7ms/step - loss: 0.5791 - accuracy: 0.7555 - precision_7: 0.7987 - recall_7: 0.6885 - fbeta_score: 0.7148 - val_loss: 0.4075 - val_accuracy: 0.8361 - val_precision_7: 0.8759 - val_recall_7: 0.7864 - val_fbeta_score: 0.8238\n",
            "Epoch 6/10\n",
            "73/73 [==============================] - 0s 7ms/step - loss: 0.5175 - accuracy: 0.7776 - precision_7: 0.8194 - recall_7: 0.7249 - fbeta_score: 0.7474 - val_loss: 0.3743 - val_accuracy: 0.8490 - val_precision_7: 0.8700 - val_recall_7: 0.8260 - val_fbeta_score: 0.8499\n",
            "Epoch 7/10\n",
            "73/73 [==============================] - 0s 7ms/step - loss: 0.4864 - accuracy: 0.7972 - precision_7: 0.8253 - recall_7: 0.7558 - fbeta_score: 0.7743 - val_loss: 0.3733 - val_accuracy: 0.8821 - val_precision_7: 0.8985 - val_recall_7: 0.8554 - val_fbeta_score: 0.8762\n",
            "Epoch 8/10\n",
            "73/73 [==============================] - 1s 7ms/step - loss: 0.4346 - accuracy: 0.8211 - precision_7: 0.8424 - recall_7: 0.7887 - fbeta_score: 0.8072 - val_loss: 0.4276 - val_accuracy: 0.7348 - val_precision_7: 0.7687 - val_recall_7: 0.7099 - val_fbeta_score: 0.7379\n",
            "Epoch 9/10\n",
            "73/73 [==============================] - 0s 7ms/step - loss: 0.4259 - accuracy: 0.8250 - precision_7: 0.8498 - recall_7: 0.7995 - fbeta_score: 0.8179 - val_loss: 0.2847 - val_accuracy: 0.8987 - val_precision_7: 0.9130 - val_recall_7: 0.8886 - val_fbeta_score: 0.9014\n",
            "Epoch 10/10\n",
            "73/73 [==============================] - 0s 7ms/step - loss: 0.3973 - accuracy: 0.8363 - precision_7: 0.8618 - recall_7: 0.8124 - fbeta_score: 0.8303 - val_loss: 0.2791 - val_accuracy: 0.9006 - val_precision_7: 0.9185 - val_recall_7: 0.8923 - val_fbeta_score: 0.9045\n"
          ],
          "name": "stdout"
        }
      ]
    },
    {
      "cell_type": "markdown",
      "metadata": {
        "id": "A3lKlYxJyb1N"
      },
      "source": [
        "###Simple RNN"
      ]
    },
    {
      "cell_type": "code",
      "metadata": {
        "id": "lQ9dub5MyaM9",
        "outputId": "78cbb49f-098d-432e-9db8-994507809abc",
        "colab": {
          "base_uri": "https://localhost:8080/",
          "height": 245
        }
      },
      "source": [
        "\n",
        "#https://medium.com/@hemantranvir/spam-detection-using-rnn-simplernn-lstm-with-step-by-step-explanation-530367608071\n",
        "model4 = Sequential()\n",
        "model4.add(embedding_layer)\n",
        "#model.add(SimpleRNN(units=embedding_mat_columns))\n",
        "model4.add(SimpleRNN(units=100, dropout=0.2, recurrent_dropout=0.25))\n",
        "model4.add(Dense(5, activation='softmax'))\n",
        "model4.compile(loss='categorical_crossentropy', optimizer='adam', metrics=['accuracy',tf.keras.metrics.Precision(), tf.keras.metrics.Recall(), tfa.metrics.FBetaScore(num_classes=5, average=\"macro\", threshold= 0.5 )])\n",
        "model4.summary()\n"
      ],
      "execution_count": 62,
      "outputs": [
        {
          "output_type": "stream",
          "text": [
            "Model: \"sequential_8\"\n",
            "_________________________________________________________________\n",
            "Layer (type)                 Output Shape              Param #   \n",
            "=================================================================\n",
            "embedding_1 (Embedding)      (None, 15, 100)           142000    \n",
            "_________________________________________________________________\n",
            "simple_rnn_1 (SimpleRNN)     (None, 100)               20100     \n",
            "_________________________________________________________________\n",
            "dense_11 (Dense)             (None, 5)                 505       \n",
            "=================================================================\n",
            "Total params: 162,605\n",
            "Trainable params: 20,605\n",
            "Non-trainable params: 142,000\n",
            "_________________________________________________________________\n"
          ],
          "name": "stdout"
        }
      ]
    },
    {
      "cell_type": "code",
      "metadata": {
        "id": "GAtKhr6wziaS",
        "outputId": "cdd5850a-ce24-421b-b007-98bed09d890f",
        "colab": {
          "base_uri": "https://localhost:8080/",
          "height": 362
        }
      },
      "source": [
        "history = model4.fit(X_train_pad, y_train, epochs=10,batch_size=60, validation_data=(X_test_pad, y_test), verbose=1)"
      ],
      "execution_count": 63,
      "outputs": [
        {
          "output_type": "stream",
          "text": [
            "Epoch 1/10\n",
            "73/73 [==============================] - 2s 25ms/step - loss: 1.5081 - accuracy: 0.3211 - precision_8: 0.6173 - recall_8: 0.0557 - fbeta_score: 0.0989 - val_loss: 1.0069 - val_accuracy: 0.6041 - val_precision_8: 0.8627 - val_recall_8: 0.4512 - val_fbeta_score: 0.5412\n",
            "Epoch 2/10\n",
            "73/73 [==============================] - 1s 20ms/step - loss: 1.1408 - accuracy: 0.5433 - precision_8: 0.6920 - recall_8: 0.3435 - fbeta_score: 0.4472 - val_loss: 0.5786 - val_accuracy: 0.8343 - val_precision_8: 0.8750 - val_recall_8: 0.7928 - val_fbeta_score: 0.8228\n",
            "Epoch 3/10\n",
            "73/73 [==============================] - 1s 20ms/step - loss: 0.7360 - accuracy: 0.7256 - precision_8: 0.7998 - recall_8: 0.6291 - fbeta_score: 0.6814 - val_loss: 0.3849 - val_accuracy: 0.8628 - val_precision_8: 0.8825 - val_recall_8: 0.8508 - val_fbeta_score: 0.8649\n",
            "Epoch 4/10\n",
            "73/73 [==============================] - 1s 20ms/step - loss: 0.5813 - accuracy: 0.7675 - precision_8: 0.8107 - recall_8: 0.7166 - fbeta_score: 0.7446 - val_loss: 0.3570 - val_accuracy: 0.8278 - val_precision_8: 0.8369 - val_recall_8: 0.8223 - val_fbeta_score: 0.8196\n",
            "Epoch 5/10\n",
            "73/73 [==============================] - 2s 21ms/step - loss: 0.5216 - accuracy: 0.7956 - precision_8: 0.8283 - recall_8: 0.7551 - fbeta_score: 0.7779 - val_loss: 0.3124 - val_accuracy: 0.8775 - val_precision_8: 0.8826 - val_recall_8: 0.8720 - val_fbeta_score: 0.8775\n",
            "Epoch 6/10\n",
            "73/73 [==============================] - 2s 21ms/step - loss: 0.4833 - accuracy: 0.8092 - precision_8: 0.8315 - recall_8: 0.7781 - fbeta_score: 0.7934 - val_loss: 0.3244 - val_accuracy: 0.8610 - val_precision_8: 0.8677 - val_recall_8: 0.8573 - val_fbeta_score: 0.8602\n",
            "Epoch 7/10\n",
            "73/73 [==============================] - 2s 21ms/step - loss: 0.4466 - accuracy: 0.8112 - precision_8: 0.8339 - recall_8: 0.7861 - fbeta_score: 0.7994 - val_loss: 0.2922 - val_accuracy: 0.8775 - val_precision_8: 0.8796 - val_recall_8: 0.8748 - val_fbeta_score: 0.8780\n",
            "Epoch 8/10\n",
            "73/73 [==============================] - 2s 21ms/step - loss: 0.4289 - accuracy: 0.8269 - precision_8: 0.8417 - recall_8: 0.8066 - fbeta_score: 0.8150 - val_loss: 0.2893 - val_accuracy: 0.8803 - val_precision_8: 0.8849 - val_recall_8: 0.8775 - val_fbeta_score: 0.8810\n",
            "Epoch 9/10\n",
            "73/73 [==============================] - 1s 20ms/step - loss: 0.4132 - accuracy: 0.8308 - precision_8: 0.8480 - recall_8: 0.8145 - fbeta_score: 0.8230 - val_loss: 0.3046 - val_accuracy: 0.8766 - val_precision_8: 0.8855 - val_recall_8: 0.8757 - val_fbeta_score: 0.8813\n",
            "Epoch 10/10\n",
            "73/73 [==============================] - 2s 21ms/step - loss: 0.4085 - accuracy: 0.8370 - precision_8: 0.8550 - recall_8: 0.8200 - fbeta_score: 0.8289 - val_loss: 0.2929 - val_accuracy: 0.8831 - val_precision_8: 0.8901 - val_recall_8: 0.8803 - val_fbeta_score: 0.8849\n"
          ],
          "name": "stdout"
        }
      ]
    },
    {
      "cell_type": "markdown",
      "metadata": {
        "id": "5BavxI1y9jIc"
      },
      "source": [
        "####CNN"
      ]
    },
    {
      "cell_type": "code",
      "metadata": {
        "id": "0i90UNmRAiGb",
        "outputId": "9870dfbc-215a-4947-eb6a-ffd313a7f4e2",
        "colab": {
          "base_uri": "https://localhost:8080/",
          "height": 440
        }
      },
      "source": [
        "#https://github.com/keras-team/keras/blob/master/examples/imdb_cnn.py----------\n",
        "#https://github.com/bhaveshoswal/CNN-text-classification-keras/blob/master/model.py\n",
        "# set parameters:\n",
        "filters = 250\n",
        "kernel_size = 3\n",
        "hidden_dims = 100\n",
        "\n",
        "model5 = Sequential()\n",
        "\n",
        "# we start off with an efficient embedding layer which maps\n",
        "# our vocab indices into embedding_dims dimensions\n",
        "\n",
        "#model.add(Embedding(max_features, embedding_dims, input_length=maxlen))\n",
        "model5.add(embedding_layer)\n",
        "model5.add(Dropout(0.2))\n",
        "\n",
        "# we add a Convolution1D, which will learn filters\n",
        "# word group filters of size filter_length:\n",
        "model5.add(Conv1D(filters,\n",
        "                 kernel_size,\n",
        "                 padding='valid',\n",
        "                 activation='relu',\n",
        "                 strides=1))\n",
        "# we use max pooling:\n",
        "model5.add(GlobalMaxPooling1D())\n",
        "\n",
        "# We add a vanilla hidden layer:\n",
        "model5.add(Dense(hidden_dims))\n",
        "model5.add(Dropout(0.2))\n",
        "model5.add(Activation('relu'))\n",
        "\n",
        "# We project onto a single unit output layer, and squash it with a sigmoid:\n",
        "model5.add(Dense(5))\n",
        "model5.add(Activation('softmax'))\n",
        "\n",
        "model5.compile(loss='categorical_crossentropy',\n",
        "              optimizer='adam',\n",
        "              metrics=['accuracy',tf.keras.metrics.Precision(), tf.keras.metrics.Recall(), tfa.metrics.FBetaScore(num_classes=5, average=\"macro\", threshold= 0.5 )])\n",
        "\n",
        "model5.summary()"
      ],
      "execution_count": 64,
      "outputs": [
        {
          "output_type": "stream",
          "text": [
            "Model: \"sequential_9\"\n",
            "_________________________________________________________________\n",
            "Layer (type)                 Output Shape              Param #   \n",
            "=================================================================\n",
            "embedding_1 (Embedding)      (None, 15, 100)           142000    \n",
            "_________________________________________________________________\n",
            "dropout_8 (Dropout)          (None, 15, 100)           0         \n",
            "_________________________________________________________________\n",
            "conv1d_1 (Conv1D)            (None, 13, 250)           75250     \n",
            "_________________________________________________________________\n",
            "global_max_pooling1d_1 (Glob (None, 250)               0         \n",
            "_________________________________________________________________\n",
            "dense_12 (Dense)             (None, 100)               25100     \n",
            "_________________________________________________________________\n",
            "dropout_9 (Dropout)          (None, 100)               0         \n",
            "_________________________________________________________________\n",
            "activation_4 (Activation)    (None, 100)               0         \n",
            "_________________________________________________________________\n",
            "dense_13 (Dense)             (None, 5)                 505       \n",
            "_________________________________________________________________\n",
            "activation_5 (Activation)    (None, 5)                 0         \n",
            "=================================================================\n",
            "Total params: 242,855\n",
            "Trainable params: 100,855\n",
            "Non-trainable params: 142,000\n",
            "_________________________________________________________________\n"
          ],
          "name": "stdout"
        }
      ]
    },
    {
      "cell_type": "code",
      "metadata": {
        "id": "iA937nDv-m5t",
        "outputId": "9f1d5b3d-d9c6-42ca-c490-d6208e7334c0",
        "colab": {
          "base_uri": "https://localhost:8080/",
          "height": 362
        }
      },
      "source": [
        "history = model5.fit(X_train_pad, y_train, epochs=10,batch_size=60, validation_data=(X_test_pad, y_test), verbose=1)"
      ],
      "execution_count": 65,
      "outputs": [
        {
          "output_type": "stream",
          "text": [
            "Epoch 1/10\n",
            "73/73 [==============================] - 1s 10ms/step - loss: 1.1132 - accuracy: 0.6446 - precision_9: 0.9291 - recall_9: 0.2657 - fbeta_score: 0.4036 - val_loss: 0.5305 - val_accuracy: 0.8462 - val_precision_9: 0.9446 - val_recall_9: 0.7228 - val_fbeta_score: 0.8066\n",
            "Epoch 2/10\n",
            "73/73 [==============================] - 0s 6ms/step - loss: 0.4663 - accuracy: 0.8474 - precision_9: 0.8971 - recall_9: 0.7751 - fbeta_score: 0.8193 - val_loss: 0.2984 - val_accuracy: 0.8978 - val_precision_9: 0.9176 - val_recall_9: 0.8508 - val_fbeta_score: 0.8745\n",
            "Epoch 3/10\n",
            "73/73 [==============================] - 0s 6ms/step - loss: 0.3353 - accuracy: 0.8775 - precision_9: 0.9023 - recall_9: 0.8439 - fbeta_score: 0.8661 - val_loss: 0.2297 - val_accuracy: 0.9282 - val_precision_9: 0.9415 - val_recall_9: 0.9042 - val_fbeta_score: 0.9222\n",
            "Epoch 4/10\n",
            "73/73 [==============================] - 0s 6ms/step - loss: 0.2730 - accuracy: 0.8955 - precision_9: 0.9133 - recall_9: 0.8805 - fbeta_score: 0.8932 - val_loss: 0.2908 - val_accuracy: 0.8674 - val_precision_9: 0.8729 - val_recall_9: 0.8665 - val_fbeta_score: 0.8721\n",
            "Epoch 5/10\n",
            "73/73 [==============================] - 0s 6ms/step - loss: 0.2342 - accuracy: 0.9187 - precision_9: 0.9292 - recall_9: 0.9038 - fbeta_score: 0.9145 - val_loss: 0.1524 - val_accuracy: 0.9549 - val_precision_9: 0.9608 - val_recall_9: 0.9475 - val_fbeta_score: 0.9547\n",
            "Epoch 6/10\n",
            "73/73 [==============================] - 0s 6ms/step - loss: 0.2154 - accuracy: 0.9201 - precision_9: 0.9293 - recall_9: 0.9111 - fbeta_score: 0.9184 - val_loss: 0.1999 - val_accuracy: 0.9227 - val_precision_9: 0.9275 - val_recall_9: 0.9190 - val_fbeta_score: 0.9184\n",
            "Epoch 7/10\n",
            "73/73 [==============================] - 0s 6ms/step - loss: 0.1801 - accuracy: 0.9326 - precision_9: 0.9399 - recall_9: 0.9250 - fbeta_score: 0.9310 - val_loss: 0.1139 - val_accuracy: 0.9595 - val_precision_9: 0.9665 - val_recall_9: 0.9567 - val_fbeta_score: 0.9612\n",
            "Epoch 8/10\n",
            "73/73 [==============================] - 0s 6ms/step - loss: 0.1651 - accuracy: 0.9413 - precision_9: 0.9492 - recall_9: 0.9328 - fbeta_score: 0.9398 - val_loss: 0.0977 - val_accuracy: 0.9797 - val_precision_9: 0.9806 - val_recall_9: 0.9788 - val_fbeta_score: 0.9803\n",
            "Epoch 9/10\n",
            "73/73 [==============================] - 0s 6ms/step - loss: 0.1424 - accuracy: 0.9551 - precision_9: 0.9582 - recall_9: 0.9496 - fbeta_score: 0.9532 - val_loss: 0.1227 - val_accuracy: 0.9521 - val_precision_9: 0.9556 - val_recall_9: 0.9512 - val_fbeta_score: 0.9521\n",
            "Epoch 10/10\n",
            "73/73 [==============================] - 0s 6ms/step - loss: 0.1434 - accuracy: 0.9498 - precision_9: 0.9538 - recall_9: 0.9452 - fbeta_score: 0.9487 - val_loss: 0.0783 - val_accuracy: 0.9788 - val_precision_9: 0.9806 - val_recall_9: 0.9779 - val_fbeta_score: 0.9798\n"
          ],
          "name": "stdout"
        }
      ]
    },
    {
      "cell_type": "markdown",
      "metadata": {
        "id": "RIxk7iXe8o6N"
      },
      "source": [
        "\n",
        "###Can this model detect qtype from LSTM model?\n",
        "\n"
      ]
    },
    {
      "cell_type": "code",
      "metadata": {
        "id": "p7lm3azQ8S_2"
      },
      "source": [
        "from pandas import *\n",
        "import operator\n",
        "\n",
        "def predict_(s):\n",
        "    x_final = pd.DataFrame({\"Question\":[s]})\n",
        "    #print(\"x final\",x_final)\n",
        "    test_lines = CleanTokenize(x_final)\n",
        "    test_sequences = tokenizer_obj.texts_to_sequences(test_lines)\n",
        "    test_review_pad = pad_sequences(test_sequences, maxlen=max_length, padding='post')\n",
        "    pred = model1.predict(test_review_pad)\n",
        "    #print(f'NumPy Array:\\n{[pred]}')\n",
        "    pred = pred.ravel()\n",
        "    listOfInt  = pred.tolist()\n",
        "    #print(listOfInt)\n",
        "    listOfStr = [\"genetic changes\", \"inheritance\", \"frequency\" , \"information\" , \"treatment\"]\n",
        "    # Create a zip object from two lists\n",
        "    zipbObj = zip(listOfStr, listOfInt)\n",
        "    # Create a dictionary from zip object\n",
        "    dictOfresult = dict(zipbObj)\n",
        "    #print(s, end =\" \")\n",
        "    #print(\"predict type:\" max(dictOfresult.items(), key=operator.itemgetter(1))[0])\n",
        "    return max(dictOfresult.items(), key=operator.itemgetter(1))[0]\n",
        "\n",
        "def qtype_encode(actual_qtype):\n",
        "    if actual_qtype == 0:\n",
        "        return 'genetic changes'      \n",
        "    elif actual_qtype == 1: \n",
        "        return 'inheritance'\n",
        "    elif  actual_qtype == 2: \n",
        "        return 'frequency'\n",
        "    elif  actual_qtype == 3: \n",
        "        return 'information'\n",
        "    elif  actual_qtype == 4: \n",
        "        return 'treatment'"
      ],
      "execution_count": 66,
      "outputs": []
    },
    {
      "cell_type": "code",
      "metadata": {
        "id": "iWgTgO_TRqOb",
        "outputId": "7c334762-0235-4cb9-9d7d-92bbfc140264",
        "colab": {
          "base_uri": "https://localhost:8080/",
          "height": 1000
        }
      },
      "source": [
        "i = 4000\n",
        "for k in range(i,i+50):\n",
        "    ques = df['Question'].iloc[k]  \n",
        "    qtype = df['qtype'].iloc[k]\n",
        "    predict_qtype = predict_(ques)\n",
        "    actual_qtype = qtype_encode(qtype)\n",
        "    print(\"Question : \",ques ,\"\\nActual type :\",actual_qtype,\"\\nPredict type : \",predict_qtype,\"\\n\\n\" )"
      ],
      "execution_count": 67,
      "outputs": [
        {
          "output_type": "stream",
          "text": [
            "Question :  What is (are) Potocki-Shaffer syndrome ? \n",
            "Actual type : information \n",
            "Predict type :  information \n",
            "\n",
            "\n",
            "Question :  How many people are affected by Potocki-Shaffer syndrome ? \n",
            "Actual type : frequency \n",
            "Predict type :  frequency \n",
            "\n",
            "\n",
            "Question :  What are the genetic changes related to Potocki-Shaffer syndrome ? \n",
            "Actual type : genetic changes \n",
            "Predict type :  genetic changes \n",
            "\n",
            "\n",
            "Question :  Is Potocki-Shaffer syndrome inherited ? \n",
            "Actual type : inheritance \n",
            "Predict type :  inheritance \n",
            "\n",
            "\n",
            "Question :  What are the treatments for Potocki-Shaffer syndrome ? \n",
            "Actual type : treatment \n",
            "Predict type :  treatment \n",
            "\n",
            "\n",
            "Question :  What is (are) PPM-X syndrome ? \n",
            "Actual type : information \n",
            "Predict type :  information \n",
            "\n",
            "\n",
            "Question :  How many people are affected by PPM-X syndrome ? \n",
            "Actual type : frequency \n",
            "Predict type :  frequency \n",
            "\n",
            "\n",
            "Question :  What are the genetic changes related to PPM-X syndrome ? \n",
            "Actual type : genetic changes \n",
            "Predict type :  genetic changes \n",
            "\n",
            "\n",
            "Question :  Is PPM-X syndrome inherited ? \n",
            "Actual type : inheritance \n",
            "Predict type :  inheritance \n",
            "\n",
            "\n",
            "Question :  What are the treatments for PPM-X syndrome ? \n",
            "Actual type : treatment \n",
            "Predict type :  treatment \n",
            "\n",
            "\n",
            "Question :  What is (are) Prader-Willi syndrome ? \n",
            "Actual type : information \n",
            "Predict type :  information \n",
            "\n",
            "\n",
            "Question :  How many people are affected by Prader-Willi syndrome ? \n",
            "Actual type : frequency \n",
            "Predict type :  frequency \n",
            "\n",
            "\n",
            "Question :  What are the genetic changes related to Prader-Willi syndrome ? \n",
            "Actual type : genetic changes \n",
            "Predict type :  genetic changes \n",
            "\n",
            "\n",
            "Question :  Is Prader-Willi syndrome inherited ? \n",
            "Actual type : inheritance \n",
            "Predict type :  inheritance \n",
            "\n",
            "\n",
            "Question :  What are the treatments for Prader-Willi syndrome ? \n",
            "Actual type : treatment \n",
            "Predict type :  treatment \n",
            "\n",
            "\n",
            "Question :  What is (are) preeclampsia ? \n",
            "Actual type : information \n",
            "Predict type :  information \n",
            "\n",
            "\n",
            "Question :  How many people are affected by preeclampsia ? \n",
            "Actual type : frequency \n",
            "Predict type :  frequency \n",
            "\n",
            "\n",
            "Question :  What are the genetic changes related to preeclampsia ? \n",
            "Actual type : genetic changes \n",
            "Predict type :  genetic changes \n",
            "\n",
            "\n",
            "Question :  Is preeclampsia inherited ? \n",
            "Actual type : inheritance \n",
            "Predict type :  inheritance \n",
            "\n",
            "\n",
            "Question :  What are the treatments for preeclampsia ? \n",
            "Actual type : treatment \n",
            "Predict type :  treatment \n",
            "\n",
            "\n",
            "Question :  What is (are) prekallikrein deficiency ? \n",
            "Actual type : information \n",
            "Predict type :  information \n",
            "\n",
            "\n",
            "Question :  How many people are affected by prekallikrein deficiency ? \n",
            "Actual type : frequency \n",
            "Predict type :  frequency \n",
            "\n",
            "\n",
            "Question :  What are the genetic changes related to prekallikrein deficiency ? \n",
            "Actual type : genetic changes \n",
            "Predict type :  genetic changes \n",
            "\n",
            "\n",
            "Question :  Is prekallikrein deficiency inherited ? \n",
            "Actual type : inheritance \n",
            "Predict type :  inheritance \n",
            "\n",
            "\n",
            "Question :  What are the treatments for prekallikrein deficiency ? \n",
            "Actual type : treatment \n",
            "Predict type :  treatment \n",
            "\n",
            "\n",
            "Question :  What is (are) PRICKLE1-related progressive myoclonus epilepsy with ataxia ? \n",
            "Actual type : information \n",
            "Predict type :  treatment \n",
            "\n",
            "\n",
            "Question :  How many people are affected by PRICKLE1-related progressive myoclonus epilepsy with ataxia ? \n",
            "Actual type : frequency \n",
            "Predict type :  frequency \n",
            "\n",
            "\n",
            "Question :  What are the genetic changes related to PRICKLE1-related progressive myoclonus epilepsy with ataxia ? \n",
            "Actual type : genetic changes \n",
            "Predict type :  genetic changes \n",
            "\n",
            "\n",
            "Question :  Is PRICKLE1-related progressive myoclonus epilepsy with ataxia inherited ? \n",
            "Actual type : inheritance \n",
            "Predict type :  treatment \n",
            "\n",
            "\n",
            "Question :  What are the treatments for PRICKLE1-related progressive myoclonus epilepsy with ataxia ? \n",
            "Actual type : treatment \n",
            "Predict type :  treatment \n",
            "\n",
            "\n",
            "Question :  What is (are) primary carnitine deficiency ? \n",
            "Actual type : information \n",
            "Predict type :  information \n",
            "\n",
            "\n",
            "Question :  How many people are affected by primary carnitine deficiency ? \n",
            "Actual type : frequency \n",
            "Predict type :  frequency \n",
            "\n",
            "\n",
            "Question :  What are the genetic changes related to primary carnitine deficiency ? \n",
            "Actual type : genetic changes \n",
            "Predict type :  genetic changes \n",
            "\n",
            "\n",
            "Question :  Is primary carnitine deficiency inherited ? \n",
            "Actual type : inheritance \n",
            "Predict type :  inheritance \n",
            "\n",
            "\n",
            "Question :  What are the treatments for primary carnitine deficiency ? \n",
            "Actual type : treatment \n",
            "Predict type :  treatment \n",
            "\n",
            "\n",
            "Question :  What is (are) primary ciliary dyskinesia ? \n",
            "Actual type : information \n",
            "Predict type :  information \n",
            "\n",
            "\n",
            "Question :  How many people are affected by primary ciliary dyskinesia ? \n",
            "Actual type : frequency \n",
            "Predict type :  frequency \n",
            "\n",
            "\n",
            "Question :  What are the genetic changes related to primary ciliary dyskinesia ? \n",
            "Actual type : genetic changes \n",
            "Predict type :  genetic changes \n",
            "\n",
            "\n",
            "Question :  Is primary ciliary dyskinesia inherited ? \n",
            "Actual type : inheritance \n",
            "Predict type :  inheritance \n",
            "\n",
            "\n",
            "Question :  What are the treatments for primary ciliary dyskinesia ? \n",
            "Actual type : treatment \n",
            "Predict type :  treatment \n",
            "\n",
            "\n",
            "Question :  What is (are) primary hyperoxaluria ? \n",
            "Actual type : information \n",
            "Predict type :  information \n",
            "\n",
            "\n",
            "Question :  How many people are affected by primary hyperoxaluria ? \n",
            "Actual type : frequency \n",
            "Predict type :  frequency \n",
            "\n",
            "\n",
            "Question :  What are the genetic changes related to primary hyperoxaluria ? \n",
            "Actual type : genetic changes \n",
            "Predict type :  genetic changes \n",
            "\n",
            "\n",
            "Question :  Is primary hyperoxaluria inherited ? \n",
            "Actual type : inheritance \n",
            "Predict type :  treatment \n",
            "\n",
            "\n",
            "Question :  What are the treatments for primary hyperoxaluria ? \n",
            "Actual type : treatment \n",
            "Predict type :  treatment \n",
            "\n",
            "\n",
            "Question :  What is (are) primary macronodular adrenal hyperplasia ? \n",
            "Actual type : information \n",
            "Predict type :  information \n",
            "\n",
            "\n",
            "Question :  How many people are affected by primary macronodular adrenal hyperplasia ? \n",
            "Actual type : frequency \n",
            "Predict type :  frequency \n",
            "\n",
            "\n",
            "Question :  What are the genetic changes related to primary macronodular adrenal hyperplasia ? \n",
            "Actual type : genetic changes \n",
            "Predict type :  genetic changes \n",
            "\n",
            "\n",
            "Question :  Is primary macronodular adrenal hyperplasia inherited ? \n",
            "Actual type : inheritance \n",
            "Predict type :  inheritance \n",
            "\n",
            "\n",
            "Question :  What are the treatments for primary macronodular adrenal hyperplasia ? \n",
            "Actual type : treatment \n",
            "Predict type :  treatment \n",
            "\n",
            "\n"
          ],
          "name": "stdout"
        }
      ]
    },
    {
      "cell_type": "code",
      "metadata": {
        "id": "ALDXxXV4-3a0",
        "outputId": "094a107f-ab48-4c47-c560-b33fd5732ba8",
        "colab": {
          "base_uri": "https://localhost:8080/",
          "height": 35
        }
      },
      "source": [
        "predict_(\"What is (are) Coronavirous syndrome ?\")    "
      ],
      "execution_count": 68,
      "outputs": [
        {
          "output_type": "execute_result",
          "data": {
            "application/vnd.google.colaboratory.intrinsic+json": {
              "type": "string"
            },
            "text/plain": [
              "'information'"
            ]
          },
          "metadata": {
            "tags": []
          },
          "execution_count": 68
        }
      ]
    },
    {
      "cell_type": "code",
      "metadata": {
        "id": "NJ4AIl8FDvyF",
        "outputId": "e85e6114-da0b-44f9-a06b-4bdc93cea4b5",
        "colab": {
          "base_uri": "https://localhost:8080/",
          "height": 35
        }
      },
      "source": [
        "predict_(\"How many people are affected by Coronavirous syndrome ?\")"
      ],
      "execution_count": 69,
      "outputs": [
        {
          "output_type": "execute_result",
          "data": {
            "application/vnd.google.colaboratory.intrinsic+json": {
              "type": "string"
            },
            "text/plain": [
              "'frequency'"
            ]
          },
          "metadata": {
            "tags": []
          },
          "execution_count": 69
        }
      ]
    },
    {
      "cell_type": "code",
      "metadata": {
        "id": "vpDmeEsdDzAC",
        "outputId": "2df24a3d-365e-4d89-96ae-dd10455906fe",
        "colab": {
          "base_uri": "https://localhost:8080/",
          "height": 35
        }
      },
      "source": [
        "predict_(\"Is Coronavirous inherited ?\")"
      ],
      "execution_count": 70,
      "outputs": [
        {
          "output_type": "execute_result",
          "data": {
            "application/vnd.google.colaboratory.intrinsic+json": {
              "type": "string"
            },
            "text/plain": [
              "'treatment'"
            ]
          },
          "metadata": {
            "tags": []
          },
          "execution_count": 70
        }
      ]
    }
  ]
}
