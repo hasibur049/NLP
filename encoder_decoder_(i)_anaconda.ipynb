{
 "cells": [
  {
   "cell_type": "markdown",
   "metadata": {
    "colab_type": "text",
    "id": "view-in-github"
   },
   "source": [
    "<a href=\"https://colab.research.google.com/github/hasiburrahman1/NLP/blob/master/encoder_decoderV2.ipynb\" target=\"_parent\"><img src=\"https://colab.research.google.com/assets/colab-badge.svg\" alt=\"Open In Colab\"/></a>"
   ]
  },
  {
   "cell_type": "code",
   "execution_count": 1,
   "metadata": {
    "colab": {
     "base_uri": "https://localhost:8080/",
     "height": 35
    },
    "id": "tzHsWfqustqP",
    "outputId": "859bcbdf-0625-43bc-da26-59c1e90f47f5"
   },
   "outputs": [
    {
     "data": {
      "text/plain": [
       "'C:\\\\Users\\\\Hasibur1\\\\Desktop\\\\thisis\\\\final'"
      ]
     },
     "execution_count": 1,
     "metadata": {},
     "output_type": "execute_result"
    }
   ],
   "source": [
    "pwd"
   ]
  },
  {
   "cell_type": "code",
   "execution_count": 3,
   "metadata": {
    "id": "g1dQ1yF7stqV"
   },
   "outputs": [
    {
     "name": "stderr",
     "output_type": "stream",
     "text": [
      "C:\\Users\\Hasibur1\\Anaconda3_\\lib\\site-packages\\ipykernel_launcher.py:6: FutureWarning: The Panel class is removed from pandas. Accessing it from the top-level namespace will also be removed in the next version\n",
      "  \n"
     ]
    }
   ],
   "source": [
    "import pandas as pd\n",
    "import numpy as np\n",
    "import sys\n",
    "import string\n",
    "from string import digits\n",
    "from pandas import Panel\n",
    "from sklearn.datasets import make_circles\n",
    "from matplotlib import pyplot\n",
    "%matplotlib inline\n",
    "import re\n",
    "from sklearn.utils import shuffle\n",
    "from sklearn.model_selection import train_test_split\n",
    "from keras.layers import Input, LSTM, Embedding, Dense\n",
    "from keras.models import Model\n",
    "import os\n",
    "import re\n",
    "import matplotlib.pyplot as plt\n",
    "import xml.etree.ElementTree as et \n",
    "import tensorflow as tf \n",
    "from tensorflow.python.keras.preprocessing.text import Tokenizer\n",
    "from tensorflow.python.keras.preprocessing.sequence import pad_sequences\n",
    "from keras.models import Sequential\n",
    "from keras.layers import Dense, Embedding, GRU, LSTM, Bidirectional\n",
    "from keras.layers.embeddings import Embedding\n",
    "from keras.initializers import Constant\n",
    "from keras.callbacks import ModelCheckpoint\n",
    "from keras.models import load_model\n",
    "from keras.callbacks import Callback\n",
    "from sklearn.metrics import confusion_matrix, f1_score, precision_score, recall_score"
   ]
  },
  {
   "cell_type": "code",
   "execution_count": 4,
   "metadata": {
    "id": "tpTooBwVtD9c"
   },
   "outputs": [
    {
     "name": "stderr",
     "output_type": "stream",
     "text": [
      "C:\\Users\\Hasibur1\\Anaconda3_\\lib\\site-packages\\ipykernel_launcher.py:11: ParserWarning: Falling back to the 'python' engine because the 'c' engine does not support regex separators (separators > 1 char and different from '\\s+' are interpreted as regex); you can avoid this warning by specifying engine='python'.\n",
      "  # This is added back by InteractiveShellApp.init_path()\n"
     ]
    }
   ],
   "source": [
    "# import pandas as pd \n",
    "import pandas as pd \n",
    "   \n",
    "# Takes the file's folder \n",
    "#filepath = r\"C:Documents\\dataset.csv\"\n",
    "\n",
    "filepath = r\"C:\\Users\\Hasibur1\\Desktop\\thisis\\final\\dataset.csv\"\n",
    "# read the CSV file \n",
    "\n",
    "#lines = pd.read_csv(filepath, encoding='ascii')\n",
    "lines = pd.read_csv(filepath, sep='delimiter', header=None)"
   ]
  },
  {
   "cell_type": "code",
   "execution_count": 5,
   "metadata": {
    "colab": {
     "base_uri": "https://localhost:8080/",
     "height": 50
    },
    "id": "yHeT3XDBstqa",
    "outputId": "c34070a8-92f1-4cd3-dd03-1fd205666c3c"
   },
   "outputs": [
    {
     "name": "stdout",
     "output_type": "stream",
     "text": [
      "4040\n"
     ]
    },
    {
     "data": {
      "text/plain": [
       "['qa']"
      ]
     },
     "execution_count": 5,
     "metadata": {},
     "output_type": "execute_result"
    }
   ],
   "source": [
    "print(len(lines)) \n",
    "lines.columns = ['qa']\n",
    "list(lines.columns)"
   ]
  },
  {
   "cell_type": "code",
   "execution_count": 6,
   "metadata": {
    "id": "HPhka2O0stqc"
   },
   "outputs": [],
   "source": [
    "lines[['question','answer']] = lines.qa.apply(lambda x: pd.Series(str(x).split(\"?\")))"
   ]
  },
  {
   "cell_type": "code",
   "execution_count": 7,
   "metadata": {
    "colab": {
     "base_uri": "https://localhost:8080/",
     "height": 33
    },
    "id": "4uaQB5alstqe",
    "outputId": "35a27e82-0457-4c82-b2e8-d543a77ad8b0"
   },
   "outputs": [
    {
     "data": {
      "text/plain": [
       "['qa', 'question', 'answer']"
      ]
     },
     "execution_count": 7,
     "metadata": {},
     "output_type": "execute_result"
    }
   ],
   "source": [
    "list(lines.columns)"
   ]
  },
  {
   "cell_type": "code",
   "execution_count": 8,
   "metadata": {
    "id": "kI7x7oqqstqg"
   },
   "outputs": [],
   "source": [
    "for col in lines.columns: \n",
    "    if 'qa' in col: \n",
    "        del lines[col] \n",
    "  "
   ]
  },
  {
   "cell_type": "code",
   "execution_count": 9,
   "metadata": {
    "colab": {
     "base_uri": "https://localhost:8080/",
     "height": 133
    },
    "id": "-fcbOqnBstqi",
    "outputId": "18c82bd8-de20-48ef-ecef-06a2ee36e75e"
   },
   "outputs": [
    {
     "data": {
      "text/html": [
       "<div>\n",
       "<style scoped>\n",
       "    .dataframe tbody tr th:only-of-type {\n",
       "        vertical-align: middle;\n",
       "    }\n",
       "\n",
       "    .dataframe tbody tr th {\n",
       "        vertical-align: top;\n",
       "    }\n",
       "\n",
       "    .dataframe thead th {\n",
       "        text-align: right;\n",
       "    }\n",
       "</style>\n",
       "<table border=\"1\" class=\"dataframe\">\n",
       "  <thead>\n",
       "    <tr style=\"text-align: right;\">\n",
       "      <th></th>\n",
       "      <th>question</th>\n",
       "      <th>answer</th>\n",
       "    </tr>\n",
       "  </thead>\n",
       "  <tbody>\n",
       "    <tr>\n",
       "      <td>0</td>\n",
       "      <td>What is (are) abdominal wall defect</td>\n",
       "      <td>,An opening in the abdomen through which vario...</td>\n",
       "    </tr>\n",
       "    <tr>\n",
       "      <td>1</td>\n",
       "      <td>What are the treatments for abdominal wall defect</td>\n",
       "      <td>,Diagnostic Tests-Drug Therapy-Surgery and Reh...</td>\n",
       "    </tr>\n",
       "    <tr>\n",
       "      <td>2</td>\n",
       "      <td>What is (are) Osteoporosis</td>\n",
       "      <td>,A Bone Disease that thins and weakens the bon...</td>\n",
       "    </tr>\n",
       "  </tbody>\n",
       "</table>\n",
       "</div>"
      ],
      "text/plain": [
       "                                            question  \\\n",
       "0                What is (are) abdominal wall defect   \n",
       "1  What are the treatments for abdominal wall defect   \n",
       "2                        What is (are) Osteoporosis    \n",
       "\n",
       "                                              answer  \n",
       "0  ,An opening in the abdomen through which vario...  \n",
       "1  ,Diagnostic Tests-Drug Therapy-Surgery and Reh...  \n",
       "2  ,A Bone Disease that thins and weakens the bon...  "
      ]
     },
     "execution_count": 9,
     "metadata": {},
     "output_type": "execute_result"
    }
   ],
   "source": [
    "lines.iloc[:3]"
   ]
  },
  {
   "cell_type": "code",
   "execution_count": 10,
   "metadata": {
    "id": "cSk31GPJstqk"
   },
   "outputs": [],
   "source": [
    "lines.columns = ['source', 'target']"
   ]
  },
  {
   "cell_type": "code",
   "execution_count": 11,
   "metadata": {
    "colab": {
     "base_uri": "https://localhost:8080/",
     "height": 33
    },
    "id": "EwCwcdoCstqm",
    "outputId": "616e46ae-af0e-477d-8c19-fed1b1900063"
   },
   "outputs": [
    {
     "data": {
      "text/plain": [
       "['source', 'target']"
      ]
     },
     "execution_count": 11,
     "metadata": {},
     "output_type": "execute_result"
    }
   ],
   "source": [
    "list(lines.columns)"
   ]
  },
  {
   "cell_type": "code",
   "execution_count": 12,
   "metadata": {
    "colab": {
     "base_uri": "https://localhost:8080/",
     "height": 35
    },
    "id": "96Vj4Dvestqo",
    "outputId": "6aae72d6-6fcd-40e3-c471-8438c88de05f"
   },
   "outputs": [
    {
     "data": {
      "text/plain": [
       "'What are the treatments for late-infantile neuronal ceroid lipofuscinosis '"
      ]
     },
     "execution_count": 12,
     "metadata": {},
     "output_type": "execute_result"
    }
   ],
   "source": [
    "lines['source'].iloc[2000]"
   ]
  },
  {
   "cell_type": "code",
   "execution_count": 13,
   "metadata": {
    "colab": {
     "base_uri": "https://localhost:8080/",
     "height": 35
    },
    "id": "V4yFlDH3stqr",
    "outputId": "5c95ee5b-781d-43e7-b947-849c86f02e19"
   },
   "outputs": [
    {
     "data": {
      "text/plain": [
       "',\"An eye disorder that affects the clear, outer covering of the eye called the cornea. \"'"
      ]
     },
     "execution_count": 13,
     "metadata": {},
     "output_type": "execute_result"
    }
   ],
   "source": [
    "lines['target'].iloc[2000]"
   ]
  },
  {
   "cell_type": "code",
   "execution_count": 14,
   "metadata": {
    "id": "l0AL1elKstqt"
   },
   "outputs": [],
   "source": [
    "lines['target'] = lines['target'].fillna('').apply(str)"
   ]
  },
  {
   "cell_type": "code",
   "execution_count": 15,
   "metadata": {
    "id": "oa23n-13stqv"
   },
   "outputs": [],
   "source": [
    "# convert source and target text to Lowercase \n",
    "lines.source=lines.source.apply(lambda x: x.lower())\n",
    "lines.target=lines.target.apply(lambda x: x.lower())\n",
    "\n",
    "# Remove quotes from source and target text\n",
    "lines.source=lines.source.apply(lambda x: re.sub(\"'\", '', x))\n",
    "lines.target=lines.target.apply(lambda x: re.sub(\"'\", '', x))\n",
    "\n",
    "#s = re.sub(r\"[-()\\\"#/@;:<>{}`+=~|.!?,]\", \" \", x)\n",
    "\n",
    "lines.source=lines.source.apply(lambda x: re.sub(r'[-()\\\"#/@;:<>{}`+=~|.!?,]',r' ',x))\n",
    "lines.target=lines.target.apply(lambda x: re.sub(r'[-()\\\"#/@;:<>{}`+=~|.!?,]',r' ',x))\n",
    "\n",
    "'''\n",
    "# create a set of all special characters\n",
    "special_characters= set(string.punctuation)\n",
    "\n",
    "# Remove all the special characters\n",
    "lines.source=lines.source.apply(lambda x: re.sub(r'[^a-zA-Z0-9 ]',r'',x))\n",
    "lines.target=lines.target.apply(lambda x: re.sub(r'[^a-zA-Z0-9 ]',r'',x))\n",
    "'''\n",
    "# Remove digits from source and target sentences\n",
    "num_digits= str.maketrans('','', digits)\n",
    "lines.source=lines.source.apply(lambda x: x.translate(num_digits))\n",
    "lines.target= lines.target.apply(lambda x: x.translate(num_digits))\n",
    "\n",
    "# Remove extra spaces\n",
    "lines.source=lines.source.apply(lambda x: x.strip())\n",
    "lines.target=lines.target.apply(lambda x: x.strip())\n",
    "lines.source=lines.source.apply(lambda x: re.sub(\" +\", \" \", x))\n",
    "lines.target=lines.target.apply(lambda x: re.sub(\" +\", \" \", x))\n"
   ]
  },
  {
   "cell_type": "code",
   "execution_count": 16,
   "metadata": {
    "colab": {
     "base_uri": "https://localhost:8080/",
     "height": 220
    },
    "id": "d73hdKpUstqx",
    "outputId": "fd3b97ca-ad92-45ce-d2b7-e73de376471c"
   },
   "outputs": [
    {
     "data": {
      "text/html": [
       "<div>\n",
       "<style scoped>\n",
       "    .dataframe tbody tr th:only-of-type {\n",
       "        vertical-align: middle;\n",
       "    }\n",
       "\n",
       "    .dataframe tbody tr th {\n",
       "        vertical-align: top;\n",
       "    }\n",
       "\n",
       "    .dataframe thead th {\n",
       "        text-align: right;\n",
       "    }\n",
       "</style>\n",
       "<table border=\"1\" class=\"dataframe\">\n",
       "  <thead>\n",
       "    <tr style=\"text-align: right;\">\n",
       "      <th></th>\n",
       "      <th>source</th>\n",
       "      <th>target</th>\n",
       "    </tr>\n",
       "  </thead>\n",
       "  <tbody>\n",
       "    <tr>\n",
       "      <td>435</td>\n",
       "      <td>what are the genetic changes related to multip...</td>\n",
       "      <td>START_ mutations in the tek gene cause vmcm _END</td>\n",
       "    </tr>\n",
       "    <tr>\n",
       "      <td>3488</td>\n",
       "      <td>how many people are affected by trichohepatoen...</td>\n",
       "      <td>START_ at least cases have been reported in th...</td>\n",
       "    </tr>\n",
       "    <tr>\n",
       "      <td>196</td>\n",
       "      <td>how many people are affected by mayer rokitans...</td>\n",
       "      <td>START_ mrkh syndrome affects approximately in ...</td>\n",
       "    </tr>\n",
       "    <tr>\n",
       "      <td>2267</td>\n",
       "      <td>how to diagnose polycythemia vera</td>\n",
       "      <td>START_ diagnosed by specific gene testing biop...</td>\n",
       "    </tr>\n",
       "    <tr>\n",
       "      <td>884</td>\n",
       "      <td>how many people are affected by ring chromosom...</td>\n",
       "      <td>START_ ring chromosome syndrome appears to be ...</td>\n",
       "    </tr>\n",
       "    <tr>\n",
       "      <td>3034</td>\n",
       "      <td>how many people are affected by sensorineural ...</td>\n",
       "      <td>START_ the prevalence of sensorineural deafnes...</td>\n",
       "    </tr>\n",
       "  </tbody>\n",
       "</table>\n",
       "</div>"
      ],
      "text/plain": [
       "                                                 source  \\\n",
       "435   what are the genetic changes related to multip...   \n",
       "3488  how many people are affected by trichohepatoen...   \n",
       "196   how many people are affected by mayer rokitans...   \n",
       "2267                  how to diagnose polycythemia vera   \n",
       "884   how many people are affected by ring chromosom...   \n",
       "3034  how many people are affected by sensorineural ...   \n",
       "\n",
       "                                                 target  \n",
       "435    START_ mutations in the tek gene cause vmcm _END  \n",
       "3488  START_ at least cases have been reported in th...  \n",
       "196   START_ mrkh syndrome affects approximately in ...  \n",
       "2267  START_ diagnosed by specific gene testing biop...  \n",
       "884   START_ ring chromosome syndrome appears to be ...  \n",
       "3034  START_ the prevalence of sensorineural deafnes...  "
      ]
     },
     "execution_count": 16,
     "metadata": {},
     "output_type": "execute_result"
    }
   ],
   "source": [
    "# Add start and end tokens to target sequences\n",
    "lines.target = lines.target.apply(lambda x : 'START_ '+ x + ' _END')\n",
    "lines.sample(6)"
   ]
  },
  {
   "cell_type": "code",
   "execution_count": 17,
   "metadata": {
    "colab": {
     "base_uri": "https://localhost:8080/",
     "height": 35
    },
    "id": "ODTq93PKstqz",
    "outputId": "2f294a70-0cb4-441c-9dc7-742540eddca9"
   },
   "outputs": [
    {
     "data": {
      "text/plain": [
       "'how to diagnose colon cancer'"
      ]
     },
     "execution_count": 17,
     "metadata": {},
     "output_type": "execute_result"
    }
   ],
   "source": [
    "lines['source'].iloc[2086]"
   ]
  },
  {
   "cell_type": "code",
   "execution_count": 18,
   "metadata": {
    "colab": {
     "base_uri": "https://localhost:8080/",
     "height": 35
    },
    "id": "MEra-bW3stq1",
    "outputId": "b2bd86b1-1ef6-4ade-b47d-933b9e31a4a6"
   },
   "outputs": [
    {
     "data": {
      "text/plain": [
       "'START_ digital rectal exam biopsy _END'"
      ]
     },
     "execution_count": 18,
     "metadata": {},
     "output_type": "execute_result"
    }
   ],
   "source": [
    "lines['target'].iloc[2086]"
   ]
  },
  {
   "cell_type": "code",
   "execution_count": 19,
   "metadata": {
    "colab": {
     "base_uri": "https://localhost:8080/",
     "height": 33
    },
    "id": "UZutrCzostq3",
    "outputId": "343fceb3-eac7-4eae-81d8-28275b44b051"
   },
   "outputs": [
    {
     "data": {
      "text/plain": [
       "(1270, 3635)"
      ]
     },
     "execution_count": 19,
     "metadata": {},
     "output_type": "execute_result"
    }
   ],
   "source": [
    "# Find all the source and target words and sort them\n",
    "# Vocabulary of Source language\n",
    "all_source_words=set()\n",
    "for source in lines.source:\n",
    "    for word in source.split():\n",
    "        if word not in all_source_words:\n",
    "            all_source_words.add(word)\n",
    "# Vocabulary of Target \n",
    "all_target_words=set()\n",
    "for target in lines.target:\n",
    "    for word in target.split():\n",
    "        if word not in all_target_words:\n",
    "            all_target_words.add(word)\n",
    "# sort all unique source and target words\n",
    "source_words= sorted(list(all_source_words))\n",
    "target_words=sorted(list(all_target_words))\n",
    "\n",
    "len(source_words), len(target_words)"
   ]
  },
  {
   "cell_type": "code",
   "execution_count": 20,
   "metadata": {
    "colab": {
     "base_uri": "https://localhost:8080/",
     "height": 50
    },
    "id": "9CDZwIgYstq5",
    "outputId": "8656b6ed-b1c0-4198-ea1b-01cf554a20a1"
   },
   "outputs": [
    {
     "name": "stdout",
     "output_type": "stream",
     "text": [
      " Max length of the source sentence 19\n",
      " Max length of the target sentence 31\n"
     ]
    }
   ],
   "source": [
    "#Find maximum sentence length in  the source and target data\n",
    "source_length_list=[]\n",
    "for l in lines.source:\n",
    "    source_length_list.append(len(l.split(' ')))\n",
    "max_source_length= max(source_length_list)\n",
    "print(\" Max length of the source sentence\",max_source_length)\n",
    "target_length_list=[]\n",
    "for l in lines.target:\n",
    "    target_length_list.append(len(l.split(' ')))\n",
    "max_target_length= max(target_length_list)\n",
    "print(\" Max length of the target sentence\",max_target_length)"
   ]
  },
  {
   "cell_type": "code",
   "execution_count": 21,
   "metadata": {
    "id": "dNEUOrIWstq7"
   },
   "outputs": [],
   "source": [
    "# creating a word to index(word2idx) for source and target\n",
    "source_word2idx= dict([(word, i+1) for i,word in enumerate(source_words)])\n",
    "target_word2idx=dict([(word, i+1) for i, word in enumerate(target_words)])"
   ]
  },
  {
   "cell_type": "code",
   "execution_count": 24,
   "metadata": {
    "colab": {
     "base_uri": "https://localhost:8080/",
     "height": 53
    },
    "id": "WTBTtf58stq8",
    "outputId": "a3349246-6795-4b99-b322-980461713f99"
   },
   "outputs": [
    {
     "name": "stdout",
     "output_type": "stream",
     "text": [
      "{1: 'a', 2: 'aarskog', 3: 'ab', 4: 'abdominal', 5: 'abetalipoproteinemia', 6: 'abnormal', 7: 'absent', 8: 'abuse', 9: 'acatalasemia', 10: 'accumulation', 11: 'acetylglutamate', 12: 'achondrogenesis', 13: 'achondroplasia', 14: 'achromatopsia', 15: 'acid', 16: 'acidemia', 17: 'acidosis', 18: 'aciduria', 19: 'acral', 20: 'acrofacial', 21: 'acromelic', 22: 'acromicric', 23: 'actin', 24: 'activated', 25: 'acute', 26: 'acyl', 27: 'adams', 28: 'adcy', 29: 'adenine', 30: 'adenosine', 31: 'adenylosuccinate', 32: 'adermatoglyphia', 33: 'adhesion', 34: 'adiposis', 35: 'adolescent', 36: 'adrenal', 37: 'adrenoleukodystrophy', 38: 'adult', 39: 'adults', 40: 'affected', 41: 'african', 42: 'agammaglobulinemia', 43: 'age', 44: 'aggravated', 45: 'aggregate', 46: 'aicardi', 47: 'aids', 48: 'alagille', 49: 'albinism', 50: 'albright', 51: 'aldrich', 52: 'alexander', 53: 'alg', 54: 'alkaptonuria', 55: 'allan', 56: 'allergic', 57: 'alopecia', 58: 'alpers', 59: 'alpha', 60: 'amelia', 61: 'american', 62: 'amyloid', 63: 'amyloidosis', 64: 'amyotrophy', 65: 'and', 66: 'anemia', 67: 'aneurysms', 68: 'angioedema', 69: 'angiopathy', 70: 'anomalies', 71: 'anophthalmia', 72: 'antithrombin', 73: 'antitrypsin', 74: 'aortic', 75: 'aplasia', 76: 'appears', 77: 'are', 78: 'arterial', 79: 'arteriosclerosis', 80: 'arthritis', 81: 'arthropathy', 82: 'ascending', 83: 'assembly', 84: 'associated', 85: 'association', 86: 'asthma', 87: 'at', 88: 'ataxia', 89: 'atrophy', 90: 'attack', 91: 'auriculo', 92: 'autonomic', 93: 'axonal', 94: 'balance', 95: 'baraitser', 96: 'barber', 97: 'barr', 98: 'batten', 99: 'bbb', 100: 'behmel', 101: 'being', 102: 'beta', 103: 'biesecker', 104: 'bifida', 105: 'bile', 106: 'binding', 107: 'blindness', 108: 'blood', 109: 'bodies', 110: 'body', 111: 'bone', 112: 'brain', 113: 'brainstem', 114: 'breakage', 115: 'breast', 116: 'brocks', 117: 'brunner', 118: 'bulbar', 119: 'bullosa', 120: 'by', 121: 'calcification', 122: 'calv', 123: 'cancer', 124: 'capillary', 125: 'carboxylase', 126: 'carcinoid', 127: 'carcinoma', 128: 'carpal', 129: 'cataract', 130: 'cause', 131: 'causes', 132: 'cavity', 133: 'cell', 134: 'central', 135: 'cephalic', 136: 'cephalopolysyndactyly', 137: 'cerebellar', 138: 'cerebellaris', 139: 'cerebral', 140: 'cerebro', 141: 'ceroid', 142: 'chain', 143: 'changes', 144: 'charcot', 145: 'cheney', 146: 'childhood', 147: 'children', 148: 'cholestasis', 149: 'chondrodysplasia', 150: 'chorea', 151: 'choroid', 152: 'chotzen', 153: 'chromosome', 154: 'chronic', 155: 'cidp', 156: 'cirrhosis', 157: 'clinical', 158: 'cluster', 159: 'cns', 160: 'coa', 161: 'coalition', 162: 'cofactor', 163: 'coffin', 164: 'cofs', 165: 'colitis', 166: 'collins', 167: 'coloboma', 168: 'colon', 169: 'colorectal', 170: 'colpocephaly', 171: 'coma', 172: 'combined', 173: 'complex', 174: 'complications', 175: 'confetti', 176: 'congenita', 177: 'congenital', 178: 'consequences', 179: 'cord', 180: 'corneal', 181: 'coronavirus', 182: 'corticobasal', 183: 'covid', 184: 'cramps', 185: 'craniopharyngioma', 186: 'craniosynostosis', 187: 'creatine', 188: 'creutzfeldt', 189: 'cushings', 190: 'cutaneous', 191: 'cutis', 192: 'cystic', 193: 'cysts', 194: 'cytomegalovirus', 195: 'd', 196: 'dandy', 197: 'de', 198: 'deafness', 199: 'deaminase', 200: 'death', 201: 'decarboxylase', 202: 'deep', 203: 'defect', 204: 'defects', 205: 'deficiency', 206: 'degeneration', 207: 'dehydrogenase', 208: 'deletion', 209: 'delta', 210: 'dementia', 211: 'demyelinating', 212: 'dento', 213: 'dependent', 214: 'depletion', 215: 'der', 216: 'dermatomyositis', 217: 'dermatopathia', 218: 'development', 219: 'developmental', 220: 'diabetes', 221: 'diabetic', 222: 'diagnose', 223: 'diagonose', 224: 'diagonse', 225: 'diamond', 226: 'dieker', 227: 'dietz', 228: 'diffuse', 229: 'digital', 230: 'disability', 231: 'disease', 232: 'disorder', 233: 'disorders', 234: 'distal', 235: 'distichiasis', 236: 'distress', 237: 'dna', 238: 'do', 239: 'does', 240: 'dolorosa', 241: 'done', 242: 'dravet', 243: 'drop', 244: 'drug', 245: 'duane', 246: 'duct', 247: 'dudley', 248: 'duplication', 249: 'dwarfism', 250: 'dysfunction', 251: 'dysfunctions', 252: 'dysgenesis', 253: 'dysgraphia', 254: 'dyskinesia', 255: 'dyslexia', 256: 'dysostosis', 257: 'dysplasia', 258: 'dyspraxia', 259: 'dysregulation', 260: 'dyssynergia', 261: 'dystonia', 262: 'dystonias', 263: 'dystrophy', 264: 'early', 265: 'ectopia', 266: 'elevation', 267: 'empty', 268: 'encephalitis', 269: 'encephaloceles', 270: 'encephalomyopathy', 271: 'encephalopathy', 272: 'endocrine', 273: 'endometrial', 274: 'endothelial', 275: 'enteropathy', 276: 'enzyme', 277: 'eosinophilic', 278: 'ependymoma', 279: 'epidermal', 280: 'epidermolysis', 281: 'epilepsy', 282: 'epiphyseal', 283: 'episodes', 284: 'epithelial', 285: 'epstein', 286: 'erythematosus', 287: 'erythroderma', 288: 'essential', 289: 'ewing', 290: 'extracranial', 291: 'extragonadal', 292: 'fabry', 293: 'facial', 294: 'facio', 295: 'factor', 296: 'factors', 297: 'fahrs', 298: 'failure', 299: 'familial', 300: 'farbers', 301: 'febrile', 302: 'feil', 303: 'fiber', 304: 'fibers', 305: 'fibromatosis', 306: 'fibromuscular', 307: 'fibrosis', 308: 'fibrous', 309: 'fisher', 310: 'focal', 311: 'folate', 312: 'foot', 313: 'for', 314: 'form', 315: 'formiminotransferase', 316: 'franceschetti', 317: 'fraumeni', 318: 'friedreich', 319: 'friedreichs', 320: 'frontometaphyseal', 321: 'frontonasal', 322: 'frontotemporal', 323: 'fructose', 324: 'fryns', 325: 'fuchs', 326: 'fucosidosis', 327: 'fukuyama', 328: 'fumarase', 329: 'fungoides', 330: 'g', 331: 'galactose', 332: 'galactosemia', 333: 'galactosialidosis', 334: 'gamma', 335: 'gangliosidoses', 336: 'gangliosidosis', 337: 'gastaut', 338: 'gastric', 339: 'gastrointestinal', 340: 'gaucher', 341: 'gaze', 342: 'geleophysic', 343: 'generalized', 344: 'genetic', 345: 'genital', 346: 'genitalia', 347: 'genitopatellar', 348: 'germ', 349: 'gerstmann', 350: 'gerstmanns', 351: 'gestational', 352: 'ghosal', 353: 'giant', 354: 'giedion', 355: 'gilbert', 356: 'gilford', 357: 'gillespie', 358: 'girdle', 359: 'gitelman', 360: 'gland', 361: 'glanzmann', 362: 'glia', 363: 'glioma', 364: 'globin', 365: 'globozoospermia', 366: 'globulin', 367: 'glossopharyngeal', 368: 'glucose', 369: 'glut', 370: 'glutamate', 371: 'glutaric', 372: 'glutathione', 373: 'glycine', 374: 'glycogen', 375: 'glycosylation', 376: 'gm', 377: 'gnathodiaphyseal', 378: 'golabi', 379: 'goldberg', 380: 'gorlin', 381: 'goutieres', 382: 'gracile', 383: 'granulomatosis', 384: 'graves', 385: 'gravis', 386: 'gray', 387: 'greenberg', 388: 'greig', 389: 'griscelli', 390: 'grn', 391: 'growth', 392: 'grsbeck', 393: 'guanidinoacetate', 394: 'guillain', 395: 'gyrate', 396: 'hair', 397: 'hairy', 398: 'hajdu', 399: 'hall', 400: 'hand', 401: 'harlequin', 402: 'hashimoto', 403: 'hauser', 404: 'head', 405: 'hearing', 406: 'heart', 407: 'hematodiaphyseal', 408: 'hemifacial', 409: 'hemiplegic', 410: 'hemochromatosis', 411: 'hemophilia', 412: 'hemorrhagic', 413: 'hennekam', 414: 'hepatic', 415: 'hepatocerebral', 416: 'hereditary', 417: 'hermansky', 418: 'herndon', 419: 'heterotaxy', 420: 'hidradenitis', 421: 'high', 422: 'hippel', 423: 'hirschhorn', 424: 'hirschsprung', 425: 'histidinemia', 426: 'histiocytoma', 427: 'histiocytosis', 428: 'hodgkin', 429: 'holocarboxylase', 430: 'holoprosencephaly', 431: 'holt', 432: 'homocystinuria', 433: 'hopkins', 434: 'horizontal', 435: 'hormone', 436: 'horner', 437: 'how', 438: 'huntington', 439: 'hutchinson', 440: 'huttenlocher', 441: 'hyaline', 442: 'hyalinosis', 443: 'hydratase', 444: 'hydroxy', 445: 'hydroxyacyl', 446: 'hydroxyglutaric', 447: 'hydroxylase', 448: 'hydroxysteroid', 449: 'hyper', 450: 'hypercholesterolemia', 451: 'hyperekplexia', 452: 'hyperferritinemia', 453: 'hyperkalemic', 454: 'hyperlysinemia', 455: 'hypermanganesemia', 456: 'hypermethioninemia', 457: 'hyperparathyroidism', 458: 'hyperthermia', 459: 'hypertrophy', 460: 'hypopharyngeal', 461: 'hypophosphatemic', 462: 'hypoplasia', 463: 'hypotonia', 464: 'hypouricemia', 465: 'hystrix', 466: 'i', 467: 'ia', 468: 'ichthyosiform', 469: 'ichthyosis', 470: 'idiopathic', 471: 'ids', 472: 'ie', 473: 'igm', 474: 'ii', 475: 'iii', 476: 'illicit', 477: 'imerslund', 478: 'immune', 479: 'immuno', 480: 'immunodeficiency', 481: 'in', 482: 'inclusion', 483: 'incontinence', 484: 'incontinentia', 485: 'indian', 486: 'infancy', 487: 'infant', 488: 'infantile', 489: 'infarct', 490: 'infection', 491: 'infections', 492: 'infertility', 493: 'inflammatory', 494: 'inherited', 495: 'insipidus', 496: 'insulin', 497: 'intellectual', 498: 'intestinal', 499: 'intestine', 500: 'intolerance', 501: 'intrahepatic', 502: 'intranuclear', 503: 'intraocular', 504: 'intrauterine', 505: 'involvement', 506: 'irak', 507: 'iron', 508: 'is', 509: 'isobutyryl', 510: 'isodicentric', 511: 'isolated', 512: 'isomerase', 513: 'isovaleric', 514: 'it', 515: 'iv', 516: 'ix', 517: 'jackson', 518: 'jacobsen', 519: 'jadassohn', 520: 'jakob', 521: 'jampel', 522: 'jaw', 523: 'jeghers', 524: 'jervell', 525: 'johnson', 526: 'joubert', 527: 'junctional', 528: 'juvenile', 529: 'kabuki', 530: 'kallmann', 531: 'kaufman', 532: 'kawasaki', 533: 'kbg', 534: 'kearns', 535: 'keratitis', 536: 'keratoderma', 537: 'ketoacid', 538: 'kidney', 539: 'kievit', 540: 'kinase', 541: 'kleefstra', 542: 'klinefelter', 543: 'klippel', 544: 'kniest', 545: 'knobloch', 546: 'koolen', 547: 'korsakoff', 548: 'krabbe', 549: 'kster', 550: 'kufs', 551: 'kuskokwim', 552: 'l', 553: 'lacrimo', 554: 'lactate', 555: 'lactic', 556: 'lactose', 557: 'lafora', 558: 'laing', 559: 'lama', 560: 'lamellar', 561: 'lange', 562: 'langer', 563: 'langerhans', 564: 'laron', 565: 'larsen', 566: 'larsson', 567: 'laryngeal', 568: 'laryngo', 569: 'late', 570: 'lateral', 571: 'lattice', 572: 'leber', 573: 'lectin', 574: 'legg', 575: 'legius', 576: 'legs', 577: 'leigh', 578: 'leiomyomatosis', 579: 'lemli', 580: 'lennox', 581: 'lentigines', 582: 'lentis', 583: 'lenz', 584: 'leptin', 585: 'lesch', 586: 'lethal', 587: 'lethargica', 588: 'leukemia', 589: 'leukocyte', 590: 'leukodystrophy', 591: 'leukoencephalopathy', 592: 'lewy', 593: 'leydig', 594: 'li', 595: 'liability', 596: 'liddle', 597: 'ligase', 598: 'like', 599: 'likely', 600: 'limb', 601: 'lindau', 602: 'linear', 603: 'linked', 604: 'lip', 605: 'lipase', 606: 'lipid', 607: 'lipofuscinosis', 608: 'lipomembranous', 609: 'lissencephaly', 610: 'liver', 611: 'lken', 612: 'loeys', 613: 'long', 614: 'loss', 615: 'low', 616: 'lowe', 617: 'lowry', 618: 'lujan', 619: 'lundborg', 620: 'lung', 621: 'lupus', 622: 'lyase', 623: 'lymphadenopathy', 624: 'lymphangioleiomyomatosis', 625: 'lymphedema', 626: 'lymphoblastic', 627: 'lymphoma', 628: 'lymphoproliferative', 629: 'lynch', 630: 'lysinuric', 631: 'm', 632: 'maat', 633: 'mabry', 634: 'macroaneurysm', 635: 'macroglobulinemia', 636: 'macular', 637: 'maffucci', 638: 'magenis', 639: 'magnesium', 640: 'mainzer', 641: 'majeed', 642: 'mal', 643: 'malabsorption', 644: 'male', 645: 'malformation', 646: 'malformations', 647: 'malignant', 648: 'mall', 649: 'malonyl', 650: 'mandibuloacral', 651: 'mandibulofacial', 652: 'manitoba', 653: 'mannose', 654: 'mannosidosis', 655: 'many', 656: 'maple', 657: 'marchesani', 658: 'marfan', 659: 'marie', 660: 'marinesco', 661: 'maternally', 662: 'matter', 663: 'mayer', 664: 'mc', 665: 'mccune', 666: 'mckusick', 667: 'mcleod', 668: 'meckel', 669: 'mecp', 670: 'medium', 671: 'medullary', 672: 'meesmann', 673: 'megalencephalic', 674: 'megalencephaly', 675: 'megaloblastic', 676: 'megdel', 677: 'meier', 678: 'meige', 679: 'melanocytic', 680: 'melanoma', 681: 'meleda', 682: 'mellitus', 683: 'melnick', 684: 'membrane', 685: 'meningitis', 686: 'menkes', 687: 'merkel', 688: 'mesomelic', 689: 'metachromatic', 690: 'metaphyseal', 691: 'metastatic', 692: 'metatropic', 693: 'methemoglobinemia', 694: 'methylbutyryl', 695: 'methylcrotonyl', 696: 'methylglutaconyl', 697: 'methylglutaryl', 698: 'methylmalonic', 699: 'methyltransferase', 700: 'mevalonate', 701: 'microcephalic', 702: 'microcephaly', 703: 'microdeletion', 704: 'microphthalmia', 705: 'microvillus', 706: 'migraine', 707: 'migrating', 708: 'miller', 709: 'milroy', 710: 'minus', 711: 'mitochondrial', 712: 'miyoshi', 713: 'moebius', 714: 'molybdenum', 715: 'monilethrix', 716: 'most', 717: 'motion', 718: 'mowat', 719: 'moyamoya', 720: 'mpv', 721: 'muckle', 722: 'mucolipidosis', 723: 'mucopolysaccharidosis', 724: 'mucosal', 725: 'muenke', 726: 'multi', 727: 'multicentric', 728: 'multiminicore', 729: 'multiple', 730: 'multiplex', 731: 'multisystem', 732: 'muscle', 733: 'muscular', 734: 'mutase', 735: 'myasthenia', 736: 'mycosis', 737: 'myd', 738: 'myelitis', 739: 'myelodysplastic', 740: 'myelogenous', 741: 'myeloid', 742: 'myeloproliferative', 743: 'myh', 744: 'myhre', 745: 'myoclonic', 746: 'myoclonica', 747: 'myoclonus', 748: 'myofibrillar', 749: 'myopathic', 750: 'myopathies', 751: 'myopathy', 752: 'myosin', 753: 'myostatin', 754: 'myotonia', 755: 'myotonic', 756: 'myotubular', 757: 'n', 758: 'naegeli', 759: 'nager', 760: 'nail', 761: 'nakajo', 762: 'narcolepsy', 763: 'nasal', 764: 'nasopharyngeal', 765: 'neck', 766: 'necrolysis', 767: 'necrosis', 768: 'needles', 769: 'nemaline', 770: 'neonatal', 771: 'neoplasia', 772: 'neoplasms', 773: 'nephrogenic', 774: 'nephronophthisis', 775: 'nephropathy', 776: 'nervous', 777: 'netherton', 778: 'neuralgia', 779: 'neuralgic', 780: 'neuroacanthocytosis', 781: 'neuroaxonal', 782: 'neuroblastoma', 783: 'neurodegeneration', 784: 'neuroferritinopathy', 785: 'neurofibromatosis', 786: 'neurogastrointestinal', 787: 'neurohypophyseal', 788: 'neurological', 789: 'neuromyelitis', 790: 'neuronal', 791: 'neuropathy', 792: 'neutral', 793: 'neutropenia', 794: 'neutrophilic', 795: 'nevus', 796: 'nicolaides', 797: 'nielsen', 798: 'niemann', 799: 'night', 800: 'nijmegen', 801: 'nishimura', 802: 'nodulosis', 803: 'non', 804: 'nonbullous', 805: 'nonsyndromic', 806: 'noonan', 807: 'norrie', 808: 'north', 809: 'northern', 810: 'not', 811: 'nyhan', 812: 'nystagmus', 813: 'obstruction', 814: 'occlusive', 815: 'occult', 816: 'ochoa', 817: 'ocular', 818: 'oculo', 819: 'oculocutaneous', 820: 'oculodentodigital', 821: 'oculofaciocardiodental', 822: 'oculopharyngeal', 823: 'oculotrichoanal', 824: 'of', 825: 'ohdo', 826: 'ohtahara', 827: 'older', 828: 'oliver', 829: 'ollier', 830: 'onset', 831: 'onycho', 832: 'ophthalmo', 833: 'opitz', 834: 'opsoclonus', 835: 'optic', 836: 'optica', 837: 'or', 838: 'oral', 839: 'oram', 840: 'ornithine', 841: 'oropharyngeal', 842: 'osseous', 843: 'osteochondromas', 844: 'osteodysplasia', 845: 'osteodysplastic', 846: 'osteolysis', 847: 'osteoporosis', 848: 'osteosarcoma', 849: 'outlet', 850: 'outlook', 851: 'ovarian', 852: 'overload', 853: 'ow', 854: 'p', 855: 'paget', 856: 'pagets', 857: 'pain', 858: 'palsies', 859: 'palsy', 860: 'pancreatitis', 861: 'panencephalitis', 862: 'paraganglioma', 863: 'paralyses', 864: 'paralysis', 865: 'paranasal', 866: 'paraplegia', 867: 'parathyroid', 868: 'parkinson', 869: 'parkinsonism', 870: 'parkinsons', 871: 'partial', 872: 'patella', 873: 'peeling', 874: 'penile', 875: 'people', 876: 'periodic', 877: 'peripheral', 878: 'perthes', 879: 'peters', 880: 'peutz', 881: 'pfeiffer', 882: 'phenylketonuria', 883: 'pheochromocytoma', 884: 'phosphate', 885: 'phosphoglycerate', 886: 'phosphoribosylpyrophosphate', 887: 'phosphoribosyltransferase', 888: 'pick', 889: 'piebaldism', 890: 'pierre', 891: 'pigmented', 892: 'pigmenti', 893: 'pigmentosa', 894: 'pigmentosum', 895: 'pik', 896: 'pilomatricoma', 897: 'pitt', 898: 'pituitary', 899: 'plasma', 900: 'platelet', 901: 'platyspondylic', 902: 'plus', 903: 'pmm', 904: 'pol', 905: 'poland', 906: 'polyangiitis', 907: 'polycystic', 908: 'polycythemia', 909: 'polyendocrinopathy', 910: 'polyglucosan', 911: 'polymicrogyria', 912: 'polyneuropathy', 913: 'polyposis', 914: 'pompe', 915: 'pontocerebellar', 916: 'popliteal', 917: 'porphyria', 918: 'postural', 919: 'potassium', 920: 'potential', 921: 'pregnancy', 922: 'prescription', 923: 'pressure', 924: 'prevent', 925: 'primary', 926: 'primordial', 927: 'probably', 928: 'problems', 929: 'progeria', 930: 'progressive', 931: 'promyelocytic', 932: 'prostate', 933: 'protein', 934: 'pseudo', 935: 'psoriasis', 936: 'pterygium', 937: 'pudlak', 938: 'pulmonary', 939: 'pulmonic', 940: 'punctata', 941: 'purpura', 942: 'q', 943: 'qt', 944: 'quitting', 945: 'radius', 946: 'ragged', 947: 'receptor', 948: 'rectal', 949: 'red', 950: 'reductase', 951: 'refractory', 952: 'related', 953: 'renal', 954: 'renpenning', 955: 'repetitive', 956: 'research', 957: 'resistance', 958: 'respiratory', 959: 'responsive', 960: 'restless', 961: 'restriction', 962: 'reticularis', 963: 'retina', 964: 'retinal', 965: 'retinitis', 966: 'retinoblastoma', 967: 'retinoschisis', 968: 'retraction', 969: 'retroperitoneal', 970: 'rett', 971: 'rheumatoid', 972: 'rhizomelic', 973: 'rickets', 974: 'ring', 975: 'rippling', 976: 'risk', 977: 'risks', 978: 'roberts', 979: 'robin', 980: 'robinow', 981: 'robinson', 982: 'rod', 983: 'rokitansky', 984: 'rothmund', 985: 'rotor', 986: 'rubinstein', 987: 'russell', 988: 's', 989: 'sachs', 990: 'saddan', 991: 'saethre', 992: 'saldino', 993: 'salih', 994: 'salivary', 995: 'sandhoff', 996: 'sarcoma', 997: 'say', 998: 'sayre', 999: 'scheinker', 1000: 'schilders', 1001: 'schimke', 1002: 'schindler', 1003: 'schinzel', 1004: 'schwartz', 1005: 'scleroderma', 1006: 'sclerosing', 1007: 'sclerosis', 1008: 'scoliosis', 1009: 'scott', 1010: 'seizures', 1011: 'sella', 1012: 'semialdehyde', 1013: 'senior', 1014: 'sensitive', 1015: 'sensitivity', 1016: 'sensorineural', 1017: 'sensory', 1018: 'sepiapterin', 1019: 'septo', 1020: 'sequence', 1021: 'severe', 1022: 'sex', 1023: 'sheldon', 1024: 'shingles', 1025: 'short', 1026: 'shprintzen', 1027: 'shwachman', 1028: 'sialic', 1029: 'sialidosis', 1030: 'sialuria', 1031: 'sick', 1032: 'sickle', 1033: 'siderius', 1034: 'sideroblastic', 1035: 'silver', 1036: 'simpson', 1037: 'sinus', 1038: 'sitosterolemia', 1039: 'sjgren', 1040: 'skeletal', 1041: 'skin', 1042: 'slca', 1043: 'small', 1044: 'smell', 1045: 'smith', 1046: 'smoking', 1047: 'snyder', 1048: 'sost', 1049: 'sotos', 1050: 'sox', 1051: 'spasm', 1052: 'spastic', 1053: 'specific', 1054: 'spectrum', 1055: 'spherocytosis', 1056: 'spheroids', 1057: 'spina', 1058: 'spinal', 1059: 'spinocerebellar', 1060: 'spondylocarpotarsal', 1061: 'spondylocostal', 1062: 'spondyloenchondrodysplasia', 1063: 'spondyloepimetaphyseal', 1064: 'spondyloepiphyseal', 1065: 'spondyloperipheral', 1066: 'spondylothoracic', 1067: 'sponge', 1068: 'sporadic', 1069: 'spread', 1070: 'squamous', 1071: 'stages', 1072: 'stargardt', 1073: 'stationary', 1074: 'steatocystoma', 1075: 'stem', 1076: 'stenosis', 1077: 'stevens', 1078: 'stickler', 1079: 'stimulation', 1080: 'sting', 1081: 'storage', 1082: 'stormorken', 1083: 'straussler', 1084: 'stroke', 1085: 'stromal', 1086: 'strudwick', 1087: 'sturge', 1088: 'stve', 1089: 'subacute', 1090: 'subcortical', 1091: 'succinate', 1092: 'succinic', 1093: 'succinyl', 1094: 'sudden', 1095: 'sulfatase', 1096: 'sulfur', 1097: 'superactivity', 1098: 'suppurativa', 1099: 'supravalvular', 1100: 'surfactant', 1101: 'surviving', 1102: 'swallowing', 1103: 'swyer', 1104: 'symptomps', 1105: 'symptoms', 1106: 'syncope', 1107: 'syndrome', 1108: 'syndromes', 1109: 'syngap', 1110: 'synostosis', 1111: 'synthase', 1112: 'synthetase', 1113: 'syrup', 1114: 'system', 1115: 'systemic', 1116: 'systems', 1117: 'szary', 1118: 't', 1119: 'tachycardia', 1120: 'tangier', 1121: 'tarda', 1122: 'tarsal', 1123: 'task', 1124: 'taste', 1125: 'tay', 1126: 'taybi', 1127: 'telangiectasia', 1128: 'teratoid', 1129: 'testes', 1130: 'testicular', 1131: 'tethered', 1132: 'tetra', 1133: 'tetrahydrobiopterin', 1134: 'tetrasomy', 1135: 'thalassemia', 1136: 'thanatophoric', 1137: 'that', 1138: 'the', 1139: 'thiamine', 1140: 'thiopurine', 1141: 'thomson', 1142: 'thoracic', 1143: 'thrombasthenia', 1144: 'thrombocythemia', 1145: 'thrombocytopenia', 1146: 'thrombocytopenic', 1147: 'thrombotic', 1148: 'thymic', 1149: 'thymoma', 1150: 'thyroiditis', 1151: 'thyroxine', 1152: 'tibial', 1153: 'tietz', 1154: 'timothy', 1155: 'tk', 1156: 'to', 1157: 'todds', 1158: 'tooth', 1159: 'torrance', 1160: 'tourette', 1161: 'townes', 1162: 'toxic', 1163: 'tp', 1164: 'tract', 1165: 'transcarbamylase', 1166: 'transferase', 1167: 'transient', 1168: 'transthyretin', 1169: 'transverse', 1170: 'treacher', 1171: 'treatments', 1172: 'tremor', 1173: 'trenaunay', 1174: 'trials', 1175: 'trichoepithelioma', 1176: 'trichohepatoenteric', 1177: 'trichothiodystrophy', 1178: 'trifunctional', 1179: 'trigeminal', 1180: 'trimethylaminuria', 1181: 'triosephosphate', 1182: 'triple', 1183: 'trisomy', 1184: 'trophoblastic', 1185: 'troyer', 1186: 'tuberous', 1187: 'tubular', 1188: 'tumor', 1189: 'tumors', 1190: 'turner', 1191: 'type', 1192: 'tyrosine', 1193: 'tyrosinemia', 1194: 'ulcerative', 1195: 'unverricht', 1196: 'urethral', 1197: 'urinary', 1198: 'urine', 1199: 'uromodulin', 1200: 'usher', 1201: 'uterine', 1202: 'uv', 1203: 'v', 1204: 'vacterl', 1205: 'van', 1206: 'vanishing', 1207: 'variant', 1208: 'vasculitis', 1209: 'vasculopathy', 1210: 'veno', 1211: 'venous', 1212: 'vera', 1213: 'very', 1214: 'vi', 1215: 'vii', 1216: 'virus', 1217: 'vitamin', 1218: 'vitelliform', 1219: 'vitiligo', 1220: 'vldlr', 1221: 'vohwinkel', 1222: 'von', 1223: 'vries', 1224: 'vulvar', 1225: 'waardenburg', 1226: 'wagner', 1227: 'wagr', 1228: 'waldenstrm', 1229: 'walker', 1230: 'wall', 1231: 'warburg', 1232: 'warfarin', 1233: 'warsaw', 1234: 'weaver', 1235: 'weber', 1236: 'weill', 1237: 'weiss', 1238: 'weissenbacher', 1239: 'wells', 1240: 'werner', 1241: 'wernicke', 1242: 'weyers', 1243: 'what', 1244: 'whiplash', 1245: 'white', 1246: 'who', 1247: 'wiedemann', 1248: 'willebrand', 1249: 'williams', 1250: 'wilson', 1251: 'winchester', 1252: 'wiskott', 1253: 'with', 1254: 'wolf', 1255: 'wolff', 1256: 'wolfram', 1257: 'wolman', 1258: 'woolly', 1259: 'woude', 1260: 'x', 1261: 'xanthinuria', 1262: 'xeroderma', 1263: 'xx', 1264: 'xxyy', 1265: 'xyy', 1266: 'y', 1267: 'young', 1268: 'zap', 1269: 'zellweger', 1270: 'zweymller'}\n"
     ]
    }
   ],
   "source": [
    "#creating a dictionary for index to word for source and target vocabulary\n",
    "source_idx2word= dict([(i, word) for word, i in  source_word2idx.items()])\n",
    "print(source_idx2word)\n",
    "target_idx2word =dict([(i, word) for word, i in target_word2idx.items()])"
   ]
  },
  {
   "cell_type": "code",
   "execution_count": 25,
   "metadata": {
    "id": "JYVn_1F0stq-"
   },
   "outputs": [],
   "source": [
    "#Shuffle the data\n",
    "lines = shuffle(lines)"
   ]
  },
  {
   "cell_type": "code",
   "execution_count": 26,
   "metadata": {
    "colab": {
     "base_uri": "https://localhost:8080/",
     "height": 33
    },
    "id": "brrw0rHvstrA",
    "outputId": "4d7f9f8a-f998-4ba9-af7d-b4cb5a916756"
   },
   "outputs": [
    {
     "data": {
      "text/plain": [
       "((2828,), (1212,))"
      ]
     },
     "execution_count": 26,
     "metadata": {},
     "output_type": "execute_result"
    }
   ],
   "source": [
    "# Train - Test Split\n",
    "X, y = lines.source, lines.target\n",
    "X_train, X_test, y_train, y_test = train_test_split(X, y, test_size = 0.3)\n",
    "X_train.shape, X_test.shape"
   ]
  },
  {
   "cell_type": "code",
   "execution_count": 27,
   "metadata": {
    "id": "4cnhiPvkstrC"
   },
   "outputs": [],
   "source": [
    "# https://stackoverflow.com/questions/54880279/how-to-handle-invalid-argument-error-in-keras\n",
    "# Input tokens for encoder\n",
    "num_encoder_tokens=len(source_words) +1\n",
    "# Input tokens for decoder zero padded\n",
    "num_decoder_tokens=len(target_words) +1"
   ]
  },
  {
   "cell_type": "code",
   "execution_count": 28,
   "metadata": {
    "id": "UgD1d4bIstrE"
   },
   "outputs": [],
   "source": [
    "def generate_batch(X = X_train, y = y_train, batch_size = 64):\n",
    "    ''' Generate a batch of data '''\n",
    "    while True:\n",
    "        for j in range(0, len(X), batch_size):\n",
    "            encoder_input_data = np.zeros((batch_size, max_source_length),dtype='float32')\n",
    "            decoder_input_data = np.zeros((batch_size, max_target_length),dtype='float32')\n",
    "            decoder_target_data = np.zeros((batch_size, max_target_length, num_decoder_tokens),dtype='float32')\n",
    "            for i, (input_text, target_text) in enumerate(zip(X[j:j+batch_size], y[j:j+batch_size])):\n",
    "                for t, word in enumerate(input_text.split()):\n",
    "                        encoder_input_data[i, t] = source_word2idx[word] \n",
    "                for t, word in enumerate(target_text.split()):\n",
    "                    if t<len(target_text.split())-1:\n",
    "                        decoder_input_data[i, t] = target_word2idx[word] # decoder input seq\n",
    "                    if t>0:\n",
    "                        # decoder target sequence (one hot encoded)\n",
    "                        # does not include the START_ token\n",
    "                        # Offset by one timestep\n",
    "                        #print(word)\n",
    "                        decoder_target_data[i, t - 1, target_word2idx[word]] = 1.\n",
    "                    \n",
    "            yield([encoder_input_data, decoder_input_data], decoder_target_data)"
   ]
  },
  {
   "cell_type": "code",
   "execution_count": 29,
   "metadata": {
    "id": "H209mGO_strG"
   },
   "outputs": [],
   "source": [
    "train_samples = len(X_train) # Total Training samples\n",
    "val_samples = len(X_test)    # Total validation or test samples\n",
    "batch_size = 64\n",
    "epochs = 100\n",
    "latent_dim=256"
   ]
  },
  {
   "cell_type": "code",
   "execution_count": 30,
   "metadata": {
    "id": "qVDsuaV0strI"
   },
   "outputs": [],
   "source": [
    "# Define an input sequence and process it.\n",
    "encoder_inputs = Input(shape=(None,))\n",
    "enc_emb =  Embedding(num_encoder_tokens, latent_dim, mask_zero = True)(encoder_inputs)\n",
    "encoder_lstm = LSTM(latent_dim, return_state=True)\n",
    "encoder_outputs, state_h, state_c = encoder_lstm(enc_emb)\n",
    "# We discard `encoder_outputs` and only keep the states.\n",
    "encoder_states = [state_h, state_c]"
   ]
  },
  {
   "cell_type": "code",
   "execution_count": 31,
   "metadata": {
    "id": "5ks-6T9vstrK"
   },
   "outputs": [],
   "source": [
    "# Set up the decoder, using `encoder_states` as initial state.\n",
    "decoder_inputs = Input(shape=(None,))\n",
    "dec_emb_layer = Embedding(num_decoder_tokens, latent_dim, mask_zero = True)\n",
    "dec_emb = dec_emb_layer(decoder_inputs)\n",
    "# We set up our decoder to return full output sequences,\n",
    "# and to return internal states as well. We don't use the\n",
    "# return states in the training model, but we will use them in inference.\n",
    "decoder_lstm = LSTM(latent_dim, return_sequences=True, return_state=True)\n",
    "decoder_outputs, _, _ = decoder_lstm(dec_emb,\n",
    "                                     initial_state=encoder_states)\n",
    "decoder_dense = Dense(num_decoder_tokens, activation='softmax')\n",
    "decoder_outputs = decoder_dense(decoder_outputs)"
   ]
  },
  {
   "cell_type": "code",
   "execution_count": 34,
   "metadata": {
    "id": "9E6v3ZFdstrL"
   },
   "outputs": [],
   "source": [
    "# Define the model that takes encoder and decoder input \n",
    "# to output decoder_outputs\n",
    "model = Model([encoder_inputs, decoder_inputs], decoder_outputs)"
   ]
  },
  {
   "cell_type": "code",
   "execution_count": 35,
   "metadata": {
    "colab": {
     "base_uri": "https://localhost:8080/",
     "height": 407
    },
    "id": "rYCB1VRNstrN",
    "outputId": "2fc2f237-84ac-4568-97fd-57fdccf1df5d"
   },
   "outputs": [
    {
     "name": "stdout",
     "output_type": "stream",
     "text": [
      "Model: \"model_2\"\n",
      "__________________________________________________________________________________________________\n",
      "Layer (type)                    Output Shape         Param #     Connected to                     \n",
      "==================================================================================================\n",
      "input_1 (InputLayer)            (None, None)         0                                            \n",
      "__________________________________________________________________________________________________\n",
      "input_2 (InputLayer)            (None, None)         0                                            \n",
      "__________________________________________________________________________________________________\n",
      "embedding_1 (Embedding)         (None, None, 256)    325376      input_1[0][0]                    \n",
      "__________________________________________________________________________________________________\n",
      "embedding_2 (Embedding)         (None, None, 256)    930816      input_2[0][0]                    \n",
      "__________________________________________________________________________________________________\n",
      "lstm_1 (LSTM)                   [(None, 256), (None, 525312      embedding_1[0][0]                \n",
      "__________________________________________________________________________________________________\n",
      "lstm_2 (LSTM)                   [(None, None, 256),  525312      embedding_2[0][0]                \n",
      "                                                                 lstm_1[0][1]                     \n",
      "                                                                 lstm_1[0][2]                     \n",
      "__________________________________________________________________________________________________\n",
      "dense_1 (Dense)                 (None, None, 3636)   934452      lstm_2[0][0]                     \n",
      "==================================================================================================\n",
      "Total params: 3,241,268\n",
      "Trainable params: 3,241,268\n",
      "Non-trainable params: 0\n",
      "__________________________________________________________________________________________________\n"
     ]
    }
   ],
   "source": [
    "model.compile(optimizer='rmsprop', loss='categorical_crossentropy', metrics=['accuracy'])\n",
    "model.summary()"
   ]
  },
  {
   "cell_type": "code",
   "execution_count": 36,
   "metadata": {
    "colab": {
     "base_uri": "https://localhost:8080/",
     "height": 1000
    },
    "id": "largXnmjstrR",
    "outputId": "ec3ae1b8-15c7-4c6a-aaf1-f2fcbe7c750d"
   },
   "outputs": [
    {
     "name": "stderr",
     "output_type": "stream",
     "text": [
      "C:\\Users\\Hasibur1\\Anaconda3_\\lib\\site-packages\\tensorflow_core\\python\\framework\\indexed_slices.py:433: UserWarning: Converting sparse IndexedSlices to a dense Tensor of unknown shape. This may consume a large amount of memory.\n",
      "  \"Converting sparse IndexedSlices to a dense Tensor of unknown shape. \"\n"
     ]
    },
    {
     "name": "stdout",
     "output_type": "stream",
     "text": [
      "Epoch 1/100\n",
      "44/44 [==============================] - 25s 575ms/step - loss: 2.1834 - accuracy: 0.1127 - val_loss: 2.0077 - val_accuracy: 0.1366\n",
      "Epoch 2/100\n",
      "44/44 [==============================] - 23s 515ms/step - loss: 1.8510 - accuracy: 0.1773 - val_loss: 1.6439 - val_accuracy: 0.2213\n",
      "Epoch 3/100\n",
      "44/44 [==============================] - 25s 557ms/step - loss: 1.6593 - accuracy: 0.2766 - val_loss: 1.7344 - val_accuracy: 0.3076\n",
      "Epoch 4/100\n",
      "44/44 [==============================] - 23s 522ms/step - loss: 1.4961 - accuracy: 0.3482 - val_loss: 1.5967 - val_accuracy: 0.3724\n",
      "Epoch 5/100\n",
      "44/44 [==============================] - 23s 520ms/step - loss: 1.3596 - accuracy: 0.4008 - val_loss: 1.5643 - val_accuracy: 0.4097\n",
      "Epoch 6/100\n",
      "44/44 [==============================] - 23s 514ms/step - loss: 1.2616 - accuracy: 0.4380 - val_loss: 1.2563 - val_accuracy: 0.4426\n",
      "Epoch 7/100\n",
      "44/44 [==============================] - 23s 523ms/step - loss: 1.1685 - accuracy: 0.4648 - val_loss: 1.2525 - val_accuracy: 0.4528\n",
      "Epoch 8/100\n",
      "44/44 [==============================] - 23s 514ms/step - loss: 1.1024 - accuracy: 0.4849 - val_loss: 1.4293 - val_accuracy: 0.4744\n",
      "Epoch 9/100\n",
      "44/44 [==============================] - 23s 513ms/step - loss: 1.0423 - accuracy: 0.5065 - val_loss: 1.4703 - val_accuracy: 0.4956\n",
      "Epoch 10/100\n",
      "44/44 [==============================] - 24s 541ms/step - loss: 0.9910 - accuracy: 0.5236 - val_loss: 1.2173 - val_accuracy: 0.5059\n",
      "Epoch 11/100\n",
      "44/44 [==============================] - 24s 544ms/step - loss: 0.9391 - accuracy: 0.5382 - val_loss: 1.1063 - val_accuracy: 0.5076\n",
      "Epoch 12/100\n",
      "44/44 [==============================] - 24s 538ms/step - loss: 0.8964 - accuracy: 0.5502 - val_loss: 1.0693 - val_accuracy: 0.5052\n",
      "Epoch 13/100\n",
      "44/44 [==============================] - 23s 523ms/step - loss: 0.8575 - accuracy: 0.5598 - val_loss: 1.1877 - val_accuracy: 0.5169\n",
      "Epoch 14/100\n",
      "44/44 [==============================] - 24s 537ms/step - loss: 0.8204 - accuracy: 0.5723 - val_loss: 1.0361 - val_accuracy: 0.5213\n",
      "Epoch 15/100\n",
      "44/44 [==============================] - 23s 531ms/step - loss: 0.7839 - accuracy: 0.5823 - val_loss: 1.2293 - val_accuracy: 0.5236\n",
      "Epoch 16/100\n",
      "44/44 [==============================] - 23s 529ms/step - loss: 0.7509 - accuracy: 0.5929 - val_loss: 1.2434 - val_accuracy: 0.5335\n",
      "Epoch 17/100\n",
      "44/44 [==============================] - 24s 547ms/step - loss: 0.7205 - accuracy: 0.6025 - val_loss: 1.1938 - val_accuracy: 0.5319\n",
      "Epoch 18/100\n",
      "44/44 [==============================] - 25s 563ms/step - loss: 0.6914 - accuracy: 0.6129 - val_loss: 1.1406 - val_accuracy: 0.5307\n",
      "Epoch 19/100\n",
      "44/44 [==============================] - 25s 568ms/step - loss: 0.6587 - accuracy: 0.6260 - val_loss: 1.2584 - val_accuracy: 0.5355\n",
      "Epoch 20/100\n",
      "44/44 [==============================] - 25s 569ms/step - loss: 0.6346 - accuracy: 0.6357 - val_loss: 1.3059 - val_accuracy: 0.5398\n",
      "Epoch 21/100\n",
      "44/44 [==============================] - 25s 560ms/step - loss: 0.6059 - accuracy: 0.6484 - val_loss: 1.0125 - val_accuracy: 0.5393\n",
      "Epoch 22/100\n",
      "44/44 [==============================] - 23s 526ms/step - loss: 0.5775 - accuracy: 0.6610 - val_loss: 1.1951 - val_accuracy: 0.5416\n",
      "Epoch 23/100\n",
      "44/44 [==============================] - 24s 541ms/step - loss: 0.5531 - accuracy: 0.6734 - val_loss: 1.1268 - val_accuracy: 0.5403\n",
      "Epoch 24/100\n",
      "44/44 [==============================] - 24s 548ms/step - loss: 0.5293 - accuracy: 0.6866 - val_loss: 1.2751 - val_accuracy: 0.5417\n",
      "Epoch 25/100\n",
      "44/44 [==============================] - 23s 529ms/step - loss: 0.5045 - accuracy: 0.7010 - val_loss: 1.1117 - val_accuracy: 0.5426\n",
      "Epoch 26/100\n",
      "44/44 [==============================] - 25s 573ms/step - loss: 0.4830 - accuracy: 0.7139 - val_loss: 1.0201 - val_accuracy: 0.5390\n",
      "Epoch 27/100\n",
      "44/44 [==============================] - 25s 563ms/step - loss: 0.4619 - accuracy: 0.7269 - val_loss: 1.3094 - val_accuracy: 0.5392\n",
      "Epoch 28/100\n",
      "44/44 [==============================] - 24s 547ms/step - loss: 0.4372 - accuracy: 0.7432 - val_loss: 1.3228 - val_accuracy: 0.5421\n",
      "Epoch 29/100\n",
      "44/44 [==============================] - 24s 539ms/step - loss: 0.4176 - accuracy: 0.7560 - val_loss: 1.1257 - val_accuracy: 0.5435\n",
      "Epoch 30/100\n",
      "44/44 [==============================] - 25s 559ms/step - loss: 0.3988 - accuracy: 0.7670 - val_loss: 1.0642 - val_accuracy: 0.5422\n",
      "Epoch 31/100\n",
      "44/44 [==============================] - 24s 548ms/step - loss: 0.3796 - accuracy: 0.7800 - val_loss: 1.0036 - val_accuracy: 0.5401\n",
      "Epoch 32/100\n",
      "44/44 [==============================] - 25s 559ms/step - loss: 0.3588 - accuracy: 0.7925 - val_loss: 1.1510 - val_accuracy: 0.5401\n",
      "Epoch 33/100\n",
      "44/44 [==============================] - 25s 571ms/step - loss: 0.3414 - accuracy: 0.8052 - val_loss: 1.0304 - val_accuracy: 0.5370\n",
      "Epoch 34/100\n",
      "44/44 [==============================] - 25s 567ms/step - loss: 0.3232 - accuracy: 0.8175 - val_loss: 1.2307 - val_accuracy: 0.5350\n",
      "Epoch 35/100\n",
      "44/44 [==============================] - 24s 554ms/step - loss: 0.3071 - accuracy: 0.8254 - val_loss: 1.2866 - val_accuracy: 0.5373\n",
      "Epoch 36/100\n",
      "44/44 [==============================] - 24s 541ms/step - loss: 0.2921 - accuracy: 0.8374 - val_loss: 1.2068 - val_accuracy: 0.5389\n",
      "Epoch 37/100\n",
      "44/44 [==============================] - 26s 588ms/step - loss: 0.2757 - accuracy: 0.8484 - val_loss: 1.1752 - val_accuracy: 0.5392\n",
      "Epoch 38/100\n",
      "44/44 [==============================] - 28s 641ms/step - loss: 0.2608 - accuracy: 0.8584 - val_loss: 1.3259 - val_accuracy: 0.5362\n",
      "Epoch 39/100\n",
      "44/44 [==============================] - 26s 596ms/step - loss: 0.2464 - accuracy: 0.8667 - val_loss: 1.3824 - val_accuracy: 0.5412\n",
      "Epoch 40/100\n",
      "44/44 [==============================] - 26s 584ms/step - loss: 0.2336 - accuracy: 0.8761 - val_loss: 1.0664 - val_accuracy: 0.5391\n",
      "Epoch 41/100\n",
      "44/44 [==============================] - 25s 568ms/step - loss: 0.2199 - accuracy: 0.8847 - val_loss: 1.2930 - val_accuracy: 0.5351\n",
      "Epoch 42/100\n",
      "44/44 [==============================] - 24s 552ms/step - loss: 0.2076 - accuracy: 0.8938 - val_loss: 1.1876 - val_accuracy: 0.5360\n",
      "Epoch 43/100\n",
      "44/44 [==============================] - 25s 565ms/step - loss: 0.1961 - accuracy: 0.9007 - val_loss: 1.3496 - val_accuracy: 0.5344\n",
      "Epoch 44/100\n",
      "44/44 [==============================] - 25s 564ms/step - loss: 0.1844 - accuracy: 0.9088 - val_loss: 1.2082 - val_accuracy: 0.5354\n",
      "Epoch 45/100\n",
      "44/44 [==============================] - 24s 544ms/step - loss: 0.1743 - accuracy: 0.9143 - val_loss: 1.1007 - val_accuracy: 0.5372\n",
      "Epoch 46/100\n",
      "44/44 [==============================] - 24s 544ms/step - loss: 0.1667 - accuracy: 0.9210 - val_loss: 1.4560 - val_accuracy: 0.5346\n",
      "Epoch 47/100\n",
      "44/44 [==============================] - 23s 531ms/step - loss: 0.1520 - accuracy: 0.9286 - val_loss: 1.4098 - val_accuracy: 0.5392\n",
      "Epoch 48/100\n",
      "44/44 [==============================] - 26s 596ms/step - loss: 0.1437 - accuracy: 0.9329 - val_loss: 1.2329 - val_accuracy: 0.5363\n",
      "Epoch 49/100\n",
      "44/44 [==============================] - 25s 571ms/step - loss: 0.1350 - accuracy: 0.9385 - val_loss: 1.1427 - val_accuracy: 0.5357\n",
      "Epoch 50/100\n",
      "44/44 [==============================] - 24s 534ms/step - loss: 0.1264 - accuracy: 0.9429 - val_loss: 1.0804 - val_accuracy: 0.5337\n",
      "Epoch 51/100\n",
      "44/44 [==============================] - 24s 534ms/step - loss: 0.1189 - accuracy: 0.9478 - val_loss: 1.3115 - val_accuracy: 0.5303\n",
      "Epoch 52/100\n",
      "44/44 [==============================] - 24s 538ms/step - loss: 0.1097 - accuracy: 0.9535 - val_loss: 1.1059 - val_accuracy: 0.5283\n",
      "Epoch 53/100\n",
      "44/44 [==============================] - 24s 551ms/step - loss: 0.1027 - accuracy: 0.9572 - val_loss: 1.3846 - val_accuracy: 0.5233\n",
      "Epoch 54/100\n",
      "44/44 [==============================] - 25s 564ms/step - loss: 0.0964 - accuracy: 0.9615 - val_loss: 1.4154 - val_accuracy: 0.5313\n",
      "Epoch 55/100\n",
      "44/44 [==============================] - 25s 557ms/step - loss: 0.0902 - accuracy: 0.9644 - val_loss: 1.3122 - val_accuracy: 0.5261\n",
      "Epoch 56/100\n",
      "44/44 [==============================] - 24s 537ms/step - loss: 0.0844 - accuracy: 0.9677 - val_loss: 1.2622 - val_accuracy: 0.5252\n",
      "Epoch 57/100\n"
     ]
    },
    {
     "name": "stdout",
     "output_type": "stream",
     "text": [
      "44/44 [==============================] - 24s 556ms/step - loss: 0.0784 - accuracy: 0.9709 - val_loss: 1.4612 - val_accuracy: 0.5245\n",
      "Epoch 58/100\n",
      "44/44 [==============================] - 24s 545ms/step - loss: 0.0734 - accuracy: 0.9733 - val_loss: 1.5156 - val_accuracy: 0.5285\n",
      "Epoch 59/100\n",
      "44/44 [==============================] - 24s 556ms/step - loss: 0.0679 - accuracy: 0.9767 - val_loss: 1.1851 - val_accuracy: 0.5262\n",
      "Epoch 60/100\n",
      "44/44 [==============================] - 25s 567ms/step - loss: 0.0623 - accuracy: 0.9799 - val_loss: 1.4397 - val_accuracy: 0.5216\n",
      "Epoch 61/100\n",
      "44/44 [==============================] - 24s 551ms/step - loss: 0.0582 - accuracy: 0.9820 - val_loss: 1.3347 - val_accuracy: 0.5162\n",
      "Epoch 62/100\n",
      "44/44 [==============================] - 24s 555ms/step - loss: 0.0541 - accuracy: 0.9837 - val_loss: 1.4661 - val_accuracy: 0.5223\n",
      "Epoch 63/100\n",
      "44/44 [==============================] - 24s 548ms/step - loss: 0.0501 - accuracy: 0.9858 - val_loss: 1.3461 - val_accuracy: 0.5226\n",
      "Epoch 64/100\n",
      "44/44 [==============================] - 24s 542ms/step - loss: 0.0469 - accuracy: 0.9871 - val_loss: 1.1757 - val_accuracy: 0.5173\n",
      "Epoch 65/100\n",
      "44/44 [==============================] - 24s 548ms/step - loss: 0.0430 - accuracy: 0.9886 - val_loss: 1.6081 - val_accuracy: 0.5185\n",
      "Epoch 66/100\n",
      "44/44 [==============================] - 23s 526ms/step - loss: 0.0396 - accuracy: 0.9902 - val_loss: 1.5562 - val_accuracy: 0.5259\n",
      "Epoch 67/100\n",
      "44/44 [==============================] - 25s 559ms/step - loss: 0.0366 - accuracy: 0.9912 - val_loss: 1.3934 - val_accuracy: 0.5216\n",
      "Epoch 68/100\n",
      "44/44 [==============================] - 24s 543ms/step - loss: 0.0339 - accuracy: 0.9925 - val_loss: 1.2822 - val_accuracy: 0.5201\n",
      "Epoch 69/100\n",
      "44/44 [==============================] - 24s 551ms/step - loss: 0.0304 - accuracy: 0.9930 - val_loss: 1.2234 - val_accuracy: 0.5197\n",
      "Epoch 70/100\n",
      "44/44 [==============================] - 24s 543ms/step - loss: 0.0284 - accuracy: 0.9940 - val_loss: 1.4099 - val_accuracy: 0.5174\n",
      "Epoch 71/100\n",
      "44/44 [==============================] - 25s 560ms/step - loss: 0.0267 - accuracy: 0.9944 - val_loss: 1.2401 - val_accuracy: 0.5223\n",
      "Epoch 72/100\n",
      "44/44 [==============================] - 23s 533ms/step - loss: 0.0249 - accuracy: 0.9948 - val_loss: 1.5146 - val_accuracy: 0.5164\n",
      "Epoch 73/100\n",
      "44/44 [==============================] - 26s 583ms/step - loss: 0.0223 - accuracy: 0.9954 - val_loss: 1.6115 - val_accuracy: 0.5241\n",
      "Epoch 74/100\n",
      "44/44 [==============================] - 25s 579ms/step - loss: 0.0205 - accuracy: 0.9959 - val_loss: 1.4623 - val_accuracy: 0.5227\n",
      "Epoch 75/100\n",
      "44/44 [==============================] - 26s 580ms/step - loss: 0.0194 - accuracy: 0.9959 - val_loss: 1.4240 - val_accuracy: 0.5162\n",
      "Epoch 76/100\n",
      "44/44 [==============================] - 24s 553ms/step - loss: 0.0177 - accuracy: 0.9963 - val_loss: 1.5968 - val_accuracy: 0.5200\n",
      "Epoch 77/100\n",
      "44/44 [==============================] - 24s 550ms/step - loss: 0.0169 - accuracy: 0.9961 - val_loss: 1.6502 - val_accuracy: 0.5211\n",
      "Epoch 78/100\n",
      "44/44 [==============================] - 24s 554ms/step - loss: 0.0147 - accuracy: 0.9970 - val_loss: 1.2759 - val_accuracy: 0.5238\n",
      "Epoch 79/100\n",
      "44/44 [==============================] - 24s 544ms/step - loss: 0.0140 - accuracy: 0.9967 - val_loss: 1.5818 - val_accuracy: 0.5201\n",
      "Epoch 80/100\n",
      "44/44 [==============================] - 24s 539ms/step - loss: 0.0130 - accuracy: 0.9968 - val_loss: 1.4692 - val_accuracy: 0.5230\n",
      "Epoch 81/100\n",
      "44/44 [==============================] - 24s 535ms/step - loss: 0.0132 - accuracy: 0.9963 - val_loss: 1.5947 - val_accuracy: 0.5250\n",
      "Epoch 82/100\n",
      "44/44 [==============================] - 24s 552ms/step - loss: 0.0109 - accuracy: 0.9972 - val_loss: 1.4370 - val_accuracy: 0.5244\n",
      "Epoch 83/100\n",
      "44/44 [==============================] - 24s 557ms/step - loss: 0.0104 - accuracy: 0.9970 - val_loss: 1.3165 - val_accuracy: 0.5208\n",
      "Epoch 84/100\n",
      "44/44 [==============================] - 25s 576ms/step - loss: 0.0099 - accuracy: 0.9971 - val_loss: 1.7986 - val_accuracy: 0.5240\n",
      "Epoch 85/100\n",
      "44/44 [==============================] - 25s 562ms/step - loss: 0.0091 - accuracy: 0.9971 - val_loss: 1.7144 - val_accuracy: 0.5279\n",
      "Epoch 86/100\n",
      "44/44 [==============================] - 26s 580ms/step - loss: 0.0091 - accuracy: 0.9969 - val_loss: 1.4929 - val_accuracy: 0.5263\n",
      "Epoch 87/100\n",
      "44/44 [==============================] - 24s 551ms/step - loss: 0.0085 - accuracy: 0.9971 - val_loss: 1.3733 - val_accuracy: 0.5261\n",
      "Epoch 88/100\n",
      "44/44 [==============================] - 25s 576ms/step - loss: 0.0080 - accuracy: 0.9972 - val_loss: 1.3000 - val_accuracy: 0.5238\n",
      "Epoch 89/100\n",
      "44/44 [==============================] - 25s 567ms/step - loss: 0.0075 - accuracy: 0.9971 - val_loss: 1.5132 - val_accuracy: 0.5233\n",
      "Epoch 90/100\n",
      "44/44 [==============================] - 24s 540ms/step - loss: 0.0073 - accuracy: 0.9971 - val_loss: 1.2930 - val_accuracy: 0.5211\n",
      "Epoch 91/100\n",
      "44/44 [==============================] - 25s 577ms/step - loss: 0.0071 - accuracy: 0.9970 - val_loss: 1.6460 - val_accuracy: 0.5172\n",
      "Epoch 92/100\n",
      "44/44 [==============================] - 24s 552ms/step - loss: 0.0060 - accuracy: 0.9975 - val_loss: 1.7121 - val_accuracy: 0.5243\n",
      "Epoch 93/100\n",
      "44/44 [==============================] - 25s 574ms/step - loss: 0.0063 - accuracy: 0.9972 - val_loss: 1.5407 - val_accuracy: 0.5224\n",
      "Epoch 94/100\n",
      "44/44 [==============================] - 25s 561ms/step - loss: 0.0061 - accuracy: 0.9972 - val_loss: 1.4833 - val_accuracy: 0.5177\n",
      "Epoch 95/100\n",
      "44/44 [==============================] - 25s 568ms/step - loss: 0.0058 - accuracy: 0.9971 - val_loss: 1.6909 - val_accuracy: 0.5178\n",
      "Epoch 96/100\n",
      "44/44 [==============================] - 25s 566ms/step - loss: 0.0056 - accuracy: 0.9972 - val_loss: 1.7316 - val_accuracy: 0.5192\n",
      "Epoch 97/100\n",
      "44/44 [==============================] - 25s 563ms/step - loss: 0.0056 - accuracy: 0.9972 - val_loss: 1.3718 - val_accuracy: 0.5229\n",
      "Epoch 98/100\n",
      "44/44 [==============================] - 24s 555ms/step - loss: 0.0052 - accuracy: 0.9971 - val_loss: 1.6577 - val_accuracy: 0.5194\n",
      "Epoch 99/100\n",
      "44/44 [==============================] - 25s 579ms/step - loss: 0.0057 - accuracy: 0.9970 - val_loss: 1.5623 - val_accuracy: 0.5190\n",
      "Epoch 100/100\n",
      "44/44 [==============================] - 26s 599ms/step - loss: 0.0051 - accuracy: 0.9971 - val_loss: 1.7082 - val_accuracy: 0.5215\n"
     ]
    },
    {
     "data": {
      "text/plain": [
       "<keras.callbacks.callbacks.History at 0x23d2ca521c8>"
      ]
     },
     "execution_count": 36,
     "metadata": {},
     "output_type": "execute_result"
    }
   ],
   "source": [
    "model.fit_generator(generator = generate_batch(X_train, y_train, batch_size = batch_size),\n",
    "                    steps_per_epoch = train_samples//batch_size,\n",
    "                    validation_data = generate_batch(X_test, y_test, batch_size = batch_size),\n",
    "                    validation_steps = val_samples//batch_size, epochs=epochs)"
   ]
  },
  {
   "cell_type": "code",
   "execution_count": 33,
   "metadata": {
    "id": "7ajjUP_hstrS"
   },
   "outputs": [],
   "source": [
    "model.save_weights('nmt_weights_0epochs.h5')"
   ]
  },
  {
   "cell_type": "code",
   "execution_count": 34,
   "metadata": {
    "id": "t9r8wcK_strV"
   },
   "outputs": [],
   "source": [
    "model.load_weights('nmt_weights_0epochs.h5')"
   ]
  },
  {
   "cell_type": "code",
   "execution_count": 35,
   "metadata": {
    "id": "7tOD_nbCstrX"
   },
   "outputs": [],
   "source": [
    "# Encode the input sequence to get the \"Context vectors\"\n",
    "encoder_model = Model(encoder_inputs, encoder_states)\n",
    "# Decoder setup\n",
    "# Below tensors will hold the states of the previous time step\n",
    "decoder_state_input_h = Input(shape=(latent_dim,))\n",
    "decoder_state_input_c = Input(shape=(latent_dim,))\n",
    "decoder_state_input = [decoder_state_input_h, decoder_state_input_c]\n",
    "# Get the embeddings of the decoder sequence\n",
    "dec_emb2= dec_emb_layer(decoder_inputs)\n",
    "# To predict the next word in the sequence, set the initial states to the states from the previous time step\n",
    "decoder_outputs2, state_h2, state_c2 = decoder_lstm(dec_emb2, initial_state=decoder_state_input)\n",
    "decoder_states2 = [state_h2, state_c2]\n",
    "# A dense softmax layer to generate prob dist. over the target vocabulary\n",
    "decoder_outputs2 = decoder_dense(decoder_outputs2)\n",
    "# Final decoder model\n",
    "decoder_model = Model(\n",
    "    [decoder_inputs] + decoder_state_input,\n",
    "    [decoder_outputs2] + decoder_states2)"
   ]
  },
  {
   "cell_type": "code",
   "execution_count": 36,
   "metadata": {
    "id": "9JxPxjCYstrZ"
   },
   "outputs": [],
   "source": [
    "def decode_sequence(input_seq):\n",
    "    # Encode the input as state vectors.\n",
    "    states_value = encoder_model.predict(input_seq)\n",
    "    # Generate empty target sequence of length 1.\n",
    "    target_seq = np.zeros((1,1))\n",
    "    # Populate the first character of \n",
    "    #target sequence with the start character.\n",
    "    target_seq[0, 0] = target_word2idx['START_']\n",
    "# Sampling loop for a batch of sequences\n",
    "    # (to simplify, here we assume a batch of size 1).\n",
    "    stop_condition = False\n",
    "    decoded_sentence = ''\n",
    "    while not stop_condition:\n",
    "        output_tokens, h, c = decoder_model.predict([target_seq] + states_value)\n",
    "# Sample a token\n",
    "        sampled_token_index = np.argmax(output_tokens[0, -1, :])\n",
    "        sampled_word =target_idx2word[sampled_token_index]\n",
    "        decoded_sentence += ' '+ sampled_word\n",
    "# Exit condition: either hit max length\n",
    "        # or find stop character.\n",
    "        if (sampled_word == '_END' or\n",
    "           len(decoded_sentence) > 110):\n",
    "            stop_condition = True\n",
    "# Update the target sequence (of length 1).\n",
    "        target_seq = np.zeros((1,1))\n",
    "        target_seq[0, 0] = sampled_token_index\n",
    "# Update states\n",
    "        states_value = [h, c]\n",
    "    return decoded_sentence"
   ]
  },
  {
   "cell_type": "code",
   "execution_count": 44,
   "metadata": {
    "id": "VfFHzNiFstra"
   },
   "outputs": [],
   "source": [
    "test_gen = generate_batch(X_test, y_test, batch_size = 1)\n",
    "i=-1"
   ]
  },
  {
   "cell_type": "code",
   "execution_count": 45,
   "metadata": {
    "colab": {
     "base_uri": "https://localhost:8080/",
     "height": 1000
    },
    "id": "2xQ5l26Dstrd",
    "outputId": "da7ea6e9-a14b-45c8-c59b-810f97748969"
   },
   "outputs": [
    {
     "name": "stdout",
     "output_type": "stream",
     "text": [
      "Input Source Question: what are the treatments for todds paralysis ?\n",
      "Actual Target Answer:  individuals must rest as comfortably as possible until the paralysis disappears \n",
      "Predicted Target Answer:  diagnostic tests drug therapy surgery and rehabilitation \n",
      "\n",
      "\n",
      "Input Source Question: what are the genetic changes related to glutamate formiminotransferase deficiency ?\n",
      "Actual Target Answer:  mutations in the ftcd gene cause glutamate formiminotransferase deficiency \n",
      "Predicted Target Answer:  mutations in the abdomen gene cause that deficiency \n",
      "\n",
      "\n",
      "Input Source Question: what is are alpha reductase deficiency ?\n",
      "Actual Target Answer:  a condition that affects male sexual development before birth and during puberty \n",
      "Predicted Target Answer:  a condition that prevents the body from converting certain fats to energy \n",
      "\n",
      "\n",
      "Input Source Question: what is the outlook for zellweger syndrome ?\n",
      "Actual Target Answer:  loc syndrome is a disorder that leads to abnormalities of the voicebox finger and toenails and skin \n",
      "Predicted Target Answer:  most infants do not survive past the first months respiratory distress \n",
      "\n",
      "\n",
      "Input Source Question: what are the treatments for potassium aggravated myotonia ?\n",
      "Actual Target Answer:  diagnostic tests drug therapy surgery and rehabilitation genetic counseling palliative care \n",
      "Predicted Target Answer:  diagnostic tests drug therapy surgery and rehabilitation \n",
      "\n",
      "\n",
      "Input Source Question: what are the genetic changes related to spina bifida ?\n",
      "Actual Target Answer:  a complex condition that is likely caused by the interaction of multiple genetic and environmental factors \n",
      "Predicted Target Answer:  a condition in which the neck gene characterized by the many of that can cause it that can identified \n",
      "\n",
      "\n",
      "Input Source Question: what is are alpha hydroxylase lyase deficiency ?\n",
      "Actual Target Answer:  a condition that affects the function of certain hormone producing glands called the gonad and the adrenal glands \n",
      "Predicted Target Answer:  an inherited disorder that affects the development of the brain and other parts of the body \n",
      "\n",
      "\n",
      "Input Source Question: how many people are affected by ulcerative colitis ?\n",
      "Actual Target Answer:  ulcerative colitis is most common in north america and western europe \n",
      "Predicted Target Answer:  the exact incidence of transthyretin amyloidosis is unknown \n",
      "\n",
      "\n",
      "Input Source Question: what are the genetic changes related to juvenile myoclonic epilepsy ?\n",
      "Actual Target Answer:  the genetics of juvenile myoclonic epilepsy are complex and not completely understood \n",
      "Predicted Target Answer:  juvenile myoclonic epilepsy is a condition caused by mutations in the x linked recessive pattern \n",
      "\n",
      "\n",
      "Input Source Question: what is are spinocerebellar ataxia type ?\n",
      "Actual Target Answer:  a condition characterized by progressive problems with movement that typically begin in mid adulthood \n",
      "Predicted Target Answer:  a condition characterized by progressive problems with movement \n",
      "\n",
      "\n",
      "Input Source Question: what is are nonsyndromic paraganglioma ?\n",
      "Actual Target Answer:  a type of noncancerous tumor that occurs in structures called paraganglia \n",
      "Predicted Target Answer:  a condition that affects the digestive system \n",
      "\n",
      "\n",
      "Input Source Question: what are the genetic changes related to lactate dehydrogenase deficiency ?\n",
      "Actual Target Answer:  mutations in the ldha gene cause lactate dehydrogenase a deficiency \n",
      "Predicted Target Answer:  mutations in the group of genetic and environmental factors \n",
      "\n",
      "\n",
      "Input Source Question: what are the genetic changes related to isolated duane retraction syndrome ?\n",
      "Actual Target Answer:  in most people with isolated duane retraction syndrome the cause of the condition is unknown \n",
      "Predicted Target Answer:  kbg syndrome is caused by mutations in the the symptoms gene cause \n",
      "\n",
      "\n",
      "Input Source Question: how many people are affected by mpv related hepatocerebral mitochondrial dna depletion syndrome ?\n",
      "Actual Target Answer:  thought to be a rare condition \n",
      "Predicted Target Answer:  the prevalence of tk syndrome is unknown \n",
      "\n",
      "\n",
      "Input Source Question: what are the treatments for beta hydroxysteroid dehydrogenase deficiency ?\n",
      "Actual Target Answer:  diagnostic tests drug therapy surgery and rehabilitation genetic counseling \n",
      "Predicted Target Answer:  diagnostic tests drug therapy surgery and rehabilitation genetic counseling \n",
      "\n",
      "\n",
      "Input Source Question: what research or clinical trials is being done for opsoclonus myoclonus ?\n",
      "Actual Target Answer:  the ninds supports and conducts research on movement disorders such as opsoclonus myoclonus \n",
      "Predicted Target Answer:  the ninds conducts and supports a broad program of basic and clinical research on dravet syndrome \n",
      "\n",
      "\n",
      "Input Source Question: what is are north american indian childhood cirrhosis ?\n",
      "Actual Target Answer:  north american indian childhood cirrhosis is a rare liver disorder that occurs in children \n",
      "Predicted Target Answer:  an inherited disorder in which excessive amounts of the element manganese accumulate in the body \n",
      "\n",
      "\n",
      "Input Source Question: what are the treatments for mycosis fungoides and the szary syndrome ?\n",
      "Actual Target Answer:  photodynamic therapy radiation therapy biologic therapy \n",
      "Predicted Target Answer:  surgery chemotherapy radiation therapy \n",
      "\n",
      "\n",
      "Input Source Question: what are the genetic changes related to laron syndrome ?\n",
      "Actual Target Answer:  laron syndrome is caused by mutations in the ghr gene \n",
      "Predicted Target Answer:  a condition caused by mutations in the vldlr gene \n",
      "\n",
      "\n",
      "Input Source Question: what are the symptoms of intraocular melanoma ?\n",
      "Actual Target Answer:  blurred vision dark spot loss of peripheral vision \n",
      "Predicted Target Answer:  swelling and pain in the abdomen fever \n",
      "\n",
      "\n",
      "Input Source Question: is mitochondrial encephalomyopathy lactic acidosis and stroke like episodes inherited ?\n",
      "Actual Target Answer:  this condition is inherited as maternal inheritance \n",
      "Predicted Target Answer:  this condition is inherited in an autosomal recessive pattern \n",
      "\n",
      "\n",
      "Input Source Question: what is non small cell lung cancer ?\n",
      "Actual Target Answer:  non small cell lung cancer is the most common type of lung cancer \n",
      "Predicted Target Answer:  a disease in which cancer cells form in the tissues of the dominant \n",
      "\n",
      "\n",
      "Input Source Question: how many people are affected by succinyl coa ketoacid coa transferase deficiency ?\n",
      "Actual Target Answer:  more than cases of this condition have been reported in the scientific literature \n",
      "Predicted Target Answer:  it has been reported in only a small number of people worldwide \n",
      "\n",
      "\n",
      "Input Source Question: how many people are affected by succinate coa ligase deficiency ?\n",
      "Actual Target Answer:  although the exact prevalence of succinate coa ligase deficiency is unknown it appears to be very rare \n",
      "Predicted Target Answer:  only a few affected families have been reported in the scientific literature \n",
      "\n",
      "\n",
      "Input Source Question: how many people are affected by senior lken syndrome ?\n",
      "Actual Target Answer:  senior lken syndrome is a rare disorder \n",
      "Predicted Target Answer:  the estimated incidence of jacobsen syndrome is in newborns \n",
      "\n",
      "\n",
      "Input Source Question: what is mycosis fungoides and the szary syndrome ?\n",
      "Actual Target Answer:  a disease in which lymphocytes affect the skin \n",
      "Predicted Target Answer:  a neurological disorders caused by inflammation of inflammation or at the nervous system \n",
      "\n",
      "\n",
      "Input Source Question: what are the genetic changes related to von willebrand disease ?\n",
      "Actual Target Answer:  mutations in the vwf gene cause von willebrand disease \n",
      "Predicted Target Answer:  mutations in the disease gene cause alexander disease \n",
      "\n",
      "\n",
      "Input Source Question: what is are q minus syndrome ?\n",
      "Actual Target Answer:  a type of bone marrow disorder called myelodysplastic syndrome \n",
      "Predicted Target Answer:  severe neurological disorders is characterized by an extra copy of the y chromosome in each of the body \n",
      "\n",
      "\n",
      "Input Source Question: how many people are affected by short chain acyl coa dehydrogenase deficiency ?\n",
      "Actual Target Answer:  this disorder is thought to affect approximately in to newborns \n",
      "Predicted Target Answer:  this condition is likely a rare disorder in which is estimated to affect in to individuals \n",
      "\n",
      "\n",
      "Input Source Question: what is are juvenile batten disease ?\n",
      "Actual Target Answer:  juvenile batten disease is an inherited disorder that primarily affects the nervous system \n",
      "Predicted Target Answer:  juvenile myoclonic epilepsy is a condition characterized by recurrent seizures \n",
      "\n",
      "\n",
      "Input Source Question: what are the genetic changes related to galactosemia ?\n",
      "Actual Target Answer:  mutations in the galt galk and gale genes cause galactosemia \n",
      "Predicted Target Answer:  mutations in the galt galk and gale genes cause galactosemia \n",
      "\n",
      "\n",
      "Input Source Question: what is are spinal muscular atrophy with respiratory distress type ?\n",
      "Actual Target Answer:  an inherited condition that causes muscle weakness and respiratory failure typically beginning in infancy \n",
      "Predicted Target Answer:  a condition that affects the bodys ability to break down fats \n",
      "\n",
      "\n",
      "Input Source Question: what is the outlook for encephalopathy ?\n",
      "Actual Target Answer:  encephalopathy may cause permanent structural changes and irreversible damage to the brain \n",
      "Predicted Target Answer:  the prognosis for individuals with colpocephaly \n",
      "\n",
      "\n",
      "Input Source Question: what are the genetic changes related to moebius syndrome ?\n",
      "Actual Target Answer:  the causes of moebius syndrome are unknown \n",
      "Predicted Target Answer:  mutations in the sry gene have been identified in approximately percent of individuals with swyer syndrome \n",
      "\n",
      "\n",
      "Input Source Question: is glut deficiency syndrome inherited ?\n",
      "Actual Target Answer:  this condition is usually inherited in an autosomal dominant pattern \n",
      "Predicted Target Answer:  approximately percent of cases of the blood cells are inherited in an autosomal recessive pattern \n",
      "\n",
      "\n",
      "Input Source Question: what is are lennox gastaut syndrome ?\n",
      "Actual Target Answer:  diagnostic tests drug therapy surgery and rehabilitation genetic counseling palliative care \n",
      "Predicted Target Answer:  severe or small genes syndrome is a rare condition \n",
      "\n",
      "\n",
      "Input Source Question: what are the genetic changes related to nemaline myopathy ?\n",
      "Actual Target Answer:  mutations in one of many genes can cause nemaline myopathy \n",
      "Predicted Target Answer:  a condition that results from the skin and eye \n",
      "\n",
      "\n",
      "Input Source Question: what is the outlook for tethered spinal cord syndrome ?\n",
      "Actual Target Answer:  with treatment individuals with tethered spinal cord syndrome have a normal life expectancy \n",
      "Predicted Target Answer:  some people have only a progressive history of the immune system \n",
      "\n",
      "\n",
      "Input Source Question: what are the treatments for lafora progressive myoclonus epilepsy ?\n",
      "Actual Target Answer:  diagnostic tests drug therapy surgery and rehabilitation genetic counseling palliative care \n",
      "Predicted Target Answer:  diagnostic tests drug therapy surgery and rehabilitation genetic counseling palliative care \n",
      "\n",
      "\n",
      "Input Source Question: what are the treatments for nasopharyngeal cancer ?\n",
      "Actual Target Answer:  radiation therapy chemotherapy surgery \n",
      "Predicted Target Answer:  surgery radiation therapy chemotherapy biologic therapy \n",
      "\n",
      "\n"
     ]
    }
   ],
   "source": [
    "#Make predictions on the test dataset\n",
    "i+= 1\n",
    "for k in range(i,i+40):\n",
    "    #print(\"\\n\",k)\n",
    "    (input_seq, actual_output), _ = next(test_gen)\n",
    "    decoded_sentence = decode_sequence(input_seq)\n",
    "    print('Input Source Question:', X_test[k:k+1].values[0],'?')\n",
    "    print('Actual Target Answer:', y_test[k:k+1].values[0][6:-4])\n",
    "    print('Predicted Target Answer:', decoded_sentence[:-4])\n",
    "    print(\"\\n\")"
   ]
  },
  {
   "cell_type": "code",
   "execution_count": 39,
   "metadata": {
    "id": "Pb_DFSp1iTRN"
   },
   "outputs": [],
   "source": [
    "#Make predictions on the train dataset\n",
    "\n",
    "train_gen = generate_batch(X_train, y_train, batch_size = 1)\n",
    "x=-1"
   ]
  },
  {
   "cell_type": "code",
   "execution_count": 40,
   "metadata": {
    "colab": {
     "base_uri": "https://localhost:8080/",
     "height": 1000
    },
    "id": "wqzYkycev2Oy",
    "outputId": "2ec7c29f-8e16-4421-9ca1-dfe5d6b819f9"
   },
   "outputs": [
    {
     "name": "stdout",
     "output_type": "stream",
     "text": [
      "Input Source Question: how many people are affected by intrauterine growth restriction metaphyseal dysplasia adrenal hypoplasia congenita and genital anomalies ?\n",
      "Actual Target Answer:  image syndrome is very rare with only about cases reported in the medical literature \n",
      "Predicted Target Answer:  image syndrome is very rare with only about cases reported in the medical literature \n",
      "\n",
      "\n",
      "Input Source Question: how many people are affected by langer mesomelic dysplasia ?\n",
      "Actual Target Answer:  the prevalence of langer mesomelic dysplasia is unknown \n",
      "Predicted Target Answer:  the prevalence of langer mesomelic dysplasia is unknown \n",
      "\n",
      "\n",
      "Input Source Question: what is are guanidinoacetate methyltransferase deficiency ?\n",
      "Actual Target Answer:  an inherited disorder that primarily affects the brain and muscles \n",
      "Predicted Target Answer:  an inherited disorder that primarily affects the brain and muscles \n",
      "\n",
      "\n",
      "Input Source Question: how many people are affected by laing distal myopathy ?\n",
      "Actual Target Answer:  although laing distal myopathy is thought to be rare \n",
      "Predicted Target Answer:  although laing distal myopathy is thought to be rare \n",
      "\n",
      "\n",
      "Input Source Question: is spina bifida inherited ?\n",
      "Actual Target Answer:  most cases of spina bifida occur in people with no history of the disorder in their family \n",
      "Predicted Target Answer:  most cases of spina bifida occur in people with no history of the disorder in their family \n",
      "\n",
      "\n",
      "Input Source Question: what are the genetic changes related to hereditary hemorrhagic telangiectasia ?\n",
      "Actual Target Answer:  mutations in the acvrl eng and smad genes cause hereditary hemorrhagic telangiectasia \n",
      "Predicted Target Answer:  mutations in the acvrl eng and smad genes cause hereditary hemorrhagic telangiectasia \n",
      "\n",
      "\n",
      "Input Source Question: what is are mandibulofacial dysostosis with microcephaly ?\n",
      "Actual Target Answer:  a disorder that causes abnormalities of the head and face \n",
      "Predicted Target Answer:  a disorder that causes abnormalities of the head and face \n",
      "\n",
      "\n",
      "Input Source Question: is intrauterine growth restriction metaphyseal dysplasia adrenal hypoplasia congenita and genital anomalies inherited ?\n",
      "Actual Target Answer:  the inheritance of image syndrome is complex \n",
      "Predicted Target Answer:  the inheritance of image syndrome is complex \n",
      "\n",
      "\n",
      "Input Source Question: what are the genetic changes related to hystrix like ichthyosis with deafness ?\n",
      "Actual Target Answer:  hid is caused by mutations in the gjb gene \n",
      "Predicted Target Answer:  hid is caused by mutations in the gjb gene \n",
      "\n",
      "\n",
      "Input Source Question: what are the treatments for peters plus syndrome ?\n",
      "Actual Target Answer:  diagnostic tests drug therapy surgery and rehabilitation genetic counseling palliative care \n",
      "Predicted Target Answer:  diagnostic tests drug therapy surgery and rehabilitation genetic counseling palliative care \n",
      "\n",
      "\n",
      "Input Source Question: what research is being done for nasopharyngeal cancer ?\n",
      "Actual Target Answer:  researchers continue to develop new chemo drugs that might be more effective against advanced npc \n",
      "Predicted Target Answer:  researchers continue to develop new chemo drugs that might be more effective against advanced npc \n",
      "\n",
      "\n",
      "Input Source Question: what are the treatments for corticobasal degeneration ?\n",
      "Actual Target Answer:  clonazepam may help the myoclonus \n",
      "Predicted Target Answer:  clonazepam may help the myoclonus \n",
      "\n",
      "\n",
      "Input Source Question: what is are hystrix like ichthyosis with deafness ?\n",
      "Actual Target Answer:  a disorder characterized by dry scaly skin and hearing loss that is usually profound \n",
      "Predicted Target Answer:  a disorder characterized by dry scaly skin and hearing loss that is usually profound \n",
      "\n",
      "\n",
      "Input Source Question: what are the genetic changes related to maffucci syndrome ?\n",
      "Actual Target Answer:  the disorder is caused by mutations in the idh or idh gene \n",
      "Predicted Target Answer:  the disorder is caused by mutations in the idh or idh gene \n",
      "\n",
      "\n",
      "Input Source Question: is lysinuric protein intolerance inherited ?\n",
      "Actual Target Answer:  this condition is inherited in an autosomal recessive pattern \n",
      "Predicted Target Answer:  this condition is inherited in an autosomal recessive pattern \n",
      "\n",
      "\n",
      "Input Source Question: what are the symptoms of metastatic squamous neck cancer with occult primary ?\n",
      "Actual Target Answer:  a lump or pain in the neck or throat \n",
      "Predicted Target Answer:  a lump or pain in the neck or throat \n",
      "\n",
      "\n",
      "Input Source Question: what is the risk for childhood craniopharyngioma ?\n",
      "Actual Target Answer:  there are no known risk factors for childhood craniopharyngioma \n",
      "Predicted Target Answer:  there are no known risk factors for childhood craniopharyngioma \n",
      "\n",
      "\n",
      "Input Source Question: what are the genetic changes related to hirschsprung disease ?\n",
      "Actual Target Answer:  it can result from mutations in one of several genes including the ret ednrb and edn genes \n",
      "Predicted Target Answer:  it can result from mutations in one of several genes including the ret ednrb and edn genes \n",
      "\n",
      "\n",
      "Input Source Question: what is are langer mesomelic dysplasia ?\n",
      "Actual Target Answer:  langer mesomelic dysplasia is a disorder of bone growth \n",
      "Predicted Target Answer:  langer mesomelic dysplasia is a disorder of bone growth \n",
      "\n",
      "\n",
      "Input Source Question: how many people are affected by late infantile neuronal ceroid lipofuscinosis ?\n",
      "Actual Target Answer:  mutations in the tpp gene cause most cases of late infantile ncl \n",
      "Predicted Target Answer:  mutations in the tpp gene cause most cases of late infantile ncl \n",
      "\n",
      "\n",
      "Input Source Question: how many people are affected by spastic paraplegia type ?\n",
      "Actual Target Answer:  over cases of spastic paraplegia type have been reported \n",
      "Predicted Target Answer:  over cases of spastic paraplegia type have been reported \n",
      "\n",
      "\n",
      "Input Source Question: how many people are affected by polycystic lipomembranous osteodysplasia with sclerosing leukoencephalopathy ?\n",
      "Actual Target Answer:  plosl is a very rare condition \n",
      "Predicted Target Answer:  plosl is a very rare condition \n",
      "\n",
      "\n",
      "Input Source Question: is inherited thyroxine binding globulin deficiency inherited ?\n",
      "Actual Target Answer:  inherited thyroxine binding globulin deficiency has an x linked pattern of inheritance \n",
      "Predicted Target Answer:  inherited thyroxine binding globulin deficiency has an x linked pattern of inheritance \n",
      "\n",
      "\n",
      "Input Source Question: is x linked intellectual disability siderius type inherited ?\n",
      "Actual Target Answer:  this condition is inherited in an x linked recessive pattern \n",
      "Predicted Target Answer:  this condition is inherited in an x linked recessive pattern \n",
      "\n",
      "\n",
      "Input Source Question: what are the genetic changes related to fumarase deficiency ?\n",
      "Actual Target Answer:  the fh gene provides instructions for making an enzyme called fumarase \n",
      "Predicted Target Answer:  the fh gene provides instructions for making an enzyme called fumarase \n",
      "\n",
      "\n",
      "Input Source Question: what are the symptoms of prostate cancer ?\n",
      "Actual Target Answer:  inability to urinate weak or interrupted flow of urine painful or burning urination \n",
      "Predicted Target Answer:  inability to urinate weak or interrupted flow of urine painful or burning urination \n",
      "\n",
      "\n",
      "Input Source Question: what are the genetic changes related to naegeli franceschetti jadassohn syndrome dermatopathia pigmentosa reticularis ?\n",
      "Actual Target Answer:  nfjs dpr results from mutations in the krt gene \n",
      "Predicted Target Answer:  nfjs dpr results from mutations in the krt gene \n",
      "\n",
      "\n",
      "Input Source Question: what research or clinical trials is being done for coffin lowry syndrome ?\n",
      "Actual Target Answer:  the ninds supports and conducts research coffin lowry syndrome \n",
      "Predicted Target Answer:  the ninds supports and conducts research coffin lowry syndrome \n",
      "\n",
      "\n",
      "Input Source Question: what are the treatments for kleefstra syndrome ?\n",
      "Actual Target Answer:  diagnostic tests drug therapy surgery and rehabilitation genetic counseling palliative care \n",
      "Predicted Target Answer:  diagnostic tests drug therapy surgery and rehabilitation genetic counseling palliative care \n",
      "\n",
      "\n",
      "Input Source Question: what is are kawasaki disease ?\n",
      "Actual Target Answer:  kawasaki disease is a sudden and time limited illness that affects infants and young children \n",
      "Predicted Target Answer:  kawasaki disease is a sudden and time limited illness that affects infants and young children \n",
      "\n",
      "\n",
      "Input Source Question: is waardenburg syndrome inherited ?\n",
      "Actual Target Answer:  waardenburg syndrome is usually inherited in an autosomal dominant pattern \n",
      "Predicted Target Answer:  waardenburg syndrome is usually inherited in an autosomal dominant pattern \n",
      "\n",
      "\n",
      "Input Source Question: what is are achromatopsia ?\n",
      "Actual Target Answer:  achromatopsia is a condition characterized by a partial or total absence of color vision \n",
      "Predicted Target Answer:  achromatopsia is a condition characterized by a partial or total absence of color vision \n",
      "\n",
      "\n",
      "Input Source Question: how many people are affected by galactosemia ?\n",
      "Actual Target Answer:  classic galactosemia occurs in in to newborns \n",
      "Predicted Target Answer:  classic galactosemia occurs in in to newborns \n",
      "\n",
      "\n",
      "Input Source Question: what is are gorlin syndrome ?\n",
      "Actual Target Answer:  a condition that affects many areas of the body and increases the risk of developing various tumors \n",
      "Predicted Target Answer:  a condition that affects many areas of the body and increases the risk of developing various tumors \n",
      "\n",
      "\n",
      "Input Source Question: what is are pitt hopkins syndrome ?\n",
      "Actual Target Answer:  characterized by intellectual disability and developmental delay breathing problems recurrent seizures \n",
      "Predicted Target Answer:  characterized by intellectual disability and developmental delay breathing problems recurrent seizures \n",
      "\n",
      "\n",
      "Input Source Question: is nonsyndromic aplasia cutis congenita inherited ?\n",
      "Actual Target Answer:  no history of the disorder in their family \n",
      "Predicted Target Answer:  no history of the disorder in their family \n",
      "\n",
      "\n",
      "Input Source Question: how many people are affected by isolated lissencephaly sequence ?\n",
      "Actual Target Answer:  ils affects approximately in newborns \n",
      "Predicted Target Answer:  ils affects approximately in newborns \n",
      "\n",
      "\n",
      "Input Source Question: what are the genetic changes related to age related macular degeneration ?\n",
      "Actual Target Answer:  results from a combination of genetic and environmental factors \n",
      "Predicted Target Answer:  results from a combination of genetic and environmental factors \n",
      "\n",
      "\n",
      "Input Source Question: how many people are affected by grn related frontotemporal dementia ?\n",
      "Actual Target Answer:  grn related frontotemporal dementia affects an estimated to per people aged to \n",
      "Predicted Target Answer:  grn related frontotemporal dementia affects an estimated to per people aged to \n",
      "\n",
      "\n",
      "Input Source Question: what are the treatments for mucopolysaccharidosis type iv ?\n",
      "Actual Target Answer:  diagnostic tests drug therapy surgery and rehabilitation \n",
      "Predicted Target Answer:  diagnostic tests drug therapy surgery and rehabilitation \n",
      "\n",
      "\n"
     ]
    }
   ],
   "source": [
    "x+=1\n",
    "for j in range(x,x+40):\n",
    "    (input_seq, actual_output), _ = next(train_gen)\n",
    "    decoded_sentence = decode_sequence(input_seq)\n",
    "    print('Input Source Question:', X_train[j:j+1].values[0],'?')\n",
    "    print('Actual Target Answer:', y_train[j:j+1].values[0][6:-4])\n",
    "    print('Predicted Target Answer:', decoded_sentence[:-4])\n",
    "    print(\"\\n\")"
   ]
  }
 ],
 "metadata": {
  "accelerator": "GPU",
  "colab": {
   "include_colab_link": true,
   "name": "encoder_decoderV2.ipynb",
   "provenance": []
  },
  "kernelspec": {
   "display_name": "Python 3",
   "language": "python",
   "name": "python3"
  },
  "language_info": {
   "codemirror_mode": {
    "name": "ipython",
    "version": 3
   },
   "file_extension": ".py",
   "mimetype": "text/x-python",
   "name": "python",
   "nbconvert_exporter": "python",
   "pygments_lexer": "ipython3",
   "version": "3.7.4"
  }
 },
 "nbformat": 4,
 "nbformat_minor": 1
}
