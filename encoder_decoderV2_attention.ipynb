{
  "nbformat": 4,
  "nbformat_minor": 0,
  "metadata": {
    "kernelspec": {
      "display_name": "Python 3",
      "language": "python",
      "name": "python3"
    },
    "language_info": {
      "codemirror_mode": {
        "name": "ipython",
        "version": 3
      },
      "file_extension": ".py",
      "mimetype": "text/x-python",
      "name": "python",
      "nbconvert_exporter": "python",
      "pygments_lexer": "ipython3",
      "version": "3.7.4"
    },
    "colab": {
      "name": "encoder_decoderV2_attention.ipynb",
      "provenance": [],
      "include_colab_link": true
    },
    "accelerator": "GPU"
  },
  "cells": [
    {
      "cell_type": "markdown",
      "metadata": {
        "id": "view-in-github",
        "colab_type": "text"
      },
      "source": [
        "<a href=\"https://colab.research.google.com/github/hasiburrahman1/NLP/blob/master/encoder_decoderV2_attention.ipynb\" target=\"_parent\"><img src=\"https://colab.research.google.com/assets/colab-badge.svg\" alt=\"Open In Colab\"/></a>"
      ]
    },
    {
      "cell_type": "code",
      "metadata": {
        "id": "tzHsWfqustqP",
        "outputId": "2f2fbc7f-e7e7-46b3-c096-a70d9e56cd75",
        "colab": {
          "base_uri": "https://localhost:8080/",
          "height": 34
        }
      },
      "source": [
        "pwd"
      ],
      "execution_count": 1,
      "outputs": [
        {
          "output_type": "execute_result",
          "data": {
            "application/vnd.google.colaboratory.intrinsic+json": {
              "type": "string"
            },
            "text/plain": [
              "'/content'"
            ]
          },
          "metadata": {
            "tags": []
          },
          "execution_count": 1
        }
      ]
    },
    {
      "cell_type": "code",
      "metadata": {
        "id": "13AYMj-vs3gG",
        "outputId": "350bb017-36b7-4503-9fc6-835b21a68873",
        "colab": {
          "base_uri": "https://localhost:8080/",
          "height": 34
        }
      },
      "source": [
        "from google.colab import drive\n",
        "drive.mount('/content/drive')"
      ],
      "execution_count": 2,
      "outputs": [
        {
          "output_type": "stream",
          "text": [
            "Mounted at /content/drive\n"
          ],
          "name": "stdout"
        }
      ]
    },
    {
      "cell_type": "code",
      "metadata": {
        "id": "juuV5cO04U65"
      },
      "source": [
        "import warnings\n",
        "warnings.simplefilter(action='ignore', category=FutureWarning)"
      ],
      "execution_count": 3,
      "outputs": []
    },
    {
      "cell_type": "code",
      "metadata": {
        "id": "g1dQ1yF7stqV"
      },
      "source": [
        "import pandas as pd\n",
        "import numpy as np\n",
        "import sys\n",
        "import string\n",
        "from string import digits\n",
        "from pandas import Panel\n",
        "from sklearn.datasets import make_circles\n",
        "from sklearn.utils import shuffle\n",
        "from sklearn.model_selection import train_test_split\n",
        "from keras.layers import Input, LSTM, Embedding, Dense\n",
        "from keras.models import Model\n",
        "import os\n",
        "import re\n",
        "import io\n",
        "import time\n",
        "import matplotlib.pyplot as plt\n",
        "%matplotlib inline\n",
        "import matplotlib.ticker as ticker\n",
        "import xml.etree.ElementTree as et \n",
        "import tensorflow as tf \n",
        "import tensorflow_addons as tfa\n",
        "from tensorflow.python.keras.preprocessing.text import Tokenizer\n",
        "from tensorflow.python.keras.preprocessing.sequence import pad_sequences\n",
        "from keras.models import Sequential\n",
        "from keras.layers import GRU, Bidirectional, LSTM, Input, Dense,Embedding, Concatenate, TimeDistributed\n",
        "from keras.layers.embeddings import Embedding\n",
        "from keras.initializers import Constant\n",
        "from keras.callbacks import ModelCheckpoint\n",
        "from keras.models import load_model\n",
        "from keras.callbacks import Callback\n",
        "from sklearn.metrics import confusion_matrix, f1_score, precision_score, recall_score\n",
        "from tensorflow.keras.models import Model,load_model, model_from_json\n",
        "from tensorflow.keras.utils import plot_model\n",
        "from tensorflow.keras.preprocessing.text import one_hot, Tokenizer\n",
        "from tensorflow.keras.callbacks import EarlyStopping\n",
        "import pickle as pkl\n",
        "\n",
        "from keras.layers import Dense\n",
        "from keras.models import Sequential, Input, Model\n",
        "from sklearn.metrics import confusion_matrix, f1_score, precision_score, recall_score\n",
        "\n",
        "from keras import backend as K \n",
        "K.clear_session() \n"
      ],
      "execution_count": 4,
      "outputs": []
    },
    {
      "cell_type": "code",
      "metadata": {
        "id": "tpTooBwVtD9c"
      },
      "source": [
        "# import pandas as pd \n",
        "import pandas as pd \n",
        "   \n",
        "# Takes the file's folder \n",
        "#filepath = r\"C:Documents\\dataset.csv\"\n",
        "\n",
        "filepath = r\"/content/drive/My Drive/Colab Notebooks/complex/updated complex/dataset.csv\" \n",
        "# read the CSV file \n",
        "\n",
        "#lines = pd.read_csv(filepath, encoding='ascii')\n",
        "lines = pd.read_csv(filepath, sep='delimiter', header=None, engine='python') \n"
      ],
      "execution_count": 5,
      "outputs": []
    },
    {
      "cell_type": "code",
      "metadata": {
        "id": "yHeT3XDBstqa",
        "outputId": "a07c44d2-c146-46fd-93c6-e42647cc3a57",
        "colab": {
          "base_uri": "https://localhost:8080/",
          "height": 52
        }
      },
      "source": [
        "print(len(lines)) \n",
        "lines.columns = ['qa']\n",
        "list(lines.columns)"
      ],
      "execution_count": 6,
      "outputs": [
        {
          "output_type": "stream",
          "text": [
            "4040\n"
          ],
          "name": "stdout"
        },
        {
          "output_type": "execute_result",
          "data": {
            "text/plain": [
              "['qa']"
            ]
          },
          "metadata": {
            "tags": []
          },
          "execution_count": 6
        }
      ]
    },
    {
      "cell_type": "code",
      "metadata": {
        "id": "HPhka2O0stqc"
      },
      "source": [
        "lines[['question','answer']] = lines.qa.apply(lambda x: pd.Series(str(x).split(\"?\")))"
      ],
      "execution_count": 7,
      "outputs": []
    },
    {
      "cell_type": "code",
      "metadata": {
        "id": "4uaQB5alstqe",
        "outputId": "6cb3501d-39a3-4d56-ea5d-298ca7cc2241",
        "colab": {
          "base_uri": "https://localhost:8080/",
          "height": 34
        }
      },
      "source": [
        "list(lines.columns)"
      ],
      "execution_count": 8,
      "outputs": [
        {
          "output_type": "execute_result",
          "data": {
            "text/plain": [
              "['qa', 'question', 'answer']"
            ]
          },
          "metadata": {
            "tags": []
          },
          "execution_count": 8
        }
      ]
    },
    {
      "cell_type": "code",
      "metadata": {
        "id": "kI7x7oqqstqg"
      },
      "source": [
        "for col in lines.columns: \n",
        "    if 'qa' in col: \n",
        "        del lines[col] \n",
        "  "
      ],
      "execution_count": 9,
      "outputs": []
    },
    {
      "cell_type": "code",
      "metadata": {
        "id": "-fcbOqnBstqi",
        "outputId": "9cbb816f-4f44-4752-bed1-1240444b7401",
        "colab": {
          "base_uri": "https://localhost:8080/",
          "height": 141
        }
      },
      "source": [
        "lines.iloc[:3]"
      ],
      "execution_count": 10,
      "outputs": [
        {
          "output_type": "execute_result",
          "data": {
            "text/html": [
              "<div>\n",
              "<style scoped>\n",
              "    .dataframe tbody tr th:only-of-type {\n",
              "        vertical-align: middle;\n",
              "    }\n",
              "\n",
              "    .dataframe tbody tr th {\n",
              "        vertical-align: top;\n",
              "    }\n",
              "\n",
              "    .dataframe thead th {\n",
              "        text-align: right;\n",
              "    }\n",
              "</style>\n",
              "<table border=\"1\" class=\"dataframe\">\n",
              "  <thead>\n",
              "    <tr style=\"text-align: right;\">\n",
              "      <th></th>\n",
              "      <th>question</th>\n",
              "      <th>answer</th>\n",
              "    </tr>\n",
              "  </thead>\n",
              "  <tbody>\n",
              "    <tr>\n",
              "      <th>0</th>\n",
              "      <td>What is (are) abdominal wall defect</td>\n",
              "      <td>,An opening in the abdomen through which vario...</td>\n",
              "    </tr>\n",
              "    <tr>\n",
              "      <th>1</th>\n",
              "      <td>What are the treatments for abdominal wall defect</td>\n",
              "      <td>,Diagnostic Tests-Drug Therapy-Surgery and Reh...</td>\n",
              "    </tr>\n",
              "    <tr>\n",
              "      <th>2</th>\n",
              "      <td>What is (are) Osteoporosis</td>\n",
              "      <td>,A Bone Disease that thins and weakens the bon...</td>\n",
              "    </tr>\n",
              "  </tbody>\n",
              "</table>\n",
              "</div>"
            ],
            "text/plain": [
              "                                            question                                             answer\n",
              "0                What is (are) abdominal wall defect  ,An opening in the abdomen through which vario...\n",
              "1  What are the treatments for abdominal wall defect  ,Diagnostic Tests-Drug Therapy-Surgery and Reh...\n",
              "2                        What is (are) Osteoporosis   ,A Bone Disease that thins and weakens the bon..."
            ]
          },
          "metadata": {
            "tags": []
          },
          "execution_count": 10
        }
      ]
    },
    {
      "cell_type": "code",
      "metadata": {
        "id": "cSk31GPJstqk"
      },
      "source": [
        "lines.columns = ['source', 'target']"
      ],
      "execution_count": 11,
      "outputs": []
    },
    {
      "cell_type": "code",
      "metadata": {
        "id": "EwCwcdoCstqm",
        "outputId": "dd15848d-7ad0-4c3f-de63-7517c74bea16",
        "colab": {
          "base_uri": "https://localhost:8080/",
          "height": 34
        }
      },
      "source": [
        "list(lines.columns)"
      ],
      "execution_count": 12,
      "outputs": [
        {
          "output_type": "execute_result",
          "data": {
            "text/plain": [
              "['source', 'target']"
            ]
          },
          "metadata": {
            "tags": []
          },
          "execution_count": 12
        }
      ]
    },
    {
      "cell_type": "code",
      "metadata": {
        "id": "96Vj4Dvestqo",
        "outputId": "c1af41d7-5559-41b4-8fab-786f3b3a3718",
        "colab": {
          "base_uri": "https://localhost:8080/",
          "height": 34
        }
      },
      "source": [
        "lines['source'].iloc[2000]"
      ],
      "execution_count": 13,
      "outputs": [
        {
          "output_type": "execute_result",
          "data": {
            "application/vnd.google.colaboratory.intrinsic+json": {
              "type": "string"
            },
            "text/plain": [
              "'What are the treatments for late-infantile neuronal ceroid lipofuscinosis '"
            ]
          },
          "metadata": {
            "tags": []
          },
          "execution_count": 13
        }
      ]
    },
    {
      "cell_type": "code",
      "metadata": {
        "id": "V4yFlDH3stqr",
        "outputId": "8855fcd4-8131-4f0d-daa1-89aa0afca65c",
        "colab": {
          "base_uri": "https://localhost:8080/",
          "height": 34
        }
      },
      "source": [
        "lines['target'].iloc[2000]"
      ],
      "execution_count": 14,
      "outputs": [
        {
          "output_type": "execute_result",
          "data": {
            "application/vnd.google.colaboratory.intrinsic+json": {
              "type": "string"
            },
            "text/plain": [
              "',\"An eye disorder that affects the clear, outer covering of the eye called the cornea. \"'"
            ]
          },
          "metadata": {
            "tags": []
          },
          "execution_count": 14
        }
      ]
    },
    {
      "cell_type": "code",
      "metadata": {
        "id": "l0AL1elKstqt"
      },
      "source": [
        "lines['target'] = lines['target'].fillna('').apply(str)"
      ],
      "execution_count": 15,
      "outputs": []
    },
    {
      "cell_type": "code",
      "metadata": {
        "id": "oa23n-13stqv"
      },
      "source": [
        "# convert source and target text to Lowercase \n",
        "lines.source=lines.source.apply(lambda x: x.lower())\n",
        "lines.target=lines.target.apply(lambda x: x.lower())\n",
        "\n",
        "# Remove quotes from source and target text\n",
        "lines.source=lines.source.apply(lambda x: re.sub(\"'\", '', x))\n",
        "lines.target=lines.target.apply(lambda x: re.sub(\"'\", '', x))\n",
        "\n",
        "#s = re.sub(r\"[-()\\\"#/@;:<>{}`+=~|.!?,]\", \" \", x)\n",
        "\n",
        "lines.source=lines.source.apply(lambda x: re.sub(r'[-()\\\"#/@;:<>{}`+=~|.!?,]',r' ',x))\n",
        "lines.target=lines.target.apply(lambda x: re.sub(r'[-()\\\"#/@;:<>{}`+=~|.!?,]',r' ',x))\n",
        "\n",
        "'''\n",
        "# create a set of all special characters\n",
        "special_characters= set(string.punctuation)\n",
        "\n",
        "# Remove all the special characters\n",
        "lines.source=lines.source.apply(lambda x: re.sub(r'[^a-zA-Z0-9 ]',r'',x))\n",
        "lines.target=lines.target.apply(lambda x: re.sub(r'[^a-zA-Z0-9 ]',r'',x))\n",
        "'''\n",
        "# Remove digits from source and target sentences\n",
        "num_digits= str.maketrans('','', digits)\n",
        "lines.source=lines.source.apply(lambda x: x.translate(num_digits))\n",
        "lines.target= lines.target.apply(lambda x: x.translate(num_digits))\n",
        "\n",
        "# Remove extra spaces\n",
        "lines.source=lines.source.apply(lambda x: x.strip())\n",
        "lines.target=lines.target.apply(lambda x: x.strip())\n",
        "lines.source=lines.source.apply(lambda x: re.sub(\" +\", \" \", x))\n",
        "lines.target=lines.target.apply(lambda x: re.sub(\" +\", \" \", x))\n"
      ],
      "execution_count": 16,
      "outputs": []
    },
    {
      "cell_type": "code",
      "metadata": {
        "id": "d73hdKpUstqx",
        "outputId": "9ebec08b-c3a7-430e-84a5-abb39f4d8aa9",
        "colab": {
          "base_uri": "https://localhost:8080/",
          "height": 233
        }
      },
      "source": [
        "# Add start and end tokens to target sequences\n",
        "lines.target = lines.target.apply(lambda x : 'START_ '+ x + ' _END')\n",
        "lines.sample(6)"
      ],
      "execution_count": 17,
      "outputs": [
        {
          "output_type": "execute_result",
          "data": {
            "text/html": [
              "<div>\n",
              "<style scoped>\n",
              "    .dataframe tbody tr th:only-of-type {\n",
              "        vertical-align: middle;\n",
              "    }\n",
              "\n",
              "    .dataframe tbody tr th {\n",
              "        vertical-align: top;\n",
              "    }\n",
              "\n",
              "    .dataframe thead th {\n",
              "        text-align: right;\n",
              "    }\n",
              "</style>\n",
              "<table border=\"1\" class=\"dataframe\">\n",
              "  <thead>\n",
              "    <tr style=\"text-align: right;\">\n",
              "      <th></th>\n",
              "      <th>source</th>\n",
              "      <th>target</th>\n",
              "    </tr>\n",
              "  </thead>\n",
              "  <tbody>\n",
              "    <tr>\n",
              "      <th>462</th>\n",
              "      <td>what is are multiple sclerosis</td>\n",
              "      <td>START_ a condition characterized by areas of d...</td>\n",
              "    </tr>\n",
              "    <tr>\n",
              "      <th>2813</th>\n",
              "      <td>what are the treatments for hereditary angioedema</td>\n",
              "      <td>START_ drug therapy surgery palliative care ch...</td>\n",
              "    </tr>\n",
              "    <tr>\n",
              "      <th>2045</th>\n",
              "      <td>how to diagnose neuroblastoma</td>\n",
              "      <td>START_ neurological exam urine catecholamine s...</td>\n",
              "    </tr>\n",
              "    <tr>\n",
              "      <th>2032</th>\n",
              "      <td>how to diagnose merkel cell carcinoma</td>\n",
              "      <td>START_ diagnosed by full body skin exam skin b...</td>\n",
              "    </tr>\n",
              "    <tr>\n",
              "      <th>1013</th>\n",
              "      <td>what are the treatments for abdominal wall defect</td>\n",
              "      <td>START_ diagnostic tests drug therapy surgery a...</td>\n",
              "    </tr>\n",
              "    <tr>\n",
              "      <th>278</th>\n",
              "      <td>is menkes syndrome inherited</td>\n",
              "      <td>START_ menkes syndrome is inherited in an x li...</td>\n",
              "    </tr>\n",
              "  </tbody>\n",
              "</table>\n",
              "</div>"
            ],
            "text/plain": [
              "                                                 source                                             target\n",
              "462                      what is are multiple sclerosis  START_ a condition characterized by areas of d...\n",
              "2813  what are the treatments for hereditary angioedema  START_ drug therapy surgery palliative care ch...\n",
              "2045                      how to diagnose neuroblastoma  START_ neurological exam urine catecholamine s...\n",
              "2032              how to diagnose merkel cell carcinoma  START_ diagnosed by full body skin exam skin b...\n",
              "1013  what are the treatments for abdominal wall defect  START_ diagnostic tests drug therapy surgery a...\n",
              "278                        is menkes syndrome inherited  START_ menkes syndrome is inherited in an x li..."
            ]
          },
          "metadata": {
            "tags": []
          },
          "execution_count": 17
        }
      ]
    },
    {
      "cell_type": "code",
      "metadata": {
        "id": "ODTq93PKstqz",
        "outputId": "dbee0f09-2426-4742-e7b6-ea69b07fcdd5",
        "colab": {
          "base_uri": "https://localhost:8080/",
          "height": 34
        }
      },
      "source": [
        "lines['source'].iloc[2086]"
      ],
      "execution_count": 18,
      "outputs": [
        {
          "output_type": "execute_result",
          "data": {
            "application/vnd.google.colaboratory.intrinsic+json": {
              "type": "string"
            },
            "text/plain": [
              "'how to diagnose colon cancer'"
            ]
          },
          "metadata": {
            "tags": []
          },
          "execution_count": 18
        }
      ]
    },
    {
      "cell_type": "code",
      "metadata": {
        "id": "MEra-bW3stq1",
        "outputId": "4751de69-66a4-44cd-ae11-33c7f62ecd1c",
        "colab": {
          "base_uri": "https://localhost:8080/",
          "height": 34
        }
      },
      "source": [
        "lines['target'].iloc[2086]"
      ],
      "execution_count": 19,
      "outputs": [
        {
          "output_type": "execute_result",
          "data": {
            "application/vnd.google.colaboratory.intrinsic+json": {
              "type": "string"
            },
            "text/plain": [
              "'START_ digital rectal exam biopsy _END'"
            ]
          },
          "metadata": {
            "tags": []
          },
          "execution_count": 19
        }
      ]
    },
    {
      "cell_type": "code",
      "metadata": {
        "id": "UZutrCzostq3",
        "outputId": "95c41142-fbed-42ee-b1bb-5bcb834249ac",
        "colab": {
          "base_uri": "https://localhost:8080/",
          "height": 34
        }
      },
      "source": [
        "# Find all the source and target words and sort them\n",
        "# Vocabulary of Source language\n",
        "all_source_words=set()\n",
        "for source in lines.source:\n",
        "    for word in source.split():\n",
        "        if word not in all_source_words:\n",
        "            all_source_words.add(word)\n",
        "# Vocabulary of Target \n",
        "all_target_words=set()\n",
        "for target in lines.target:\n",
        "    for word in target.split():\n",
        "        if word not in all_target_words:\n",
        "            all_target_words.add(word)\n",
        "# sort all unique source and target words\n",
        "source_words= sorted(list(all_source_words))\n",
        "target_words=sorted(list(all_target_words))\n",
        "\n",
        "len(source_words), len(target_words)"
      ],
      "execution_count": 20,
      "outputs": [
        {
          "output_type": "execute_result",
          "data": {
            "text/plain": [
              "(1270, 3635)"
            ]
          },
          "metadata": {
            "tags": []
          },
          "execution_count": 20
        }
      ]
    },
    {
      "cell_type": "code",
      "metadata": {
        "id": "9CDZwIgYstq5",
        "outputId": "cc303d41-f6de-45b6-884e-a212e7719eab",
        "colab": {
          "base_uri": "https://localhost:8080/",
          "height": 52
        }
      },
      "source": [
        "#Find maximum sentence length in  the source and target data\n",
        "source_length_list=[]\n",
        "for l in lines.source:\n",
        "    source_length_list.append(len(l.split(' ')))\n",
        "max_source_length= max(source_length_list)\n",
        "print(\" Max length of the source sentence\",max_source_length)\n",
        "target_length_list=[]\n",
        "for l in lines.target:\n",
        "    target_length_list.append(len(l.split(' ')))\n",
        "max_target_length= max(target_length_list)\n",
        "print(\" Max length of the target sentence\",max_target_length)"
      ],
      "execution_count": 21,
      "outputs": [
        {
          "output_type": "stream",
          "text": [
            " Max length of the source sentence 19\n",
            " Max length of the target sentence 31\n"
          ],
          "name": "stdout"
        }
      ]
    },
    {
      "cell_type": "code",
      "metadata": {
        "id": "dNEUOrIWstq7"
      },
      "source": [
        "# creating a word to index(word2idx) for source and target\n",
        "source_word2idx= dict([(word, i+1) for i,word in enumerate(source_words)])\n",
        "target_word2idx=dict([(word, i+1) for i, word in enumerate(target_words)])"
      ],
      "execution_count": 22,
      "outputs": []
    },
    {
      "cell_type": "code",
      "metadata": {
        "id": "WTBTtf58stq8",
        "outputId": "4c26feef-a103-4e76-843e-a054e4760ebe",
        "colab": {
          "base_uri": "https://localhost:8080/",
          "height": 54
        }
      },
      "source": [
        "#creating a dictionary for index to word for source and target vocabulary\n",
        "source_idx2word= dict([(i, word) for word, i in  source_word2idx.items()])\n",
        "print(source_idx2word)\n",
        "target_idx2word =dict([(i, word) for word, i in target_word2idx.items()])"
      ],
      "execution_count": 23,
      "outputs": [
        {
          "output_type": "stream",
          "text": [
            "{1: 'a', 2: 'aarskog', 3: 'ab', 4: 'abdominal', 5: 'abetalipoproteinemia', 6: 'abnormal', 7: 'absent', 8: 'abuse', 9: 'acatalasemia', 10: 'accumulation', 11: 'acetylglutamate', 12: 'achondrogenesis', 13: 'achondroplasia', 14: 'achromatopsia', 15: 'acid', 16: 'acidemia', 17: 'acidosis', 18: 'aciduria', 19: 'acral', 20: 'acrofacial', 21: 'acromelic', 22: 'acromicric', 23: 'actin', 24: 'activated', 25: 'acute', 26: 'acyl', 27: 'adams', 28: 'adcy', 29: 'adenine', 30: 'adenosine', 31: 'adenylosuccinate', 32: 'adermatoglyphia', 33: 'adhesion', 34: 'adiposis', 35: 'adolescent', 36: 'adrenal', 37: 'adrenoleukodystrophy', 38: 'adult', 39: 'adults', 40: 'affected', 41: 'african', 42: 'agammaglobulinemia', 43: 'age', 44: 'aggravated', 45: 'aggregate', 46: 'aicardi', 47: 'aids', 48: 'alagille', 49: 'albinism', 50: 'albright', 51: 'aldrich', 52: 'alexander', 53: 'alg', 54: 'alkaptonuria', 55: 'allan', 56: 'allergic', 57: 'alopecia', 58: 'alpers', 59: 'alpha', 60: 'amelia', 61: 'american', 62: 'amyloid', 63: 'amyloidosis', 64: 'amyotrophy', 65: 'and', 66: 'anemia', 67: 'aneurysms', 68: 'angioedema', 69: 'angiopathy', 70: 'anomalies', 71: 'anophthalmia', 72: 'antithrombin', 73: 'antitrypsin', 74: 'aortic', 75: 'aplasia', 76: 'appears', 77: 'are', 78: 'arterial', 79: 'arteriosclerosis', 80: 'arthritis', 81: 'arthropathy', 82: 'ascending', 83: 'assembly', 84: 'associated', 85: 'association', 86: 'asthma', 87: 'at', 88: 'ataxia', 89: 'atrophy', 90: 'attack', 91: 'auriculo', 92: 'autonomic', 93: 'axonal', 94: 'balance', 95: 'baraitser', 96: 'barber', 97: 'barr', 98: 'batten', 99: 'bbb', 100: 'behmel', 101: 'being', 102: 'beta', 103: 'biesecker', 104: 'bifida', 105: 'bile', 106: 'binding', 107: 'blindness', 108: 'blood', 109: 'bodies', 110: 'body', 111: 'bone', 112: 'brain', 113: 'brainstem', 114: 'breakage', 115: 'breast', 116: 'brocks', 117: 'brunner', 118: 'bulbar', 119: 'bullosa', 120: 'by', 121: 'calcification', 122: 'calv', 123: 'cancer', 124: 'capillary', 125: 'carboxylase', 126: 'carcinoid', 127: 'carcinoma', 128: 'carpal', 129: 'cataract', 130: 'cause', 131: 'causes', 132: 'cavity', 133: 'cell', 134: 'central', 135: 'cephalic', 136: 'cephalopolysyndactyly', 137: 'cerebellar', 138: 'cerebellaris', 139: 'cerebral', 140: 'cerebro', 141: 'ceroid', 142: 'chain', 143: 'changes', 144: 'charcot', 145: 'cheney', 146: 'childhood', 147: 'children', 148: 'cholestasis', 149: 'chondrodysplasia', 150: 'chorea', 151: 'choroid', 152: 'chotzen', 153: 'chromosome', 154: 'chronic', 155: 'cidp', 156: 'cirrhosis', 157: 'clinical', 158: 'cluster', 159: 'cns', 160: 'coa', 161: 'coalition', 162: 'cofactor', 163: 'coffin', 164: 'cofs', 165: 'colitis', 166: 'collins', 167: 'coloboma', 168: 'colon', 169: 'colorectal', 170: 'colpocephaly', 171: 'coma', 172: 'combined', 173: 'complex', 174: 'complications', 175: 'confetti', 176: 'congenita', 177: 'congenital', 178: 'consequences', 179: 'cord', 180: 'corneal', 181: 'coronavirus', 182: 'corticobasal', 183: 'covid', 184: 'cramps', 185: 'craniopharyngioma', 186: 'craniosynostosis', 187: 'creatine', 188: 'creutzfeldt', 189: 'cushings', 190: 'cutaneous', 191: 'cutis', 192: 'cystic', 193: 'cysts', 194: 'cytomegalovirus', 195: 'd', 196: 'dandy', 197: 'de', 198: 'deafness', 199: 'deaminase', 200: 'death', 201: 'decarboxylase', 202: 'deep', 203: 'defect', 204: 'defects', 205: 'deficiency', 206: 'degeneration', 207: 'dehydrogenase', 208: 'deletion', 209: 'delta', 210: 'dementia', 211: 'demyelinating', 212: 'dento', 213: 'dependent', 214: 'depletion', 215: 'der', 216: 'dermatomyositis', 217: 'dermatopathia', 218: 'development', 219: 'developmental', 220: 'diabetes', 221: 'diabetic', 222: 'diagnose', 223: 'diagonose', 224: 'diagonse', 225: 'diamond', 226: 'dieker', 227: 'dietz', 228: 'diffuse', 229: 'digital', 230: 'disability', 231: 'disease', 232: 'disorder', 233: 'disorders', 234: 'distal', 235: 'distichiasis', 236: 'distress', 237: 'dna', 238: 'do', 239: 'does', 240: 'dolorosa', 241: 'done', 242: 'dravet', 243: 'drop', 244: 'drug', 245: 'duane', 246: 'duct', 247: 'dudley', 248: 'duplication', 249: 'dwarfism', 250: 'dysfunction', 251: 'dysfunctions', 252: 'dysgenesis', 253: 'dysgraphia', 254: 'dyskinesia', 255: 'dyslexia', 256: 'dysostosis', 257: 'dysplasia', 258: 'dyspraxia', 259: 'dysregulation', 260: 'dyssynergia', 261: 'dystonia', 262: 'dystonias', 263: 'dystrophy', 264: 'early', 265: 'ectopia', 266: 'elevation', 267: 'empty', 268: 'encephalitis', 269: 'encephaloceles', 270: 'encephalomyopathy', 271: 'encephalopathy', 272: 'endocrine', 273: 'endometrial', 274: 'endothelial', 275: 'enteropathy', 276: 'enzyme', 277: 'eosinophilic', 278: 'ependymoma', 279: 'epidermal', 280: 'epidermolysis', 281: 'epilepsy', 282: 'epiphyseal', 283: 'episodes', 284: 'epithelial', 285: 'epstein', 286: 'erythematosus', 287: 'erythroderma', 288: 'essential', 289: 'ewing', 290: 'extracranial', 291: 'extragonadal', 292: 'fabry', 293: 'facial', 294: 'facio', 295: 'factor', 296: 'factors', 297: 'fahrs', 298: 'failure', 299: 'familial', 300: 'farbers', 301: 'febrile', 302: 'feil', 303: 'fiber', 304: 'fibers', 305: 'fibromatosis', 306: 'fibromuscular', 307: 'fibrosis', 308: 'fibrous', 309: 'fisher', 310: 'focal', 311: 'folate', 312: 'foot', 313: 'for', 314: 'form', 315: 'formiminotransferase', 316: 'franceschetti', 317: 'fraumeni', 318: 'friedreich', 319: 'friedreichs', 320: 'frontometaphyseal', 321: 'frontonasal', 322: 'frontotemporal', 323: 'fructose', 324: 'fryns', 325: 'fuchs', 326: 'fucosidosis', 327: 'fukuyama', 328: 'fumarase', 329: 'fungoides', 330: 'g', 331: 'galactose', 332: 'galactosemia', 333: 'galactosialidosis', 334: 'gamma', 335: 'gangliosidoses', 336: 'gangliosidosis', 337: 'gastaut', 338: 'gastric', 339: 'gastrointestinal', 340: 'gaucher', 341: 'gaze', 342: 'geleophysic', 343: 'generalized', 344: 'genetic', 345: 'genital', 346: 'genitalia', 347: 'genitopatellar', 348: 'germ', 349: 'gerstmann', 350: 'gerstmanns', 351: 'gestational', 352: 'ghosal', 353: 'giant', 354: 'giedion', 355: 'gilbert', 356: 'gilford', 357: 'gillespie', 358: 'girdle', 359: 'gitelman', 360: 'gland', 361: 'glanzmann', 362: 'glia', 363: 'glioma', 364: 'globin', 365: 'globozoospermia', 366: 'globulin', 367: 'glossopharyngeal', 368: 'glucose', 369: 'glut', 370: 'glutamate', 371: 'glutaric', 372: 'glutathione', 373: 'glycine', 374: 'glycogen', 375: 'glycosylation', 376: 'gm', 377: 'gnathodiaphyseal', 378: 'golabi', 379: 'goldberg', 380: 'gorlin', 381: 'goutieres', 382: 'gracile', 383: 'granulomatosis', 384: 'graves', 385: 'gravis', 386: 'gray', 387: 'greenberg', 388: 'greig', 389: 'griscelli', 390: 'grn', 391: 'growth', 392: 'grsbeck', 393: 'guanidinoacetate', 394: 'guillain', 395: 'gyrate', 396: 'hair', 397: 'hairy', 398: 'hajdu', 399: 'hall', 400: 'hand', 401: 'harlequin', 402: 'hashimoto', 403: 'hauser', 404: 'head', 405: 'hearing', 406: 'heart', 407: 'hematodiaphyseal', 408: 'hemifacial', 409: 'hemiplegic', 410: 'hemochromatosis', 411: 'hemophilia', 412: 'hemorrhagic', 413: 'hennekam', 414: 'hepatic', 415: 'hepatocerebral', 416: 'hereditary', 417: 'hermansky', 418: 'herndon', 419: 'heterotaxy', 420: 'hidradenitis', 421: 'high', 422: 'hippel', 423: 'hirschhorn', 424: 'hirschsprung', 425: 'histidinemia', 426: 'histiocytoma', 427: 'histiocytosis', 428: 'hodgkin', 429: 'holocarboxylase', 430: 'holoprosencephaly', 431: 'holt', 432: 'homocystinuria', 433: 'hopkins', 434: 'horizontal', 435: 'hormone', 436: 'horner', 437: 'how', 438: 'huntington', 439: 'hutchinson', 440: 'huttenlocher', 441: 'hyaline', 442: 'hyalinosis', 443: 'hydratase', 444: 'hydroxy', 445: 'hydroxyacyl', 446: 'hydroxyglutaric', 447: 'hydroxylase', 448: 'hydroxysteroid', 449: 'hyper', 450: 'hypercholesterolemia', 451: 'hyperekplexia', 452: 'hyperferritinemia', 453: 'hyperkalemic', 454: 'hyperlysinemia', 455: 'hypermanganesemia', 456: 'hypermethioninemia', 457: 'hyperparathyroidism', 458: 'hyperthermia', 459: 'hypertrophy', 460: 'hypopharyngeal', 461: 'hypophosphatemic', 462: 'hypoplasia', 463: 'hypotonia', 464: 'hypouricemia', 465: 'hystrix', 466: 'i', 467: 'ia', 468: 'ichthyosiform', 469: 'ichthyosis', 470: 'idiopathic', 471: 'ids', 472: 'ie', 473: 'igm', 474: 'ii', 475: 'iii', 476: 'illicit', 477: 'imerslund', 478: 'immune', 479: 'immuno', 480: 'immunodeficiency', 481: 'in', 482: 'inclusion', 483: 'incontinence', 484: 'incontinentia', 485: 'indian', 486: 'infancy', 487: 'infant', 488: 'infantile', 489: 'infarct', 490: 'infection', 491: 'infections', 492: 'infertility', 493: 'inflammatory', 494: 'inherited', 495: 'insipidus', 496: 'insulin', 497: 'intellectual', 498: 'intestinal', 499: 'intestine', 500: 'intolerance', 501: 'intrahepatic', 502: 'intranuclear', 503: 'intraocular', 504: 'intrauterine', 505: 'involvement', 506: 'irak', 507: 'iron', 508: 'is', 509: 'isobutyryl', 510: 'isodicentric', 511: 'isolated', 512: 'isomerase', 513: 'isovaleric', 514: 'it', 515: 'iv', 516: 'ix', 517: 'jackson', 518: 'jacobsen', 519: 'jadassohn', 520: 'jakob', 521: 'jampel', 522: 'jaw', 523: 'jeghers', 524: 'jervell', 525: 'johnson', 526: 'joubert', 527: 'junctional', 528: 'juvenile', 529: 'kabuki', 530: 'kallmann', 531: 'kaufman', 532: 'kawasaki', 533: 'kbg', 534: 'kearns', 535: 'keratitis', 536: 'keratoderma', 537: 'ketoacid', 538: 'kidney', 539: 'kievit', 540: 'kinase', 541: 'kleefstra', 542: 'klinefelter', 543: 'klippel', 544: 'kniest', 545: 'knobloch', 546: 'koolen', 547: 'korsakoff', 548: 'krabbe', 549: 'kster', 550: 'kufs', 551: 'kuskokwim', 552: 'l', 553: 'lacrimo', 554: 'lactate', 555: 'lactic', 556: 'lactose', 557: 'lafora', 558: 'laing', 559: 'lama', 560: 'lamellar', 561: 'lange', 562: 'langer', 563: 'langerhans', 564: 'laron', 565: 'larsen', 566: 'larsson', 567: 'laryngeal', 568: 'laryngo', 569: 'late', 570: 'lateral', 571: 'lattice', 572: 'leber', 573: 'lectin', 574: 'legg', 575: 'legius', 576: 'legs', 577: 'leigh', 578: 'leiomyomatosis', 579: 'lemli', 580: 'lennox', 581: 'lentigines', 582: 'lentis', 583: 'lenz', 584: 'leptin', 585: 'lesch', 586: 'lethal', 587: 'lethargica', 588: 'leukemia', 589: 'leukocyte', 590: 'leukodystrophy', 591: 'leukoencephalopathy', 592: 'lewy', 593: 'leydig', 594: 'li', 595: 'liability', 596: 'liddle', 597: 'ligase', 598: 'like', 599: 'likely', 600: 'limb', 601: 'lindau', 602: 'linear', 603: 'linked', 604: 'lip', 605: 'lipase', 606: 'lipid', 607: 'lipofuscinosis', 608: 'lipomembranous', 609: 'lissencephaly', 610: 'liver', 611: 'lken', 612: 'loeys', 613: 'long', 614: 'loss', 615: 'low', 616: 'lowe', 617: 'lowry', 618: 'lujan', 619: 'lundborg', 620: 'lung', 621: 'lupus', 622: 'lyase', 623: 'lymphadenopathy', 624: 'lymphangioleiomyomatosis', 625: 'lymphedema', 626: 'lymphoblastic', 627: 'lymphoma', 628: 'lymphoproliferative', 629: 'lynch', 630: 'lysinuric', 631: 'm', 632: 'maat', 633: 'mabry', 634: 'macroaneurysm', 635: 'macroglobulinemia', 636: 'macular', 637: 'maffucci', 638: 'magenis', 639: 'magnesium', 640: 'mainzer', 641: 'majeed', 642: 'mal', 643: 'malabsorption', 644: 'male', 645: 'malformation', 646: 'malformations', 647: 'malignant', 648: 'mall', 649: 'malonyl', 650: 'mandibuloacral', 651: 'mandibulofacial', 652: 'manitoba', 653: 'mannose', 654: 'mannosidosis', 655: 'many', 656: 'maple', 657: 'marchesani', 658: 'marfan', 659: 'marie', 660: 'marinesco', 661: 'maternally', 662: 'matter', 663: 'mayer', 664: 'mc', 665: 'mccune', 666: 'mckusick', 667: 'mcleod', 668: 'meckel', 669: 'mecp', 670: 'medium', 671: 'medullary', 672: 'meesmann', 673: 'megalencephalic', 674: 'megalencephaly', 675: 'megaloblastic', 676: 'megdel', 677: 'meier', 678: 'meige', 679: 'melanocytic', 680: 'melanoma', 681: 'meleda', 682: 'mellitus', 683: 'melnick', 684: 'membrane', 685: 'meningitis', 686: 'menkes', 687: 'merkel', 688: 'mesomelic', 689: 'metachromatic', 690: 'metaphyseal', 691: 'metastatic', 692: 'metatropic', 693: 'methemoglobinemia', 694: 'methylbutyryl', 695: 'methylcrotonyl', 696: 'methylglutaconyl', 697: 'methylglutaryl', 698: 'methylmalonic', 699: 'methyltransferase', 700: 'mevalonate', 701: 'microcephalic', 702: 'microcephaly', 703: 'microdeletion', 704: 'microphthalmia', 705: 'microvillus', 706: 'migraine', 707: 'migrating', 708: 'miller', 709: 'milroy', 710: 'minus', 711: 'mitochondrial', 712: 'miyoshi', 713: 'moebius', 714: 'molybdenum', 715: 'monilethrix', 716: 'most', 717: 'motion', 718: 'mowat', 719: 'moyamoya', 720: 'mpv', 721: 'muckle', 722: 'mucolipidosis', 723: 'mucopolysaccharidosis', 724: 'mucosal', 725: 'muenke', 726: 'multi', 727: 'multicentric', 728: 'multiminicore', 729: 'multiple', 730: 'multiplex', 731: 'multisystem', 732: 'muscle', 733: 'muscular', 734: 'mutase', 735: 'myasthenia', 736: 'mycosis', 737: 'myd', 738: 'myelitis', 739: 'myelodysplastic', 740: 'myelogenous', 741: 'myeloid', 742: 'myeloproliferative', 743: 'myh', 744: 'myhre', 745: 'myoclonic', 746: 'myoclonica', 747: 'myoclonus', 748: 'myofibrillar', 749: 'myopathic', 750: 'myopathies', 751: 'myopathy', 752: 'myosin', 753: 'myostatin', 754: 'myotonia', 755: 'myotonic', 756: 'myotubular', 757: 'n', 758: 'naegeli', 759: 'nager', 760: 'nail', 761: 'nakajo', 762: 'narcolepsy', 763: 'nasal', 764: 'nasopharyngeal', 765: 'neck', 766: 'necrolysis', 767: 'necrosis', 768: 'needles', 769: 'nemaline', 770: 'neonatal', 771: 'neoplasia', 772: 'neoplasms', 773: 'nephrogenic', 774: 'nephronophthisis', 775: 'nephropathy', 776: 'nervous', 777: 'netherton', 778: 'neuralgia', 779: 'neuralgic', 780: 'neuroacanthocytosis', 781: 'neuroaxonal', 782: 'neuroblastoma', 783: 'neurodegeneration', 784: 'neuroferritinopathy', 785: 'neurofibromatosis', 786: 'neurogastrointestinal', 787: 'neurohypophyseal', 788: 'neurological', 789: 'neuromyelitis', 790: 'neuronal', 791: 'neuropathy', 792: 'neutral', 793: 'neutropenia', 794: 'neutrophilic', 795: 'nevus', 796: 'nicolaides', 797: 'nielsen', 798: 'niemann', 799: 'night', 800: 'nijmegen', 801: 'nishimura', 802: 'nodulosis', 803: 'non', 804: 'nonbullous', 805: 'nonsyndromic', 806: 'noonan', 807: 'norrie', 808: 'north', 809: 'northern', 810: 'not', 811: 'nyhan', 812: 'nystagmus', 813: 'obstruction', 814: 'occlusive', 815: 'occult', 816: 'ochoa', 817: 'ocular', 818: 'oculo', 819: 'oculocutaneous', 820: 'oculodentodigital', 821: 'oculofaciocardiodental', 822: 'oculopharyngeal', 823: 'oculotrichoanal', 824: 'of', 825: 'ohdo', 826: 'ohtahara', 827: 'older', 828: 'oliver', 829: 'ollier', 830: 'onset', 831: 'onycho', 832: 'ophthalmo', 833: 'opitz', 834: 'opsoclonus', 835: 'optic', 836: 'optica', 837: 'or', 838: 'oral', 839: 'oram', 840: 'ornithine', 841: 'oropharyngeal', 842: 'osseous', 843: 'osteochondromas', 844: 'osteodysplasia', 845: 'osteodysplastic', 846: 'osteolysis', 847: 'osteoporosis', 848: 'osteosarcoma', 849: 'outlet', 850: 'outlook', 851: 'ovarian', 852: 'overload', 853: 'ow', 854: 'p', 855: 'paget', 856: 'pagets', 857: 'pain', 858: 'palsies', 859: 'palsy', 860: 'pancreatitis', 861: 'panencephalitis', 862: 'paraganglioma', 863: 'paralyses', 864: 'paralysis', 865: 'paranasal', 866: 'paraplegia', 867: 'parathyroid', 868: 'parkinson', 869: 'parkinsonism', 870: 'parkinsons', 871: 'partial', 872: 'patella', 873: 'peeling', 874: 'penile', 875: 'people', 876: 'periodic', 877: 'peripheral', 878: 'perthes', 879: 'peters', 880: 'peutz', 881: 'pfeiffer', 882: 'phenylketonuria', 883: 'pheochromocytoma', 884: 'phosphate', 885: 'phosphoglycerate', 886: 'phosphoribosylpyrophosphate', 887: 'phosphoribosyltransferase', 888: 'pick', 889: 'piebaldism', 890: 'pierre', 891: 'pigmented', 892: 'pigmenti', 893: 'pigmentosa', 894: 'pigmentosum', 895: 'pik', 896: 'pilomatricoma', 897: 'pitt', 898: 'pituitary', 899: 'plasma', 900: 'platelet', 901: 'platyspondylic', 902: 'plus', 903: 'pmm', 904: 'pol', 905: 'poland', 906: 'polyangiitis', 907: 'polycystic', 908: 'polycythemia', 909: 'polyendocrinopathy', 910: 'polyglucosan', 911: 'polymicrogyria', 912: 'polyneuropathy', 913: 'polyposis', 914: 'pompe', 915: 'pontocerebellar', 916: 'popliteal', 917: 'porphyria', 918: 'postural', 919: 'potassium', 920: 'potential', 921: 'pregnancy', 922: 'prescription', 923: 'pressure', 924: 'prevent', 925: 'primary', 926: 'primordial', 927: 'probably', 928: 'problems', 929: 'progeria', 930: 'progressive', 931: 'promyelocytic', 932: 'prostate', 933: 'protein', 934: 'pseudo', 935: 'psoriasis', 936: 'pterygium', 937: 'pudlak', 938: 'pulmonary', 939: 'pulmonic', 940: 'punctata', 941: 'purpura', 942: 'q', 943: 'qt', 944: 'quitting', 945: 'radius', 946: 'ragged', 947: 'receptor', 948: 'rectal', 949: 'red', 950: 'reductase', 951: 'refractory', 952: 'related', 953: 'renal', 954: 'renpenning', 955: 'repetitive', 956: 'research', 957: 'resistance', 958: 'respiratory', 959: 'responsive', 960: 'restless', 961: 'restriction', 962: 'reticularis', 963: 'retina', 964: 'retinal', 965: 'retinitis', 966: 'retinoblastoma', 967: 'retinoschisis', 968: 'retraction', 969: 'retroperitoneal', 970: 'rett', 971: 'rheumatoid', 972: 'rhizomelic', 973: 'rickets', 974: 'ring', 975: 'rippling', 976: 'risk', 977: 'risks', 978: 'roberts', 979: 'robin', 980: 'robinow', 981: 'robinson', 982: 'rod', 983: 'rokitansky', 984: 'rothmund', 985: 'rotor', 986: 'rubinstein', 987: 'russell', 988: 's', 989: 'sachs', 990: 'saddan', 991: 'saethre', 992: 'saldino', 993: 'salih', 994: 'salivary', 995: 'sandhoff', 996: 'sarcoma', 997: 'say', 998: 'sayre', 999: 'scheinker', 1000: 'schilders', 1001: 'schimke', 1002: 'schindler', 1003: 'schinzel', 1004: 'schwartz', 1005: 'scleroderma', 1006: 'sclerosing', 1007: 'sclerosis', 1008: 'scoliosis', 1009: 'scott', 1010: 'seizures', 1011: 'sella', 1012: 'semialdehyde', 1013: 'senior', 1014: 'sensitive', 1015: 'sensitivity', 1016: 'sensorineural', 1017: 'sensory', 1018: 'sepiapterin', 1019: 'septo', 1020: 'sequence', 1021: 'severe', 1022: 'sex', 1023: 'sheldon', 1024: 'shingles', 1025: 'short', 1026: 'shprintzen', 1027: 'shwachman', 1028: 'sialic', 1029: 'sialidosis', 1030: 'sialuria', 1031: 'sick', 1032: 'sickle', 1033: 'siderius', 1034: 'sideroblastic', 1035: 'silver', 1036: 'simpson', 1037: 'sinus', 1038: 'sitosterolemia', 1039: 'sjgren', 1040: 'skeletal', 1041: 'skin', 1042: 'slca', 1043: 'small', 1044: 'smell', 1045: 'smith', 1046: 'smoking', 1047: 'snyder', 1048: 'sost', 1049: 'sotos', 1050: 'sox', 1051: 'spasm', 1052: 'spastic', 1053: 'specific', 1054: 'spectrum', 1055: 'spherocytosis', 1056: 'spheroids', 1057: 'spina', 1058: 'spinal', 1059: 'spinocerebellar', 1060: 'spondylocarpotarsal', 1061: 'spondylocostal', 1062: 'spondyloenchondrodysplasia', 1063: 'spondyloepimetaphyseal', 1064: 'spondyloepiphyseal', 1065: 'spondyloperipheral', 1066: 'spondylothoracic', 1067: 'sponge', 1068: 'sporadic', 1069: 'spread', 1070: 'squamous', 1071: 'stages', 1072: 'stargardt', 1073: 'stationary', 1074: 'steatocystoma', 1075: 'stem', 1076: 'stenosis', 1077: 'stevens', 1078: 'stickler', 1079: 'stimulation', 1080: 'sting', 1081: 'storage', 1082: 'stormorken', 1083: 'straussler', 1084: 'stroke', 1085: 'stromal', 1086: 'strudwick', 1087: 'sturge', 1088: 'stve', 1089: 'subacute', 1090: 'subcortical', 1091: 'succinate', 1092: 'succinic', 1093: 'succinyl', 1094: 'sudden', 1095: 'sulfatase', 1096: 'sulfur', 1097: 'superactivity', 1098: 'suppurativa', 1099: 'supravalvular', 1100: 'surfactant', 1101: 'surviving', 1102: 'swallowing', 1103: 'swyer', 1104: 'symptomps', 1105: 'symptoms', 1106: 'syncope', 1107: 'syndrome', 1108: 'syndromes', 1109: 'syngap', 1110: 'synostosis', 1111: 'synthase', 1112: 'synthetase', 1113: 'syrup', 1114: 'system', 1115: 'systemic', 1116: 'systems', 1117: 'szary', 1118: 't', 1119: 'tachycardia', 1120: 'tangier', 1121: 'tarda', 1122: 'tarsal', 1123: 'task', 1124: 'taste', 1125: 'tay', 1126: 'taybi', 1127: 'telangiectasia', 1128: 'teratoid', 1129: 'testes', 1130: 'testicular', 1131: 'tethered', 1132: 'tetra', 1133: 'tetrahydrobiopterin', 1134: 'tetrasomy', 1135: 'thalassemia', 1136: 'thanatophoric', 1137: 'that', 1138: 'the', 1139: 'thiamine', 1140: 'thiopurine', 1141: 'thomson', 1142: 'thoracic', 1143: 'thrombasthenia', 1144: 'thrombocythemia', 1145: 'thrombocytopenia', 1146: 'thrombocytopenic', 1147: 'thrombotic', 1148: 'thymic', 1149: 'thymoma', 1150: 'thyroiditis', 1151: 'thyroxine', 1152: 'tibial', 1153: 'tietz', 1154: 'timothy', 1155: 'tk', 1156: 'to', 1157: 'todds', 1158: 'tooth', 1159: 'torrance', 1160: 'tourette', 1161: 'townes', 1162: 'toxic', 1163: 'tp', 1164: 'tract', 1165: 'transcarbamylase', 1166: 'transferase', 1167: 'transient', 1168: 'transthyretin', 1169: 'transverse', 1170: 'treacher', 1171: 'treatments', 1172: 'tremor', 1173: 'trenaunay', 1174: 'trials', 1175: 'trichoepithelioma', 1176: 'trichohepatoenteric', 1177: 'trichothiodystrophy', 1178: 'trifunctional', 1179: 'trigeminal', 1180: 'trimethylaminuria', 1181: 'triosephosphate', 1182: 'triple', 1183: 'trisomy', 1184: 'trophoblastic', 1185: 'troyer', 1186: 'tuberous', 1187: 'tubular', 1188: 'tumor', 1189: 'tumors', 1190: 'turner', 1191: 'type', 1192: 'tyrosine', 1193: 'tyrosinemia', 1194: 'ulcerative', 1195: 'unverricht', 1196: 'urethral', 1197: 'urinary', 1198: 'urine', 1199: 'uromodulin', 1200: 'usher', 1201: 'uterine', 1202: 'uv', 1203: 'v', 1204: 'vacterl', 1205: 'van', 1206: 'vanishing', 1207: 'variant', 1208: 'vasculitis', 1209: 'vasculopathy', 1210: 'veno', 1211: 'venous', 1212: 'vera', 1213: 'very', 1214: 'vi', 1215: 'vii', 1216: 'virus', 1217: 'vitamin', 1218: 'vitelliform', 1219: 'vitiligo', 1220: 'vldlr', 1221: 'vohwinkel', 1222: 'von', 1223: 'vries', 1224: 'vulvar', 1225: 'waardenburg', 1226: 'wagner', 1227: 'wagr', 1228: 'waldenstrm', 1229: 'walker', 1230: 'wall', 1231: 'warburg', 1232: 'warfarin', 1233: 'warsaw', 1234: 'weaver', 1235: 'weber', 1236: 'weill', 1237: 'weiss', 1238: 'weissenbacher', 1239: 'wells', 1240: 'werner', 1241: 'wernicke', 1242: 'weyers', 1243: 'what', 1244: 'whiplash', 1245: 'white', 1246: 'who', 1247: 'wiedemann', 1248: 'willebrand', 1249: 'williams', 1250: 'wilson', 1251: 'winchester', 1252: 'wiskott', 1253: 'with', 1254: 'wolf', 1255: 'wolff', 1256: 'wolfram', 1257: 'wolman', 1258: 'woolly', 1259: 'woude', 1260: 'x', 1261: 'xanthinuria', 1262: 'xeroderma', 1263: 'xx', 1264: 'xxyy', 1265: 'xyy', 1266: 'y', 1267: 'young', 1268: 'zap', 1269: 'zellweger', 1270: 'zweymller'}\n"
          ],
          "name": "stdout"
        }
      ]
    },
    {
      "cell_type": "code",
      "metadata": {
        "id": "JYVn_1F0stq-"
      },
      "source": [
        "#Shuffle the data\n",
        "lines = shuffle(lines)"
      ],
      "execution_count": 24,
      "outputs": []
    },
    {
      "cell_type": "code",
      "metadata": {
        "id": "brrw0rHvstrA",
        "outputId": "9c6b406b-a886-4c14-f11b-0a626c52e0f8",
        "colab": {
          "base_uri": "https://localhost:8080/",
          "height": 34
        }
      },
      "source": [
        "# Train - Test Split\n",
        "X, y = lines.source, lines.target\n",
        "X_train, X_test, y_train, y_test = train_test_split(X, y, test_size = 0.2)\n",
        "X_train.shape, X_test.shape"
      ],
      "execution_count": 25,
      "outputs": [
        {
          "output_type": "execute_result",
          "data": {
            "text/plain": [
              "((3232,), (808,))"
            ]
          },
          "metadata": {
            "tags": []
          },
          "execution_count": 25
        }
      ]
    },
    {
      "cell_type": "code",
      "metadata": {
        "id": "4cnhiPvkstrC"
      },
      "source": [
        "# https://stackoverflow.com/questions/54880279/how-to-handle-invalid-argument-error-in-keras\n",
        "# Input tokens for encoder\n",
        "num_encoder_tokens=len(source_words) +1\n",
        "# Input tokens for decoder zero padded\n",
        "num_decoder_tokens=len(target_words) +1"
      ],
      "execution_count": 26,
      "outputs": []
    },
    {
      "cell_type": "code",
      "metadata": {
        "id": "UgD1d4bIstrE"
      },
      "source": [
        "def generate_batch(X = X_train, y = y_train, batch_size = 32):\n",
        "    ''' Generate a batch of data '''\n",
        "    while True:\n",
        "        for j in range(0, len(X), batch_size):\n",
        "            encoder_input_data = np.zeros((batch_size, max_source_length),dtype='float32')\n",
        "            decoder_input_data = np.zeros((batch_size, max_target_length),dtype='float32')\n",
        "            decoder_target_data = np.zeros((batch_size, max_target_length, num_decoder_tokens),dtype='float32')\n",
        "            for i, (input_text, target_text) in enumerate(zip(X[j:j+batch_size], y[j:j+batch_size])):\n",
        "                for t, word in enumerate(input_text.split()):\n",
        "                        encoder_input_data[i, t] = source_word2idx[word] \n",
        "                for t, word in enumerate(target_text.split()):\n",
        "                    if t<len(target_text.split())-1:\n",
        "                        decoder_input_data[i, t] = target_word2idx[word] # decoder input seq\n",
        "                    if t>0:\n",
        "                        # decoder target sequence (one hot encoded)\n",
        "                        # does not include the START_ token\n",
        "                        # Offset by one timestep\n",
        "                        #print(word)\n",
        "                        decoder_target_data[i, t - 1, target_word2idx[word]] = 1.\n",
        "                    \n",
        "            yield([encoder_input_data, decoder_input_data], decoder_target_data)"
      ],
      "execution_count": 27,
      "outputs": []
    },
    {
      "cell_type": "markdown",
      "metadata": {
        "id": "plLgewa95HwL"
      },
      "source": [
        "Attention model"
      ]
    },
    {
      "cell_type": "code",
      "metadata": {
        "id": "X1NS4eas5MoR"
      },
      "source": [
        "# -*- coding: utf-8 -*-\n",
        "\"\"\"attention.ipynb\n",
        "\n",
        "Automatically generated by Colaboratory.\n",
        "\n",
        "Original file is located at\n",
        "    https://colab.research.google.com/drive/1XrjPL3O_szhahYZW0z9yhCl9qvIcJJYW\n",
        "\"\"\"\n",
        "\n",
        "import tensorflow as tf\n",
        "import os\n",
        "from tensorflow.python.keras.layers import Layer\n",
        "from tensorflow.python.keras import backend as K\n",
        "\n",
        "\n",
        "class AttentionLayer(Layer):\n",
        "    \"\"\"\n",
        "    This class implements Bahdanau attention (https://arxiv.org/pdf/1409.0473.pdf).\n",
        "    There are three sets of weights introduced W_a, U_a, and V_a\n",
        "     \"\"\"\n",
        "\n",
        "    def __init__(self, **kwargs):\n",
        "        super(AttentionLayer, self).__init__(**kwargs)\n",
        "\n",
        "    def build(self, input_shape):\n",
        "        assert isinstance(input_shape, list)\n",
        "        # Create a trainable weight variable for this layer.\n",
        "\n",
        "        self.W_a = self.add_weight(name='W_a',\n",
        "                                   shape=tf.TensorShape((input_shape[0][2], input_shape[0][2])),\n",
        "                                   initializer='uniform',\n",
        "                                   trainable=True)\n",
        "        self.U_a = self.add_weight(name='U_a',\n",
        "                                   shape=tf.TensorShape((input_shape[1][2], input_shape[0][2])),\n",
        "                                   initializer='uniform',\n",
        "                                   trainable=True)\n",
        "        self.V_a = self.add_weight(name='V_a',\n",
        "                                   shape=tf.TensorShape((input_shape[0][2], 1)),\n",
        "                                   initializer='uniform',\n",
        "                                   trainable=True)\n",
        "\n",
        "        super(AttentionLayer, self).build(input_shape)  # Be sure to call this at the end\n",
        "\n",
        "    def call(self, inputs, verbose=False):\n",
        "        \"\"\"\n",
        "        inputs: [encoder_output_sequence, decoder_output_sequence]\n",
        "        \"\"\"\n",
        "        assert type(inputs) == list\n",
        "        encoder_out_seq, decoder_out_seq = inputs\n",
        "        if verbose:\n",
        "            print('encoder_out_seq>', encoder_out_seq.shape)\n",
        "            print('decoder_out_seq>', decoder_out_seq.shape)\n",
        "\n",
        "        def energy_step(inputs, states):\n",
        "            \"\"\" Step function for computing energy for a single decoder state \"\"\"\n",
        "\n",
        "            assert_msg = \"States must be a list. However states {} is of type {}\".format(states, type(states))\n",
        "            assert isinstance(states, list) or isinstance(states, tuple), assert_msg\n",
        "\n",
        "            \"\"\" Some parameters required for shaping tensors\"\"\"\n",
        "            en_seq_len, en_hidden = encoder_out_seq.shape[1], encoder_out_seq.shape[2]\n",
        "            de_hidden = inputs.shape[-1]\n",
        "\n",
        "            \"\"\" Computing S.Wa where S=[s0, s1, ..., si]\"\"\"\n",
        "            # <= batch_size*en_seq_len, latent_dim\n",
        "            reshaped_enc_outputs = K.reshape(encoder_out_seq, (-1, en_hidden))\n",
        "            # <= batch_size*en_seq_len, latent_dim\n",
        "            W_a_dot_s = K.reshape(K.dot(reshaped_enc_outputs, self.W_a), (-1, en_seq_len, en_hidden))\n",
        "            if verbose:\n",
        "                print('wa.s>',W_a_dot_s.shape)\n",
        "\n",
        "            \"\"\" Computing hj.Ua \"\"\"\n",
        "            U_a_dot_h = K.expand_dims(K.dot(inputs, self.U_a), 1)  # <= batch_size, 1, latent_dim\n",
        "            if verbose:\n",
        "                print('Ua.h>',U_a_dot_h.shape)\n",
        "\n",
        "            \"\"\" tanh(S.Wa + hj.Ua) \"\"\"\n",
        "            # <= batch_size*en_seq_len, latent_dim\n",
        "            reshaped_Ws_plus_Uh = K.tanh(K.reshape(W_a_dot_s + U_a_dot_h, (-1, en_hidden)))\n",
        "            if verbose:\n",
        "                print('Ws+Uh>', reshaped_Ws_plus_Uh.shape)\n",
        "\n",
        "            \"\"\" softmax(va.tanh(S.Wa + hj.Ua)) \"\"\"\n",
        "            # <= batch_size, en_seq_len\n",
        "            e_i = K.reshape(K.dot(reshaped_Ws_plus_Uh, self.V_a), (-1, en_seq_len))\n",
        "            # <= batch_size, en_seq_len\n",
        "            e_i = K.softmax(e_i)\n",
        "\n",
        "            if verbose:\n",
        "                print('ei>', e_i.shape)\n",
        "\n",
        "            return e_i, [e_i]\n",
        "\n",
        "        def context_step(inputs, states):\n",
        "            \"\"\" Step function for computing ci using ei \"\"\"\n",
        "            # <= batch_size, hidden_size\n",
        "            c_i = K.sum(encoder_out_seq * K.expand_dims(inputs, -1), axis=1)\n",
        "            if verbose:\n",
        "                print('ci>', c_i.shape)\n",
        "            return c_i, [c_i]\n",
        "\n",
        "        def create_inital_state(inputs, hidden_size):\n",
        "            # We are not using initial states, but need to pass something to K.rnn funciton\n",
        "            fake_state = K.zeros_like(inputs)  # <= (batch_size, enc_seq_len, latent_dim\n",
        "            fake_state = K.sum(fake_state, axis=[1, 2])  # <= (batch_size)\n",
        "            fake_state = K.expand_dims(fake_state)  # <= (batch_size, 1)\n",
        "            fake_state = K.tile(fake_state, [1, hidden_size])  # <= (batch_size, latent_dim\n",
        "            return fake_state\n",
        "\n",
        "        fake_state_c = create_inital_state(encoder_out_seq, encoder_out_seq.shape[-1])\n",
        "        fake_state_e = create_inital_state(encoder_out_seq, encoder_out_seq.shape[1])  # <= (batch_size, enc_seq_len, latent_dim\n",
        "\n",
        "        \"\"\" Computing energy outputs \"\"\"\n",
        "        # e_outputs => (batch_size, de_seq_len, en_seq_len)\n",
        "        last_out, e_outputs, _ = K.rnn(\n",
        "            energy_step, decoder_out_seq, [fake_state_e],\n",
        "        )\n",
        "\n",
        "        \"\"\" Computing context vectors \"\"\"\n",
        "        last_out, c_outputs, _ = K.rnn(\n",
        "            context_step, e_outputs, [fake_state_c],\n",
        "        )\n",
        "\n",
        "        return c_outputs, e_outputs\n",
        "\n",
        "    def compute_output_shape(self, input_shape):\n",
        "        \"\"\" Outputs produced by the layer \"\"\"\n",
        "        return [\n",
        "            tf.TensorShape((input_shape[1][0], input_shape[1][1], input_shape[1][2])),\n",
        "            tf.TensorShape((input_shape[1][0], input_shape[1][1], input_shape[0][1]))\n",
        "        ]\n"
      ],
      "execution_count": 28,
      "outputs": []
    },
    {
      "cell_type": "code",
      "metadata": {
        "id": "H209mGO_strG"
      },
      "source": [
        "train_samples = len(X_train) # Total Training samples\n",
        "val_samples = len(X_test)    # Total validation or test samples\n",
        "batch_size = 128\n",
        "epochs = 100\n",
        "latent_dim=500"
      ],
      "execution_count": 29,
      "outputs": []
    },
    {
      "cell_type": "markdown",
      "metadata": {
        "id": "ygXzXqQb5oYz"
      },
      "source": [
        "Encoder Decoder Model"
      ]
    },
    {
      "cell_type": "code",
      "metadata": {
        "id": "lB8kxrkb5nSs"
      },
      "source": [
        "# Encoder \n",
        "encoder_inputs = Input(shape=(max_source_length,)) \n",
        "enc_emb = Embedding(num_encoder_tokens, latent_dim,trainable=True)(encoder_inputs) \n",
        "\n",
        "#LSTM 1 \n",
        "encoder_lstm1 = LSTM(latent_dim,return_sequences=True,return_state=True) \n",
        "encoder_output1, state_h1, state_c1 = encoder_lstm1(enc_emb) \n",
        "\n",
        "#LSTM 2 \n",
        "encoder_lstm2 = LSTM(latent_dim,return_sequences=True,return_state=True) \n",
        "encoder_output2, state_h2, state_c2 = encoder_lstm2(encoder_output1) \n",
        "\n",
        "#LSTM 3 \n",
        "encoder_lstm3=LSTM(latent_dim, return_state=True, return_sequences=True) \n",
        "encoder_outputs, state_h, state_c= encoder_lstm3(encoder_output2) \n",
        "\n",
        "# Set up the decoder. \n",
        "decoder_inputs = Input(shape=(None,)) \n",
        "dec_emb_layer = Embedding(num_decoder_tokens, latent_dim,trainable=True) \n",
        "dec_emb = dec_emb_layer(decoder_inputs) \n",
        "\n",
        "#LSTM using encoder_states as initial state\n",
        "decoder_lstm = LSTM(latent_dim, return_sequences=True, return_state=True) \n",
        "decoder_outputs,decoder_fwd_state, decoder_back_state = decoder_lstm(dec_emb,initial_state=[state_h, state_c]) \n",
        "\n",
        "#Attention Layer\n",
        "attn_layer = AttentionLayer(name='attention_layer') \n",
        "attn_out, attn_states = attn_layer([encoder_outputs, decoder_outputs]) \n",
        "\n",
        "# Concat attention output and decoder LSTM output \n",
        "decoder_concat_input = Concatenate(axis=-1, name='concat_layer')([decoder_outputs, attn_out])\n",
        "\n",
        "#Dense layer\n",
        "decoder_dense = TimeDistributed(Dense(num_decoder_tokens, activation='softmax')) \n",
        "decoder_outputs = decoder_dense(decoder_concat_input) \n",
        "\n",
        "# Define the model\n",
        "model = Model([encoder_inputs, decoder_inputs], decoder_outputs) \n"
      ],
      "execution_count": 30,
      "outputs": []
    },
    {
      "cell_type": "code",
      "metadata": {
        "id": "rYCB1VRNstrN",
        "outputId": "4b3834f4-2258-44b1-d586-293b4570ea48",
        "colab": {
          "base_uri": "https://localhost:8080/",
          "height": 606
        }
      },
      "source": [
        "model.compile(optimizer='rmsprop', loss='sparse_categorical_crossentropy', metrics=['accuracy', tf.keras.metrics.Precision(), tf.keras.metrics.Recall()])\n",
        "model.summary()"
      ],
      "execution_count": 31,
      "outputs": [
        {
          "output_type": "stream",
          "text": [
            "Model: \"functional_1\"\n",
            "__________________________________________________________________________________________________\n",
            "Layer (type)                    Output Shape         Param #     Connected to                     \n",
            "==================================================================================================\n",
            "input_1 (InputLayer)            [(None, 19)]         0                                            \n",
            "__________________________________________________________________________________________________\n",
            "embedding (Embedding)           (None, 19, 256)      325376      input_1[0][0]                    \n",
            "__________________________________________________________________________________________________\n",
            "lstm (LSTM)                     [(None, 19, 256), (N 525312      embedding[0][0]                  \n",
            "__________________________________________________________________________________________________\n",
            "input_2 (InputLayer)            [(None, None)]       0                                            \n",
            "__________________________________________________________________________________________________\n",
            "lstm_1 (LSTM)                   [(None, 19, 256), (N 525312      lstm[0][0]                       \n",
            "__________________________________________________________________________________________________\n",
            "embedding_1 (Embedding)         (None, None, 256)    930816      input_2[0][0]                    \n",
            "__________________________________________________________________________________________________\n",
            "lstm_2 (LSTM)                   [(None, 19, 256), (N 525312      lstm_1[0][0]                     \n",
            "__________________________________________________________________________________________________\n",
            "lstm_3 (LSTM)                   [(None, None, 256),  525312      embedding_1[0][0]                \n",
            "                                                                 lstm_2[0][1]                     \n",
            "                                                                 lstm_2[0][2]                     \n",
            "__________________________________________________________________________________________________\n",
            "attention_layer (AttentionLayer ((None, None, 256),  131328      lstm_2[0][0]                     \n",
            "                                                                 lstm_3[0][0]                     \n",
            "__________________________________________________________________________________________________\n",
            "concat_layer (Concatenate)      (None, None, 512)    0           lstm_3[0][0]                     \n",
            "                                                                 attention_layer[0][0]            \n",
            "__________________________________________________________________________________________________\n",
            "time_distributed (TimeDistribut (None, None, 3636)   1865268     concat_layer[0][0]               \n",
            "==================================================================================================\n",
            "Total params: 5,354,036\n",
            "Trainable params: 5,354,036\n",
            "Non-trainable params: 0\n",
            "__________________________________________________________________________________________________\n"
          ],
          "name": "stdout"
        }
      ]
    },
    {
      "cell_type": "code",
      "metadata": {
        "id": "largXnmjstrR",
        "outputId": "91ae7d67-1fd7-4535-c2c7-618c8bf5d3e8",
        "colab": {
          "base_uri": "https://localhost:8080/",
          "height": 1000
        }
      },
      "source": [
        "model.fit_generator(generator = generate_batch(X_train, y_train, batch_size = batch_size),\n",
        "                    steps_per_epoch = train_samples//batch_size,\n",
        "                    validation_data = generate_batch(X_test, y_test, batch_size = batch_size),\n",
        "                    validation_steps = val_samples//batch_size, epochs=epochs)"
      ],
      "execution_count": 32,
      "outputs": [
        {
          "output_type": "stream",
          "text": [
            "WARNING:tensorflow:From <ipython-input-32-fccd5a3bacdf>:4: Model.fit_generator (from tensorflow.python.keras.engine.training) is deprecated and will be removed in a future version.\n",
            "Instructions for updating:\n",
            "Please use Model.fit, which supports generators.\n",
            "Epoch 1/100\n",
            "101/101 [==============================] - 11s 112ms/step - loss: 1.9754 - accuracy: 0.0689 - precision: 0.0244 - recall: 0.0091 - val_loss: 1.6874 - val_accuracy: 0.1136 - val_precision: 0.0665 - val_recall: 0.0667\n",
            "Epoch 2/100\n",
            "101/101 [==============================] - 10s 95ms/step - loss: 1.5138 - accuracy: 0.1381 - precision: 0.1210 - recall: 0.1855 - val_loss: 1.4123 - val_accuracy: 0.1585 - val_precision: 0.1529 - val_recall: 0.2747\n",
            "Epoch 3/100\n",
            "101/101 [==============================] - 10s 95ms/step - loss: 1.2826 - accuracy: 0.1699 - precision: 0.1799 - recall: 0.2959 - val_loss: 1.3006 - val_accuracy: 0.1736 - val_precision: 0.1851 - val_recall: 0.3344\n",
            "Epoch 4/100\n",
            "101/101 [==============================] - 10s 95ms/step - loss: 1.1515 - accuracy: 0.1854 - precision: 0.2365 - recall: 0.3474 - val_loss: 1.2388 - val_accuracy: 0.1833 - val_precision: 0.3131 - val_recall: 0.3701\n",
            "Epoch 5/100\n",
            "101/101 [==============================] - 10s 95ms/step - loss: 1.0558 - accuracy: 0.1959 - precision: 0.3042 - recall: 0.3842 - val_loss: 1.2018 - val_accuracy: 0.1887 - val_precision: 0.4120 - val_recall: 0.3956\n",
            "Epoch 6/100\n",
            "101/101 [==============================] - 10s 96ms/step - loss: 0.9793 - accuracy: 0.2033 - precision: 0.3355 - recall: 0.4106 - val_loss: 1.1721 - val_accuracy: 0.1932 - val_precision: 0.4595 - val_recall: 0.4119\n",
            "Epoch 7/100\n",
            "101/101 [==============================] - 10s 95ms/step - loss: 0.9155 - accuracy: 0.2096 - precision: 0.3354 - recall: 0.4299 - val_loss: 1.1541 - val_accuracy: 0.1970 - val_precision: 0.4292 - val_recall: 0.4203\n",
            "Epoch 8/100\n",
            "101/101 [==============================] - 10s 95ms/step - loss: 0.8588 - accuracy: 0.2157 - precision: 0.3306 - recall: 0.4481 - val_loss: 1.1500 - val_accuracy: 0.1979 - val_precision: 0.3590 - val_recall: 0.4282\n",
            "Epoch 9/100\n",
            "101/101 [==============================] - 9s 94ms/step - loss: 0.8082 - accuracy: 0.2211 - precision: 0.3103 - recall: 0.4618 - val_loss: 1.1347 - val_accuracy: 0.1991 - val_precision: 0.3010 - val_recall: 0.4363\n",
            "Epoch 10/100\n",
            "101/101 [==============================] - 9s 93ms/step - loss: 0.7629 - accuracy: 0.2263 - precision: 0.2940 - recall: 0.4742 - val_loss: 1.1247 - val_accuracy: 0.2004 - val_precision: 0.3325 - val_recall: 0.4362\n",
            "Epoch 11/100\n",
            "101/101 [==============================] - 10s 94ms/step - loss: 0.7187 - accuracy: 0.2313 - precision: 0.3091 - recall: 0.4885 - val_loss: 1.1289 - val_accuracy: 0.2010 - val_precision: 0.3566 - val_recall: 0.4361\n",
            "Epoch 12/100\n",
            "101/101 [==============================] - 9s 92ms/step - loss: 0.6789 - accuracy: 0.2370 - precision: 0.2967 - recall: 0.5012 - val_loss: 1.1197 - val_accuracy: 0.2037 - val_precision: 0.3301 - val_recall: 0.4431\n",
            "Epoch 13/100\n",
            "101/101 [==============================] - 9s 92ms/step - loss: 0.6421 - accuracy: 0.2423 - precision: 0.3163 - recall: 0.5125 - val_loss: 1.1116 - val_accuracy: 0.2049 - val_precision: 0.3016 - val_recall: 0.4517\n",
            "Epoch 14/100\n",
            "101/101 [==============================] - 9s 94ms/step - loss: 0.6057 - accuracy: 0.2491 - precision: 0.2997 - recall: 0.5256 - val_loss: 1.1226 - val_accuracy: 0.2054 - val_precision: 0.2884 - val_recall: 0.4591\n",
            "Epoch 15/100\n",
            "101/101 [==============================] - 10s 95ms/step - loss: 0.5685 - accuracy: 0.2555 - precision: 0.3111 - recall: 0.5367 - val_loss: 1.1238 - val_accuracy: 0.2063 - val_precision: 0.2913 - val_recall: 0.4581\n",
            "Epoch 16/100\n",
            "101/101 [==============================] - 9s 93ms/step - loss: 0.5369 - accuracy: 0.2614 - precision: 0.3064 - recall: 0.5500 - val_loss: 1.1251 - val_accuracy: 0.2064 - val_precision: 0.2719 - val_recall: 0.4626\n",
            "Epoch 17/100\n",
            "101/101 [==============================] - 9s 93ms/step - loss: 0.5061 - accuracy: 0.2682 - precision: 0.3047 - recall: 0.5617 - val_loss: 1.1390 - val_accuracy: 0.2050 - val_precision: 0.2801 - val_recall: 0.4607\n",
            "Epoch 18/100\n",
            "101/101 [==============================] - 10s 94ms/step - loss: 0.4775 - accuracy: 0.2741 - precision: 0.3014 - recall: 0.5748 - val_loss: 1.1305 - val_accuracy: 0.2065 - val_precision: 0.2733 - val_recall: 0.4626\n",
            "Epoch 19/100\n",
            "101/101 [==============================] - 10s 95ms/step - loss: 0.4490 - accuracy: 0.2811 - precision: 0.3177 - recall: 0.5869 - val_loss: 1.1362 - val_accuracy: 0.2063 - val_precision: 0.2635 - val_recall: 0.4708\n",
            "Epoch 20/100\n",
            "101/101 [==============================] - 10s 94ms/step - loss: 0.4184 - accuracy: 0.2876 - precision: 0.3129 - recall: 0.6026 - val_loss: 1.1496 - val_accuracy: 0.2049 - val_precision: 0.2490 - val_recall: 0.4664\n",
            "Epoch 21/100\n",
            "101/101 [==============================] - 9s 93ms/step - loss: 0.3952 - accuracy: 0.2925 - precision: 0.3097 - recall: 0.6157 - val_loss: 1.1484 - val_accuracy: 0.2061 - val_precision: 0.2659 - val_recall: 0.4698\n",
            "Epoch 22/100\n",
            "101/101 [==============================] - 9s 92ms/step - loss: 0.3702 - accuracy: 0.2991 - precision: 0.3265 - recall: 0.6336 - val_loss: 1.1590 - val_accuracy: 0.2040 - val_precision: 0.2471 - val_recall: 0.4696\n",
            "Epoch 23/100\n",
            "101/101 [==============================] - 9s 93ms/step - loss: 0.3478 - accuracy: 0.3043 - precision: 0.3219 - recall: 0.6487 - val_loss: 1.1594 - val_accuracy: 0.2043 - val_precision: 0.2641 - val_recall: 0.4734\n",
            "Epoch 24/100\n",
            "101/101 [==============================] - 9s 93ms/step - loss: 0.3295 - accuracy: 0.3086 - precision: 0.3365 - recall: 0.6673 - val_loss: 1.1608 - val_accuracy: 0.2050 - val_precision: 0.2492 - val_recall: 0.4737\n",
            "Epoch 25/100\n",
            "101/101 [==============================] - 9s 93ms/step - loss: 0.3094 - accuracy: 0.3138 - precision: 0.3447 - recall: 0.6834 - val_loss: 1.1702 - val_accuracy: 0.2059 - val_precision: 0.2643 - val_recall: 0.4826\n",
            "Epoch 26/100\n",
            "101/101 [==============================] - 9s 92ms/step - loss: 0.2912 - accuracy: 0.3179 - precision: 0.3532 - recall: 0.7018 - val_loss: 1.1743 - val_accuracy: 0.2053 - val_precision: 0.2463 - val_recall: 0.4796\n",
            "Epoch 27/100\n",
            "101/101 [==============================] - 9s 92ms/step - loss: 0.2770 - accuracy: 0.3210 - precision: 0.3420 - recall: 0.7173 - val_loss: 1.1858 - val_accuracy: 0.2040 - val_precision: 0.2406 - val_recall: 0.4782\n",
            "Epoch 28/100\n",
            "101/101 [==============================] - 9s 92ms/step - loss: 0.2636 - accuracy: 0.3243 - precision: 0.3480 - recall: 0.7334 - val_loss: 1.1920 - val_accuracy: 0.2047 - val_precision: 0.2460 - val_recall: 0.4812\n",
            "Epoch 29/100\n",
            "101/101 [==============================] - 9s 92ms/step - loss: 0.2490 - accuracy: 0.3278 - precision: 0.3556 - recall: 0.7492 - val_loss: 1.1943 - val_accuracy: 0.2044 - val_precision: 0.2424 - val_recall: 0.4857\n",
            "Epoch 30/100\n",
            "101/101 [==============================] - 9s 93ms/step - loss: 0.2370 - accuracy: 0.3302 - precision: 0.3599 - recall: 0.7653 - val_loss: 1.2100 - val_accuracy: 0.2028 - val_precision: 0.2400 - val_recall: 0.4824\n",
            "Epoch 31/100\n",
            "101/101 [==============================] - 9s 92ms/step - loss: 0.2279 - accuracy: 0.3322 - precision: 0.3603 - recall: 0.7763 - val_loss: 1.2085 - val_accuracy: 0.2031 - val_precision: 0.2498 - val_recall: 0.4871\n",
            "Epoch 32/100\n",
            "101/101 [==============================] - 9s 91ms/step - loss: 0.2128 - accuracy: 0.3347 - precision: 0.3702 - recall: 0.7924 - val_loss: 1.2239 - val_accuracy: 0.2025 - val_precision: 0.2418 - val_recall: 0.4865\n",
            "Epoch 33/100\n",
            "101/101 [==============================] - 9s 91ms/step - loss: 0.2069 - accuracy: 0.3357 - precision: 0.3717 - recall: 0.8025 - val_loss: 1.2162 - val_accuracy: 0.2042 - val_precision: 0.2331 - val_recall: 0.4909\n",
            "Epoch 34/100\n",
            "101/101 [==============================] - 9s 91ms/step - loss: 0.1972 - accuracy: 0.3377 - precision: 0.3782 - recall: 0.8135 - val_loss: 1.2325 - val_accuracy: 0.2036 - val_precision: 0.2448 - val_recall: 0.4898\n",
            "Epoch 35/100\n",
            "101/101 [==============================] - 9s 90ms/step - loss: 0.1883 - accuracy: 0.3400 - precision: 0.3790 - recall: 0.8225 - val_loss: 1.2254 - val_accuracy: 0.2038 - val_precision: 0.2455 - val_recall: 0.4944\n",
            "Epoch 36/100\n",
            "101/101 [==============================] - 9s 90ms/step - loss: 0.1827 - accuracy: 0.3410 - precision: 0.3903 - recall: 0.8297 - val_loss: 1.2346 - val_accuracy: 0.2045 - val_precision: 0.2471 - val_recall: 0.4943\n",
            "Epoch 37/100\n",
            "101/101 [==============================] - 9s 89ms/step - loss: 0.1696 - accuracy: 0.3433 - precision: 0.3880 - recall: 0.8438 - val_loss: 1.2437 - val_accuracy: 0.2023 - val_precision: 0.2443 - val_recall: 0.4950\n",
            "Epoch 38/100\n",
            "101/101 [==============================] - 9s 90ms/step - loss: 0.1633 - accuracy: 0.3446 - precision: 0.3845 - recall: 0.8515 - val_loss: 1.2419 - val_accuracy: 0.2037 - val_precision: 0.2519 - val_recall: 0.4976\n",
            "Epoch 39/100\n",
            "101/101 [==============================] - 9s 90ms/step - loss: 0.1572 - accuracy: 0.3455 - precision: 0.3919 - recall: 0.8587 - val_loss: 1.2612 - val_accuracy: 0.2033 - val_precision: 0.2471 - val_recall: 0.4932\n",
            "Epoch 40/100\n",
            "101/101 [==============================] - 9s 89ms/step - loss: 0.1494 - accuracy: 0.3469 - precision: 0.4028 - recall: 0.8662 - val_loss: 1.2649 - val_accuracy: 0.2039 - val_precision: 0.2523 - val_recall: 0.5021\n",
            "Epoch 41/100\n",
            "101/101 [==============================] - 9s 89ms/step - loss: 0.1405 - accuracy: 0.3484 - precision: 0.4093 - recall: 0.8742 - val_loss: 1.2708 - val_accuracy: 0.2048 - val_precision: 0.2559 - val_recall: 0.5011\n",
            "Epoch 42/100\n",
            "101/101 [==============================] - 9s 89ms/step - loss: 0.1345 - accuracy: 0.3498 - precision: 0.4030 - recall: 0.8804 - val_loss: 1.2709 - val_accuracy: 0.2042 - val_precision: 0.2674 - val_recall: 0.5012\n",
            "Epoch 43/100\n",
            "101/101 [==============================] - 9s 89ms/step - loss: 0.1274 - accuracy: 0.3506 - precision: 0.4090 - recall: 0.8852 - val_loss: 1.2892 - val_accuracy: 0.2015 - val_precision: 0.2454 - val_recall: 0.4932\n",
            "Epoch 44/100\n",
            "101/101 [==============================] - 9s 89ms/step - loss: 0.1258 - accuracy: 0.3505 - precision: 0.4016 - recall: 0.8880 - val_loss: 1.2848 - val_accuracy: 0.2034 - val_precision: 0.2492 - val_recall: 0.4983\n",
            "Epoch 45/100\n",
            "101/101 [==============================] - 9s 88ms/step - loss: 0.1244 - accuracy: 0.3512 - precision: 0.4064 - recall: 0.8896 - val_loss: 1.2982 - val_accuracy: 0.2040 - val_precision: 0.2506 - val_recall: 0.5028\n",
            "Epoch 46/100\n",
            "101/101 [==============================] - 9s 89ms/step - loss: 0.1206 - accuracy: 0.3517 - precision: 0.4258 - recall: 0.8925 - val_loss: 1.2985 - val_accuracy: 0.2028 - val_precision: 0.2633 - val_recall: 0.5011\n",
            "Epoch 47/100\n",
            "101/101 [==============================] - 9s 89ms/step - loss: 0.1147 - accuracy: 0.3527 - precision: 0.4329 - recall: 0.8979 - val_loss: 1.3160 - val_accuracy: 0.2023 - val_precision: 0.2598 - val_recall: 0.4989\n",
            "Epoch 48/100\n",
            "101/101 [==============================] - 9s 90ms/step - loss: 0.1132 - accuracy: 0.3531 - precision: 0.4231 - recall: 0.8981 - val_loss: 1.3173 - val_accuracy: 0.2033 - val_precision: 0.2567 - val_recall: 0.5048\n",
            "Epoch 49/100\n",
            "101/101 [==============================] - 9s 92ms/step - loss: 0.1090 - accuracy: 0.3533 - precision: 0.4187 - recall: 0.9028 - val_loss: 1.3210 - val_accuracy: 0.2034 - val_precision: 0.2550 - val_recall: 0.5061\n",
            "Epoch 50/100\n",
            "101/101 [==============================] - 9s 90ms/step - loss: 0.1028 - accuracy: 0.3550 - precision: 0.4264 - recall: 0.9071 - val_loss: 1.3236 - val_accuracy: 0.2032 - val_precision: 0.2558 - val_recall: 0.5042\n",
            "Epoch 51/100\n",
            "101/101 [==============================] - 9s 91ms/step - loss: 0.0978 - accuracy: 0.3558 - precision: 0.4307 - recall: 0.9116 - val_loss: 1.3279 - val_accuracy: 0.2023 - val_precision: 0.2590 - val_recall: 0.5046\n",
            "Epoch 52/100\n",
            "101/101 [==============================] - 9s 91ms/step - loss: 0.0971 - accuracy: 0.3558 - precision: 0.4254 - recall: 0.9126 - val_loss: 1.3404 - val_accuracy: 0.2022 - val_precision: 0.2568 - val_recall: 0.5031\n",
            "Epoch 53/100\n",
            "101/101 [==============================] - 9s 92ms/step - loss: 0.0902 - accuracy: 0.3568 - precision: 0.4315 - recall: 0.9159 - val_loss: 1.3484 - val_accuracy: 0.2025 - val_precision: 0.2649 - val_recall: 0.5068\n",
            "Epoch 54/100\n",
            "101/101 [==============================] - 9s 90ms/step - loss: 0.0853 - accuracy: 0.3584 - precision: 0.4261 - recall: 0.9202 - val_loss: 1.3435 - val_accuracy: 0.2043 - val_precision: 0.2558 - val_recall: 0.5115\n",
            "Epoch 55/100\n",
            "101/101 [==============================] - 9s 89ms/step - loss: 0.0823 - accuracy: 0.3588 - precision: 0.4254 - recall: 0.9226 - val_loss: 1.3592 - val_accuracy: 0.2028 - val_precision: 0.2662 - val_recall: 0.5079\n",
            "Epoch 56/100\n",
            "101/101 [==============================] - 9s 89ms/step - loss: 0.0783 - accuracy: 0.3596 - precision: 0.4406 - recall: 0.9248 - val_loss: 1.3658 - val_accuracy: 0.2028 - val_precision: 0.2551 - val_recall: 0.5090\n",
            "Epoch 57/100\n",
            "101/101 [==============================] - 9s 92ms/step - loss: 0.0757 - accuracy: 0.3600 - precision: 0.4353 - recall: 0.9266 - val_loss: 1.3670 - val_accuracy: 0.2052 - val_precision: 0.2673 - val_recall: 0.5176\n",
            "Epoch 58/100\n",
            "101/101 [==============================] - 9s 90ms/step - loss: 0.0730 - accuracy: 0.3608 - precision: 0.4467 - recall: 0.9280 - val_loss: 1.3734 - val_accuracy: 0.2029 - val_precision: 0.2622 - val_recall: 0.5095\n",
            "Epoch 59/100\n",
            "101/101 [==============================] - 9s 90ms/step - loss: 0.0698 - accuracy: 0.3617 - precision: 0.4488 - recall: 0.9304 - val_loss: 1.3727 - val_accuracy: 0.2052 - val_precision: 0.2743 - val_recall: 0.5153\n",
            "Epoch 60/100\n",
            "101/101 [==============================] - 9s 91ms/step - loss: 0.0674 - accuracy: 0.3620 - precision: 0.4425 - recall: 0.9325 - val_loss: 1.3765 - val_accuracy: 0.2034 - val_precision: 0.2714 - val_recall: 0.5127\n",
            "Epoch 61/100\n",
            "101/101 [==============================] - 9s 90ms/step - loss: 0.0652 - accuracy: 0.3626 - precision: 0.4314 - recall: 0.9350 - val_loss: 1.3827 - val_accuracy: 0.2037 - val_precision: 0.2492 - val_recall: 0.5147\n",
            "Epoch 62/100\n",
            "101/101 [==============================] - 9s 90ms/step - loss: 0.0636 - accuracy: 0.3630 - precision: 0.4325 - recall: 0.9343 - val_loss: 1.3947 - val_accuracy: 0.2036 - val_precision: 0.2573 - val_recall: 0.5165\n",
            "Epoch 63/100\n",
            "101/101 [==============================] - 9s 91ms/step - loss: 0.0619 - accuracy: 0.3636 - precision: 0.4317 - recall: 0.9366 - val_loss: 1.3940 - val_accuracy: 0.2035 - val_precision: 0.2514 - val_recall: 0.5133\n",
            "Epoch 64/100\n",
            "101/101 [==============================] - 9s 90ms/step - loss: 0.0592 - accuracy: 0.3643 - precision: 0.4262 - recall: 0.9397 - val_loss: 1.3963 - val_accuracy: 0.2029 - val_precision: 0.2589 - val_recall: 0.5146\n",
            "Epoch 65/100\n",
            "101/101 [==============================] - 9s 88ms/step - loss: 0.0573 - accuracy: 0.3646 - precision: 0.4345 - recall: 0.9397 - val_loss: 1.4033 - val_accuracy: 0.2037 - val_precision: 0.2478 - val_recall: 0.5139\n",
            "Epoch 66/100\n",
            "101/101 [==============================] - 9s 88ms/step - loss: 0.0555 - accuracy: 0.3656 - precision: 0.4346 - recall: 0.9424 - val_loss: 1.3963 - val_accuracy: 0.2048 - val_precision: 0.2778 - val_recall: 0.5173\n",
            "Epoch 67/100\n",
            "101/101 [==============================] - 9s 89ms/step - loss: 0.0528 - accuracy: 0.3661 - precision: 0.4406 - recall: 0.9445 - val_loss: 1.4143 - val_accuracy: 0.2027 - val_precision: 0.2527 - val_recall: 0.5134\n",
            "Epoch 68/100\n",
            "101/101 [==============================] - 9s 88ms/step - loss: 0.0526 - accuracy: 0.3661 - precision: 0.4254 - recall: 0.9441 - val_loss: 1.4130 - val_accuracy: 0.2046 - val_precision: 0.2478 - val_recall: 0.5213\n",
            "Epoch 69/100\n",
            "101/101 [==============================] - 9s 89ms/step - loss: 0.0484 - accuracy: 0.3672 - precision: 0.4217 - recall: 0.9482 - val_loss: 1.4093 - val_accuracy: 0.2044 - val_precision: 0.2586 - val_recall: 0.5207\n",
            "Epoch 70/100\n",
            "101/101 [==============================] - 9s 88ms/step - loss: 0.0462 - accuracy: 0.3677 - precision: 0.4361 - recall: 0.9496 - val_loss: 1.4290 - val_accuracy: 0.2038 - val_precision: 0.2435 - val_recall: 0.5217\n",
            "Epoch 71/100\n",
            "101/101 [==============================] - 9s 88ms/step - loss: 0.0424 - accuracy: 0.3689 - precision: 0.4226 - recall: 0.9543 - val_loss: 1.4285 - val_accuracy: 0.2029 - val_precision: 0.2525 - val_recall: 0.5156\n",
            "Epoch 72/100\n",
            "101/101 [==============================] - 9s 90ms/step - loss: 0.0406 - accuracy: 0.3698 - precision: 0.4214 - recall: 0.9556 - val_loss: 1.4397 - val_accuracy: 0.2042 - val_precision: 0.2449 - val_recall: 0.5162\n",
            "Epoch 73/100\n",
            "101/101 [==============================] - 9s 88ms/step - loss: 0.0389 - accuracy: 0.3700 - precision: 0.4362 - recall: 0.9574 - val_loss: 1.4402 - val_accuracy: 0.2035 - val_precision: 0.2531 - val_recall: 0.5193\n",
            "Epoch 74/100\n",
            "101/101 [==============================] - 9s 88ms/step - loss: 0.0368 - accuracy: 0.3708 - precision: 0.4347 - recall: 0.9605 - val_loss: 1.4537 - val_accuracy: 0.2031 - val_precision: 0.2462 - val_recall: 0.5177\n",
            "Epoch 75/100\n",
            "101/101 [==============================] - 9s 88ms/step - loss: 0.0347 - accuracy: 0.3710 - precision: 0.4271 - recall: 0.9624 - val_loss: 1.4443 - val_accuracy: 0.2046 - val_precision: 0.2612 - val_recall: 0.5243\n",
            "Epoch 76/100\n",
            "101/101 [==============================] - 9s 89ms/step - loss: 0.0330 - accuracy: 0.3716 - precision: 0.4379 - recall: 0.9639 - val_loss: 1.4570 - val_accuracy: 0.2039 - val_precision: 0.2610 - val_recall: 0.5202\n",
            "Epoch 77/100\n",
            "101/101 [==============================] - 9s 89ms/step - loss: 0.0316 - accuracy: 0.3722 - precision: 0.4363 - recall: 0.9660 - val_loss: 1.4635 - val_accuracy: 0.2047 - val_precision: 0.2527 - val_recall: 0.5205\n",
            "Epoch 78/100\n",
            "101/101 [==============================] - 9s 89ms/step - loss: 0.0321 - accuracy: 0.3719 - precision: 0.4419 - recall: 0.9659 - val_loss: 1.4642 - val_accuracy: 0.2029 - val_precision: 0.2564 - val_recall: 0.5182\n",
            "Epoch 79/100\n",
            "101/101 [==============================] - 9s 88ms/step - loss: 0.0309 - accuracy: 0.3723 - precision: 0.4318 - recall: 0.9674 - val_loss: 1.4688 - val_accuracy: 0.2040 - val_precision: 0.2561 - val_recall: 0.5242\n",
            "Epoch 80/100\n",
            "101/101 [==============================] - 9s 88ms/step - loss: 0.0275 - accuracy: 0.3734 - precision: 0.4457 - recall: 0.9722 - val_loss: 1.4781 - val_accuracy: 0.2043 - val_precision: 0.2583 - val_recall: 0.5242\n",
            "Epoch 81/100\n",
            "101/101 [==============================] - 9s 89ms/step - loss: 0.0258 - accuracy: 0.3735 - precision: 0.4291 - recall: 0.9731 - val_loss: 1.4910 - val_accuracy: 0.2032 - val_precision: 0.2513 - val_recall: 0.5210\n",
            "Epoch 82/100\n",
            "101/101 [==============================] - 9s 88ms/step - loss: 0.0242 - accuracy: 0.3743 - precision: 0.4357 - recall: 0.9761 - val_loss: 1.4827 - val_accuracy: 0.2033 - val_precision: 0.2487 - val_recall: 0.5210\n",
            "Epoch 83/100\n",
            "101/101 [==============================] - 9s 89ms/step - loss: 0.0239 - accuracy: 0.3742 - precision: 0.4399 - recall: 0.9755 - val_loss: 1.4914 - val_accuracy: 0.2050 - val_precision: 0.2499 - val_recall: 0.5246\n",
            "Epoch 84/100\n",
            "101/101 [==============================] - 9s 91ms/step - loss: 0.0235 - accuracy: 0.3742 - precision: 0.4331 - recall: 0.9769 - val_loss: 1.4932 - val_accuracy: 0.2053 - val_precision: 0.2441 - val_recall: 0.5228\n",
            "Epoch 85/100\n",
            "101/101 [==============================] - 9s 88ms/step - loss: 0.0218 - accuracy: 0.3746 - precision: 0.4337 - recall: 0.9783 - val_loss: 1.4973 - val_accuracy: 0.2053 - val_precision: 0.2581 - val_recall: 0.5272\n",
            "Epoch 86/100\n",
            "101/101 [==============================] - 9s 89ms/step - loss: 0.0216 - accuracy: 0.3746 - precision: 0.4519 - recall: 0.9800 - val_loss: 1.4987 - val_accuracy: 0.2043 - val_precision: 0.2591 - val_recall: 0.5238\n",
            "Epoch 87/100\n",
            "101/101 [==============================] - 9s 90ms/step - loss: 0.0207 - accuracy: 0.3749 - precision: 0.4644 - recall: 0.9803 - val_loss: 1.4972 - val_accuracy: 0.2041 - val_precision: 0.2726 - val_recall: 0.5243\n",
            "Epoch 88/100\n",
            "101/101 [==============================] - 9s 88ms/step - loss: 0.0209 - accuracy: 0.3750 - precision: 0.4604 - recall: 0.9814 - val_loss: 1.5041 - val_accuracy: 0.2034 - val_precision: 0.2647 - val_recall: 0.5254\n",
            "Epoch 89/100\n",
            "101/101 [==============================] - 9s 90ms/step - loss: 0.0214 - accuracy: 0.3744 - precision: 0.4558 - recall: 0.9791 - val_loss: 1.5054 - val_accuracy: 0.2013 - val_precision: 0.2755 - val_recall: 0.5171\n",
            "Epoch 90/100\n",
            "101/101 [==============================] - 9s 89ms/step - loss: 0.0188 - accuracy: 0.3753 - precision: 0.4547 - recall: 0.9829 - val_loss: 1.5077 - val_accuracy: 0.2032 - val_precision: 0.2523 - val_recall: 0.5235\n",
            "Epoch 91/100\n",
            "101/101 [==============================] - 9s 88ms/step - loss: 0.0207 - accuracy: 0.3746 - precision: 0.4516 - recall: 0.9803 - val_loss: 1.5091 - val_accuracy: 0.2048 - val_precision: 0.2582 - val_recall: 0.5298\n",
            "Epoch 92/100\n",
            "101/101 [==============================] - 9s 88ms/step - loss: 0.0214 - accuracy: 0.3742 - precision: 0.4470 - recall: 0.9791 - val_loss: 1.5061 - val_accuracy: 0.2046 - val_precision: 0.2508 - val_recall: 0.5261\n",
            "Epoch 93/100\n",
            "101/101 [==============================] - 9s 88ms/step - loss: 0.0197 - accuracy: 0.3748 - precision: 0.4375 - recall: 0.9817 - val_loss: 1.5111 - val_accuracy: 0.2064 - val_precision: 0.2629 - val_recall: 0.5310\n",
            "Epoch 94/100\n",
            "101/101 [==============================] - 9s 88ms/step - loss: 0.0194 - accuracy: 0.3747 - precision: 0.4439 - recall: 0.9816 - val_loss: 1.5286 - val_accuracy: 0.2045 - val_precision: 0.2448 - val_recall: 0.5248\n",
            "Epoch 95/100\n",
            "101/101 [==============================] - 9s 88ms/step - loss: 0.0190 - accuracy: 0.3749 - precision: 0.4348 - recall: 0.9825 - val_loss: 1.5224 - val_accuracy: 0.2061 - val_precision: 0.2447 - val_recall: 0.5307\n",
            "Epoch 96/100\n",
            "101/101 [==============================] - 9s 88ms/step - loss: 0.0187 - accuracy: 0.3750 - precision: 0.4348 - recall: 0.9834 - val_loss: 1.5310 - val_accuracy: 0.2049 - val_precision: 0.2482 - val_recall: 0.5263\n",
            "Epoch 97/100\n",
            "101/101 [==============================] - 9s 88ms/step - loss: 0.0183 - accuracy: 0.3751 - precision: 0.4367 - recall: 0.9833 - val_loss: 1.5337 - val_accuracy: 0.2049 - val_precision: 0.2478 - val_recall: 0.5291\n",
            "Epoch 98/100\n",
            "101/101 [==============================] - 9s 88ms/step - loss: 0.0192 - accuracy: 0.3748 - precision: 0.4347 - recall: 0.9824 - val_loss: 1.5222 - val_accuracy: 0.2053 - val_precision: 0.2423 - val_recall: 0.5271\n",
            "Epoch 99/100\n",
            "101/101 [==============================] - 9s 88ms/step - loss: 0.0176 - accuracy: 0.3751 - precision: 0.4392 - recall: 0.9848 - val_loss: 1.5296 - val_accuracy: 0.2061 - val_precision: 0.2570 - val_recall: 0.5313\n",
            "Epoch 100/100\n",
            "101/101 [==============================] - 9s 87ms/step - loss: 0.0158 - accuracy: 0.3756 - precision: 0.4442 - recall: 0.9867 - val_loss: 1.5359 - val_accuracy: 0.2049 - val_precision: 0.2400 - val_recall: 0.5292\n"
          ],
          "name": "stdout"
        },
        {
          "output_type": "execute_result",
          "data": {
            "text/plain": [
              "<tensorflow.python.keras.callbacks.History at 0x7f8d1fe22978>"
            ]
          },
          "metadata": {
            "tags": []
          },
          "execution_count": 32
        }
      ]
    },
    {
      "cell_type": "code",
      "metadata": {
        "id": "7ajjUP_hstrS",
        "outputId": "0f5df187-3580-43d7-a0fd-687b00c3f8c3",
        "colab": {
          "base_uri": "https://localhost:8080/",
          "height": 34
        }
      },
      "source": [
        "model_json = model.to_json()\n",
        "with open(\"NMT_model.json\", \"w\") as json_file:\n",
        "    json_file.write(model_json)\n",
        "# serialize weights to HDF5\n",
        "model.save_weights(\"NMT_model_weight.h5\")\n",
        "print(\"Saved model to disk\")"
      ],
      "execution_count": 33,
      "outputs": [
        {
          "output_type": "stream",
          "text": [
            "Saved model to disk\n"
          ],
          "name": "stdout"
        }
      ]
    },
    {
      "cell_type": "code",
      "metadata": {
        "id": "t9r8wcK_strV"
      },
      "source": [
        "# loading the model architecture and asigning the weights\n",
        "json_file = open('NMT_model.json', 'r')\n",
        "loaded_model_json = json_file.read()\n",
        "json_file.close()\n",
        "model_loaded = model_from_json(loaded_model_json, custom_objects={'AttentionLayer': AttentionLayer})\n",
        "# load weights into new model\n",
        "model_loaded.load_weights(\"NMT_model_weight.h5\")"
      ],
      "execution_count": 34,
      "outputs": []
    },
    {
      "cell_type": "code",
      "metadata": {
        "id": "7tOD_nbCstrX",
        "outputId": "ae897561-4dd3-4d17-fded-28eea9dcf47e",
        "colab": {
          "base_uri": "https://localhost:8080/",
          "height": 52
        }
      },
      "source": [
        "# encoder inference\n",
        "encoder_inputs = model_loaded.input[0]  #loading encoder_inputs\n",
        "encoder_outputs, state_h, state_c = model_loaded.layers[6].output #loading encoder_outputs\n",
        "\n",
        "print(encoder_outputs.shape)\n",
        "\n",
        "encoder_model = Model(inputs=encoder_inputs,outputs=[encoder_outputs, state_h, state_c])\n",
        "\n",
        "# decoder inference\n",
        "# Below tensors will hold the states of the previous time step\n",
        "decoder_state_input_h = Input(shape=(latent_dim,))\n",
        "decoder_state_input_c = Input(shape=(latent_dim,))\n",
        "decoder_hidden_state_input = Input(shape=(32,latent_dim))\n",
        "\n",
        "# Get the embeddings of the decoder sequence\n",
        "decoder_inputs = model_loaded.layers[3].output\n",
        "\n",
        "print(decoder_inputs.shape)\n",
        "dec_emb_layer = model_loaded.layers[5]\n",
        "\n",
        "dec_emb2= dec_emb_layer(decoder_inputs)\n",
        "\n",
        "# To predict the next word in the sequence, set the initial states to the states from the previous time step\n",
        "decoder_lstm = model_loaded.layers[7]\n",
        "decoder_outputs2, state_h2, state_c2 = decoder_lstm(dec_emb2, initial_state=[decoder_state_input_h, decoder_state_input_c])\n",
        "\n",
        "#attention inference\n",
        "attn_layer = model_loaded.layers[8]\n",
        "attn_out_inf, attn_states_inf = attn_layer([decoder_hidden_state_input, decoder_outputs2])\n",
        "\n",
        "concate = model_loaded.layers[9]\n",
        "decoder_inf_concat = concate([decoder_outputs2, attn_out_inf])\n",
        "\n",
        "# A dense softmax layer to generate prob dist. over the target vocabulary\n",
        "decoder_dense = model_loaded.layers[10]\n",
        "decoder_outputs2 = decoder_dense(decoder_inf_concat)\n",
        "\n",
        "# Final decoder model\n",
        "decoder_model = Model(\n",
        "[decoder_inputs] + [decoder_hidden_state_input,decoder_state_input_h, decoder_state_input_c],\n",
        "[decoder_outputs2] + [state_h2, state_c2])"
      ],
      "execution_count": 35,
      "outputs": [
        {
          "output_type": "stream",
          "text": [
            "(None, 19, 256)\n",
            "(None, None)\n"
          ],
          "name": "stdout"
        }
      ]
    },
    {
      "cell_type": "code",
      "metadata": {
        "id": "9JxPxjCYstrZ"
      },
      "source": [
        "def decode_sequence(input_seq):\n",
        "    # Encode the input as state vectors.\n",
        "    e_out, e_h, e_c = encoder_model.predict(input_seq)\n",
        "\n",
        "    # Generate empty target sequence of length 1.\n",
        "    target_seq = np.zeros((1,1))\n",
        "\n",
        "    # Populate the first character of \n",
        "    #target sequence with the start character.\n",
        "    target_seq[0, 0] = target_word2idx['START_']\n",
        "\n",
        "# Sampling loop for a batch of sequences\n",
        "    # (to simplify, here we assume a batch of size 1).\n",
        "    stop_condition = False\n",
        "    decoded_sentence = ''\n",
        "\n",
        "    while not stop_condition:\n",
        "        output_tokens, h, c = decoder_model.predict([target_seq] + [e_out, e_h, e_c])\n",
        "        \n",
        "# Sample a token\n",
        "        sampled_token_index = np.argmax(output_tokens[0, -1, :])\n",
        "        sampled_word =target_idx2word[sampled_token_index]\n",
        "        decoded_sentence += ' '+ sampled_word\n",
        "        \n",
        "# Exit condition: either hit max length\n",
        "        # or find stop character.\n",
        "        if (sampled_word == '_END' or\n",
        "           len(decoded_sentence) > 110):\n",
        "            stop_condition = True\n",
        "\n",
        "# Update the target sequence (of length 1).\n",
        "        target_seq = np.zeros((1,1))\n",
        "        target_seq[0, 0] = sampled_token_index\n",
        "\n",
        "# Update states\n",
        "        e_h, e_c = h, c\n",
        "    return decoded_sentence"
      ],
      "execution_count": 36,
      "outputs": []
    },
    {
      "cell_type": "code",
      "metadata": {
        "id": "VfFHzNiFstra"
      },
      "source": [
        "test_gen = generate_batch(X_test, y_test, batch_size = 1)\n",
        "i=-1"
      ],
      "execution_count": 37,
      "outputs": []
    },
    {
      "cell_type": "code",
      "metadata": {
        "id": "2xQ5l26Dstrd",
        "outputId": "3499d98d-61ae-4e59-b464-aa2eae732ea8",
        "colab": {
          "base_uri": "https://localhost:8080/",
          "height": 1000
        }
      },
      "source": [
        "#Make predictions on the test dataset\n",
        "i+= 1\n",
        "for k in range(i,i+40):\n",
        "    #print(\"\\n\",k)\n",
        "    (input_seq, actual_output), _ = next(test_gen)\n",
        "    decoded_sentence = decode_sequence(input_seq)\n",
        "    print('Input Source Question:', X_test[k:k+1].values[0],'?')\n",
        "    print('Actual Target Answer:', y_test[k:k+1].values[0][6:-4])\n",
        "    print('Predicted Target Answer:', decoded_sentence[:-4])\n",
        "    print(\"\\n\")"
      ],
      "execution_count": 38,
      "outputs": [
        {
          "output_type": "stream",
          "text": [
            "WARNING:tensorflow:Model was constructed with shape (None, 32, 256) for input Tensor(\"input_5:0\", shape=(None, 32, 256), dtype=float32), but it was called on an input with incompatible shape (None, 19, 256).\n",
            "Input Source Question: how many people are affected by x linked infantile spasm syndrome ?\n",
            "Actual Target Answer:  infantile spasms are estimated to affect to in individuals \n",
            "Predicted Target Answer:  tthe precise incidence of x linked infantile nystagmus is unknown \n",
            "\n",
            "\n",
            "Input Source Question: how many people are affected by mcleod neuroacanthocytosis syndrome ?\n",
            "Actual Target Answer:  syndrome is rare approximately cases worldwide \n",
            "Predicted Target Answer:  the prevalence of myoclonus dystonia is unknown \n",
            "\n",
            "\n",
            "Input Source Question: what is are malignant migrating partial seizures of infancy ?\n",
            "Actual Target Answer:  a severe form of epilepsy that begins very early in life \n",
            "Predicted Target Answer:  a disorder that characterized by type of several characterized characterized by movement in the mainly of the \n",
            "\n",
            "\n",
            "Input Source Question: what are the treatments for wolf hirschhorn syndrome ?\n",
            "Actual Target Answer:  diagnostic tests drug therapy surgery and rehabilitation genetic counseling \n",
            "Predicted Target Answer:  diagnostic tests drug therapy surgery and rehabilitation genetic counseling palliative care \n",
            "\n",
            "\n",
            "Input Source Question: what is male breast cancer ?\n",
            "Actual Target Answer:  a rare cancer that forms in the breast tissue of men \n",
            "Predicted Target Answer:  a type of cancer that affects the bone marrow and the developing cord of the disease \n",
            "\n",
            "\n",
            "Input Source Question: how many people are affected by harlequin ichthyosis ?\n",
            "Actual Target Answer:  harlequin ichthyosis is very rare its exact incidence is unknown \n",
            "Predicted Target Answer:  the prevalence of heterotaxy syndrome is estimated to be in people worldwide \n",
            "\n",
            "\n",
            "Input Source Question: what is are q minus syndrome ?\n",
            "Actual Target Answer:  a type of bone marrow disorder called myelodysplastic syndrome \n",
            "Predicted Target Answer:  a chromosomal change in which a small piece of chromosome is deleted in each cell \n",
            "\n",
            "\n",
            "Input Source Question: what are the genetic changes related to alagille syndrome ?\n",
            "Actual Target Answer:  in more than percent of cases mutations in the jag gene cause alagille syndrome \n",
            "Predicted Target Answer:  l syndrome is caused by mutations in the lcam gene \n",
            "\n",
            "\n",
            "Input Source Question: what is are abdominal wall defect ?\n",
            "Actual Target Answer:  an abdominal wall defect is an opening in the abdomen through which various abdominal organs \n",
            "Predicted Target Answer:  an inherited disorder in which the body is unable to process certain protein building block properly \n",
            "\n",
            "\n",
            "Input Source Question: what are the genetic changes related to q deletion syndrome ?\n",
            "Actual Target Answer:  missing a sequence of about million dna building blocks on one copy of chromosome in each cell \n",
            "Predicted Target Answer:  q deletion syndrome is caused by a deletion of genetic material from the long arm of chromosome \n",
            "\n",
            "\n",
            "Input Source Question: is hashimoto thyroiditis inherited ?\n",
            "Actual Target Answer:  the inheritance pattern of hashimoto thyroiditis is unclear \n",
            "Predicted Target Answer:  the inheritance pattern of gpa is unknown \n",
            "\n",
            "\n",
            "Input Source Question: how many people are affected by x linked lymphoproliferative disease ?\n",
            "Actual Target Answer:  xlp is estimated to occur in about per million males worldwide \n",
            "Predicted Target Answer:  the exact incidence of x linked is estimated to per million individuals \n",
            "\n",
            "\n",
            "Input Source Question: what are the treatments for glycogen storage disease type iii ?\n",
            "Actual Target Answer:  drug therapy surgery palliative care chemotherapy radiation therapy \n",
            "Predicted Target Answer:  drug therapy surgery palliative care chemotherapy radiation therapy \n",
            "\n",
            "\n",
            "Input Source Question: what is are dysgraphia ?\n",
            "Actual Target Answer:  dysgraphia is a neurological disorder characterized by writing disabilities \n",
            "Predicted Target Answer:  dermatomyositis is one of a group of muscle diseases known as the inflammatory myopathies \n",
            "\n",
            "\n",
            "Input Source Question: what are the treatments for hereditary folate malabsorption ?\n",
            "Actual Target Answer:  drug therapy surgery palliative care chemotherapy radiation therapy \n",
            "Predicted Target Answer:  drug therapy surgery palliative care chemotherapy radiation therapy \n",
            "\n",
            "\n",
            "Input Source Question: what are the treatments for hypopharyngeal cancer ?\n",
            "Actual Target Answer:  surgery radiation therapy chemotherapy \n",
            "Predicted Target Answer:  surgery radiation therapy chemotherapy biologic therapy \n",
            "\n",
            "\n",
            "Input Source Question: what are the genetic changes related to gastrointestinal stromal tumor ?\n",
            "Actual Target Answer:  percent of cases are associated with a mutation in kit gene \n",
            "Predicted Target Answer:  mutations in the adamts gene cause the familial form of thrombotic thrombocytopenic purpura \n",
            "\n",
            "\n",
            "Input Source Question: what are the treatments for uromodulin associated kidney disease ?\n",
            "Actual Target Answer:  diagnostic tests drug therapy genetic counseling \n",
            "Predicted Target Answer:  diagnostic tests drug therapy surgery and rehabilitation genetic counseling palliative care \n",
            "\n",
            "\n",
            "Input Source Question: what is are prostate cancer ?\n",
            "Actual Target Answer:  tumors can be benign which means prostate cancer occurs when a tumor forms in the tissue of the prostate \n",
            "Predicted Target Answer:  a type of cancer that affects the tissues of the brain \n",
            "\n",
            "\n",
            "Input Source Question: what are the treatments for glanzmann thrombasthenia ?\n",
            "Actual Target Answer:  drug therapy surgery palliative care chemotherapy radiation therapy \n",
            "Predicted Target Answer:  there is currently no effective cure or treatment for friedreich&apos s ataxia \n",
            "\n",
            "\n",
            "Input Source Question: what are the treatments for glutaric acidemia type ii ?\n",
            "Actual Target Answer:  drug therapy surgery palliative care chemotherapy radiation therapy \n",
            "Predicted Target Answer:  drug therapy surgery palliative care chemotherapy radiation therapy \n",
            "\n",
            "\n",
            "Input Source Question: is nail patella syndrome inherited ?\n",
            "Actual Target Answer:  nail patella syndrome is inherited in an autosomal dominant pattern \n",
            "Predicted Target Answer:  werner syndrome is inherited in an autosomal recessive pattern \n",
            "\n",
            "\n",
            "Input Source Question: what are the genetic changes related to narcolepsy ?\n",
            "Actual Target Answer:  a combination of genetic and environmental factors some of which have been identified \n",
            "Predicted Target Answer:  mutations in the hexb gene cause sandhoff disease \n",
            "\n",
            "\n",
            "Input Source Question: is rett syndrome inherited ?\n",
            "Actual Target Answer:  in more than percent of people with rett syndrome there is no history of the disorder in their family \n",
            "Predicted Target Answer:  most cases of laron syndrome are inherited in an autosomal recessive pattern \n",
            "\n",
            "\n",
            "Input Source Question: is methylglutaconyl coa hydratase deficiency inherited ?\n",
            "Actual Target Answer:  this condition is inherited in an autosomal recessive pattern \n",
            "Predicted Target Answer:  this condition is inherited in an x linked recessive pattern \n",
            "\n",
            "\n",
            "Input Source Question: what is the risk for penile cancer ?\n",
            "Actual Target Answer:  human papillomavirus infection smoking smegma \n",
            "Predicted Target Answer:  use of tobacco products and drinking alcohol \n",
            "\n",
            "\n",
            "Input Source Question: what is are problems with taste ?\n",
            "Actual Target Answer:  there is a small decline in taste in people over most older people will not notice \n",
            "Predicted Target Answer:  a rare chronic disease that affects the glossopharyngeal nerve and causes sharp \n",
            "\n",
            "\n",
            "Input Source Question: what are the genetic changes related to schinzel giedion syndrome ?\n",
            "Actual Target Answer:  schinzel giedion syndrome is caused by mutations in the setbp gene \n",
            "Predicted Target Answer:  mutations in the q microdeletion gene cause as rare \n",
            "\n",
            "\n",
            "Input Source Question: what are the treatments for vitamin d dependent rickets ?\n",
            "Actual Target Answer:  diagnostic tests surgery and rehabilitation genetic counseling \n",
            "Predicted Target Answer:  chemotherapy surgery radiation therapy \n",
            "\n",
            "\n",
            "Input Source Question: what is hairy cell leukemia ?\n",
            "Actual Target Answer:  a rare slow growing cancer of the blood in which your bone marrow makes too many b cells lymphocytes \n",
            "Predicted Target Answer:  a disease in which cancer cells form in the tissues of the retina \n",
            "\n",
            "\n",
            "Input Source Question: how to diagnose ovarian epithelial cancer ?\n",
            "Actual Target Answer:  tests that examine the ovaries and pelvic area are used to diagnose ovarian epithelial cancer \n",
            "Predicted Target Answer:  biopsy fine needle aspiration biopsy are used to detect cancer \n",
            "\n",
            "\n",
            "Input Source Question: how to diagnose childhood liver cancer ?\n",
            "Actual Target Answer:  tests that examine the liver and the blood \n",
            "Predicted Target Answer:  diagnosed by examine the liver and the blood \n",
            "\n",
            "\n",
            "Input Source Question: what are the genetic changes related to tangier disease ?\n",
            "Actual Target Answer:  mutations in the abca gene cause tangier disease \n",
            "Predicted Target Answer:  mutations in the sgce gene cause myoclonus dystonia \n",
            "\n",
            "\n",
            "Input Source Question: what is are phosphoribosylpyrophosphate synthetase superactivity ?\n",
            "Actual Target Answer:  characterized by the overproduction and accumulation of uric acid in the blood and urine \n",
            "Predicted Target Answer:  juvenile myoclonic epilepsy is a condition characterized by recurrent seizures \n",
            "\n",
            "\n",
            "Input Source Question: what are the genetic changes related to rheumatoid arthritis ?\n",
            "Actual Target Answer:  rheumatoid arthritis probably results from a combination of genetic and environmental factors \n",
            "Predicted Target Answer:  the cause of mycosis fungoides is unknown \n",
            "\n",
            "\n",
            "Input Source Question: what are the treatments for gilbert syndrome ?\n",
            "Actual Target Answer:  drug therapy surgery palliative care chemotherapy radiation therapy \n",
            "Predicted Target Answer:  diagnostic tests drug therapy surgery and rehabilitation \n",
            "\n",
            "\n",
            "Input Source Question: what is are harlequin ichthyosis ?\n",
            "Actual Target Answer:  harlequin ichthyosis is a severe genetic disorder that mainly affects the skin \n",
            "Predicted Target Answer:  a rare condition characterized by the dramatic rapid appearance of aging beginning in childhood \n",
            "\n",
            "\n",
            "Input Source Question: what is are hereditary sensory neuropathy type ia ?\n",
            "Actual Target Answer:  hereditary sensory neuropathy type ia is a condition characterized by nerve abnormalities in the legs and feet \n",
            "Predicted Target Answer:  hereditary sensory and autonomic neuropathy type ie is a disorder that affects the nervous system \n",
            "\n",
            "\n",
            "Input Source Question: what is are aarskog scott syndrome ?\n",
            "Actual Target Answer:  aarskog scott syndrome is a genetic disorder that affects the development of many parts of the body \n",
            "Predicted Target Answer:  a condition characterized by short stature an unusually small head size \n",
            "\n",
            "\n",
            "Input Source Question: how to diagnose urethral cancer ?\n",
            "Actual Target Answer:  pelvic exam digital rectal exam urine cytology \n",
            "Predicted Target Answer:  diagnosed by eye ultrasound eye exam \n",
            "\n",
            "\n"
          ],
          "name": "stdout"
        }
      ]
    },
    {
      "cell_type": "code",
      "metadata": {
        "id": "Pb_DFSp1iTRN"
      },
      "source": [
        "#Make predictions on the train dataset\n",
        "\n",
        "train_gen = generate_batch(X_train, y_train, batch_size = 1)\n",
        "x=-1"
      ],
      "execution_count": 39,
      "outputs": []
    },
    {
      "cell_type": "code",
      "metadata": {
        "id": "wqzYkycev2Oy",
        "outputId": "f11cb7c7-1029-42d5-8e9a-2599b597f019",
        "colab": {
          "base_uri": "https://localhost:8080/",
          "height": 1000
        }
      },
      "source": [
        "x+=1\n",
        "for j in range(x,x+40):\n",
        "    (input_seq, actual_output), _ = next(train_gen)\n",
        "    decoded_sentence = decode_sequence(input_seq)\n",
        "    print('Input Source Question:', X_train[j:j+1].values[0],'?')\n",
        "    print('Actual Target Answer:', y_train[j:j+1].values[0][6:-4])\n",
        "    print('Predicted Target Answer:', decoded_sentence[:-4])\n",
        "    print(\"\\n\")"
      ],
      "execution_count": 40,
      "outputs": [
        {
          "output_type": "stream",
          "text": [
            "Input Source Question: what research is being done for adult non hodgkin lymphoma ?\n",
            "Actual Target Answer:  researchers have developed newer drugs for treatments \n",
            "Predicted Target Answer:  researchers have developed newer drugs for treatments \n",
            "\n",
            "\n",
            "Input Source Question: what research is being done for intraocular melanoma ?\n",
            "Actual Target Answer:  researchers are studying the genes proteins and other factors that help the development of the disease \n",
            "Predicted Target Answer:  researchers are studying the genes proteins and other factors that help the development of the disease \n",
            "\n",
            "\n",
            "Input Source Question: what are the genetic changes related to frontometaphyseal dysplasia ?\n",
            "Actual Target Answer:  mutations in the flna gene cause frontometaphyseal dysplasia \n",
            "Predicted Target Answer:  mutations in the flna gene cause frontometaphyseal dysplasia \n",
            "\n",
            "\n",
            "Input Source Question: what are the treatments for q related transient neonatal diabetes mellitus ?\n",
            "Actual Target Answer:  diagnostic tests drug therapy surgery and rehabilitation genetic counseling \n",
            "Predicted Target Answer:  diagnostic tests drug therapy surgery and rehabilitation genetic counseling \n",
            "\n",
            "\n",
            "Input Source Question: what are the genetic changes related to mecp related severe neonatal encephalopathy ?\n",
            "Actual Target Answer:  mutations in the mecp gene cause mecp related severe neonatal encephalopathy \n",
            "Predicted Target Answer:  mutations in the mecp gene cause mecp related severe neonatal encephalopathy \n",
            "\n",
            "\n",
            "Input Source Question: is sting associated vasculopathy with onset in infancy inherited ?\n",
            "Actual Target Answer:  this condition is inherited in an autosomal dominant pattern \n",
            "Predicted Target Answer:  this condition is inherited in an autosomal dominant pattern \n",
            "\n",
            "\n",
            "Input Source Question: what is are histiocytosis lymphadenopathy plus syndrome ?\n",
            "Actual Target Answer:  a group of conditions with overlapping signs and symptoms that affect many parts of the body \n",
            "Predicted Target Answer:  a group of conditions with overlapping signs and symptoms that affect many parts of the body \n",
            "\n",
            "\n",
            "Input Source Question: what are the genetic changes related to von hippel lindau syndrome ?\n",
            "Actual Target Answer:  mutations in the vhl gene cause von hippel lindau syndrome \n",
            "Predicted Target Answer:  mutations in the vhl gene cause von hippel lindau syndrome \n",
            "\n",
            "\n",
            "Input Source Question: what are the genetic changes related to inherited thyroxine binding globulin deficiency ?\n",
            "Actual Target Answer:  inherited thyroxine binding globulin deficiency results from mutations in the serpina gene \n",
            "Predicted Target Answer:  inherited thyroxine binding globulin deficiency results from mutations in the serpina gene \n",
            "\n",
            "\n",
            "Input Source Question: how many people are affected by pompe disease ?\n",
            "Actual Target Answer:  pompe disease affects about in people in the united states \n",
            "Predicted Target Answer:  pompe disease affects about in people in the united states \n",
            "\n",
            "\n",
            "Input Source Question: how many people are affected by trichohepatoenteric syndrome ?\n",
            "Actual Target Answer:  at least cases have been reported in the medical literature \n",
            "Predicted Target Answer:  at least cases have been reported in the medical literature \n",
            "\n",
            "\n",
            "Input Source Question: what is are mecp duplication syndrome ?\n",
            "Actual Target Answer:  a condition that occurs almost exclusively in males and is characterized by moderate to severe intellectual disability \n",
            "Predicted Target Answer:  a condition that occurs almost exclusively in males and is characterized by moderate to severe intellectual disabi\n",
            "\n",
            "\n",
            "Input Source Question: how many people are affected by tk related mitochondrial dna depletion syndrome myopathic form ?\n",
            "Actual Target Answer:  the prevalence of tk mds is unknown \n",
            "Predicted Target Answer:  the prevalence of tk mds is unknown \n",
            "\n",
            "\n",
            "Input Source Question: what are the treatments for lafora progressive myoclonus epilepsy ?\n",
            "Actual Target Answer:  diagnostic tests drug therapy surgery and rehabilitation genetic counseling palliative care \n",
            "Predicted Target Answer:  diagnostic tests drug therapy surgery and rehabilitation genetic counseling palliative care \n",
            "\n",
            "\n",
            "Input Source Question: what is ovarian low malignant potential tumors ?\n",
            "Actual Target Answer:  a disease in which cancer cells form in the tissue covering the ovary \n",
            "Predicted Target Answer:  a disease in which cancer cells form in the tissue covering the ovary \n",
            "\n",
            "\n",
            "Input Source Question: what are the treatments for hereditary leiomyomatosis and renal cell cancer ?\n",
            "Actual Target Answer:  drug therapy surgery palliative care chemotherapy radiation therapy \n",
            "Predicted Target Answer:  drug therapy surgery palliative care chemotherapy radiation therapy \n",
            "\n",
            "\n",
            "Input Source Question: what are the treatments for deep brain stimulation for parkinsons disease ?\n",
            "Actual Target Answer:  unlike previous surgeries for pd dbs involves minimal permanent surgical changes to the brain \n",
            "Predicted Target Answer:  unlike previous surgeries for pd dbs involves minimal permanent surgical changes to the brain \n",
            "\n",
            "\n",
            "Input Source Question: what is the outlook for dravet syndrome ?\n",
            "Actual Target Answer:  as children with dravet syndrome get older their decline in cognitive function stabilizes it improves slightly \n",
            "Predicted Target Answer:  as children with dravet syndrome get older their decline in cognitive function stabilizes it improves slig\n",
            "\n",
            "\n",
            "Input Source Question: how many people are affected by ollier disease ?\n",
            "Actual Target Answer:  ollier disease is estimated to occur in in people \n",
            "Predicted Target Answer:  ollier disease is estimated to occur in in people \n",
            "\n",
            "\n",
            "Input Source Question: what is the risk for hairy cell leukemia ?\n",
            "Actual Target Answer:  the risk for hairy cell leukemia is gender and age \n",
            "Predicted Target Answer:  the risk for hairy cell leukemia is gender and age \n",
            "\n",
            "\n",
            "Input Source Question: what are the treatments for alpha thalassemia x linked intellectual disability syndrome ?\n",
            "Actual Target Answer:  diagnostic tests drug therapy surgery and rehabilitation \n",
            "Predicted Target Answer:  diagnostic tests drug therapy surgery and rehabilitation \n",
            "\n",
            "\n",
            "Input Source Question: is monilethrix inherited ?\n",
            "Actual Target Answer:  monilethrix can have multiple patterns of inheritance \n",
            "Predicted Target Answer:  monilethrix can have multiple patterns of inheritance \n",
            "\n",
            "\n",
            "Input Source Question: what are the treatments for sickle cell disease ?\n",
            "Actual Target Answer:  diagnostic tests drug therapy surgery and rehabilitation genetic counseling \n",
            "Predicted Target Answer:  diagnostic tests drug therapy surgery and rehabilitation genetic counseling \n",
            "\n",
            "\n",
            "Input Source Question: what are the genetic changes related to alkaptonuria ?\n",
            "Actual Target Answer:  the hgd gene provides instructions for making an enzyme called homogentisate oxidase \n",
            "Predicted Target Answer:  the hgd gene provides instructions for making an enzyme called homogentisate oxidase \n",
            "\n",
            "\n",
            "Input Source Question: what are the treatments for whiplash ?\n",
            "Actual Target Answer:  treatment for whiplash may include pain medications nonsteroidal anti inflammatory drugs antidepressants \n",
            "Predicted Target Answer:  treatment for whiplash may include pain medications nonsteroidal anti inflammatory drugs antidepressants \n",
            "\n",
            "\n",
            "Input Source Question: is achondroplasia inherited ?\n",
            "Actual Target Answer:  achondroplasia is inherited in an autosomal dominant pattern \n",
            "Predicted Target Answer:  achondroplasia is inherited in an autosomal dominant pattern \n",
            "\n",
            "\n",
            "Input Source Question: what are the genetic changes related to multicentric osteolysis nodulosis and arthropathy ?\n",
            "Actual Target Answer:  mona results from mutations in the mmp gene \n",
            "Predicted Target Answer:  mona results from mutations in the mmp gene \n",
            "\n",
            "\n",
            "Input Source Question: is wolff parkinson white syndrome inherited ?\n",
            "Actual Target Answer:  most cases of wolff parkinson white syndrome occur in people with no apparent family history of the condition \n",
            "Predicted Target Answer:  most cases of wolff parkinson white syndrome occur in people with no apparent family history of the condition \n",
            "\n",
            "\n",
            "Input Source Question: is leydig cell hypoplasia inherited ?\n",
            "Actual Target Answer:  mutations in the lhcgr gene cause leydig cell hypoplasia \n",
            "Predicted Target Answer:  mutations in the lhcgr gene cause leydig cell hypoplasia \n",
            "\n",
            "\n",
            "Input Source Question: how many people are affected by walker warburg syndrome ?\n",
            "Actual Target Answer:  walker warburg syndrome is estimated to affect in newborns worldwide \n",
            "Predicted Target Answer:  walker warburg syndrome is estimated to occur in newborns in newborns \n",
            "\n",
            "\n",
            "Input Source Question: is surfactant dysfunction inherited ?\n",
            "Actual Target Answer:  surfactant dysfunction can have different inheritance patterns depending on its genetic cause \n",
            "Predicted Target Answer:  surfactant dysfunction can have different inheritance patterns depending on its genetic cause \n",
            "\n",
            "\n",
            "Input Source Question: what is are thanatophoric dysplasia ?\n",
            "Actual Target Answer:  a severe skeletal disorder characterized by extremely short limbs and folds of extra skin on the arms and legs \n",
            "Predicted Target Answer:  a severe skeletal disorder characterized by extremely short limbs and folds of extra skin on the arms and \n",
            "\n",
            "\n",
            "Input Source Question: what are the genetic changes related to meige disease ?\n",
            "Actual Target Answer:  the cause of meige disease is unknown \n",
            "Predicted Target Answer:  cat gene cause most cases of porphyria called the particular of the disorder \n",
            "\n",
            "\n",
            "Input Source Question: what are the genetic changes related to infantile systemic hyalinosis ?\n",
            "Actual Target Answer:  mutations in the antxr gene cause infantile systemic hyalinosis \n",
            "Predicted Target Answer:  mutations in the antxr gene cause infantile systemic hyalinosis \n",
            "\n",
            "\n",
            "Input Source Question: what is are lacrimo auriculo dento digital syndrome ?\n",
            "Actual Target Answer:  ladd syndrome is a genetic disorder that mainly affects the eyes ears mouth and hands \n",
            "Predicted Target Answer:  ladd syndrome is a genetic disorder that mainly affects the eyes ears mouth and hands \n",
            "\n",
            "\n",
            "Input Source Question: what are the genetic changes related to meier gorlin syndrome ?\n",
            "Actual Target Answer:  meier gorlin syndrome can be caused by mutations in one of several genes \n",
            "Predicted Target Answer:  meier gorlin syndrome can be caused by mutations in one of several genes \n",
            "\n",
            "\n",
            "Input Source Question: is langerhans cell histiocytosis inherited ?\n",
            "Actual Target Answer:  usually not inherited and typically occurs in people with no history of the disorder in their family \n",
            "Predicted Target Answer:  usually not inherited and typically occurs in people with no history of the disorder in their family \n",
            "\n",
            "\n",
            "Input Source Question: what are the genetic changes related to adiposis dolorosa ?\n",
            "Actual Target Answer:  the cause of adiposis dolorosa is unknown \n",
            "Predicted Target Answer:  the cause of adiposis dolorosa is unknown \n",
            "\n",
            "\n",
            "Input Source Question: what are the genetic changes related to leydig cell hypoplasia ?\n",
            "Actual Target Answer:  leydig cell hypoplasia is a condition that affects male sexual development \n",
            "Predicted Target Answer:  leydig cell hypoplasia is a condition that affects male sexual development \n",
            "\n",
            "\n",
            "Input Source Question: what are the treatments for thymoma and thymic carcinoma ?\n",
            "Actual Target Answer:  surgery radiation therapy hormone therapy \n",
            "Predicted Target Answer:  surgery radiation therapy hormone therapy \n",
            "\n",
            "\n"
          ],
          "name": "stdout"
        }
      ]
    }
  ]
}