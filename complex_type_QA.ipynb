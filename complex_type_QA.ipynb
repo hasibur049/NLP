{
  "nbformat": 4,
  "nbformat_minor": 0,
  "metadata": {
    "colab": {
      "name": "complex_type_QA.ipynb",
      "provenance": [],
      "collapsed_sections": [],
      "include_colab_link": true
    },
    "kernelspec": {
      "name": "python3",
      "display_name": "Python 3"
    }
  },
  "cells": [
    {
      "cell_type": "markdown",
      "metadata": {
        "id": "view-in-github",
        "colab_type": "text"
      },
      "source": [
        "<a href=\"https://colab.research.google.com/github/hasiburrahman1/NLP/blob/master/complex_type_QA.ipynb\" target=\"_parent\"><img src=\"https://colab.research.google.com/assets/colab-badge.svg\" alt=\"Open In Colab\"/></a>"
      ]
    },
    {
      "cell_type": "code",
      "metadata": {
        "id": "4EIq8vUx7Xyh",
        "colab_type": "code",
        "colab": {
          "base_uri": "https://localhost:8080/",
          "height": 34
        },
        "outputId": "8ce544bb-4b75-4506-c8c0-3e02a09519e2"
      },
      "source": [
        "from google.colab import drive\n",
        "drive.mount('/content/drive')"
      ],
      "execution_count": 238,
      "outputs": [
        {
          "output_type": "stream",
          "text": [
            "Drive already mounted at /content/drive; to attempt to forcibly remount, call drive.mount(\"/content/drive\", force_remount=True).\n"
          ],
          "name": "stdout"
        }
      ]
    },
    {
      "cell_type": "code",
      "metadata": {
        "id": "zESkDF3bbokn",
        "colab_type": "code",
        "colab": {}
      },
      "source": [
        "import numpy as np \n",
        "import pandas as pd \n",
        "import os\n",
        "import re\n",
        "import matplotlib.pyplot as plt\n",
        "import xml.etree.ElementTree as et \n",
        "from tensorflow.python.keras.preprocessing.text import Tokenizer\n",
        "from tensorflow.python.keras.preprocessing.sequence import pad_sequences\n",
        "from keras.models import Sequential\n",
        "from keras.layers import Dense, Activation, Embedding, SimpleRNN, GRU, LSTM, Bidirectional, Dropout, Input, Conv2D, MaxPool2D\n",
        "from keras.layers.embeddings import Embedding\n",
        "from keras.initializers import Constant\n",
        "from keras.callbacks import ModelCheckpoint\n",
        "from keras.models import load_model\n",
        "from keras.layers import Reshape, Flatten, Dropout, Concatenate\n",
        "from keras.optimizers import Adam\n",
        "from keras.models import Model\n",
        "from keras.layers.convolutional import Conv1D\n",
        "from keras.layers import Conv1D, Dense, MaxPool1D, Flatten, Input, GlobalMaxPooling1D"
      ],
      "execution_count": 239,
      "outputs": []
    },
    {
      "cell_type": "code",
      "metadata": {
        "id": "HJaUPyNVczAF",
        "colab_type": "code",
        "colab": {}
      },
      "source": [
        "from __future__ import absolute_import, division, print_function, unicode_literals\n",
        "\n",
        "import matplotlib.pyplot as plt\n",
        "import matplotlib.ticker as ticker\n",
        "from sklearn.model_selection import train_test_split\n",
        "import tensorflow as tf\n",
        "import collections\n",
        "import unicodedata\n",
        "import re\n",
        "import numpy as np\n",
        "import os\n",
        "import io\n",
        "import time\n",
        "import xlrd\n",
        "import csv"
      ],
      "execution_count": 240,
      "outputs": []
    },
    {
      "cell_type": "code",
      "metadata": {
        "id": "VNe1S5OIb5ig",
        "colab_type": "code",
        "colab": {
          "base_uri": "https://localhost:8080/",
          "height": 34
        },
        "outputId": "bc97b585-2509-4f4c-e62f-3daaf9ba07de"
      },
      "source": [
        "from google.colab import drive\n",
        "drive.mount('/content/drive')"
      ],
      "execution_count": 241,
      "outputs": [
        {
          "output_type": "stream",
          "text": [
            "Drive already mounted at /content/drive; to attempt to forcibly remount, call drive.mount(\"/content/drive\", force_remount=True).\n"
          ],
          "name": "stdout"
        }
      ]
    },
    {
      "cell_type": "code",
      "metadata": {
        "id": "YDEotyU0eK1V",
        "colab_type": "code",
        "colab": {
          "base_uri": "https://localhost:8080/",
          "height": 35
        },
        "outputId": "fa96aa03-fa09-4c95-c1c5-659f9c39e356"
      },
      "source": [
        "'''\n",
        "cols_to_use = ['Question', 'Answer'] # or [0,1,2,3]\n",
        "df = pd.read_csv('data.csv', usecols= cols_to_use)\n",
        "'''"
      ],
      "execution_count": 242,
      "outputs": [
        {
          "output_type": "execute_result",
          "data": {
            "application/vnd.google.colaboratory.intrinsic": {
              "type": "string"
            },
            "text/plain": [
              "\"\\ncols_to_use = ['Question', 'Answer'] # or [0,1,2,3]\\ndf = pd.read_csv('data.csv', usecols= cols_to_use)\\n\""
            ]
          },
          "metadata": {
            "tags": []
          },
          "execution_count": 242
        }
      ]
    },
    {
      "cell_type": "code",
      "metadata": {
        "id": "PippEx4sk81E",
        "colab_type": "code",
        "colab": {
          "base_uri": "https://localhost:8080/",
          "height": 71
        },
        "outputId": "f29505b2-bc12-4d10-c454-e482e51688c4"
      },
      "source": [
        "'''\n",
        "mport pandas\n",
        "df = pandas.read_excel(r\"/test.xlsx\")\n",
        "df = df.drop('label', 1)\n",
        "#print the column names\n",
        "print(df.columns)\n",
        "\n",
        "#get the values for a given column\n",
        "#values = df['collumn_name'].values\n",
        "\n",
        "#get a data frame with selected columns\n",
        "FORMAT = ['Question', 'Answer']\n",
        "df_selected = df[FORMAT]\n",
        "\n",
        "\n",
        "df.to_csv('dataset_csv.csv')\n",
        "!cp dataset_csv.csv \"drive/My Drive/\"\n",
        "\n",
        "df.describe()\n",
        "'''"
      ],
      "execution_count": 243,
      "outputs": [
        {
          "output_type": "execute_result",
          "data": {
            "application/vnd.google.colaboratory.intrinsic": {
              "type": "string"
            },
            "text/plain": [
              "'\\nmport pandas\\ndf = pandas.read_excel(r\"/test.xlsx\")\\ndf = df.drop(\\'label\\', 1)\\n#print the column names\\nprint(df.columns)\\n\\n#get the values for a given column\\n#values = df[\\'collumn_name\\'].values\\n\\n#get a data frame with selected columns\\nFORMAT = [\\'Question\\', \\'Answer\\']\\ndf_selected = df[FORMAT]\\n\\n\\ndf.to_csv(\\'dataset_csv.csv\\')\\n!cp dataset_csv.csv \"drive/My Drive/\"\\n\\ndf.describe()\\n'"
            ]
          },
          "metadata": {
            "tags": []
          },
          "execution_count": 243
        }
      ]
    },
    {
      "cell_type": "markdown",
      "metadata": {
        "id": "BClueJRP0GrD",
        "colab_type": "text"
      },
      "source": [
        "---------------------------**Start**-------------------------------------------------------------------------------------------------------------------------------------"
      ]
    },
    {
      "cell_type": "code",
      "metadata": {
        "id": "ArvtQm2Ar4ER",
        "colab_type": "code",
        "colab": {}
      },
      "source": [
        "# dataset path\n",
        "#path_to_file = \"/datasetCleaned.txt\"\n",
        "path_to_file = \"/content/drive/My Drive/Colab Notebooks/dataset/test_Text_Document.txt\""
      ],
      "execution_count": 244,
      "outputs": []
    },
    {
      "cell_type": "code",
      "metadata": {
        "id": "4zxeGMUjieLv",
        "colab_type": "code",
        "colab": {}
      },
      "source": [
        ""
      ],
      "execution_count": 244,
      "outputs": []
    },
    {
      "cell_type": "code",
      "metadata": {
        "id": "PhJ9kSaxz9ej",
        "colab_type": "code",
        "colab": {}
      },
      "source": [
        "def preprocess_sentence(w):\n",
        "#     remove punctuations from lines\n",
        "    w = re.sub(r\"([?.!,¿।])\", r\" \\1 \", w)\n",
        "    w = re.sub(r'[\" \"]+', \" \", w)\n",
        "    \n",
        "    w = w.rstrip().strip()\n",
        "    #print(w)\n",
        "    # adding a start and an end token to the sentence\n",
        "    # so that the model know when to start and stop predicting.\n",
        "    w = '<start> ' + w + ' <end>'\n",
        "    #print(w)\n",
        "    return w"
      ],
      "execution_count": 245,
      "outputs": []
    },
    {
      "cell_type": "code",
      "metadata": {
        "id": "JBJnP9_Az42-",
        "colab_type": "code",
        "colab": {}
      },
      "source": [
        "def vocabularyCounter(dataQuestion, dataAnswer):\n",
        "    # setup Vocabulary \n",
        "    question_words = collections.Counter([word for sentence in dataQuestion for word in sentence.split()])\n",
        "    answer_words = collections.Counter([word for sentence in dataAnswer for word in sentence.split()])\n",
        "    \n",
        "    print('Total English words: {}'.format(len([word for sentence in dataQuestion for word in sentence.split()])))\n",
        "    print('Unique English words: {}'.format(len(question_words)))\n",
        "    print('Most Common Words: \"' + '\" \"'.join(list(zip(*question_words.most_common(10)))[0]) + '\"\\n')\n",
        "\n",
        "    print('Total Bangla words: {}'.format(len([word for sentence in dataAnswer for word in sentence.split()])))\n",
        "    print('Unique Bangla words: {}'.format(len(answer_words)))\n",
        "    print('Most Common Words: \"' + '\" \"'.join(list(zip(*answer_words.most_common(10)))[0]) + '\"')"
      ],
      "execution_count": 246,
      "outputs": []
    },
    {
      "cell_type": "code",
      "metadata": {
        "id": "Ed6ZnaGgcYwR",
        "colab_type": "code",
        "colab": {}
      },
      "source": [
        "\n",
        "# 1. Remove the accents\n",
        "# 2. Clean the sentences\n",
        "# 3. Return word pairs in the format: [ENGLISH, BANGLA]\n",
        "def create_dataset(path, num_examples):\n",
        "    lines = io.open(path, encoding='UTF-8').read().strip().split('\\n')\n",
        "    \n",
        "    \"\"\"\n",
        "    test test test\n",
        "    \"\"\"\n",
        "    #print(lines)\n",
        "    #print(\"\\n\")\n",
        "    #print(num_examples)\n",
        "    \"\"\"\n",
        "    test test test\n",
        "    \"\"\"\n",
        "\n",
        "    question = []\n",
        "    answer = []\n",
        "    for l in lines[:num_examples]:\n",
        "        #print(l)\n",
        "        w = l.split('\\t')\n",
        "        \"\"\"\n",
        "        test test test\n",
        "        \"\"\"\n",
        "        #print(w)\n",
        "        #print(\"\\n\")\n",
        "        \"\"\"\n",
        "        test test test\n",
        "        \"\"\"\n",
        "        question.append(w[0])\n",
        "        answer.append(w[1])\n",
        "    vocabularyCounter(question, answer) \n",
        "    word_pairs = [[preprocess_sentence(w) for w in l.split('\\t')]  for l in lines[:num_examples]]\n",
        "    #print(word_pairs)\n",
        "#     rearrange dataset src and target\n",
        "    for indd in range(len(word_pairs)):\n",
        "        temp = word_pairs[indd][0]\n",
        "        word_pairs[indd][0] = word_pairs[indd][1]\n",
        "        word_pairs[indd][1] = temp\n",
        "    #print(word_pairs)\n",
        "    return zip(*word_pairs)\n"
      ],
      "execution_count": 247,
      "outputs": []
    },
    {
      "cell_type": "code",
      "metadata": {
        "id": "D03Ndl35ceWm",
        "colab_type": "code",
        "colab": {
          "base_uri": "https://localhost:8080/",
          "height": 141
        },
        "outputId": "01701f1f-41d0-4168-8e05-625798e096c2"
      },
      "source": [
        "# preprocessing function declear and vocabulary checking\n",
        "bn, en = create_dataset(path_to_file, None)\n",
        "\n",
        "#print(\"\\n\\n\", en[4])\n",
        "#print(bn)"
      ],
      "execution_count": 248,
      "outputs": [
        {
          "output_type": "stream",
          "text": [
            "Total English words: 40\n",
            "Unique English words: 9\n",
            "Most Common Words: \"Do\" \"lincRNAs\" \"play\" \"a\" \"role\" \"human\" \"cancer?\" \"1in\" \"in\"\n",
            "\n",
            "Total Bangla words: 66\n",
            "Unique Bangla words: 50\n",
            "Most Common Words: \"lincRNAs\" \"of\" \"and\" \"to\" \"polyadenylation\" \"in\" \"cancer\" \"we\" \"the\" \"Genome-wide\"\n"
          ],
          "name": "stdout"
        }
      ]
    },
    {
      "cell_type": "code",
      "metadata": {
        "id": "ffe8Sh7Pjm5J",
        "colab_type": "code",
        "colab": {
          "base_uri": "https://localhost:8080/",
          "height": 124
        },
        "outputId": "8017c78a-a00c-4a7c-f002-ff68dd7e0504"
      },
      "source": [
        "#function declearation for \n",
        "#     1. length of sentence\n",
        "#https://stackoverflow.com/questions/51956000/what-does-keras-tokenizer-method-exactly-do\n",
        "#https://stackoverflow.com/questions/61661160/comparison-of-tf-keras-preprocessing-text-tokenizer-and-tfds-features-text-tok\n",
        "def max_length(tensor):\n",
        "    return max(len(t) for t in tensor)\n",
        "\n",
        "#     2. tokenizer\n",
        "def tokenize(lang):\n",
        "  lang_tokenizer = tf.keras.preprocessing.text.Tokenizer(\n",
        "      filters='')\n",
        "  lang_tokenizer.fit_on_texts(lang)\n",
        "\n",
        "  tensor = lang_tokenizer.texts_to_sequences(lang)\n",
        "\n",
        "  tensor = tf.keras.preprocessing.sequence.pad_sequences(tensor,\n",
        "                                                         padding='post')\n",
        "\n",
        "  return tensor, lang_tokenizer\n",
        "#     3. load dataset\n",
        "def load_dataset(path, num_examples=None):\n",
        "    # creating cleaned input, output pairs\n",
        "    targ_lang, inp_lang  = create_dataset(path, num_examples)\n",
        "    \n",
        "    input_tensor, inp_lang_tokenizer = tokenize(inp_lang)\n",
        "    target_tensor, targ_lang_tokenizer = tokenize(targ_lang)\n",
        "\n",
        "    return input_tensor, target_tensor, inp_lang_tokenizer, targ_lang_tokenizer\n",
        "'''\n",
        "   Total English words: 40\n",
        "Unique English words: 9\n",
        "Most Common Words: \"Do\" \"lincRNAs\" \"play\" \"a\" \"role\" \"human\" \"cancer?\" \"1in\" \"in\"\n",
        "\n",
        "Total Bangla words: 66\n",
        "Unique Bangla words: 50\n",
        "Most Common Words: \"lincRNAs\" \"of\" \"and\" \"to\" \"polyadenylation\" \"in\" \"cancer\" \"we\" \"the\" \"Genome-wide\"\n",
        "(array([[ 1,  2,  3,  4,  5,  6, 12,  7,  8,  9, 10],\n",
        "        [ 1,  2,  3,  4,  5,  6, 11,  7,  8,  9, 10],\n",
        "        [ 1,  2,  3,  4,  5,  6, 11,  7,  8,  9, 10],\n",
        "        [ 1,  2,  3,  4,  5,  6, 11,  7,  8,  9, 10],\n",
        "        [ 1,  2,  3,  4,  5,  6, 11,  7,  8,  9, 10]], dtype=int32),\n",
        " array([[ 1, 13, 14,  7, 15, 16,  5,  2,  8,  9, 10, 17,  3,  4,  0,  0,\n",
        "          0,  0,  0,  0],\n",
        "        [ 1, 18, 19, 11, 20,  2,  6, 21, 22,  9, 23, 24,  5, 25, 26,  3,\n",
        "          4,  0,  0,  0],\n",
        "        [ 1, 27, 28,  5,  2, 29, 30, 31, 32, 33, 34,  3,  4,  0,  0,  0,\n",
        "          0,  0,  0,  0],\n",
        "        [ 1,  6, 35, 12, 36,  5,  2,  8, 37,  6, 10, 38, 39, 40, 41,  3,\n",
        "          4,  0,  0,  0],\n",
        "        [ 1, 42, 11, 43, 44, 45, 46,  7, 47, 48,  6, 49, 12, 50, 51,  2,\n",
        "          7, 52,  3,  4]], dtype=int32),\n",
        " <keras_preprocessing.text.Tokenizer at 0x7f9045bf34a8>,\n",
        " <keras_preprocessing.text.Tokenizer at 0x7f9045d264a8>)\n",
        " ''' "
      ],
      "execution_count": 249,
      "outputs": [
        {
          "output_type": "execute_result",
          "data": {
            "application/vnd.google.colaboratory.intrinsic": {
              "type": "string"
            },
            "text/plain": [
              "'\\n   Total English words: 40\\nUnique English words: 9\\nMost Common Words: \"Do\" \"lincRNAs\" \"play\" \"a\" \"role\" \"human\" \"cancer?\" \"1in\" \"in\"\\n\\nTotal Bangla words: 66\\nUnique Bangla words: 50\\nMost Common Words: \"lincRNAs\" \"of\" \"and\" \"to\" \"polyadenylation\" \"in\" \"cancer\" \"we\" \"the\" \"Genome-wide\"\\n(array([[ 1,  2,  3,  4,  5,  6, 12,  7,  8,  9, 10],\\n        [ 1,  2,  3,  4,  5,  6, 11,  7,  8,  9, 10],\\n        [ 1,  2,  3,  4,  5,  6, 11,  7,  8,  9, 10],\\n        [ 1,  2,  3,  4,  5,  6, 11,  7,  8,  9, 10],\\n        [ 1,  2,  3,  4,  5,  6, 11,  7,  8,  9, 10]], dtype=int32),\\n array([[ 1, 13, 14,  7, 15, 16,  5,  2,  8,  9, 10, 17,  3,  4,  0,  0,\\n          0,  0,  0,  0],\\n        [ 1, 18, 19, 11, 20,  2,  6, 21, 22,  9, 23, 24,  5, 25, 26,  3,\\n          4,  0,  0,  0],\\n        [ 1, 27, 28,  5,  2, 29, 30, 31, 32, 33, 34,  3,  4,  0,  0,  0,\\n          0,  0,  0,  0],\\n        [ 1,  6, 35, 12, 36,  5,  2,  8, 37,  6, 10, 38, 39, 40, 41,  3,\\n          4,  0,  0,  0],\\n        [ 1, 42, 11, 43, 44, 45, 46,  7, 47, 48,  6, 49, 12, 50, 51,  2,\\n          7, 52,  3,  4]], dtype=int32),\\n <keras_preprocessing.text.Tokenizer at 0x7f9045bf34a8>,\\n <keras_preprocessing.text.Tokenizer at 0x7f9045d264a8>)\\n '"
            ]
          },
          "metadata": {
            "tags": []
          },
          "execution_count": 249
        }
      ]
    },
    {
      "cell_type": "code",
      "metadata": {
        "id": "B4m8uImymjec",
        "colab_type": "code",
        "colab": {
          "base_uri": "https://localhost:8080/",
          "height": 301
        },
        "outputId": "d3c15d81-3c26-4fc2-9353-c7effbeed40b"
      },
      "source": [
        "# Try experimenting with the size of that dataset\n",
        "num_examples = 500\n",
        "input_tensor, target_tensor, inp_lang, targ_lang = load_dataset(path_to_file, num_examples)\n",
        "\n",
        "\n",
        "print(input_tensor)\n",
        "print(\"\\n\")\n",
        "print(inp_lang)\n",
        "\n",
        "\n",
        "# Calculate max_length of the target tensors\n",
        "max_length_targ, max_length_inp = max_length(target_tensor), max_length(input_tensor)\n",
        "\n",
        "# Creating training and validation sets using an 80-20 split\n",
        "input_tensor_train, input_tensor_val, target_tensor_train, target_tensor_val = train_test_split(input_tensor, target_tensor, test_size=0.2)\n",
        "\n",
        "# Show length\n",
        "print(\"Size:- Train_X-\", len(input_tensor_train), \"Train_Y-\", len(target_tensor_train), \"Test_X-\", len(input_tensor_val), \"Test_Y-\", len(target_tensor_val))"
      ],
      "execution_count": 250,
      "outputs": [
        {
          "output_type": "stream",
          "text": [
            "Total English words: 40\n",
            "Unique English words: 9\n",
            "Most Common Words: \"Do\" \"lincRNAs\" \"play\" \"a\" \"role\" \"human\" \"cancer?\" \"1in\" \"in\"\n",
            "\n",
            "Total Bangla words: 66\n",
            "Unique Bangla words: 50\n",
            "Most Common Words: \"lincRNAs\" \"of\" \"and\" \"to\" \"polyadenylation\" \"in\" \"cancer\" \"we\" \"the\" \"Genome-wide\"\n",
            "[[ 1  2  3  4  5  6 12  7  8  9 10]\n",
            " [ 1  2  3  4  5  6 11  7  8  9 10]\n",
            " [ 1  2  3  4  5  6 11  7  8  9 10]\n",
            " [ 1  2  3  4  5  6 11  7  8  9 10]\n",
            " [ 1  2  3  4  5  6 11  7  8  9 10]]\n",
            "\n",
            "\n",
            "<keras_preprocessing.text.Tokenizer object at 0x7f9045bfa128>\n",
            "Size:- Train_X- 4 Train_Y- 4 Test_X- 1 Test_Y- 1\n"
          ],
          "name": "stdout"
        }
      ]
    },
    {
      "cell_type": "code",
      "metadata": {
        "id": "HAZehOA41iIA",
        "colab_type": "code",
        "colab": {
          "base_uri": "https://localhost:8080/",
          "height": 1000
        },
        "outputId": "22d99d1f-b1eb-4a99-c27b-c992f1352bf1"
      },
      "source": [
        "# showing example of tokenization\n",
        "def convert(lang, tensor):\n",
        "  for t in tensor:\n",
        "    print(\"t t t\",t)\n",
        "\n",
        "    if t!=0:\n",
        "      print (\"%d ----> %s\" % (t, lang.index_word[t]))\n",
        "    \n",
        "    \n",
        "print (\"Input Language; index to word mapping\")\n",
        "convert(inp_lang, input_tensor_train[0])\n",
        "print ()\n",
        "print (\"Target Language; index to word mapping\")\n",
        "convert(targ_lang, target_tensor_train[0])"
      ],
      "execution_count": 251,
      "outputs": [
        {
          "output_type": "stream",
          "text": [
            "Input Language; index to word mapping\n",
            "t t t 1\n",
            "1 ----> <start>\n",
            "t t t 2\n",
            "2 ----> do\n",
            "t t t 3\n",
            "3 ----> lincrnas\n",
            "t t t 4\n",
            "4 ----> play\n",
            "t t t 5\n",
            "5 ----> a\n",
            "t t t 6\n",
            "6 ----> role\n",
            "t t t 11\n",
            "11 ----> 1in\n",
            "t t t 7\n",
            "7 ----> human\n",
            "t t t 8\n",
            "8 ----> cancer\n",
            "t t t 9\n",
            "9 ----> ?\n",
            "t t t 10\n",
            "10 ----> <end>\n",
            "\n",
            "Target Language; index to word mapping\n",
            "t t t 1\n",
            "1 ----> <start>\n",
            "t t t 18\n",
            "18 ----> as\n",
            "t t t 19\n",
            "19 ----> expected\n",
            "t t t 11\n",
            "11 ----> we\n",
            "t t t 20\n",
            "20 ----> found\n",
            "t t t 2\n",
            "2 ----> lincrnas\n",
            "t t t 6\n",
            "6 ----> to\n",
            "t t t 21\n",
            "21 ----> be\n",
            "t t t 22\n",
            "22 ----> present\n",
            "t t t 9\n",
            "9 ----> in\n",
            "t t t 23\n",
            "23 ----> cd14\n",
            "t t t 24\n",
            "24 ----> monocytes\n",
            "t t t 5\n",
            "5 ----> of\n",
            "t t t 25\n",
            "25 ----> ra\n",
            "t t t 26\n",
            "26 ----> patients\n",
            "t t t 3\n",
            "3 ----> .\n",
            "t t t 4\n",
            "4 ----> <end>\n",
            "t t t 0\n",
            "t t t 0\n",
            "t t t 0\n"
          ],
          "name": "stdout"
        }
      ]
    }
  ]
}