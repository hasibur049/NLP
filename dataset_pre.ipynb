{
  "nbformat": 4,
  "nbformat_minor": 0,
  "metadata": {
    "colab": {
      "name": "dataset_pre.ipynb",
      "provenance": [],
      "collapsed_sections": [],
      "mount_file_id": "1NPP7xqQh1dJq5FHAOjzt4pP4KCN1R3cN",
      "authorship_tag": "ABX9TyMlG5WVyB+2hSm7outKp82v",
      "include_colab_link": true
    },
    "kernelspec": {
      "name": "python3",
      "display_name": "Python 3"
    }
  },
  "cells": [
    {
      "cell_type": "markdown",
      "metadata": {
        "id": "view-in-github",
        "colab_type": "text"
      },
      "source": [
        "<a href=\"https://colab.research.google.com/github/hasiburrahman1/NLP/blob/master/dataset_pre.ipynb\" target=\"_parent\"><img src=\"https://colab.research.google.com/assets/colab-badge.svg\" alt=\"Open In Colab\"/></a>"
      ]
    },
    {
      "cell_type": "code",
      "metadata": {
        "id": "iJ99TZQYfrD8",
        "colab_type": "code",
        "colab": {}
      },
      "source": [
        "import numpy as np \n",
        "import pandas as pd \n",
        "import os\n",
        "import re\n",
        "import matplotlib.pyplot as plt\n",
        "import xml.etree.ElementTree as et \n",
        "from tensorflow.python.keras.preprocessing.text import Tokenizer\n",
        "from tensorflow.python.keras.preprocessing.sequence import pad_sequences\n",
        "from keras.models import Sequential\n",
        "from keras.layers import Dense, Embedding, GRU, LSTM, Bidirectional\n",
        "from keras.layers.embeddings import Embedding\n",
        "from keras.initializers import Constant\n",
        "from keras.callbacks import ModelCheckpoint\n",
        "from keras.models import load_model"
      ],
      "execution_count": null,
      "outputs": []
    },
    {
      "cell_type": "code",
      "metadata": {
        "id": "Ff9NydPJhjzr",
        "colab_type": "code",
        "colab": {}
      },
      "source": [
        "from __future__ import absolute_import, division, print_function, unicode_literals\n",
        "\n",
        "import matplotlib.pyplot as plt\n",
        "import matplotlib.ticker as ticker\n",
        "from sklearn.model_selection import train_test_split\n",
        "import tensorflow as tf\n",
        "import collections\n",
        "import unicodedata\n",
        "import re\n",
        "import numpy as np\n",
        "import os\n",
        "import io\n",
        "import time\n",
        "import xlrd\n",
        "import csv"
      ],
      "execution_count": null,
      "outputs": []
    },
    {
      "cell_type": "code",
      "metadata": {
        "id": "MkW-MlIbhlzV",
        "colab_type": "code",
        "colab": {}
      },
      "source": [
        "import numpy as np \n",
        "import pandas as pd \n",
        "import os\n",
        "import re\n",
        "import matplotlib.pyplot as plt\n",
        "import xml.etree.ElementTree as et \n",
        "from tensorflow.python.keras.preprocessing.text import Tokenizer\n",
        "from tensorflow.python.keras.preprocessing.sequence import pad_sequences\n",
        "from keras.models import Sequential\n",
        "from keras.layers import Dense, Activation, Embedding, SimpleRNN, GRU, LSTM, Bidirectional, Dropout, Input, Conv2D, MaxPool2D\n",
        "from keras.layers.embeddings import Embedding\n",
        "from keras.initializers import Constant\n",
        "from keras.callbacks import ModelCheckpoint\n",
        "from keras.models import load_model\n",
        "from keras.layers import Reshape, Flatten, Dropout, Concatenate\n",
        "from keras.optimizers import Adam\n",
        "from keras.models import Model\n",
        "from keras.layers.convolutional import Conv1D\n",
        "from keras.layers import Conv1D, Dense, MaxPool1D, Flatten, Input, GlobalMaxPooling1D"
      ],
      "execution_count": null,
      "outputs": []
    },
    {
      "cell_type": "code",
      "metadata": {
        "id": "21aHySseAv57",
        "colab_type": "code",
        "colab": {}
      },
      "source": [
        "import os\n",
        "import csv\n",
        "import sklearn\n",
        "import pandas as pd\n",
        "import numpy as np\n",
        "import matplotlib.pyplot as plt\n",
        "import seaborn as sns"
      ],
      "execution_count": null,
      "outputs": []
    },
    {
      "cell_type": "markdown",
      "metadata": {
        "id": "G8QAxoQrDjcC",
        "colab_type": "text"
      },
      "source": [
        "<h1> dataset 1 <h1>"
      ]
    },
    {
      "cell_type": "code",
      "metadata": {
        "id": "F1espHxof-D7",
        "colab_type": "code",
        "colab": {
          "base_uri": "https://localhost:8080/",
          "height": 70
        },
        "outputId": "9492470a-5331-49ea-b940-140bbafb8836"
      },
      "source": [
        "xtree = et.parse(\"/content/drive/My Drive/Colab Notebooks/MedQuAD_3_GHR_QA/joined.xml\")\n",
        "xroot = xtree.getroot()\n",
        "lst = xroot.findall('QAPairs/QAPair')\n",
        "data1 = []\n",
        "data2 = []\n",
        "data3 = []\n",
        "print(len(lst))\n",
        "#print(lst)\n",
        "print(\"\\n\")\n",
        "\n",
        "for item in lst:\n",
        "    for x in item:\n",
        "         if x.get('qtype') != None:\n",
        "            qtype = x.get('qtype')\n",
        "            data1.append(qtype)\n",
        "    Question = item.find('Question').text\n",
        "    data2.append(Question)\n",
        "    Answer = item.find('Answer').text\n",
        "    data3.append(Answer)"
      ],
      "execution_count": null,
      "outputs": [
        {
          "output_type": "stream",
          "text": [
            "5430\n",
            "\n",
            "\n"
          ],
          "name": "stdout"
        }
      ]
    },
    {
      "cell_type": "code",
      "metadata": {
        "id": "S9G_VhU0gB_i",
        "colab_type": "code",
        "colab": {
          "base_uri": "https://localhost:8080/",
          "height": 424
        },
        "outputId": "c1fcb1dd-44fa-4724-b5db-23f9983c090b"
      },
      "source": [
        "df = pd.DataFrame(list(zip(data2, data3)), \n",
        "               columns =['Question', 'Answer']) \n",
        "\n",
        "print(len(df)) \n",
        "df"
      ],
      "execution_count": null,
      "outputs": [
        {
          "output_type": "stream",
          "text": [
            "5430\n"
          ],
          "name": "stdout"
        },
        {
          "output_type": "execute_result",
          "data": {
            "text/html": [
              "<div>\n",
              "<style scoped>\n",
              "    .dataframe tbody tr th:only-of-type {\n",
              "        vertical-align: middle;\n",
              "    }\n",
              "\n",
              "    .dataframe tbody tr th {\n",
              "        vertical-align: top;\n",
              "    }\n",
              "\n",
              "    .dataframe thead th {\n",
              "        text-align: right;\n",
              "    }\n",
              "</style>\n",
              "<table border=\"1\" class=\"dataframe\">\n",
              "  <thead>\n",
              "    <tr style=\"text-align: right;\">\n",
              "      <th></th>\n",
              "      <th>Question</th>\n",
              "      <th>Answer</th>\n",
              "    </tr>\n",
              "  </thead>\n",
              "  <tbody>\n",
              "    <tr>\n",
              "      <th>0</th>\n",
              "      <td>What is (are) Aarskog-Scott syndrome ?</td>\n",
              "      <td>Aarskog-Scott syndrome is a genetic disorder t...</td>\n",
              "    </tr>\n",
              "    <tr>\n",
              "      <th>1</th>\n",
              "      <td>How many people are affected by Aarskog-Scott ...</td>\n",
              "      <td>Aarskog-Scott syndrome is believed to be a rar...</td>\n",
              "    </tr>\n",
              "    <tr>\n",
              "      <th>2</th>\n",
              "      <td>What are the genetic changes related to Aarsko...</td>\n",
              "      <td>Mutations in the FGD1 gene cause some cases of...</td>\n",
              "    </tr>\n",
              "    <tr>\n",
              "      <th>3</th>\n",
              "      <td>Is Aarskog-Scott syndrome inherited ?</td>\n",
              "      <td>Aarskog-Scott syndrome is inherited in an X-li...</td>\n",
              "    </tr>\n",
              "    <tr>\n",
              "      <th>4</th>\n",
              "      <td>What are the treatments for Aarskog-Scott synd...</td>\n",
              "      <td>These resources address the diagnosis or manag...</td>\n",
              "    </tr>\n",
              "    <tr>\n",
              "      <th>...</th>\n",
              "      <td>...</td>\n",
              "      <td>...</td>\n",
              "    </tr>\n",
              "    <tr>\n",
              "      <th>5425</th>\n",
              "      <td>What is (are) 9q22.3 microdeletion ?</td>\n",
              "      <td>9q22.3 microdeletion is a chromosomal change i...</td>\n",
              "    </tr>\n",
              "    <tr>\n",
              "      <th>5426</th>\n",
              "      <td>How many people are affected by 9q22.3 microde...</td>\n",
              "      <td>9q22.3 microdeletion appears to be a rare chro...</td>\n",
              "    </tr>\n",
              "    <tr>\n",
              "      <th>5427</th>\n",
              "      <td>What are the genetic changes related to 9q22.3...</td>\n",
              "      <td>People with a 9q22.3 microdeletion are missing...</td>\n",
              "    </tr>\n",
              "    <tr>\n",
              "      <th>5428</th>\n",
              "      <td>Is 9q22.3 microdeletion inherited ?</td>\n",
              "      <td>9q22.3 microdeletions are inherited in an auto...</td>\n",
              "    </tr>\n",
              "    <tr>\n",
              "      <th>5429</th>\n",
              "      <td>What are the treatments for 9q22.3 microdeleti...</td>\n",
              "      <td>These resources address the diagnosis or manag...</td>\n",
              "    </tr>\n",
              "  </tbody>\n",
              "</table>\n",
              "<p>5430 rows × 2 columns</p>\n",
              "</div>"
            ],
            "text/plain": [
              "                                               Question                                             Answer\n",
              "0                What is (are) Aarskog-Scott syndrome ?  Aarskog-Scott syndrome is a genetic disorder t...\n",
              "1     How many people are affected by Aarskog-Scott ...  Aarskog-Scott syndrome is believed to be a rar...\n",
              "2     What are the genetic changes related to Aarsko...  Mutations in the FGD1 gene cause some cases of...\n",
              "3                 Is Aarskog-Scott syndrome inherited ?  Aarskog-Scott syndrome is inherited in an X-li...\n",
              "4     What are the treatments for Aarskog-Scott synd...  These resources address the diagnosis or manag...\n",
              "...                                                 ...                                                ...\n",
              "5425               What is (are) 9q22.3 microdeletion ?  9q22.3 microdeletion is a chromosomal change i...\n",
              "5426  How many people are affected by 9q22.3 microde...  9q22.3 microdeletion appears to be a rare chro...\n",
              "5427  What are the genetic changes related to 9q22.3...  People with a 9q22.3 microdeletion are missing...\n",
              "5428                Is 9q22.3 microdeletion inherited ?  9q22.3 microdeletions are inherited in an auto...\n",
              "5429  What are the treatments for 9q22.3 microdeleti...  These resources address the diagnosis or manag...\n",
              "\n",
              "[5430 rows x 2 columns]"
            ]
          },
          "metadata": {
            "tags": []
          },
          "execution_count": 148
        }
      ]
    },
    {
      "cell_type": "code",
      "metadata": {
        "id": "uNylKad7sOkQ",
        "colab_type": "code",
        "colab": {}
      },
      "source": [
        "df['QA'] = df[['Question', 'Answer']].astype(str).apply('\\t'.join, axis=1)\n",
        "\n",
        "df.drop(df.columns[[0,1]], axis = 1, inplace = True)"
      ],
      "execution_count": null,
      "outputs": []
    },
    {
      "cell_type": "code",
      "metadata": {
        "id": "Nb6u60-ktW2w",
        "colab_type": "code",
        "colab": {}
      },
      "source": [
        "#df.to_csv(r'dataset_qa.txt', header=None, index=None, sep=' ', mode='a')"
      ],
      "execution_count": null,
      "outputs": []
    },
    {
      "cell_type": "code",
      "metadata": {
        "id": "agAP0xSkDb1s",
        "colab_type": "code",
        "colab": {
          "base_uri": "https://localhost:8080/",
          "height": 406
        },
        "outputId": "bb0f1954-58f4-49cb-b50d-b89722f421c0"
      },
      "source": [
        "df"
      ],
      "execution_count": null,
      "outputs": [
        {
          "output_type": "execute_result",
          "data": {
            "text/html": [
              "<div>\n",
              "<style scoped>\n",
              "    .dataframe tbody tr th:only-of-type {\n",
              "        vertical-align: middle;\n",
              "    }\n",
              "\n",
              "    .dataframe tbody tr th {\n",
              "        vertical-align: top;\n",
              "    }\n",
              "\n",
              "    .dataframe thead th {\n",
              "        text-align: right;\n",
              "    }\n",
              "</style>\n",
              "<table border=\"1\" class=\"dataframe\">\n",
              "  <thead>\n",
              "    <tr style=\"text-align: right;\">\n",
              "      <th></th>\n",
              "      <th>QA</th>\n",
              "    </tr>\n",
              "  </thead>\n",
              "  <tbody>\n",
              "    <tr>\n",
              "      <th>0</th>\n",
              "      <td>What is (are) Aarskog-Scott syndrome ?\\tAarsko...</td>\n",
              "    </tr>\n",
              "    <tr>\n",
              "      <th>1</th>\n",
              "      <td>How many people are affected by Aarskog-Scott ...</td>\n",
              "    </tr>\n",
              "    <tr>\n",
              "      <th>2</th>\n",
              "      <td>What are the genetic changes related to Aarsko...</td>\n",
              "    </tr>\n",
              "    <tr>\n",
              "      <th>3</th>\n",
              "      <td>Is Aarskog-Scott syndrome inherited ?\\tAarskog...</td>\n",
              "    </tr>\n",
              "    <tr>\n",
              "      <th>4</th>\n",
              "      <td>What are the treatments for Aarskog-Scott synd...</td>\n",
              "    </tr>\n",
              "    <tr>\n",
              "      <th>...</th>\n",
              "      <td>...</td>\n",
              "    </tr>\n",
              "    <tr>\n",
              "      <th>5425</th>\n",
              "      <td>What is (are) 9q22.3 microdeletion ?\\t9q22.3 m...</td>\n",
              "    </tr>\n",
              "    <tr>\n",
              "      <th>5426</th>\n",
              "      <td>How many people are affected by 9q22.3 microde...</td>\n",
              "    </tr>\n",
              "    <tr>\n",
              "      <th>5427</th>\n",
              "      <td>What are the genetic changes related to 9q22.3...</td>\n",
              "    </tr>\n",
              "    <tr>\n",
              "      <th>5428</th>\n",
              "      <td>Is 9q22.3 microdeletion inherited ?\\t9q22.3 mi...</td>\n",
              "    </tr>\n",
              "    <tr>\n",
              "      <th>5429</th>\n",
              "      <td>What are the treatments for 9q22.3 microdeleti...</td>\n",
              "    </tr>\n",
              "  </tbody>\n",
              "</table>\n",
              "<p>5430 rows × 1 columns</p>\n",
              "</div>"
            ],
            "text/plain": [
              "                                                     QA\n",
              "0     What is (are) Aarskog-Scott syndrome ?\\tAarsko...\n",
              "1     How many people are affected by Aarskog-Scott ...\n",
              "2     What are the genetic changes related to Aarsko...\n",
              "3     Is Aarskog-Scott syndrome inherited ?\\tAarskog...\n",
              "4     What are the treatments for Aarskog-Scott synd...\n",
              "...                                                 ...\n",
              "5425  What is (are) 9q22.3 microdeletion ?\\t9q22.3 m...\n",
              "5426  How many people are affected by 9q22.3 microde...\n",
              "5427  What are the genetic changes related to 9q22.3...\n",
              "5428  Is 9q22.3 microdeletion inherited ?\\t9q22.3 mi...\n",
              "5429  What are the treatments for 9q22.3 microdeleti...\n",
              "\n",
              "[5430 rows x 1 columns]"
            ]
          },
          "metadata": {
            "tags": []
          },
          "execution_count": 151
        }
      ]
    },
    {
      "cell_type": "markdown",
      "metadata": {
        "id": "3Nw-9V2vARCC",
        "colab_type": "text"
      },
      "source": [
        "<h1>dataset 2<h1>\n",
        "\n"
      ]
    },
    {
      "cell_type": "code",
      "metadata": {
        "id": "gBvo88S1Ab_X",
        "colab_type": "code",
        "colab": {}
      },
      "source": [
        "import tensorflow as tf"
      ],
      "execution_count": null,
      "outputs": []
    },
    {
      "cell_type": "code",
      "metadata": {
        "id": "faW4Mc9JApYt",
        "colab_type": "code",
        "colab": {
          "base_uri": "https://localhost:8080/",
          "height": 34
        },
        "outputId": "c2877c14-afa9-4b36-9178-6e844581016d"
      },
      "source": [
        "from google.colab import drive\n",
        "drive.mount('/content/drive')"
      ],
      "execution_count": null,
      "outputs": [
        {
          "output_type": "stream",
          "text": [
            "Drive already mounted at /content/drive; to attempt to forcibly remount, call drive.mount(\"/content/drive\", force_remount=True).\n"
          ],
          "name": "stdout"
        }
      ]
    },
    {
      "cell_type": "code",
      "metadata": {
        "id": "6L0ucs3GAtDJ",
        "colab_type": "code",
        "colab": {}
      },
      "source": [
        "# import warnings filter\n",
        "from warnings import simplefilter\n",
        "# ignore all future warnings\n",
        "simplefilter(action='ignore', category=FutureWarning)"
      ],
      "execution_count": null,
      "outputs": []
    },
    {
      "cell_type": "code",
      "metadata": {
        "id": "IyFv1nv4A0Ae",
        "colab_type": "code",
        "colab": {}
      },
      "source": [
        "df = pd.read_csv(r\"/content/drive/My Drive/Colab Notebooks/bioasq_manual_100/test.tsv\",sep='\\t',encoding = \"ISO-8859-1\")"
      ],
      "execution_count": null,
      "outputs": []
    },
    {
      "cell_type": "code",
      "metadata": {
        "id": "0f-zwqNiA6pl",
        "colab_type": "code",
        "colab": {
          "base_uri": "https://localhost:8080/",
          "height": 52
        },
        "outputId": "29a43ae4-97aa-4548-b4d9-0b032d026b66"
      },
      "source": [
        "print(\"Number of rows in data =\",df.shape[0])\n",
        "print(\"Number of columns in data =\",df.shape[1])"
      ],
      "execution_count": null,
      "outputs": [
        {
          "output_type": "stream",
          "text": [
            "Number of rows in data = 9064\n",
            "Number of columns in data = 3\n"
          ],
          "name": "stdout"
        }
      ]
    },
    {
      "cell_type": "code",
      "metadata": {
        "id": "7QpwyoPRA_1P",
        "colab_type": "code",
        "colab": {
          "base_uri": "https://localhost:8080/",
          "height": 197
        },
        "outputId": "2cbfc97b-2575-4ac3-ef6b-499132ee1f14"
      },
      "source": [
        "df.head()"
      ],
      "execution_count": null,
      "outputs": [
        {
          "output_type": "execute_result",
          "data": {
            "text/html": [
              "<div>\n",
              "<style scoped>\n",
              "    .dataframe tbody tr th:only-of-type {\n",
              "        vertical-align: middle;\n",
              "    }\n",
              "\n",
              "    .dataframe tbody tr th {\n",
              "        vertical-align: top;\n",
              "    }\n",
              "\n",
              "    .dataframe thead th {\n",
              "        text-align: right;\n",
              "    }\n",
              "</style>\n",
              "<table border=\"1\" class=\"dataframe\">\n",
              "  <thead>\n",
              "    <tr style=\"text-align: right;\">\n",
              "      <th></th>\n",
              "      <th>label</th>\n",
              "      <th>question</th>\n",
              "      <th>answer_candidate</th>\n",
              "    </tr>\n",
              "  </thead>\n",
              "  <tbody>\n",
              "    <tr>\n",
              "      <th>0</th>\n",
              "      <td>0</td>\n",
              "      <td>Do lincRNAs play a role in human cancer?</td>\n",
              "      <td>Genome-wide identification and predictive mode...</td>\n",
              "    </tr>\n",
              "    <tr>\n",
              "      <th>1</th>\n",
              "      <td>0</td>\n",
              "      <td>Do lincRNAs play a role in human cancer?</td>\n",
              "      <td>As expected we found lincRNAs to be present in...</td>\n",
              "    </tr>\n",
              "    <tr>\n",
              "      <th>2</th>\n",
              "      <td>0</td>\n",
              "      <td>Do lincRNAs play a role in human cancer?</td>\n",
              "      <td>Functional relevance of lincRNAs was further e...</td>\n",
              "    </tr>\n",
              "    <tr>\n",
              "      <th>3</th>\n",
              "      <td>0</td>\n",
              "      <td>Do lincRNAs play a role in human cancer?</td>\n",
              "      <td>To date the mechanism of lincRNAs polyadenylat...</td>\n",
              "    </tr>\n",
              "    <tr>\n",
              "      <th>4</th>\n",
              "      <td>0</td>\n",
              "      <td>Do lincRNAs play a role in human cancer?</td>\n",
              "      <td>The functional impact of several long intergen...</td>\n",
              "    </tr>\n",
              "  </tbody>\n",
              "</table>\n",
              "</div>"
            ],
            "text/plain": [
              "   label  ...                                   answer_candidate\n",
              "0      0  ...  Genome-wide identification and predictive mode...\n",
              "1      0  ...  As expected we found lincRNAs to be present in...\n",
              "2      0  ...  Functional relevance of lincRNAs was further e...\n",
              "3      0  ...  To date the mechanism of lincRNAs polyadenylat...\n",
              "4      0  ...  The functional impact of several long intergen...\n",
              "\n",
              "[5 rows x 3 columns]"
            ]
          },
          "metadata": {
            "tags": []
          },
          "execution_count": 157
        }
      ]
    },
    {
      "cell_type": "code",
      "metadata": {
        "id": "sZgPcfXFBkg5",
        "colab_type": "code",
        "colab": {}
      },
      "source": [
        "df.drop(df.columns[[0]], axis = 1, inplace = True)"
      ],
      "execution_count": null,
      "outputs": []
    },
    {
      "cell_type": "code",
      "metadata": {
        "id": "tb7y4GWBBD3C",
        "colab_type": "code",
        "colab": {}
      },
      "source": [
        "df = df.drop_duplicates(subset='question')"
      ],
      "execution_count": null,
      "outputs": []
    },
    {
      "cell_type": "code",
      "metadata": {
        "id": "dzYjXzjSBWE8",
        "colab_type": "code",
        "colab": {
          "base_uri": "https://localhost:8080/",
          "height": 52
        },
        "outputId": "2221962f-48e8-4459-f030-16d45bf8cc3d"
      },
      "source": [
        "print(\"Number of rows in data =\",df.shape[0])\n",
        "print(\"Number of columns in data =\",df.shape[1])"
      ],
      "execution_count": null,
      "outputs": [
        {
          "output_type": "stream",
          "text": [
            "Number of rows in data = 100\n",
            "Number of columns in data = 2\n"
          ],
          "name": "stdout"
        }
      ]
    },
    {
      "cell_type": "code",
      "metadata": {
        "id": "GMWs6Ti2BeYP",
        "colab_type": "code",
        "colab": {}
      },
      "source": [
        "df['QA'] = df[['question', 'answer_candidate']].astype(str).apply('\\t'.join, axis=1)\n",
        "df.drop(df.columns[[0,1]], axis = 1, inplace = True)\n",
        "\n",
        "\n"
      ],
      "execution_count": null,
      "outputs": []
    },
    {
      "cell_type": "code",
      "metadata": {
        "id": "j-PDhrXnCkPN",
        "colab_type": "code",
        "colab": {}
      },
      "source": [
        ""
      ],
      "execution_count": null,
      "outputs": []
    },
    {
      "cell_type": "code",
      "metadata": {
        "id": "cFNHdLnMCwbY",
        "colab_type": "code",
        "colab": {}
      },
      "source": [
        "#df.to_csv(r'QA_complex_type.txt', header=None, index=None, sep=' ', mode='a')"
      ],
      "execution_count": null,
      "outputs": []
    },
    {
      "cell_type": "code",
      "metadata": {
        "id": "kCJxj6B-C7Pn",
        "colab_type": "code",
        "colab": {
          "base_uri": "https://localhost:8080/",
          "height": 406
        },
        "outputId": "c663072c-9ce6-4264-d7e6-4c3150fe8d83"
      },
      "source": [
        "df"
      ],
      "execution_count": null,
      "outputs": [
        {
          "output_type": "execute_result",
          "data": {
            "text/html": [
              "<div>\n",
              "<style scoped>\n",
              "    .dataframe tbody tr th:only-of-type {\n",
              "        vertical-align: middle;\n",
              "    }\n",
              "\n",
              "    .dataframe tbody tr th {\n",
              "        vertical-align: top;\n",
              "    }\n",
              "\n",
              "    .dataframe thead th {\n",
              "        text-align: right;\n",
              "    }\n",
              "</style>\n",
              "<table border=\"1\" class=\"dataframe\">\n",
              "  <thead>\n",
              "    <tr style=\"text-align: right;\">\n",
              "      <th></th>\n",
              "      <th>QA</th>\n",
              "    </tr>\n",
              "  </thead>\n",
              "  <tbody>\n",
              "    <tr>\n",
              "      <th>0</th>\n",
              "      <td>Do lincRNAs play a role in human cancer?\\tGeno...</td>\n",
              "    </tr>\n",
              "    <tr>\n",
              "      <th>100</th>\n",
              "      <td>What is the usefulness of ultraconserved eleme...</td>\n",
              "    </tr>\n",
              "    <tr>\n",
              "      <th>200</th>\n",
              "      <td>Which proteins act as histone-like molecules i...</td>\n",
              "    </tr>\n",
              "    <tr>\n",
              "      <th>300</th>\n",
              "      <td>What is Tn-seq?\\tTn-seq is a technique that al...</td>\n",
              "    </tr>\n",
              "    <tr>\n",
              "      <th>307</th>\n",
              "      <td>How many different mutations have been associa...</td>\n",
              "    </tr>\n",
              "    <tr>\n",
              "      <th>...</th>\n",
              "      <td>...</td>\n",
              "    </tr>\n",
              "    <tr>\n",
              "      <th>8564</th>\n",
              "      <td>Which proteins have been identified as RET lig...</td>\n",
              "    </tr>\n",
              "    <tr>\n",
              "      <th>8664</th>\n",
              "      <td>Which fusion protein is involved in the develo...</td>\n",
              "    </tr>\n",
              "    <tr>\n",
              "      <th>8764</th>\n",
              "      <td>What is the molecular pathogenesis of Spinal M...</td>\n",
              "    </tr>\n",
              "    <tr>\n",
              "      <th>8864</th>\n",
              "      <td>What is the role of TRH in hypertension?\\tAs w...</td>\n",
              "    </tr>\n",
              "    <tr>\n",
              "      <th>8964</th>\n",
              "      <td>What is the method FASP used for?\\tWe conclude...</td>\n",
              "    </tr>\n",
              "  </tbody>\n",
              "</table>\n",
              "<p>100 rows × 1 columns</p>\n",
              "</div>"
            ],
            "text/plain": [
              "                                                     QA\n",
              "0     Do lincRNAs play a role in human cancer?\\tGeno...\n",
              "100   What is the usefulness of ultraconserved eleme...\n",
              "200   Which proteins act as histone-like molecules i...\n",
              "300   What is Tn-seq?\\tTn-seq is a technique that al...\n",
              "307   How many different mutations have been associa...\n",
              "...                                                 ...\n",
              "8564  Which proteins have been identified as RET lig...\n",
              "8664  Which fusion protein is involved in the develo...\n",
              "8764  What is the molecular pathogenesis of Spinal M...\n",
              "8864  What is the role of TRH in hypertension?\\tAs w...\n",
              "8964  What is the method FASP used for?\\tWe conclude...\n",
              "\n",
              "[100 rows x 1 columns]"
            ]
          },
          "metadata": {
            "tags": []
          },
          "execution_count": 163
        }
      ]
    }
  ]
}