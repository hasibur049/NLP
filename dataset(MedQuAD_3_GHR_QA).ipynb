{
  "nbformat": 4,
  "nbformat_minor": 0,
  "metadata": {
    "colab": {
      "name": "dataset(MedQuAD_3_GHR_QA).ipynb",
      "provenance": [],
      "collapsed_sections": [],
      "mount_file_id": "11Qe-XPqQaWn90T1lSbU5lBy6mdhv578Y",
      "authorship_tag": "ABX9TyOXNNglktpdLcQORI0ND0rw",
      "include_colab_link": true
    },
    "kernelspec": {
      "name": "python3",
      "display_name": "Python 3"
    },
    "accelerator": "GPU"
  },
  "cells": [
    {
      "cell_type": "markdown",
      "metadata": {
        "id": "view-in-github",
        "colab_type": "text"
      },
      "source": [
        "<a href=\"https://colab.research.google.com/github/hasiburrahman1/NLP/blob/master/dataset(MedQuAD_3_GHR_QA).ipynb\" target=\"_parent\"><img src=\"https://colab.research.google.com/assets/colab-badge.svg\" alt=\"Open In Colab\"/></a>"
      ]
    },
    {
      "cell_type": "code",
      "metadata": {
        "id": "gInZeo8EQNqo",
        "colab_type": "code",
        "outputId": "f7335f41-3783-442b-cf74-09cf6e3ea2c9",
        "colab": {
          "base_uri": "https://localhost:8080/",
          "height": 34
        }
      },
      "source": [
        "import numpy as np \n",
        "import pandas as pd \n",
        "import os\n",
        "import re\n",
        "import matplotlib.pyplot as plt\n",
        "import xml.etree.ElementTree as et \n",
        "from tensorflow.python.keras.preprocessing.text import Tokenizer\n",
        "from tensorflow.python.keras.preprocessing.sequence import pad_sequences\n",
        "from keras.models import Sequential\n",
        "from keras.layers import Dense, Embedding, GRU, LSTM, Bidirectional\n",
        "from keras.layers.embeddings import Embedding\n",
        "from keras.initializers import Constant\n",
        "from keras.callbacks import ModelCheckpoint\n",
        "from keras.models import load_model"
      ],
      "execution_count": 1,
      "outputs": [
        {
          "output_type": "stream",
          "text": [
            "Using TensorFlow backend.\n"
          ],
          "name": "stderr"
        }
      ]
    },
    {
      "cell_type": "markdown",
      "metadata": {
        "id": "-Alr0O10FzzG",
        "colab_type": "text"
      },
      "source": [
        "####Convert XML into DataFrame\n"
      ]
    },
    {
      "cell_type": "code",
      "metadata": {
        "id": "Io1zBDGLnpbI",
        "colab_type": "code",
        "outputId": "9cdd552e-764e-4342-8c54-5e8bd99a12fd",
        "colab": {
          "base_uri": "https://localhost:8080/",
          "height": 70
        }
      },
      "source": [
        "xtree = et.parse(\"/content/drive/My Drive/Colab Notebooks/MedQuAD_3_GHR_QA/joined.xml\")\n",
        "xroot = xtree.getroot()\n",
        "lst = xroot.findall('QAPairs/QAPair')\n",
        "data1 = []\n",
        "data2 = []\n",
        "data3 = []\n",
        "print(len(lst))\n",
        "#print(lst)\n",
        "print(\"\\n\")\n",
        "\n",
        "for item in lst:\n",
        "    for x in item:\n",
        "         if x.get('qtype') != None:\n",
        "            qtype = x.get('qtype')\n",
        "            data1.append(qtype)\n",
        "    Question = item.find('Question').text\n",
        "    data2.append(Question)\n",
        "    Answer = item.find('Answer').text\n",
        "    data3.append(Answer)"
      ],
      "execution_count": 2,
      "outputs": [
        {
          "output_type": "stream",
          "text": [
            "5430\n",
            "\n",
            "\n"
          ],
          "name": "stdout"
        }
      ]
    },
    {
      "cell_type": "code",
      "metadata": {
        "id": "wf-MgAmdBwF0",
        "colab_type": "code",
        "outputId": "7503b23a-3f4d-4173-91ab-32244808d862",
        "colab": {
          "base_uri": "https://localhost:8080/",
          "height": 424
        }
      },
      "source": [
        "df = pd.DataFrame(list(zip(data1, data2, data3)), \n",
        "               columns =['qtype', 'Question', 'Answer']) \n",
        "\n",
        "df.drop(df.columns[[2]], axis = 1, inplace = True)\n",
        "print(len(df)) \n",
        "df"
      ],
      "execution_count": 3,
      "outputs": [
        {
          "output_type": "stream",
          "text": [
            "5430\n"
          ],
          "name": "stdout"
        },
        {
          "output_type": "execute_result",
          "data": {
            "text/html": [
              "<div>\n",
              "<style scoped>\n",
              "    .dataframe tbody tr th:only-of-type {\n",
              "        vertical-align: middle;\n",
              "    }\n",
              "\n",
              "    .dataframe tbody tr th {\n",
              "        vertical-align: top;\n",
              "    }\n",
              "\n",
              "    .dataframe thead th {\n",
              "        text-align: right;\n",
              "    }\n",
              "</style>\n",
              "<table border=\"1\" class=\"dataframe\">\n",
              "  <thead>\n",
              "    <tr style=\"text-align: right;\">\n",
              "      <th></th>\n",
              "      <th>qtype</th>\n",
              "      <th>Question</th>\n",
              "    </tr>\n",
              "  </thead>\n",
              "  <tbody>\n",
              "    <tr>\n",
              "      <th>0</th>\n",
              "      <td>information</td>\n",
              "      <td>What is (are) Aarskog-Scott syndrome ?</td>\n",
              "    </tr>\n",
              "    <tr>\n",
              "      <th>1</th>\n",
              "      <td>frequency</td>\n",
              "      <td>How many people are affected by Aarskog-Scott ...</td>\n",
              "    </tr>\n",
              "    <tr>\n",
              "      <th>2</th>\n",
              "      <td>genetic changes</td>\n",
              "      <td>What are the genetic changes related to Aarsko...</td>\n",
              "    </tr>\n",
              "    <tr>\n",
              "      <th>3</th>\n",
              "      <td>inheritance</td>\n",
              "      <td>Is Aarskog-Scott syndrome inherited ?</td>\n",
              "    </tr>\n",
              "    <tr>\n",
              "      <th>4</th>\n",
              "      <td>treatment</td>\n",
              "      <td>What are the treatments for Aarskog-Scott synd...</td>\n",
              "    </tr>\n",
              "    <tr>\n",
              "      <th>...</th>\n",
              "      <td>...</td>\n",
              "      <td>...</td>\n",
              "    </tr>\n",
              "    <tr>\n",
              "      <th>5425</th>\n",
              "      <td>information</td>\n",
              "      <td>What is (are) 9q22.3 microdeletion ?</td>\n",
              "    </tr>\n",
              "    <tr>\n",
              "      <th>5426</th>\n",
              "      <td>frequency</td>\n",
              "      <td>How many people are affected by 9q22.3 microde...</td>\n",
              "    </tr>\n",
              "    <tr>\n",
              "      <th>5427</th>\n",
              "      <td>genetic changes</td>\n",
              "      <td>What are the genetic changes related to 9q22.3...</td>\n",
              "    </tr>\n",
              "    <tr>\n",
              "      <th>5428</th>\n",
              "      <td>inheritance</td>\n",
              "      <td>Is 9q22.3 microdeletion inherited ?</td>\n",
              "    </tr>\n",
              "    <tr>\n",
              "      <th>5429</th>\n",
              "      <td>treatment</td>\n",
              "      <td>What are the treatments for 9q22.3 microdeleti...</td>\n",
              "    </tr>\n",
              "  </tbody>\n",
              "</table>\n",
              "<p>5430 rows × 2 columns</p>\n",
              "</div>"
            ],
            "text/plain": [
              "                qtype                                           Question\n",
              "0         information             What is (are) Aarskog-Scott syndrome ?\n",
              "1           frequency  How many people are affected by Aarskog-Scott ...\n",
              "2     genetic changes  What are the genetic changes related to Aarsko...\n",
              "3         inheritance              Is Aarskog-Scott syndrome inherited ?\n",
              "4           treatment  What are the treatments for Aarskog-Scott synd...\n",
              "...               ...                                                ...\n",
              "5425      information               What is (are) 9q22.3 microdeletion ?\n",
              "5426        frequency  How many people are affected by 9q22.3 microde...\n",
              "5427  genetic changes  What are the genetic changes related to 9q22.3...\n",
              "5428      inheritance                Is 9q22.3 microdeletion inherited ?\n",
              "5429        treatment  What are the treatments for 9q22.3 microdeleti...\n",
              "\n",
              "[5430 rows x 2 columns]"
            ]
          },
          "metadata": {
            "tags": []
          },
          "execution_count": 3
        }
      ]
    },
    {
      "cell_type": "markdown",
      "metadata": {
        "id": "Qp-qBcwpRJMk",
        "colab_type": "text"
      },
      "source": [
        "###Basic data cleaning"
      ]
    },
    {
      "cell_type": "code",
      "metadata": {
        "id": "oKqebaX7PIOU",
        "colab_type": "code",
        "outputId": "16f4e91e-89a7-451e-b017-9a53bcbfec47",
        "colab": {
          "base_uri": "https://localhost:8080/",
          "height": 123
        }
      },
      "source": [
        "df[\"qtype\"].value_counts()"
      ],
      "execution_count": 4,
      "outputs": [
        {
          "output_type": "execute_result",
          "data": {
            "text/plain": [
              "genetic changes    1086\n",
              "inheritance        1086\n",
              "treatment          1086\n",
              "frequency          1086\n",
              "information        1086\n",
              "Name: qtype, dtype: int64"
            ]
          },
          "metadata": {
            "tags": []
          },
          "execution_count": 4
        }
      ]
    },
    {
      "cell_type": "code",
      "metadata": {
        "id": "5OVPsJJpRFLo",
        "colab_type": "code",
        "colab": {}
      },
      "source": [
        "## categorical to numerical\n",
        "encode = {\n",
        "    \"genetic changes\" : 0,\n",
        "    \"inheritance\"  : 1,       \n",
        "    \"frequency\" : 2,    \n",
        "    \"information\" : 3,     \n",
        "    \"treatment\"  : 4,    \n",
        "}"
      ],
      "execution_count": 0,
      "outputs": []
    },
    {
      "cell_type": "code",
      "metadata": {
        "id": "yf1l-EhVRwN7",
        "colab_type": "code",
        "outputId": "3b99334b-c927-4a99-b5eb-50a87965a7a9",
        "colab": {
          "base_uri": "https://localhost:8080/",
          "height": 197
        }
      },
      "source": [
        "df[\"qtype\"] = df[\"qtype\"].apply(lambda x: encode[x])\n",
        "df.head()"
      ],
      "execution_count": 6,
      "outputs": [
        {
          "output_type": "execute_result",
          "data": {
            "text/html": [
              "<div>\n",
              "<style scoped>\n",
              "    .dataframe tbody tr th:only-of-type {\n",
              "        vertical-align: middle;\n",
              "    }\n",
              "\n",
              "    .dataframe tbody tr th {\n",
              "        vertical-align: top;\n",
              "    }\n",
              "\n",
              "    .dataframe thead th {\n",
              "        text-align: right;\n",
              "    }\n",
              "</style>\n",
              "<table border=\"1\" class=\"dataframe\">\n",
              "  <thead>\n",
              "    <tr style=\"text-align: right;\">\n",
              "      <th></th>\n",
              "      <th>qtype</th>\n",
              "      <th>Question</th>\n",
              "    </tr>\n",
              "  </thead>\n",
              "  <tbody>\n",
              "    <tr>\n",
              "      <th>0</th>\n",
              "      <td>3</td>\n",
              "      <td>What is (are) Aarskog-Scott syndrome ?</td>\n",
              "    </tr>\n",
              "    <tr>\n",
              "      <th>1</th>\n",
              "      <td>2</td>\n",
              "      <td>How many people are affected by Aarskog-Scott ...</td>\n",
              "    </tr>\n",
              "    <tr>\n",
              "      <th>2</th>\n",
              "      <td>0</td>\n",
              "      <td>What are the genetic changes related to Aarsko...</td>\n",
              "    </tr>\n",
              "    <tr>\n",
              "      <th>3</th>\n",
              "      <td>1</td>\n",
              "      <td>Is Aarskog-Scott syndrome inherited ?</td>\n",
              "    </tr>\n",
              "    <tr>\n",
              "      <th>4</th>\n",
              "      <td>4</td>\n",
              "      <td>What are the treatments for Aarskog-Scott synd...</td>\n",
              "    </tr>\n",
              "  </tbody>\n",
              "</table>\n",
              "</div>"
            ],
            "text/plain": [
              "   qtype                                           Question\n",
              "0      3             What is (are) Aarskog-Scott syndrome ?\n",
              "1      2  How many people are affected by Aarskog-Scott ...\n",
              "2      0  What are the genetic changes related to Aarsko...\n",
              "3      1              Is Aarskog-Scott syndrome inherited ?\n",
              "4      4  What are the treatments for Aarskog-Scott synd..."
            ]
          },
          "metadata": {
            "tags": []
          },
          "execution_count": 6
        }
      ]
    },
    {
      "cell_type": "markdown",
      "metadata": {
        "id": "Ayj_CaUWSSy3",
        "colab_type": "text"
      },
      "source": [
        "###Data cleaning for NLP"
      ]
    },
    {
      "cell_type": "code",
      "metadata": {
        "id": "aUk6j7tHVC8o",
        "colab_type": "code",
        "outputId": "9852638a-ad9a-47e4-8058-33bc52fa2a62",
        "colab": {
          "base_uri": "https://localhost:8080/",
          "height": 105
        }
      },
      "source": [
        "import nltk\n",
        "nltk.download('punkt')\n",
        "nltk.download('stopwords')"
      ],
      "execution_count": 7,
      "outputs": [
        {
          "output_type": "stream",
          "text": [
            "[nltk_data] Downloading package punkt to /root/nltk_data...\n",
            "[nltk_data]   Unzipping tokenizers/punkt.zip.\n",
            "[nltk_data] Downloading package stopwords to /root/nltk_data...\n",
            "[nltk_data]   Unzipping corpora/stopwords.zip.\n"
          ],
          "name": "stdout"
        },
        {
          "output_type": "execute_result",
          "data": {
            "text/plain": [
              "True"
            ]
          },
          "metadata": {
            "tags": []
          },
          "execution_count": 7
        }
      ]
    },
    {
      "cell_type": "code",
      "metadata": {
        "id": "aA3Ad6UOQulP",
        "colab_type": "code",
        "colab": {}
      },
      "source": [
        "def clean_text(text):\n",
        "    text = text.lower()\n",
        "    \n",
        "    pattern = re.compile('http[s]?://(?:[a-zA-Z]|[0-9]|[$-_@.&+]|[!*\\(\\),]|(?:%[0-9a-fA-F][0-9a-fA-F]))+')\n",
        "    text = pattern.sub('', text)\n",
        "    text = \" \".join(filter(lambda x:x[0]!='@', text.split()))\n",
        "    \n",
        "    text = text.lower()\n",
        "    text = re.sub(r\"i'm\", \"i am\", text)\n",
        "    text = re.sub(r\"he's\", \"he is\", text)\n",
        "    text = re.sub(r\"she's\", \"she is\", text)\n",
        "    text = re.sub(r\"that's\", \"that is\", text)        \n",
        "    text = re.sub(r\"what's\", \"what is\", text)\n",
        "    text = re.sub(r\"where's\", \"where is\", text) \n",
        "    text = re.sub(r\"\\'ll\", \" will\", text)  \n",
        "    text = re.sub(r\"\\'ve\", \" have\", text)  \n",
        "    text = re.sub(r\"\\'re\", \" are\", text)\n",
        "    text = re.sub(r\"\\'d\", \" would\", text)\n",
        "    text = re.sub(r\"\\'ve\", \" have\", text)\n",
        "    text = re.sub(r\"won't\", \"will not\", text)\n",
        "    text = re.sub(r\"don't\", \"do not\", text)\n",
        "    text = re.sub(r\"did't\", \"did not\", text)\n",
        "    text = re.sub(r\"can't\", \"can not\", text)\n",
        "    text = re.sub(r\"it's\", \"it is\", text)\n",
        "    text = re.sub(r\"couldn't\", \"could not\", text)\n",
        "    text = re.sub(r\"have't\", \"have not\", text)\n",
        "    text = re.sub(r\"[,.\\\"\\'!@#$%^&*(){}?/;`~:<>+=-]\", \"\", text)\n",
        "    return text"
      ],
      "execution_count": 0,
      "outputs": []
    },
    {
      "cell_type": "code",
      "metadata": {
        "id": "SVmv2EoiQ58F",
        "colab_type": "code",
        "outputId": "2d3525ff-b0d5-4652-a6fb-897771abb7d6",
        "colab": {
          "base_uri": "https://localhost:8080/",
          "height": 212
        }
      },
      "source": [
        "import string\n",
        "from nltk.tokenize import word_tokenize\n",
        "from nltk.corpus import stopwords\n",
        "\n",
        "def CleanTokenize(df):\n",
        "    ques_lines = list()\n",
        "    lines = df[\"Question\"].values.tolist()\n",
        "\n",
        "    for line in lines:\n",
        "        line = clean_text(line)\n",
        "        # tokenize the text\n",
        "        tokens = word_tokenize(line)\n",
        "        # remove puntuations\n",
        "        table = str.maketrans('', '', string.punctuation)\n",
        "        stripped = [w.translate(table) for w in tokens]\n",
        "        # remove non alphabetic characters\n",
        "        words = [word for word in stripped if word.isalpha()]\n",
        "        \n",
        "        stop_words = set(stopwords.words(\"english\"))\n",
        "        # remove stop words\n",
        "        words = [w for w in words if not w in stop_words]\n",
        "        \n",
        "        ques_lines.append(words)\n",
        "        \n",
        "    return ques_lines\n",
        "\n",
        "ques_lines = CleanTokenize(df)\n",
        "print(\"total line are \", len(ques_lines)) \n",
        "ques_lines[0:10]"
      ],
      "execution_count": 9,
      "outputs": [
        {
          "output_type": "stream",
          "text": [
            "total line are  5430\n"
          ],
          "name": "stdout"
        },
        {
          "output_type": "execute_result",
          "data": {
            "text/plain": [
              "[['aarskogscott', 'syndrome'],\n",
              " ['many', 'people', 'affected', 'aarskogscott', 'syndrome'],\n",
              " ['genetic', 'changes', 'related', 'aarskogscott', 'syndrome'],\n",
              " ['aarskogscott', 'syndrome', 'inherited'],\n",
              " ['treatments', 'aarskogscott', 'syndrome'],\n",
              " ['abdominal', 'wall', 'defect'],\n",
              " ['many', 'people', 'affected', 'abdominal', 'wall', 'defect'],\n",
              " ['genetic', 'changes', 'related', 'abdominal', 'wall', 'defect'],\n",
              " ['abdominal', 'wall', 'defect', 'inherited'],\n",
              " ['treatments', 'abdominal', 'wall', 'defect']]"
            ]
          },
          "metadata": {
            "tags": []
          },
          "execution_count": 9
        }
      ]
    },
    {
      "cell_type": "code",
      "metadata": {
        "id": "OXSvF7WHe2jA",
        "colab_type": "code",
        "outputId": "27668abc-03e4-4150-da1a-1af956d47e39",
        "colab": {
          "base_uri": "https://localhost:8080/",
          "height": 34
        }
      },
      "source": [
        "len(max(ques_lines, key=len))"
      ],
      "execution_count": 10,
      "outputs": [
        {
          "output_type": "execute_result",
          "data": {
            "text/plain": [
              "13"
            ]
          },
          "metadata": {
            "tags": []
          },
          "execution_count": 10
        }
      ]
    },
    {
      "cell_type": "markdown",
      "metadata": {
        "id": "7Tz6-UrHWE4I",
        "colab_type": "text"
      },
      "source": [
        "###Train-test split"
      ]
    },
    {
      "cell_type": "code",
      "metadata": {
        "id": "45CY-fxhV4fD",
        "colab_type": "code",
        "outputId": "d0ccd7a1-989e-4316-ac21-9560002a3d3f",
        "colab": {
          "base_uri": "https://localhost:8080/",
          "height": 52
        }
      },
      "source": [
        "validation_split = 0.2\n",
        "max_length = 15\n",
        "\n",
        "\n",
        "tokenizer_obj = Tokenizer()\n",
        "tokenizer_obj.fit_on_texts(ques_lines)\n",
        "sequences = tokenizer_obj.texts_to_sequences(ques_lines)\n",
        "\n",
        "word_index = tokenizer_obj.word_index\n",
        "print(\"unique tokens - \",len(word_index))\n",
        "vocab_size = len(tokenizer_obj.word_index) + 1\n",
        "print('vocab size -', vocab_size)\n",
        "\n",
        "ques_lines_pad = pad_sequences(sequences, maxlen=max_length, padding='post')\n",
        "qtype =  df['qtype'].values\n",
        "\n",
        "indices = np.arange(ques_lines_pad.shape[0])\n",
        "np.random.shuffle(indices)\n",
        "ques_lines_pad = ques_lines_pad[indices]\n",
        "qtype = qtype[indices]\n",
        "\n",
        "n_values = np.max(qtype) + 1\n",
        "\n",
        "Y = np.eye(n_values)[qtype]\n",
        "\n",
        "\n",
        "num_validation_samples = int(validation_split * ques_lines_pad.shape[0])\n",
        "\n",
        "X_train_pad = ques_lines_pad[:-num_validation_samples]\n",
        "y_train = Y[:-num_validation_samples]\n",
        "X_test_pad = ques_lines_pad[-num_validation_samples:]\n",
        "y_test = Y[-num_validation_samples:]"
      ],
      "execution_count": 11,
      "outputs": [
        {
          "output_type": "stream",
          "text": [
            "unique tokens -  1419\n",
            "vocab size - 1420\n"
          ],
          "name": "stdout"
        }
      ]
    },
    {
      "cell_type": "code",
      "metadata": {
        "id": "wJRaXreKW6PB",
        "colab_type": "code",
        "outputId": "36a80c22-7d05-40f8-865a-e50b6c6d935d",
        "colab": {
          "base_uri": "https://localhost:8080/",
          "height": 87
        }
      },
      "source": [
        "print('Shape of X_train_pad:', X_train_pad.shape)\n",
        "print('Shape of y_train:', y_train.shape)\n",
        "\n",
        "print('Shape of X_test_pad:', X_test_pad.shape)\n",
        "print('Shape of y_test:', y_test.shape)"
      ],
      "execution_count": 12,
      "outputs": [
        {
          "output_type": "stream",
          "text": [
            "Shape of X_train_pad: (4344, 15)\n",
            "Shape of y_train: (4344, 5)\n",
            "Shape of X_test_pad: (1086, 15)\n",
            "Shape of y_test: (1086, 5)\n"
          ],
          "name": "stdout"
        }
      ]
    },
    {
      "cell_type": "markdown",
      "metadata": {
        "id": "liJHecjkXVxo",
        "colab_type": "text"
      },
      "source": [
        "###Custom word2vec model"
      ]
    },
    {
      "cell_type": "code",
      "metadata": {
        "id": "YcnFTO4BXNV1",
        "colab_type": "code",
        "outputId": "db96ee4a-1e9b-4324-b183-a004fae63b02",
        "colab": {
          "base_uri": "https://localhost:8080/",
          "height": 72
        }
      },
      "source": [
        "import gensim\n",
        "model = gensim.models.Word2Vec(sentences=ques_lines, size=100, window=5, workers=4, min_count=1, sg=1) #sg= 1:skip-gram 0:cbow\n",
        "vocab_words = list(model.wv.vocab)   \n",
        "\n",
        "print(len(vocab_words))\n",
        "print(vocab_words)"
      ],
      "execution_count": 13,
      "outputs": [
        {
          "output_type": "stream",
          "text": [
            "1419\n",
            "['aarskogscott', 'syndrome', 'many', 'people', 'affected', 'genetic', 'changes', 'related', 'inherited', 'treatments', 'abdominal', 'wall', 'defect', 'abetalipoproteinemia', 'acatalasemia', 'aceruloplasminemia', 'achondrogenesis', 'achondroplasia', 'achromatopsia', 'acral', 'peeling', 'skin', 'acromicric', 'dysplasia', 'actinaccumulation', 'myopathy', 'activated', 'acute', 'promyelocytic', 'leukemia', 'adamsoliver', 'dyskinesia', 'adenine', 'phosphoribosyltransferase', 'deficiency', 'adenosine', 'deaminase', 'monophosphate', 'adenylosuccinate', 'lyase', 'adermatoglyphia', 'adiposis', 'dolorosa', 'adolescent', 'idiopathic', 'scoliosis', 'adult', 'polyglucosan', 'body', 'disease', 'adultonset', 'leukoencephalopathy', 'axonal', 'spheroids', 'pigmented', 'glia', 'african', 'iron', 'overload', 'agerelated', 'macular', 'degeneration', 'aicardi', 'aicardigoutieres', 'alagille', 'alexander', 'disorder', 'glycosylation', 'alkaptonuria', 'allanherndondudley', 'allergic', 'asthma', 'alpershuttenlocher', 'alpha', 'thalassemia', 'xlinked', 'intellectual', 'disability', 'antitrypsin', 'alphamannosidosis', 'alphamethylacylcoa', 'racemase', 'alport', 'alstrm', 'alternating', 'hemiplegia', 'childhood', 'alveolar', 'capillary', 'misalignment', 'pulmonary', 'veins', 'alzheimer', 'amelogenesis', 'imperfecta', 'aminoacylase', 'amish', 'lethal', 'microcephaly', 'amyotrophic', 'lateral', 'sclerosis', 'andermann', 'andersentawil', 'androgen', 'insensitivity', 'androgenetic', 'alopecia', 'anencephaly', 'angelman', 'anhidrotic', 'ectodermal', 'immune', 'aniridia', 'ankyloblepharonectodermal', 'defectscleft', 'lippalate', 'ankylosing', 'spondylitis', 'antiphospholipid', 'apert', 'arginase', 'arginineglycine', 'amidinotransferase', 'argininosuccinic', 'aciduria', 'aromatase', 'excess', 'aromatic', 'lamino', 'acid', 'decarboxylase', 'arrhythmogenic', 'right', 'ventricular', 'cardiomyopathy', 'arterial', 'tortuosity', 'arts', 'aspartylglucosaminuria', 'asperger', 'asphyxiating', 'thoracic', 'dystrophy', 'ataxia', 'neuropathy', 'spectrum', 'oculomotor', 'apraxia', 'vitamin', 'e', 'ataxiatelangiectasia', 'atelosteogenesis', 'type', 'atopic', 'dermatitis', 'atypical', 'hemolyticuremic', 'auriculocondylar', 'autoimmune', 'addison', 'lymphoproliferative', 'polyglandular', 'autosomal', 'dominant', 'congenital', 'stationary', 'night', 'blindness', 'hyperige', 'hypocalcemia', 'nocturnal', 'frontal', 'lobe', 'epilepsy', 'partial', 'auditory', 'features', 'vitreoretinochoroidopathy', 'recessive', 'neuromyotonia', 'cerebellar', 'methemoglobinemia', 'hypotrichosis', 'primary', 'spastic', 'charlevoixsaguenay', 'axenfeldrieger', 'ballergerold', 'bannayanrileyruvalcaba', 'baraitserwinter', 'bardetbiedl', 'bartpumphrey', 'barth', 'bartter', 'bearestevenson', 'cutis', 'gyrata', 'beckwithwiedemann', 'behet', 'benign', 'chronic', 'pemphigus', 'essential', 'blepharospasm', 'familial', 'neonatal', 'seizures', 'recurrent', 'intrahepatic', 'cholestasis', 'beta', 'betaketothiolase', 'betamannosidosis', 'betaureidopropionase', 'bietti', 'crystalline', 'biotinthiamineresponsive', 'basal', 'ganglia', 'biotinidase', 'birthoggdub', 'bjrnstad', 'bladder', 'cancer', 'blau', 'blepharophimosis', 'ptosis', 'epicanthus', 'inversus', 'bloom', 'boomerang', 'bowenconradi', 'bradyopsia', 'branchiooculofacial', 'branchiootorenalbranchiootic', 'breast', 'brody', 'brookespiegler', 'brugada', 'buschkeollendorff', 'glomerulopathy', 'caffey', 'campomelic', 'camuratiengelmann', 'canavan', 'cant', 'cap', 'malformationarteriovenous', 'malformation', 'carbamoyl', 'phosphate', 'synthetase', 'cardiofaciocutaneous', 'carney', 'complex', 'carnitine', 'palmitoyltransferase', 'ii', 'carnitineacylcarnitine', 'translocase', 'carpenter', 'cartilagehair', 'hypoplasia', 'caskrelated', 'catecholaminergic', 'polymorphic', 'tachycardia', 'nonsyndromic', 'male', 'infertility', 'caudal', 'regression', 'distal', 'celiac', 'central', 'core', 'centronuclear', 'cerebral', 'arteriopathy', 'subcortical', 'infarcts', 'cavernous', 'cerebrotendinous', 'xanthomatosis', 'chanarindorfman', 'char', 'charcotmarietooth', 'charge', 'chediakhigashi', 'cherubism', 'myocerebrohepatopathy', 'frontotemporal', 'dementia', 'cholesteryl', 'ester', 'storage', 'chops', 'chordoma', 'choreaacanthocytosis', 'choroideremia', 'christianson', 'atrial', 'intestinal', 'dysrhythmia', 'granulomatous', 'skeletal', 'chylomicron', 'retention', 'citrullinemia', 'cleidocranial', 'clouston', 'coats', 'plus', 'cockayne', 'coffinlowry', 'coffinsiris', 'cohen', 'brain', 'smallvessel', 'coldinduced', 'sweating', 'cole', 'collagen', 'virelated', 'coloboma', 'color', 'vision', 'combined', 'malonic', 'methylmalonic', 'pituitary', 'hormone', 'common', 'variable', 'complement', 'component', 'factor', 'complete', 'lcat', 'conerod', 'adrenal', 'hyperplasia', 'due', 'afibrinogenemia', 'bilateral', 'absence', 'vas', 'deferens', 'cataracts', 'facial', 'dysmorphism', 'hypoventilation', 'contractural', 'arachnodactyly', 'deafness', 'labyrinthine', 'aplasia', 'microtia', 'microdontia', 'diaphragmatic', 'hernia', 'dyserythropoietic', 'anemia', 'fibertype', 'disproportion', 'fibrosis', 'extraocular', 'muscles', 'generalized', 'lipodystrophy', 'hemidysplasia', 'ichthyosiform', 'erythroderma', 'limb', 'defects', 'hepatic', 'hyperinsulinism', 'hypothyroidism', 'pain', 'anhidrosis', 'leptin', 'mirror', 'movement', 'myasthenic', 'neuronal', 'ceroid', 'lipofuscinosis', 'plasminogen', 'stromal', 'corneal', 'sucraseisomaltase', 'binding', 'myeloid', 'cornelia', 'de', 'lange', 'corticosteroidbinding', 'globulin', 'costeff', 'costello', 'cowden', 'cranioectodermal', 'craniofacial', 'microsomia', 'craniofacialdeafnesshand', 'craniometaphyseal', 'criduchat', 'criglernajjar', 'critical', 'heart', 'crohn', 'crouzon', 'crouzonodermoskeletal', 'cryptogenic', 'cirrhosis', 'cushing', 'laxa', 'cyclic', 'neutropenia', 'vomiting', 'cystic', 'cystinosis', 'cystinuria', 'cytochrome', 'c', 'oxidase', 'oxidoreductase', 'cytogenetically', 'normal', 'czech', 'dbifunctional', 'protein', 'dandywalker', 'danon', 'darier', 'myopia', 'deafnessdystoniaoptic', 'neuronopathy', 'dentatorubralpallidoluysian', 'atrophy', 'dentinogenesis', 'denysdrash', 'deoxyguanosine', 'kinase', 'dermatofibrosarcoma', 'protuberans', 'desmoid', 'tumor', 'desmosterolosis', 'diamondblackfan', 'diastrophic', 'dihydrolipoamide', 'dehydrogenase', 'dihydropyrimidinase', 'dihydropyrimidine', 'dilated', 'arthrogryposis', 'hereditary', 'motor', 'v', 'dmdassociated', 'dolkcongenital', 'donnaibarrow', 'donohue', 'doors', 'doparesponsive', 'dystonia', 'dopamine', 'betahydroxylase', 'transporter', 'dowlingdegos', 'duaneradial', 'ray', 'dubinjohnson', 'duchenne', 'becker', 'muscular', 'thrombocytopenia', 'dyskeratosis', 'congenita', 'dystrophic', 'epidermolysis', 'bullosa', 'earlyonset', 'glaucoma', 'ehlersdanlos', 'ellisvan', 'creveld', 'emanuel', 'emerydreifuss', 'enlarged', 'parietal', 'foramina', 'eosinophil', 'peroxidase', 'epidermal', 'nevus', 'simplex', 'pyloric', 'atresia', 'epidermolytic', 'hyperkeratosis', 'episodic', 'erdheimchester', 'erythrokeratodermia', 'variabilis', 'et', 'progressiva', 'erythromelalgia', 'esophageal', 'atresiatracheoesophageal', 'fistula', 'pentosuria', 'thrombocythemia', 'tremor', 'ethylmalonic', 'encephalopathy', 'ewing', 'sarcoma', 'fabry', 'facioscapulohumeral', 'leiden', 'thrombophilia', 'x', 'xiii', 'mutated', 'cebpa', 'adenomatous', 'polyposis', 'fibrillation', 'cold', 'autoinflammatory', 'cylindromatosis', 'dysautonomia', 'neuroserpin', 'inclusion', 'bodies', 'erythrocytosis', 'exudative', 'vitreoretinopathy', 'glucocorticoid', 'hdl', 'hemiplegic', 'migraine', 'hemophagocytic', 'lymphohistiocytosis', 'hyperaldosteronism', 'hypertrophic', 'hypobetalipoproteinemia', 'calcification', 'isolated', 'hyperparathyroidism', 'adenoma', 'lipoprotein', 'lipase', 'malelimited', 'precocious', 'puberty', 'mediterranean', 'fever', 'osteochondritis', 'dissecans', 'paroxysmal', 'kinesigenic', 'nonkinesigenic', 'pityriasis', 'rubra', 'pilaris', 'porencephaly', 'restrictive', 'aortic', 'aneurysm', 'dissection', 'fanconi', 'farber', 'lipogranulomatosis', 'fatty', 'hydroxylaseassociated', 'neurodegeneration', 'feingold', 'fg', 'fibrochondrogenesis', 'fibrodysplasia', 'ossificans', 'fibronectin', 'fisheye', 'floatingharbor', 'focal', 'dermal', 'fragile', 'xassociated', 'ovarian', 'insufficiency', 'tremorataxia', 'xe', 'fraser', 'frasier', 'freemansheldon', 'friedreich', 'frontometaphyseal', 'frontonasal', 'fryns', 'fuchs', 'endothelial', 'fucosidosis', 'fukuyama', 'fumarase', 'galactosemia', 'galactosialidosis', 'gastrointestinal', 'gaucher', 'geleophysic', 'infancy', 'genitopatellar', 'ghosal', 'hematodiaphyseal', 'giant', 'melanocytic', 'gilbert', 'gillespie', 'gitelman', 'glanzmann', 'thrombasthenia', 'globozoospermia', 'glucose', 'isomerase', 'glucosegalactose', 'malabsorption', 'glutamate', 'formiminotransferase', 'glutaric', 'acidemia', 'glutathione', 'glycine', 'glycogen', 'iii', 'iv', 'ix', 'vi', 'vii', 'gangliosidosis', 'ab', 'variant', 'synthase', 'gnathodiaphyseal', 'gorlin', 'gracile', 'granulomatosis', 'polyangiitis', 'graves', 'gray', 'platelet', 'greenberg', 'greig', 'cephalopolysyndactyly', 'griscelli', 'grnrelated', 'guanidinoacetate', 'methyltransferase', 'guillainbarr', 'gyrate', 'choroid', 'retina', 'hajducheney', 'handfootgenital', 'harlequin', 'ichthyosis', 'hashimoto', 'thyroiditis', 'head', 'neck', 'squamous', 'cell', 'carcinoma', 'hemophilia', 'hennekam', 'venoocclusive', 'immunodeficiency', 'angioedema', 'angiopathy', 'nephropathy', 'aneurysms', 'muscle', 'cramps', 'antithrombin', 'amyloid', 'diffuse', 'gastric', 'folate', 'fructose', 'intolerance', 'hemochromatosis', 'hemorrhagic', 'telangiectasia', 'hyperekplexia', 'hypophosphatemic', 'rickets', 'leiomyomatosis', 'renal', 'multiple', 'osteochondromas', 'early', 'respiratory', 'failure', 'neuralgic', 'amyotrophy', 'liability', 'pressure', 'palsies', 'pancreatitis', 'paragangliomapheochromocytoma', 'sensory', 'autonomic', 'ie', 'ia', 'spherocytosis', 'xanthinuria', 'hermanskypudlak', 'heterotaxy', 'hidradenitis', 'suppurativa', 'hirschsprung', 'histidinemia', 'histiocytosislymphadenopathy', 'holocarboxylase', 'holtoram', 'homocystinuria', 'horizontal', 'gaze', 'palsy', 'progressive', 'horner', 'huntington', 'diseaselike', 'hutchinsongilford', 'progeria', 'hypercholesterolemia', 'hyperferritinemiacataract', 'hyperkalemic', 'periodic', 'paralysis', 'hyperlysinemia', 'hypermanganesemia', 'polycythemia', 'hypermethioninemia', 'hyperparathyroidismjaw', 'hyperphosphatemic', 'tumoral', 'calcinosis', 'hyperprolinemia', 'hypochondrogenesis', 'hypochondroplasia', 'hypochromic', 'microcytic', 'hypohidrotic', 'hypokalemic', 'hypomagnesemia', 'secondary', 'hypomyelination', 'cataract', 'hypophosphatasia', 'hystrixlike', 'confetti', 'inflammatory', 'imerslundgrsbeck', 'dysregulation', 'polyendocrinopathy', 'enteropathy', 'paget', 'incontinentia', 'pigmenti', 'infantile', 'neuroaxonal', 'systemic', 'hyalinosis', 'infantileonset', 'ascending', 'spinocerebellar', 'thyroxinebinding', 'pseudoobstruction', 'pregnancy', 'intranuclear', 'rod', 'intrauterine', 'growth', 'restriction', 'metaphyseal', 'genital', 'anomalies', 'ironrefractory', 'isobutyrylcoa', 'isodicentric', 'chromosome', 'duane', 'retraction', 'ectopia', 'lentis', 'lissencephaly', 'sequence', 'pierre', 'robin', 'isovaleric', 'jacksonweiss', 'jacobsen', 'jervell', 'langenielsen', 'joubert', 'junctional', 'juvenile', 'batten', 'hyaline', 'fibromatosis', 'arthritis', 'myoclonic', 'osteoporosis', 'kabuki', 'kallmann', 'kawasaki', 'kbg', 'kearnssayre', 'keratitisichthyosisdeafness', 'keratoderma', 'woolly', 'hair', 'kleefstra', 'klinefelter', 'klippelfeil', 'klippeltrenaunay', 'kniest', 'knobloch', 'koolende', 'vries', 'krabbe', 'kufs', 'kuskokwim', 'lacrimoauriculodentodigital', 'lactate', 'lactose', 'lafora', 'myoclonus', 'laing', 'lamellar', 'langer', 'mesomelic', 'langergiedion', 'langerhans', 'histiocytosis', 'laron', 'larsen', 'laryngoonychocutaneous', 'lateinfantile', 'lattice', 'leber', 'amaurosis', 'optic', 'leggcalvperthes', 'legius', 'leigh', 'lennoxgastaut', 'lenz', 'microphthalmia', 'receptor', 'leschnyhan', 'leukocyte', 'adhesion', 'brainstem', 'spinal', 'cord', 'involvement', 'elevation', 'vanishing', 'white', 'matter', 'leydig', 'lifraumeni', 'liddle', 'limbgirdle', 'loeysdietz', 'longchain', 'lowe', 'lujan', 'lung', 'lymphangioleiomyomatosis', 'lymphedemadistichiasis', 'lynch', 'lysinuric', 'mabry', 'maffucci', 'mainzersaldino', 'majeed', 'mal', 'meleda', 'malignant', 'hyperthermia', 'migrating', 'malonylcoa', 'mandibuloacral', 'mandibulofacial', 'dysostosis', 'manitoba', 'oculotrichoanal', 'mannosebinding', 'lectin', 'maple', 'syrup', 'urine', 'marfan', 'marinescosjgren', 'maternally', 'diabetes', 'mayerrokitanskyksterhauser', 'mccunealbright', 'mckusickkaufman', 'mcleod', 'neuroacanthocytosis', 'meckel', 'duplication', 'severe', 'mediumchain', 'acylcoa', 'medullary', 'kidney', 'meesmann', 'megalencephalic', 'cysts', 'megalencephalycapillary', 'megdel', 'meiergorlin', 'meige', 'melnickneedles', 'menkes', 'metachromatic', 'leukodystrophy', 'metatropic', 'betaglobin', 'mevalonate', 'microcephalic', 'osteodysplastic', 'primordial', 'dwarfism', 'microcephalycapillary', 'linear', 'microvillus', 'miller', 'millerdieker', 'milroy', 'mitochondrial', 'encephalomyopathy', 'lactic', 'acidosis', 'strokelike', 'episodes', 'membrane', 'proteinassociated', 'neurogastrointestinal', 'trifunctional', 'miyoshi', 'moebius', 'molybdenum', 'cofactor', 'monilethrix', 'mowatwilson', 'moyamoya', 'hepatocerebral', 'dna', 'depletion', 'mucklewells', 'mucolipidosis', 'alphabeta', 'gamma', 'mucopolysaccharidosis', 'muenke', 'multicentric', 'osteolysis', 'nodulosis', 'arthropathy', 'multiminicore', 'cutaneous', 'mucosal', 'venous', 'malformations', 'endocrine', 'neoplasia', 'epiphyseal', 'trichoepithelioma', 'lentigines', 'dysfunctions', 'pterygium', 'sulfatase', 'system', 'myasthenia', 'gravis', 'mycosis', 'fungoides', 'myhre', 'raggedred', 'fibers', 'myoclonusdystonia', 'myofibrillar', 'ironsulfur', 'cluster', 'assembly', 'enzyme', 'myosin', 'myostatinrelated', 'hypertrophy', 'myotonia', 'myotonic', 'nacetylglutamate', 'naegelifranceschettijadassohn', 'syndromedermatopathia', 'pigmentosa', 'reticularis', 'nager', 'nailpatella', 'nakajonishimura', 'narcolepsy', 'nemaline', 'onset', 'multisystem', 'nephrogenic', 'insipidus', 'nephronophthisis', 'netherton', 'neuroblastoma', 'neuroferritinopathy', 'neurofibromatosis', 'neurohypophyseal', 'neuromyelitis', 'optica', 'retinitis', 'neutral', 'lipid', 'nicolaidesbaraitser', 'niemannpick', 'nijmegen', 'breakage', 'nonbullous', 'hearing', 'loss', 'holoprosencephaly', 'paraganglioma', 'noonan', 'norrie', 'north', 'american', 'indian', 'northern', 'ochoa', 'ocular', 'albinism', 'oculocutaneous', 'oculodentodigital', 'oculofaciocardiodental', 'oculopharyngeal', 'ohdo', 'maatkievitbrunner', 'saybarberbieseckeryoungsimpson', 'ollier', 'ophthalmoacromelic', 'opitz', 'gbbb', 'oralfacialdigital', 'ornithine', 'transcarbamylase', 'osteogenesis', 'osteoglophonic', 'osteopetrosis', 'osteoporosispseudoglioma', 'otopalatodigital', 'otospondylomegaepiphyseal', 'pachyonychia', 'bone', 'pallisterhall', 'pallisterkillian', 'mosaic', 'palmoplantar', 'pantothenate', 'kinaseassociated', 'paramyotonia', 'parkes', 'weber', 'parkinson', 'extreme', 'hemoglobinuria', 'partington', 'pdgfraassociated', 'eosinophilic', 'pdgfrbassociated', 'pearson', 'marrowpancreas', 'pelizaeusmerzbacher', 'pendred', 'periventricular', 'heterotopia', 'permanent', 'mellitus', 'peroxisomal', 'perrault', 'perry', 'persistent', 'mllerian', 'duct', 'peters', 'peutzjeghers', 'pfeiffer', 'phenylketonuria', 'phosphoglycerate', 'mutase', 'phosphoribosylpyrophosphate', 'superactivity', 'piebaldism', 'pilomatricoma', 'pitthopkins', 'platyspondylic', 'torrance', 'pol', 'iiirelated', 'poland', 'polycystic', 'lipomembranous', 'osteodysplasia', 'sclerosing', 'vera', 'polymicrogyria', 'pompe', 'pontocerebellar', 'popliteal', 'porphyria', 'potassiumaggravated', 'potockishaffer', 'ppmx', 'praderwilli', 'preeclampsia', 'prekallikrein', 'ciliary', 'hyperoxaluria', 'macronodular', 'myelofibrosis', 'cholangitis', 'spontaneous', 'pneumothorax', 'prion', 'external', 'ophthalmoplegia', 'block', 'osseous', 'heteroplasia', 'pseudorheumatoid', 'supranuclear', 'prolidase', 'proopiomelanocortin', 'propionic', 'prostate', 'proteus', 'prothrombin', 'pseudoachondroplasia', 'pseudocholinesterase', 'pseudohypoaldosteronism', 'pseudoxanthoma', 'elasticum', 'psoriatic', 'microlithiasis', 'hypertension', 'purine', 'nucleoside', 'phosphorylase', 'pyridoxal', 'pyridoxinedependent', 'pyruvate', 'carboxylase', 'rabsonmendenhall', 'rapadilino', 'rapidonset', 'parkinsonism', 'recombinant', 'hydatidiform', 'mole', 'refsum', 'renrelated', 'hypouricemia', 'tubular', 'dysgenesis', 'renpenning', 'restless', 'legs', 'retinal', 'macroaneurysm', 'supravalvular', 'pulmonic', 'stenosis', 'retinoblastoma', 'retroperitoneal', 'rett', 'rheumatoid', 'rhizomelic', 'chondrodysplasia', 'punctata', 'ring', 'rippling', 'roberts', 'robinow', 'romanoward', 'rothmundthomson', 'rotor', 'rubinsteintaybi', 'russellsilver', 'saddan', 'saethrechotzen', 'salih', 'sandhoff', 'schimke', 'immunoosseous', 'schindler', 'schinzelgiedion', 'schwartzjampel', 'seniorlken', 'sensorineural', 'sepiapterin', 'reductase', 'septooptic', 'sheldonhall', 'short', 'qt', 'stature', 'hyperextensibility', 'depression', 'rieger', 'anomaly', 'teething', 'delay', 'shortchain', 'shprintzengoldberg', 'shwachmandiamond', 'sialic', 'sialidosis', 'sialuria', 'sick', 'sinus', 'sickle', 'silver', 'simpsongolabibehmel', 'sitosterolemia', 'sjgren', 'sjgrenlarsson', 'small', 'fiber', 'smithlemliopitz', 'smithmagenis', 'snyderrobinson', 'sostrelated', 'sotos', 'anophthalmia', 'paraplegia', 'spina', 'bifida', 'bulbar', 'distress', 'spondylocarpotarsal', 'synostosis', 'spondylocostal', 'spondyloenchondrodysplasia', 'spondyloepimetaphyseal', 'strudwick', 'spondyloepiphyseal', 'spondyloperipheral', 'spondylothoracic', 'sporadic', 'stargardt', 'steatocystoma', 'multiplex', 'stevensjohnson', 'syndrometoxic', 'necrolysis', 'stickler', 'stingassociated', 'vasculopathy', 'stormorken', 'stvewiedemann', 'succinatecoa', 'ligase', 'succinic', 'semialdehyde', 'coa', 'transferase', 'sudden', 'infant', 'death', 'testes', 'surfactant', 'dysfunction', 'swyer', 'lupus', 'erythematosus', 'scleroderma', 'tcell', 'nail', 'tangier', 'tarsalcarpal', 'coalition', 'taskspecific', 'taysachs', 'tetraamelia', 'tetrahydrobiopterin', 'tetrasomy', 'thanatophoric', 'thiamineresponsive', 'megaloblastic', 'thiopurine', 'smethyltransferase', 'thrombocytopeniaabsent', 'radius', 'thrombotic', 'thrombocytopenic', 'purpura', 'tibial', 'tietz', 'timothy', 'myopathic', 'form', 'tourette', 'townesbrocks', 'transthyretin', 'amyloidosis', 'treacher', 'collins', 'trichohepatoenteric', 'trichothiodystrophy', 'trimethylaminuria', 'triosephosphate', 'triple', 'trisomy', 'troyer', 'tuberous', 'aggregate', 'necrosis', 'receptorassociated', 'turner', 'insulin', 'resistance', 'tyrosine', 'hydroxylase', 'tyrosinemia', 'ulcerative', 'colitis', 'unverrichtlundborg', 'uromodulinassociated', 'usher', 'uvsensitive', 'vacterl', 'association', 'van', 'der', 'woude', 'ddependent', 'vitelliform', 'vitiligo', 'vldlrassociated', 'vohwinkel', 'von', 'hippellindau', 'willebrand', 'waardenburg', 'wagner', 'wagr', 'waldenstrm', 'macroglobulinemia', 'walkerwarburg', 'warfarin', 'sensitivity', 'warsaw', 'weaver', 'weillmarchesani', 'weissenbacherzweymller', 'werner', 'weyers', 'acrofacial', 'sponge', 'williams', 'wilson', 'winchester', 'wiskottaldrich', 'wolfhirschhorn', 'wolffparkinsonwhite', 'wolfram', 'wolman', 'adrenoleukodystrophy', 'agammaglobulinemia', 'creatine', 'dystoniaparkinsonism', 'hyper', 'igm', 'magnesium', 'epsteinbarr', 'virus', 'infection', 'nystagmus', 'spasm', 'siderius', 'retinoschisis', 'abnormal', 'genitalia', 'myotubular', 'sideroblastic', 'tarda', 'xeroderma', 'pigmentosum', 'zellweger', 'microdeletion', 'deletion', 'hydroxysteroid', 'hydratase', 'testicular', 'sex', 'development', 'minus', 'transient', 'myeloproliferative']\n"
          ],
          "name": "stdout"
        }
      ]
    },
    {
      "cell_type": "code",
      "metadata": {
        "id": "maJ9urB6XtmV",
        "colab_type": "code",
        "outputId": "027651bc-069c-4e0c-91cf-52c340405539",
        "colab": {
          "base_uri": "https://localhost:8080/",
          "height": 72
        }
      },
      "source": [
        "filename = \"questype_word2vec_full.txt\"\n",
        "model.wv.save_word2vec_format(filename, binary=False)"
      ],
      "execution_count": 14,
      "outputs": [
        {
          "output_type": "stream",
          "text": [
            "/usr/local/lib/python3.6/dist-packages/smart_open/smart_open_lib.py:253: UserWarning: This function is deprecated, use smart_open.open instead. See the migration notes for details: https://github.com/RaRe-Technologies/smart_open/blob/master/README.rst#migrating-to-the-new-open-function\n",
            "  'See the migration notes for details: %s' % _MIGRATION_NOTES_URL\n"
          ],
          "name": "stderr"
        }
      ]
    },
    {
      "cell_type": "code",
      "metadata": {
        "id": "oFywa32hX_Zn",
        "colab_type": "code",
        "colab": {}
      },
      "source": [
        "embedding_index = {}\n",
        "f = open(os.path.join('', '/content/questype_word2vec_full.txt'),  encoding = \"utf-8\")\n",
        "for line in f:\n",
        "    values = line.split()\n",
        "    word = values[0]\n",
        "    coeff = np.asarray(values[1:], dtype='float32')\n",
        "    embedding_index[word] = coeff\n",
        "f.close()"
      ],
      "execution_count": 0,
      "outputs": []
    },
    {
      "cell_type": "code",
      "metadata": {
        "id": "KlDSUeGHYPE8",
        "colab_type": "code",
        "colab": {}
      },
      "source": [
        "embedding_dim = 100\n",
        "embedding_matrix = np.zeros((len(word_index) + 1, embedding_dim))\n",
        "for word, i in word_index.items():\n",
        "    embedding_vector = embedding_index.get(word)\n",
        "    if embedding_vector is not None:\n",
        "        embedding_matrix[i] = embedding_vector"
      ],
      "execution_count": 0,
      "outputs": []
    },
    {
      "cell_type": "code",
      "metadata": {
        "id": "XiXF4i1QYTcn",
        "colab_type": "code",
        "colab": {}
      },
      "source": [
        "embedding_layer = Embedding(len(word_index) + 1,\n",
        "                            embedding_dim,\n",
        "                            weights=[embedding_matrix],\n",
        "                            input_length=max_length,\n",
        "                            trainable=False)"
      ],
      "execution_count": 0,
      "outputs": []
    },
    {
      "cell_type": "markdown",
      "metadata": {
        "id": "ldYOKB7cYa8U",
        "colab_type": "text"
      },
      "source": [
        "##Create LSTM model"
      ]
    },
    {
      "cell_type": "code",
      "metadata": {
        "id": "DNMAjbPnYfHe",
        "colab_type": "code",
        "outputId": "19510693-f602-4949-d37d-eabbbf43cbfc",
        "colab": {
          "base_uri": "https://localhost:8080/",
          "height": 283
        }
      },
      "source": [
        "# define model\n",
        "model = Sequential()\n",
        "model.add(embedding_layer)\n",
        "model.add(LSTM(units=32,  dropout=0.2, recurrent_dropout=0.25))\n",
        "model.add(Dense(5, activation='softmax'))\n",
        "\n",
        "model.compile(loss='categorical_crossentropy', optimizer='adam', metrics=['accuracy'])\n",
        "\n",
        "print(model.summary())"
      ],
      "execution_count": 18,
      "outputs": [
        {
          "output_type": "stream",
          "text": [
            "Model: \"sequential_1\"\n",
            "_________________________________________________________________\n",
            "Layer (type)                 Output Shape              Param #   \n",
            "=================================================================\n",
            "embedding_1 (Embedding)      (None, 15, 100)           142000    \n",
            "_________________________________________________________________\n",
            "lstm_1 (LSTM)                (None, 32)                17024     \n",
            "_________________________________________________________________\n",
            "dense_1 (Dense)              (None, 5)                 165       \n",
            "=================================================================\n",
            "Total params: 159,189\n",
            "Trainable params: 17,189\n",
            "Non-trainable params: 142,000\n",
            "_________________________________________________________________\n",
            "None\n"
          ],
          "name": "stdout"
        }
      ]
    },
    {
      "cell_type": "markdown",
      "metadata": {
        "id": "KSmX9abecyI2",
        "colab_type": "text"
      },
      "source": [
        "\n",
        "###LSTM Model Training"
      ]
    },
    {
      "cell_type": "code",
      "metadata": {
        "id": "aeR_z2uzYvIj",
        "colab_type": "code",
        "outputId": "3e2867e0-bf3b-49ec-b282-85e367ed2f49",
        "colab": {
          "base_uri": "https://localhost:8080/",
          "height": 390
        }
      },
      "source": [
        "history = model.fit(X_train_pad, y_train, epochs=10,batch_size=32, validation_data=(X_test_pad, y_test), verbose=1)"
      ],
      "execution_count": 19,
      "outputs": [
        {
          "output_type": "stream",
          "text": [
            "Train on 4344 samples, validate on 1086 samples\n",
            "Epoch 1/10\n",
            "4344/4344 [==============================] - 9s 2ms/step - loss: 1.4355 - accuracy: 0.3943 - val_loss: 0.9984 - val_accuracy: 0.6400\n",
            "Epoch 2/10\n",
            "4344/4344 [==============================] - 7s 2ms/step - loss: 0.8882 - accuracy: 0.6393 - val_loss: 0.5993 - val_accuracy: 0.7781\n",
            "Epoch 3/10\n",
            "4344/4344 [==============================] - 6s 1ms/step - loss: 0.6656 - accuracy: 0.7040 - val_loss: 0.5430 - val_accuracy: 0.7155\n",
            "Epoch 4/10\n",
            "4344/4344 [==============================] - 7s 2ms/step - loss: 0.5981 - accuracy: 0.7210 - val_loss: 0.5235 - val_accuracy: 0.7753\n",
            "Epoch 5/10\n",
            "4344/4344 [==============================] - 7s 2ms/step - loss: 0.5549 - accuracy: 0.7482 - val_loss: 0.4874 - val_accuracy: 0.7928\n",
            "Epoch 6/10\n",
            "4344/4344 [==============================] - 7s 2ms/step - loss: 0.5090 - accuracy: 0.7859 - val_loss: 0.4170 - val_accuracy: 0.8379\n",
            "Epoch 7/10\n",
            "4344/4344 [==============================] - 7s 2ms/step - loss: 0.4742 - accuracy: 0.7963 - val_loss: 0.3606 - val_accuracy: 0.8665\n",
            "Epoch 8/10\n",
            "4344/4344 [==============================] - 7s 2ms/step - loss: 0.4413 - accuracy: 0.8218 - val_loss: 0.3167 - val_accuracy: 0.8757\n",
            "Epoch 9/10\n",
            "4344/4344 [==============================] - 7s 2ms/step - loss: 0.3997 - accuracy: 0.8395 - val_loss: 0.2836 - val_accuracy: 0.8923\n",
            "Epoch 10/10\n",
            "4344/4344 [==============================] - 7s 2ms/step - loss: 0.3559 - accuracy: 0.8603 - val_loss: 0.2665 - val_accuracy: 0.8978\n"
          ],
          "name": "stdout"
        }
      ]
    },
    {
      "cell_type": "code",
      "metadata": {
        "id": "mENyzjUS6WFU",
        "colab_type": "code",
        "colab": {
          "base_uri": "https://localhost:8080/",
          "height": 107
        },
        "outputId": "c8167a2e-d2ec-43fc-fc4e-6b6f1617a3c2"
      },
      "source": [
        "print(history.history['loss'])\n",
        "print(history.history['accuracy'])\n",
        "print(history.history['val_loss'])\n",
        "print(history.history['val_accuracy'])"
      ],
      "execution_count": 20,
      "outputs": [
        {
          "output_type": "stream",
          "text": [
            "[1.4354594084219818, 0.8882142064979722, 0.6655657226648559, 0.5980594682869113, 0.5548805250866856, 0.5089823421413289, 0.47421201739741514, 0.4412695549250088, 0.39974655998565434, 0.35585651298364]\n",
            "[0.39433703, 0.6392726, 0.70395947, 0.7209945, 0.7481584, 0.7859116, 0.7962707, 0.8218232, 0.8395488, 0.86026704]\n",
            "[0.9983832885547238, 0.5993362756833627, 0.5429746682582419, 0.5234788212218556, 0.4873755048981029, 0.41700985978321475, 0.36059066351386504, 0.31672033409606903, 0.28361930515665157, 0.26648507564985513]\n",
            "[0.6399631500244141, 0.7780846953392029, 0.7154695987701416, 0.7753222584724426, 0.7928176522254944, 0.8379374146461487, 0.8664824962615967, 0.8756905794143677, 0.8922652006149292, 0.8977900743484497]\n"
          ],
          "name": "stdout"
        }
      ]
    },
    {
      "cell_type": "code",
      "metadata": {
        "id": "9b_Hca6Z7_Gb",
        "colab_type": "code",
        "colab": {
          "base_uri": "https://localhost:8080/",
          "height": 294
        },
        "outputId": "2dde9764-ac59-411a-94c9-96ef99b983b2"
      },
      "source": [
        "from matplotlib import pyplot\n",
        "\n",
        "pyplot.plot(history.history['loss'])\n",
        "pyplot.plot(history.history['val_loss'])\n",
        "pyplot.title('model train vs validation loss')\n",
        "pyplot.ylabel('loss')\n",
        "pyplot.xlabel('epoch')\n",
        "pyplot.legend(['train', 'validation'], loc='upper right')\n",
        "pyplot.show()"
      ],
      "execution_count": 21,
      "outputs": [
        {
          "output_type": "display_data",
          "data": {
            "image/png": "[encoded data removed]",
            "text/plain": [
              "<Figure size 432x288 with 1 Axes>"
            ]
          },
          "metadata": {
            "tags": [],
            "needs_background": "light"
          }
        }
      ]
    },
    {
      "cell_type": "markdown",
      "metadata": {
        "id": "WUiDfIhCVWqm",
        "colab_type": "text"
      },
      "source": [
        "##Create GRU model"
      ]
    },
    {
      "cell_type": "code",
      "metadata": {
        "id": "AKkIKsmsVVRZ",
        "colab_type": "code",
        "colab": {}
      },
      "source": [
        ""
      ],
      "execution_count": 0,
      "outputs": []
    },
    {
      "cell_type": "markdown",
      "metadata": {
        "id": "RIxk7iXe8o6N",
        "colab_type": "text"
      },
      "source": [
        "\n",
        "###Can this model detect qtype?\n",
        "\n"
      ]
    },
    {
      "cell_type": "code",
      "metadata": {
        "id": "p7lm3azQ8S_2",
        "colab_type": "code",
        "colab": {}
      },
      "source": [
        "from pandas import *\n",
        "import operator\n",
        "def predict_(s):\n",
        "    x_final = pd.DataFrame({\"Question\":[s]})\n",
        "    test_lines = CleanTokenize(x_final)\n",
        "    test_sequences = tokenizer_obj.texts_to_sequences(test_lines)\n",
        "    test_review_pad = pad_sequences(test_sequences, maxlen=max_length, padding='post')\n",
        "    pred = model.predict(test_review_pad)\n",
        "    #print(f'NumPy Array:\\n{[pred]}')\n",
        "    pred = pred.ravel()\n",
        "    listOfInt  = pred.tolist()\n",
        "    #print(listOfInt)\n",
        "    listOfStr = [\"genetic changes\", \"inheritance\", \"frequency\" , \"information\" , \"treatment\"]\n",
        "    # Create a zip object from two lists\n",
        "    zipbObj = zip(listOfStr, listOfInt)\n",
        "    # Create a dictionary from zip object\n",
        "    dictOfresult = dict(zipbObj)\n",
        "    #print(dictOfresult)\n",
        "    print(s, end =\" \")\n",
        "    print( max(dictOfresult.items(), key=operator.itemgetter(1))[0])"
      ],
      "execution_count": 0,
      "outputs": []
    },
    {
      "cell_type": "code",
      "metadata": {
        "id": "ALDXxXV4-3a0",
        "colab_type": "code",
        "colab": {
          "base_uri": "https://localhost:8080/",
          "height": 34
        },
        "outputId": "5d6065e6-01f9-4a66-f63c-fcf7816c1d0c"
      },
      "source": [
        "predict_(\"What is (are) Coronavirous syndrome ?\")    "
      ],
      "execution_count": 23,
      "outputs": [
        {
          "output_type": "stream",
          "text": [
            "What is (are) Coronavirous syndrome ? information\n"
          ],
          "name": "stdout"
        }
      ]
    },
    {
      "cell_type": "code",
      "metadata": {
        "id": "NJ4AIl8FDvyF",
        "colab_type": "code",
        "colab": {
          "base_uri": "https://localhost:8080/",
          "height": 34
        },
        "outputId": "baf42788-be1f-4dcc-daf9-2d2444f24d77"
      },
      "source": [
        "predict_(\"How many people are affected by Coronavirous syndrome ?\")"
      ],
      "execution_count": 24,
      "outputs": [
        {
          "output_type": "stream",
          "text": [
            "How many people are affected by Coronavirous syndrome ? frequency\n"
          ],
          "name": "stdout"
        }
      ]
    },
    {
      "cell_type": "code",
      "metadata": {
        "id": "vpDmeEsdDzAC",
        "colab_type": "code",
        "colab": {
          "base_uri": "https://localhost:8080/",
          "height": 34
        },
        "outputId": "8d076c6b-b144-4994-81bf-b275585371f8"
      },
      "source": [
        "predict_(\"Is Coronavirous inherited ?\")"
      ],
      "execution_count": 25,
      "outputs": [
        {
          "output_type": "stream",
          "text": [
            "Is Coronavirous inherited ? treatment\n"
          ],
          "name": "stdout"
        }
      ]
    }
  ]
}