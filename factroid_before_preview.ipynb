{
  "nbformat": 4,
  "nbformat_minor": 0,
  "metadata": {
    "colab": {
      "name": "factroid_type_(MedQuAD)_folder_(3_GHR_QA).ipynb",
      "provenance": [],
      "collapsed_sections": [],
      "toc_visible": true,
      "mount_file_id": "1Er1s22qW7VjxjInicXV4bGeQz7agLGuM",
      "authorship_tag": "ABX9TyOvdYFsE0QYa30Pvc5FGsvN",
      "include_colab_link": true
    },
    "kernelspec": {
      "name": "python3",
      "display_name": "Python 3"
    },
    "accelerator": "GPU"
  },
  "cells": [
    {
      "cell_type": "markdown",
      "metadata": {
        "id": "view-in-github",
        "colab_type": "text"
      },
      "source": [
        "<a href=\"https://colab.research.google.com/github/hasiburrahman1/NLP/blob/master/factroid_type_(MedQuAD)_folder_(3_GHR_QA).ipynb\" target=\"_parent\"><img src=\"https://colab.research.google.com/assets/colab-badge.svg\" alt=\"Open In Colab\"/></a>"
      ]
    },
    {
      "cell_type": "code",
      "metadata": {
        "id": "gInZeo8EQNqo",
        "colab_type": "code",
        "colab": {
          "base_uri": "https://localhost:8080/",
          "height": 34
        },
        "outputId": "f282570a-1986-4795-c918-a358f3c1b9c8"
      },
      "source": [
        "import numpy as np \n",
        "import pandas as pd \n",
        "import os\n",
        "import re\n",
        "import matplotlib.pyplot as plt\n",
        "import xml.etree.ElementTree as et \n",
        "from tensorflow.python.keras.preprocessing.text import Tokenizer\n",
        "from tensorflow.python.keras.preprocessing.sequence import pad_sequences\n",
        "from keras.models import Sequential\n",
        "from keras.layers import Dense, Activation, Embedding, SimpleRNN, GRU, LSTM, Bidirectional, Dropout, Input, Conv2D, MaxPool2D\n",
        "from keras.layers.embeddings import Embedding\n",
        "from keras.initializers import Constant\n",
        "from keras.callbacks import ModelCheckpoint\n",
        "from keras.models import load_model\n",
        "from keras.layers import Reshape, Flatten, Dropout, Concatenate\n",
        "from keras.optimizers import Adam\n",
        "from keras.models import Model\n",
        "from keras.layers.convolutional import Conv1D\n",
        "from keras.layers import Conv1D, Dense, MaxPool1D, Flatten, Input, GlobalMaxPooling1D"
      ],
      "execution_count": null,
      "outputs": [
        {
          "output_type": "stream",
          "text": [
            "Using TensorFlow backend.\n"
          ],
          "name": "stderr"
        }
      ]
    },
    {
      "cell_type": "markdown",
      "metadata": {
        "id": "-Alr0O10FzzG",
        "colab_type": "text"
      },
      "source": [
        "####Convert XML into DataFrame\n"
      ]
    },
    {
      "cell_type": "code",
      "metadata": {
        "id": "Io1zBDGLnpbI",
        "colab_type": "code",
        "colab": {
          "base_uri": "https://localhost:8080/",
          "height": 70
        },
        "outputId": "22a4d7d6-0802-43c6-e591-5cacf9e0c899"
      },
      "source": [
        "xtree = et.parse(\"/content/drive/My Drive/Colab Notebooks/MedQuAD_3_GHR_QA/joined.xml\")\n",
        "xroot = xtree.getroot()\n",
        "lst = xroot.findall('QAPairs/QAPair')\n",
        "data1 = []\n",
        "data2 = []\n",
        "data3 = []\n",
        "print(len(lst))\n",
        "#print(lst)\n",
        "print(\"\\n\")\n",
        "\n",
        "for item in lst:\n",
        "    for x in item:\n",
        "         if x.get('qtype') != None:\n",
        "            qtype = x.get('qtype')\n",
        "            data1.append(qtype)\n",
        "    Question = item.find('Question').text\n",
        "    data2.append(Question)\n",
        "    Answer = item.find('Answer').text\n",
        "    data3.append(Answer)"
      ],
      "execution_count": null,
      "outputs": [
        {
          "output_type": "stream",
          "text": [
            "5430\n",
            "\n",
            "\n"
          ],
          "name": "stdout"
        }
      ]
    },
    {
      "cell_type": "code",
      "metadata": {
        "id": "wf-MgAmdBwF0",
        "colab_type": "code",
        "colab": {
          "base_uri": "https://localhost:8080/",
          "height": 424
        },
        "outputId": "259a6076-b52c-45ea-8fd0-3be1dbcf5d88"
      },
      "source": [
        "df = pd.DataFrame(list(zip(data2, data3)), \n",
        "               columns =['qtype', 'Question', 'Answer']) \n",
        "\n",
        "#df.drop(df.columns[[2]], axis = 1, inplace = True)\n",
        "print(len(df)) \n",
        "df"
      ],
      "execution_count": null,
      "outputs": [
        {
          "output_type": "stream",
          "text": [
            "5430\n"
          ],
          "name": "stdout"
        },
        {
          "output_type": "execute_result",
          "data": {
            "text/html": [
              "<div>\n",
              "<style scoped>\n",
              "    .dataframe tbody tr th:only-of-type {\n",
              "        vertical-align: middle;\n",
              "    }\n",
              "\n",
              "    .dataframe tbody tr th {\n",
              "        vertical-align: top;\n",
              "    }\n",
              "\n",
              "    .dataframe thead th {\n",
              "        text-align: right;\n",
              "    }\n",
              "</style>\n",
              "<table border=\"1\" class=\"dataframe\">\n",
              "  <thead>\n",
              "    <tr style=\"text-align: right;\">\n",
              "      <th></th>\n",
              "      <th>qtype</th>\n",
              "      <th>Question</th>\n",
              "      <th>Answer</th>\n",
              "    </tr>\n",
              "  </thead>\n",
              "  <tbody>\n",
              "    <tr>\n",
              "      <th>0</th>\n",
              "      <td>information</td>\n",
              "      <td>What is (are) Aarskog-Scott syndrome ?</td>\n",
              "      <td>Aarskog-Scott syndrome is a genetic disorder t...</td>\n",
              "    </tr>\n",
              "    <tr>\n",
              "      <th>1</th>\n",
              "      <td>frequency</td>\n",
              "      <td>How many people are affected by Aarskog-Scott ...</td>\n",
              "      <td>Aarskog-Scott syndrome is believed to be a rar...</td>\n",
              "    </tr>\n",
              "    <tr>\n",
              "      <th>2</th>\n",
              "      <td>genetic changes</td>\n",
              "      <td>What are the genetic changes related to Aarsko...</td>\n",
              "      <td>Mutations in the FGD1 gene cause some cases of...</td>\n",
              "    </tr>\n",
              "    <tr>\n",
              "      <th>3</th>\n",
              "      <td>inheritance</td>\n",
              "      <td>Is Aarskog-Scott syndrome inherited ?</td>\n",
              "      <td>Aarskog-Scott syndrome is inherited in an X-li...</td>\n",
              "    </tr>\n",
              "    <tr>\n",
              "      <th>4</th>\n",
              "      <td>treatment</td>\n",
              "      <td>What are the treatments for Aarskog-Scott synd...</td>\n",
              "      <td>These resources address the diagnosis or manag...</td>\n",
              "    </tr>\n",
              "    <tr>\n",
              "      <th>...</th>\n",
              "      <td>...</td>\n",
              "      <td>...</td>\n",
              "      <td>...</td>\n",
              "    </tr>\n",
              "    <tr>\n",
              "      <th>5425</th>\n",
              "      <td>information</td>\n",
              "      <td>What is (are) 9q22.3 microdeletion ?</td>\n",
              "      <td>9q22.3 microdeletion is a chromosomal change i...</td>\n",
              "    </tr>\n",
              "    <tr>\n",
              "      <th>5426</th>\n",
              "      <td>frequency</td>\n",
              "      <td>How many people are affected by 9q22.3 microde...</td>\n",
              "      <td>9q22.3 microdeletion appears to be a rare chro...</td>\n",
              "    </tr>\n",
              "    <tr>\n",
              "      <th>5427</th>\n",
              "      <td>genetic changes</td>\n",
              "      <td>What are the genetic changes related to 9q22.3...</td>\n",
              "      <td>People with a 9q22.3 microdeletion are missing...</td>\n",
              "    </tr>\n",
              "    <tr>\n",
              "      <th>5428</th>\n",
              "      <td>inheritance</td>\n",
              "      <td>Is 9q22.3 microdeletion inherited ?</td>\n",
              "      <td>9q22.3 microdeletions are inherited in an auto...</td>\n",
              "    </tr>\n",
              "    <tr>\n",
              "      <th>5429</th>\n",
              "      <td>treatment</td>\n",
              "      <td>What are the treatments for 9q22.3 microdeleti...</td>\n",
              "      <td>These resources address the diagnosis or manag...</td>\n",
              "    </tr>\n",
              "  </tbody>\n",
              "</table>\n",
              "<p>5430 rows × 3 columns</p>\n",
              "</div>"
            ],
            "text/plain": [
              "                qtype  ...                                             Answer\n",
              "0         information  ...  Aarskog-Scott syndrome is a genetic disorder t...\n",
              "1           frequency  ...  Aarskog-Scott syndrome is believed to be a rar...\n",
              "2     genetic changes  ...  Mutations in the FGD1 gene cause some cases of...\n",
              "3         inheritance  ...  Aarskog-Scott syndrome is inherited in an X-li...\n",
              "4           treatment  ...  These resources address the diagnosis or manag...\n",
              "...               ...  ...                                                ...\n",
              "5425      information  ...  9q22.3 microdeletion is a chromosomal change i...\n",
              "5426        frequency  ...  9q22.3 microdeletion appears to be a rare chro...\n",
              "5427  genetic changes  ...  People with a 9q22.3 microdeletion are missing...\n",
              "5428      inheritance  ...  9q22.3 microdeletions are inherited in an auto...\n",
              "5429        treatment  ...  These resources address the diagnosis or manag...\n",
              "\n",
              "[5430 rows x 3 columns]"
            ]
          },
          "metadata": {
            "tags": []
          },
          "execution_count": 3
        }
      ]
    },
    {
      "cell_type": "markdown",
      "metadata": {
        "id": "Qp-qBcwpRJMk",
        "colab_type": "text"
      },
      "source": [
        "###Basic data cleaning"
      ]
    },
    {
      "cell_type": "code",
      "metadata": {
        "id": "zQJOvjYA-dGG",
        "colab_type": "code",
        "colab": {}
      },
      "source": [
        "df.to_csv('data.csv')\n",
        "!cp data.csv \"drive/My Drive/\""
      ],
      "execution_count": null,
      "outputs": []
    },
    {
      "cell_type": "code",
      "metadata": {
        "id": "oKqebaX7PIOU",
        "colab_type": "code",
        "colab": {
          "base_uri": "https://localhost:8080/",
          "height": 123
        },
        "outputId": "452ca6bf-7862-463f-efda-8fbff75fe040"
      },
      "source": [
        "df[\"qtype\"].value_counts()"
      ],
      "execution_count": null,
      "outputs": [
        {
          "output_type": "execute_result",
          "data": {
            "text/plain": [
              "genetic changes    1086\n",
              "treatment          1086\n",
              "frequency          1086\n",
              "information        1086\n",
              "inheritance        1086\n",
              "Name: qtype, dtype: int64"
            ]
          },
          "metadata": {
            "tags": []
          },
          "execution_count": 4
        }
      ]
    },
    {
      "cell_type": "code",
      "metadata": {
        "id": "5OVPsJJpRFLo",
        "colab_type": "code",
        "colab": {}
      },
      "source": [
        "## categorical to numerical\n",
        "encode = {\n",
        "    \"genetic changes\" : 0,\n",
        "    \"inheritance\"  : 1,       \n",
        "    \"frequency\" : 2,    \n",
        "    \"information\" : 3,     \n",
        "    \"treatment\"  : 4,    \n",
        "}"
      ],
      "execution_count": null,
      "outputs": []
    },
    {
      "cell_type": "code",
      "metadata": {
        "id": "yf1l-EhVRwN7",
        "colab_type": "code",
        "colab": {
          "base_uri": "https://localhost:8080/",
          "height": 197
        },
        "outputId": "181523e9-79da-4f34-927a-076437466fc3"
      },
      "source": [
        "df[\"qtype\"] = df[\"qtype\"].apply(lambda x: encode[x])\n",
        "df.head()"
      ],
      "execution_count": null,
      "outputs": [
        {
          "output_type": "execute_result",
          "data": {
            "text/html": [
              "<div>\n",
              "<style scoped>\n",
              "    .dataframe tbody tr th:only-of-type {\n",
              "        vertical-align: middle;\n",
              "    }\n",
              "\n",
              "    .dataframe tbody tr th {\n",
              "        vertical-align: top;\n",
              "    }\n",
              "\n",
              "    .dataframe thead th {\n",
              "        text-align: right;\n",
              "    }\n",
              "</style>\n",
              "<table border=\"1\" class=\"dataframe\">\n",
              "  <thead>\n",
              "    <tr style=\"text-align: right;\">\n",
              "      <th></th>\n",
              "      <th>qtype</th>\n",
              "      <th>Question</th>\n",
              "      <th>Answer</th>\n",
              "    </tr>\n",
              "  </thead>\n",
              "  <tbody>\n",
              "    <tr>\n",
              "      <th>0</th>\n",
              "      <td>3</td>\n",
              "      <td>What is (are) Aarskog-Scott syndrome ?</td>\n",
              "      <td>Aarskog-Scott syndrome is a genetic disorder t...</td>\n",
              "    </tr>\n",
              "    <tr>\n",
              "      <th>1</th>\n",
              "      <td>2</td>\n",
              "      <td>How many people are affected by Aarskog-Scott ...</td>\n",
              "      <td>Aarskog-Scott syndrome is believed to be a rar...</td>\n",
              "    </tr>\n",
              "    <tr>\n",
              "      <th>2</th>\n",
              "      <td>0</td>\n",
              "      <td>What are the genetic changes related to Aarsko...</td>\n",
              "      <td>Mutations in the FGD1 gene cause some cases of...</td>\n",
              "    </tr>\n",
              "    <tr>\n",
              "      <th>3</th>\n",
              "      <td>1</td>\n",
              "      <td>Is Aarskog-Scott syndrome inherited ?</td>\n",
              "      <td>Aarskog-Scott syndrome is inherited in an X-li...</td>\n",
              "    </tr>\n",
              "    <tr>\n",
              "      <th>4</th>\n",
              "      <td>4</td>\n",
              "      <td>What are the treatments for Aarskog-Scott synd...</td>\n",
              "      <td>These resources address the diagnosis or manag...</td>\n",
              "    </tr>\n",
              "  </tbody>\n",
              "</table>\n",
              "</div>"
            ],
            "text/plain": [
              "   qtype  ...                                             Answer\n",
              "0      3  ...  Aarskog-Scott syndrome is a genetic disorder t...\n",
              "1      2  ...  Aarskog-Scott syndrome is believed to be a rar...\n",
              "2      0  ...  Mutations in the FGD1 gene cause some cases of...\n",
              "3      1  ...  Aarskog-Scott syndrome is inherited in an X-li...\n",
              "4      4  ...  These resources address the diagnosis or manag...\n",
              "\n",
              "[5 rows x 3 columns]"
            ]
          },
          "metadata": {
            "tags": []
          },
          "execution_count": 6
        }
      ]
    },
    {
      "cell_type": "markdown",
      "metadata": {
        "id": "Ayj_CaUWSSy3",
        "colab_type": "text"
      },
      "source": [
        "###Data cleaning for NLP"
      ]
    },
    {
      "cell_type": "code",
      "metadata": {
        "id": "aUk6j7tHVC8o",
        "colab_type": "code",
        "colab": {
          "base_uri": "https://localhost:8080/",
          "height": 105
        },
        "outputId": "00faf282-7556-4034-9fea-ecb319476794"
      },
      "source": [
        "import nltk\n",
        "nltk.download('punkt')\n",
        "nltk.download('stopwords')"
      ],
      "execution_count": null,
      "outputs": [
        {
          "output_type": "stream",
          "text": [
            "[nltk_data] Downloading package punkt to /root/nltk_data...\n",
            "[nltk_data]   Unzipping tokenizers/punkt.zip.\n",
            "[nltk_data] Downloading package stopwords to /root/nltk_data...\n",
            "[nltk_data]   Unzipping corpora/stopwords.zip.\n"
          ],
          "name": "stdout"
        },
        {
          "output_type": "execute_result",
          "data": {
            "text/plain": [
              "True"
            ]
          },
          "metadata": {
            "tags": []
          },
          "execution_count": 7
        }
      ]
    },
    {
      "cell_type": "code",
      "metadata": {
        "id": "aA3Ad6UOQulP",
        "colab_type": "code",
        "colab": {}
      },
      "source": [
        "def clean_text(text):\n",
        "    text = text.lower()\n",
        "    \n",
        "    pattern = re.compile('http[s]?://(?:[a-zA-Z]|[0-9]|[$-_@.&+]|[!*\\(\\),]|(?:%[0-9a-fA-F][0-9a-fA-F]))+')\n",
        "    text = pattern.sub('', text)\n",
        "    text = \" \".join(filter(lambda x:x[0]!='@', text.split()))\n",
        "    \n",
        "    text = text.lower()\n",
        "    text = re.sub(r\"i'm\", \"i am\", text)\n",
        "    text = re.sub(r\"he's\", \"he is\", text)\n",
        "    text = re.sub(r\"she's\", \"she is\", text)\n",
        "    text = re.sub(r\"that's\", \"that is\", text)        \n",
        "    text = re.sub(r\"what's\", \"what is\", text)\n",
        "    text = re.sub(r\"where's\", \"where is\", text) \n",
        "    text = re.sub(r\"\\'ll\", \" will\", text)  \n",
        "    text = re.sub(r\"\\'ve\", \" have\", text)  \n",
        "    text = re.sub(r\"\\'re\", \" are\", text)\n",
        "    text = re.sub(r\"\\'d\", \" would\", text)\n",
        "    text = re.sub(r\"\\'ve\", \" have\", text)\n",
        "    text = re.sub(r\"won't\", \"will not\", text)\n",
        "    text = re.sub(r\"don't\", \"do not\", text)\n",
        "    text = re.sub(r\"did't\", \"did not\", text)\n",
        "    text = re.sub(r\"can't\", \"can not\", text)\n",
        "    text = re.sub(r\"it's\", \"it is\", text)\n",
        "    text = re.sub(r\"couldn't\", \"could not\", text)\n",
        "    text = re.sub(r\"have't\", \"have not\", text)\n",
        "    text = re.sub(r\"[,.\\\"\\'!@#$%^&*(){}?/;`~:<>+=-]\", \"\", text)\n",
        "    return text"
      ],
      "execution_count": null,
      "outputs": []
    },
    {
      "cell_type": "code",
      "metadata": {
        "id": "SVmv2EoiQ58F",
        "colab_type": "code",
        "colab": {
          "base_uri": "https://localhost:8080/",
          "height": 212
        },
        "outputId": "2efb8021-a5e4-48ba-e395-5774a3617aa3"
      },
      "source": [
        "import string\n",
        "from nltk.tokenize import word_tokenize\n",
        "from nltk.corpus import stopwords\n",
        "\n",
        "def CleanTokenize(df):\n",
        "    ques_lines = list()\n",
        "    lines = df[\"Question\"].values.tolist()\n",
        "\n",
        "    for line in lines:\n",
        "        line = clean_text(line)\n",
        "        # tokenize the text\n",
        "        tokens = word_tokenize(line)\n",
        "        # remove puntuations\n",
        "        table = str.maketrans('', '', string.punctuation)\n",
        "        stripped = [w.translate(table) for w in tokens]\n",
        "        # remove non alphabetic characters\n",
        "        words = [word for word in stripped if word.isalpha()]\n",
        "        \n",
        "        stop_words = set(stopwords.words(\"english\"))\n",
        "        # remove stop words\n",
        "        words = [w for w in words if not w in stop_words]\n",
        "        \n",
        "        ques_lines.append(words)\n",
        "        \n",
        "    return ques_lines\n",
        "\n",
        "ques_lines = CleanTokenize(df)\n",
        "print(\"total line are \", len(ques_lines)) \n",
        "ques_lines[0:10]"
      ],
      "execution_count": null,
      "outputs": [
        {
          "output_type": "stream",
          "text": [
            "total line are  5430\n"
          ],
          "name": "stdout"
        },
        {
          "output_type": "execute_result",
          "data": {
            "text/plain": [
              "[['aarskogscott', 'syndrome'],\n",
              " ['many', 'people', 'affected', 'aarskogscott', 'syndrome'],\n",
              " ['genetic', 'changes', 'related', 'aarskogscott', 'syndrome'],\n",
              " ['aarskogscott', 'syndrome', 'inherited'],\n",
              " ['treatments', 'aarskogscott', 'syndrome'],\n",
              " ['abdominal', 'wall', 'defect'],\n",
              " ['many', 'people', 'affected', 'abdominal', 'wall', 'defect'],\n",
              " ['genetic', 'changes', 'related', 'abdominal', 'wall', 'defect'],\n",
              " ['abdominal', 'wall', 'defect', 'inherited'],\n",
              " ['treatments', 'abdominal', 'wall', 'defect']]"
            ]
          },
          "metadata": {
            "tags": []
          },
          "execution_count": 9
        }
      ]
    },
    {
      "cell_type": "code",
      "metadata": {
        "id": "OXSvF7WHe2jA",
        "colab_type": "code",
        "colab": {
          "base_uri": "https://localhost:8080/",
          "height": 34
        },
        "outputId": "cda7a5f5-cec0-45cd-f33b-19b2fa2b79bb"
      },
      "source": [
        "len(max(ques_lines, key=len))"
      ],
      "execution_count": null,
      "outputs": [
        {
          "output_type": "execute_result",
          "data": {
            "text/plain": [
              "13"
            ]
          },
          "metadata": {
            "tags": []
          },
          "execution_count": 10
        }
      ]
    },
    {
      "cell_type": "markdown",
      "metadata": {
        "id": "7Tz6-UrHWE4I",
        "colab_type": "text"
      },
      "source": [
        "###Train-test split"
      ]
    },
    {
      "cell_type": "code",
      "metadata": {
        "id": "45CY-fxhV4fD",
        "colab_type": "code",
        "colab": {
          "base_uri": "https://localhost:8080/",
          "height": 52
        },
        "outputId": "2286f5f7-a96b-4116-9136-61328279471c"
      },
      "source": [
        "validation_split = 0.2\n",
        "max_length = 15\n",
        "\n",
        "\n",
        "tokenizer_obj = Tokenizer()\n",
        "tokenizer_obj.fit_on_texts(ques_lines)\n",
        "sequences = tokenizer_obj.texts_to_sequences(ques_lines)\n",
        "\n",
        "word_index = tokenizer_obj.word_index\n",
        "print(\"unique tokens - \",len(word_index))\n",
        "vocab_size = len(tokenizer_obj.word_index) + 1\n",
        "print('vocab size -', vocab_size)\n",
        "\n",
        "ques_lines_pad = pad_sequences(sequences, maxlen=max_length, padding='post')\n",
        "qtype =  df['qtype'].values\n",
        "\n",
        "indices = np.arange(ques_lines_pad.shape[0])\n",
        "np.random.shuffle(indices)\n",
        "ques_lines_pad = ques_lines_pad[indices]\n",
        "qtype = qtype[indices]\n",
        "\n",
        "n_values = np.max(qtype) + 1\n",
        "\n",
        "Y = np.eye(n_values)[qtype]\n",
        "\n",
        "\n",
        "num_validation_samples = int(validation_split * ques_lines_pad.shape[0])\n",
        "\n",
        "X_train_pad = ques_lines_pad[:-num_validation_samples]\n",
        "y_train = Y[:-num_validation_samples]\n",
        "X_test_pad = ques_lines_pad[-num_validation_samples:]\n",
        "y_test = Y[-num_validation_samples:]"
      ],
      "execution_count": null,
      "outputs": [
        {
          "output_type": "stream",
          "text": [
            "unique tokens -  1419\n",
            "vocab size - 1420\n"
          ],
          "name": "stdout"
        }
      ]
    },
    {
      "cell_type": "code",
      "metadata": {
        "id": "wJRaXreKW6PB",
        "colab_type": "code",
        "colab": {
          "base_uri": "https://localhost:8080/",
          "height": 87
        },
        "outputId": "7f3a4ffb-0996-4709-a1e6-6b87c91d75d3"
      },
      "source": [
        "print('Shape of X_train_pad:', X_train_pad.shape)\n",
        "print('Shape of y_train:', y_train.shape)\n",
        "\n",
        "print('Shape of X_test_pad:', X_test_pad.shape)\n",
        "print('Shape of y_test:', y_test.shape)"
      ],
      "execution_count": null,
      "outputs": [
        {
          "output_type": "stream",
          "text": [
            "Shape of X_train_pad: (4344, 15)\n",
            "Shape of y_train: (4344, 5)\n",
            "Shape of X_test_pad: (1086, 15)\n",
            "Shape of y_test: (1086, 5)\n"
          ],
          "name": "stdout"
        }
      ]
    },
    {
      "cell_type": "markdown",
      "metadata": {
        "id": "liJHecjkXVxo",
        "colab_type": "text"
      },
      "source": [
        "###Custom word2vec model"
      ]
    },
    {
      "cell_type": "code",
      "metadata": {
        "id": "YcnFTO4BXNV1",
        "colab_type": "code",
        "colab": {
          "base_uri": "https://localhost:8080/",
          "height": 72
        },
        "outputId": "d2189251-09a7-4b33-b6f9-b08db8ab315c"
      },
      "source": [
        "import gensim\n",
        "model = gensim.models.Word2Vec(sentences=ques_lines, size=100, window=5, workers=4, min_count=1, sg=1) #sg= 1:skip-gram 0:cbow\n",
        "vocab_words = list(model.wv.vocab)   \n",
        "\n",
        "print(len(vocab_words))\n",
        "print(vocab_words)"
      ],
      "execution_count": null,
      "outputs": [
        {
          "output_type": "stream",
          "text": [
            "1419\n",
            "['aarskogscott', 'syndrome', 'many', 'people', 'affected', 'genetic', 'changes', 'related', 'inherited', 'treatments', 'abdominal', 'wall', 'defect', 'abetalipoproteinemia', 'acatalasemia', 'aceruloplasminemia', 'achondrogenesis', 'achondroplasia', 'achromatopsia', 'acral', 'peeling', 'skin', 'acromicric', 'dysplasia', 'actinaccumulation', 'myopathy', 'activated', 'acute', 'promyelocytic', 'leukemia', 'adamsoliver', 'dyskinesia', 'adenine', 'phosphoribosyltransferase', 'deficiency', 'adenosine', 'deaminase', 'monophosphate', 'adenylosuccinate', 'lyase', 'adermatoglyphia', 'adiposis', 'dolorosa', 'adolescent', 'idiopathic', 'scoliosis', 'adult', 'polyglucosan', 'body', 'disease', 'adultonset', 'leukoencephalopathy', 'axonal', 'spheroids', 'pigmented', 'glia', 'african', 'iron', 'overload', 'agerelated', 'macular', 'degeneration', 'aicardi', 'aicardigoutieres', 'alagille', 'alexander', 'disorder', 'glycosylation', 'alkaptonuria', 'allanherndondudley', 'allergic', 'asthma', 'alpershuttenlocher', 'alpha', 'thalassemia', 'xlinked', 'intellectual', 'disability', 'antitrypsin', 'alphamannosidosis', 'alphamethylacylcoa', 'racemase', 'alport', 'alstrm', 'alternating', 'hemiplegia', 'childhood', 'alveolar', 'capillary', 'misalignment', 'pulmonary', 'veins', 'alzheimer', 'amelogenesis', 'imperfecta', 'aminoacylase', 'amish', 'lethal', 'microcephaly', 'amyotrophic', 'lateral', 'sclerosis', 'andermann', 'andersentawil', 'androgen', 'insensitivity', 'androgenetic', 'alopecia', 'anencephaly', 'angelman', 'anhidrotic', 'ectodermal', 'immune', 'aniridia', 'ankyloblepharonectodermal', 'defectscleft', 'lippalate', 'ankylosing', 'spondylitis', 'antiphospholipid', 'apert', 'arginase', 'arginineglycine', 'amidinotransferase', 'argininosuccinic', 'aciduria', 'aromatase', 'excess', 'aromatic', 'lamino', 'acid', 'decarboxylase', 'arrhythmogenic', 'right', 'ventricular', 'cardiomyopathy', 'arterial', 'tortuosity', 'arts', 'aspartylglucosaminuria', 'asperger', 'asphyxiating', 'thoracic', 'dystrophy', 'ataxia', 'neuropathy', 'spectrum', 'oculomotor', 'apraxia', 'vitamin', 'e', 'ataxiatelangiectasia', 'atelosteogenesis', 'type', 'atopic', 'dermatitis', 'atypical', 'hemolyticuremic', 'auriculocondylar', 'autoimmune', 'addison', 'lymphoproliferative', 'polyglandular', 'autosomal', 'dominant', 'congenital', 'stationary', 'night', 'blindness', 'hyperige', 'hypocalcemia', 'nocturnal', 'frontal', 'lobe', 'epilepsy', 'partial', 'auditory', 'features', 'vitreoretinochoroidopathy', 'recessive', 'neuromyotonia', 'cerebellar', 'methemoglobinemia', 'hypotrichosis', 'primary', 'spastic', 'charlevoixsaguenay', 'axenfeldrieger', 'ballergerold', 'bannayanrileyruvalcaba', 'baraitserwinter', 'bardetbiedl', 'bartpumphrey', 'barth', 'bartter', 'bearestevenson', 'cutis', 'gyrata', 'beckwithwiedemann', 'behet', 'benign', 'chronic', 'pemphigus', 'essential', 'blepharospasm', 'familial', 'neonatal', 'seizures', 'recurrent', 'intrahepatic', 'cholestasis', 'beta', 'betaketothiolase', 'betamannosidosis', 'betaureidopropionase', 'bietti', 'crystalline', 'biotinthiamineresponsive', 'basal', 'ganglia', 'biotinidase', 'birthoggdub', 'bjrnstad', 'bladder', 'cancer', 'blau', 'blepharophimosis', 'ptosis', 'epicanthus', 'inversus', 'bloom', 'boomerang', 'bowenconradi', 'bradyopsia', 'branchiooculofacial', 'branchiootorenalbranchiootic', 'breast', 'brody', 'brookespiegler', 'brugada', 'buschkeollendorff', 'glomerulopathy', 'caffey', 'campomelic', 'camuratiengelmann', 'canavan', 'cant', 'cap', 'malformationarteriovenous', 'malformation', 'carbamoyl', 'phosphate', 'synthetase', 'cardiofaciocutaneous', 'carney', 'complex', 'carnitine', 'palmitoyltransferase', 'ii', 'carnitineacylcarnitine', 'translocase', 'carpenter', 'cartilagehair', 'hypoplasia', 'caskrelated', 'catecholaminergic', 'polymorphic', 'tachycardia', 'nonsyndromic', 'male', 'infertility', 'caudal', 'regression', 'distal', 'celiac', 'central', 'core', 'centronuclear', 'cerebral', 'arteriopathy', 'subcortical', 'infarcts', 'cavernous', 'cerebrotendinous', 'xanthomatosis', 'chanarindorfman', 'char', 'charcotmarietooth', 'charge', 'chediakhigashi', 'cherubism', 'myocerebrohepatopathy', 'frontotemporal', 'dementia', 'cholesteryl', 'ester', 'storage', 'chops', 'chordoma', 'choreaacanthocytosis', 'choroideremia', 'christianson', 'atrial', 'intestinal', 'dysrhythmia', 'granulomatous', 'skeletal', 'chylomicron', 'retention', 'citrullinemia', 'cleidocranial', 'clouston', 'coats', 'plus', 'cockayne', 'coffinlowry', 'coffinsiris', 'cohen', 'brain', 'smallvessel', 'coldinduced', 'sweating', 'cole', 'collagen', 'virelated', 'coloboma', 'color', 'vision', 'combined', 'malonic', 'methylmalonic', 'pituitary', 'hormone', 'common', 'variable', 'complement', 'component', 'factor', 'complete', 'lcat', 'conerod', 'adrenal', 'hyperplasia', 'due', 'afibrinogenemia', 'bilateral', 'absence', 'vas', 'deferens', 'cataracts', 'facial', 'dysmorphism', 'hypoventilation', 'contractural', 'arachnodactyly', 'deafness', 'labyrinthine', 'aplasia', 'microtia', 'microdontia', 'diaphragmatic', 'hernia', 'dyserythropoietic', 'anemia', 'fibertype', 'disproportion', 'fibrosis', 'extraocular', 'muscles', 'generalized', 'lipodystrophy', 'hemidysplasia', 'ichthyosiform', 'erythroderma', 'limb', 'defects', 'hepatic', 'hyperinsulinism', 'hypothyroidism', 'pain', 'anhidrosis', 'leptin', 'mirror', 'movement', 'myasthenic', 'neuronal', 'ceroid', 'lipofuscinosis', 'plasminogen', 'stromal', 'corneal', 'sucraseisomaltase', 'binding', 'myeloid', 'cornelia', 'de', 'lange', 'corticosteroidbinding', 'globulin', 'costeff', 'costello', 'cowden', 'cranioectodermal', 'craniofacial', 'microsomia', 'craniofacialdeafnesshand', 'craniometaphyseal', 'criduchat', 'criglernajjar', 'critical', 'heart', 'crohn', 'crouzon', 'crouzonodermoskeletal', 'cryptogenic', 'cirrhosis', 'cushing', 'laxa', 'cyclic', 'neutropenia', 'vomiting', 'cystic', 'cystinosis', 'cystinuria', 'cytochrome', 'c', 'oxidase', 'oxidoreductase', 'cytogenetically', 'normal', 'czech', 'dbifunctional', 'protein', 'dandywalker', 'danon', 'darier', 'myopia', 'deafnessdystoniaoptic', 'neuronopathy', 'dentatorubralpallidoluysian', 'atrophy', 'dentinogenesis', 'denysdrash', 'deoxyguanosine', 'kinase', 'dermatofibrosarcoma', 'protuberans', 'desmoid', 'tumor', 'desmosterolosis', 'diamondblackfan', 'diastrophic', 'dihydrolipoamide', 'dehydrogenase', 'dihydropyrimidinase', 'dihydropyrimidine', 'dilated', 'arthrogryposis', 'hereditary', 'motor', 'v', 'dmdassociated', 'dolkcongenital', 'donnaibarrow', 'donohue', 'doors', 'doparesponsive', 'dystonia', 'dopamine', 'betahydroxylase', 'transporter', 'dowlingdegos', 'duaneradial', 'ray', 'dubinjohnson', 'duchenne', 'becker', 'muscular', 'thrombocytopenia', 'dyskeratosis', 'congenita', 'dystrophic', 'epidermolysis', 'bullosa', 'earlyonset', 'glaucoma', 'ehlersdanlos', 'ellisvan', 'creveld', 'emanuel', 'emerydreifuss', 'enlarged', 'parietal', 'foramina', 'eosinophil', 'peroxidase', 'epidermal', 'nevus', 'simplex', 'pyloric', 'atresia', 'epidermolytic', 'hyperkeratosis', 'episodic', 'erdheimchester', 'erythrokeratodermia', 'variabilis', 'et', 'progressiva', 'erythromelalgia', 'esophageal', 'atresiatracheoesophageal', 'fistula', 'pentosuria', 'thrombocythemia', 'tremor', 'ethylmalonic', 'encephalopathy', 'ewing', 'sarcoma', 'fabry', 'facioscapulohumeral', 'leiden', 'thrombophilia', 'x', 'xiii', 'mutated', 'cebpa', 'adenomatous', 'polyposis', 'fibrillation', 'cold', 'autoinflammatory', 'cylindromatosis', 'dysautonomia', 'neuroserpin', 'inclusion', 'bodies', 'erythrocytosis', 'exudative', 'vitreoretinopathy', 'glucocorticoid', 'hdl', 'hemiplegic', 'migraine', 'hemophagocytic', 'lymphohistiocytosis', 'hyperaldosteronism', 'hypertrophic', 'hypobetalipoproteinemia', 'calcification', 'isolated', 'hyperparathyroidism', 'adenoma', 'lipoprotein', 'lipase', 'malelimited', 'precocious', 'puberty', 'mediterranean', 'fever', 'osteochondritis', 'dissecans', 'paroxysmal', 'kinesigenic', 'nonkinesigenic', 'pityriasis', 'rubra', 'pilaris', 'porencephaly', 'restrictive', 'aortic', 'aneurysm', 'dissection', 'fanconi', 'farber', 'lipogranulomatosis', 'fatty', 'hydroxylaseassociated', 'neurodegeneration', 'feingold', 'fg', 'fibrochondrogenesis', 'fibrodysplasia', 'ossificans', 'fibronectin', 'fisheye', 'floatingharbor', 'focal', 'dermal', 'fragile', 'xassociated', 'ovarian', 'insufficiency', 'tremorataxia', 'xe', 'fraser', 'frasier', 'freemansheldon', 'friedreich', 'frontometaphyseal', 'frontonasal', 'fryns', 'fuchs', 'endothelial', 'fucosidosis', 'fukuyama', 'fumarase', 'galactosemia', 'galactosialidosis', 'gastrointestinal', 'gaucher', 'geleophysic', 'infancy', 'genitopatellar', 'ghosal', 'hematodiaphyseal', 'giant', 'melanocytic', 'gilbert', 'gillespie', 'gitelman', 'glanzmann', 'thrombasthenia', 'globozoospermia', 'glucose', 'isomerase', 'glucosegalactose', 'malabsorption', 'glutamate', 'formiminotransferase', 'glutaric', 'acidemia', 'glutathione', 'glycine', 'glycogen', 'iii', 'iv', 'ix', 'vi', 'vii', 'gangliosidosis', 'ab', 'variant', 'synthase', 'gnathodiaphyseal', 'gorlin', 'gracile', 'granulomatosis', 'polyangiitis', 'graves', 'gray', 'platelet', 'greenberg', 'greig', 'cephalopolysyndactyly', 'griscelli', 'grnrelated', 'guanidinoacetate', 'methyltransferase', 'guillainbarr', 'gyrate', 'choroid', 'retina', 'hajducheney', 'handfootgenital', 'harlequin', 'ichthyosis', 'hashimoto', 'thyroiditis', 'head', 'neck', 'squamous', 'cell', 'carcinoma', 'hemophilia', 'hennekam', 'venoocclusive', 'immunodeficiency', 'angioedema', 'angiopathy', 'nephropathy', 'aneurysms', 'muscle', 'cramps', 'antithrombin', 'amyloid', 'diffuse', 'gastric', 'folate', 'fructose', 'intolerance', 'hemochromatosis', 'hemorrhagic', 'telangiectasia', 'hyperekplexia', 'hypophosphatemic', 'rickets', 'leiomyomatosis', 'renal', 'multiple', 'osteochondromas', 'early', 'respiratory', 'failure', 'neuralgic', 'amyotrophy', 'liability', 'pressure', 'palsies', 'pancreatitis', 'paragangliomapheochromocytoma', 'sensory', 'autonomic', 'ie', 'ia', 'spherocytosis', 'xanthinuria', 'hermanskypudlak', 'heterotaxy', 'hidradenitis', 'suppurativa', 'hirschsprung', 'histidinemia', 'histiocytosislymphadenopathy', 'holocarboxylase', 'holtoram', 'homocystinuria', 'horizontal', 'gaze', 'palsy', 'progressive', 'horner', 'huntington', 'diseaselike', 'hutchinsongilford', 'progeria', 'hypercholesterolemia', 'hyperferritinemiacataract', 'hyperkalemic', 'periodic', 'paralysis', 'hyperlysinemia', 'hypermanganesemia', 'polycythemia', 'hypermethioninemia', 'hyperparathyroidismjaw', 'hyperphosphatemic', 'tumoral', 'calcinosis', 'hyperprolinemia', 'hypochondrogenesis', 'hypochondroplasia', 'hypochromic', 'microcytic', 'hypohidrotic', 'hypokalemic', 'hypomagnesemia', 'secondary', 'hypomyelination', 'cataract', 'hypophosphatasia', 'hystrixlike', 'confetti', 'inflammatory', 'imerslundgrsbeck', 'dysregulation', 'polyendocrinopathy', 'enteropathy', 'paget', 'incontinentia', 'pigmenti', 'infantile', 'neuroaxonal', 'systemic', 'hyalinosis', 'infantileonset', 'ascending', 'spinocerebellar', 'thyroxinebinding', 'pseudoobstruction', 'pregnancy', 'intranuclear', 'rod', 'intrauterine', 'growth', 'restriction', 'metaphyseal', 'genital', 'anomalies', 'ironrefractory', 'isobutyrylcoa', 'isodicentric', 'chromosome', 'duane', 'retraction', 'ectopia', 'lentis', 'lissencephaly', 'sequence', 'pierre', 'robin', 'isovaleric', 'jacksonweiss', 'jacobsen', 'jervell', 'langenielsen', 'joubert', 'junctional', 'juvenile', 'batten', 'hyaline', 'fibromatosis', 'arthritis', 'myoclonic', 'osteoporosis', 'kabuki', 'kallmann', 'kawasaki', 'kbg', 'kearnssayre', 'keratitisichthyosisdeafness', 'keratoderma', 'woolly', 'hair', 'kleefstra', 'klinefelter', 'klippelfeil', 'klippeltrenaunay', 'kniest', 'knobloch', 'koolende', 'vries', 'krabbe', 'kufs', 'kuskokwim', 'lacrimoauriculodentodigital', 'lactate', 'lactose', 'lafora', 'myoclonus', 'laing', 'lamellar', 'langer', 'mesomelic', 'langergiedion', 'langerhans', 'histiocytosis', 'laron', 'larsen', 'laryngoonychocutaneous', 'lateinfantile', 'lattice', 'leber', 'amaurosis', 'optic', 'leggcalvperthes', 'legius', 'leigh', 'lennoxgastaut', 'lenz', 'microphthalmia', 'receptor', 'leschnyhan', 'leukocyte', 'adhesion', 'brainstem', 'spinal', 'cord', 'involvement', 'elevation', 'vanishing', 'white', 'matter', 'leydig', 'lifraumeni', 'liddle', 'limbgirdle', 'loeysdietz', 'longchain', 'lowe', 'lujan', 'lung', 'lymphangioleiomyomatosis', 'lymphedemadistichiasis', 'lynch', 'lysinuric', 'mabry', 'maffucci', 'mainzersaldino', 'majeed', 'mal', 'meleda', 'malignant', 'hyperthermia', 'migrating', 'malonylcoa', 'mandibuloacral', 'mandibulofacial', 'dysostosis', 'manitoba', 'oculotrichoanal', 'mannosebinding', 'lectin', 'maple', 'syrup', 'urine', 'marfan', 'marinescosjgren', 'maternally', 'diabetes', 'mayerrokitanskyksterhauser', 'mccunealbright', 'mckusickkaufman', 'mcleod', 'neuroacanthocytosis', 'meckel', 'duplication', 'severe', 'mediumchain', 'acylcoa', 'medullary', 'kidney', 'meesmann', 'megalencephalic', 'cysts', 'megalencephalycapillary', 'megdel', 'meiergorlin', 'meige', 'melnickneedles', 'menkes', 'metachromatic', 'leukodystrophy', 'metatropic', 'betaglobin', 'mevalonate', 'microcephalic', 'osteodysplastic', 'primordial', 'dwarfism', 'microcephalycapillary', 'linear', 'microvillus', 'miller', 'millerdieker', 'milroy', 'mitochondrial', 'encephalomyopathy', 'lactic', 'acidosis', 'strokelike', 'episodes', 'membrane', 'proteinassociated', 'neurogastrointestinal', 'trifunctional', 'miyoshi', 'moebius', 'molybdenum', 'cofactor', 'monilethrix', 'mowatwilson', 'moyamoya', 'hepatocerebral', 'dna', 'depletion', 'mucklewells', 'mucolipidosis', 'alphabeta', 'gamma', 'mucopolysaccharidosis', 'muenke', 'multicentric', 'osteolysis', 'nodulosis', 'arthropathy', 'multiminicore', 'cutaneous', 'mucosal', 'venous', 'malformations', 'endocrine', 'neoplasia', 'epiphyseal', 'trichoepithelioma', 'lentigines', 'dysfunctions', 'pterygium', 'sulfatase', 'system', 'myasthenia', 'gravis', 'mycosis', 'fungoides', 'myhre', 'raggedred', 'fibers', 'myoclonusdystonia', 'myofibrillar', 'ironsulfur', 'cluster', 'assembly', 'enzyme', 'myosin', 'myostatinrelated', 'hypertrophy', 'myotonia', 'myotonic', 'nacetylglutamate', 'naegelifranceschettijadassohn', 'syndromedermatopathia', 'pigmentosa', 'reticularis', 'nager', 'nailpatella', 'nakajonishimura', 'narcolepsy', 'nemaline', 'onset', 'multisystem', 'nephrogenic', 'insipidus', 'nephronophthisis', 'netherton', 'neuroblastoma', 'neuroferritinopathy', 'neurofibromatosis', 'neurohypophyseal', 'neuromyelitis', 'optica', 'retinitis', 'neutral', 'lipid', 'nicolaidesbaraitser', 'niemannpick', 'nijmegen', 'breakage', 'nonbullous', 'hearing', 'loss', 'holoprosencephaly', 'paraganglioma', 'noonan', 'norrie', 'north', 'american', 'indian', 'northern', 'ochoa', 'ocular', 'albinism', 'oculocutaneous', 'oculodentodigital', 'oculofaciocardiodental', 'oculopharyngeal', 'ohdo', 'maatkievitbrunner', 'saybarberbieseckeryoungsimpson', 'ollier', 'ophthalmoacromelic', 'opitz', 'gbbb', 'oralfacialdigital', 'ornithine', 'transcarbamylase', 'osteogenesis', 'osteoglophonic', 'osteopetrosis', 'osteoporosispseudoglioma', 'otopalatodigital', 'otospondylomegaepiphyseal', 'pachyonychia', 'bone', 'pallisterhall', 'pallisterkillian', 'mosaic', 'palmoplantar', 'pantothenate', 'kinaseassociated', 'paramyotonia', 'parkes', 'weber', 'parkinson', 'extreme', 'hemoglobinuria', 'partington', 'pdgfraassociated', 'eosinophilic', 'pdgfrbassociated', 'pearson', 'marrowpancreas', 'pelizaeusmerzbacher', 'pendred', 'periventricular', 'heterotopia', 'permanent', 'mellitus', 'peroxisomal', 'perrault', 'perry', 'persistent', 'mllerian', 'duct', 'peters', 'peutzjeghers', 'pfeiffer', 'phenylketonuria', 'phosphoglycerate', 'mutase', 'phosphoribosylpyrophosphate', 'superactivity', 'piebaldism', 'pilomatricoma', 'pitthopkins', 'platyspondylic', 'torrance', 'pol', 'iiirelated', 'poland', 'polycystic', 'lipomembranous', 'osteodysplasia', 'sclerosing', 'vera', 'polymicrogyria', 'pompe', 'pontocerebellar', 'popliteal', 'porphyria', 'potassiumaggravated', 'potockishaffer', 'ppmx', 'praderwilli', 'preeclampsia', 'prekallikrein', 'ciliary', 'hyperoxaluria', 'macronodular', 'myelofibrosis', 'cholangitis', 'spontaneous', 'pneumothorax', 'prion', 'external', 'ophthalmoplegia', 'block', 'osseous', 'heteroplasia', 'pseudorheumatoid', 'supranuclear', 'prolidase', 'proopiomelanocortin', 'propionic', 'prostate', 'proteus', 'prothrombin', 'pseudoachondroplasia', 'pseudocholinesterase', 'pseudohypoaldosteronism', 'pseudoxanthoma', 'elasticum', 'psoriatic', 'microlithiasis', 'hypertension', 'purine', 'nucleoside', 'phosphorylase', 'pyridoxal', 'pyridoxinedependent', 'pyruvate', 'carboxylase', 'rabsonmendenhall', 'rapadilino', 'rapidonset', 'parkinsonism', 'recombinant', 'hydatidiform', 'mole', 'refsum', 'renrelated', 'hypouricemia', 'tubular', 'dysgenesis', 'renpenning', 'restless', 'legs', 'retinal', 'macroaneurysm', 'supravalvular', 'pulmonic', 'stenosis', 'retinoblastoma', 'retroperitoneal', 'rett', 'rheumatoid', 'rhizomelic', 'chondrodysplasia', 'punctata', 'ring', 'rippling', 'roberts', 'robinow', 'romanoward', 'rothmundthomson', 'rotor', 'rubinsteintaybi', 'russellsilver', 'saddan', 'saethrechotzen', 'salih', 'sandhoff', 'schimke', 'immunoosseous', 'schindler', 'schinzelgiedion', 'schwartzjampel', 'seniorlken', 'sensorineural', 'sepiapterin', 'reductase', 'septooptic', 'sheldonhall', 'short', 'qt', 'stature', 'hyperextensibility', 'depression', 'rieger', 'anomaly', 'teething', 'delay', 'shortchain', 'shprintzengoldberg', 'shwachmandiamond', 'sialic', 'sialidosis', 'sialuria', 'sick', 'sinus', 'sickle', 'silver', 'simpsongolabibehmel', 'sitosterolemia', 'sjgren', 'sjgrenlarsson', 'small', 'fiber', 'smithlemliopitz', 'smithmagenis', 'snyderrobinson', 'sostrelated', 'sotos', 'anophthalmia', 'paraplegia', 'spina', 'bifida', 'bulbar', 'distress', 'spondylocarpotarsal', 'synostosis', 'spondylocostal', 'spondyloenchondrodysplasia', 'spondyloepimetaphyseal', 'strudwick', 'spondyloepiphyseal', 'spondyloperipheral', 'spondylothoracic', 'sporadic', 'stargardt', 'steatocystoma', 'multiplex', 'stevensjohnson', 'syndrometoxic', 'necrolysis', 'stickler', 'stingassociated', 'vasculopathy', 'stormorken', 'stvewiedemann', 'succinatecoa', 'ligase', 'succinic', 'semialdehyde', 'coa', 'transferase', 'sudden', 'infant', 'death', 'testes', 'surfactant', 'dysfunction', 'swyer', 'lupus', 'erythematosus', 'scleroderma', 'tcell', 'nail', 'tangier', 'tarsalcarpal', 'coalition', 'taskspecific', 'taysachs', 'tetraamelia', 'tetrahydrobiopterin', 'tetrasomy', 'thanatophoric', 'thiamineresponsive', 'megaloblastic', 'thiopurine', 'smethyltransferase', 'thrombocytopeniaabsent', 'radius', 'thrombotic', 'thrombocytopenic', 'purpura', 'tibial', 'tietz', 'timothy', 'myopathic', 'form', 'tourette', 'townesbrocks', 'transthyretin', 'amyloidosis', 'treacher', 'collins', 'trichohepatoenteric', 'trichothiodystrophy', 'trimethylaminuria', 'triosephosphate', 'triple', 'trisomy', 'troyer', 'tuberous', 'aggregate', 'necrosis', 'receptorassociated', 'turner', 'insulin', 'resistance', 'tyrosine', 'hydroxylase', 'tyrosinemia', 'ulcerative', 'colitis', 'unverrichtlundborg', 'uromodulinassociated', 'usher', 'uvsensitive', 'vacterl', 'association', 'van', 'der', 'woude', 'ddependent', 'vitelliform', 'vitiligo', 'vldlrassociated', 'vohwinkel', 'von', 'hippellindau', 'willebrand', 'waardenburg', 'wagner', 'wagr', 'waldenstrm', 'macroglobulinemia', 'walkerwarburg', 'warfarin', 'sensitivity', 'warsaw', 'weaver', 'weillmarchesani', 'weissenbacherzweymller', 'werner', 'weyers', 'acrofacial', 'sponge', 'williams', 'wilson', 'winchester', 'wiskottaldrich', 'wolfhirschhorn', 'wolffparkinsonwhite', 'wolfram', 'wolman', 'adrenoleukodystrophy', 'agammaglobulinemia', 'creatine', 'dystoniaparkinsonism', 'hyper', 'igm', 'magnesium', 'epsteinbarr', 'virus', 'infection', 'nystagmus', 'spasm', 'siderius', 'retinoschisis', 'abnormal', 'genitalia', 'myotubular', 'sideroblastic', 'tarda', 'xeroderma', 'pigmentosum', 'zellweger', 'microdeletion', 'deletion', 'hydroxysteroid', 'hydratase', 'testicular', 'sex', 'development', 'minus', 'transient', 'myeloproliferative']\n"
          ],
          "name": "stdout"
        }
      ]
    },
    {
      "cell_type": "code",
      "metadata": {
        "id": "maJ9urB6XtmV",
        "colab_type": "code",
        "colab": {
          "base_uri": "https://localhost:8080/",
          "height": 72
        },
        "outputId": "afef0a8f-96ea-4f08-b26b-6ef951dbbfc9"
      },
      "source": [
        "filename = \"questype_word2vec_full.txt\"\n",
        "model.wv.save_word2vec_format(filename, binary=False)"
      ],
      "execution_count": null,
      "outputs": [
        {
          "output_type": "stream",
          "text": [
            "/usr/local/lib/python3.6/dist-packages/smart_open/smart_open_lib.py:253: UserWarning: This function is deprecated, use smart_open.open instead. See the migration notes for details: https://github.com/RaRe-Technologies/smart_open/blob/master/README.rst#migrating-to-the-new-open-function\n",
            "  'See the migration notes for details: %s' % _MIGRATION_NOTES_URL\n"
          ],
          "name": "stderr"
        }
      ]
    },
    {
      "cell_type": "code",
      "metadata": {
        "id": "oFywa32hX_Zn",
        "colab_type": "code",
        "colab": {}
      },
      "source": [
        "embedding_index = {}\n",
        "f = open(os.path.join('', '/content/questype_word2vec_full.txt'),  encoding = \"utf-8\")\n",
        "for line in f:\n",
        "    values = line.split()\n",
        "    word = values[0]\n",
        "    coeff = np.asarray(values[1:], dtype='float32')\n",
        "    embedding_index[word] = coeff\n",
        "f.close()"
      ],
      "execution_count": null,
      "outputs": []
    },
    {
      "cell_type": "code",
      "metadata": {
        "id": "KlDSUeGHYPE8",
        "colab_type": "code",
        "colab": {}
      },
      "source": [
        "embedding_dim = 100\n",
        "embedding_matrix = np.zeros((len(word_index) + 1, embedding_dim))\n",
        "for word, i in word_index.items():\n",
        "    embedding_vector = embedding_index.get(word)\n",
        "    if embedding_vector is not None:\n",
        "        embedding_matrix[i] = embedding_vector"
      ],
      "execution_count": null,
      "outputs": []
    },
    {
      "cell_type": "code",
      "metadata": {
        "id": "0X_NfOpczKzM",
        "colab_type": "code",
        "colab": {
          "base_uri": "https://localhost:8080/",
          "height": 34
        },
        "outputId": "fb44c6cb-0e32-42ba-9536-f4a84be65832"
      },
      "source": [
        "embedding_matrix.shape"
      ],
      "execution_count": null,
      "outputs": [
        {
          "output_type": "execute_result",
          "data": {
            "text/plain": [
              "(1420, 100)"
            ]
          },
          "metadata": {
            "tags": []
          },
          "execution_count": 17
        }
      ]
    },
    {
      "cell_type": "code",
      "metadata": {
        "id": "XiXF4i1QYTcn",
        "colab_type": "code",
        "colab": {}
      },
      "source": [
        "embedding_layer = Embedding(len(word_index) + 1,\n",
        "                            embedding_dim,\n",
        "                            weights=[embedding_matrix],\n",
        "                            input_length=max_length,\n",
        "                            trainable=False)"
      ],
      "execution_count": null,
      "outputs": []
    },
    {
      "cell_type": "markdown",
      "metadata": {
        "id": "ldYOKB7cYa8U",
        "colab_type": "text"
      },
      "source": [
        "##Create LSTM model"
      ]
    },
    {
      "cell_type": "code",
      "metadata": {
        "id": "DNMAjbPnYfHe",
        "colab_type": "code",
        "colab": {
          "base_uri": "https://localhost:8080/",
          "height": 35
        },
        "outputId": "d1757828-f3df-48a9-eb7a-cc493ec3c30a"
      },
      "source": [
        "'''\n",
        "model1 = Sequential()\n",
        "model1.add(embedding_layer)\n",
        "model1.add(LSTM(100, return_sequences=True))\n",
        "model1.add(Dropout(0.2))\n",
        "model1.add(LSTM(100, return_sequences=False))\n",
        "model1.add(Dropout(0.2))\n",
        "model1.add(Dense(5, activation = \"softmax\"))\n",
        "'''\n",
        "'''\n",
        "# define model\n",
        "model = Sequential()\n",
        "model.add(embedding_layer)\n",
        "model.add(LSTM(units=32,  dropout=0.2, recurrent_dropout=0.25))\n",
        "model.add(Dense(5, activation='softmax'))\n",
        "'''\n",
        "'''\n",
        "model1.compile(loss='categorical_crossentropy', optimizer='adam', metrics=['accuracy'])\n",
        "\n",
        "print(model1.summary())\n",
        "'''"
      ],
      "execution_count": null,
      "outputs": [
        {
          "output_type": "execute_result",
          "data": {
            "application/vnd.google.colaboratory.intrinsic": {
              "type": "string"
            },
            "text/plain": [
              "\"\\nmodel1.compile(loss='categorical_crossentropy', optimizer='adam', metrics=['accuracy'])\\n\\nprint(model1.summary())\\n\""
            ]
          },
          "metadata": {
            "tags": []
          },
          "execution_count": 19
        }
      ]
    },
    {
      "cell_type": "code",
      "metadata": {
        "id": "o-Xhx2L6_Qwr",
        "colab_type": "code",
        "colab": {
          "base_uri": "https://localhost:8080/",
          "height": 354
        },
        "outputId": "2e2cd31d-f262-43c2-d229-10719415a1ce"
      },
      "source": [
        "\n",
        "model1 = Sequential()\n",
        "model1.add(embedding_layer)\n",
        "# Recurrent layer\n",
        "model1.add(LSTM(100, return_sequences=False, \n",
        "               dropout=0.1, recurrent_dropout=0.1))\n",
        "\n",
        "# Fully connected layer\n",
        "model1.add(Dense(100, activation='relu'))\n",
        "\n",
        "# Dropout for regularization\n",
        "model1.add(Dropout(0.5))\n",
        "\n",
        "# Output layer\n",
        "model1.add(Dense(5, activation='softmax'))\n",
        "\n",
        "model1.compile(loss='categorical_crossentropy', optimizer='adam', metrics=['accuracy'])\n",
        "\n",
        "print(model1.summary())\n"
      ],
      "execution_count": null,
      "outputs": [
        {
          "output_type": "stream",
          "text": [
            "Model: \"sequential_1\"\n",
            "_________________________________________________________________\n",
            "Layer (type)                 Output Shape              Param #   \n",
            "=================================================================\n",
            "embedding_1 (Embedding)      (None, 15, 100)           142000    \n",
            "_________________________________________________________________\n",
            "lstm_1 (LSTM)                (None, 100)               80400     \n",
            "_________________________________________________________________\n",
            "dense_1 (Dense)              (None, 100)               10100     \n",
            "_________________________________________________________________\n",
            "dropout_1 (Dropout)          (None, 100)               0         \n",
            "_________________________________________________________________\n",
            "dense_2 (Dense)              (None, 5)                 505       \n",
            "=================================================================\n",
            "Total params: 233,005\n",
            "Trainable params: 91,005\n",
            "Non-trainable params: 142,000\n",
            "_________________________________________________________________\n",
            "None\n"
          ],
          "name": "stdout"
        }
      ]
    },
    {
      "cell_type": "markdown",
      "metadata": {
        "id": "KSmX9abecyI2",
        "colab_type": "text"
      },
      "source": [
        "\n",
        "###LSTM Model Training"
      ]
    },
    {
      "cell_type": "code",
      "metadata": {
        "id": "aeR_z2uzYvIj",
        "colab_type": "code",
        "colab": {
          "base_uri": "https://localhost:8080/",
          "height": 390
        },
        "outputId": "f37b2e6e-1754-4a7b-e9d3-5206adedcd45"
      },
      "source": [
        "history = model1.fit(X_train_pad, y_train, epochs=10,batch_size=32, validation_data=(X_test_pad, y_test), verbose=1)"
      ],
      "execution_count": null,
      "outputs": [
        {
          "output_type": "stream",
          "text": [
            "Train on 4344 samples, validate on 1086 samples\n",
            "Epoch 1/10\n",
            "4344/4344 [==============================] - 9s 2ms/step - loss: 1.3975 - accuracy: 0.3768 - val_loss: 1.1645 - val_accuracy: 0.6473\n",
            "Epoch 2/10\n",
            "4344/4344 [==============================] - 7s 2ms/step - loss: 0.7589 - accuracy: 0.6697 - val_loss: 0.5373 - val_accuracy: 0.6952\n",
            "Epoch 3/10\n",
            "4344/4344 [==============================] - 7s 2ms/step - loss: 0.5251 - accuracy: 0.7548 - val_loss: 0.3769 - val_accuracy: 0.8554\n",
            "Epoch 4/10\n",
            "4344/4344 [==============================] - 7s 2ms/step - loss: 0.3946 - accuracy: 0.8386 - val_loss: 0.3796 - val_accuracy: 0.8241\n",
            "Epoch 5/10\n",
            "4344/4344 [==============================] - 7s 2ms/step - loss: 0.3227 - accuracy: 0.8752 - val_loss: 0.2175 - val_accuracy: 0.9061\n",
            "Epoch 6/10\n",
            "4344/4344 [==============================] - 7s 2ms/step - loss: 0.2917 - accuracy: 0.8980 - val_loss: 0.2144 - val_accuracy: 0.9180\n",
            "Epoch 7/10\n",
            "4344/4344 [==============================] - 7s 2ms/step - loss: 0.2320 - accuracy: 0.9201 - val_loss: 0.1427 - val_accuracy: 0.9429\n",
            "Epoch 8/10\n",
            "4344/4344 [==============================] - 7s 2ms/step - loss: 0.1838 - accuracy: 0.9372 - val_loss: 0.1470 - val_accuracy: 0.9355\n",
            "Epoch 9/10\n",
            "4344/4344 [==============================] - 7s 2ms/step - loss: 0.1875 - accuracy: 0.9381 - val_loss: 0.1231 - val_accuracy: 0.9540\n",
            "Epoch 10/10\n",
            "4344/4344 [==============================] - 7s 2ms/step - loss: 0.1605 - accuracy: 0.9480 - val_loss: 0.0966 - val_accuracy: 0.9687\n"
          ],
          "name": "stdout"
        }
      ]
    },
    {
      "cell_type": "code",
      "metadata": {
        "id": "mENyzjUS6WFU",
        "colab_type": "code",
        "colab": {
          "base_uri": "https://localhost:8080/",
          "height": 107
        },
        "outputId": "07b450ff-66cf-4923-e8cc-d316887a72b9"
      },
      "source": [
        "\n",
        "print(history.history['loss'])\n",
        "print(history.history['accuracy'])\n",
        "print(history.history['val_loss'])\n",
        "print(history.history['val_accuracy'])\n"
      ],
      "execution_count": null,
      "outputs": [
        {
          "output_type": "stream",
          "text": [
            "[1.3975482612683627, 0.7589389800366776, 0.5251119424679881, 0.394634994518691, 0.3227360642911321, 0.2917353464753588, 0.232043638002148, 0.1837551532172586, 0.18753718246549753, 0.1604781789125439]\n",
            "[0.37684163, 0.6696593, 0.75483423, 0.838628, 0.8752302, 0.89802027, 0.9201197, 0.9371547, 0.9380755, 0.9479742]\n",
            "[1.164542151858574, 0.5373368956985615, 0.3768554534042738, 0.3795915200730055, 0.21747842550442364, 0.21443168895789053, 0.14274651707453623, 0.1469984272937419, 0.12310886992275386, 0.0965975052977245]\n",
            "[0.6473296284675598, 0.6952117681503296, 0.8554328083992004, 0.8241252303123474, 0.9060773253440857, 0.9180479049682617, 0.9429097771644592, 0.9355432987213135, 0.9539594650268555, 0.968692421913147]\n"
          ],
          "name": "stdout"
        }
      ]
    },
    {
      "cell_type": "code",
      "metadata": {
        "id": "9b_Hca6Z7_Gb",
        "colab_type": "code",
        "colab": {
          "base_uri": "https://localhost:8080/",
          "height": 294
        },
        "outputId": "295322bd-a6ec-4503-c784-05dcee0f7908"
      },
      "source": [
        "\n",
        "from matplotlib import pyplot\n",
        "\n",
        "pyplot.plot(history.history['loss'])\n",
        "pyplot.plot(history.history['val_loss'])\n",
        "pyplot.title('model train vs validation loss')\n",
        "pyplot.ylabel('loss')\n",
        "pyplot.xlabel('epoch')\n",
        "pyplot.legend(['train', 'validation'], loc='upper right')\n",
        "pyplot.show()\n"
      ],
      "execution_count": null,
      "outputs": [
        {
          "output_type": "display_data",
          "data": {
            "image/png": "[encoded data removed]",
            "text/plain": [
              "<Figure size 432x288 with 1 Axes>"
            ]
          },
          "metadata": {
            "tags": [],
            "needs_background": "light"
          }
        }
      ]
    },
    {
      "cell_type": "markdown",
      "metadata": {
        "id": "aYW_Hype1VRU",
        "colab_type": "text"
      },
      "source": [
        "####Bidirectional LSTM"
      ]
    },
    {
      "cell_type": "code",
      "metadata": {
        "id": "AKkIKsmsVVRZ",
        "colab_type": "code",
        "colab": {
          "base_uri": "https://localhost:8080/",
          "height": 283
        },
        "outputId": "9cc81a2d-afc5-47d4-df89-d4ba81d6861d"
      },
      "source": [
        "\n",
        "model2 =Sequential()\n",
        "model2.add(embedding_layer)\n",
        "\n",
        "model2.add(Bidirectional(LSTM(100, dropout=0.2, recurrent_dropout=0.25)))\n",
        "model2.add(Dense(5, activation='softmax'))\n",
        "\n",
        "model2.compile(loss='categorical_crossentropy', optimizer='adam', metrics=['accuracy'])\n",
        "\n",
        "print(model2.summary())\n"
      ],
      "execution_count": null,
      "outputs": [
        {
          "output_type": "stream",
          "text": [
            "Model: \"sequential_2\"\n",
            "_________________________________________________________________\n",
            "Layer (type)                 Output Shape              Param #   \n",
            "=================================================================\n",
            "embedding_1 (Embedding)      (None, 15, 100)           142000    \n",
            "_________________________________________________________________\n",
            "bidirectional_1 (Bidirection (None, 200)               160800    \n",
            "_________________________________________________________________\n",
            "dense_3 (Dense)              (None, 5)                 1005      \n",
            "=================================================================\n",
            "Total params: 303,805\n",
            "Trainable params: 161,805\n",
            "Non-trainable params: 142,000\n",
            "_________________________________________________________________\n",
            "None\n"
          ],
          "name": "stdout"
        }
      ]
    },
    {
      "cell_type": "code",
      "metadata": {
        "id": "_5BZB2UfuWM6",
        "colab_type": "code",
        "colab": {
          "base_uri": "https://localhost:8080/",
          "height": 390
        },
        "outputId": "30b5dea2-0ef6-4158-ee85-b0f4aaa75639"
      },
      "source": [
        "history = model2.fit(X_train_pad, y_train, epochs=10,batch_size=32, validation_data=(X_test_pad, y_test), verbose=1)"
      ],
      "execution_count": null,
      "outputs": [
        {
          "output_type": "stream",
          "text": [
            "Train on 4344 samples, validate on 1086 samples\n",
            "Epoch 1/10\n",
            "4344/4344 [==============================] - 14s 3ms/step - loss: 1.0103 - accuracy: 0.6441 - val_loss: 0.4827 - val_accuracy: 0.8425\n",
            "Epoch 2/10\n",
            "4344/4344 [==============================] - 14s 3ms/step - loss: 0.3652 - accuracy: 0.8768 - val_loss: 0.2625 - val_accuracy: 0.8840\n",
            "Epoch 3/10\n",
            "4344/4344 [==============================] - 14s 3ms/step - loss: 0.2673 - accuracy: 0.9022 - val_loss: 0.1863 - val_accuracy: 0.9162\n",
            "Epoch 4/10\n",
            "4344/4344 [==============================] - 13s 3ms/step - loss: 0.1898 - accuracy: 0.9296 - val_loss: 0.1260 - val_accuracy: 0.9595\n",
            "Epoch 5/10\n",
            "4344/4344 [==============================] - 13s 3ms/step - loss: 0.1620 - accuracy: 0.9434 - val_loss: 0.1115 - val_accuracy: 0.9595\n",
            "Epoch 6/10\n",
            "4344/4344 [==============================] - 14s 3ms/step - loss: 0.1363 - accuracy: 0.9542 - val_loss: 0.0859 - val_accuracy: 0.9779\n",
            "Epoch 7/10\n",
            "4344/4344 [==============================] - 13s 3ms/step - loss: 0.1182 - accuracy: 0.9613 - val_loss: 0.0963 - val_accuracy: 0.9622\n",
            "Epoch 8/10\n",
            "4344/4344 [==============================] - 13s 3ms/step - loss: 0.1115 - accuracy: 0.9669 - val_loss: 0.0941 - val_accuracy: 0.9613\n",
            "Epoch 9/10\n",
            "4344/4344 [==============================] - 14s 3ms/step - loss: 0.1161 - accuracy: 0.9613 - val_loss: 0.0823 - val_accuracy: 0.9715\n",
            "Epoch 10/10\n",
            "4344/4344 [==============================] - 13s 3ms/step - loss: 0.0989 - accuracy: 0.9671 - val_loss: 0.0616 - val_accuracy: 0.9779\n"
          ],
          "name": "stdout"
        }
      ]
    },
    {
      "cell_type": "markdown",
      "metadata": {
        "id": "WUiDfIhCVWqm",
        "colab_type": "text"
      },
      "source": [
        "###GRU"
      ]
    },
    {
      "cell_type": "code",
      "metadata": {
        "id": "RMl72nGL1enC",
        "colab_type": "code",
        "colab": {
          "base_uri": "https://localhost:8080/",
          "height": 372
        },
        "outputId": "f5ae56f9-4d15-42d5-c13a-f683c5effece"
      },
      "source": [
        "\n",
        "#https://www.programcreek.com/python/example/97114/keras.layers.recurrent.GRU\n",
        "\n",
        "model3 = Sequential()\n",
        "model3.add(embedding_layer)\n",
        "model3.add(Dropout(0.5))\n",
        "model3.add(GRU(100, return_sequences=False))\n",
        "# Add dropout if overfitting\n",
        "model3.add(Dropout(0.5))\n",
        "model3.add(Dense(5))\n",
        "model3.add(Activation('softmax'))\n",
        "\n",
        "model3.compile(loss='categorical_crossentropy', optimizer='adam', metrics=['accuracy'])\n",
        "model3.summary()\n"
      ],
      "execution_count": null,
      "outputs": [
        {
          "output_type": "stream",
          "text": [
            "Model: \"sequential_3\"\n",
            "_________________________________________________________________\n",
            "Layer (type)                 Output Shape              Param #   \n",
            "=================================================================\n",
            "embedding_1 (Embedding)      (None, 15, 100)           142000    \n",
            "_________________________________________________________________\n",
            "dropout_2 (Dropout)          (None, 15, 100)           0         \n",
            "_________________________________________________________________\n",
            "gru_1 (GRU)                  (None, 100)               60300     \n",
            "_________________________________________________________________\n",
            "dropout_3 (Dropout)          (None, 100)               0         \n",
            "_________________________________________________________________\n",
            "dense_4 (Dense)              (None, 5)                 505       \n",
            "_________________________________________________________________\n",
            "activation_1 (Activation)    (None, 5)                 0         \n",
            "=================================================================\n",
            "Total params: 202,805\n",
            "Trainable params: 60,805\n",
            "Non-trainable params: 142,000\n",
            "_________________________________________________________________\n"
          ],
          "name": "stdout"
        }
      ]
    },
    {
      "cell_type": "code",
      "metadata": {
        "id": "DTZY_L_E5ax9",
        "colab_type": "code",
        "colab": {
          "base_uri": "https://localhost:8080/",
          "height": 390
        },
        "outputId": "7c2f3664-857e-4cb9-c936-2e9199fc99a0"
      },
      "source": [
        "history = model3.fit(X_train_pad, y_train, epochs=10,batch_size=60, validation_data=(X_test_pad, y_test), verbose=1)"
      ],
      "execution_count": null,
      "outputs": [
        {
          "output_type": "stream",
          "text": [
            "Train on 4344 samples, validate on 1086 samples\n",
            "Epoch 1/10\n",
            "4344/4344 [==============================] - 5s 1ms/step - loss: 1.5118 - accuracy: 0.3135 - val_loss: 1.3562 - val_accuracy: 0.4024\n",
            "Epoch 2/10\n",
            "4344/4344 [==============================] - 5s 1ms/step - loss: 1.2861 - accuracy: 0.4201 - val_loss: 1.1900 - val_accuracy: 0.4420\n",
            "Epoch 3/10\n",
            "4344/4344 [==============================] - 5s 1ms/step - loss: 1.0644 - accuracy: 0.5147 - val_loss: 0.8708 - val_accuracy: 0.5912\n",
            "Epoch 4/10\n",
            "4344/4344 [==============================] - 5s 1ms/step - loss: 0.7694 - accuracy: 0.6733 - val_loss: 0.5696 - val_accuracy: 0.8002\n",
            "Epoch 5/10\n",
            "4344/4344 [==============================] - 5s 1ms/step - loss: 0.5358 - accuracy: 0.7776 - val_loss: 0.3870 - val_accuracy: 0.7661\n",
            "Epoch 6/10\n",
            "4344/4344 [==============================] - 5s 1ms/step - loss: 0.4487 - accuracy: 0.8029 - val_loss: 0.3828 - val_accuracy: 0.7698\n",
            "Epoch 7/10\n",
            "4344/4344 [==============================] - 5s 1ms/step - loss: 0.4051 - accuracy: 0.8225 - val_loss: 0.3114 - val_accuracy: 0.8637\n",
            "Epoch 8/10\n",
            "4344/4344 [==============================] - 5s 1ms/step - loss: 0.3885 - accuracy: 0.8428 - val_loss: 0.2732 - val_accuracy: 0.8996\n",
            "Epoch 9/10\n",
            "4344/4344 [==============================] - 5s 1ms/step - loss: 0.3472 - accuracy: 0.8589 - val_loss: 0.2755 - val_accuracy: 0.8858\n",
            "Epoch 10/10\n",
            "4344/4344 [==============================] - 5s 1ms/step - loss: 0.3140 - accuracy: 0.8752 - val_loss: 0.2539 - val_accuracy: 0.8904\n"
          ],
          "name": "stdout"
        }
      ]
    },
    {
      "cell_type": "markdown",
      "metadata": {
        "id": "A3lKlYxJyb1N",
        "colab_type": "text"
      },
      "source": [
        "###Simple RNN"
      ]
    },
    {
      "cell_type": "code",
      "metadata": {
        "id": "lQ9dub5MyaM9",
        "colab_type": "code",
        "colab": {
          "base_uri": "https://localhost:8080/",
          "height": 265
        },
        "outputId": "df0bc943-1443-4130-bdb3-4761b9827c83"
      },
      "source": [
        "\n",
        "#https://medium.com/@hemantranvir/spam-detection-using-rnn-simplernn-lstm-with-step-by-step-explanation-530367608071\n",
        "model4 = Sequential()\n",
        "model4.add(embedding_layer)\n",
        "#model.add(SimpleRNN(units=embedding_mat_columns))\n",
        "model4.add(SimpleRNN(units=100, dropout=0.2, recurrent_dropout=0.25))\n",
        "model4.add(Dense(5, activation='softmax'))\n",
        "model4.compile(loss='categorical_crossentropy', optimizer='adam', metrics=['accuracy'])\n",
        "model4.summary()\n"
      ],
      "execution_count": null,
      "outputs": [
        {
          "output_type": "stream",
          "text": [
            "Model: \"sequential_4\"\n",
            "_________________________________________________________________\n",
            "Layer (type)                 Output Shape              Param #   \n",
            "=================================================================\n",
            "embedding_1 (Embedding)      (None, 15, 100)           142000    \n",
            "_________________________________________________________________\n",
            "simple_rnn_1 (SimpleRNN)     (None, 100)               20100     \n",
            "_________________________________________________________________\n",
            "dense_5 (Dense)              (None, 5)                 505       \n",
            "=================================================================\n",
            "Total params: 162,605\n",
            "Trainable params: 20,605\n",
            "Non-trainable params: 142,000\n",
            "_________________________________________________________________\n"
          ],
          "name": "stdout"
        }
      ]
    },
    {
      "cell_type": "code",
      "metadata": {
        "id": "GAtKhr6wziaS",
        "colab_type": "code",
        "colab": {
          "base_uri": "https://localhost:8080/",
          "height": 390
        },
        "outputId": "a815f541-614f-4d6f-9b0e-d6bb330203a4"
      },
      "source": [
        "history = model4.fit(X_train_pad, y_train, epochs=10,batch_size=60, validation_data=(X_test_pad, y_test), verbose=1)"
      ],
      "execution_count": null,
      "outputs": [
        {
          "output_type": "stream",
          "text": [
            "Train on 4344 samples, validate on 1086 samples\n",
            "Epoch 1/10\n",
            "4344/4344 [==============================] - 2s 472us/step - loss: 1.4982 - accuracy: 0.3416 - val_loss: 1.0588 - val_accuracy: 0.7007\n",
            "Epoch 2/10\n",
            "4344/4344 [==============================] - 2s 425us/step - loss: 1.1763 - accuracy: 0.5564 - val_loss: 0.6760 - val_accuracy: 0.8324\n",
            "Epoch 3/10\n",
            "4344/4344 [==============================] - 2s 416us/step - loss: 0.7587 - accuracy: 0.7408 - val_loss: 0.3777 - val_accuracy: 0.8600\n",
            "Epoch 4/10\n",
            "4344/4344 [==============================] - 2s 432us/step - loss: 0.5516 - accuracy: 0.7901 - val_loss: 0.3094 - val_accuracy: 0.8674\n",
            "Epoch 5/10\n",
            "4344/4344 [==============================] - 2s 421us/step - loss: 0.4975 - accuracy: 0.8131 - val_loss: 0.2469 - val_accuracy: 0.8987\n",
            "Epoch 6/10\n",
            "4344/4344 [==============================] - 2s 415us/step - loss: 0.4191 - accuracy: 0.8377 - val_loss: 0.2622 - val_accuracy: 0.8738\n",
            "Epoch 7/10\n",
            "4344/4344 [==============================] - 2s 422us/step - loss: 0.3908 - accuracy: 0.8442 - val_loss: 0.2906 - val_accuracy: 0.8646\n",
            "Epoch 8/10\n",
            "4344/4344 [==============================] - 2s 427us/step - loss: 0.3912 - accuracy: 0.8511 - val_loss: 0.2141 - val_accuracy: 0.9125\n",
            "Epoch 9/10\n",
            "4344/4344 [==============================] - 2s 429us/step - loss: 0.3651 - accuracy: 0.8600 - val_loss: 0.2236 - val_accuracy: 0.8867\n",
            "Epoch 10/10\n",
            "4344/4344 [==============================] - 2s 416us/step - loss: 0.3142 - accuracy: 0.8803 - val_loss: 0.2370 - val_accuracy: 0.9042\n"
          ],
          "name": "stdout"
        }
      ]
    },
    {
      "cell_type": "markdown",
      "metadata": {
        "id": "5BavxI1y9jIc",
        "colab_type": "text"
      },
      "source": [
        "####CNN"
      ]
    },
    {
      "cell_type": "code",
      "metadata": {
        "id": "0i90UNmRAiGb",
        "colab_type": "code",
        "colab": {
          "base_uri": "https://localhost:8080/",
          "height": 478
        },
        "outputId": "74a782ee-3a7c-4685-f8c6-c773fd504438"
      },
      "source": [
        "#https://github.com/keras-team/keras/blob/master/examples/imdb_cnn.py----------\n",
        "#https://github.com/bhaveshoswal/CNN-text-classification-keras/blob/master/model.py\n",
        "# set parameters:\n",
        "filters = 250\n",
        "kernel_size = 3\n",
        "hidden_dims = 100\n",
        "\n",
        "model5 = Sequential()\n",
        "\n",
        "# we start off with an efficient embedding layer which maps\n",
        "# our vocab indices into embedding_dims dimensions\n",
        "\n",
        "#model.add(Embedding(max_features, embedding_dims, input_length=maxlen))\n",
        "model5.add(embedding_layer)\n",
        "model5.add(Dropout(0.2))\n",
        "\n",
        "# we add a Convolution1D, which will learn filters\n",
        "# word group filters of size filter_length:\n",
        "model5.add(Conv1D(filters,\n",
        "                 kernel_size,\n",
        "                 padding='valid',\n",
        "                 activation='relu',\n",
        "                 strides=1))\n",
        "# we use max pooling:\n",
        "model5.add(GlobalMaxPooling1D())\n",
        "\n",
        "# We add a vanilla hidden layer:\n",
        "model5.add(Dense(hidden_dims))\n",
        "model5.add(Dropout(0.2))\n",
        "model5.add(Activation('relu'))\n",
        "\n",
        "# We project onto a single unit output layer, and squash it with a sigmoid:\n",
        "model5.add(Dense(5))\n",
        "model5.add(Activation('softmax'))\n",
        "\n",
        "model5.compile(loss='categorical_crossentropy',\n",
        "              optimizer='adam',\n",
        "              metrics=['accuracy'])\n",
        "\n",
        "model5.summary()"
      ],
      "execution_count": null,
      "outputs": [
        {
          "output_type": "stream",
          "text": [
            "Model: \"sequential_5\"\n",
            "_________________________________________________________________\n",
            "Layer (type)                 Output Shape              Param #   \n",
            "=================================================================\n",
            "embedding_1 (Embedding)      (None, 15, 100)           142000    \n",
            "_________________________________________________________________\n",
            "dropout_4 (Dropout)          (None, 15, 100)           0         \n",
            "_________________________________________________________________\n",
            "conv1d_1 (Conv1D)            (None, 13, 250)           75250     \n",
            "_________________________________________________________________\n",
            "global_max_pooling1d_1 (Glob (None, 250)               0         \n",
            "_________________________________________________________________\n",
            "dense_6 (Dense)              (None, 100)               25100     \n",
            "_________________________________________________________________\n",
            "dropout_5 (Dropout)          (None, 100)               0         \n",
            "_________________________________________________________________\n",
            "activation_2 (Activation)    (None, 100)               0         \n",
            "_________________________________________________________________\n",
            "dense_7 (Dense)              (None, 5)                 505       \n",
            "_________________________________________________________________\n",
            "activation_3 (Activation)    (None, 5)                 0         \n",
            "=================================================================\n",
            "Total params: 242,855\n",
            "Trainable params: 100,855\n",
            "Non-trainable params: 142,000\n",
            "_________________________________________________________________\n"
          ],
          "name": "stdout"
        }
      ]
    },
    {
      "cell_type": "code",
      "metadata": {
        "id": "iA937nDv-m5t",
        "colab_type": "code",
        "colab": {
          "base_uri": "https://localhost:8080/",
          "height": 390
        },
        "outputId": "6e83d8d7-e0c0-49b4-d187-62add9111269"
      },
      "source": [
        "history = model5.fit(X_train_pad, y_train, epochs=10,batch_size=60, validation_data=(X_test_pad, y_test), verbose=1)"
      ],
      "execution_count": null,
      "outputs": [
        {
          "output_type": "stream",
          "text": [
            "Train on 4344 samples, validate on 1086 samples\n",
            "Epoch 1/10\n",
            "4344/4344 [==============================] - 5s 1ms/step - loss: 1.0904 - accuracy: 0.6575 - val_loss: 0.5463 - val_accuracy: 0.8315\n",
            "Epoch 2/10\n",
            "4344/4344 [==============================] - 0s 110us/step - loss: 0.4342 - accuracy: 0.8616 - val_loss: 0.2970 - val_accuracy: 0.8775\n",
            "Epoch 3/10\n",
            "4344/4344 [==============================] - 0s 113us/step - loss: 0.2836 - accuracy: 0.9017 - val_loss: 0.1931 - val_accuracy: 0.9245\n",
            "Epoch 4/10\n",
            "4344/4344 [==============================] - 0s 108us/step - loss: 0.2181 - accuracy: 0.9243 - val_loss: 0.1459 - val_accuracy: 0.9392\n",
            "Epoch 5/10\n",
            "4344/4344 [==============================] - 0s 110us/step - loss: 0.1580 - accuracy: 0.9482 - val_loss: 0.1116 - val_accuracy: 0.9659\n",
            "Epoch 6/10\n",
            "4344/4344 [==============================] - 0s 113us/step - loss: 0.1470 - accuracy: 0.9519 - val_loss: 0.1126 - val_accuracy: 0.9641\n",
            "Epoch 7/10\n",
            "4344/4344 [==============================] - 0s 108us/step - loss: 0.1243 - accuracy: 0.9606 - val_loss: 0.0728 - val_accuracy: 0.9751\n",
            "Epoch 8/10\n",
            "4344/4344 [==============================] - 0s 109us/step - loss: 0.1163 - accuracy: 0.9636 - val_loss: 0.0737 - val_accuracy: 0.9733\n",
            "Epoch 9/10\n",
            "4344/4344 [==============================] - 0s 110us/step - loss: 0.1187 - accuracy: 0.9606 - val_loss: 0.0709 - val_accuracy: 0.9751\n",
            "Epoch 10/10\n",
            "4344/4344 [==============================] - 0s 108us/step - loss: 0.1062 - accuracy: 0.9659 - val_loss: 0.0764 - val_accuracy: 0.9890\n"
          ],
          "name": "stdout"
        }
      ]
    },
    {
      "cell_type": "markdown",
      "metadata": {
        "id": "RIxk7iXe8o6N",
        "colab_type": "text"
      },
      "source": [
        "\n",
        "###Can this model detect qtype?\n",
        "\n"
      ]
    },
    {
      "cell_type": "code",
      "metadata": {
        "id": "p7lm3azQ8S_2",
        "colab_type": "code",
        "colab": {}
      },
      "source": [
        "from pandas import *\n",
        "import operator\n",
        "def predict_(s):\n",
        "    x_final = pd.DataFrame({\"Question\":[s]})\n",
        "    test_lines = CleanTokenize(x_final)\n",
        "    test_sequences = tokenizer_obj.texts_to_sequences(test_lines)\n",
        "    test_review_pad = pad_sequences(test_sequences, maxlen=max_length, padding='post')\n",
        "    pred = model1.predict(test_review_pad)\n",
        "    #print(f'NumPy Array:\\n{[pred]}')\n",
        "    pred = pred.ravel()\n",
        "    listOfInt  = pred.tolist()\n",
        "    #print(listOfInt)\n",
        "    listOfStr = [\"genetic changes\", \"inheritance\", \"frequency\" , \"information\" , \"treatment\"]\n",
        "    # Create a zip object from two lists\n",
        "    zipbObj = zip(listOfStr, listOfInt)\n",
        "    # Create a dictionary from zip object\n",
        "    dictOfresult = dict(zipbObj)\n",
        "    #print(dictOfresult)\n",
        "    print(s, end =\" \")\n",
        "    print( max(dictOfresult.items(), key=operator.itemgetter(1))[0])"
      ],
      "execution_count": null,
      "outputs": []
    },
    {
      "cell_type": "code",
      "metadata": {
        "id": "ALDXxXV4-3a0",
        "colab_type": "code",
        "colab": {
          "base_uri": "https://localhost:8080/",
          "height": 34
        },
        "outputId": "ff160951-8781-40c2-fba4-3b1cfd28f1fa"
      },
      "source": [
        "predict_(\"What is (are) Coronavirous syndrome ?\")    "
      ],
      "execution_count": null,
      "outputs": [
        {
          "output_type": "stream",
          "text": [
            "What is (are) Coronavirous syndrome ? information\n"
          ],
          "name": "stdout"
        }
      ]
    },
    {
      "cell_type": "code",
      "metadata": {
        "id": "NJ4AIl8FDvyF",
        "colab_type": "code",
        "colab": {
          "base_uri": "https://localhost:8080/",
          "height": 34
        },
        "outputId": "fcbebeaf-75c2-4bdd-91c5-41bdca81d026"
      },
      "source": [
        "predict_(\"How many people are affected by Coronavirous syndrome ?\")"
      ],
      "execution_count": null,
      "outputs": [
        {
          "output_type": "stream",
          "text": [
            "How many people are affected by Coronavirous syndrome ? frequency\n"
          ],
          "name": "stdout"
        }
      ]
    },
    {
      "cell_type": "code",
      "metadata": {
        "id": "vpDmeEsdDzAC",
        "colab_type": "code",
        "colab": {
          "base_uri": "https://localhost:8080/",
          "height": 34
        },
        "outputId": "eb25f23e-5000-49e6-8f48-31622278b672"
      },
      "source": [
        "predict_(\"Is Coronavirous inherited ?\")"
      ],
      "execution_count": null,
      "outputs": [
        {
          "output_type": "stream",
          "text": [
            "Is Coronavirous inherited ? treatment\n"
          ],
          "name": "stdout"
        }
      ]
    }
  ]
}
