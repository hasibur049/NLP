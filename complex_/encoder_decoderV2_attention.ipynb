{
  "nbformat": 4,
  "nbformat_minor": 0,
  "metadata": {
    "kernelspec": {
      "display_name": "Python 3",
      "language": "python",
      "name": "python3"
    },
    "language_info": {
      "codemirror_mode": {
        "name": "ipython",
        "version": 3
      },
      "file_extension": ".py",
      "mimetype": "text/x-python",
      "name": "python",
      "nbconvert_exporter": "python",
      "pygments_lexer": "ipython3",
      "version": "3.7.4"
    },
    "colab": {
      "name": "encoder_decoderV2_attention.ipynb",
      "provenance": [],
      "collapsed_sections": [],
      "include_colab_link": true
    },
    "accelerator": "GPU"
  },
  "cells": [
    {
      "cell_type": "markdown",
      "metadata": {
        "id": "view-in-github",
        "colab_type": "text"
      },
      "source": [
        "<a href=\"https://colab.research.google.com/github/hasiburrahman1/NLP/blob/master/encoder_decoderV2_attention.ipynb\" target=\"_parent\"><img src=\"https://colab.research.google.com/assets/colab-badge.svg\" alt=\"Open In Colab\"/></a>"
      ]
    },
    {
      "cell_type": "code",
      "metadata": {
        "id": "tzHsWfqustqP",
        "outputId": "2b52bc26-a9bd-4893-e703-eed708dfbfd2",
        "colab": {
          "base_uri": "https://localhost:8080/",
          "height": 34
        }
      },
      "source": [
        "pwd"
      ],
      "execution_count": 1,
      "outputs": [
        {
          "output_type": "execute_result",
          "data": {
            "application/vnd.google.colaboratory.intrinsic+json": {
              "type": "string"
            },
            "text/plain": [
              "'/content'"
            ]
          },
          "metadata": {
            "tags": []
          },
          "execution_count": 1
        }
      ]
    },
    {
      "cell_type": "code",
      "metadata": {
        "id": "13AYMj-vs3gG",
        "outputId": "8b864a87-93a7-4504-bca4-fa87ad0ea783",
        "colab": {
          "base_uri": "https://localhost:8080/",
          "height": 34
        }
      },
      "source": [
        "from google.colab import drive\n",
        "drive.mount('/content/drive')"
      ],
      "execution_count": 2,
      "outputs": [
        {
          "output_type": "stream",
          "text": [
            "Mounted at /content/drive\n"
          ],
          "name": "stdout"
        }
      ]
    },
    {
      "cell_type": "code",
      "metadata": {
        "id": "juuV5cO04U65"
      },
      "source": [
        "import warnings\n",
        "warnings.simplefilter(action='ignore', category=FutureWarning)"
      ],
      "execution_count": 3,
      "outputs": []
    },
    {
      "cell_type": "code",
      "metadata": {
        "id": "g1dQ1yF7stqV"
      },
      "source": [
        "import pandas as pd\n",
        "import numpy as np\n",
        "import sys\n",
        "import string\n",
        "from string import digits\n",
        "from pandas import Panel\n",
        "from sklearn.datasets import make_circles\n",
        "from sklearn.utils import shuffle\n",
        "from sklearn.model_selection import train_test_split\n",
        "from keras.layers import Input, LSTM, Embedding, Dense\n",
        "from keras.models import Model\n",
        "import os\n",
        "import re\n",
        "import io\n",
        "import time\n",
        "import matplotlib.pyplot as plt\n",
        "%matplotlib inline\n",
        "import matplotlib.ticker as ticker\n",
        "import xml.etree.ElementTree as et \n",
        "import tensorflow as tf \n",
        "import tensorflow_addons as tfa\n",
        "from tensorflow.python.keras.preprocessing.text import Tokenizer\n",
        "from tensorflow.python.keras.preprocessing.sequence import pad_sequences\n",
        "from keras.models import Sequential\n",
        "from keras.layers import GRU, Bidirectional, LSTM, Input, Dense,Embedding, Concatenate, TimeDistributed\n",
        "from keras.layers.embeddings import Embedding\n",
        "from keras.initializers import Constant\n",
        "from keras.callbacks import ModelCheckpoint\n",
        "from keras.models import load_model\n",
        "from keras.callbacks import Callback\n",
        "from sklearn.metrics import confusion_matrix, f1_score, precision_score, recall_score\n",
        "from tensorflow.keras.models import Model,load_model, model_from_json\n",
        "from tensorflow.keras.utils import plot_model\n",
        "from tensorflow.keras.preprocessing.text import one_hot, Tokenizer\n",
        "from tensorflow.keras.callbacks import EarlyStopping\n",
        "import pickle as pkl\n",
        "\n",
        "from keras.layers import Dense\n",
        "from keras.models import Sequential, Input, Model\n",
        "from sklearn.metrics import confusion_matrix, f1_score, precision_score, recall_score\n",
        "\n",
        "from keras import backend as K \n",
        "K.clear_session() \n"
      ],
      "execution_count": 4,
      "outputs": []
    },
    {
      "cell_type": "code",
      "metadata": {
        "id": "tpTooBwVtD9c"
      },
      "source": [
        "# import pandas as pd \n",
        "import pandas as pd \n",
        "   \n",
        "# Takes the file's folder \n",
        "#filepath = r\"C:Documents\\dataset.csv\"\n",
        "\n",
        "filepath = r\"/content/drive/My Drive/Colab Notebooks/complex/updated complex/dataset.csv\" \n",
        "# read the CSV file \n",
        "\n",
        "#lines = pd.read_csv(filepath, encoding='ascii')\n",
        "lines = pd.read_csv(filepath, sep='delimiter', header=None, engine='python') \n"
      ],
      "execution_count": 5,
      "outputs": []
    },
    {
      "cell_type": "code",
      "metadata": {
        "id": "yHeT3XDBstqa",
        "outputId": "7747ec00-4aad-4e30-c835-2981b2874d23",
        "colab": {
          "base_uri": "https://localhost:8080/",
          "height": 52
        }
      },
      "source": [
        "print(len(lines)) \n",
        "lines.columns = ['qa']\n",
        "list(lines.columns)"
      ],
      "execution_count": 6,
      "outputs": [
        {
          "output_type": "stream",
          "text": [
            "4040\n"
          ],
          "name": "stdout"
        },
        {
          "output_type": "execute_result",
          "data": {
            "text/plain": [
              "['qa']"
            ]
          },
          "metadata": {
            "tags": []
          },
          "execution_count": 6
        }
      ]
    },
    {
      "cell_type": "code",
      "metadata": {
        "id": "HPhka2O0stqc"
      },
      "source": [
        "lines[['question','answer']] = lines.qa.apply(lambda x: pd.Series(str(x).split(\"?\")))"
      ],
      "execution_count": 7,
      "outputs": []
    },
    {
      "cell_type": "code",
      "metadata": {
        "id": "4uaQB5alstqe",
        "outputId": "e385af4a-3c49-4c25-a6a1-4dc305a95e92",
        "colab": {
          "base_uri": "https://localhost:8080/",
          "height": 34
        }
      },
      "source": [
        "list(lines.columns)"
      ],
      "execution_count": 8,
      "outputs": [
        {
          "output_type": "execute_result",
          "data": {
            "text/plain": [
              "['qa', 'question', 'answer']"
            ]
          },
          "metadata": {
            "tags": []
          },
          "execution_count": 8
        }
      ]
    },
    {
      "cell_type": "code",
      "metadata": {
        "id": "kI7x7oqqstqg"
      },
      "source": [
        "for col in lines.columns: \n",
        "    if 'qa' in col: \n",
        "        del lines[col] \n",
        "  "
      ],
      "execution_count": 9,
      "outputs": []
    },
    {
      "cell_type": "code",
      "metadata": {
        "id": "-fcbOqnBstqi",
        "outputId": "77be69a7-fa05-452f-da5f-bbb703d6365b",
        "colab": {
          "base_uri": "https://localhost:8080/",
          "height": 141
        }
      },
      "source": [
        "lines.iloc[:3]"
      ],
      "execution_count": 10,
      "outputs": [
        {
          "output_type": "execute_result",
          "data": {
            "text/html": [
              "<div>\n",
              "<style scoped>\n",
              "    .dataframe tbody tr th:only-of-type {\n",
              "        vertical-align: middle;\n",
              "    }\n",
              "\n",
              "    .dataframe tbody tr th {\n",
              "        vertical-align: top;\n",
              "    }\n",
              "\n",
              "    .dataframe thead th {\n",
              "        text-align: right;\n",
              "    }\n",
              "</style>\n",
              "<table border=\"1\" class=\"dataframe\">\n",
              "  <thead>\n",
              "    <tr style=\"text-align: right;\">\n",
              "      <th></th>\n",
              "      <th>question</th>\n",
              "      <th>answer</th>\n",
              "    </tr>\n",
              "  </thead>\n",
              "  <tbody>\n",
              "    <tr>\n",
              "      <th>0</th>\n",
              "      <td>What is (are) abdominal wall defect</td>\n",
              "      <td>,An opening in the abdomen through which vario...</td>\n",
              "    </tr>\n",
              "    <tr>\n",
              "      <th>1</th>\n",
              "      <td>What are the treatments for abdominal wall defect</td>\n",
              "      <td>,Diagnostic Tests-Drug Therapy-Surgery and Reh...</td>\n",
              "    </tr>\n",
              "    <tr>\n",
              "      <th>2</th>\n",
              "      <td>What is (are) Osteoporosis</td>\n",
              "      <td>,A Bone Disease that thins and weakens the bon...</td>\n",
              "    </tr>\n",
              "  </tbody>\n",
              "</table>\n",
              "</div>"
            ],
            "text/plain": [
              "                                            question                                             answer\n",
              "0                What is (are) abdominal wall defect  ,An opening in the abdomen through which vario...\n",
              "1  What are the treatments for abdominal wall defect  ,Diagnostic Tests-Drug Therapy-Surgery and Reh...\n",
              "2                        What is (are) Osteoporosis   ,A Bone Disease that thins and weakens the bon..."
            ]
          },
          "metadata": {
            "tags": []
          },
          "execution_count": 10
        }
      ]
    },
    {
      "cell_type": "code",
      "metadata": {
        "id": "cSk31GPJstqk"
      },
      "source": [
        "lines.columns = ['source', 'target']"
      ],
      "execution_count": 11,
      "outputs": []
    },
    {
      "cell_type": "code",
      "metadata": {
        "id": "EwCwcdoCstqm",
        "outputId": "1882636d-3b4a-4a12-c9c6-193a10ec5bd1",
        "colab": {
          "base_uri": "https://localhost:8080/",
          "height": 34
        }
      },
      "source": [
        "list(lines.columns)"
      ],
      "execution_count": 12,
      "outputs": [
        {
          "output_type": "execute_result",
          "data": {
            "text/plain": [
              "['source', 'target']"
            ]
          },
          "metadata": {
            "tags": []
          },
          "execution_count": 12
        }
      ]
    },
    {
      "cell_type": "code",
      "metadata": {
        "id": "96Vj4Dvestqo",
        "outputId": "b093bd34-f43b-47b9-f56d-3330f95720a5",
        "colab": {
          "base_uri": "https://localhost:8080/",
          "height": 34
        }
      },
      "source": [
        "lines['source'].iloc[2000]"
      ],
      "execution_count": 13,
      "outputs": [
        {
          "output_type": "execute_result",
          "data": {
            "application/vnd.google.colaboratory.intrinsic+json": {
              "type": "string"
            },
            "text/plain": [
              "'What are the treatments for late-infantile neuronal ceroid lipofuscinosis '"
            ]
          },
          "metadata": {
            "tags": []
          },
          "execution_count": 13
        }
      ]
    },
    {
      "cell_type": "code",
      "metadata": {
        "id": "V4yFlDH3stqr",
        "outputId": "5520fcd2-20bb-4c57-e025-254b33c7009d",
        "colab": {
          "base_uri": "https://localhost:8080/",
          "height": 34
        }
      },
      "source": [
        "lines['target'].iloc[2000]"
      ],
      "execution_count": 14,
      "outputs": [
        {
          "output_type": "execute_result",
          "data": {
            "application/vnd.google.colaboratory.intrinsic+json": {
              "type": "string"
            },
            "text/plain": [
              "',\"An eye disorder that affects the clear, outer covering of the eye called the cornea. \"'"
            ]
          },
          "metadata": {
            "tags": []
          },
          "execution_count": 14
        }
      ]
    },
    {
      "cell_type": "code",
      "metadata": {
        "id": "l0AL1elKstqt"
      },
      "source": [
        "lines['target'] = lines['target'].fillna('').apply(str)"
      ],
      "execution_count": 15,
      "outputs": []
    },
    {
      "cell_type": "code",
      "metadata": {
        "id": "oa23n-13stqv"
      },
      "source": [
        "# convert source and target text to Lowercase \n",
        "lines.source=lines.source.apply(lambda x: x.lower())\n",
        "lines.target=lines.target.apply(lambda x: x.lower())\n",
        "\n",
        "# Remove quotes from source and target text\n",
        "lines.source=lines.source.apply(lambda x: re.sub(\"'\", '', x))\n",
        "lines.target=lines.target.apply(lambda x: re.sub(\"'\", '', x))\n",
        "\n",
        "#s = re.sub(r\"[-()\\\"#/@;:<>{}`+=~|.!?,]\", \" \", x)\n",
        "\n",
        "lines.source=lines.source.apply(lambda x: re.sub(r'[-()\\\"#/@;:<>{}`+=~|.!?,]',r' ',x))\n",
        "lines.target=lines.target.apply(lambda x: re.sub(r'[-()\\\"#/@;:<>{}`+=~|.!?,]',r' ',x))\n",
        "\n",
        "'''\n",
        "# create a set of all special characters\n",
        "special_characters= set(string.punctuation)\n",
        "\n",
        "# Remove all the special characters\n",
        "lines.source=lines.source.apply(lambda x: re.sub(r'[^a-zA-Z0-9 ]',r'',x))\n",
        "lines.target=lines.target.apply(lambda x: re.sub(r'[^a-zA-Z0-9 ]',r'',x))\n",
        "'''\n",
        "# Remove digits from source and target sentences\n",
        "num_digits= str.maketrans('','', digits)\n",
        "lines.source=lines.source.apply(lambda x: x.translate(num_digits))\n",
        "lines.target= lines.target.apply(lambda x: x.translate(num_digits))\n",
        "\n",
        "# Remove extra spaces\n",
        "lines.source=lines.source.apply(lambda x: x.strip())\n",
        "lines.target=lines.target.apply(lambda x: x.strip())\n",
        "lines.source=lines.source.apply(lambda x: re.sub(\" +\", \" \", x))\n",
        "lines.target=lines.target.apply(lambda x: re.sub(\" +\", \" \", x))\n"
      ],
      "execution_count": 16,
      "outputs": []
    },
    {
      "cell_type": "code",
      "metadata": {
        "id": "d73hdKpUstqx",
        "outputId": "1889f72a-b2b9-4ca9-8ee1-8c0a2b34f119",
        "colab": {
          "base_uri": "https://localhost:8080/",
          "height": 233
        }
      },
      "source": [
        "# Add start and end tokens to target sequences\n",
        "lines.target = lines.target.apply(lambda x : 'START_ '+ x + ' _END')\n",
        "lines.sample(6)"
      ],
      "execution_count": 17,
      "outputs": [
        {
          "output_type": "execute_result",
          "data": {
            "text/html": [
              "<div>\n",
              "<style scoped>\n",
              "    .dataframe tbody tr th:only-of-type {\n",
              "        vertical-align: middle;\n",
              "    }\n",
              "\n",
              "    .dataframe tbody tr th {\n",
              "        vertical-align: top;\n",
              "    }\n",
              "\n",
              "    .dataframe thead th {\n",
              "        text-align: right;\n",
              "    }\n",
              "</style>\n",
              "<table border=\"1\" class=\"dataframe\">\n",
              "  <thead>\n",
              "    <tr style=\"text-align: right;\">\n",
              "      <th></th>\n",
              "      <th>source</th>\n",
              "      <th>target</th>\n",
              "    </tr>\n",
              "  </thead>\n",
              "  <tbody>\n",
              "    <tr>\n",
              "      <th>2194</th>\n",
              "      <td>what is the risk for salivary gland cancer</td>\n",
              "      <td>START_ being exposed to certain types of radia...</td>\n",
              "    </tr>\n",
              "    <tr>\n",
              "      <th>3626</th>\n",
              "      <td>what are the treatments for vitiligo</td>\n",
              "      <td>START_ diagnostic tests drug therapy surgery a...</td>\n",
              "    </tr>\n",
              "    <tr>\n",
              "      <th>1500</th>\n",
              "      <td>what is are intestinal pseudo obstruction</td>\n",
              "      <td>START_ condition characterized by impairment o...</td>\n",
              "    </tr>\n",
              "    <tr>\n",
              "      <th>747</th>\n",
              "      <td>how many people are affected by piebaldism</td>\n",
              "      <td>START_ the prevalence of piebaldism is unknown...</td>\n",
              "    </tr>\n",
              "    <tr>\n",
              "      <th>3912</th>\n",
              "      <td>what are the genetic changes related to q dele...</td>\n",
              "      <td>START_ q deletion syndrome is caused by a dele...</td>\n",
              "    </tr>\n",
              "    <tr>\n",
              "      <th>2056</th>\n",
              "      <td>what is parathyroid cancer</td>\n",
              "      <td>START_ a rare disease in which cancer cells fo...</td>\n",
              "    </tr>\n",
              "  </tbody>\n",
              "</table>\n",
              "</div>"
            ],
            "text/plain": [
              "                                                 source                                             target\n",
              "2194         what is the risk for salivary gland cancer  START_ being exposed to certain types of radia...\n",
              "3626               what are the treatments for vitiligo  START_ diagnostic tests drug therapy surgery a...\n",
              "1500          what is are intestinal pseudo obstruction  START_ condition characterized by impairment o...\n",
              "747          how many people are affected by piebaldism  START_ the prevalence of piebaldism is unknown...\n",
              "3912  what are the genetic changes related to q dele...  START_ q deletion syndrome is caused by a dele...\n",
              "2056                         what is parathyroid cancer  START_ a rare disease in which cancer cells fo..."
            ]
          },
          "metadata": {
            "tags": []
          },
          "execution_count": 17
        }
      ]
    },
    {
      "cell_type": "code",
      "metadata": {
        "id": "ODTq93PKstqz",
        "outputId": "279536ce-5f9f-43ec-977b-c8a7d6840939",
        "colab": {
          "base_uri": "https://localhost:8080/",
          "height": 34
        }
      },
      "source": [
        "lines['source'].iloc[2086]"
      ],
      "execution_count": 18,
      "outputs": [
        {
          "output_type": "execute_result",
          "data": {
            "application/vnd.google.colaboratory.intrinsic+json": {
              "type": "string"
            },
            "text/plain": [
              "'how to diagnose colon cancer'"
            ]
          },
          "metadata": {
            "tags": []
          },
          "execution_count": 18
        }
      ]
    },
    {
      "cell_type": "code",
      "metadata": {
        "id": "MEra-bW3stq1",
        "outputId": "e77bb2dc-cbc1-4f81-ab07-d5ed8cc62ab2",
        "colab": {
          "base_uri": "https://localhost:8080/",
          "height": 34
        }
      },
      "source": [
        "lines['target'].iloc[2086]"
      ],
      "execution_count": 19,
      "outputs": [
        {
          "output_type": "execute_result",
          "data": {
            "application/vnd.google.colaboratory.intrinsic+json": {
              "type": "string"
            },
            "text/plain": [
              "'START_ digital rectal exam biopsy _END'"
            ]
          },
          "metadata": {
            "tags": []
          },
          "execution_count": 19
        }
      ]
    },
    {
      "cell_type": "code",
      "metadata": {
        "id": "UZutrCzostq3",
        "outputId": "6df87d21-ad63-4d1f-ea2d-0bb67ab11500",
        "colab": {
          "base_uri": "https://localhost:8080/",
          "height": 34
        }
      },
      "source": [
        "# Find all the source and target words and sort them\n",
        "# Vocabulary of Source language\n",
        "all_source_words=set()\n",
        "for source in lines.source:\n",
        "    for word in source.split():\n",
        "        if word not in all_source_words:\n",
        "            all_source_words.add(word)\n",
        "# Vocabulary of Target \n",
        "all_target_words=set()\n",
        "for target in lines.target:\n",
        "    for word in target.split():\n",
        "        if word not in all_target_words:\n",
        "            all_target_words.add(word)\n",
        "# sort all unique source and target words\n",
        "source_words= sorted(list(all_source_words))\n",
        "target_words=sorted(list(all_target_words))\n",
        "\n",
        "len(source_words), len(target_words)"
      ],
      "execution_count": 20,
      "outputs": [
        {
          "output_type": "execute_result",
          "data": {
            "text/plain": [
              "(1270, 3635)"
            ]
          },
          "metadata": {
            "tags": []
          },
          "execution_count": 20
        }
      ]
    },
    {
      "cell_type": "code",
      "metadata": {
        "id": "9CDZwIgYstq5",
        "outputId": "c20edd5c-ac5f-462f-c85f-fd8820a31798",
        "colab": {
          "base_uri": "https://localhost:8080/",
          "height": 52
        }
      },
      "source": [
        "#Find maximum sentence length in  the source and target data\n",
        "source_length_list=[]\n",
        "for l in lines.source:\n",
        "    source_length_list.append(len(l.split(' ')))\n",
        "max_source_length= max(source_length_list)\n",
        "print(\" Max length of the source sentence\",max_source_length)\n",
        "target_length_list=[]\n",
        "for l in lines.target:\n",
        "    target_length_list.append(len(l.split(' ')))\n",
        "max_target_length= max(target_length_list)\n",
        "print(\" Max length of the target sentence\",max_target_length)"
      ],
      "execution_count": 21,
      "outputs": [
        {
          "output_type": "stream",
          "text": [
            " Max length of the source sentence 19\n",
            " Max length of the target sentence 31\n"
          ],
          "name": "stdout"
        }
      ]
    },
    {
      "cell_type": "code",
      "metadata": {
        "id": "dNEUOrIWstq7"
      },
      "source": [
        "# creating a word to index(word2idx) for source and target\n",
        "source_word2idx= dict([(word, i+1) for i,word in enumerate(source_words)])\n",
        "target_word2idx=dict([(word, i+1) for i, word in enumerate(target_words)])"
      ],
      "execution_count": 22,
      "outputs": []
    },
    {
      "cell_type": "code",
      "metadata": {
        "id": "WTBTtf58stq8",
        "outputId": "37753f85-a200-46a4-8121-00c09afdc853",
        "colab": {
          "base_uri": "https://localhost:8080/",
          "height": 54
        }
      },
      "source": [
        "#creating a dictionary for index to word for source and target vocabulary\n",
        "source_idx2word= dict([(i, word) for word, i in  source_word2idx.items()])\n",
        "print(source_idx2word)\n",
        "target_idx2word =dict([(i, word) for word, i in target_word2idx.items()])"
      ],
      "execution_count": 23,
      "outputs": [
        {
          "output_type": "stream",
          "text": [
            "{1: 'a', 2: 'aarskog', 3: 'ab', 4: 'abdominal', 5: 'abetalipoproteinemia', 6: 'abnormal', 7: 'absent', 8: 'abuse', 9: 'acatalasemia', 10: 'accumulation', 11: 'acetylglutamate', 12: 'achondrogenesis', 13: 'achondroplasia', 14: 'achromatopsia', 15: 'acid', 16: 'acidemia', 17: 'acidosis', 18: 'aciduria', 19: 'acral', 20: 'acrofacial', 21: 'acromelic', 22: 'acromicric', 23: 'actin', 24: 'activated', 25: 'acute', 26: 'acyl', 27: 'adams', 28: 'adcy', 29: 'adenine', 30: 'adenosine', 31: 'adenylosuccinate', 32: 'adermatoglyphia', 33: 'adhesion', 34: 'adiposis', 35: 'adolescent', 36: 'adrenal', 37: 'adrenoleukodystrophy', 38: 'adult', 39: 'adults', 40: 'affected', 41: 'african', 42: 'agammaglobulinemia', 43: 'age', 44: 'aggravated', 45: 'aggregate', 46: 'aicardi', 47: 'aids', 48: 'alagille', 49: 'albinism', 50: 'albright', 51: 'aldrich', 52: 'alexander', 53: 'alg', 54: 'alkaptonuria', 55: 'allan', 56: 'allergic', 57: 'alopecia', 58: 'alpers', 59: 'alpha', 60: 'amelia', 61: 'american', 62: 'amyloid', 63: 'amyloidosis', 64: 'amyotrophy', 65: 'and', 66: 'anemia', 67: 'aneurysms', 68: 'angioedema', 69: 'angiopathy', 70: 'anomalies', 71: 'anophthalmia', 72: 'antithrombin', 73: 'antitrypsin', 74: 'aortic', 75: 'aplasia', 76: 'appears', 77: 'are', 78: 'arterial', 79: 'arteriosclerosis', 80: 'arthritis', 81: 'arthropathy', 82: 'ascending', 83: 'assembly', 84: 'associated', 85: 'association', 86: 'asthma', 87: 'at', 88: 'ataxia', 89: 'atrophy', 90: 'attack', 91: 'auriculo', 92: 'autonomic', 93: 'axonal', 94: 'balance', 95: 'baraitser', 96: 'barber', 97: 'barr', 98: 'batten', 99: 'bbb', 100: 'behmel', 101: 'being', 102: 'beta', 103: 'biesecker', 104: 'bifida', 105: 'bile', 106: 'binding', 107: 'blindness', 108: 'blood', 109: 'bodies', 110: 'body', 111: 'bone', 112: 'brain', 113: 'brainstem', 114: 'breakage', 115: 'breast', 116: 'brocks', 117: 'brunner', 118: 'bulbar', 119: 'bullosa', 120: 'by', 121: 'calcification', 122: 'calv', 123: 'cancer', 124: 'capillary', 125: 'carboxylase', 126: 'carcinoid', 127: 'carcinoma', 128: 'carpal', 129: 'cataract', 130: 'cause', 131: 'causes', 132: 'cavity', 133: 'cell', 134: 'central', 135: 'cephalic', 136: 'cephalopolysyndactyly', 137: 'cerebellar', 138: 'cerebellaris', 139: 'cerebral', 140: 'cerebro', 141: 'ceroid', 142: 'chain', 143: 'changes', 144: 'charcot', 145: 'cheney', 146: 'childhood', 147: 'children', 148: 'cholestasis', 149: 'chondrodysplasia', 150: 'chorea', 151: 'choroid', 152: 'chotzen', 153: 'chromosome', 154: 'chronic', 155: 'cidp', 156: 'cirrhosis', 157: 'clinical', 158: 'cluster', 159: 'cns', 160: 'coa', 161: 'coalition', 162: 'cofactor', 163: 'coffin', 164: 'cofs', 165: 'colitis', 166: 'collins', 167: 'coloboma', 168: 'colon', 169: 'colorectal', 170: 'colpocephaly', 171: 'coma', 172: 'combined', 173: 'complex', 174: 'complications', 175: 'confetti', 176: 'congenita', 177: 'congenital', 178: 'consequences', 179: 'cord', 180: 'corneal', 181: 'coronavirus', 182: 'corticobasal', 183: 'covid', 184: 'cramps', 185: 'craniopharyngioma', 186: 'craniosynostosis', 187: 'creatine', 188: 'creutzfeldt', 189: 'cushings', 190: 'cutaneous', 191: 'cutis', 192: 'cystic', 193: 'cysts', 194: 'cytomegalovirus', 195: 'd', 196: 'dandy', 197: 'de', 198: 'deafness', 199: 'deaminase', 200: 'death', 201: 'decarboxylase', 202: 'deep', 203: 'defect', 204: 'defects', 205: 'deficiency', 206: 'degeneration', 207: 'dehydrogenase', 208: 'deletion', 209: 'delta', 210: 'dementia', 211: 'demyelinating', 212: 'dento', 213: 'dependent', 214: 'depletion', 215: 'der', 216: 'dermatomyositis', 217: 'dermatopathia', 218: 'development', 219: 'developmental', 220: 'diabetes', 221: 'diabetic', 222: 'diagnose', 223: 'diagonose', 224: 'diagonse', 225: 'diamond', 226: 'dieker', 227: 'dietz', 228: 'diffuse', 229: 'digital', 230: 'disability', 231: 'disease', 232: 'disorder', 233: 'disorders', 234: 'distal', 235: 'distichiasis', 236: 'distress', 237: 'dna', 238: 'do', 239: 'does', 240: 'dolorosa', 241: 'done', 242: 'dravet', 243: 'drop', 244: 'drug', 245: 'duane', 246: 'duct', 247: 'dudley', 248: 'duplication', 249: 'dwarfism', 250: 'dysfunction', 251: 'dysfunctions', 252: 'dysgenesis', 253: 'dysgraphia', 254: 'dyskinesia', 255: 'dyslexia', 256: 'dysostosis', 257: 'dysplasia', 258: 'dyspraxia', 259: 'dysregulation', 260: 'dyssynergia', 261: 'dystonia', 262: 'dystonias', 263: 'dystrophy', 264: 'early', 265: 'ectopia', 266: 'elevation', 267: 'empty', 268: 'encephalitis', 269: 'encephaloceles', 270: 'encephalomyopathy', 271: 'encephalopathy', 272: 'endocrine', 273: 'endometrial', 274: 'endothelial', 275: 'enteropathy', 276: 'enzyme', 277: 'eosinophilic', 278: 'ependymoma', 279: 'epidermal', 280: 'epidermolysis', 281: 'epilepsy', 282: 'epiphyseal', 283: 'episodes', 284: 'epithelial', 285: 'epstein', 286: 'erythematosus', 287: 'erythroderma', 288: 'essential', 289: 'ewing', 290: 'extracranial', 291: 'extragonadal', 292: 'fabry', 293: 'facial', 294: 'facio', 295: 'factor', 296: 'factors', 297: 'fahrs', 298: 'failure', 299: 'familial', 300: 'farbers', 301: 'febrile', 302: 'feil', 303: 'fiber', 304: 'fibers', 305: 'fibromatosis', 306: 'fibromuscular', 307: 'fibrosis', 308: 'fibrous', 309: 'fisher', 310: 'focal', 311: 'folate', 312: 'foot', 313: 'for', 314: 'form', 315: 'formiminotransferase', 316: 'franceschetti', 317: 'fraumeni', 318: 'friedreich', 319: 'friedreichs', 320: 'frontometaphyseal', 321: 'frontonasal', 322: 'frontotemporal', 323: 'fructose', 324: 'fryns', 325: 'fuchs', 326: 'fucosidosis', 327: 'fukuyama', 328: 'fumarase', 329: 'fungoides', 330: 'g', 331: 'galactose', 332: 'galactosemia', 333: 'galactosialidosis', 334: 'gamma', 335: 'gangliosidoses', 336: 'gangliosidosis', 337: 'gastaut', 338: 'gastric', 339: 'gastrointestinal', 340: 'gaucher', 341: 'gaze', 342: 'geleophysic', 343: 'generalized', 344: 'genetic', 345: 'genital', 346: 'genitalia', 347: 'genitopatellar', 348: 'germ', 349: 'gerstmann', 350: 'gerstmanns', 351: 'gestational', 352: 'ghosal', 353: 'giant', 354: 'giedion', 355: 'gilbert', 356: 'gilford', 357: 'gillespie', 358: 'girdle', 359: 'gitelman', 360: 'gland', 361: 'glanzmann', 362: 'glia', 363: 'glioma', 364: 'globin', 365: 'globozoospermia', 366: 'globulin', 367: 'glossopharyngeal', 368: 'glucose', 369: 'glut', 370: 'glutamate', 371: 'glutaric', 372: 'glutathione', 373: 'glycine', 374: 'glycogen', 375: 'glycosylation', 376: 'gm', 377: 'gnathodiaphyseal', 378: 'golabi', 379: 'goldberg', 380: 'gorlin', 381: 'goutieres', 382: 'gracile', 383: 'granulomatosis', 384: 'graves', 385: 'gravis', 386: 'gray', 387: 'greenberg', 388: 'greig', 389: 'griscelli', 390: 'grn', 391: 'growth', 392: 'grsbeck', 393: 'guanidinoacetate', 394: 'guillain', 395: 'gyrate', 396: 'hair', 397: 'hairy', 398: 'hajdu', 399: 'hall', 400: 'hand', 401: 'harlequin', 402: 'hashimoto', 403: 'hauser', 404: 'head', 405: 'hearing', 406: 'heart', 407: 'hematodiaphyseal', 408: 'hemifacial', 409: 'hemiplegic', 410: 'hemochromatosis', 411: 'hemophilia', 412: 'hemorrhagic', 413: 'hennekam', 414: 'hepatic', 415: 'hepatocerebral', 416: 'hereditary', 417: 'hermansky', 418: 'herndon', 419: 'heterotaxy', 420: 'hidradenitis', 421: 'high', 422: 'hippel', 423: 'hirschhorn', 424: 'hirschsprung', 425: 'histidinemia', 426: 'histiocytoma', 427: 'histiocytosis', 428: 'hodgkin', 429: 'holocarboxylase', 430: 'holoprosencephaly', 431: 'holt', 432: 'homocystinuria', 433: 'hopkins', 434: 'horizontal', 435: 'hormone', 436: 'horner', 437: 'how', 438: 'huntington', 439: 'hutchinson', 440: 'huttenlocher', 441: 'hyaline', 442: 'hyalinosis', 443: 'hydratase', 444: 'hydroxy', 445: 'hydroxyacyl', 446: 'hydroxyglutaric', 447: 'hydroxylase', 448: 'hydroxysteroid', 449: 'hyper', 450: 'hypercholesterolemia', 451: 'hyperekplexia', 452: 'hyperferritinemia', 453: 'hyperkalemic', 454: 'hyperlysinemia', 455: 'hypermanganesemia', 456: 'hypermethioninemia', 457: 'hyperparathyroidism', 458: 'hyperthermia', 459: 'hypertrophy', 460: 'hypopharyngeal', 461: 'hypophosphatemic', 462: 'hypoplasia', 463: 'hypotonia', 464: 'hypouricemia', 465: 'hystrix', 466: 'i', 467: 'ia', 468: 'ichthyosiform', 469: 'ichthyosis', 470: 'idiopathic', 471: 'ids', 472: 'ie', 473: 'igm', 474: 'ii', 475: 'iii', 476: 'illicit', 477: 'imerslund', 478: 'immune', 479: 'immuno', 480: 'immunodeficiency', 481: 'in', 482: 'inclusion', 483: 'incontinence', 484: 'incontinentia', 485: 'indian', 486: 'infancy', 487: 'infant', 488: 'infantile', 489: 'infarct', 490: 'infection', 491: 'infections', 492: 'infertility', 493: 'inflammatory', 494: 'inherited', 495: 'insipidus', 496: 'insulin', 497: 'intellectual', 498: 'intestinal', 499: 'intestine', 500: 'intolerance', 501: 'intrahepatic', 502: 'intranuclear', 503: 'intraocular', 504: 'intrauterine', 505: 'involvement', 506: 'irak', 507: 'iron', 508: 'is', 509: 'isobutyryl', 510: 'isodicentric', 511: 'isolated', 512: 'isomerase', 513: 'isovaleric', 514: 'it', 515: 'iv', 516: 'ix', 517: 'jackson', 518: 'jacobsen', 519: 'jadassohn', 520: 'jakob', 521: 'jampel', 522: 'jaw', 523: 'jeghers', 524: 'jervell', 525: 'johnson', 526: 'joubert', 527: 'junctional', 528: 'juvenile', 529: 'kabuki', 530: 'kallmann', 531: 'kaufman', 532: 'kawasaki', 533: 'kbg', 534: 'kearns', 535: 'keratitis', 536: 'keratoderma', 537: 'ketoacid', 538: 'kidney', 539: 'kievit', 540: 'kinase', 541: 'kleefstra', 542: 'klinefelter', 543: 'klippel', 544: 'kniest', 545: 'knobloch', 546: 'koolen', 547: 'korsakoff', 548: 'krabbe', 549: 'kster', 550: 'kufs', 551: 'kuskokwim', 552: 'l', 553: 'lacrimo', 554: 'lactate', 555: 'lactic', 556: 'lactose', 557: 'lafora', 558: 'laing', 559: 'lama', 560: 'lamellar', 561: 'lange', 562: 'langer', 563: 'langerhans', 564: 'laron', 565: 'larsen', 566: 'larsson', 567: 'laryngeal', 568: 'laryngo', 569: 'late', 570: 'lateral', 571: 'lattice', 572: 'leber', 573: 'lectin', 574: 'legg', 575: 'legius', 576: 'legs', 577: 'leigh', 578: 'leiomyomatosis', 579: 'lemli', 580: 'lennox', 581: 'lentigines', 582: 'lentis', 583: 'lenz', 584: 'leptin', 585: 'lesch', 586: 'lethal', 587: 'lethargica', 588: 'leukemia', 589: 'leukocyte', 590: 'leukodystrophy', 591: 'leukoencephalopathy', 592: 'lewy', 593: 'leydig', 594: 'li', 595: 'liability', 596: 'liddle', 597: 'ligase', 598: 'like', 599: 'likely', 600: 'limb', 601: 'lindau', 602: 'linear', 603: 'linked', 604: 'lip', 605: 'lipase', 606: 'lipid', 607: 'lipofuscinosis', 608: 'lipomembranous', 609: 'lissencephaly', 610: 'liver', 611: 'lken', 612: 'loeys', 613: 'long', 614: 'loss', 615: 'low', 616: 'lowe', 617: 'lowry', 618: 'lujan', 619: 'lundborg', 620: 'lung', 621: 'lupus', 622: 'lyase', 623: 'lymphadenopathy', 624: 'lymphangioleiomyomatosis', 625: 'lymphedema', 626: 'lymphoblastic', 627: 'lymphoma', 628: 'lymphoproliferative', 629: 'lynch', 630: 'lysinuric', 631: 'm', 632: 'maat', 633: 'mabry', 634: 'macroaneurysm', 635: 'macroglobulinemia', 636: 'macular', 637: 'maffucci', 638: 'magenis', 639: 'magnesium', 640: 'mainzer', 641: 'majeed', 642: 'mal', 643: 'malabsorption', 644: 'male', 645: 'malformation', 646: 'malformations', 647: 'malignant', 648: 'mall', 649: 'malonyl', 650: 'mandibuloacral', 651: 'mandibulofacial', 652: 'manitoba', 653: 'mannose', 654: 'mannosidosis', 655: 'many', 656: 'maple', 657: 'marchesani', 658: 'marfan', 659: 'marie', 660: 'marinesco', 661: 'maternally', 662: 'matter', 663: 'mayer', 664: 'mc', 665: 'mccune', 666: 'mckusick', 667: 'mcleod', 668: 'meckel', 669: 'mecp', 670: 'medium', 671: 'medullary', 672: 'meesmann', 673: 'megalencephalic', 674: 'megalencephaly', 675: 'megaloblastic', 676: 'megdel', 677: 'meier', 678: 'meige', 679: 'melanocytic', 680: 'melanoma', 681: 'meleda', 682: 'mellitus', 683: 'melnick', 684: 'membrane', 685: 'meningitis', 686: 'menkes', 687: 'merkel', 688: 'mesomelic', 689: 'metachromatic', 690: 'metaphyseal', 691: 'metastatic', 692: 'metatropic', 693: 'methemoglobinemia', 694: 'methylbutyryl', 695: 'methylcrotonyl', 696: 'methylglutaconyl', 697: 'methylglutaryl', 698: 'methylmalonic', 699: 'methyltransferase', 700: 'mevalonate', 701: 'microcephalic', 702: 'microcephaly', 703: 'microdeletion', 704: 'microphthalmia', 705: 'microvillus', 706: 'migraine', 707: 'migrating', 708: 'miller', 709: 'milroy', 710: 'minus', 711: 'mitochondrial', 712: 'miyoshi', 713: 'moebius', 714: 'molybdenum', 715: 'monilethrix', 716: 'most', 717: 'motion', 718: 'mowat', 719: 'moyamoya', 720: 'mpv', 721: 'muckle', 722: 'mucolipidosis', 723: 'mucopolysaccharidosis', 724: 'mucosal', 725: 'muenke', 726: 'multi', 727: 'multicentric', 728: 'multiminicore', 729: 'multiple', 730: 'multiplex', 731: 'multisystem', 732: 'muscle', 733: 'muscular', 734: 'mutase', 735: 'myasthenia', 736: 'mycosis', 737: 'myd', 738: 'myelitis', 739: 'myelodysplastic', 740: 'myelogenous', 741: 'myeloid', 742: 'myeloproliferative', 743: 'myh', 744: 'myhre', 745: 'myoclonic', 746: 'myoclonica', 747: 'myoclonus', 748: 'myofibrillar', 749: 'myopathic', 750: 'myopathies', 751: 'myopathy', 752: 'myosin', 753: 'myostatin', 754: 'myotonia', 755: 'myotonic', 756: 'myotubular', 757: 'n', 758: 'naegeli', 759: 'nager', 760: 'nail', 761: 'nakajo', 762: 'narcolepsy', 763: 'nasal', 764: 'nasopharyngeal', 765: 'neck', 766: 'necrolysis', 767: 'necrosis', 768: 'needles', 769: 'nemaline', 770: 'neonatal', 771: 'neoplasia', 772: 'neoplasms', 773: 'nephrogenic', 774: 'nephronophthisis', 775: 'nephropathy', 776: 'nervous', 777: 'netherton', 778: 'neuralgia', 779: 'neuralgic', 780: 'neuroacanthocytosis', 781: 'neuroaxonal', 782: 'neuroblastoma', 783: 'neurodegeneration', 784: 'neuroferritinopathy', 785: 'neurofibromatosis', 786: 'neurogastrointestinal', 787: 'neurohypophyseal', 788: 'neurological', 789: 'neuromyelitis', 790: 'neuronal', 791: 'neuropathy', 792: 'neutral', 793: 'neutropenia', 794: 'neutrophilic', 795: 'nevus', 796: 'nicolaides', 797: 'nielsen', 798: 'niemann', 799: 'night', 800: 'nijmegen', 801: 'nishimura', 802: 'nodulosis', 803: 'non', 804: 'nonbullous', 805: 'nonsyndromic', 806: 'noonan', 807: 'norrie', 808: 'north', 809: 'northern', 810: 'not', 811: 'nyhan', 812: 'nystagmus', 813: 'obstruction', 814: 'occlusive', 815: 'occult', 816: 'ochoa', 817: 'ocular', 818: 'oculo', 819: 'oculocutaneous', 820: 'oculodentodigital', 821: 'oculofaciocardiodental', 822: 'oculopharyngeal', 823: 'oculotrichoanal', 824: 'of', 825: 'ohdo', 826: 'ohtahara', 827: 'older', 828: 'oliver', 829: 'ollier', 830: 'onset', 831: 'onycho', 832: 'ophthalmo', 833: 'opitz', 834: 'opsoclonus', 835: 'optic', 836: 'optica', 837: 'or', 838: 'oral', 839: 'oram', 840: 'ornithine', 841: 'oropharyngeal', 842: 'osseous', 843: 'osteochondromas', 844: 'osteodysplasia', 845: 'osteodysplastic', 846: 'osteolysis', 847: 'osteoporosis', 848: 'osteosarcoma', 849: 'outlet', 850: 'outlook', 851: 'ovarian', 852: 'overload', 853: 'ow', 854: 'p', 855: 'paget', 856: 'pagets', 857: 'pain', 858: 'palsies', 859: 'palsy', 860: 'pancreatitis', 861: 'panencephalitis', 862: 'paraganglioma', 863: 'paralyses', 864: 'paralysis', 865: 'paranasal', 866: 'paraplegia', 867: 'parathyroid', 868: 'parkinson', 869: 'parkinsonism', 870: 'parkinsons', 871: 'partial', 872: 'patella', 873: 'peeling', 874: 'penile', 875: 'people', 876: 'periodic', 877: 'peripheral', 878: 'perthes', 879: 'peters', 880: 'peutz', 881: 'pfeiffer', 882: 'phenylketonuria', 883: 'pheochromocytoma', 884: 'phosphate', 885: 'phosphoglycerate', 886: 'phosphoribosylpyrophosphate', 887: 'phosphoribosyltransferase', 888: 'pick', 889: 'piebaldism', 890: 'pierre', 891: 'pigmented', 892: 'pigmenti', 893: 'pigmentosa', 894: 'pigmentosum', 895: 'pik', 896: 'pilomatricoma', 897: 'pitt', 898: 'pituitary', 899: 'plasma', 900: 'platelet', 901: 'platyspondylic', 902: 'plus', 903: 'pmm', 904: 'pol', 905: 'poland', 906: 'polyangiitis', 907: 'polycystic', 908: 'polycythemia', 909: 'polyendocrinopathy', 910: 'polyglucosan', 911: 'polymicrogyria', 912: 'polyneuropathy', 913: 'polyposis', 914: 'pompe', 915: 'pontocerebellar', 916: 'popliteal', 917: 'porphyria', 918: 'postural', 919: 'potassium', 920: 'potential', 921: 'pregnancy', 922: 'prescription', 923: 'pressure', 924: 'prevent', 925: 'primary', 926: 'primordial', 927: 'probably', 928: 'problems', 929: 'progeria', 930: 'progressive', 931: 'promyelocytic', 932: 'prostate', 933: 'protein', 934: 'pseudo', 935: 'psoriasis', 936: 'pterygium', 937: 'pudlak', 938: 'pulmonary', 939: 'pulmonic', 940: 'punctata', 941: 'purpura', 942: 'q', 943: 'qt', 944: 'quitting', 945: 'radius', 946: 'ragged', 947: 'receptor', 948: 'rectal', 949: 'red', 950: 'reductase', 951: 'refractory', 952: 'related', 953: 'renal', 954: 'renpenning', 955: 'repetitive', 956: 'research', 957: 'resistance', 958: 'respiratory', 959: 'responsive', 960: 'restless', 961: 'restriction', 962: 'reticularis', 963: 'retina', 964: 'retinal', 965: 'retinitis', 966: 'retinoblastoma', 967: 'retinoschisis', 968: 'retraction', 969: 'retroperitoneal', 970: 'rett', 971: 'rheumatoid', 972: 'rhizomelic', 973: 'rickets', 974: 'ring', 975: 'rippling', 976: 'risk', 977: 'risks', 978: 'roberts', 979: 'robin', 980: 'robinow', 981: 'robinson', 982: 'rod', 983: 'rokitansky', 984: 'rothmund', 985: 'rotor', 986: 'rubinstein', 987: 'russell', 988: 's', 989: 'sachs', 990: 'saddan', 991: 'saethre', 992: 'saldino', 993: 'salih', 994: 'salivary', 995: 'sandhoff', 996: 'sarcoma', 997: 'say', 998: 'sayre', 999: 'scheinker', 1000: 'schilders', 1001: 'schimke', 1002: 'schindler', 1003: 'schinzel', 1004: 'schwartz', 1005: 'scleroderma', 1006: 'sclerosing', 1007: 'sclerosis', 1008: 'scoliosis', 1009: 'scott', 1010: 'seizures', 1011: 'sella', 1012: 'semialdehyde', 1013: 'senior', 1014: 'sensitive', 1015: 'sensitivity', 1016: 'sensorineural', 1017: 'sensory', 1018: 'sepiapterin', 1019: 'septo', 1020: 'sequence', 1021: 'severe', 1022: 'sex', 1023: 'sheldon', 1024: 'shingles', 1025: 'short', 1026: 'shprintzen', 1027: 'shwachman', 1028: 'sialic', 1029: 'sialidosis', 1030: 'sialuria', 1031: 'sick', 1032: 'sickle', 1033: 'siderius', 1034: 'sideroblastic', 1035: 'silver', 1036: 'simpson', 1037: 'sinus', 1038: 'sitosterolemia', 1039: 'sjgren', 1040: 'skeletal', 1041: 'skin', 1042: 'slca', 1043: 'small', 1044: 'smell', 1045: 'smith', 1046: 'smoking', 1047: 'snyder', 1048: 'sost', 1049: 'sotos', 1050: 'sox', 1051: 'spasm', 1052: 'spastic', 1053: 'specific', 1054: 'spectrum', 1055: 'spherocytosis', 1056: 'spheroids', 1057: 'spina', 1058: 'spinal', 1059: 'spinocerebellar', 1060: 'spondylocarpotarsal', 1061: 'spondylocostal', 1062: 'spondyloenchondrodysplasia', 1063: 'spondyloepimetaphyseal', 1064: 'spondyloepiphyseal', 1065: 'spondyloperipheral', 1066: 'spondylothoracic', 1067: 'sponge', 1068: 'sporadic', 1069: 'spread', 1070: 'squamous', 1071: 'stages', 1072: 'stargardt', 1073: 'stationary', 1074: 'steatocystoma', 1075: 'stem', 1076: 'stenosis', 1077: 'stevens', 1078: 'stickler', 1079: 'stimulation', 1080: 'sting', 1081: 'storage', 1082: 'stormorken', 1083: 'straussler', 1084: 'stroke', 1085: 'stromal', 1086: 'strudwick', 1087: 'sturge', 1088: 'stve', 1089: 'subacute', 1090: 'subcortical', 1091: 'succinate', 1092: 'succinic', 1093: 'succinyl', 1094: 'sudden', 1095: 'sulfatase', 1096: 'sulfur', 1097: 'superactivity', 1098: 'suppurativa', 1099: 'supravalvular', 1100: 'surfactant', 1101: 'surviving', 1102: 'swallowing', 1103: 'swyer', 1104: 'symptomps', 1105: 'symptoms', 1106: 'syncope', 1107: 'syndrome', 1108: 'syndromes', 1109: 'syngap', 1110: 'synostosis', 1111: 'synthase', 1112: 'synthetase', 1113: 'syrup', 1114: 'system', 1115: 'systemic', 1116: 'systems', 1117: 'szary', 1118: 't', 1119: 'tachycardia', 1120: 'tangier', 1121: 'tarda', 1122: 'tarsal', 1123: 'task', 1124: 'taste', 1125: 'tay', 1126: 'taybi', 1127: 'telangiectasia', 1128: 'teratoid', 1129: 'testes', 1130: 'testicular', 1131: 'tethered', 1132: 'tetra', 1133: 'tetrahydrobiopterin', 1134: 'tetrasomy', 1135: 'thalassemia', 1136: 'thanatophoric', 1137: 'that', 1138: 'the', 1139: 'thiamine', 1140: 'thiopurine', 1141: 'thomson', 1142: 'thoracic', 1143: 'thrombasthenia', 1144: 'thrombocythemia', 1145: 'thrombocytopenia', 1146: 'thrombocytopenic', 1147: 'thrombotic', 1148: 'thymic', 1149: 'thymoma', 1150: 'thyroiditis', 1151: 'thyroxine', 1152: 'tibial', 1153: 'tietz', 1154: 'timothy', 1155: 'tk', 1156: 'to', 1157: 'todds', 1158: 'tooth', 1159: 'torrance', 1160: 'tourette', 1161: 'townes', 1162: 'toxic', 1163: 'tp', 1164: 'tract', 1165: 'transcarbamylase', 1166: 'transferase', 1167: 'transient', 1168: 'transthyretin', 1169: 'transverse', 1170: 'treacher', 1171: 'treatments', 1172: 'tremor', 1173: 'trenaunay', 1174: 'trials', 1175: 'trichoepithelioma', 1176: 'trichohepatoenteric', 1177: 'trichothiodystrophy', 1178: 'trifunctional', 1179: 'trigeminal', 1180: 'trimethylaminuria', 1181: 'triosephosphate', 1182: 'triple', 1183: 'trisomy', 1184: 'trophoblastic', 1185: 'troyer', 1186: 'tuberous', 1187: 'tubular', 1188: 'tumor', 1189: 'tumors', 1190: 'turner', 1191: 'type', 1192: 'tyrosine', 1193: 'tyrosinemia', 1194: 'ulcerative', 1195: 'unverricht', 1196: 'urethral', 1197: 'urinary', 1198: 'urine', 1199: 'uromodulin', 1200: 'usher', 1201: 'uterine', 1202: 'uv', 1203: 'v', 1204: 'vacterl', 1205: 'van', 1206: 'vanishing', 1207: 'variant', 1208: 'vasculitis', 1209: 'vasculopathy', 1210: 'veno', 1211: 'venous', 1212: 'vera', 1213: 'very', 1214: 'vi', 1215: 'vii', 1216: 'virus', 1217: 'vitamin', 1218: 'vitelliform', 1219: 'vitiligo', 1220: 'vldlr', 1221: 'vohwinkel', 1222: 'von', 1223: 'vries', 1224: 'vulvar', 1225: 'waardenburg', 1226: 'wagner', 1227: 'wagr', 1228: 'waldenstrm', 1229: 'walker', 1230: 'wall', 1231: 'warburg', 1232: 'warfarin', 1233: 'warsaw', 1234: 'weaver', 1235: 'weber', 1236: 'weill', 1237: 'weiss', 1238: 'weissenbacher', 1239: 'wells', 1240: 'werner', 1241: 'wernicke', 1242: 'weyers', 1243: 'what', 1244: 'whiplash', 1245: 'white', 1246: 'who', 1247: 'wiedemann', 1248: 'willebrand', 1249: 'williams', 1250: 'wilson', 1251: 'winchester', 1252: 'wiskott', 1253: 'with', 1254: 'wolf', 1255: 'wolff', 1256: 'wolfram', 1257: 'wolman', 1258: 'woolly', 1259: 'woude', 1260: 'x', 1261: 'xanthinuria', 1262: 'xeroderma', 1263: 'xx', 1264: 'xxyy', 1265: 'xyy', 1266: 'y', 1267: 'young', 1268: 'zap', 1269: 'zellweger', 1270: 'zweymller'}\n"
          ],
          "name": "stdout"
        }
      ]
    },
    {
      "cell_type": "code",
      "metadata": {
        "id": "JYVn_1F0stq-"
      },
      "source": [
        "#Shuffle the data\n",
        "lines = shuffle(lines)"
      ],
      "execution_count": 24,
      "outputs": []
    },
    {
      "cell_type": "code",
      "metadata": {
        "id": "brrw0rHvstrA",
        "outputId": "a9710ca1-3fdf-479b-e2da-b5e8f5b3d8f6",
        "colab": {
          "base_uri": "https://localhost:8080/",
          "height": 34
        }
      },
      "source": [
        "# Train - Test Split\n",
        "X, y = lines.source, lines.target\n",
        "X_train, X_test, y_train, y_test = train_test_split(X, y, test_size = 0.3)\n",
        "X_train.shape, X_test.shape"
      ],
      "execution_count": 25,
      "outputs": [
        {
          "output_type": "execute_result",
          "data": {
            "text/plain": [
              "((2828,), (1212,))"
            ]
          },
          "metadata": {
            "tags": []
          },
          "execution_count": 25
        }
      ]
    },
    {
      "cell_type": "code",
      "metadata": {
        "id": "4cnhiPvkstrC"
      },
      "source": [
        "# https://stackoverflow.com/questions/54880279/how-to-handle-invalid-argument-error-in-keras\n",
        "# Input tokens for encoder\n",
        "num_encoder_tokens=len(source_words) +1\n",
        "# Input tokens for decoder zero padded\n",
        "num_decoder_tokens=len(target_words) +1"
      ],
      "execution_count": 26,
      "outputs": []
    },
    {
      "cell_type": "code",
      "metadata": {
        "id": "UgD1d4bIstrE"
      },
      "source": [
        "def generate_batch(X = X_train, y = y_train, batch_size = 25):\n",
        "    ''' Generate a batch of data '''\n",
        "    while True:\n",
        "        for j in range(0, len(X), batch_size):\n",
        "            encoder_input_data = np.zeros((batch_size, max_source_length),dtype='float32')\n",
        "            decoder_input_data = np.zeros((batch_size, max_target_length),dtype='float32')\n",
        "            decoder_target_data = np.zeros((batch_size, max_target_length, num_decoder_tokens),dtype='float32')\n",
        "            for i, (input_text, target_text) in enumerate(zip(X[j:j+batch_size], y[j:j+batch_size])):\n",
        "                for t, word in enumerate(input_text.split()):\n",
        "                        encoder_input_data[i, t] = source_word2idx[word] \n",
        "                for t, word in enumerate(target_text.split()):\n",
        "                    if t<len(target_text.split())-1:\n",
        "                        decoder_input_data[i, t] = target_word2idx[word] # decoder input seq\n",
        "                    if t>0:\n",
        "                        # decoder target sequence (one hot encoded)\n",
        "                        # does not include the START_ token\n",
        "                        # Offset by one timestep\n",
        "                        #print(word)\n",
        "                        decoder_target_data[i, t - 1, target_word2idx[word]] = 1.\n",
        "                    \n",
        "            yield([encoder_input_data, decoder_input_data], decoder_target_data)"
      ],
      "execution_count": 27,
      "outputs": []
    },
    {
      "cell_type": "markdown",
      "metadata": {
        "id": "plLgewa95HwL"
      },
      "source": [
        "Attention model"
      ]
    },
    {
      "cell_type": "code",
      "metadata": {
        "id": "X1NS4eas5MoR"
      },
      "source": [
        "# -*- coding: utf-8 -*-\n",
        "\"\"\"attention.ipynb\n",
        "\n",
        "Automatically generated by Colaboratory.\n",
        "\n",
        "Original file is located at\n",
        "    https://colab.research.google.com/drive/1XrjPL3O_szhahYZW0z9yhCl9qvIcJJYW\n",
        "\"\"\"\n",
        "\n",
        "import tensorflow as tf\n",
        "import os\n",
        "from tensorflow.python.keras.layers import Layer\n",
        "from tensorflow.python.keras import backend as K\n",
        "\n",
        "\n",
        "class AttentionLayer(Layer):\n",
        "    \"\"\"\n",
        "    This class implements Bahdanau attention (https://arxiv.org/pdf/1409.0473.pdf).\n",
        "    There are three sets of weights introduced W_a, U_a, and V_a\n",
        "     \"\"\"\n",
        "\n",
        "    def __init__(self, **kwargs):\n",
        "        super(AttentionLayer, self).__init__(**kwargs)\n",
        "\n",
        "    def build(self, input_shape):\n",
        "        assert isinstance(input_shape, list)\n",
        "        # Create a trainable weight variable for this layer.\n",
        "\n",
        "        self.W_a = self.add_weight(name='W_a',\n",
        "                                   shape=tf.TensorShape((input_shape[0][2], input_shape[0][2])),\n",
        "                                   initializer='uniform',\n",
        "                                   trainable=True)\n",
        "        self.U_a = self.add_weight(name='U_a',\n",
        "                                   shape=tf.TensorShape((input_shape[1][2], input_shape[0][2])),\n",
        "                                   initializer='uniform',\n",
        "                                   trainable=True)\n",
        "        self.V_a = self.add_weight(name='V_a',\n",
        "                                   shape=tf.TensorShape((input_shape[0][2], 1)),\n",
        "                                   initializer='uniform',\n",
        "                                   trainable=True)\n",
        "\n",
        "        super(AttentionLayer, self).build(input_shape)  # Be sure to call this at the end\n",
        "\n",
        "    def call(self, inputs, verbose=False):\n",
        "        \"\"\"\n",
        "        inputs: [encoder_output_sequence, decoder_output_sequence]\n",
        "        \"\"\"\n",
        "        assert type(inputs) == list\n",
        "        encoder_out_seq, decoder_out_seq = inputs\n",
        "        if verbose:\n",
        "            print('encoder_out_seq>', encoder_out_seq.shape)\n",
        "            print('decoder_out_seq>', decoder_out_seq.shape)\n",
        "\n",
        "        def energy_step(inputs, states):\n",
        "            \"\"\" Step function for computing energy for a single decoder state \"\"\"\n",
        "\n",
        "            assert_msg = \"States must be a list. However states {} is of type {}\".format(states, type(states))\n",
        "            assert isinstance(states, list) or isinstance(states, tuple), assert_msg\n",
        "\n",
        "            \"\"\" Some parameters required for shaping tensors\"\"\"\n",
        "            en_seq_len, en_hidden = encoder_out_seq.shape[1], encoder_out_seq.shape[2]\n",
        "            de_hidden = inputs.shape[-1]\n",
        "\n",
        "            \"\"\" Computing S.Wa where S=[s0, s1, ..., si]\"\"\"\n",
        "            # <= batch_size*en_seq_len, latent_dim\n",
        "            reshaped_enc_outputs = K.reshape(encoder_out_seq, (-1, en_hidden))\n",
        "            # <= batch_size*en_seq_len, latent_dim\n",
        "            W_a_dot_s = K.reshape(K.dot(reshaped_enc_outputs, self.W_a), (-1, en_seq_len, en_hidden))\n",
        "            if verbose:\n",
        "                print('wa.s>',W_a_dot_s.shape)\n",
        "\n",
        "            \"\"\" Computing hj.Ua \"\"\"\n",
        "            U_a_dot_h = K.expand_dims(K.dot(inputs, self.U_a), 1)  # <= batch_size, 1, latent_dim\n",
        "            if verbose:\n",
        "                print('Ua.h>',U_a_dot_h.shape)\n",
        "\n",
        "            \"\"\" tanh(S.Wa + hj.Ua) \"\"\"\n",
        "            # <= batch_size*en_seq_len, latent_dim\n",
        "            reshaped_Ws_plus_Uh = K.tanh(K.reshape(W_a_dot_s + U_a_dot_h, (-1, en_hidden)))\n",
        "            if verbose:\n",
        "                print('Ws+Uh>', reshaped_Ws_plus_Uh.shape)\n",
        "\n",
        "            \"\"\" softmax(va.tanh(S.Wa + hj.Ua)) \"\"\"\n",
        "            # <= batch_size, en_seq_len\n",
        "            e_i = K.reshape(K.dot(reshaped_Ws_plus_Uh, self.V_a), (-1, en_seq_len))\n",
        "            # <= batch_size, en_seq_len\n",
        "            e_i = K.softmax(e_i)\n",
        "\n",
        "            if verbose:\n",
        "                print('ei>', e_i.shape)\n",
        "\n",
        "            return e_i, [e_i]\n",
        "\n",
        "        def context_step(inputs, states):\n",
        "            \"\"\" Step function for computing ci using ei \"\"\"\n",
        "            # <= batch_size, hidden_size\n",
        "            c_i = K.sum(encoder_out_seq * K.expand_dims(inputs, -1), axis=1)\n",
        "            if verbose:\n",
        "                print('ci>', c_i.shape)\n",
        "            return c_i, [c_i]\n",
        "\n",
        "        def create_inital_state(inputs, hidden_size):\n",
        "            # We are not using initial states, but need to pass something to K.rnn funciton\n",
        "            fake_state = K.zeros_like(inputs)  # <= (batch_size, enc_seq_len, latent_dim\n",
        "            fake_state = K.sum(fake_state, axis=[1, 2])  # <= (batch_size)\n",
        "            fake_state = K.expand_dims(fake_state)  # <= (batch_size, 1)\n",
        "            fake_state = K.tile(fake_state, [1, hidden_size])  # <= (batch_size, latent_dim\n",
        "            return fake_state\n",
        "\n",
        "        fake_state_c = create_inital_state(encoder_out_seq, encoder_out_seq.shape[-1])\n",
        "        fake_state_e = create_inital_state(encoder_out_seq, encoder_out_seq.shape[1])  # <= (batch_size, enc_seq_len, latent_dim\n",
        "\n",
        "        \"\"\" Computing energy outputs \"\"\"\n",
        "        # e_outputs => (batch_size, de_seq_len, en_seq_len)\n",
        "        last_out, e_outputs, _ = K.rnn(\n",
        "            energy_step, decoder_out_seq, [fake_state_e],\n",
        "        )\n",
        "\n",
        "        \"\"\" Computing context vectors \"\"\"\n",
        "        last_out, c_outputs, _ = K.rnn(\n",
        "            context_step, e_outputs, [fake_state_c],\n",
        "        )\n",
        "\n",
        "        return c_outputs, e_outputs\n",
        "\n",
        "    def compute_output_shape(self, input_shape):\n",
        "        \"\"\" Outputs produced by the layer \"\"\"\n",
        "        return [\n",
        "            tf.TensorShape((input_shape[1][0], input_shape[1][1], input_shape[1][2])),\n",
        "            tf.TensorShape((input_shape[1][0], input_shape[1][1], input_shape[0][1]))\n",
        "        ]\n"
      ],
      "execution_count": 28,
      "outputs": []
    },
    {
      "cell_type": "code",
      "metadata": {
        "id": "H209mGO_strG"
      },
      "source": [
        "train_samples = len(X_train) # Total Training samples\n",
        "val_samples = len(X_test)    # Total validation or test samples\n",
        "batch_size = 25\n",
        "epochs = 100\n",
        "latent_dim= 500"
      ],
      "execution_count": 29,
      "outputs": []
    },
    {
      "cell_type": "markdown",
      "metadata": {
        "id": "ygXzXqQb5oYz"
      },
      "source": [
        "Encoder Decoder Model"
      ]
    },
    {
      "cell_type": "code",
      "metadata": {
        "id": "lB8kxrkb5nSs"
      },
      "source": [
        "\n",
        "# Encoder \n",
        "encoder_inputs = Input(shape=(max_source_length,)) \n",
        "enc_emb = Embedding(num_encoder_tokens, latent_dim,trainable=True)(encoder_inputs) \n",
        "\n",
        "#LSTM 1 \n",
        "encoder_lstm1 = LSTM(latent_dim,return_sequences=True,return_state=True) \n",
        "encoder_output1, state_h1, state_c1 = encoder_lstm1(enc_emb) \n",
        "\n",
        "#LSTM 2 \n",
        "encoder_lstm2 = LSTM(latent_dim,return_sequences=True,return_state=True) \n",
        "encoder_output2, state_h2, state_c2 = encoder_lstm2(encoder_output1) \n",
        "\n",
        "#LSTM 3 \n",
        "encoder_lstm3=LSTM(latent_dim, return_state=True, return_sequences=True) \n",
        "encoder_outputs, state_h, state_c= encoder_lstm3(encoder_output2) \n",
        "\n",
        "# Set up the decoder. \n",
        "decoder_inputs = Input(shape=(None,)) \n",
        "dec_emb_layer = Embedding(num_decoder_tokens, latent_dim,trainable=True) \n",
        "dec_emb = dec_emb_layer(decoder_inputs) \n",
        "\n",
        "#LSTM using encoder_states as initial state\n",
        "decoder_lstm = LSTM(latent_dim, return_sequences=True, return_state=True) \n",
        "decoder_outputs,decoder_fwd_state, decoder_back_state = decoder_lstm(dec_emb,initial_state=[state_h, state_c]) \n",
        "\n",
        "#Attention Layer\n",
        "attn_layer = AttentionLayer(name='attention_layer') \n",
        "attn_out, attn_states = attn_layer([encoder_outputs, decoder_outputs]) \n",
        "\n",
        "# Concat attention output and decoder LSTM output \n",
        "decoder_concat_input = Concatenate(axis=-1, name='concat_layer')([decoder_outputs, attn_out])\n",
        "\n",
        "#Dense layer\n",
        "decoder_dense = TimeDistributed(Dense(num_decoder_tokens, activation='softmax')) \n",
        "decoder_outputs = decoder_dense(decoder_concat_input) \n",
        "\n",
        "# Define the model\n",
        "model = Model([encoder_inputs, decoder_inputs], decoder_outputs) \n"
      ],
      "execution_count": 30,
      "outputs": []
    },
    {
      "cell_type": "code",
      "metadata": {
        "id": "rYCB1VRNstrN",
        "outputId": "a44e4a2b-409c-46b5-c5b0-1409b6e826dc",
        "colab": {
          "base_uri": "https://localhost:8080/",
          "height": 606
        }
      },
      "source": [
        "model.compile(optimizer='adam', loss='sparse_categorical_crossentropy', metrics=['acc', tf.keras.metrics.Precision(), tf.keras.metrics.Recall()])\n",
        "model.summary()"
      ],
      "execution_count": 31,
      "outputs": [
        {
          "output_type": "stream",
          "text": [
            "Model: \"functional_1\"\n",
            "__________________________________________________________________________________________________\n",
            "Layer (type)                    Output Shape         Param #     Connected to                     \n",
            "==================================================================================================\n",
            "input_1 (InputLayer)            [(None, 19)]         0                                            \n",
            "__________________________________________________________________________________________________\n",
            "embedding (Embedding)           (None, 19, 500)      635500      input_1[0][0]                    \n",
            "__________________________________________________________________________________________________\n",
            "lstm (LSTM)                     [(None, 19, 500), (N 2002000     embedding[0][0]                  \n",
            "__________________________________________________________________________________________________\n",
            "input_2 (InputLayer)            [(None, None)]       0                                            \n",
            "__________________________________________________________________________________________________\n",
            "lstm_1 (LSTM)                   [(None, 19, 500), (N 2002000     lstm[0][0]                       \n",
            "__________________________________________________________________________________________________\n",
            "embedding_1 (Embedding)         (None, None, 500)    1818000     input_2[0][0]                    \n",
            "__________________________________________________________________________________________________\n",
            "lstm_2 (LSTM)                   [(None, 19, 500), (N 2002000     lstm_1[0][0]                     \n",
            "__________________________________________________________________________________________________\n",
            "lstm_3 (LSTM)                   [(None, None, 500),  2002000     embedding_1[0][0]                \n",
            "                                                                 lstm_2[0][1]                     \n",
            "                                                                 lstm_2[0][2]                     \n",
            "__________________________________________________________________________________________________\n",
            "attention_layer (AttentionLayer ((None, None, 500),  500500      lstm_2[0][0]                     \n",
            "                                                                 lstm_3[0][0]                     \n",
            "__________________________________________________________________________________________________\n",
            "concat_layer (Concatenate)      (None, None, 1000)   0           lstm_3[0][0]                     \n",
            "                                                                 attention_layer[0][0]            \n",
            "__________________________________________________________________________________________________\n",
            "time_distributed (TimeDistribut (None, None, 3636)   3639636     concat_layer[0][0]               \n",
            "==================================================================================================\n",
            "Total params: 14,601,636\n",
            "Trainable params: 14,601,636\n",
            "Non-trainable params: 0\n",
            "__________________________________________________________________________________________________\n"
          ],
          "name": "stdout"
        }
      ]
    },
    {
      "cell_type": "code",
      "metadata": {
        "id": "largXnmjstrR",
        "outputId": "1f90ef05-07c2-47a5-b599-431ad134405c",
        "colab": {
          "base_uri": "https://localhost:8080/",
          "height": 1000
        }
      },
      "source": [
        "model.fit_generator(generator = generate_batch(X_train, y_train, batch_size = batch_size),\n",
        "                    steps_per_epoch = train_samples//batch_size,\n",
        "                    validation_data = generate_batch(X_test, y_test, batch_size = batch_size),\n",
        "                    validation_steps = val_samples//batch_size, epochs=epochs)"
      ],
      "execution_count": 32,
      "outputs": [
        {
          "output_type": "stream",
          "text": [
            "WARNING:tensorflow:From <ipython-input-32-fccd5a3bacdf>:4: Model.fit_generator (from tensorflow.python.keras.engine.training) is deprecated and will be removed in a future version.\n",
            "Instructions for updating:\n",
            "Please use Model.fit, which supports generators.\n",
            "Epoch 1/100\n",
            "113/113 [==============================] - 24s 215ms/step - loss: 1.8210 - acc: 0.0959 - precision: 0.2135 - recall: 0.0906 - val_loss: 1.5213 - val_acc: 0.1476 - val_precision: 0.2778 - val_recall: 0.2253\n",
            "Epoch 2/100\n",
            "113/113 [==============================] - 22s 197ms/step - loss: 1.2794 - acc: 0.1695 - precision: 0.2981 - recall: 0.3128 - val_loss: 1.3087 - val_acc: 0.1802 - val_precision: 0.5525 - val_recall: 0.3437\n",
            "Epoch 3/100\n",
            "113/113 [==============================] - 22s 197ms/step - loss: 1.0977 - acc: 0.1894 - precision: 0.3421 - recall: 0.3773 - val_loss: 1.2500 - val_acc: 0.1899 - val_precision: 0.2600 - val_recall: 0.3689\n",
            "Epoch 4/100\n",
            "113/113 [==============================] - 22s 197ms/step - loss: 0.9764 - acc: 0.2016 - precision: 0.4766 - recall: 0.4162 - val_loss: 1.2226 - val_acc: 0.1923 - val_precision: 0.3537 - val_recall: 0.3984\n",
            "Epoch 5/100\n",
            "113/113 [==============================] - 22s 198ms/step - loss: 0.8724 - acc: 0.2116 - precision: 0.5316 - recall: 0.4461 - val_loss: 1.2055 - val_acc: 0.1979 - val_precision: 0.5363 - val_recall: 0.4117\n",
            "Epoch 6/100\n",
            "113/113 [==============================] - 22s 197ms/step - loss: 0.7835 - acc: 0.2211 - precision: 0.5380 - recall: 0.4703 - val_loss: 1.2009 - val_acc: 0.2007 - val_precision: 0.6041 - val_recall: 0.4276\n",
            "Epoch 7/100\n",
            "113/113 [==============================] - 22s 198ms/step - loss: 0.7006 - acc: 0.2307 - precision: 0.5630 - recall: 0.4970 - val_loss: 1.1987 - val_acc: 0.2013 - val_precision: 0.4382 - val_recall: 0.4294\n",
            "Epoch 8/100\n",
            "113/113 [==============================] - 22s 198ms/step - loss: 0.6266 - acc: 0.2407 - precision: 0.5132 - recall: 0.5204 - val_loss: 1.1895 - val_acc: 0.2010 - val_precision: 0.4811 - val_recall: 0.4327\n",
            "Epoch 9/100\n",
            "113/113 [==============================] - 22s 196ms/step - loss: 0.5615 - acc: 0.2519 - precision: 0.5121 - recall: 0.5420 - val_loss: 1.2091 - val_acc: 0.2012 - val_precision: 0.4392 - val_recall: 0.4312\n",
            "Epoch 10/100\n",
            "113/113 [==============================] - 22s 197ms/step - loss: 0.4979 - acc: 0.2632 - precision: 0.4628 - recall: 0.5646 - val_loss: 1.1962 - val_acc: 0.2032 - val_precision: 0.4135 - val_recall: 0.4580\n",
            "Epoch 11/100\n",
            "113/113 [==============================] - 22s 197ms/step - loss: 0.4434 - acc: 0.2758 - precision: 0.4529 - recall: 0.5879 - val_loss: 1.2309 - val_acc: 0.1995 - val_precision: 0.3687 - val_recall: 0.4417\n",
            "Epoch 12/100\n",
            "113/113 [==============================] - 22s 196ms/step - loss: 0.3925 - acc: 0.2878 - precision: 0.4137 - recall: 0.6158 - val_loss: 1.2026 - val_acc: 0.2028 - val_precision: 0.3281 - val_recall: 0.4580\n",
            "Epoch 13/100\n",
            "113/113 [==============================] - 22s 199ms/step - loss: 0.3486 - acc: 0.2986 - precision: 0.4237 - recall: 0.6479 - val_loss: 1.2292 - val_acc: 0.2021 - val_precision: 0.3179 - val_recall: 0.4561\n",
            "Epoch 14/100\n",
            "113/113 [==============================] - 22s 197ms/step - loss: 0.3120 - acc: 0.3067 - precision: 0.4261 - recall: 0.6786 - val_loss: 1.2639 - val_acc: 0.1984 - val_precision: 0.3384 - val_recall: 0.4552\n",
            "Epoch 15/100\n",
            "113/113 [==============================] - 22s 197ms/step - loss: 0.2769 - acc: 0.3147 - precision: 0.4395 - recall: 0.7175 - val_loss: 1.2809 - val_acc: 0.1960 - val_precision: 0.2857 - val_recall: 0.4426\n",
            "Epoch 16/100\n",
            "113/113 [==============================] - 22s 197ms/step - loss: 0.2473 - acc: 0.3212 - precision: 0.4311 - recall: 0.7497 - val_loss: 1.2565 - val_acc: 0.2003 - val_precision: 0.2825 - val_recall: 0.4723\n",
            "Epoch 17/100\n",
            "113/113 [==============================] - 22s 197ms/step - loss: 0.2269 - acc: 0.3249 - precision: 0.4419 - recall: 0.7759 - val_loss: 1.2588 - val_acc: 0.2010 - val_precision: 0.3025 - val_recall: 0.4714\n",
            "Epoch 18/100\n",
            "113/113 [==============================] - 22s 198ms/step - loss: 0.2017 - acc: 0.3302 - precision: 0.4496 - recall: 0.8055 - val_loss: 1.2893 - val_acc: 0.2015 - val_precision: 0.2755 - val_recall: 0.4803\n",
            "Epoch 19/100\n",
            "113/113 [==============================] - 22s 195ms/step - loss: 0.1830 - acc: 0.3340 - precision: 0.4643 - recall: 0.8260 - val_loss: 1.3051 - val_acc: 0.1988 - val_precision: 0.2872 - val_recall: 0.4726\n",
            "Epoch 20/100\n",
            "113/113 [==============================] - 22s 196ms/step - loss: 0.1689 - acc: 0.3368 - precision: 0.4628 - recall: 0.8410 - val_loss: 1.3148 - val_acc: 0.1991 - val_precision: 0.3075 - val_recall: 0.4726\n",
            "Epoch 21/100\n",
            "113/113 [==============================] - 22s 196ms/step - loss: 0.1569 - acc: 0.3389 - precision: 0.4817 - recall: 0.8545 - val_loss: 1.3234 - val_acc: 0.1989 - val_precision: 0.3400 - val_recall: 0.4679\n",
            "Epoch 22/100\n",
            "113/113 [==============================] - 22s 196ms/step - loss: 0.1451 - acc: 0.3411 - precision: 0.4879 - recall: 0.8672 - val_loss: 1.3193 - val_acc: 0.2001 - val_precision: 0.2987 - val_recall: 0.4848\n",
            "Epoch 23/100\n",
            "113/113 [==============================] - 22s 198ms/step - loss: 0.1322 - acc: 0.3439 - precision: 0.4705 - recall: 0.8783 - val_loss: 1.3078 - val_acc: 0.2018 - val_precision: 0.3316 - val_recall: 0.4835\n",
            "Epoch 24/100\n",
            "113/113 [==============================] - 22s 196ms/step - loss: 0.1262 - acc: 0.3452 - precision: 0.4846 - recall: 0.8836 - val_loss: 1.3324 - val_acc: 0.1987 - val_precision: 0.3282 - val_recall: 0.4796\n",
            "Epoch 25/100\n",
            "113/113 [==============================] - 22s 195ms/step - loss: 0.1181 - acc: 0.3463 - precision: 0.4969 - recall: 0.8920 - val_loss: 1.3564 - val_acc: 0.2007 - val_precision: 0.2910 - val_recall: 0.4881\n",
            "Epoch 26/100\n",
            "113/113 [==============================] - 22s 195ms/step - loss: 0.1117 - acc: 0.3474 - precision: 0.4772 - recall: 0.8969 - val_loss: 1.3487 - val_acc: 0.1998 - val_precision: 0.3123 - val_recall: 0.4893\n",
            "Epoch 27/100\n",
            "113/113 [==============================] - 22s 197ms/step - loss: 0.1032 - acc: 0.3494 - precision: 0.4853 - recall: 0.9042 - val_loss: 1.3719 - val_acc: 0.2015 - val_precision: 0.3073 - val_recall: 0.4949\n",
            "Epoch 28/100\n",
            "113/113 [==============================] - 22s 195ms/step - loss: 0.1008 - acc: 0.3497 - precision: 0.4727 - recall: 0.9066 - val_loss: 1.3815 - val_acc: 0.2014 - val_precision: 0.3060 - val_recall: 0.4990\n",
            "Epoch 29/100\n",
            "113/113 [==============================] - 22s 195ms/step - loss: 0.0951 - acc: 0.3510 - precision: 0.4710 - recall: 0.9125 - val_loss: 1.3839 - val_acc: 0.2010 - val_precision: 0.3145 - val_recall: 0.4969\n",
            "Epoch 30/100\n",
            "113/113 [==============================] - 22s 196ms/step - loss: 0.0895 - acc: 0.3524 - precision: 0.4769 - recall: 0.9167 - val_loss: 1.3861 - val_acc: 0.2022 - val_precision: 0.2971 - val_recall: 0.4998\n",
            "Epoch 31/100\n",
            "113/113 [==============================] - 22s 195ms/step - loss: 0.0863 - acc: 0.3521 - precision: 0.4805 - recall: 0.9193 - val_loss: 1.3945 - val_acc: 0.2012 - val_precision: 0.2957 - val_recall: 0.4967\n",
            "Epoch 32/100\n",
            "113/113 [==============================] - 22s 197ms/step - loss: 0.0840 - acc: 0.3527 - precision: 0.4805 - recall: 0.9201 - val_loss: 1.3886 - val_acc: 0.2023 - val_precision: 0.3072 - val_recall: 0.4993\n",
            "Epoch 33/100\n",
            "113/113 [==============================] - 22s 196ms/step - loss: 0.0796 - acc: 0.3536 - precision: 0.4726 - recall: 0.9251 - val_loss: 1.4105 - val_acc: 0.2017 - val_precision: 0.2780 - val_recall: 0.4998\n",
            "Epoch 34/100\n",
            "113/113 [==============================] - 22s 196ms/step - loss: 0.0748 - acc: 0.3553 - precision: 0.4658 - recall: 0.9288 - val_loss: 1.4096 - val_acc: 0.2007 - val_precision: 0.2862 - val_recall: 0.4968\n",
            "Epoch 35/100\n",
            "113/113 [==============================] - 22s 196ms/step - loss: 0.0739 - acc: 0.3551 - precision: 0.4830 - recall: 0.9293 - val_loss: 1.4207 - val_acc: 0.1990 - val_precision: 0.3002 - val_recall: 0.4942\n",
            "Epoch 36/100\n",
            "113/113 [==============================] - 22s 198ms/step - loss: 0.0703 - acc: 0.3561 - precision: 0.4762 - recall: 0.9316 - val_loss: 1.4157 - val_acc: 0.2012 - val_precision: 0.3156 - val_recall: 0.5018\n",
            "Epoch 37/100\n",
            "113/113 [==============================] - 22s 197ms/step - loss: 0.0699 - acc: 0.3563 - precision: 0.4731 - recall: 0.9310 - val_loss: 1.4184 - val_acc: 0.2036 - val_precision: 0.2838 - val_recall: 0.5063\n",
            "Epoch 38/100\n",
            "113/113 [==============================] - 22s 197ms/step - loss: 0.0695 - acc: 0.3560 - precision: 0.4736 - recall: 0.9316 - val_loss: 1.4239 - val_acc: 0.2006 - val_precision: 0.2911 - val_recall: 0.4985\n",
            "Epoch 39/100\n",
            "113/113 [==============================] - 22s 198ms/step - loss: 0.0666 - acc: 0.3565 - precision: 0.4814 - recall: 0.9336 - val_loss: 1.4214 - val_acc: 0.2013 - val_precision: 0.3130 - val_recall: 0.5019\n",
            "Epoch 40/100\n",
            "113/113 [==============================] - 22s 196ms/step - loss: 0.0619 - acc: 0.3578 - precision: 0.4898 - recall: 0.9387 - val_loss: 1.4381 - val_acc: 0.2012 - val_precision: 0.3057 - val_recall: 0.5003\n",
            "Epoch 41/100\n",
            "113/113 [==============================] - 22s 197ms/step - loss: 0.0623 - acc: 0.3578 - precision: 0.4842 - recall: 0.9369 - val_loss: 1.4502 - val_acc: 0.2004 - val_precision: 0.2844 - val_recall: 0.4983\n",
            "Epoch 42/100\n",
            "113/113 [==============================] - 22s 195ms/step - loss: 0.0594 - acc: 0.3579 - precision: 0.4879 - recall: 0.9390 - val_loss: 1.4341 - val_acc: 0.2007 - val_precision: 0.3018 - val_recall: 0.4986\n",
            "Epoch 43/100\n",
            "113/113 [==============================] - 22s 196ms/step - loss: 0.0558 - acc: 0.3593 - precision: 0.4920 - recall: 0.9417 - val_loss: 1.4372 - val_acc: 0.2003 - val_precision: 0.3041 - val_recall: 0.4990\n",
            "Epoch 44/100\n",
            "113/113 [==============================] - 22s 195ms/step - loss: 0.0533 - acc: 0.3597 - precision: 0.4887 - recall: 0.9446 - val_loss: 1.4411 - val_acc: 0.2009 - val_precision: 0.2908 - val_recall: 0.5013\n",
            "Epoch 45/100\n",
            "113/113 [==============================] - 22s 197ms/step - loss: 0.0510 - acc: 0.3603 - precision: 0.4745 - recall: 0.9476 - val_loss: 1.4528 - val_acc: 0.2019 - val_precision: 0.2742 - val_recall: 0.5052\n",
            "Epoch 46/100\n",
            "113/113 [==============================] - 22s 196ms/step - loss: 0.0464 - acc: 0.3619 - precision: 0.4757 - recall: 0.9518 - val_loss: 1.4746 - val_acc: 0.1997 - val_precision: 0.2731 - val_recall: 0.5026\n",
            "Epoch 47/100\n",
            "113/113 [==============================] - 22s 195ms/step - loss: 0.0437 - acc: 0.3628 - precision: 0.4616 - recall: 0.9539 - val_loss: 1.4779 - val_acc: 0.2012 - val_precision: 0.2709 - val_recall: 0.5047\n",
            "Epoch 48/100\n",
            "113/113 [==============================] - 22s 195ms/step - loss: 0.0397 - acc: 0.3632 - precision: 0.4642 - recall: 0.9566 - val_loss: 1.4806 - val_acc: 0.2005 - val_precision: 0.2747 - val_recall: 0.5036\n",
            "Epoch 49/100\n",
            "113/113 [==============================] - 22s 196ms/step - loss: 0.0389 - acc: 0.3638 - precision: 0.4631 - recall: 0.9594 - val_loss: 1.4966 - val_acc: 0.2006 - val_precision: 0.2885 - val_recall: 0.5038\n",
            "Epoch 50/100\n",
            "113/113 [==============================] - 22s 195ms/step - loss: 0.0378 - acc: 0.3643 - precision: 0.4719 - recall: 0.9605 - val_loss: 1.4932 - val_acc: 0.2016 - val_precision: 0.2723 - val_recall: 0.5088\n",
            "Epoch 51/100\n",
            "113/113 [==============================] - 22s 196ms/step - loss: 0.0337 - acc: 0.3653 - precision: 0.4772 - recall: 0.9642 - val_loss: 1.4888 - val_acc: 0.2007 - val_precision: 0.2825 - val_recall: 0.5063\n",
            "Epoch 52/100\n",
            "113/113 [==============================] - 22s 197ms/step - loss: 0.0314 - acc: 0.3660 - precision: 0.4889 - recall: 0.9681 - val_loss: 1.5035 - val_acc: 0.1997 - val_precision: 0.2850 - val_recall: 0.5014\n",
            "Epoch 53/100\n",
            "113/113 [==============================] - 22s 196ms/step - loss: 0.0307 - acc: 0.3663 - precision: 0.4913 - recall: 0.9673 - val_loss: 1.4973 - val_acc: 0.2006 - val_precision: 0.2833 - val_recall: 0.5052\n",
            "Epoch 54/100\n",
            "113/113 [==============================] - 22s 197ms/step - loss: 0.0291 - acc: 0.3671 - precision: 0.4889 - recall: 0.9718 - val_loss: 1.5067 - val_acc: 0.2005 - val_precision: 0.2759 - val_recall: 0.5054\n",
            "Epoch 55/100\n",
            "113/113 [==============================] - 22s 199ms/step - loss: 0.0267 - acc: 0.3676 - precision: 0.4844 - recall: 0.9731 - val_loss: 1.5106 - val_acc: 0.2000 - val_precision: 0.2850 - val_recall: 0.5051\n",
            "Epoch 56/100\n",
            "113/113 [==============================] - 22s 197ms/step - loss: 0.0246 - acc: 0.3683 - precision: 0.4853 - recall: 0.9759 - val_loss: 1.5109 - val_acc: 0.2000 - val_precision: 0.3054 - val_recall: 0.5027\n",
            "Epoch 57/100\n",
            "113/113 [==============================] - 22s 195ms/step - loss: 0.0239 - acc: 0.3686 - precision: 0.5032 - recall: 0.9770 - val_loss: 1.5184 - val_acc: 0.2010 - val_precision: 0.2917 - val_recall: 0.5085\n",
            "Epoch 58/100\n",
            "113/113 [==============================] - 22s 196ms/step - loss: 0.0232 - acc: 0.3687 - precision: 0.4956 - recall: 0.9774 - val_loss: 1.5225 - val_acc: 0.2011 - val_precision: 0.3003 - val_recall: 0.5076\n",
            "Epoch 59/100\n",
            "113/113 [==============================] - 22s 197ms/step - loss: 0.0257 - acc: 0.3676 - precision: 0.4788 - recall: 0.9754 - val_loss: 1.5271 - val_acc: 0.2015 - val_precision: 0.2880 - val_recall: 0.5102\n",
            "Epoch 60/100\n",
            "113/113 [==============================] - 22s 196ms/step - loss: 0.0228 - acc: 0.3685 - precision: 0.4830 - recall: 0.9774 - val_loss: 1.5361 - val_acc: 0.2022 - val_precision: 0.2929 - val_recall: 0.5122\n",
            "Epoch 61/100\n",
            "113/113 [==============================] - 22s 197ms/step - loss: 0.0207 - acc: 0.3692 - precision: 0.4937 - recall: 0.9801 - val_loss: 1.5447 - val_acc: 0.2017 - val_precision: 0.2862 - val_recall: 0.5113\n",
            "Epoch 62/100\n",
            "113/113 [==============================] - 22s 195ms/step - loss: 0.0230 - acc: 0.3688 - precision: 0.4935 - recall: 0.9797 - val_loss: 1.5437 - val_acc: 0.2018 - val_precision: 0.2953 - val_recall: 0.5134\n",
            "Epoch 63/100\n",
            "113/113 [==============================] - 22s 195ms/step - loss: 0.0189 - acc: 0.3700 - precision: 0.4891 - recall: 0.9843 - val_loss: 1.5616 - val_acc: 0.2023 - val_precision: 0.2826 - val_recall: 0.5130\n",
            "Epoch 64/100\n",
            "113/113 [==============================] - 22s 196ms/step - loss: 0.0179 - acc: 0.3698 - precision: 0.4887 - recall: 0.9845 - val_loss: 1.5580 - val_acc: 0.2012 - val_precision: 0.3004 - val_recall: 0.5112\n",
            "Epoch 65/100\n",
            "113/113 [==============================] - 22s 196ms/step - loss: 0.0167 - acc: 0.3702 - precision: 0.4937 - recall: 0.9857 - val_loss: 1.5730 - val_acc: 0.2016 - val_precision: 0.2814 - val_recall: 0.5125\n",
            "Epoch 66/100\n",
            "113/113 [==============================] - 22s 196ms/step - loss: 0.0165 - acc: 0.3699 - precision: 0.4898 - recall: 0.9860 - val_loss: 1.5762 - val_acc: 0.2016 - val_precision: 0.2827 - val_recall: 0.5122\n",
            "Epoch 67/100\n",
            "113/113 [==============================] - 22s 196ms/step - loss: 0.0160 - acc: 0.3707 - precision: 0.4934 - recall: 0.9868 - val_loss: 1.5819 - val_acc: 0.2019 - val_precision: 0.2790 - val_recall: 0.5147\n",
            "Epoch 68/100\n",
            "113/113 [==============================] - 22s 196ms/step - loss: 0.0158 - acc: 0.3702 - precision: 0.4925 - recall: 0.9868 - val_loss: 1.5814 - val_acc: 0.2033 - val_precision: 0.2908 - val_recall: 0.5162\n",
            "Epoch 69/100\n",
            "113/113 [==============================] - 22s 197ms/step - loss: 0.0154 - acc: 0.3709 - precision: 0.4811 - recall: 0.9874 - val_loss: 1.5832 - val_acc: 0.2019 - val_precision: 0.2830 - val_recall: 0.5155\n",
            "Epoch 70/100\n",
            "113/113 [==============================] - 22s 197ms/step - loss: 0.0144 - acc: 0.3706 - precision: 0.4712 - recall: 0.9881 - val_loss: 1.6095 - val_acc: 0.2000 - val_precision: 0.2614 - val_recall: 0.5105\n",
            "Epoch 71/100\n",
            "113/113 [==============================] - 22s 197ms/step - loss: 0.0129 - acc: 0.3712 - precision: 0.4803 - recall: 0.9896 - val_loss: 1.5889 - val_acc: 0.2012 - val_precision: 0.2728 - val_recall: 0.5116\n",
            "Epoch 72/100\n",
            "113/113 [==============================] - 22s 195ms/step - loss: 0.0119 - acc: 0.3722 - precision: 0.4675 - recall: 0.9924 - val_loss: 1.6100 - val_acc: 0.2023 - val_precision: 0.2724 - val_recall: 0.5160\n",
            "Epoch 73/100\n",
            "113/113 [==============================] - 22s 196ms/step - loss: 0.0124 - acc: 0.3713 - precision: 0.4717 - recall: 0.9907 - val_loss: 1.6154 - val_acc: 0.2015 - val_precision: 0.2647 - val_recall: 0.5150\n",
            "Epoch 74/100\n",
            "113/113 [==============================] - 22s 198ms/step - loss: 0.0117 - acc: 0.3717 - precision: 0.4659 - recall: 0.9917 - val_loss: 1.6067 - val_acc: 0.2018 - val_precision: 0.2699 - val_recall: 0.5159\n",
            "Epoch 75/100\n",
            "113/113 [==============================] - 22s 198ms/step - loss: 0.0109 - acc: 0.3718 - precision: 0.4683 - recall: 0.9922 - val_loss: 1.6064 - val_acc: 0.2013 - val_precision: 0.2730 - val_recall: 0.5134\n",
            "Epoch 76/100\n",
            "113/113 [==============================] - 22s 197ms/step - loss: 0.0105 - acc: 0.3720 - precision: 0.4739 - recall: 0.9924 - val_loss: 1.6216 - val_acc: 0.2024 - val_precision: 0.2725 - val_recall: 0.5168\n",
            "Epoch 77/100\n",
            "113/113 [==============================] - 22s 198ms/step - loss: 0.0122 - acc: 0.3719 - precision: 0.4785 - recall: 0.9916 - val_loss: 1.6102 - val_acc: 0.2020 - val_precision: 0.2932 - val_recall: 0.5151\n",
            "Epoch 78/100\n",
            "113/113 [==============================] - 22s 198ms/step - loss: 0.0113 - acc: 0.3716 - precision: 0.4827 - recall: 0.9917 - val_loss: 1.6209 - val_acc: 0.2020 - val_precision: 0.2853 - val_recall: 0.5148\n",
            "Epoch 79/100\n",
            "113/113 [==============================] - 22s 196ms/step - loss: 0.0112 - acc: 0.3717 - precision: 0.4777 - recall: 0.9927 - val_loss: 1.6201 - val_acc: 0.2039 - val_precision: 0.2746 - val_recall: 0.5198\n",
            "Epoch 80/100\n",
            "113/113 [==============================] - 22s 198ms/step - loss: 0.0096 - acc: 0.3719 - precision: 0.4722 - recall: 0.9933 - val_loss: 1.6193 - val_acc: 0.2027 - val_precision: 0.2734 - val_recall: 0.5185\n",
            "Epoch 81/100\n",
            "113/113 [==============================] - 22s 197ms/step - loss: 0.0098 - acc: 0.3723 - precision: 0.4815 - recall: 0.9935 - val_loss: 1.6150 - val_acc: 0.2022 - val_precision: 0.2933 - val_recall: 0.5169\n",
            "Epoch 82/100\n",
            "113/113 [==============================] - 22s 197ms/step - loss: 0.0093 - acc: 0.3721 - precision: 0.4938 - recall: 0.9940 - val_loss: 1.6339 - val_acc: 0.2035 - val_precision: 0.2907 - val_recall: 0.5206\n",
            "Epoch 83/100\n",
            "113/113 [==============================] - 22s 197ms/step - loss: 0.0095 - acc: 0.3721 - precision: 0.4934 - recall: 0.9932 - val_loss: 1.6334 - val_acc: 0.2028 - val_precision: 0.2901 - val_recall: 0.5193\n",
            "Epoch 84/100\n",
            "113/113 [==============================] - 23s 199ms/step - loss: 0.0091 - acc: 0.3725 - precision: 0.4905 - recall: 0.9943 - val_loss: 1.6393 - val_acc: 0.2028 - val_precision: 0.2752 - val_recall: 0.5176\n",
            "Epoch 85/100\n",
            "113/113 [==============================] - 22s 198ms/step - loss: 0.0096 - acc: 0.3719 - precision: 0.4835 - recall: 0.9932 - val_loss: 1.6402 - val_acc: 0.2034 - val_precision: 0.2850 - val_recall: 0.5205\n",
            "Epoch 86/100\n",
            "113/113 [==============================] - 22s 197ms/step - loss: 0.0092 - acc: 0.3720 - precision: 0.4858 - recall: 0.9938 - val_loss: 1.6368 - val_acc: 0.2026 - val_precision: 0.2962 - val_recall: 0.5174\n",
            "Epoch 87/100\n",
            "113/113 [==============================] - 22s 196ms/step - loss: 0.0095 - acc: 0.3720 - precision: 0.4924 - recall: 0.9936 - val_loss: 1.6358 - val_acc: 0.2030 - val_precision: 0.2912 - val_recall: 0.5195\n",
            "Epoch 88/100\n",
            "113/113 [==============================] - 22s 199ms/step - loss: 0.0088 - acc: 0.3722 - precision: 0.4890 - recall: 0.9939 - val_loss: 1.6382 - val_acc: 0.2031 - val_precision: 0.2855 - val_recall: 0.5187\n",
            "Epoch 89/100\n",
            "113/113 [==============================] - 22s 198ms/step - loss: 0.0086 - acc: 0.3725 - precision: 0.4719 - recall: 0.9942 - val_loss: 1.6362 - val_acc: 0.2037 - val_precision: 0.2831 - val_recall: 0.5215\n",
            "Epoch 90/100\n",
            "113/113 [==============================] - 22s 197ms/step - loss: 0.0073 - acc: 0.3725 - precision: 0.4863 - recall: 0.9950 - val_loss: 1.6430 - val_acc: 0.2027 - val_precision: 0.2952 - val_recall: 0.5210\n",
            "Epoch 91/100\n",
            "113/113 [==============================] - 22s 198ms/step - loss: 0.0085 - acc: 0.3725 - precision: 0.4795 - recall: 0.9942 - val_loss: 1.6385 - val_acc: 0.2019 - val_precision: 0.2850 - val_recall: 0.5157\n",
            "Epoch 92/100\n",
            "113/113 [==============================] - 22s 198ms/step - loss: 0.0076 - acc: 0.3725 - precision: 0.4836 - recall: 0.9950 - val_loss: 1.6412 - val_acc: 0.2039 - val_precision: 0.2842 - val_recall: 0.5228\n",
            "Epoch 93/100\n",
            "113/113 [==============================] - 22s 198ms/step - loss: 0.0084 - acc: 0.3726 - precision: 0.4850 - recall: 0.9944 - val_loss: 1.6398 - val_acc: 0.2034 - val_precision: 0.2853 - val_recall: 0.5212\n",
            "Epoch 94/100\n",
            "113/113 [==============================] - 22s 197ms/step - loss: 0.0074 - acc: 0.3720 - precision: 0.4808 - recall: 0.9951 - val_loss: 1.6543 - val_acc: 0.2036 - val_precision: 0.2752 - val_recall: 0.5227\n",
            "Epoch 95/100\n",
            "113/113 [==============================] - 22s 198ms/step - loss: 0.0082 - acc: 0.3721 - precision: 0.4799 - recall: 0.9944 - val_loss: 1.6636 - val_acc: 0.2043 - val_precision: 0.2773 - val_recall: 0.5225\n",
            "Epoch 96/100\n",
            "113/113 [==============================] - 22s 199ms/step - loss: 0.0082 - acc: 0.3723 - precision: 0.4716 - recall: 0.9946 - val_loss: 1.6530 - val_acc: 0.2041 - val_precision: 0.2715 - val_recall: 0.5253\n",
            "Epoch 97/100\n",
            "113/113 [==============================] - 22s 198ms/step - loss: 0.0089 - acc: 0.3724 - precision: 0.4555 - recall: 0.9941 - val_loss: 1.6607 - val_acc: 0.2032 - val_precision: 0.2705 - val_recall: 0.5196\n",
            "Epoch 98/100\n",
            "113/113 [==============================] - 22s 199ms/step - loss: 0.0076 - acc: 0.3729 - precision: 0.4660 - recall: 0.9952 - val_loss: 1.6614 - val_acc: 0.2043 - val_precision: 0.2694 - val_recall: 0.5246\n",
            "Epoch 99/100\n",
            "113/113 [==============================] - 23s 199ms/step - loss: 0.0081 - acc: 0.3721 - precision: 0.4686 - recall: 0.9947 - val_loss: 1.6794 - val_acc: 0.2037 - val_precision: 0.2706 - val_recall: 0.5211\n",
            "Epoch 100/100\n",
            "113/113 [==============================] - 22s 199ms/step - loss: 0.0081 - acc: 0.3725 - precision: 0.4757 - recall: 0.9949 - val_loss: 1.6705 - val_acc: 0.2044 - val_precision: 0.2797 - val_recall: 0.5230\n"
          ],
          "name": "stdout"
        },
        {
          "output_type": "execute_result",
          "data": {
            "text/plain": [
              "<tensorflow.python.keras.callbacks.History at 0x7fa77d3a15f8>"
            ]
          },
          "metadata": {
            "tags": []
          },
          "execution_count": 32
        }
      ]
    },
    {
      "cell_type": "code",
      "metadata": {
        "id": "7ajjUP_hstrS",
        "outputId": "145b18e3-aa1a-461a-b809-3b76304a4c83",
        "colab": {
          "base_uri": "https://localhost:8080/",
          "height": 34
        }
      },
      "source": [
        "model_json = model.to_json()\n",
        "with open(\"NMT_model.json\", \"w\") as json_file:\n",
        "    json_file.write(model_json)\n",
        "# serialize weights to HDF5\n",
        "model.save_weights(\"NMT_model_weight.h5\")\n",
        "print(\"Saved model to disk\")"
      ],
      "execution_count": 33,
      "outputs": [
        {
          "output_type": "stream",
          "text": [
            "Saved model to disk\n"
          ],
          "name": "stdout"
        }
      ]
    },
    {
      "cell_type": "code",
      "metadata": {
        "id": "t9r8wcK_strV"
      },
      "source": [
        "# loading the model architecture and asigning the weights\n",
        "json_file = open('NMT_model.json', 'r')\n",
        "loaded_model_json = json_file.read()\n",
        "json_file.close()\n",
        "model_loaded = model_from_json(loaded_model_json, custom_objects={'AttentionLayer': AttentionLayer})\n",
        "# load weights into new model\n",
        "model_loaded.load_weights(\"NMT_model_weight.h5\")"
      ],
      "execution_count": 34,
      "outputs": []
    },
    {
      "cell_type": "code",
      "metadata": {
        "id": "7tOD_nbCstrX",
        "outputId": "f7307d1f-552a-4206-acf2-84ded5935245",
        "colab": {
          "base_uri": "https://localhost:8080/",
          "height": 52
        }
      },
      "source": [
        "# encoder inference\n",
        "encoder_inputs = model_loaded.input[0]  #loading encoder_inputs\n",
        "encoder_outputs, state_h, state_c = model_loaded.layers[6].output #loading encoder_outputs\n",
        "\n",
        "print(encoder_outputs.shape)\n",
        "\n",
        "encoder_model = Model(inputs=encoder_inputs,outputs=[encoder_outputs, state_h, state_c])\n",
        "\n",
        "# decoder inference\n",
        "# Below tensors will hold the states of the previous time step\n",
        "decoder_state_input_h = Input(shape=(latent_dim,))\n",
        "decoder_state_input_c = Input(shape=(latent_dim,))\n",
        "decoder_hidden_state_input = Input(shape=(32,latent_dim))\n",
        "\n",
        "# Get the embeddings of the decoder sequence\n",
        "decoder_inputs = model_loaded.layers[3].output\n",
        "\n",
        "print(decoder_inputs.shape)\n",
        "dec_emb_layer = model_loaded.layers[5]\n",
        "\n",
        "dec_emb2= dec_emb_layer(decoder_inputs)\n",
        "\n",
        "# To predict the next word in the sequence, set the initial states to the states from the previous time step\n",
        "decoder_lstm = model_loaded.layers[7]\n",
        "decoder_outputs2, state_h2, state_c2 = decoder_lstm(dec_emb2, initial_state=[decoder_state_input_h, decoder_state_input_c])\n",
        "\n",
        "#attention inference\n",
        "attn_layer = model_loaded.layers[8]\n",
        "attn_out_inf, attn_states_inf = attn_layer([decoder_hidden_state_input, decoder_outputs2])\n",
        "\n",
        "concate = model_loaded.layers[9]\n",
        "decoder_inf_concat = concate([decoder_outputs2, attn_out_inf])\n",
        "\n",
        "# A dense softmax layer to generate prob dist. over the target vocabulary\n",
        "decoder_dense = model_loaded.layers[10]\n",
        "decoder_outputs2 = decoder_dense(decoder_inf_concat)\n",
        "\n",
        "# Final decoder model\n",
        "decoder_model = Model(\n",
        "[decoder_inputs] + [decoder_hidden_state_input,decoder_state_input_h, decoder_state_input_c],\n",
        "[decoder_outputs2] + [state_h2, state_c2])"
      ],
      "execution_count": 35,
      "outputs": [
        {
          "output_type": "stream",
          "text": [
            "(None, 19, 500)\n",
            "(None, None)\n"
          ],
          "name": "stdout"
        }
      ]
    },
    {
      "cell_type": "code",
      "metadata": {
        "id": "9JxPxjCYstrZ"
      },
      "source": [
        "def decode_sequence(input_seq):\n",
        "    # Encode the input as state vectors.\n",
        "    e_out, e_h, e_c = encoder_model.predict(input_seq)\n",
        "\n",
        "    # Generate empty target sequence of length 1.\n",
        "    target_seq = np.zeros((1,1))\n",
        "\n",
        "    # Populate the first character of \n",
        "    #target sequence with the start character.\n",
        "    target_seq[0, 0] = target_word2idx['START_']\n",
        "\n",
        "# Sampling loop for a batch of sequences\n",
        "    # (to simplify, here we assume a batch of size 1).\n",
        "    stop_condition = False\n",
        "    decoded_sentence = ''\n",
        "\n",
        "    while not stop_condition:\n",
        "        output_tokens, h, c = decoder_model.predict([target_seq] + [e_out, e_h, e_c])\n",
        "        \n",
        "# Sample a token\n",
        "        sampled_token_index = np.argmax(output_tokens[0, -1, :])\n",
        "        sampled_word =target_idx2word[sampled_token_index]\n",
        "        decoded_sentence += ' '+ sampled_word\n",
        "        \n",
        "# Exit condition: either hit max length\n",
        "        # or find stop character.\n",
        "        if (sampled_word == '_END' or\n",
        "           len(decoded_sentence) > 110):\n",
        "            stop_condition = True\n",
        "\n",
        "# Update the target sequence (of length 1).\n",
        "        target_seq = np.zeros((1,1))\n",
        "        target_seq[0, 0] = sampled_token_index\n",
        "\n",
        "# Update states\n",
        "        e_h, e_c = h, c\n",
        "    return decoded_sentence"
      ],
      "execution_count": 36,
      "outputs": []
    },
    {
      "cell_type": "code",
      "metadata": {
        "id": "VfFHzNiFstra"
      },
      "source": [
        "test_gen = generate_batch(X_test, y_test, batch_size = 1)\n",
        "i=-1"
      ],
      "execution_count": 37,
      "outputs": []
    },
    {
      "cell_type": "code",
      "metadata": {
        "id": "2xQ5l26Dstrd",
        "outputId": "ecabac2e-90fb-4803-8092-33cd27b5bc72",
        "colab": {
          "base_uri": "https://localhost:8080/",
          "height": 1000
        }
      },
      "source": [
        "#Make predictions on the test dataset\n",
        "i+= 1\n",
        "for k in range(i,i+40):\n",
        "    #print(\"\\n\",k)\n",
        "    (input_seq, actual_output), _ = next(test_gen)\n",
        "    decoded_sentence = decode_sequence(input_seq)\n",
        "    print('Input Source Question:', X_test[k:k+1].values[0],'?')\n",
        "    print('Actual Target Answer:', y_test[k:k+1].values[0][6:-4])\n",
        "    print('Predicted Target Answer:', decoded_sentence[:-4])\n",
        "    print(\"\\n\")"
      ],
      "execution_count": 38,
      "outputs": [
        {
          "output_type": "stream",
          "text": [
            "WARNING:tensorflow:Model was constructed with shape (None, 32, 500) for input Tensor(\"input_5:0\", shape=(None, 32, 500), dtype=float32), but it was called on an input with incompatible shape (None, 19, 500).\n",
            "Input Source Question: what are the treatments for weaver syndrome ?\n",
            "Actual Target Answer:  diagnostic tests drug therapy surgery and rehabilitation genetic counseling \n",
            "Predicted Target Answer:  diagnostic tests drug therapy surgery and rehabilitation genetic counseling \n",
            "\n",
            "\n",
            "Input Source Question: what are the genetic changes related to phosphoribosylpyrophosphate synthetase superactivity ?\n",
            "Actual Target Answer:  certain mutations in the prps gene cause prs superactivity \n",
            "Predicted Target Answer:  mutations in the manb gene cause alpha mannosidosis \n",
            "\n",
            "\n",
            "Input Source Question: what are the treatments for cerebellar hypoplasia ?\n",
            "Actual Target Answer:  there is no standard course of treatment for cerebellar hypoplasia \n",
            "Predicted Target Answer:  there is no standard course of treatment for sotos syndrome \n",
            "\n",
            "\n",
            "Input Source Question: what is the outlook for krabbe disease ?\n",
            "Actual Target Answer:  krabbe disease in infants is generally fatal before age \n",
            "Predicted Target Answer:  the prognosis for those with cushing & apos s syndrome varies depending on the cause of the disease \n",
            "\n",
            "\n",
            "Input Source Question: what are the treatments for russell silver syndrome ?\n",
            "Actual Target Answer:  diagnostic tests drug therapy surgery and rehabilitation genetic counseling palliative care \n",
            "Predicted Target Answer:  diagnostic tests drug therapy surgery and rehabilitation \n",
            "\n",
            "\n",
            "Input Source Question: what are the treatments for spinal muscular atrophy with respiratory distress type ?\n",
            "Actual Target Answer:  diagnostic tests drug therapy surgery and rehabilitation genetic counseling \n",
            "Predicted Target Answer:  diagnostic tests drug therapy surgery and rehabilitation \n",
            "\n",
            "\n",
            "Input Source Question: how many people are affected by larsen syndrome ?\n",
            "Actual Target Answer:  larsen syndrome occurs in approximately in newborns \n",
            "Predicted Target Answer:  the prevalence of this condition is unknown although one study estimated that it may affect in people \n",
            "\n",
            "\n",
            "Input Source Question: what are the treatments for phosphoribosylpyrophosphate synthetase superactivity ?\n",
            "Actual Target Answer:  diagnostic tests drug therapy surgery and rehabilitation genetic counseling palliative care \n",
            "Predicted Target Answer:  diagnostic tests drug therapy surgery and rehabilitation genetic counseling \n",
            "\n",
            "\n",
            "Input Source Question: what is are nijmegen breakage syndrome ?\n",
            "Actual Target Answer:  a condition characterized by short stature an unusually small head size \n",
            "Predicted Target Answer:  a disorder of cartilage and bone development primarily affecting the ends of the long bones \n",
            "\n",
            "\n",
            "Input Source Question: what is are thanatophoric dysplasia ?\n",
            "Actual Target Answer:  a severe skeletal disorder characterized by extremely short limbs and folds of extra skin on the arms and legs \n",
            "Predicted Target Answer:  a condition that primarily affects the eyes brain and kidneys \n",
            "\n",
            "\n",
            "Input Source Question: what is are stroke ?\n",
            "Actual Target Answer:  stroke a serious event a stroke is serious just like a heart attack \n",
            "Predicted Target Answer:  monilethrix is a condition that affects hair growth \n",
            "\n",
            "\n",
            "Input Source Question: what are the genetic changes related to p myeloproliferative syndrome ?\n",
            "Actual Target Answer:  this syndrome is caused by rearrangements of genetic material between two chromosomes \n",
            "Predicted Target Answer:  mutations in the krt gene cause ichthyosis with confetti \n",
            "\n",
            "\n",
            "Input Source Question: how many people are affected by hyperlysinemia ?\n",
            "Actual Target Answer:  the incidence of hyperlysinemia is unknown \n",
            "Predicted Target Answer:  the overall prevalence of sialidosis is unknown \n",
            "\n",
            "\n",
            "Input Source Question: what is retinoblastoma ?\n",
            "Actual Target Answer:  a disease in which cancer cells form in the tissues of the retina \n",
            "Predicted Target Answer:  ewing sarcoma is a type of tumor that forms in bone or soft tissue \n",
            "\n",
            "\n",
            "Input Source Question: how many people are affected by ichthyosis with confetti ?\n",
            "Actual Target Answer:  ichthyosis with confetti is a rare disorder \n",
            "Predicted Target Answer:  the estimated prevalence of alagille syndrome is in newborns \n",
            "\n",
            "\n",
            "Input Source Question: is klippel feil syndrome inherited ?\n",
            "Actual Target Answer:  when klippel feil syndrome is caused by mutations in the gdf or gdf genes \n",
            "Predicted Target Answer:  most cases of swyer syndrome are not inherited \n",
            "\n",
            "\n",
            "Input Source Question: how many people are affected by vacterl association ?\n",
            "Actual Target Answer:  vacterl association occurs in in to newborns \n",
            "Predicted Target Answer:  a severe form of severe intellectual disability and newborns \n",
            "\n",
            "\n",
            "Input Source Question: what are the treatments for xx testicular disorder of sex development ?\n",
            "Actual Target Answer:  diagnostic tests drug therapy surgery and rehabilitation genetic counseling \n",
            "Predicted Target Answer:  surgery radiation therapy chemotherapy \n",
            "\n",
            "\n",
            "Input Source Question: what is lip and oral cavity cancer ?\n",
            "Actual Target Answer:  a disease in which cancer cells form in the lips or mouth \n",
            "Predicted Target Answer:  tissues of the paranasal sinuses and nasal cavity \n",
            "\n",
            "\n",
            "Input Source Question: how many people are affected by treacher collins syndrome ?\n",
            "Actual Target Answer:  this condition affects an estimated in people \n",
            "Predicted Target Answer:  this condition occurs in about in newborn boys \n",
            "\n",
            "\n",
            "Input Source Question: what are the treatments for van der woude syndrome ?\n",
            "Actual Target Answer:  diagnostic tests drug therapy surgery and rehabilitation genetic counseling \n",
            "Predicted Target Answer:  diagnostic tests drug therapy surgery and rehabilitation genetic counseling \n",
            "\n",
            "\n",
            "Input Source Question: how many people are affected by syngap related intellectual disability ?\n",
            "Actual Target Answer:  syngap related intellectual disability is a relatively common form of cognitive impairment \n",
            "Predicted Target Answer:  the prevalence of guillain barr syndrome is estimated to be to cases per million people \n",
            "\n",
            "\n",
            "Input Source Question: is rubinstein taybi syndrome inherited ?\n",
            "Actual Target Answer:  this condition is considered to have an autosomal dominant pattern of inheritance \n",
            "Predicted Target Answer:  koolen de vries syndrome is considered an autosomal dominant condition \n",
            "\n",
            "\n",
            "Input Source Question: what is are hemophilia ?\n",
            "Actual Target Answer:  hemophilia is a bleeding disorder that slows the blood clotting process \n",
            "Predicted Target Answer:  a severe reaction to particular drugs that are often used during surgery and other invasive procedures \n",
            "\n",
            "\n",
            "Input Source Question: what are the genetic changes related to wolff parkinson white syndrome ?\n",
            "Actual Target Answer:  mutations in the prkag gene cause wolff parkinson white syndrome \n",
            "Predicted Target Answer:  mutations in the krt gene cause ichthyosis with confetti \n",
            "\n",
            "\n",
            "Input Source Question: what is are horizontal gaze palsy with progressive scoliosis ?\n",
            "Actual Target Answer:  a disorder that affects vision and also causes an abnormal curvature of the spine \n",
            "Predicted Target Answer:  a rare inherited disorder that causes neurological problems and tightness of muscles \n",
            "\n",
            "\n",
            "Input Source Question: is trimethylaminuria inherited ?\n",
            "Actual Target Answer:  most cases of trimethylaminuria appear to be inherited in an autosomal recessive pattern \n",
            "Predicted Target Answer:  acatalasemia has an autosomal recessive pattern of inheritance \n",
            "\n",
            "\n",
            "Input Source Question: what are the treatments for alg congenital disorder of glycosylation ?\n",
            "Actual Target Answer:  diagnostic tests drug therapy surgery and rehabilitation \n",
            "Predicted Target Answer:  diagnostic tests drug therapy surgery and rehabilitation \n",
            "\n",
            "\n",
            "Input Source Question: what is neuroblastoma ?\n",
            "Actual Target Answer:  neuroblastoma nb is a type of cancer that forms in certain types of nerve tissue \n",
            "Predicted Target Answer:  a disease in which cancer cells form in the muscles of the uterus \n",
            "\n",
            "\n",
            "Input Source Question: what are the genetic changes related to spastic paraplegia type ?\n",
            "Actual Target Answer:  mutations in the zfyve gene cause spastic paraplegia type \n",
            "Predicted Target Answer:  mutations in the flnb gene cause larsen syndrome \n",
            "\n",
            "\n",
            "Input Source Question: what is are gorlin syndrome ?\n",
            "Actual Target Answer:  a condition that affects many areas of the body and increases the risk of developing various tumors \n",
            "Predicted Target Answer:  genetic disorder characterized by foot abnormalities and the premature fusion of certain skull bones \n",
            "\n",
            "\n",
            "Input Source Question: what are the treatments for spastic paraplegia type ?\n",
            "Actual Target Answer:  diagnostic tests drug therapy surgery and rehabilitation genetic counseling palliative care \n",
            "Predicted Target Answer:  diagnostic tests drug therapy surgery and rehabilitation genetic counseling \n",
            "\n",
            "\n",
            "Input Source Question: what are the genetic changes related to x linked thrombocytopenia ?\n",
            "Actual Target Answer:  mutations in the was gene cause x linked thrombocytopenia \n",
            "Predicted Target Answer:  mutations in the alas gene cause x linked sideroblastic anemia \n",
            "\n",
            "\n",
            "Input Source Question: what is the outlook for chronic pain ?\n",
            "Actual Target Answer:  scientists believe that advances in neuroscience will lead to more and better treatments \n",
            "Predicted Target Answer:  the degree to which damage to the developing nervous system harms the mind and body varies enormously \n",
            "\n",
            "\n",
            "Input Source Question: what is are hereditary sensory neuropathy type ia ?\n",
            "Actual Target Answer:  hereditary sensory neuropathy type ia is a condition characterized by nerve abnormalities in the legs and feet \n",
            "Predicted Target Answer:  a disorder that primarily affects the skeletal muscles which are muscles the body uses for movement \n",
            "\n",
            "\n",
            "Input Source Question: what are the genetic changes related to hepatic veno occlusive disease with immunodeficiency ?\n",
            "Actual Target Answer:  vodi results from mutations in the sp gene \n",
            "Predicted Target Answer:  mutations in the glb gene cause gm gangliosidosis \n",
            "\n",
            "\n",
            "Input Source Question: what are the treatments for developmental dyspraxia ?\n",
            "Actual Target Answer:  include occupational and speech therapy or other forms of communication such as using pictures and hand gestures \n",
            "Predicted Target Answer:  there is no cure for nmo and no fda approved therapies but there are therapies to treat an attack \n",
            "\n",
            "\n",
            "Input Source Question: what research is being done for nasopharyngeal cancer ?\n",
            "Actual Target Answer:  researchers continue to develop new chemo drugs that might be more effective against advanced npc \n",
            "Predicted Target Answer:  diagnosed by mri ct scan \n",
            "\n",
            "\n",
            "Input Source Question: how many people are affected by ring chromosome syndrome ?\n",
            "Actual Target Answer:  ring chromosome syndrome appears to be a rare condition \n",
            "Predicted Target Answer:  ring chromosome syndrome appears to be a rare condition although its prevalence is unknown \n",
            "\n",
            "\n",
            "Input Source Question: how many people are affected by hereditary hyperekplexia ?\n",
            "Actual Target Answer:  the exact prevalence of hereditary hyperekplexia is unknown \n",
            "Predicted Target Answer:  the estimated prevalence of sialidosis is in to individuals \n",
            "\n",
            "\n"
          ],
          "name": "stdout"
        }
      ]
    },
    {
      "cell_type": "code",
      "metadata": {
        "id": "Pb_DFSp1iTRN"
      },
      "source": [
        "#Make predictions on the train dataset\n",
        "\n",
        "train_gen = generate_batch(X_train, y_train, batch_size = 1)\n",
        "x=-1"
      ],
      "execution_count": 39,
      "outputs": []
    },
    {
      "cell_type": "code",
      "metadata": {
        "id": "wqzYkycev2Oy",
        "outputId": "b767508f-f6fe-416c-c5b9-a385c7298e7b",
        "colab": {
          "base_uri": "https://localhost:8080/",
          "height": 1000
        }
      },
      "source": [
        "x+=1\n",
        "for j in range(x,x+40):\n",
        "    (input_seq, actual_output), _ = next(train_gen)\n",
        "    decoded_sentence = decode_sequence(input_seq)\n",
        "    print('Input Source Question:', X_train[j:j+1].values[0],'?')\n",
        "    print('Actual Target Answer:', y_train[j:j+1].values[0][6:-4])\n",
        "    print('Predicted Target Answer:', decoded_sentence[:-4])\n",
        "    print(\"\\n\")"
      ],
      "execution_count": 40,
      "outputs": [
        {
          "output_type": "stream",
          "text": [
            "Input Source Question: how to diagnose vulvar cancer ?\n",
            "Actual Target Answer:  chest x ray biopsy computed tomography scan \n",
            "Predicted Target Answer:  chest x ray biopsy computed tomography scan \n",
            "\n",
            "\n",
            "Input Source Question: what is the risk for salivary gland cancer ?\n",
            "Actual Target Answer:  exposed to certain types of radiation \n",
            "Predicted Target Answer:  exposed to certain types of radiation \n",
            "\n",
            "\n",
            "Input Source Question: what are the treatments for problems with taste ?\n",
            "Actual Target Answer:  relief is possible although there is no treatment relief from taste disorders is possible \n",
            "Predicted Target Answer:  relief is possible although there is no treatment relief from taste disorders is possible \n",
            "\n",
            "\n",
            "Input Source Question: what are the treatments for l syndrome ?\n",
            "Actual Target Answer:  diagnostic tests drug therapy surgery and rehabilitation genetic counseling palliative care \n",
            "Predicted Target Answer:  diagnostic tests drug therapy surgery and rehabilitation genetic counseling palliative care \n",
            "\n",
            "\n",
            "Input Source Question: what are the genetic changes related to glycogen storage disease type vi ?\n",
            "Actual Target Answer:  mutations in the pygl gene cause gsdvi \n",
            "Predicted Target Answer:  mutations in the pygl gene cause gsdvi \n",
            "\n",
            "\n",
            "Input Source Question: what are the treatments for hereditary antithrombin deficiency ?\n",
            "Actual Target Answer:  drug therapy surgery palliative care chemotherapy radiation therapy \n",
            "Predicted Target Answer:  drug therapy surgery palliative care chemotherapy radiation therapy \n",
            "\n",
            "\n",
            "Input Source Question: how many people are affected by late infantile neuronal ceroid lipofuscinosis ?\n",
            "Actual Target Answer:  mutations in the tpp gene cause most cases of late infantile ncl \n",
            "Predicted Target Answer:  mutations in the tpp gene cause most cases of late infantile ncl \n",
            "\n",
            "\n",
            "Input Source Question: what research is being done for endometrial cancer ?\n",
            "Actual Target Answer:  studies are looking for ways to find endometrial cancer early \n",
            "Predicted Target Answer:  studies are looking for ways to find endometrial cancer early \n",
            "\n",
            "\n",
            "Input Source Question: what are the treatments for x linked severe combined immunodeficiency ?\n",
            "Actual Target Answer:  diagnostic tests drug therapy surgery and rehabilitation genetic counseling \n",
            "Predicted Target Answer:  diagnostic tests drug therapy surgery and rehabilitation genetic counseling \n",
            "\n",
            "\n",
            "Input Source Question: what is are laing distal myopathy ?\n",
            "Actual Target Answer:  a condition that affects skeletal muscles which are muscles that the body uses for movement \n",
            "Predicted Target Answer:  condition that affects skeletal muscles which are muscles that the body uses for movement \n",
            "\n",
            "\n",
            "Input Source Question: what is are transverse myelitis ?\n",
            "Actual Target Answer:  a neurological disorder caused by inflammation across both sides of one level of the spinal cord \n",
            "Predicted Target Answer:  a neurological disorder caused by inflammation across both sides of one level of the spinal cord \n",
            "\n",
            "\n",
            "Input Source Question: what is mycosis fungoides and the szary syndrome ?\n",
            "Actual Target Answer:  a disease in which lymphocytes affect the skin \n",
            "Predicted Target Answer:  a disease in which lymphocytes affect the skin \n",
            "\n",
            "\n",
            "Input Source Question: how many people are affected by x linked lissencephaly with abnormal genitalia ?\n",
            "Actual Target Answer:  approximately affected families have been described in the medical literature \n",
            "Predicted Target Answer:  approximately affected families have been described in the medical literature \n",
            "\n",
            "\n",
            "Input Source Question: how many people are affected by severe congenital neutropenia ?\n",
            "Actual Target Answer:  the incidence of severe congenital neutropenia is estimated to be in individuals \n",
            "Predicted Target Answer:  the incidence of severe congenital neutropenia is estimated to be in individuals \n",
            "\n",
            "\n",
            "Input Source Question: how to diagnose plasma cell neoplasms ?\n",
            "Actual Target Answer:  blood and urine test bone marrow aspiration and biopsy skeletal bone survey \n",
            "Predicted Target Answer:  blood and urine test bone marrow aspiration and biopsy skeletal bone survey \n",
            "\n",
            "\n",
            "Input Source Question: what are the treatments for alpha thalassemia x linked intellectual disability syndrome ?\n",
            "Actual Target Answer:  diagnostic tests drug therapy surgery and rehabilitation \n",
            "Predicted Target Answer:  diagnostic tests drug therapy surgery and rehabilitation \n",
            "\n",
            "\n",
            "Input Source Question: what are the symptoms of parkinsons disease ?\n",
            "Actual Target Answer:  tremor often begins in a hand although sometimes a foot or the jaw is affected first \n",
            "Predicted Target Answer:  tremor often begins in a hand although sometimes a foot or the jaw is affected first \n",
            "\n",
            "\n",
            "Input Source Question: how many people are affected by gitelman syndrome ?\n",
            "Actual Target Answer:  gitelman syndrome affects an estimated in people worldwide \n",
            "Predicted Target Answer:  gitelman syndrome affects an estimated in people worldwide \n",
            "\n",
            "\n",
            "Input Source Question: what research is being done for psoriasis ?\n",
            "Actual Target Answer:  making headway in several different areas including the role of t cells new treatments psoriasis genes \n",
            "Predicted Target Answer:  making headway in several different areas including the role of t cells new treatments psoriasis genes \n",
            "\n",
            "\n",
            "Input Source Question: is isolated duane retraction syndrome inherited ?\n",
            "Actual Target Answer:  occurs in people with no history of the disorder in their family \n",
            "Predicted Target Answer:  occurs in people with no history of the disorder in their family \n",
            "\n",
            "\n",
            "Input Source Question: is x linked hyper igm syndrome inherited ?\n",
            "Actual Target Answer:  this condition is inherited in an x linked recessive pattern \n",
            "Predicted Target Answer:  this condition is inherited in an x linked recessive pattern \n",
            "\n",
            "\n",
            "Input Source Question: what are the symptoms of retinoblastoma ?\n",
            "Actual Target Answer:  pupil of the eye appears white eye pain headache \n",
            "Predicted Target Answer:  pupil of the eye appears white eye pain headache \n",
            "\n",
            "\n",
            "Input Source Question: what are the genetic changes related to tetrahydrobiopterin deficiency ?\n",
            "Actual Target Answer:  tetrahydrobiopterin deficiency can be caused by mutations in one of several genes including gch pcbd pts and qdpr \n",
            "Predicted Target Answer:  tetrahydrobiopterin deficiency can be caused by mutations in one of several genes including gch pcbd pts and \n",
            "\n",
            "\n",
            "Input Source Question: what is are melnick needles syndrome ?\n",
            "Actual Target Answer:  a disorder involving abnormalities in skeletal development and other health problems \n",
            "Predicted Target Answer:  a disorder involving abnormalities in skeletal development and other health problems \n",
            "\n",
            "\n",
            "Input Source Question: is stevens johnson syndrome toxic epidermal necrolysis inherited ?\n",
            "Actual Target Answer:  sjs ten is not an inherited condition \n",
            "Predicted Target Answer:  sjs ten is not an inherited condition \n",
            "\n",
            "\n",
            "Input Source Question: what are the treatments for myotonic dystrophy ?\n",
            "Actual Target Answer:  diagnostic tests drug therapy surgery and rehabilitation \n",
            "Predicted Target Answer:  diagnostic tests drug therapy surgery and rehabilitation \n",
            "\n",
            "\n",
            "Input Source Question: what are the treatments for hypercholesterolemia ?\n",
            "Actual Target Answer:  drug therapy surgery palliative care chemotherapy radiation therapy \n",
            "Predicted Target Answer:  drug therapy surgery palliative care chemotherapy radiation therapy \n",
            "\n",
            "\n",
            "Input Source Question: what is are pitt hopkins syndrome ?\n",
            "Actual Target Answer:  characterized by intellectual disability and developmental delay breathing problems recurrent seizures \n",
            "Predicted Target Answer:  characterized by intellectual disability and developmental delay breathing problems recurrent seizures \n",
            "\n",
            "\n",
            "Input Source Question: how to prevent balance problems ?\n",
            "Actual Target Answer:  balance problems due to high blood pressure can be managed by eating less salt maintaining a healthy weight and exercising \n",
            "Predicted Target Answer:  balance problems due to high blood pressure can be managed by eating less salt maintaining a healthy weight\n",
            "\n",
            "\n",
            "Input Source Question: what is are cerebral palsy ?\n",
            "Actual Target Answer:  neurological disorders and permanently affect body movement muscle coordination and balance \n",
            "Predicted Target Answer:  neurological disorders and permanently affect body movement muscle coordination and balance \n",
            "\n",
            "\n",
            "Input Source Question: what are the treatments for sturge weber syndrome ?\n",
            "Actual Target Answer:  laser treatment may be used to lighten or remove the birthmark \n",
            "Predicted Target Answer:  laser treatment may be used to lighten or remove the birthmark \n",
            "\n",
            "\n",
            "Input Source Question: what are the genetic changes related to juvenile myoclonic epilepsy ?\n",
            "Actual Target Answer:  the genetics of juvenile myoclonic epilepsy are complex and not completely understood \n",
            "Predicted Target Answer:  the genetics of juvenile myoclonic epilepsy are complex and not completely understood \n",
            "\n",
            "\n",
            "Input Source Question: is neurohypophyseal diabetes insipidus inherited ?\n",
            "Actual Target Answer:  familial neurohypophyseal diabetes insipidus is almost always inherited in an autosomal dominant pattern \n",
            "Predicted Target Answer:  familial neurohypophyseal diabetes insipidus is almost always inherited in an autosomal dominant pattern \n",
            "\n",
            "\n",
            "Input Source Question: how many people are affected by robinow syndrome ?\n",
            "Actual Target Answer:  both the autosomal recessive and autosomal dominant forms of robinow syndrome are rare \n",
            "Predicted Target Answer:  both the autosomal recessive and autosomal dominant forms of robinow syndrome are rare \n",
            "\n",
            "\n",
            "Input Source Question: what is the outlook for friedreichs ataxia ?\n",
            "Actual Target Answer:  generally the person is confined to a wheelchair and in later stages of the disease \n",
            "Predicted Target Answer:  generally the person is confined to a wheelchair and in later stages of the disease \n",
            "\n",
            "\n",
            "Input Source Question: how many people are affected by isolated lissencephaly sequence ?\n",
            "Actual Target Answer:  ils affects approximately in newborns \n",
            "Predicted Target Answer:  ils affects approximately in newborns \n",
            "\n",
            "\n",
            "Input Source Question: what is are tetrasomy p ?\n",
            "Actual Target Answer:  tetrasomy p is a chromosomal condition that affects many parts of the body \n",
            "Predicted Target Answer:  tetrasomy p is a chromosomal condition that affects many parts of the body \n",
            "\n",
            "\n",
            "Input Source Question: what are the treatments for infantile onset ascending hereditary spastic paralysis ?\n",
            "Actual Target Answer:  diagnostic tests drug therapy surgery and rehabilitation genetic counseling palliative care \n",
            "Predicted Target Answer:  diagnostic tests drug therapy surgery and rehabilitation genetic counseling palliative care \n",
            "\n",
            "\n",
            "Input Source Question: is smith magenis syndrome inherited ?\n",
            "Actual Target Answer:  smith magenis syndrome is typically not inherited \n",
            "Predicted Target Answer:  smith magenis syndrome is typically not inherited \n",
            "\n",
            "\n",
            "Input Source Question: what are the genetic changes related to greenberg dysplasia ?\n",
            "Actual Target Answer:  mutations in the lbr gene cause greenberg dysplasia \n",
            "Predicted Target Answer:  mutations in the lbr gene cause greenberg dysplasia \n",
            "\n",
            "\n"
          ],
          "name": "stdout"
        }
      ]
    }
  ]
}
