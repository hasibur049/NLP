{
  "nbformat": 4,
  "nbformat_minor": 0,
  "metadata": {
    "kernelspec": {
      "display_name": "Python 3",
      "language": "python",
      "name": "python3"
    },
    "language_info": {
      "codemirror_mode": {
        "name": "ipython",
        "version": 3
      },
      "file_extension": ".py",
      "mimetype": "text/x-python",
      "name": "python",
      "nbconvert_exporter": "python",
      "pygments_lexer": "ipython3",
      "version": "3.7.4"
    },
    "colab": {
      "name": "encoder_decoderV2_attention.ipynb",
      "provenance": [],
      "include_colab_link": true
    },
    "accelerator": "GPU"
  },
  "cells": [
    {
      "cell_type": "markdown",
      "metadata": {
        "id": "view-in-github",
        "colab_type": "text"
      },
      "source": [
        "<a href=\"https://colab.research.google.com/github/hasiburrahman1/NLP/blob/master/encoder_decoderV2_attention.ipynb\" target=\"_parent\"><img src=\"https://colab.research.google.com/assets/colab-badge.svg\" alt=\"Open In Colab\"/></a>"
      ]
    },
    {
      "cell_type": "code",
      "metadata": {
        "id": "tzHsWfqustqP",
        "outputId": "02df247d-084d-4098-c386-a14d853b94c4",
        "colab": {
          "base_uri": "https://localhost:8080/",
          "height": 34
        }
      },
      "source": [
        "pwd"
      ],
      "execution_count": 1,
      "outputs": [
        {
          "output_type": "execute_result",
          "data": {
            "application/vnd.google.colaboratory.intrinsic+json": {
              "type": "string"
            },
            "text/plain": [
              "'/content'"
            ]
          },
          "metadata": {
            "tags": []
          },
          "execution_count": 1
        }
      ]
    },
    {
      "cell_type": "code",
      "metadata": {
        "id": "13AYMj-vs3gG",
        "outputId": "8c67cc9a-2113-4a11-be85-7bb01ede00b9",
        "colab": {
          "base_uri": "https://localhost:8080/",
          "height": 34
        }
      },
      "source": [
        "from google.colab import drive\n",
        "drive.mount('/content/drive')"
      ],
      "execution_count": 2,
      "outputs": [
        {
          "output_type": "stream",
          "text": [
            "Drive already mounted at /content/drive; to attempt to forcibly remount, call drive.mount(\"/content/drive\", force_remount=True).\n"
          ],
          "name": "stdout"
        }
      ]
    },
    {
      "cell_type": "code",
      "metadata": {
        "id": "juuV5cO04U65"
      },
      "source": [
        "import warnings\n",
        "warnings.simplefilter(action='ignore', category=FutureWarning)"
      ],
      "execution_count": 3,
      "outputs": []
    },
    {
      "cell_type": "code",
      "metadata": {
        "id": "g1dQ1yF7stqV"
      },
      "source": [
        "import pandas as pd\n",
        "import numpy as np\n",
        "import sys\n",
        "import string\n",
        "from string import digits\n",
        "from pandas import Panel\n",
        "from sklearn.datasets import make_circles\n",
        "from sklearn.utils import shuffle\n",
        "from sklearn.model_selection import train_test_split\n",
        "from keras.layers import Input, LSTM, Embedding, Dense\n",
        "from keras.models import Model\n",
        "import os\n",
        "import re\n",
        "import io\n",
        "import time\n",
        "import matplotlib.pyplot as plt\n",
        "%matplotlib inline\n",
        "import matplotlib.ticker as ticker\n",
        "import xml.etree.ElementTree as et \n",
        "import tensorflow as tf \n",
        "import tensorflow_addons as tfa\n",
        "from tensorflow.python.keras.preprocessing.text import Tokenizer\n",
        "from tensorflow.python.keras.preprocessing.sequence import pad_sequences\n",
        "from keras.models import Sequential\n",
        "from keras.layers import GRU, Bidirectional, LSTM, Input, Dense,Embedding, Concatenate, TimeDistributed\n",
        "from keras.layers.embeddings import Embedding\n",
        "from keras.initializers import Constant\n",
        "from keras.callbacks import ModelCheckpoint\n",
        "from keras.models import load_model\n",
        "from keras.callbacks import Callback\n",
        "from sklearn.metrics import confusion_matrix, f1_score, precision_score, recall_score\n",
        "from tensorflow.keras.models import Model,load_model, model_from_json\n",
        "from tensorflow.keras.utils import plot_model\n",
        "from tensorflow.keras.preprocessing.text import one_hot, Tokenizer\n",
        "from tensorflow.keras.callbacks import EarlyStopping\n",
        "import pickle as pkl\n",
        "\n",
        "from keras.layers import Dense\n",
        "from keras.models import Sequential, Input, Model\n",
        "from sklearn.metrics import confusion_matrix, f1_score, precision_score, recall_score\n",
        "\n",
        "from keras import backend as K \n",
        "K.clear_session() \n"
      ],
      "execution_count": 4,
      "outputs": []
    },
    {
      "cell_type": "code",
      "metadata": {
        "id": "tpTooBwVtD9c"
      },
      "source": [
        "# import pandas as pd \n",
        "import pandas as pd \n",
        "   \n",
        "# Takes the file's folder \n",
        "#filepath = r\"C:Documents\\dataset.csv\"\n",
        "\n",
        "filepath = r\"/content/drive/My Drive/Colab Notebooks/complex/updated complex/dataset.csv\" \n",
        "# read the CSV file \n",
        "\n",
        "#lines = pd.read_csv(filepath, encoding='ascii')\n",
        "lines = pd.read_csv(filepath, sep='delimiter', header=None, engine='python') \n"
      ],
      "execution_count": 5,
      "outputs": []
    },
    {
      "cell_type": "code",
      "metadata": {
        "id": "yHeT3XDBstqa",
        "outputId": "783d6852-4695-43a6-9512-cf88813452f9",
        "colab": {
          "base_uri": "https://localhost:8080/",
          "height": 52
        }
      },
      "source": [
        "print(len(lines)) \n",
        "lines.columns = ['qa']\n",
        "list(lines.columns)"
      ],
      "execution_count": 6,
      "outputs": [
        {
          "output_type": "stream",
          "text": [
            "4040\n"
          ],
          "name": "stdout"
        },
        {
          "output_type": "execute_result",
          "data": {
            "text/plain": [
              "['qa']"
            ]
          },
          "metadata": {
            "tags": []
          },
          "execution_count": 6
        }
      ]
    },
    {
      "cell_type": "code",
      "metadata": {
        "id": "HPhka2O0stqc"
      },
      "source": [
        "lines[['question','answer']] = lines.qa.apply(lambda x: pd.Series(str(x).split(\"?\")))"
      ],
      "execution_count": 7,
      "outputs": []
    },
    {
      "cell_type": "code",
      "metadata": {
        "id": "4uaQB5alstqe",
        "outputId": "f4572444-4884-49d8-d9df-5aad9ccef9d5",
        "colab": {
          "base_uri": "https://localhost:8080/",
          "height": 34
        }
      },
      "source": [
        "list(lines.columns)"
      ],
      "execution_count": 8,
      "outputs": [
        {
          "output_type": "execute_result",
          "data": {
            "text/plain": [
              "['qa', 'question', 'answer']"
            ]
          },
          "metadata": {
            "tags": []
          },
          "execution_count": 8
        }
      ]
    },
    {
      "cell_type": "code",
      "metadata": {
        "id": "kI7x7oqqstqg"
      },
      "source": [
        "for col in lines.columns: \n",
        "    if 'qa' in col: \n",
        "        del lines[col] \n",
        "  "
      ],
      "execution_count": 9,
      "outputs": []
    },
    {
      "cell_type": "code",
      "metadata": {
        "id": "-fcbOqnBstqi",
        "outputId": "f49c3322-ba17-47d1-9e9d-3c72dde1c220",
        "colab": {
          "base_uri": "https://localhost:8080/",
          "height": 141
        }
      },
      "source": [
        "lines.iloc[:3]"
      ],
      "execution_count": 10,
      "outputs": [
        {
          "output_type": "execute_result",
          "data": {
            "text/html": [
              "<div>\n",
              "<style scoped>\n",
              "    .dataframe tbody tr th:only-of-type {\n",
              "        vertical-align: middle;\n",
              "    }\n",
              "\n",
              "    .dataframe tbody tr th {\n",
              "        vertical-align: top;\n",
              "    }\n",
              "\n",
              "    .dataframe thead th {\n",
              "        text-align: right;\n",
              "    }\n",
              "</style>\n",
              "<table border=\"1\" class=\"dataframe\">\n",
              "  <thead>\n",
              "    <tr style=\"text-align: right;\">\n",
              "      <th></th>\n",
              "      <th>question</th>\n",
              "      <th>answer</th>\n",
              "    </tr>\n",
              "  </thead>\n",
              "  <tbody>\n",
              "    <tr>\n",
              "      <th>0</th>\n",
              "      <td>What is (are) abdominal wall defect</td>\n",
              "      <td>,An opening in the abdomen through which vario...</td>\n",
              "    </tr>\n",
              "    <tr>\n",
              "      <th>1</th>\n",
              "      <td>What are the treatments for abdominal wall defect</td>\n",
              "      <td>,Diagnostic Tests-Drug Therapy-Surgery and Reh...</td>\n",
              "    </tr>\n",
              "    <tr>\n",
              "      <th>2</th>\n",
              "      <td>What is (are) Osteoporosis</td>\n",
              "      <td>,A Bone Disease that thins and weakens the bon...</td>\n",
              "    </tr>\n",
              "  </tbody>\n",
              "</table>\n",
              "</div>"
            ],
            "text/plain": [
              "                                            question                                             answer\n",
              "0                What is (are) abdominal wall defect  ,An opening in the abdomen through which vario...\n",
              "1  What are the treatments for abdominal wall defect  ,Diagnostic Tests-Drug Therapy-Surgery and Reh...\n",
              "2                        What is (are) Osteoporosis   ,A Bone Disease that thins and weakens the bon..."
            ]
          },
          "metadata": {
            "tags": []
          },
          "execution_count": 10
        }
      ]
    },
    {
      "cell_type": "code",
      "metadata": {
        "id": "cSk31GPJstqk"
      },
      "source": [
        "lines.columns = ['source', 'target']"
      ],
      "execution_count": 11,
      "outputs": []
    },
    {
      "cell_type": "code",
      "metadata": {
        "id": "EwCwcdoCstqm",
        "outputId": "425b8a34-0a04-4421-b32c-e7abea0d2d45",
        "colab": {
          "base_uri": "https://localhost:8080/",
          "height": 34
        }
      },
      "source": [
        "list(lines.columns)"
      ],
      "execution_count": 12,
      "outputs": [
        {
          "output_type": "execute_result",
          "data": {
            "text/plain": [
              "['source', 'target']"
            ]
          },
          "metadata": {
            "tags": []
          },
          "execution_count": 12
        }
      ]
    },
    {
      "cell_type": "code",
      "metadata": {
        "id": "96Vj4Dvestqo",
        "outputId": "6d09ab0e-72a8-4344-f799-75503aba4abe",
        "colab": {
          "base_uri": "https://localhost:8080/",
          "height": 34
        }
      },
      "source": [
        "lines['source'].iloc[2000]"
      ],
      "execution_count": 13,
      "outputs": [
        {
          "output_type": "execute_result",
          "data": {
            "application/vnd.google.colaboratory.intrinsic+json": {
              "type": "string"
            },
            "text/plain": [
              "'What are the treatments for late-infantile neuronal ceroid lipofuscinosis '"
            ]
          },
          "metadata": {
            "tags": []
          },
          "execution_count": 13
        }
      ]
    },
    {
      "cell_type": "code",
      "metadata": {
        "id": "V4yFlDH3stqr",
        "outputId": "474f18f9-79e5-4a74-90ed-5d7c8e238f2c",
        "colab": {
          "base_uri": "https://localhost:8080/",
          "height": 34
        }
      },
      "source": [
        "lines['target'].iloc[2000]"
      ],
      "execution_count": 14,
      "outputs": [
        {
          "output_type": "execute_result",
          "data": {
            "application/vnd.google.colaboratory.intrinsic+json": {
              "type": "string"
            },
            "text/plain": [
              "',\"An eye disorder that affects the clear, outer covering of the eye called the cornea. \"'"
            ]
          },
          "metadata": {
            "tags": []
          },
          "execution_count": 14
        }
      ]
    },
    {
      "cell_type": "code",
      "metadata": {
        "id": "l0AL1elKstqt"
      },
      "source": [
        "lines['target'] = lines['target'].fillna('').apply(str)"
      ],
      "execution_count": 15,
      "outputs": []
    },
    {
      "cell_type": "code",
      "metadata": {
        "id": "oa23n-13stqv"
      },
      "source": [
        "# convert source and target text to Lowercase \n",
        "lines.source=lines.source.apply(lambda x: x.lower())\n",
        "lines.target=lines.target.apply(lambda x: x.lower())\n",
        "\n",
        "# Remove quotes from source and target text\n",
        "lines.source=lines.source.apply(lambda x: re.sub(\"'\", '', x))\n",
        "lines.target=lines.target.apply(lambda x: re.sub(\"'\", '', x))\n",
        "\n",
        "#s = re.sub(r\"[-()\\\"#/@;:<>{}`+=~|.!?,]\", \" \", x)\n",
        "\n",
        "lines.source=lines.source.apply(lambda x: re.sub(r'[-()\\\"#/@;:<>{}`+=~|.!?,]',r' ',x))\n",
        "lines.target=lines.target.apply(lambda x: re.sub(r'[-()\\\"#/@;:<>{}`+=~|.!?,]',r' ',x))\n",
        "\n",
        "'''\n",
        "# create a set of all special characters\n",
        "special_characters= set(string.punctuation)\n",
        "\n",
        "# Remove all the special characters\n",
        "lines.source=lines.source.apply(lambda x: re.sub(r'[^a-zA-Z0-9 ]',r'',x))\n",
        "lines.target=lines.target.apply(lambda x: re.sub(r'[^a-zA-Z0-9 ]',r'',x))\n",
        "'''\n",
        "# Remove digits from source and target sentences\n",
        "num_digits= str.maketrans('','', digits)\n",
        "lines.source=lines.source.apply(lambda x: x.translate(num_digits))\n",
        "lines.target= lines.target.apply(lambda x: x.translate(num_digits))\n",
        "\n",
        "# Remove extra spaces\n",
        "lines.source=lines.source.apply(lambda x: x.strip())\n",
        "lines.target=lines.target.apply(lambda x: x.strip())\n",
        "lines.source=lines.source.apply(lambda x: re.sub(\" +\", \" \", x))\n",
        "lines.target=lines.target.apply(lambda x: re.sub(\" +\", \" \", x))\n"
      ],
      "execution_count": 16,
      "outputs": []
    },
    {
      "cell_type": "code",
      "metadata": {
        "id": "d73hdKpUstqx",
        "outputId": "506d50aa-8b56-4432-d53a-bfcde67820b7",
        "colab": {
          "base_uri": "https://localhost:8080/",
          "height": 233
        }
      },
      "source": [
        "# Add start and end tokens to target sequences\n",
        "lines.target = lines.target.apply(lambda x : 'START_ '+ x + ' _END')\n",
        "lines.sample(6)"
      ],
      "execution_count": 17,
      "outputs": [
        {
          "output_type": "execute_result",
          "data": {
            "text/html": [
              "<div>\n",
              "<style scoped>\n",
              "    .dataframe tbody tr th:only-of-type {\n",
              "        vertical-align: middle;\n",
              "    }\n",
              "\n",
              "    .dataframe tbody tr th {\n",
              "        vertical-align: top;\n",
              "    }\n",
              "\n",
              "    .dataframe thead th {\n",
              "        text-align: right;\n",
              "    }\n",
              "</style>\n",
              "<table border=\"1\" class=\"dataframe\">\n",
              "  <thead>\n",
              "    <tr style=\"text-align: right;\">\n",
              "      <th></th>\n",
              "      <th>source</th>\n",
              "      <th>target</th>\n",
              "    </tr>\n",
              "  </thead>\n",
              "  <tbody>\n",
              "    <tr>\n",
              "      <th>1775</th>\n",
              "      <td>is krabbe disease inherited</td>\n",
              "      <td>START_ this condition is inherited in an autos...</td>\n",
              "    </tr>\n",
              "    <tr>\n",
              "      <th>1434</th>\n",
              "      <td>what is the it appears likely that most childr...</td>\n",
              "      <td>START_ although it has been suggested that in ...</td>\n",
              "    </tr>\n",
              "    <tr>\n",
              "      <th>1352</th>\n",
              "      <td>what is are ohtahara syndrome</td>\n",
              "      <td>START_ ohtahara syndrome is a neurological dis...</td>\n",
              "    </tr>\n",
              "    <tr>\n",
              "      <th>3880</th>\n",
              "      <td>what is are zellweger spectrum disorder</td>\n",
              "      <td>START_ a group of conditions that have overlap...</td>\n",
              "    </tr>\n",
              "    <tr>\n",
              "      <th>2573</th>\n",
              "      <td>what are the genetic changes related to giant ...</td>\n",
              "      <td>START_ nras gene mutations cause most cases of...</td>\n",
              "    </tr>\n",
              "    <tr>\n",
              "      <th>381</th>\n",
              "      <td>what are the treatments for muckle wells syndrome</td>\n",
              "      <td>START_ diagnostic tests drug therapy surgery a...</td>\n",
              "    </tr>\n",
              "  </tbody>\n",
              "</table>\n",
              "</div>"
            ],
            "text/plain": [
              "                                                 source                                             target\n",
              "1775                        is krabbe disease inherited  START_ this condition is inherited in an autos...\n",
              "1434  what is the it appears likely that most childr...  START_ although it has been suggested that in ...\n",
              "1352                      what is are ohtahara syndrome  START_ ohtahara syndrome is a neurological dis...\n",
              "3880            what is are zellweger spectrum disorder  START_ a group of conditions that have overlap...\n",
              "2573  what are the genetic changes related to giant ...  START_ nras gene mutations cause most cases of...\n",
              "381   what are the treatments for muckle wells syndrome  START_ diagnostic tests drug therapy surgery a..."
            ]
          },
          "metadata": {
            "tags": []
          },
          "execution_count": 17
        }
      ]
    },
    {
      "cell_type": "code",
      "metadata": {
        "id": "ODTq93PKstqz",
        "outputId": "6e535ce4-adc5-4bc1-b630-11c6a1ec3a67",
        "colab": {
          "base_uri": "https://localhost:8080/",
          "height": 34
        }
      },
      "source": [
        "lines['source'].iloc[2086]"
      ],
      "execution_count": 18,
      "outputs": [
        {
          "output_type": "execute_result",
          "data": {
            "application/vnd.google.colaboratory.intrinsic+json": {
              "type": "string"
            },
            "text/plain": [
              "'how to diagnose colon cancer'"
            ]
          },
          "metadata": {
            "tags": []
          },
          "execution_count": 18
        }
      ]
    },
    {
      "cell_type": "code",
      "metadata": {
        "id": "MEra-bW3stq1",
        "outputId": "5ea27faf-bd72-47ef-f59a-f32965d7cc4f",
        "colab": {
          "base_uri": "https://localhost:8080/",
          "height": 34
        }
      },
      "source": [
        "lines['target'].iloc[2086]"
      ],
      "execution_count": 19,
      "outputs": [
        {
          "output_type": "execute_result",
          "data": {
            "application/vnd.google.colaboratory.intrinsic+json": {
              "type": "string"
            },
            "text/plain": [
              "'START_ digital rectal exam biopsy _END'"
            ]
          },
          "metadata": {
            "tags": []
          },
          "execution_count": 19
        }
      ]
    },
    {
      "cell_type": "code",
      "metadata": {
        "id": "UZutrCzostq3",
        "outputId": "c2f1ba0d-1dbe-4d48-f83f-4d9d0ded84ee",
        "colab": {
          "base_uri": "https://localhost:8080/",
          "height": 34
        }
      },
      "source": [
        "# Find all the source and target words and sort them\n",
        "# Vocabulary of Source language\n",
        "all_source_words=set()\n",
        "for source in lines.source:\n",
        "    for word in source.split():\n",
        "        if word not in all_source_words:\n",
        "            all_source_words.add(word)\n",
        "# Vocabulary of Target \n",
        "all_target_words=set()\n",
        "for target in lines.target:\n",
        "    for word in target.split():\n",
        "        if word not in all_target_words:\n",
        "            all_target_words.add(word)\n",
        "# sort all unique source and target words\n",
        "source_words= sorted(list(all_source_words))\n",
        "target_words=sorted(list(all_target_words))\n",
        "\n",
        "len(source_words), len(target_words)"
      ],
      "execution_count": 20,
      "outputs": [
        {
          "output_type": "execute_result",
          "data": {
            "text/plain": [
              "(1270, 3635)"
            ]
          },
          "metadata": {
            "tags": []
          },
          "execution_count": 20
        }
      ]
    },
    {
      "cell_type": "code",
      "metadata": {
        "id": "9CDZwIgYstq5",
        "outputId": "543a46a8-6eac-49e7-a283-6b9c4cf14db1",
        "colab": {
          "base_uri": "https://localhost:8080/",
          "height": 52
        }
      },
      "source": [
        "#Find maximum sentence length in  the source and target data\n",
        "source_length_list=[]\n",
        "for l in lines.source:\n",
        "    source_length_list.append(len(l.split(' ')))\n",
        "max_source_length= max(source_length_list)\n",
        "print(\" Max length of the source sentence\",max_source_length)\n",
        "target_length_list=[]\n",
        "for l in lines.target:\n",
        "    target_length_list.append(len(l.split(' ')))\n",
        "max_target_length= max(target_length_list)\n",
        "print(\" Max length of the target sentence\",max_target_length)"
      ],
      "execution_count": 21,
      "outputs": [
        {
          "output_type": "stream",
          "text": [
            " Max length of the source sentence 19\n",
            " Max length of the target sentence 31\n"
          ],
          "name": "stdout"
        }
      ]
    },
    {
      "cell_type": "code",
      "metadata": {
        "id": "dNEUOrIWstq7"
      },
      "source": [
        "# creating a word to index(word2idx) for source and target\n",
        "source_word2idx= dict([(word, i+1) for i,word in enumerate(source_words)])\n",
        "target_word2idx=dict([(word, i+1) for i, word in enumerate(target_words)])"
      ],
      "execution_count": 22,
      "outputs": []
    },
    {
      "cell_type": "code",
      "metadata": {
        "id": "WTBTtf58stq8",
        "outputId": "f9450f78-7476-434e-d110-3750e103b31f",
        "colab": {
          "base_uri": "https://localhost:8080/",
          "height": 54
        }
      },
      "source": [
        "#creating a dictionary for index to word for source and target vocabulary\n",
        "source_idx2word= dict([(i, word) for word, i in  source_word2idx.items()])\n",
        "print(source_idx2word)\n",
        "target_idx2word =dict([(i, word) for word, i in target_word2idx.items()])"
      ],
      "execution_count": 23,
      "outputs": [
        {
          "output_type": "stream",
          "text": [
            "{1: 'a', 2: 'aarskog', 3: 'ab', 4: 'abdominal', 5: 'abetalipoproteinemia', 6: 'abnormal', 7: 'absent', 8: 'abuse', 9: 'acatalasemia', 10: 'accumulation', 11: 'acetylglutamate', 12: 'achondrogenesis', 13: 'achondroplasia', 14: 'achromatopsia', 15: 'acid', 16: 'acidemia', 17: 'acidosis', 18: 'aciduria', 19: 'acral', 20: 'acrofacial', 21: 'acromelic', 22: 'acromicric', 23: 'actin', 24: 'activated', 25: 'acute', 26: 'acyl', 27: 'adams', 28: 'adcy', 29: 'adenine', 30: 'adenosine', 31: 'adenylosuccinate', 32: 'adermatoglyphia', 33: 'adhesion', 34: 'adiposis', 35: 'adolescent', 36: 'adrenal', 37: 'adrenoleukodystrophy', 38: 'adult', 39: 'adults', 40: 'affected', 41: 'african', 42: 'agammaglobulinemia', 43: 'age', 44: 'aggravated', 45: 'aggregate', 46: 'aicardi', 47: 'aids', 48: 'alagille', 49: 'albinism', 50: 'albright', 51: 'aldrich', 52: 'alexander', 53: 'alg', 54: 'alkaptonuria', 55: 'allan', 56: 'allergic', 57: 'alopecia', 58: 'alpers', 59: 'alpha', 60: 'amelia', 61: 'american', 62: 'amyloid', 63: 'amyloidosis', 64: 'amyotrophy', 65: 'and', 66: 'anemia', 67: 'aneurysms', 68: 'angioedema', 69: 'angiopathy', 70: 'anomalies', 71: 'anophthalmia', 72: 'antithrombin', 73: 'antitrypsin', 74: 'aortic', 75: 'aplasia', 76: 'appears', 77: 'are', 78: 'arterial', 79: 'arteriosclerosis', 80: 'arthritis', 81: 'arthropathy', 82: 'ascending', 83: 'assembly', 84: 'associated', 85: 'association', 86: 'asthma', 87: 'at', 88: 'ataxia', 89: 'atrophy', 90: 'attack', 91: 'auriculo', 92: 'autonomic', 93: 'axonal', 94: 'balance', 95: 'baraitser', 96: 'barber', 97: 'barr', 98: 'batten', 99: 'bbb', 100: 'behmel', 101: 'being', 102: 'beta', 103: 'biesecker', 104: 'bifida', 105: 'bile', 106: 'binding', 107: 'blindness', 108: 'blood', 109: 'bodies', 110: 'body', 111: 'bone', 112: 'brain', 113: 'brainstem', 114: 'breakage', 115: 'breast', 116: 'brocks', 117: 'brunner', 118: 'bulbar', 119: 'bullosa', 120: 'by', 121: 'calcification', 122: 'calv', 123: 'cancer', 124: 'capillary', 125: 'carboxylase', 126: 'carcinoid', 127: 'carcinoma', 128: 'carpal', 129: 'cataract', 130: 'cause', 131: 'causes', 132: 'cavity', 133: 'cell', 134: 'central', 135: 'cephalic', 136: 'cephalopolysyndactyly', 137: 'cerebellar', 138: 'cerebellaris', 139: 'cerebral', 140: 'cerebro', 141: 'ceroid', 142: 'chain', 143: 'changes', 144: 'charcot', 145: 'cheney', 146: 'childhood', 147: 'children', 148: 'cholestasis', 149: 'chondrodysplasia', 150: 'chorea', 151: 'choroid', 152: 'chotzen', 153: 'chromosome', 154: 'chronic', 155: 'cidp', 156: 'cirrhosis', 157: 'clinical', 158: 'cluster', 159: 'cns', 160: 'coa', 161: 'coalition', 162: 'cofactor', 163: 'coffin', 164: 'cofs', 165: 'colitis', 166: 'collins', 167: 'coloboma', 168: 'colon', 169: 'colorectal', 170: 'colpocephaly', 171: 'coma', 172: 'combined', 173: 'complex', 174: 'complications', 175: 'confetti', 176: 'congenita', 177: 'congenital', 178: 'consequences', 179: 'cord', 180: 'corneal', 181: 'coronavirus', 182: 'corticobasal', 183: 'covid', 184: 'cramps', 185: 'craniopharyngioma', 186: 'craniosynostosis', 187: 'creatine', 188: 'creutzfeldt', 189: 'cushings', 190: 'cutaneous', 191: 'cutis', 192: 'cystic', 193: 'cysts', 194: 'cytomegalovirus', 195: 'd', 196: 'dandy', 197: 'de', 198: 'deafness', 199: 'deaminase', 200: 'death', 201: 'decarboxylase', 202: 'deep', 203: 'defect', 204: 'defects', 205: 'deficiency', 206: 'degeneration', 207: 'dehydrogenase', 208: 'deletion', 209: 'delta', 210: 'dementia', 211: 'demyelinating', 212: 'dento', 213: 'dependent', 214: 'depletion', 215: 'der', 216: 'dermatomyositis', 217: 'dermatopathia', 218: 'development', 219: 'developmental', 220: 'diabetes', 221: 'diabetic', 222: 'diagnose', 223: 'diagonose', 224: 'diagonse', 225: 'diamond', 226: 'dieker', 227: 'dietz', 228: 'diffuse', 229: 'digital', 230: 'disability', 231: 'disease', 232: 'disorder', 233: 'disorders', 234: 'distal', 235: 'distichiasis', 236: 'distress', 237: 'dna', 238: 'do', 239: 'does', 240: 'dolorosa', 241: 'done', 242: 'dravet', 243: 'drop', 244: 'drug', 245: 'duane', 246: 'duct', 247: 'dudley', 248: 'duplication', 249: 'dwarfism', 250: 'dysfunction', 251: 'dysfunctions', 252: 'dysgenesis', 253: 'dysgraphia', 254: 'dyskinesia', 255: 'dyslexia', 256: 'dysostosis', 257: 'dysplasia', 258: 'dyspraxia', 259: 'dysregulation', 260: 'dyssynergia', 261: 'dystonia', 262: 'dystonias', 263: 'dystrophy', 264: 'early', 265: 'ectopia', 266: 'elevation', 267: 'empty', 268: 'encephalitis', 269: 'encephaloceles', 270: 'encephalomyopathy', 271: 'encephalopathy', 272: 'endocrine', 273: 'endometrial', 274: 'endothelial', 275: 'enteropathy', 276: 'enzyme', 277: 'eosinophilic', 278: 'ependymoma', 279: 'epidermal', 280: 'epidermolysis', 281: 'epilepsy', 282: 'epiphyseal', 283: 'episodes', 284: 'epithelial', 285: 'epstein', 286: 'erythematosus', 287: 'erythroderma', 288: 'essential', 289: 'ewing', 290: 'extracranial', 291: 'extragonadal', 292: 'fabry', 293: 'facial', 294: 'facio', 295: 'factor', 296: 'factors', 297: 'fahrs', 298: 'failure', 299: 'familial', 300: 'farbers', 301: 'febrile', 302: 'feil', 303: 'fiber', 304: 'fibers', 305: 'fibromatosis', 306: 'fibromuscular', 307: 'fibrosis', 308: 'fibrous', 309: 'fisher', 310: 'focal', 311: 'folate', 312: 'foot', 313: 'for', 314: 'form', 315: 'formiminotransferase', 316: 'franceschetti', 317: 'fraumeni', 318: 'friedreich', 319: 'friedreichs', 320: 'frontometaphyseal', 321: 'frontonasal', 322: 'frontotemporal', 323: 'fructose', 324: 'fryns', 325: 'fuchs', 326: 'fucosidosis', 327: 'fukuyama', 328: 'fumarase', 329: 'fungoides', 330: 'g', 331: 'galactose', 332: 'galactosemia', 333: 'galactosialidosis', 334: 'gamma', 335: 'gangliosidoses', 336: 'gangliosidosis', 337: 'gastaut', 338: 'gastric', 339: 'gastrointestinal', 340: 'gaucher', 341: 'gaze', 342: 'geleophysic', 343: 'generalized', 344: 'genetic', 345: 'genital', 346: 'genitalia', 347: 'genitopatellar', 348: 'germ', 349: 'gerstmann', 350: 'gerstmanns', 351: 'gestational', 352: 'ghosal', 353: 'giant', 354: 'giedion', 355: 'gilbert', 356: 'gilford', 357: 'gillespie', 358: 'girdle', 359: 'gitelman', 360: 'gland', 361: 'glanzmann', 362: 'glia', 363: 'glioma', 364: 'globin', 365: 'globozoospermia', 366: 'globulin', 367: 'glossopharyngeal', 368: 'glucose', 369: 'glut', 370: 'glutamate', 371: 'glutaric', 372: 'glutathione', 373: 'glycine', 374: 'glycogen', 375: 'glycosylation', 376: 'gm', 377: 'gnathodiaphyseal', 378: 'golabi', 379: 'goldberg', 380: 'gorlin', 381: 'goutieres', 382: 'gracile', 383: 'granulomatosis', 384: 'graves', 385: 'gravis', 386: 'gray', 387: 'greenberg', 388: 'greig', 389: 'griscelli', 390: 'grn', 391: 'growth', 392: 'grsbeck', 393: 'guanidinoacetate', 394: 'guillain', 395: 'gyrate', 396: 'hair', 397: 'hairy', 398: 'hajdu', 399: 'hall', 400: 'hand', 401: 'harlequin', 402: 'hashimoto', 403: 'hauser', 404: 'head', 405: 'hearing', 406: 'heart', 407: 'hematodiaphyseal', 408: 'hemifacial', 409: 'hemiplegic', 410: 'hemochromatosis', 411: 'hemophilia', 412: 'hemorrhagic', 413: 'hennekam', 414: 'hepatic', 415: 'hepatocerebral', 416: 'hereditary', 417: 'hermansky', 418: 'herndon', 419: 'heterotaxy', 420: 'hidradenitis', 421: 'high', 422: 'hippel', 423: 'hirschhorn', 424: 'hirschsprung', 425: 'histidinemia', 426: 'histiocytoma', 427: 'histiocytosis', 428: 'hodgkin', 429: 'holocarboxylase', 430: 'holoprosencephaly', 431: 'holt', 432: 'homocystinuria', 433: 'hopkins', 434: 'horizontal', 435: 'hormone', 436: 'horner', 437: 'how', 438: 'huntington', 439: 'hutchinson', 440: 'huttenlocher', 441: 'hyaline', 442: 'hyalinosis', 443: 'hydratase', 444: 'hydroxy', 445: 'hydroxyacyl', 446: 'hydroxyglutaric', 447: 'hydroxylase', 448: 'hydroxysteroid', 449: 'hyper', 450: 'hypercholesterolemia', 451: 'hyperekplexia', 452: 'hyperferritinemia', 453: 'hyperkalemic', 454: 'hyperlysinemia', 455: 'hypermanganesemia', 456: 'hypermethioninemia', 457: 'hyperparathyroidism', 458: 'hyperthermia', 459: 'hypertrophy', 460: 'hypopharyngeal', 461: 'hypophosphatemic', 462: 'hypoplasia', 463: 'hypotonia', 464: 'hypouricemia', 465: 'hystrix', 466: 'i', 467: 'ia', 468: 'ichthyosiform', 469: 'ichthyosis', 470: 'idiopathic', 471: 'ids', 472: 'ie', 473: 'igm', 474: 'ii', 475: 'iii', 476: 'illicit', 477: 'imerslund', 478: 'immune', 479: 'immuno', 480: 'immunodeficiency', 481: 'in', 482: 'inclusion', 483: 'incontinence', 484: 'incontinentia', 485: 'indian', 486: 'infancy', 487: 'infant', 488: 'infantile', 489: 'infarct', 490: 'infection', 491: 'infections', 492: 'infertility', 493: 'inflammatory', 494: 'inherited', 495: 'insipidus', 496: 'insulin', 497: 'intellectual', 498: 'intestinal', 499: 'intestine', 500: 'intolerance', 501: 'intrahepatic', 502: 'intranuclear', 503: 'intraocular', 504: 'intrauterine', 505: 'involvement', 506: 'irak', 507: 'iron', 508: 'is', 509: 'isobutyryl', 510: 'isodicentric', 511: 'isolated', 512: 'isomerase', 513: 'isovaleric', 514: 'it', 515: 'iv', 516: 'ix', 517: 'jackson', 518: 'jacobsen', 519: 'jadassohn', 520: 'jakob', 521: 'jampel', 522: 'jaw', 523: 'jeghers', 524: 'jervell', 525: 'johnson', 526: 'joubert', 527: 'junctional', 528: 'juvenile', 529: 'kabuki', 530: 'kallmann', 531: 'kaufman', 532: 'kawasaki', 533: 'kbg', 534: 'kearns', 535: 'keratitis', 536: 'keratoderma', 537: 'ketoacid', 538: 'kidney', 539: 'kievit', 540: 'kinase', 541: 'kleefstra', 542: 'klinefelter', 543: 'klippel', 544: 'kniest', 545: 'knobloch', 546: 'koolen', 547: 'korsakoff', 548: 'krabbe', 549: 'kster', 550: 'kufs', 551: 'kuskokwim', 552: 'l', 553: 'lacrimo', 554: 'lactate', 555: 'lactic', 556: 'lactose', 557: 'lafora', 558: 'laing', 559: 'lama', 560: 'lamellar', 561: 'lange', 562: 'langer', 563: 'langerhans', 564: 'laron', 565: 'larsen', 566: 'larsson', 567: 'laryngeal', 568: 'laryngo', 569: 'late', 570: 'lateral', 571: 'lattice', 572: 'leber', 573: 'lectin', 574: 'legg', 575: 'legius', 576: 'legs', 577: 'leigh', 578: 'leiomyomatosis', 579: 'lemli', 580: 'lennox', 581: 'lentigines', 582: 'lentis', 583: 'lenz', 584: 'leptin', 585: 'lesch', 586: 'lethal', 587: 'lethargica', 588: 'leukemia', 589: 'leukocyte', 590: 'leukodystrophy', 591: 'leukoencephalopathy', 592: 'lewy', 593: 'leydig', 594: 'li', 595: 'liability', 596: 'liddle', 597: 'ligase', 598: 'like', 599: 'likely', 600: 'limb', 601: 'lindau', 602: 'linear', 603: 'linked', 604: 'lip', 605: 'lipase', 606: 'lipid', 607: 'lipofuscinosis', 608: 'lipomembranous', 609: 'lissencephaly', 610: 'liver', 611: 'lken', 612: 'loeys', 613: 'long', 614: 'loss', 615: 'low', 616: 'lowe', 617: 'lowry', 618: 'lujan', 619: 'lundborg', 620: 'lung', 621: 'lupus', 622: 'lyase', 623: 'lymphadenopathy', 624: 'lymphangioleiomyomatosis', 625: 'lymphedema', 626: 'lymphoblastic', 627: 'lymphoma', 628: 'lymphoproliferative', 629: 'lynch', 630: 'lysinuric', 631: 'm', 632: 'maat', 633: 'mabry', 634: 'macroaneurysm', 635: 'macroglobulinemia', 636: 'macular', 637: 'maffucci', 638: 'magenis', 639: 'magnesium', 640: 'mainzer', 641: 'majeed', 642: 'mal', 643: 'malabsorption', 644: 'male', 645: 'malformation', 646: 'malformations', 647: 'malignant', 648: 'mall', 649: 'malonyl', 650: 'mandibuloacral', 651: 'mandibulofacial', 652: 'manitoba', 653: 'mannose', 654: 'mannosidosis', 655: 'many', 656: 'maple', 657: 'marchesani', 658: 'marfan', 659: 'marie', 660: 'marinesco', 661: 'maternally', 662: 'matter', 663: 'mayer', 664: 'mc', 665: 'mccune', 666: 'mckusick', 667: 'mcleod', 668: 'meckel', 669: 'mecp', 670: 'medium', 671: 'medullary', 672: 'meesmann', 673: 'megalencephalic', 674: 'megalencephaly', 675: 'megaloblastic', 676: 'megdel', 677: 'meier', 678: 'meige', 679: 'melanocytic', 680: 'melanoma', 681: 'meleda', 682: 'mellitus', 683: 'melnick', 684: 'membrane', 685: 'meningitis', 686: 'menkes', 687: 'merkel', 688: 'mesomelic', 689: 'metachromatic', 690: 'metaphyseal', 691: 'metastatic', 692: 'metatropic', 693: 'methemoglobinemia', 694: 'methylbutyryl', 695: 'methylcrotonyl', 696: 'methylglutaconyl', 697: 'methylglutaryl', 698: 'methylmalonic', 699: 'methyltransferase', 700: 'mevalonate', 701: 'microcephalic', 702: 'microcephaly', 703: 'microdeletion', 704: 'microphthalmia', 705: 'microvillus', 706: 'migraine', 707: 'migrating', 708: 'miller', 709: 'milroy', 710: 'minus', 711: 'mitochondrial', 712: 'miyoshi', 713: 'moebius', 714: 'molybdenum', 715: 'monilethrix', 716: 'most', 717: 'motion', 718: 'mowat', 719: 'moyamoya', 720: 'mpv', 721: 'muckle', 722: 'mucolipidosis', 723: 'mucopolysaccharidosis', 724: 'mucosal', 725: 'muenke', 726: 'multi', 727: 'multicentric', 728: 'multiminicore', 729: 'multiple', 730: 'multiplex', 731: 'multisystem', 732: 'muscle', 733: 'muscular', 734: 'mutase', 735: 'myasthenia', 736: 'mycosis', 737: 'myd', 738: 'myelitis', 739: 'myelodysplastic', 740: 'myelogenous', 741: 'myeloid', 742: 'myeloproliferative', 743: 'myh', 744: 'myhre', 745: 'myoclonic', 746: 'myoclonica', 747: 'myoclonus', 748: 'myofibrillar', 749: 'myopathic', 750: 'myopathies', 751: 'myopathy', 752: 'myosin', 753: 'myostatin', 754: 'myotonia', 755: 'myotonic', 756: 'myotubular', 757: 'n', 758: 'naegeli', 759: 'nager', 760: 'nail', 761: 'nakajo', 762: 'narcolepsy', 763: 'nasal', 764: 'nasopharyngeal', 765: 'neck', 766: 'necrolysis', 767: 'necrosis', 768: 'needles', 769: 'nemaline', 770: 'neonatal', 771: 'neoplasia', 772: 'neoplasms', 773: 'nephrogenic', 774: 'nephronophthisis', 775: 'nephropathy', 776: 'nervous', 777: 'netherton', 778: 'neuralgia', 779: 'neuralgic', 780: 'neuroacanthocytosis', 781: 'neuroaxonal', 782: 'neuroblastoma', 783: 'neurodegeneration', 784: 'neuroferritinopathy', 785: 'neurofibromatosis', 786: 'neurogastrointestinal', 787: 'neurohypophyseal', 788: 'neurological', 789: 'neuromyelitis', 790: 'neuronal', 791: 'neuropathy', 792: 'neutral', 793: 'neutropenia', 794: 'neutrophilic', 795: 'nevus', 796: 'nicolaides', 797: 'nielsen', 798: 'niemann', 799: 'night', 800: 'nijmegen', 801: 'nishimura', 802: 'nodulosis', 803: 'non', 804: 'nonbullous', 805: 'nonsyndromic', 806: 'noonan', 807: 'norrie', 808: 'north', 809: 'northern', 810: 'not', 811: 'nyhan', 812: 'nystagmus', 813: 'obstruction', 814: 'occlusive', 815: 'occult', 816: 'ochoa', 817: 'ocular', 818: 'oculo', 819: 'oculocutaneous', 820: 'oculodentodigital', 821: 'oculofaciocardiodental', 822: 'oculopharyngeal', 823: 'oculotrichoanal', 824: 'of', 825: 'ohdo', 826: 'ohtahara', 827: 'older', 828: 'oliver', 829: 'ollier', 830: 'onset', 831: 'onycho', 832: 'ophthalmo', 833: 'opitz', 834: 'opsoclonus', 835: 'optic', 836: 'optica', 837: 'or', 838: 'oral', 839: 'oram', 840: 'ornithine', 841: 'oropharyngeal', 842: 'osseous', 843: 'osteochondromas', 844: 'osteodysplasia', 845: 'osteodysplastic', 846: 'osteolysis', 847: 'osteoporosis', 848: 'osteosarcoma', 849: 'outlet', 850: 'outlook', 851: 'ovarian', 852: 'overload', 853: 'ow', 854: 'p', 855: 'paget', 856: 'pagets', 857: 'pain', 858: 'palsies', 859: 'palsy', 860: 'pancreatitis', 861: 'panencephalitis', 862: 'paraganglioma', 863: 'paralyses', 864: 'paralysis', 865: 'paranasal', 866: 'paraplegia', 867: 'parathyroid', 868: 'parkinson', 869: 'parkinsonism', 870: 'parkinsons', 871: 'partial', 872: 'patella', 873: 'peeling', 874: 'penile', 875: 'people', 876: 'periodic', 877: 'peripheral', 878: 'perthes', 879: 'peters', 880: 'peutz', 881: 'pfeiffer', 882: 'phenylketonuria', 883: 'pheochromocytoma', 884: 'phosphate', 885: 'phosphoglycerate', 886: 'phosphoribosylpyrophosphate', 887: 'phosphoribosyltransferase', 888: 'pick', 889: 'piebaldism', 890: 'pierre', 891: 'pigmented', 892: 'pigmenti', 893: 'pigmentosa', 894: 'pigmentosum', 895: 'pik', 896: 'pilomatricoma', 897: 'pitt', 898: 'pituitary', 899: 'plasma', 900: 'platelet', 901: 'platyspondylic', 902: 'plus', 903: 'pmm', 904: 'pol', 905: 'poland', 906: 'polyangiitis', 907: 'polycystic', 908: 'polycythemia', 909: 'polyendocrinopathy', 910: 'polyglucosan', 911: 'polymicrogyria', 912: 'polyneuropathy', 913: 'polyposis', 914: 'pompe', 915: 'pontocerebellar', 916: 'popliteal', 917: 'porphyria', 918: 'postural', 919: 'potassium', 920: 'potential', 921: 'pregnancy', 922: 'prescription', 923: 'pressure', 924: 'prevent', 925: 'primary', 926: 'primordial', 927: 'probably', 928: 'problems', 929: 'progeria', 930: 'progressive', 931: 'promyelocytic', 932: 'prostate', 933: 'protein', 934: 'pseudo', 935: 'psoriasis', 936: 'pterygium', 937: 'pudlak', 938: 'pulmonary', 939: 'pulmonic', 940: 'punctata', 941: 'purpura', 942: 'q', 943: 'qt', 944: 'quitting', 945: 'radius', 946: 'ragged', 947: 'receptor', 948: 'rectal', 949: 'red', 950: 'reductase', 951: 'refractory', 952: 'related', 953: 'renal', 954: 'renpenning', 955: 'repetitive', 956: 'research', 957: 'resistance', 958: 'respiratory', 959: 'responsive', 960: 'restless', 961: 'restriction', 962: 'reticularis', 963: 'retina', 964: 'retinal', 965: 'retinitis', 966: 'retinoblastoma', 967: 'retinoschisis', 968: 'retraction', 969: 'retroperitoneal', 970: 'rett', 971: 'rheumatoid', 972: 'rhizomelic', 973: 'rickets', 974: 'ring', 975: 'rippling', 976: 'risk', 977: 'risks', 978: 'roberts', 979: 'robin', 980: 'robinow', 981: 'robinson', 982: 'rod', 983: 'rokitansky', 984: 'rothmund', 985: 'rotor', 986: 'rubinstein', 987: 'russell', 988: 's', 989: 'sachs', 990: 'saddan', 991: 'saethre', 992: 'saldino', 993: 'salih', 994: 'salivary', 995: 'sandhoff', 996: 'sarcoma', 997: 'say', 998: 'sayre', 999: 'scheinker', 1000: 'schilders', 1001: 'schimke', 1002: 'schindler', 1003: 'schinzel', 1004: 'schwartz', 1005: 'scleroderma', 1006: 'sclerosing', 1007: 'sclerosis', 1008: 'scoliosis', 1009: 'scott', 1010: 'seizures', 1011: 'sella', 1012: 'semialdehyde', 1013: 'senior', 1014: 'sensitive', 1015: 'sensitivity', 1016: 'sensorineural', 1017: 'sensory', 1018: 'sepiapterin', 1019: 'septo', 1020: 'sequence', 1021: 'severe', 1022: 'sex', 1023: 'sheldon', 1024: 'shingles', 1025: 'short', 1026: 'shprintzen', 1027: 'shwachman', 1028: 'sialic', 1029: 'sialidosis', 1030: 'sialuria', 1031: 'sick', 1032: 'sickle', 1033: 'siderius', 1034: 'sideroblastic', 1035: 'silver', 1036: 'simpson', 1037: 'sinus', 1038: 'sitosterolemia', 1039: 'sjgren', 1040: 'skeletal', 1041: 'skin', 1042: 'slca', 1043: 'small', 1044: 'smell', 1045: 'smith', 1046: 'smoking', 1047: 'snyder', 1048: 'sost', 1049: 'sotos', 1050: 'sox', 1051: 'spasm', 1052: 'spastic', 1053: 'specific', 1054: 'spectrum', 1055: 'spherocytosis', 1056: 'spheroids', 1057: 'spina', 1058: 'spinal', 1059: 'spinocerebellar', 1060: 'spondylocarpotarsal', 1061: 'spondylocostal', 1062: 'spondyloenchondrodysplasia', 1063: 'spondyloepimetaphyseal', 1064: 'spondyloepiphyseal', 1065: 'spondyloperipheral', 1066: 'spondylothoracic', 1067: 'sponge', 1068: 'sporadic', 1069: 'spread', 1070: 'squamous', 1071: 'stages', 1072: 'stargardt', 1073: 'stationary', 1074: 'steatocystoma', 1075: 'stem', 1076: 'stenosis', 1077: 'stevens', 1078: 'stickler', 1079: 'stimulation', 1080: 'sting', 1081: 'storage', 1082: 'stormorken', 1083: 'straussler', 1084: 'stroke', 1085: 'stromal', 1086: 'strudwick', 1087: 'sturge', 1088: 'stve', 1089: 'subacute', 1090: 'subcortical', 1091: 'succinate', 1092: 'succinic', 1093: 'succinyl', 1094: 'sudden', 1095: 'sulfatase', 1096: 'sulfur', 1097: 'superactivity', 1098: 'suppurativa', 1099: 'supravalvular', 1100: 'surfactant', 1101: 'surviving', 1102: 'swallowing', 1103: 'swyer', 1104: 'symptomps', 1105: 'symptoms', 1106: 'syncope', 1107: 'syndrome', 1108: 'syndromes', 1109: 'syngap', 1110: 'synostosis', 1111: 'synthase', 1112: 'synthetase', 1113: 'syrup', 1114: 'system', 1115: 'systemic', 1116: 'systems', 1117: 'szary', 1118: 't', 1119: 'tachycardia', 1120: 'tangier', 1121: 'tarda', 1122: 'tarsal', 1123: 'task', 1124: 'taste', 1125: 'tay', 1126: 'taybi', 1127: 'telangiectasia', 1128: 'teratoid', 1129: 'testes', 1130: 'testicular', 1131: 'tethered', 1132: 'tetra', 1133: 'tetrahydrobiopterin', 1134: 'tetrasomy', 1135: 'thalassemia', 1136: 'thanatophoric', 1137: 'that', 1138: 'the', 1139: 'thiamine', 1140: 'thiopurine', 1141: 'thomson', 1142: 'thoracic', 1143: 'thrombasthenia', 1144: 'thrombocythemia', 1145: 'thrombocytopenia', 1146: 'thrombocytopenic', 1147: 'thrombotic', 1148: 'thymic', 1149: 'thymoma', 1150: 'thyroiditis', 1151: 'thyroxine', 1152: 'tibial', 1153: 'tietz', 1154: 'timothy', 1155: 'tk', 1156: 'to', 1157: 'todds', 1158: 'tooth', 1159: 'torrance', 1160: 'tourette', 1161: 'townes', 1162: 'toxic', 1163: 'tp', 1164: 'tract', 1165: 'transcarbamylase', 1166: 'transferase', 1167: 'transient', 1168: 'transthyretin', 1169: 'transverse', 1170: 'treacher', 1171: 'treatments', 1172: 'tremor', 1173: 'trenaunay', 1174: 'trials', 1175: 'trichoepithelioma', 1176: 'trichohepatoenteric', 1177: 'trichothiodystrophy', 1178: 'trifunctional', 1179: 'trigeminal', 1180: 'trimethylaminuria', 1181: 'triosephosphate', 1182: 'triple', 1183: 'trisomy', 1184: 'trophoblastic', 1185: 'troyer', 1186: 'tuberous', 1187: 'tubular', 1188: 'tumor', 1189: 'tumors', 1190: 'turner', 1191: 'type', 1192: 'tyrosine', 1193: 'tyrosinemia', 1194: 'ulcerative', 1195: 'unverricht', 1196: 'urethral', 1197: 'urinary', 1198: 'urine', 1199: 'uromodulin', 1200: 'usher', 1201: 'uterine', 1202: 'uv', 1203: 'v', 1204: 'vacterl', 1205: 'van', 1206: 'vanishing', 1207: 'variant', 1208: 'vasculitis', 1209: 'vasculopathy', 1210: 'veno', 1211: 'venous', 1212: 'vera', 1213: 'very', 1214: 'vi', 1215: 'vii', 1216: 'virus', 1217: 'vitamin', 1218: 'vitelliform', 1219: 'vitiligo', 1220: 'vldlr', 1221: 'vohwinkel', 1222: 'von', 1223: 'vries', 1224: 'vulvar', 1225: 'waardenburg', 1226: 'wagner', 1227: 'wagr', 1228: 'waldenstrm', 1229: 'walker', 1230: 'wall', 1231: 'warburg', 1232: 'warfarin', 1233: 'warsaw', 1234: 'weaver', 1235: 'weber', 1236: 'weill', 1237: 'weiss', 1238: 'weissenbacher', 1239: 'wells', 1240: 'werner', 1241: 'wernicke', 1242: 'weyers', 1243: 'what', 1244: 'whiplash', 1245: 'white', 1246: 'who', 1247: 'wiedemann', 1248: 'willebrand', 1249: 'williams', 1250: 'wilson', 1251: 'winchester', 1252: 'wiskott', 1253: 'with', 1254: 'wolf', 1255: 'wolff', 1256: 'wolfram', 1257: 'wolman', 1258: 'woolly', 1259: 'woude', 1260: 'x', 1261: 'xanthinuria', 1262: 'xeroderma', 1263: 'xx', 1264: 'xxyy', 1265: 'xyy', 1266: 'y', 1267: 'young', 1268: 'zap', 1269: 'zellweger', 1270: 'zweymller'}\n"
          ],
          "name": "stdout"
        }
      ]
    },
    {
      "cell_type": "code",
      "metadata": {
        "id": "JYVn_1F0stq-"
      },
      "source": [
        "#Shuffle the data\n",
        "lines = shuffle(lines)"
      ],
      "execution_count": 24,
      "outputs": []
    },
    {
      "cell_type": "code",
      "metadata": {
        "id": "brrw0rHvstrA",
        "outputId": "5181bcee-3eb7-4fcc-89a7-e53025daf7e3",
        "colab": {
          "base_uri": "https://localhost:8080/",
          "height": 34
        }
      },
      "source": [
        "# Train - Test Split\n",
        "X, y = lines.source, lines.target\n",
        "X_train, X_test, y_train, y_test = train_test_split(X, y, test_size = 0.3)\n",
        "X_train.shape, X_test.shape"
      ],
      "execution_count": 25,
      "outputs": [
        {
          "output_type": "execute_result",
          "data": {
            "text/plain": [
              "((2828,), (1212,))"
            ]
          },
          "metadata": {
            "tags": []
          },
          "execution_count": 25
        }
      ]
    },
    {
      "cell_type": "code",
      "metadata": {
        "id": "4cnhiPvkstrC"
      },
      "source": [
        "# https://stackoverflow.com/questions/54880279/how-to-handle-invalid-argument-error-in-keras\n",
        "# Input tokens for encoder\n",
        "num_encoder_tokens=len(source_words) +1\n",
        "# Input tokens for decoder zero padded\n",
        "num_decoder_tokens=len(target_words) +1"
      ],
      "execution_count": 26,
      "outputs": []
    },
    {
      "cell_type": "code",
      "metadata": {
        "id": "UgD1d4bIstrE"
      },
      "source": [
        "def generate_batch(X = X_train, y = y_train, batch_size = 25):\n",
        "    ''' Generate a batch of data '''\n",
        "    while True:\n",
        "        for j in range(0, len(X), batch_size):\n",
        "            encoder_input_data = np.zeros((batch_size, max_source_length),dtype='float32')\n",
        "            decoder_input_data = np.zeros((batch_size, max_target_length),dtype='float32')\n",
        "            decoder_target_data = np.zeros((batch_size, max_target_length, num_decoder_tokens),dtype='float32')\n",
        "            for i, (input_text, target_text) in enumerate(zip(X[j:j+batch_size], y[j:j+batch_size])):\n",
        "                for t, word in enumerate(input_text.split()):\n",
        "                        encoder_input_data[i, t] = source_word2idx[word] \n",
        "                for t, word in enumerate(target_text.split()):\n",
        "                    if t<len(target_text.split())-1:\n",
        "                        decoder_input_data[i, t] = target_word2idx[word] # decoder input seq\n",
        "                    if t>0:\n",
        "                        # decoder target sequence (one hot encoded)\n",
        "                        # does not include the START_ token\n",
        "                        # Offset by one timestep\n",
        "                        #print(word)\n",
        "                        decoder_target_data[i, t - 1, target_word2idx[word]] = 1.\n",
        "                    \n",
        "            yield([encoder_input_data, decoder_input_data], decoder_target_data)"
      ],
      "execution_count": 27,
      "outputs": []
    },
    {
      "cell_type": "markdown",
      "metadata": {
        "id": "plLgewa95HwL"
      },
      "source": [
        "Attention model"
      ]
    },
    {
      "cell_type": "code",
      "metadata": {
        "id": "X1NS4eas5MoR"
      },
      "source": [
        "# -*- coding: utf-8 -*-\n",
        "\"\"\"attention.ipynb\n",
        "\n",
        "Automatically generated by Colaboratory.\n",
        "\n",
        "Original file is located at\n",
        "    https://colab.research.google.com/drive/1XrjPL3O_szhahYZW0z9yhCl9qvIcJJYW\n",
        "\"\"\"\n",
        "\n",
        "import tensorflow as tf\n",
        "import os\n",
        "from tensorflow.python.keras.layers import Layer\n",
        "from tensorflow.python.keras import backend as K\n",
        "\n",
        "\n",
        "class AttentionLayer(Layer):\n",
        "    \"\"\"\n",
        "    This class implements Bahdanau attention (https://arxiv.org/pdf/1409.0473.pdf).\n",
        "    There are three sets of weights introduced W_a, U_a, and V_a\n",
        "     \"\"\"\n",
        "\n",
        "    def __init__(self, **kwargs):\n",
        "        super(AttentionLayer, self).__init__(**kwargs)\n",
        "\n",
        "    def build(self, input_shape):\n",
        "        assert isinstance(input_shape, list)\n",
        "        # Create a trainable weight variable for this layer.\n",
        "\n",
        "        self.W_a = self.add_weight(name='W_a',\n",
        "                                   shape=tf.TensorShape((input_shape[0][2], input_shape[0][2])),\n",
        "                                   initializer='uniform',\n",
        "                                   trainable=True)\n",
        "        self.U_a = self.add_weight(name='U_a',\n",
        "                                   shape=tf.TensorShape((input_shape[1][2], input_shape[0][2])),\n",
        "                                   initializer='uniform',\n",
        "                                   trainable=True)\n",
        "        self.V_a = self.add_weight(name='V_a',\n",
        "                                   shape=tf.TensorShape((input_shape[0][2], 1)),\n",
        "                                   initializer='uniform',\n",
        "                                   trainable=True)\n",
        "\n",
        "        super(AttentionLayer, self).build(input_shape)  # Be sure to call this at the end\n",
        "\n",
        "    def call(self, inputs, verbose=False):\n",
        "        \"\"\"\n",
        "        inputs: [encoder_output_sequence, decoder_output_sequence]\n",
        "        \"\"\"\n",
        "        assert type(inputs) == list\n",
        "        encoder_out_seq, decoder_out_seq = inputs\n",
        "        if verbose:\n",
        "            print('encoder_out_seq>', encoder_out_seq.shape)\n",
        "            print('decoder_out_seq>', decoder_out_seq.shape)\n",
        "\n",
        "        def energy_step(inputs, states):\n",
        "            \"\"\" Step function for computing energy for a single decoder state \"\"\"\n",
        "\n",
        "            assert_msg = \"States must be a list. However states {} is of type {}\".format(states, type(states))\n",
        "            assert isinstance(states, list) or isinstance(states, tuple), assert_msg\n",
        "\n",
        "            \"\"\" Some parameters required for shaping tensors\"\"\"\n",
        "            en_seq_len, en_hidden = encoder_out_seq.shape[1], encoder_out_seq.shape[2]\n",
        "            de_hidden = inputs.shape[-1]\n",
        "\n",
        "            \"\"\" Computing S.Wa where S=[s0, s1, ..., si]\"\"\"\n",
        "            # <= batch_size*en_seq_len, latent_dim\n",
        "            reshaped_enc_outputs = K.reshape(encoder_out_seq, (-1, en_hidden))\n",
        "            # <= batch_size*en_seq_len, latent_dim\n",
        "            W_a_dot_s = K.reshape(K.dot(reshaped_enc_outputs, self.W_a), (-1, en_seq_len, en_hidden))\n",
        "            if verbose:\n",
        "                print('wa.s>',W_a_dot_s.shape)\n",
        "\n",
        "            \"\"\" Computing hj.Ua \"\"\"\n",
        "            U_a_dot_h = K.expand_dims(K.dot(inputs, self.U_a), 1)  # <= batch_size, 1, latent_dim\n",
        "            if verbose:\n",
        "                print('Ua.h>',U_a_dot_h.shape)\n",
        "\n",
        "            \"\"\" tanh(S.Wa + hj.Ua) \"\"\"\n",
        "            # <= batch_size*en_seq_len, latent_dim\n",
        "            reshaped_Ws_plus_Uh = K.tanh(K.reshape(W_a_dot_s + U_a_dot_h, (-1, en_hidden)))\n",
        "            if verbose:\n",
        "                print('Ws+Uh>', reshaped_Ws_plus_Uh.shape)\n",
        "\n",
        "            \"\"\" softmax(va.tanh(S.Wa + hj.Ua)) \"\"\"\n",
        "            # <= batch_size, en_seq_len\n",
        "            e_i = K.reshape(K.dot(reshaped_Ws_plus_Uh, self.V_a), (-1, en_seq_len))\n",
        "            # <= batch_size, en_seq_len\n",
        "            e_i = K.softmax(e_i)\n",
        "\n",
        "            if verbose:\n",
        "                print('ei>', e_i.shape)\n",
        "\n",
        "            return e_i, [e_i]\n",
        "\n",
        "        def context_step(inputs, states):\n",
        "            \"\"\" Step function for computing ci using ei \"\"\"\n",
        "            # <= batch_size, hidden_size\n",
        "            c_i = K.sum(encoder_out_seq * K.expand_dims(inputs, -1), axis=1)\n",
        "            if verbose:\n",
        "                print('ci>', c_i.shape)\n",
        "            return c_i, [c_i]\n",
        "\n",
        "        def create_inital_state(inputs, hidden_size):\n",
        "            # We are not using initial states, but need to pass something to K.rnn funciton\n",
        "            fake_state = K.zeros_like(inputs)  # <= (batch_size, enc_seq_len, latent_dim\n",
        "            fake_state = K.sum(fake_state, axis=[1, 2])  # <= (batch_size)\n",
        "            fake_state = K.expand_dims(fake_state)  # <= (batch_size, 1)\n",
        "            fake_state = K.tile(fake_state, [1, hidden_size])  # <= (batch_size, latent_dim\n",
        "            return fake_state\n",
        "\n",
        "        fake_state_c = create_inital_state(encoder_out_seq, encoder_out_seq.shape[-1])\n",
        "        fake_state_e = create_inital_state(encoder_out_seq, encoder_out_seq.shape[1])  # <= (batch_size, enc_seq_len, latent_dim\n",
        "\n",
        "        \"\"\" Computing energy outputs \"\"\"\n",
        "        # e_outputs => (batch_size, de_seq_len, en_seq_len)\n",
        "        last_out, e_outputs, _ = K.rnn(\n",
        "            energy_step, decoder_out_seq, [fake_state_e],\n",
        "        )\n",
        "\n",
        "        \"\"\" Computing context vectors \"\"\"\n",
        "        last_out, c_outputs, _ = K.rnn(\n",
        "            context_step, e_outputs, [fake_state_c],\n",
        "        )\n",
        "\n",
        "        return c_outputs, e_outputs\n",
        "\n",
        "    def compute_output_shape(self, input_shape):\n",
        "        \"\"\" Outputs produced by the layer \"\"\"\n",
        "        return [\n",
        "            tf.TensorShape((input_shape[1][0], input_shape[1][1], input_shape[1][2])),\n",
        "            tf.TensorShape((input_shape[1][0], input_shape[1][1], input_shape[0][1]))\n",
        "        ]\n"
      ],
      "execution_count": 28,
      "outputs": []
    },
    {
      "cell_type": "code",
      "metadata": {
        "id": "H209mGO_strG"
      },
      "source": [
        "train_samples = len(X_train) # Total Training samples\n",
        "val_samples = len(X_test)    # Total validation or test samples\n",
        "batch_size = 25\n",
        "epochs = 150\n",
        "latent_dim=256"
      ],
      "execution_count": 29,
      "outputs": []
    },
    {
      "cell_type": "markdown",
      "metadata": {
        "id": "ygXzXqQb5oYz"
      },
      "source": [
        "Encoder Decoder Model"
      ]
    },
    {
      "cell_type": "code",
      "metadata": {
        "id": "lB8kxrkb5nSs"
      },
      "source": [
        "\n",
        "# Encoder \n",
        "encoder_inputs = Input(shape=(max_source_length,)) \n",
        "enc_emb = Embedding(num_encoder_tokens, latent_dim,trainable=True)(encoder_inputs) \n",
        "\n",
        "#LSTM 1 \n",
        "encoder_lstm1 = LSTM(latent_dim,return_sequences=True,return_state=True) \n",
        "encoder_output1, state_h1, state_c1 = encoder_lstm1(enc_emb) \n",
        "\n",
        "#LSTM 2 \n",
        "encoder_lstm2 = LSTM(latent_dim,return_sequences=True,return_state=True) \n",
        "encoder_output2, state_h2, state_c2 = encoder_lstm2(encoder_output1) \n",
        "\n",
        "#LSTM 3 \n",
        "encoder_lstm3=LSTM(latent_dim, return_state=True, return_sequences=True) \n",
        "encoder_outputs, state_h, state_c= encoder_lstm3(encoder_output2) \n",
        "\n",
        "# Set up the decoder. \n",
        "decoder_inputs = Input(shape=(None,)) \n",
        "dec_emb_layer = Embedding(num_decoder_tokens, latent_dim,trainable=True) \n",
        "dec_emb = dec_emb_layer(decoder_inputs) \n",
        "\n",
        "#LSTM using encoder_states as initial state\n",
        "decoder_lstm = LSTM(latent_dim, return_sequences=True, return_state=True) \n",
        "decoder_outputs,decoder_fwd_state, decoder_back_state = decoder_lstm(dec_emb,initial_state=[state_h, state_c]) \n",
        "\n",
        "#Attention Layer\n",
        "attn_layer = AttentionLayer(name='attention_layer') \n",
        "attn_out, attn_states = attn_layer([encoder_outputs, decoder_outputs]) \n",
        "\n",
        "# Concat attention output and decoder LSTM output \n",
        "decoder_concat_input = Concatenate(axis=-1, name='concat_layer')([decoder_outputs, attn_out])\n",
        "\n",
        "#Dense layer\n",
        "decoder_dense = TimeDistributed(Dense(num_decoder_tokens, activation='softmax')) \n",
        "decoder_outputs = decoder_dense(decoder_concat_input) \n",
        "\n",
        "# Define the model\n",
        "model = Model([encoder_inputs, decoder_inputs], decoder_outputs) \n"
      ],
      "execution_count": 30,
      "outputs": []
    },
    {
      "cell_type": "code",
      "metadata": {
        "id": "rYCB1VRNstrN",
        "outputId": "5a1b7fbb-cf30-4db5-e57a-678cf3185a72",
        "colab": {
          "base_uri": "https://localhost:8080/",
          "height": 606
        }
      },
      "source": [
        "model.compile(optimizer='rmsprop', loss='categorical_crossentropy', metrics=['acc', tf.keras.metrics.Precision(), tf.keras.metrics.Recall()])\n",
        "model.summary()"
      ],
      "execution_count": 31,
      "outputs": [
        {
          "output_type": "stream",
          "text": [
            "Model: \"functional_1\"\n",
            "__________________________________________________________________________________________________\n",
            "Layer (type)                    Output Shape         Param #     Connected to                     \n",
            "==================================================================================================\n",
            "input_1 (InputLayer)            [(None, 19)]         0                                            \n",
            "__________________________________________________________________________________________________\n",
            "embedding (Embedding)           (None, 19, 256)      325376      input_1[0][0]                    \n",
            "__________________________________________________________________________________________________\n",
            "lstm (LSTM)                     [(None, 19, 256), (N 525312      embedding[0][0]                  \n",
            "__________________________________________________________________________________________________\n",
            "input_2 (InputLayer)            [(None, None)]       0                                            \n",
            "__________________________________________________________________________________________________\n",
            "lstm_1 (LSTM)                   [(None, 19, 256), (N 525312      lstm[0][0]                       \n",
            "__________________________________________________________________________________________________\n",
            "embedding_1 (Embedding)         (None, None, 256)    930816      input_2[0][0]                    \n",
            "__________________________________________________________________________________________________\n",
            "lstm_2 (LSTM)                   [(None, 19, 256), (N 525312      lstm_1[0][0]                     \n",
            "__________________________________________________________________________________________________\n",
            "lstm_3 (LSTM)                   [(None, None, 256),  525312      embedding_1[0][0]                \n",
            "                                                                 lstm_2[0][1]                     \n",
            "                                                                 lstm_2[0][2]                     \n",
            "__________________________________________________________________________________________________\n",
            "attention_layer (AttentionLayer ((None, None, 256),  131328      lstm_2[0][0]                     \n",
            "                                                                 lstm_3[0][0]                     \n",
            "__________________________________________________________________________________________________\n",
            "concat_layer (Concatenate)      (None, None, 512)    0           lstm_3[0][0]                     \n",
            "                                                                 attention_layer[0][0]            \n",
            "__________________________________________________________________________________________________\n",
            "time_distributed (TimeDistribut (None, None, 3636)   1865268     concat_layer[0][0]               \n",
            "==================================================================================================\n",
            "Total params: 5,354,036\n",
            "Trainable params: 5,354,036\n",
            "Non-trainable params: 0\n",
            "__________________________________________________________________________________________________\n"
          ],
          "name": "stdout"
        }
      ]
    },
    {
      "cell_type": "code",
      "metadata": {
        "id": "largXnmjstrR",
        "outputId": "8c8c491e-ac0d-45c9-b6da-2d40977eeab1",
        "colab": {
          "base_uri": "https://localhost:8080/",
          "height": 1000
        }
      },
      "source": [
        "model.fit_generator(generator = generate_batch(X_train, y_train, batch_size = batch_size),\n",
        "                    steps_per_epoch = train_samples//batch_size,\n",
        "                    validation_data = generate_batch(X_test, y_test, batch_size = batch_size),\n",
        "                    validation_steps = val_samples//batch_size, epochs=epochs)"
      ],
      "execution_count": 32,
      "outputs": [
        {
          "output_type": "stream",
          "text": [
            "WARNING:tensorflow:From <ipython-input-32-fccd5a3bacdf>:4: Model.fit_generator (from tensorflow.python.keras.engine.training) is deprecated and will be removed in a future version.\n",
            "Instructions for updating:\n",
            "Please use Model.fit, which supports generators.\n",
            "Epoch 1/150\n",
            "113/113 [==============================] - 12s 104ms/step - loss: 1.9712 - acc: 0.0703 - precision: 0.0429 - recall: 0.0158 - val_loss: 1.6742 - val_acc: 0.1059 - val_precision: 0.0663 - val_recall: 0.1002\n",
            "Epoch 2/150\n",
            "113/113 [==============================] - 10s 91ms/step - loss: 1.4803 - acc: 0.1402 - precision: 0.1915 - recall: 0.2058 - val_loss: 1.4086 - val_acc: 0.1602 - val_precision: 0.2678 - val_recall: 0.2661\n",
            "Epoch 3/150\n",
            "113/113 [==============================] - 10s 91ms/step - loss: 1.2708 - acc: 0.1701 - precision: 0.2273 - recall: 0.3022 - val_loss: 1.3205 - val_acc: 0.1717 - val_precision: 0.2113 - val_recall: 0.3254\n",
            "Epoch 4/150\n",
            "113/113 [==============================] - 10s 90ms/step - loss: 1.1508 - acc: 0.1835 - precision: 0.2202 - recall: 0.3515 - val_loss: 1.2491 - val_acc: 0.1840 - val_precision: 0.1893 - val_recall: 0.3410\n",
            "Epoch 5/150\n",
            "113/113 [==============================] - 10s 89ms/step - loss: 1.0585 - acc: 0.1933 - precision: 0.2275 - recall: 0.3836 - val_loss: 1.2221 - val_acc: 0.1883 - val_precision: 0.2126 - val_recall: 0.3715\n",
            "Epoch 6/150\n",
            "113/113 [==============================] - 10s 90ms/step - loss: 0.9863 - acc: 0.1999 - precision: 0.2571 - recall: 0.4078 - val_loss: 1.2022 - val_acc: 0.1912 - val_precision: 0.2320 - val_recall: 0.3805\n",
            "Epoch 7/150\n",
            "113/113 [==============================] - 10s 89ms/step - loss: 0.9227 - acc: 0.2064 - precision: 0.2699 - recall: 0.4276 - val_loss: 1.1805 - val_acc: 0.1957 - val_precision: 0.2254 - val_recall: 0.4005\n",
            "Epoch 8/150\n",
            "113/113 [==============================] - 10s 89ms/step - loss: 0.8620 - acc: 0.2126 - precision: 0.2685 - recall: 0.4451 - val_loss: 1.1761 - val_acc: 0.1967 - val_precision: 0.2307 - val_recall: 0.4152\n",
            "Epoch 9/150\n",
            "113/113 [==============================] - 10s 88ms/step - loss: 0.8115 - acc: 0.2180 - precision: 0.2710 - recall: 0.4585 - val_loss: 1.1685 - val_acc: 0.1985 - val_precision: 0.2216 - val_recall: 0.4194\n",
            "Epoch 10/150\n",
            "113/113 [==============================] - 10s 89ms/step - loss: 0.7658 - acc: 0.2237 - precision: 0.2642 - recall: 0.4736 - val_loss: 1.1601 - val_acc: 0.2003 - val_precision: 0.2251 - val_recall: 0.4371\n",
            "Epoch 11/150\n",
            "113/113 [==============================] - 10s 90ms/step - loss: 0.7218 - acc: 0.2293 - precision: 0.2722 - recall: 0.4852 - val_loss: 1.1603 - val_acc: 0.2012 - val_precision: 0.2193 - val_recall: 0.4338\n",
            "Epoch 12/150\n",
            "113/113 [==============================] - 10s 90ms/step - loss: 0.6861 - acc: 0.2347 - precision: 0.2699 - recall: 0.4965 - val_loss: 1.1590 - val_acc: 0.2011 - val_precision: 0.2349 - val_recall: 0.4374\n",
            "Epoch 13/150\n",
            "113/113 [==============================] - 10s 87ms/step - loss: 0.6502 - acc: 0.2399 - precision: 0.2721 - recall: 0.5100 - val_loss: 1.1621 - val_acc: 0.2035 - val_precision: 0.2223 - val_recall: 0.4498\n",
            "Epoch 14/150\n",
            "113/113 [==============================] - 10s 87ms/step - loss: 0.6148 - acc: 0.2456 - precision: 0.2769 - recall: 0.5228 - val_loss: 1.1665 - val_acc: 0.2019 - val_precision: 0.2353 - val_recall: 0.4475\n",
            "Epoch 15/150\n",
            "113/113 [==============================] - 10s 87ms/step - loss: 0.5865 - acc: 0.2516 - precision: 0.2878 - recall: 0.5349 - val_loss: 1.1641 - val_acc: 0.2020 - val_precision: 0.2777 - val_recall: 0.4411\n",
            "Epoch 16/150\n",
            "113/113 [==============================] - 10s 88ms/step - loss: 0.5533 - acc: 0.2573 - precision: 0.2968 - recall: 0.5470 - val_loss: 1.1616 - val_acc: 0.2044 - val_precision: 0.2606 - val_recall: 0.4574\n",
            "Epoch 17/150\n",
            "113/113 [==============================] - 10s 88ms/step - loss: 0.5261 - acc: 0.2628 - precision: 0.2947 - recall: 0.5567 - val_loss: 1.1624 - val_acc: 0.2037 - val_precision: 0.2332 - val_recall: 0.4589\n",
            "Epoch 18/150\n",
            "113/113 [==============================] - 10s 88ms/step - loss: 0.4977 - acc: 0.2689 - precision: 0.2931 - recall: 0.5681 - val_loss: 1.1588 - val_acc: 0.2041 - val_precision: 0.2427 - val_recall: 0.4581\n",
            "Epoch 19/150\n",
            "113/113 [==============================] - 10s 90ms/step - loss: 0.4667 - acc: 0.2750 - precision: 0.3030 - recall: 0.5810 - val_loss: 1.1714 - val_acc: 0.2024 - val_precision: 0.2404 - val_recall: 0.4614\n",
            "Epoch 20/150\n",
            "113/113 [==============================] - 10s 88ms/step - loss: 0.4350 - acc: 0.2824 - precision: 0.3040 - recall: 0.5979 - val_loss: 1.1762 - val_acc: 0.2035 - val_precision: 0.2597 - val_recall: 0.4656\n",
            "Epoch 21/150\n",
            "113/113 [==============================] - 10s 90ms/step - loss: 0.4084 - acc: 0.2886 - precision: 0.3050 - recall: 0.6101 - val_loss: 1.1792 - val_acc: 0.2041 - val_precision: 0.2264 - val_recall: 0.4716\n",
            "Epoch 22/150\n",
            "113/113 [==============================] - 11s 94ms/step - loss: 0.3826 - acc: 0.2945 - precision: 0.2997 - recall: 0.6248 - val_loss: 1.1847 - val_acc: 0.2039 - val_precision: 0.2290 - val_recall: 0.4688\n",
            "Epoch 23/150\n",
            "113/113 [==============================] - 10s 89ms/step - loss: 0.3601 - acc: 0.2996 - precision: 0.3161 - recall: 0.6396 - val_loss: 1.1973 - val_acc: 0.2030 - val_precision: 0.2256 - val_recall: 0.4669\n",
            "Epoch 24/150\n",
            "113/113 [==============================] - 10s 87ms/step - loss: 0.3356 - acc: 0.3047 - precision: 0.3053 - recall: 0.6576 - val_loss: 1.2021 - val_acc: 0.2032 - val_precision: 0.2184 - val_recall: 0.4685\n",
            "Epoch 25/150\n",
            "113/113 [==============================] - 10s 87ms/step - loss: 0.3214 - acc: 0.3100 - precision: 0.3018 - recall: 0.6712 - val_loss: 1.1981 - val_acc: 0.2032 - val_precision: 0.2238 - val_recall: 0.4691\n",
            "Epoch 26/150\n",
            "113/113 [==============================] - 10s 87ms/step - loss: 0.2991 - acc: 0.3143 - precision: 0.3097 - recall: 0.6926 - val_loss: 1.2057 - val_acc: 0.2006 - val_precision: 0.2286 - val_recall: 0.4631\n",
            "Epoch 27/150\n",
            "113/113 [==============================] - 10s 88ms/step - loss: 0.2858 - acc: 0.3168 - precision: 0.3110 - recall: 0.7076 - val_loss: 1.2070 - val_acc: 0.2010 - val_precision: 0.2275 - val_recall: 0.4700\n",
            "Epoch 28/150\n",
            "113/113 [==============================] - 10s 88ms/step - loss: 0.2716 - acc: 0.3205 - precision: 0.3193 - recall: 0.7234 - val_loss: 1.2180 - val_acc: 0.2010 - val_precision: 0.2239 - val_recall: 0.4648\n",
            "Epoch 29/150\n",
            "113/113 [==============================] - 10s 87ms/step - loss: 0.2584 - acc: 0.3224 - precision: 0.3233 - recall: 0.7373 - val_loss: 1.2153 - val_acc: 0.2002 - val_precision: 0.2266 - val_recall: 0.4608\n",
            "Epoch 30/150\n",
            "113/113 [==============================] - 10s 87ms/step - loss: 0.2428 - acc: 0.3260 - precision: 0.3267 - recall: 0.7541 - val_loss: 1.2242 - val_acc: 0.1989 - val_precision: 0.2249 - val_recall: 0.4656\n",
            "Epoch 31/150\n",
            "113/113 [==============================] - 10s 87ms/step - loss: 0.2371 - acc: 0.3273 - precision: 0.3282 - recall: 0.7635 - val_loss: 1.2322 - val_acc: 0.2004 - val_precision: 0.2209 - val_recall: 0.4712\n",
            "Epoch 32/150\n",
            "113/113 [==============================] - 10s 87ms/step - loss: 0.2282 - acc: 0.3290 - precision: 0.3301 - recall: 0.7737 - val_loss: 1.2380 - val_acc: 0.2003 - val_precision: 0.2226 - val_recall: 0.4734\n",
            "Epoch 33/150\n",
            "113/113 [==============================] - 10s 86ms/step - loss: 0.2153 - acc: 0.3322 - precision: 0.3352 - recall: 0.7921 - val_loss: 1.2364 - val_acc: 0.1994 - val_precision: 0.2293 - val_recall: 0.4692\n",
            "Epoch 34/150\n",
            "113/113 [==============================] - 10s 87ms/step - loss: 0.2044 - acc: 0.3342 - precision: 0.3428 - recall: 0.8044 - val_loss: 1.2577 - val_acc: 0.2012 - val_precision: 0.2271 - val_recall: 0.4770\n",
            "Epoch 35/150\n",
            "113/113 [==============================] - 10s 88ms/step - loss: 0.1917 - acc: 0.3367 - precision: 0.3440 - recall: 0.8187 - val_loss: 1.2638 - val_acc: 0.1998 - val_precision: 0.2224 - val_recall: 0.4731\n",
            "Epoch 36/150\n",
            "113/113 [==============================] - 10s 88ms/step - loss: 0.1843 - acc: 0.3383 - precision: 0.3446 - recall: 0.8277 - val_loss: 1.2719 - val_acc: 0.2024 - val_precision: 0.2242 - val_recall: 0.4885\n",
            "Epoch 37/150\n",
            "113/113 [==============================] - 10s 88ms/step - loss: 0.1776 - acc: 0.3396 - precision: 0.3502 - recall: 0.8364 - val_loss: 1.2747 - val_acc: 0.2026 - val_precision: 0.2244 - val_recall: 0.4905\n",
            "Epoch 38/150\n",
            "113/113 [==============================] - 10s 87ms/step - loss: 0.1667 - acc: 0.3415 - precision: 0.3517 - recall: 0.8461 - val_loss: 1.2782 - val_acc: 0.2020 - val_precision: 0.2263 - val_recall: 0.4910\n",
            "Epoch 39/150\n",
            "113/113 [==============================] - 10s 86ms/step - loss: 0.1645 - acc: 0.3417 - precision: 0.3644 - recall: 0.8492 - val_loss: 1.2782 - val_acc: 0.2013 - val_precision: 0.2346 - val_recall: 0.4847\n",
            "Epoch 40/150\n",
            "113/113 [==============================] - 10s 87ms/step - loss: 0.1567 - acc: 0.3436 - precision: 0.3574 - recall: 0.8593 - val_loss: 1.2945 - val_acc: 0.2013 - val_precision: 0.2414 - val_recall: 0.4920\n",
            "Epoch 41/150\n",
            "113/113 [==============================] - 10s 88ms/step - loss: 0.1486 - acc: 0.3453 - precision: 0.3689 - recall: 0.8679 - val_loss: 1.2945 - val_acc: 0.2008 - val_precision: 0.2275 - val_recall: 0.4893\n",
            "Epoch 42/150\n",
            "113/113 [==============================] - 10s 87ms/step - loss: 0.1409 - acc: 0.3465 - precision: 0.3655 - recall: 0.8763 - val_loss: 1.3055 - val_acc: 0.2015 - val_precision: 0.2434 - val_recall: 0.4897\n",
            "Epoch 43/150\n",
            "113/113 [==============================] - 10s 89ms/step - loss: 0.1306 - acc: 0.3485 - precision: 0.3718 - recall: 0.8860 - val_loss: 1.3146 - val_acc: 0.2001 - val_precision: 0.2327 - val_recall: 0.4878\n",
            "Epoch 44/150\n",
            "113/113 [==============================] - 10s 86ms/step - loss: 0.1251 - acc: 0.3494 - precision: 0.3692 - recall: 0.8901 - val_loss: 1.3206 - val_acc: 0.1992 - val_precision: 0.2408 - val_recall: 0.4912\n",
            "Epoch 45/150\n",
            "113/113 [==============================] - 10s 87ms/step - loss: 0.1204 - acc: 0.3504 - precision: 0.3776 - recall: 0.8946 - val_loss: 1.3300 - val_acc: 0.1999 - val_precision: 0.2224 - val_recall: 0.4938\n",
            "Epoch 46/150\n",
            "113/113 [==============================] - 10s 86ms/step - loss: 0.1128 - acc: 0.3512 - precision: 0.3695 - recall: 0.9011 - val_loss: 1.3295 - val_acc: 0.1987 - val_precision: 0.2255 - val_recall: 0.4871\n",
            "Epoch 47/150\n",
            "113/113 [==============================] - 10s 87ms/step - loss: 0.1072 - acc: 0.3517 - precision: 0.3829 - recall: 0.9049 - val_loss: 1.3414 - val_acc: 0.1996 - val_precision: 0.2414 - val_recall: 0.4947\n",
            "Epoch 48/150\n",
            "113/113 [==============================] - 10s 87ms/step - loss: 0.1025 - acc: 0.3538 - precision: 0.3896 - recall: 0.9090 - val_loss: 1.3400 - val_acc: 0.2016 - val_precision: 0.2288 - val_recall: 0.4965\n",
            "Epoch 49/150\n",
            "113/113 [==============================] - 10s 87ms/step - loss: 0.0974 - acc: 0.3544 - precision: 0.3792 - recall: 0.9138 - val_loss: 1.3523 - val_acc: 0.2002 - val_precision: 0.2280 - val_recall: 0.4975\n",
            "Epoch 50/150\n",
            "113/113 [==============================] - 10s 87ms/step - loss: 0.0914 - acc: 0.3560 - precision: 0.3824 - recall: 0.9178 - val_loss: 1.3605 - val_acc: 0.2006 - val_precision: 0.2278 - val_recall: 0.4970\n",
            "Epoch 51/150\n",
            "113/113 [==============================] - 10s 87ms/step - loss: 0.0879 - acc: 0.3563 - precision: 0.3832 - recall: 0.9201 - val_loss: 1.3602 - val_acc: 0.1991 - val_precision: 0.2288 - val_recall: 0.4950\n",
            "Epoch 52/150\n",
            "113/113 [==============================] - 10s 88ms/step - loss: 0.0844 - acc: 0.3570 - precision: 0.3814 - recall: 0.9233 - val_loss: 1.3623 - val_acc: 0.1980 - val_precision: 0.2332 - val_recall: 0.4957\n",
            "Epoch 53/150\n",
            "113/113 [==============================] - 10s 88ms/step - loss: 0.0797 - acc: 0.3578 - precision: 0.3884 - recall: 0.9271 - val_loss: 1.3854 - val_acc: 0.1996 - val_precision: 0.2287 - val_recall: 0.4989\n",
            "Epoch 54/150\n",
            "113/113 [==============================] - 10s 87ms/step - loss: 0.0751 - acc: 0.3588 - precision: 0.3890 - recall: 0.9300 - val_loss: 1.3867 - val_acc: 0.2000 - val_precision: 0.2267 - val_recall: 0.4976\n",
            "Epoch 55/150\n",
            "113/113 [==============================] - 10s 88ms/step - loss: 0.0721 - acc: 0.3597 - precision: 0.3888 - recall: 0.9335 - val_loss: 1.3951 - val_acc: 0.1998 - val_precision: 0.2229 - val_recall: 0.4982\n",
            "Epoch 56/150\n",
            "113/113 [==============================] - 10s 87ms/step - loss: 0.0675 - acc: 0.3608 - precision: 0.3876 - recall: 0.9361 - val_loss: 1.4023 - val_acc: 0.1995 - val_precision: 0.2271 - val_recall: 0.4989\n",
            "Epoch 57/150\n",
            "113/113 [==============================] - 10s 87ms/step - loss: 0.0643 - acc: 0.3619 - precision: 0.3877 - recall: 0.9384 - val_loss: 1.4077 - val_acc: 0.1988 - val_precision: 0.2276 - val_recall: 0.4985\n",
            "Epoch 58/150\n",
            "113/113 [==============================] - 10s 87ms/step - loss: 0.0606 - acc: 0.3620 - precision: 0.3878 - recall: 0.9403 - val_loss: 1.4116 - val_acc: 0.1984 - val_precision: 0.2253 - val_recall: 0.4977\n",
            "Epoch 59/150\n",
            "113/113 [==============================] - 10s 88ms/step - loss: 0.0597 - acc: 0.3616 - precision: 0.3823 - recall: 0.9411 - val_loss: 1.4251 - val_acc: 0.1975 - val_precision: 0.2218 - val_recall: 0.4973\n",
            "Epoch 60/150\n",
            "113/113 [==============================] - 10s 87ms/step - loss: 0.0566 - acc: 0.3635 - precision: 0.3845 - recall: 0.9442 - val_loss: 1.4218 - val_acc: 0.1993 - val_precision: 0.2241 - val_recall: 0.5020\n",
            "Epoch 61/150\n",
            "113/113 [==============================] - 10s 88ms/step - loss: 0.0543 - acc: 0.3636 - precision: 0.3857 - recall: 0.9454 - val_loss: 1.4414 - val_acc: 0.1990 - val_precision: 0.2289 - val_recall: 0.5022\n",
            "Epoch 62/150\n",
            "113/113 [==============================] - 10s 87ms/step - loss: 0.0538 - acc: 0.3637 - precision: 0.3922 - recall: 0.9455 - val_loss: 1.4269 - val_acc: 0.1998 - val_precision: 0.2356 - val_recall: 0.5050\n",
            "Epoch 63/150\n",
            "113/113 [==============================] - 10s 88ms/step - loss: 0.0516 - acc: 0.3646 - precision: 0.3977 - recall: 0.9473 - val_loss: 1.4430 - val_acc: 0.1981 - val_precision: 0.2266 - val_recall: 0.5021\n",
            "Epoch 64/150\n",
            "113/113 [==============================] - 10s 89ms/step - loss: 0.0515 - acc: 0.3645 - precision: 0.3918 - recall: 0.9480 - val_loss: 1.4510 - val_acc: 0.1993 - val_precision: 0.2374 - val_recall: 0.5063\n",
            "Epoch 65/150\n",
            "113/113 [==============================] - 10s 88ms/step - loss: 0.0512 - acc: 0.3642 - precision: 0.3919 - recall: 0.9476 - val_loss: 1.4464 - val_acc: 0.1990 - val_precision: 0.2295 - val_recall: 0.5027\n",
            "Epoch 66/150\n",
            "113/113 [==============================] - 10s 87ms/step - loss: 0.0530 - acc: 0.3638 - precision: 0.3952 - recall: 0.9462 - val_loss: 1.4557 - val_acc: 0.1992 - val_precision: 0.2314 - val_recall: 0.5043\n",
            "Epoch 67/150\n",
            "113/113 [==============================] - 10s 87ms/step - loss: 0.0502 - acc: 0.3645 - precision: 0.3932 - recall: 0.9483 - val_loss: 1.4598 - val_acc: 0.1979 - val_precision: 0.2324 - val_recall: 0.5024\n",
            "Epoch 68/150\n",
            "113/113 [==============================] - 10s 88ms/step - loss: 0.0496 - acc: 0.3647 - precision: 0.3916 - recall: 0.9486 - val_loss: 1.4583 - val_acc: 0.1978 - val_precision: 0.2262 - val_recall: 0.4975\n",
            "Epoch 69/150\n",
            "113/113 [==============================] - 10s 88ms/step - loss: 0.0487 - acc: 0.3646 - precision: 0.3890 - recall: 0.9503 - val_loss: 1.4706 - val_acc: 0.1989 - val_precision: 0.2351 - val_recall: 0.5055\n",
            "Epoch 70/150\n",
            "113/113 [==============================] - 10s 88ms/step - loss: 0.0489 - acc: 0.3648 - precision: 0.3961 - recall: 0.9502 - val_loss: 1.4627 - val_acc: 0.1997 - val_precision: 0.2366 - val_recall: 0.5061\n",
            "Epoch 71/150\n",
            "113/113 [==============================] - 10s 88ms/step - loss: 0.0468 - acc: 0.3651 - precision: 0.3913 - recall: 0.9508 - val_loss: 1.4576 - val_acc: 0.1993 - val_precision: 0.2272 - val_recall: 0.5054\n",
            "Epoch 72/150\n",
            "113/113 [==============================] - 10s 88ms/step - loss: 0.0443 - acc: 0.3655 - precision: 0.3946 - recall: 0.9532 - val_loss: 1.4711 - val_acc: 0.1979 - val_precision: 0.2300 - val_recall: 0.5025\n",
            "Epoch 73/150\n",
            "113/113 [==============================] - 10s 88ms/step - loss: 0.0424 - acc: 0.3669 - precision: 0.3951 - recall: 0.9561 - val_loss: 1.4664 - val_acc: 0.1989 - val_precision: 0.2304 - val_recall: 0.5053\n",
            "Epoch 74/150\n",
            "113/113 [==============================] - 10s 90ms/step - loss: 0.0420 - acc: 0.3663 - precision: 0.3995 - recall: 0.9559 - val_loss: 1.4741 - val_acc: 0.1991 - val_precision: 0.2368 - val_recall: 0.5065\n",
            "Epoch 75/150\n",
            "113/113 [==============================] - 10s 89ms/step - loss: 0.0399 - acc: 0.3671 - precision: 0.4001 - recall: 0.9586 - val_loss: 1.4758 - val_acc: 0.1989 - val_precision: 0.2392 - val_recall: 0.5053\n",
            "Epoch 76/150\n",
            "113/113 [==============================] - 10s 89ms/step - loss: 0.0374 - acc: 0.3676 - precision: 0.4035 - recall: 0.9606 - val_loss: 1.4933 - val_acc: 0.1999 - val_precision: 0.2395 - val_recall: 0.5093\n",
            "Epoch 77/150\n",
            "113/113 [==============================] - 10s 88ms/step - loss: 0.0352 - acc: 0.3688 - precision: 0.4008 - recall: 0.9626 - val_loss: 1.4798 - val_acc: 0.2002 - val_precision: 0.2324 - val_recall: 0.5088\n",
            "Epoch 78/150\n",
            "113/113 [==============================] - 10s 88ms/step - loss: 0.0346 - acc: 0.3683 - precision: 0.3992 - recall: 0.9647 - val_loss: 1.4932 - val_acc: 0.2006 - val_precision: 0.2339 - val_recall: 0.5113\n",
            "Epoch 79/150\n",
            "113/113 [==============================] - 10s 89ms/step - loss: 0.0308 - acc: 0.3698 - precision: 0.3949 - recall: 0.9676 - val_loss: 1.5107 - val_acc: 0.1979 - val_precision: 0.2320 - val_recall: 0.5032\n",
            "Epoch 80/150\n",
            "113/113 [==============================] - 10s 89ms/step - loss: 0.0281 - acc: 0.3702 - precision: 0.4023 - recall: 0.9711 - val_loss: 1.5160 - val_acc: 0.1985 - val_precision: 0.2369 - val_recall: 0.5043\n",
            "Epoch 81/150\n",
            "113/113 [==============================] - 10s 87ms/step - loss: 0.0276 - acc: 0.3708 - precision: 0.4023 - recall: 0.9718 - val_loss: 1.5341 - val_acc: 0.1990 - val_precision: 0.2311 - val_recall: 0.5087\n",
            "Epoch 82/150\n",
            "113/113 [==============================] - 10s 87ms/step - loss: 0.0272 - acc: 0.3707 - precision: 0.4018 - recall: 0.9724 - val_loss: 1.5314 - val_acc: 0.1989 - val_precision: 0.2315 - val_recall: 0.5077\n",
            "Epoch 83/150\n",
            "113/113 [==============================] - 10s 89ms/step - loss: 0.0270 - acc: 0.3713 - precision: 0.4045 - recall: 0.9724 - val_loss: 1.5355 - val_acc: 0.1977 - val_precision: 0.2333 - val_recall: 0.5070\n",
            "Epoch 84/150\n",
            "113/113 [==============================] - 10s 88ms/step - loss: 0.0236 - acc: 0.3716 - precision: 0.4076 - recall: 0.9765 - val_loss: 1.5431 - val_acc: 0.1968 - val_precision: 0.2332 - val_recall: 0.5028\n",
            "Epoch 85/150\n",
            "113/113 [==============================] - 10s 88ms/step - loss: 0.0233 - acc: 0.3716 - precision: 0.4137 - recall: 0.9769 - val_loss: 1.5421 - val_acc: 0.1977 - val_precision: 0.2346 - val_recall: 0.5075\n",
            "Epoch 86/150\n",
            "113/113 [==============================] - 10s 88ms/step - loss: 0.0212 - acc: 0.3721 - precision: 0.4083 - recall: 0.9799 - val_loss: 1.5489 - val_acc: 0.1973 - val_precision: 0.2318 - val_recall: 0.5043\n",
            "Epoch 87/150\n",
            "113/113 [==============================] - 10s 88ms/step - loss: 0.0204 - acc: 0.3725 - precision: 0.4059 - recall: 0.9807 - val_loss: 1.5531 - val_acc: 0.1975 - val_precision: 0.2386 - val_recall: 0.5079\n",
            "Epoch 88/150\n",
            "113/113 [==============================] - 10s 89ms/step - loss: 0.0204 - acc: 0.3727 - precision: 0.4094 - recall: 0.9823 - val_loss: 1.5587 - val_acc: 0.1980 - val_precision: 0.2368 - val_recall: 0.5084\n",
            "Epoch 89/150\n",
            "113/113 [==============================] - 10s 87ms/step - loss: 0.0201 - acc: 0.3723 - precision: 0.4150 - recall: 0.9814 - val_loss: 1.5559 - val_acc: 0.1983 - val_precision: 0.2381 - val_recall: 0.5109\n",
            "Epoch 90/150\n",
            "113/113 [==============================] - 10s 88ms/step - loss: 0.0180 - acc: 0.3731 - precision: 0.4111 - recall: 0.9840 - val_loss: 1.5631 - val_acc: 0.1990 - val_precision: 0.2291 - val_recall: 0.5100\n",
            "Epoch 91/150\n",
            "113/113 [==============================] - 10s 89ms/step - loss: 0.0186 - acc: 0.3731 - precision: 0.4126 - recall: 0.9833 - val_loss: 1.5606 - val_acc: 0.1985 - val_precision: 0.2354 - val_recall: 0.5093\n",
            "Epoch 92/150\n",
            "113/113 [==============================] - 10s 88ms/step - loss: 0.0184 - acc: 0.3726 - precision: 0.4116 - recall: 0.9831 - val_loss: 1.5621 - val_acc: 0.1991 - val_precision: 0.2300 - val_recall: 0.5144\n",
            "Epoch 93/150\n",
            "113/113 [==============================] - 10s 90ms/step - loss: 0.0190 - acc: 0.3727 - precision: 0.4069 - recall: 0.9828 - val_loss: 1.5668 - val_acc: 0.1989 - val_precision: 0.2271 - val_recall: 0.5120\n",
            "Epoch 94/150\n",
            "113/113 [==============================] - 10s 88ms/step - loss: 0.0176 - acc: 0.3729 - precision: 0.4098 - recall: 0.9838 - val_loss: 1.5682 - val_acc: 0.1987 - val_precision: 0.2300 - val_recall: 0.5123\n",
            "Epoch 95/150\n",
            "113/113 [==============================] - 10s 89ms/step - loss: 0.0177 - acc: 0.3728 - precision: 0.4098 - recall: 0.9836 - val_loss: 1.5749 - val_acc: 0.1985 - val_precision: 0.2316 - val_recall: 0.5090\n",
            "Epoch 96/150\n",
            "113/113 [==============================] - 10s 88ms/step - loss: 0.0187 - acc: 0.3723 - precision: 0.4131 - recall: 0.9819 - val_loss: 1.5672 - val_acc: 0.2003 - val_precision: 0.2429 - val_recall: 0.5153\n",
            "Epoch 97/150\n",
            "113/113 [==============================] - 10s 88ms/step - loss: 0.0173 - acc: 0.3728 - precision: 0.4151 - recall: 0.9849 - val_loss: 1.5760 - val_acc: 0.1988 - val_precision: 0.2353 - val_recall: 0.5125\n",
            "Epoch 98/150\n",
            "113/113 [==============================] - 10s 88ms/step - loss: 0.0179 - acc: 0.3724 - precision: 0.4157 - recall: 0.9839 - val_loss: 1.5806 - val_acc: 0.1983 - val_precision: 0.2345 - val_recall: 0.5128\n",
            "Epoch 99/150\n",
            "113/113 [==============================] - 10s 89ms/step - loss: 0.0167 - acc: 0.3728 - precision: 0.4188 - recall: 0.9854 - val_loss: 1.5827 - val_acc: 0.1986 - val_precision: 0.2380 - val_recall: 0.5120\n",
            "Epoch 100/150\n",
            "113/113 [==============================] - 10s 90ms/step - loss: 0.0171 - acc: 0.3723 - precision: 0.4185 - recall: 0.9845 - val_loss: 1.5836 - val_acc: 0.1997 - val_precision: 0.2318 - val_recall: 0.5127\n",
            "Epoch 101/150\n",
            "113/113 [==============================] - 10s 89ms/step - loss: 0.0161 - acc: 0.3730 - precision: 0.4120 - recall: 0.9869 - val_loss: 1.5765 - val_acc: 0.1984 - val_precision: 0.2437 - val_recall: 0.5121\n",
            "Epoch 102/150\n",
            "113/113 [==============================] - 10s 89ms/step - loss: 0.0155 - acc: 0.3731 - precision: 0.4210 - recall: 0.9872 - val_loss: 1.5819 - val_acc: 0.1992 - val_precision: 0.2371 - val_recall: 0.5136\n",
            "Epoch 103/150\n",
            "113/113 [==============================] - 10s 89ms/step - loss: 0.0145 - acc: 0.3729 - precision: 0.4147 - recall: 0.9878 - val_loss: 1.5893 - val_acc: 0.1983 - val_precision: 0.2391 - val_recall: 0.5115\n",
            "Epoch 104/150\n",
            "113/113 [==============================] - 10s 91ms/step - loss: 0.0143 - acc: 0.3735 - precision: 0.4159 - recall: 0.9889 - val_loss: 1.5943 - val_acc: 0.1983 - val_precision: 0.2399 - val_recall: 0.5133\n",
            "Epoch 105/150\n",
            "113/113 [==============================] - 10s 93ms/step - loss: 0.0128 - acc: 0.3731 - precision: 0.4198 - recall: 0.9896 - val_loss: 1.5957 - val_acc: 0.1980 - val_precision: 0.2330 - val_recall: 0.5103\n",
            "Epoch 106/150\n",
            "113/113 [==============================] - 10s 91ms/step - loss: 0.0135 - acc: 0.3732 - precision: 0.4068 - recall: 0.9892 - val_loss: 1.5956 - val_acc: 0.1972 - val_precision: 0.2320 - val_recall: 0.5088\n",
            "Epoch 107/150\n",
            "113/113 [==============================] - 10s 92ms/step - loss: 0.0128 - acc: 0.3737 - precision: 0.4143 - recall: 0.9895 - val_loss: 1.6063 - val_acc: 0.1978 - val_precision: 0.2372 - val_recall: 0.5107\n",
            "Epoch 108/150\n",
            "113/113 [==============================] - 10s 92ms/step - loss: 0.0127 - acc: 0.3735 - precision: 0.4142 - recall: 0.9907 - val_loss: 1.6069 - val_acc: 0.1979 - val_precision: 0.2303 - val_recall: 0.5103\n",
            "Epoch 109/150\n",
            "113/113 [==============================] - 10s 93ms/step - loss: 0.0127 - acc: 0.3737 - precision: 0.4124 - recall: 0.9904 - val_loss: 1.6025 - val_acc: 0.1976 - val_precision: 0.2318 - val_recall: 0.5095\n",
            "Epoch 110/150\n",
            "113/113 [==============================] - 10s 91ms/step - loss: 0.0128 - acc: 0.3736 - precision: 0.4088 - recall: 0.9897 - val_loss: 1.6075 - val_acc: 0.1975 - val_precision: 0.2327 - val_recall: 0.5094\n",
            "Epoch 111/150\n",
            "113/113 [==============================] - 10s 92ms/step - loss: 0.0121 - acc: 0.3739 - precision: 0.4065 - recall: 0.9911 - val_loss: 1.6119 - val_acc: 0.1981 - val_precision: 0.2333 - val_recall: 0.5110\n",
            "Epoch 112/150\n",
            "113/113 [==============================] - 11s 93ms/step - loss: 0.0119 - acc: 0.3737 - precision: 0.4141 - recall: 0.9916 - val_loss: 1.6163 - val_acc: 0.1983 - val_precision: 0.2314 - val_recall: 0.5108\n",
            "Epoch 113/150\n",
            "113/113 [==============================] - 11s 93ms/step - loss: 0.0124 - acc: 0.3736 - precision: 0.4208 - recall: 0.9912 - val_loss: 1.6265 - val_acc: 0.1962 - val_precision: 0.2332 - val_recall: 0.5057\n",
            "Epoch 114/150\n",
            "113/113 [==============================] - 10s 91ms/step - loss: 0.0107 - acc: 0.3740 - precision: 0.4206 - recall: 0.9925 - val_loss: 1.6226 - val_acc: 0.1968 - val_precision: 0.2383 - val_recall: 0.5082\n",
            "Epoch 115/150\n",
            "113/113 [==============================] - 10s 91ms/step - loss: 0.0108 - acc: 0.3772 - precision: 0.4268 - recall: 0.9922 - val_loss: 1.6224 - val_acc: 0.1968 - val_precision: 0.2326 - val_recall: 0.5058\n",
            "Epoch 116/150\n",
            "113/113 [==============================] - 10s 92ms/step - loss: 0.0115 - acc: 0.3739 - precision: 0.4223 - recall: 0.9909 - val_loss: 1.6202 - val_acc: 0.1985 - val_precision: 0.2349 - val_recall: 0.5133\n",
            "Epoch 117/150\n",
            "113/113 [==============================] - 10s 90ms/step - loss: 0.0114 - acc: 0.3739 - precision: 0.4182 - recall: 0.9914 - val_loss: 1.6260 - val_acc: 0.1971 - val_precision: 0.2325 - val_recall: 0.5090\n",
            "Epoch 118/150\n",
            "113/113 [==============================] - 10s 92ms/step - loss: 0.0111 - acc: 0.3741 - precision: 0.4150 - recall: 0.9913 - val_loss: 1.6255 - val_acc: 0.1983 - val_precision: 0.2312 - val_recall: 0.5124\n",
            "Epoch 119/150\n",
            "113/113 [==============================] - 10s 93ms/step - loss: 0.0097 - acc: 0.3743 - precision: 0.4131 - recall: 0.9927 - val_loss: 1.6309 - val_acc: 0.1978 - val_precision: 0.2327 - val_recall: 0.5113\n",
            "Epoch 120/150\n",
            "113/113 [==============================] - 10s 92ms/step - loss: 0.0111 - acc: 0.3735 - precision: 0.4114 - recall: 0.9911 - val_loss: 1.6355 - val_acc: 0.1972 - val_precision: 0.2295 - val_recall: 0.5120\n",
            "Epoch 121/150\n",
            "113/113 [==============================] - 10s 91ms/step - loss: 0.0116 - acc: 0.3735 - precision: 0.4094 - recall: 0.9905 - val_loss: 1.6230 - val_acc: 0.1984 - val_precision: 0.2279 - val_recall: 0.5148\n",
            "Epoch 122/150\n",
            "113/113 [==============================] - 10s 93ms/step - loss: 0.0098 - acc: 0.3741 - precision: 0.4122 - recall: 0.9924 - val_loss: 1.6331 - val_acc: 0.1971 - val_precision: 0.2337 - val_recall: 0.5093\n",
            "Epoch 123/150\n",
            "113/113 [==============================] - 10s 93ms/step - loss: 0.0091 - acc: 0.3741 - precision: 0.4159 - recall: 0.9932 - val_loss: 1.6298 - val_acc: 0.1985 - val_precision: 0.2304 - val_recall: 0.5143\n",
            "Epoch 124/150\n",
            "113/113 [==============================] - 10s 92ms/step - loss: 0.0099 - acc: 0.3739 - precision: 0.4108 - recall: 0.9926 - val_loss: 1.6325 - val_acc: 0.1979 - val_precision: 0.2304 - val_recall: 0.5125\n",
            "Epoch 125/150\n",
            "113/113 [==============================] - 10s 92ms/step - loss: 0.0100 - acc: 0.3737 - precision: 0.4113 - recall: 0.9918 - val_loss: 1.6372 - val_acc: 0.1984 - val_precision: 0.2286 - val_recall: 0.5138\n",
            "Epoch 126/150\n",
            "113/113 [==============================] - 10s 92ms/step - loss: 0.0098 - acc: 0.3740 - precision: 0.4157 - recall: 0.9924 - val_loss: 1.6376 - val_acc: 0.1974 - val_precision: 0.2304 - val_recall: 0.5115\n",
            "Epoch 127/150\n",
            "113/113 [==============================] - 10s 92ms/step - loss: 0.0099 - acc: 0.3740 - precision: 0.4185 - recall: 0.9925 - val_loss: 1.6437 - val_acc: 0.1977 - val_precision: 0.2325 - val_recall: 0.5114\n",
            "Epoch 128/150\n",
            "113/113 [==============================] - 11s 93ms/step - loss: 0.0100 - acc: 0.3740 - precision: 0.4080 - recall: 0.9928 - val_loss: 1.6499 - val_acc: 0.1977 - val_precision: 0.2252 - val_recall: 0.5110\n",
            "Epoch 129/150\n",
            "113/113 [==============================] - 10s 92ms/step - loss: 0.0090 - acc: 0.3741 - precision: 0.4112 - recall: 0.9934 - val_loss: 1.6566 - val_acc: 0.1968 - val_precision: 0.2293 - val_recall: 0.5093\n",
            "Epoch 130/150\n",
            "113/113 [==============================] - 10s 91ms/step - loss: 0.0092 - acc: 0.3741 - precision: 0.4112 - recall: 0.9932 - val_loss: 1.6398 - val_acc: 0.1992 - val_precision: 0.2284 - val_recall: 0.5150\n",
            "Epoch 131/150\n",
            "113/113 [==============================] - 10s 91ms/step - loss: 0.0087 - acc: 0.3743 - precision: 0.4096 - recall: 0.9933 - val_loss: 1.6470 - val_acc: 0.1988 - val_precision: 0.2308 - val_recall: 0.5169\n",
            "Epoch 132/150\n",
            "113/113 [==============================] - 11s 93ms/step - loss: 0.0093 - acc: 0.3742 - precision: 0.4149 - recall: 0.9928 - val_loss: 1.6518 - val_acc: 0.1992 - val_precision: 0.2299 - val_recall: 0.5164\n",
            "Epoch 133/150\n",
            "113/113 [==============================] - 10s 92ms/step - loss: 0.0086 - acc: 0.3743 - precision: 0.4104 - recall: 0.9930 - val_loss: 1.6564 - val_acc: 0.1986 - val_precision: 0.2304 - val_recall: 0.5140\n",
            "Epoch 134/150\n",
            "113/113 [==============================] - 11s 93ms/step - loss: 0.0093 - acc: 0.3741 - precision: 0.4079 - recall: 0.9932 - val_loss: 1.6539 - val_acc: 0.1987 - val_precision: 0.2294 - val_recall: 0.5144\n",
            "Epoch 135/150\n",
            "113/113 [==============================] - 11s 93ms/step - loss: 0.0086 - acc: 0.3742 - precision: 0.4162 - recall: 0.9932 - val_loss: 1.6667 - val_acc: 0.1985 - val_precision: 0.2333 - val_recall: 0.5153\n",
            "Epoch 136/150\n",
            "113/113 [==============================] - 11s 93ms/step - loss: 0.0084 - acc: 0.3741 - precision: 0.4170 - recall: 0.9932 - val_loss: 1.6669 - val_acc: 0.1995 - val_precision: 0.2345 - val_recall: 0.5176\n",
            "Epoch 137/150\n",
            "113/113 [==============================] - 10s 93ms/step - loss: 0.0090 - acc: 0.3742 - precision: 0.4213 - recall: 0.9933 - val_loss: 1.6532 - val_acc: 0.1998 - val_precision: 0.2353 - val_recall: 0.5178\n",
            "Epoch 138/150\n",
            "113/113 [==============================] - 11s 94ms/step - loss: 0.0086 - acc: 0.3740 - precision: 0.4170 - recall: 0.9938 - val_loss: 1.6596 - val_acc: 0.2009 - val_precision: 0.2349 - val_recall: 0.5202\n",
            "Epoch 139/150\n",
            "113/113 [==============================] - 10s 92ms/step - loss: 0.0088 - acc: 0.3744 - precision: 0.4166 - recall: 0.9933 - val_loss: 1.6669 - val_acc: 0.2012 - val_precision: 0.2346 - val_recall: 0.5211\n",
            "Epoch 140/150\n",
            "113/113 [==============================] - 10s 92ms/step - loss: 0.0091 - acc: 0.3739 - precision: 0.4238 - recall: 0.9924 - val_loss: 1.6708 - val_acc: 0.2006 - val_precision: 0.2361 - val_recall: 0.5206\n",
            "Epoch 141/150\n",
            "113/113 [==============================] - 10s 93ms/step - loss: 0.0085 - acc: 0.3741 - precision: 0.4202 - recall: 0.9933 - val_loss: 1.6741 - val_acc: 0.2003 - val_precision: 0.2352 - val_recall: 0.5208\n",
            "Epoch 142/150\n",
            "113/113 [==============================] - 11s 94ms/step - loss: 0.0088 - acc: 0.3742 - precision: 0.4271 - recall: 0.9931 - val_loss: 1.6818 - val_acc: 0.2001 - val_precision: 0.2390 - val_recall: 0.5189\n",
            "Epoch 143/150\n",
            "113/113 [==============================] - 11s 93ms/step - loss: 0.0084 - acc: 0.3742 - precision: 0.4258 - recall: 0.9930 - val_loss: 1.6854 - val_acc: 0.1984 - val_precision: 0.2424 - val_recall: 0.5135\n",
            "Epoch 144/150\n",
            "113/113 [==============================] - 11s 93ms/step - loss: 0.0084 - acc: 0.3740 - precision: 0.4284 - recall: 0.9931 - val_loss: 1.6838 - val_acc: 0.1997 - val_precision: 0.2406 - val_recall: 0.5193\n",
            "Epoch 145/150\n",
            "113/113 [==============================] - 11s 94ms/step - loss: 0.0085 - acc: 0.3742 - precision: 0.4353 - recall: 0.9928 - val_loss: 1.6815 - val_acc: 0.2007 - val_precision: 0.2398 - val_recall: 0.5196\n",
            "Epoch 146/150\n",
            "113/113 [==============================] - 11s 94ms/step - loss: 0.0082 - acc: 0.3742 - precision: 0.4262 - recall: 0.9938 - val_loss: 1.6812 - val_acc: 0.2012 - val_precision: 0.2392 - val_recall: 0.5226\n",
            "Epoch 147/150\n",
            "113/113 [==============================] - 10s 93ms/step - loss: 0.0078 - acc: 0.3741 - precision: 0.4239 - recall: 0.9934 - val_loss: 1.6959 - val_acc: 0.2009 - val_precision: 0.2382 - val_recall: 0.5221\n",
            "Epoch 148/150\n",
            "113/113 [==============================] - 11s 94ms/step - loss: 0.0087 - acc: 0.3737 - precision: 0.4294 - recall: 0.9929 - val_loss: 1.6967 - val_acc: 0.2002 - val_precision: 0.2371 - val_recall: 0.5208\n",
            "Epoch 149/150\n",
            "113/113 [==============================] - 11s 95ms/step - loss: 0.0080 - acc: 0.3737 - precision: 0.4219 - recall: 0.9934 - val_loss: 1.6905 - val_acc: 0.1995 - val_precision: 0.2339 - val_recall: 0.5173\n",
            "Epoch 150/150\n",
            "113/113 [==============================] - 11s 93ms/step - loss: 0.0077 - acc: 0.3736 - precision: 0.4251 - recall: 0.9937 - val_loss: 1.6877 - val_acc: 0.2012 - val_precision: 0.2422 - val_recall: 0.5228\n"
          ],
          "name": "stdout"
        },
        {
          "output_type": "execute_result",
          "data": {
            "text/plain": [
              "<tensorflow.python.keras.callbacks.History at 0x7fd782467630>"
            ]
          },
          "metadata": {
            "tags": []
          },
          "execution_count": 32
        }
      ]
    },
    {
      "cell_type": "code",
      "metadata": {
        "id": "7ajjUP_hstrS",
        "outputId": "54444c82-642a-48b8-8b2d-92e5bcac12ba",
        "colab": {
          "base_uri": "https://localhost:8080/",
          "height": 34
        }
      },
      "source": [
        "model_json = model.to_json()\n",
        "with open(\"NMT_model.json\", \"w\") as json_file:\n",
        "    json_file.write(model_json)\n",
        "# serialize weights to HDF5\n",
        "model.save_weights(\"NMT_model_weight.h5\")\n",
        "print(\"Saved model to disk\")"
      ],
      "execution_count": 33,
      "outputs": [
        {
          "output_type": "stream",
          "text": [
            "Saved model to disk\n"
          ],
          "name": "stdout"
        }
      ]
    },
    {
      "cell_type": "code",
      "metadata": {
        "id": "t9r8wcK_strV"
      },
      "source": [
        "# loading the model architecture and asigning the weights\n",
        "json_file = open('NMT_model.json', 'r')\n",
        "loaded_model_json = json_file.read()\n",
        "json_file.close()\n",
        "model_loaded = model_from_json(loaded_model_json, custom_objects={'AttentionLayer': AttentionLayer})\n",
        "# load weights into new model\n",
        "model_loaded.load_weights(\"NMT_model_weight.h5\")"
      ],
      "execution_count": 34,
      "outputs": []
    },
    {
      "cell_type": "code",
      "metadata": {
        "id": "7tOD_nbCstrX",
        "outputId": "da232efe-cc61-4016-8d1c-0a8946e316b1",
        "colab": {
          "base_uri": "https://localhost:8080/",
          "height": 52
        }
      },
      "source": [
        "# encoder inference\n",
        "encoder_inputs = model_loaded.input[0]  #loading encoder_inputs\n",
        "encoder_outputs, state_h, state_c = model_loaded.layers[6].output #loading encoder_outputs\n",
        "\n",
        "print(encoder_outputs.shape)\n",
        "\n",
        "encoder_model = Model(inputs=encoder_inputs,outputs=[encoder_outputs, state_h, state_c])\n",
        "\n",
        "# decoder inference\n",
        "# Below tensors will hold the states of the previous time step\n",
        "decoder_state_input_h = Input(shape=(latent_dim,))\n",
        "decoder_state_input_c = Input(shape=(latent_dim,))\n",
        "decoder_hidden_state_input = Input(shape=(32,latent_dim))\n",
        "\n",
        "# Get the embeddings of the decoder sequence\n",
        "decoder_inputs = model_loaded.layers[3].output\n",
        "\n",
        "print(decoder_inputs.shape)\n",
        "dec_emb_layer = model_loaded.layers[5]\n",
        "\n",
        "dec_emb2= dec_emb_layer(decoder_inputs)\n",
        "\n",
        "# To predict the next word in the sequence, set the initial states to the states from the previous time step\n",
        "decoder_lstm = model_loaded.layers[7]\n",
        "decoder_outputs2, state_h2, state_c2 = decoder_lstm(dec_emb2, initial_state=[decoder_state_input_h, decoder_state_input_c])\n",
        "\n",
        "#attention inference\n",
        "attn_layer = model_loaded.layers[8]\n",
        "attn_out_inf, attn_states_inf = attn_layer([decoder_hidden_state_input, decoder_outputs2])\n",
        "\n",
        "concate = model_loaded.layers[9]\n",
        "decoder_inf_concat = concate([decoder_outputs2, attn_out_inf])\n",
        "\n",
        "# A dense softmax layer to generate prob dist. over the target vocabulary\n",
        "decoder_dense = model_loaded.layers[10]\n",
        "decoder_outputs2 = decoder_dense(decoder_inf_concat)\n",
        "\n",
        "# Final decoder model\n",
        "decoder_model = Model(\n",
        "[decoder_inputs] + [decoder_hidden_state_input,decoder_state_input_h, decoder_state_input_c],\n",
        "[decoder_outputs2] + [state_h2, state_c2])"
      ],
      "execution_count": 35,
      "outputs": [
        {
          "output_type": "stream",
          "text": [
            "(None, 19, 256)\n",
            "(None, None)\n"
          ],
          "name": "stdout"
        }
      ]
    },
    {
      "cell_type": "code",
      "metadata": {
        "id": "9JxPxjCYstrZ"
      },
      "source": [
        "def decode_sequence(input_seq):\n",
        "    # Encode the input as state vectors.\n",
        "    e_out, e_h, e_c = encoder_model.predict(input_seq)\n",
        "\n",
        "    # Generate empty target sequence of length 1.\n",
        "    target_seq = np.zeros((1,1))\n",
        "\n",
        "    # Populate the first character of \n",
        "    #target sequence with the start character.\n",
        "    target_seq[0, 0] = target_word2idx['START_']\n",
        "\n",
        "# Sampling loop for a batch of sequences\n",
        "    # (to simplify, here we assume a batch of size 1).\n",
        "    stop_condition = False\n",
        "    decoded_sentence = ''\n",
        "\n",
        "    while not stop_condition:\n",
        "        output_tokens, h, c = decoder_model.predict([target_seq] + [e_out, e_h, e_c])\n",
        "        \n",
        "# Sample a token\n",
        "        sampled_token_index = np.argmax(output_tokens[0, -1, :])\n",
        "        sampled_word =target_idx2word[sampled_token_index]\n",
        "        decoded_sentence += ' '+ sampled_word\n",
        "        \n",
        "# Exit condition: either hit max length\n",
        "        # or find stop character.\n",
        "        if (sampled_word == '_END' or\n",
        "           len(decoded_sentence) > 110):\n",
        "            stop_condition = True\n",
        "\n",
        "# Update the target sequence (of length 1).\n",
        "        target_seq = np.zeros((1,1))\n",
        "        target_seq[0, 0] = sampled_token_index\n",
        "\n",
        "# Update states\n",
        "        e_h, e_c = h, c\n",
        "    return decoded_sentence"
      ],
      "execution_count": 36,
      "outputs": []
    },
    {
      "cell_type": "code",
      "metadata": {
        "id": "VfFHzNiFstra"
      },
      "source": [
        "test_gen = generate_batch(X_test, y_test, batch_size = 1)\n",
        "i=-1"
      ],
      "execution_count": 37,
      "outputs": []
    },
    {
      "cell_type": "code",
      "metadata": {
        "id": "2xQ5l26Dstrd",
        "outputId": "0bfacfe0-e968-4557-8ca3-d7c7da3ba267",
        "colab": {
          "base_uri": "https://localhost:8080/",
          "height": 1000
        }
      },
      "source": [
        "#Make predictions on the test dataset\n",
        "i+= 1\n",
        "for k in range(i,i+40):\n",
        "    #print(\"\\n\",k)\n",
        "    (input_seq, actual_output), _ = next(test_gen)\n",
        "    decoded_sentence = decode_sequence(input_seq)\n",
        "    print('Input Source Question:', X_test[k:k+1].values[0],'?')\n",
        "    print('Actual Target Answer:', y_test[k:k+1].values[0][6:-4])\n",
        "    print('Predicted Target Answer:', decoded_sentence[:-4])\n",
        "    print(\"\\n\")"
      ],
      "execution_count": 38,
      "outputs": [
        {
          "output_type": "stream",
          "text": [
            "WARNING:tensorflow:Model was constructed with shape (None, 32, 256) for input Tensor(\"input_5:0\", shape=(None, 32, 256), dtype=float32), but it was called on an input with incompatible shape (None, 19, 256).\n",
            "Input Source Question: what are the symptoms of childhood brain stem glioma ?\n",
            "Actual Target Answer:  unusual sleepiness trouble with eye movement vision problems loss of balance and trouble walking \n",
            "Predicted Target Answer:  the symptoms of hairy cell leukemia are infections tiredness \n",
            "\n",
            "\n",
            "Input Source Question: what are the treatments for x linked hyper igm syndrome ?\n",
            "Actual Target Answer:  diagnostic tests drug therapy surgery and rehabilitation genetic counseling \n",
            "Predicted Target Answer:  diagnostic tests drug therapy surgery and rehabilitation genetic counseling \n",
            "\n",
            "\n",
            "Input Source Question: what are the genetic changes related to mowat wilson syndrome ?\n",
            "Actual Target Answer:  mutations in the zeb gene cause mowat wilson syndrome \n",
            "Predicted Target Answer:  mutations in the irf gene cause van der woude syndrome \n",
            "\n",
            "\n",
            "Input Source Question: what are the treatments for microphthalmia with linear skin defects syndrome ?\n",
            "Actual Target Answer:  diagnostic tests drug therapy surgery and rehabilitation \n",
            "Predicted Target Answer:  drug therapy surgery palliative care chemotherapy radiation therapy \n",
            "\n",
            "\n",
            "Input Source Question: what are the treatments for abdominal wall defect ?\n",
            "Actual Target Answer:  genetic counseling palliative care \n",
            "Predicted Target Answer:  diagnostic tests drug therapy surgery and rehabilitation \n",
            "\n",
            "\n",
            "Input Source Question: what are the treatments for gm synthase deficiency ?\n",
            "Actual Target Answer:  drug therapy surgery palliative care chemotherapy radiation therapy \n",
            "Predicted Target Answer:  diagnostic tests drug therapy surgery and rehabilitation \n",
            "\n",
            "\n",
            "Input Source Question: how many people are affected by shprintzen goldberg syndrome ?\n",
            "Actual Target Answer:  its prevalence is unknown \n",
            "Predicted Target Answer:  the prevalence of gnathodiaphyseal dysplasia is unknown but it is thought to be a rare disorder \n",
            "\n",
            "\n",
            "Input Source Question: what is the outlook for todds paralysis ?\n",
            "Actual Target Answer:  paralysis is an indication that an individual has had an epileptic seizure \n",
            "Predicted Target Answer:  most individuals will have only one episode of transverse myelitis \n",
            "\n",
            "\n",
            "Input Source Question: what are the treatments for tuberous sclerosis complex ?\n",
            "Actual Target Answer:  diagnostic tests drug therapy surgery and rehabilitation genetic counseling \n",
            "Predicted Target Answer:  diagnostic tests drug therapy surgery and rehabilitation genetic counseling \n",
            "\n",
            "\n",
            "Input Source Question: is alexander disease inherited ?\n",
            "Actual Target Answer:  these cases occur in people with no history of the disorder in their family \n",
            "Predicted Target Answer:  most cases of systemic scleroderma occurs in people with no history of the condition in their family \n",
            "\n",
            "\n",
            "Input Source Question: what is are laryngo onycho cutaneous syndrome ?\n",
            "Actual Target Answer:  loc syndrome is caused by mutations in the lama gene \n",
            "Predicted Target Answer:  a disorder that affects the development of the brain \n",
            "\n",
            "\n",
            "Input Source Question: is pfeiffer syndrome inherited ?\n",
            "Actual Target Answer:  this condition is inherited in an autosomal dominant pattern \n",
            "Predicted Target Answer:  waardenburg syndrome is usually inherited in an autosomal dominant pattern \n",
            "\n",
            "\n",
            "Input Source Question: what are the treatments for lissencephaly with cerebellar hypoplasia ?\n",
            "Actual Target Answer:  when lch is caused by mutations in the reln gene \n",
            "Predicted Target Answer:  anticonvulsant medications shunts or physical therapy are appropriate \n",
            "\n",
            "\n",
            "Input Source Question: is glutaric acidemia type i inherited ?\n",
            "Actual Target Answer:  this condition is inherited in an autosomal recessive pattern \n",
            "Predicted Target Answer:  tetrasomy p is usually not inherited \n",
            "\n",
            "\n",
            "Input Source Question: what are the treatments for childhood non hodgkin lymphoma ?\n",
            "Actual Target Answer:  chemotherapy radiation therapy phototherapy \n",
            "Predicted Target Answer:  surgery radiation therapy chemotherapy \n",
            "\n",
            "\n",
            "Input Source Question: what are the treatments for sotos syndrome ?\n",
            "Actual Target Answer:  there is no standard course of treatment for sotos syndrome \n",
            "Predicted Target Answer:  diagnostic tests drug therapy surgery and rehabilitation genetic counseling \n",
            "\n",
            "\n",
            "Input Source Question: is supravalvular aortic stenosis inherited ?\n",
            "Actual Target Answer:  this condition is inherited in an autosomal dominant pattern \n",
            "Predicted Target Answer:  inherited in an autosomal recessive pattern \n",
            "\n",
            "\n",
            "Input Source Question: what are the genetic changes related to methylbutyryl coa dehydrogenase deficiency ?\n",
            "Actual Target Answer:  mutations in the acadsb gene cause methylbutyryl coa dehydrogenase deficiency \n",
            "Predicted Target Answer:  mutations in the progressive gene cause this condition \n",
            "\n",
            "\n",
            "Input Source Question: how many people are affected by mc syndrome ?\n",
            "Actual Target Answer:  its exact prevalence is unknown \n",
            "Predicted Target Answer:  the prevalence of systemic scleroderma is estimated to range from to cases per million people \n",
            "\n",
            "\n",
            "Input Source Question: what are the treatments for surviving cancer ?\n",
            "Actual Target Answer:  radiation or surgery to the head and neck the lining of your mouth and the glands that make saliva \n",
            "Predicted Target Answer:  surgery radiation therapy chemotherapy \n",
            "\n",
            "\n",
            "Input Source Question: is nonsyndromic holoprosencephaly inherited ?\n",
            "Actual Target Answer:  nonsyndromic holoprosencephaly is inherited in an autosomal dominant pattern \n",
            "Predicted Target Answer:  inherited in an autosomal recessive pattern \n",
            "\n",
            "\n",
            "Input Source Question: what are the treatments for encephalopathy ?\n",
            "Actual Target Answer:  changes to diet and nutritional supplements may help some patients \n",
            "Predicted Target Answer:  drug therapy surgery palliative care chemotherapy radiation therapy \n",
            "\n",
            "\n",
            "Input Source Question: what is are spastic paraplegia type ?\n",
            "Actual Target Answer:  a group of genetic disorders known as hereditary spastic paraplegias \n",
            "Predicted Target Answer:  the disorders is characterized by progressive muscle stiffness and the development of paralysis of the lower l\n",
            "\n",
            "\n",
            "Input Source Question: what are the treatments for galactosemia ?\n",
            "Actual Target Answer:  diagnostic tests drug therapy surgery and rehabilitation \n",
            "Predicted Target Answer:  there is no cure for most tremors the appropriate treatment depends on accurate diagnosis of the cause \n",
            "\n",
            "\n",
            "Input Source Question: what are the treatments for neurological consequences of cytomegalovirus infection ?\n",
            "Actual Target Answer:  since the virus remains in the person for life there is no treatment to eliminate cmv infection \n",
            "Predicted Target Answer:  treatment for cerebral arteriosclerosis can include medications or surgery \n",
            "\n",
            "\n",
            "Input Source Question: how many people are affected by marfan syndrome ?\n",
            "Actual Target Answer:  the incidence approximately in worldwide \n",
            "Predicted Target Answer:  myhre syndrome is a rare disorder \n",
            "\n",
            "\n",
            "Input Source Question: is holt oram syndrome inherited ?\n",
            "Actual Target Answer:  this condition is inherited in an autosomal dominant pattern \n",
            "Predicted Target Answer:  this condition can be inherited in an autosomal dominant pattern \n",
            "\n",
            "\n",
            "Input Source Question: how many people are affected by kuskokwim syndrome ?\n",
            "Actual Target Answer:  kuskokwim syndrome is extremely rare \n",
            "Predicted Target Answer:  poland syndrome has been estimated to occur in in newborns \n",
            "\n",
            "\n",
            "Input Source Question: what are the treatments for idiopathic pulmonary fibrosis ?\n",
            "Actual Target Answer:  diagnostic tests drug therapy surgery and rehabilitation genetic counseling palliative care \n",
            "Predicted Target Answer:  the chronic inflammatory myopathies cant be cured in most adults but many of the symptoms can be treated \n",
            "\n",
            "\n",
            "Input Source Question: how many people are affected by isolated pierre robin sequence ?\n",
            "Actual Target Answer:  isolated pierre robin sequence affects an estimated in to people \n",
            "Predicted Target Answer:  y chromosome infertility occurs in approximately in to in males of all ethnic groups \n",
            "\n",
            "\n",
            "Input Source Question: what are the symptoms of nasopharyngeal cancer ?\n",
            "Actual Target Answer:  trouble breathing speaking or hearing \n",
            "Predicted Target Answer:  a sore throat and ear pain chronic bad breath unexplained weight loss \n",
            "\n",
            "\n",
            "Input Source Question: what is the outlook for craniosynostosis ?\n",
            "Actual Target Answer:  the prognosis for craniosynostosis varies depending on whether single or multiple cranial sutures \n",
            "Predicted Target Answer:  a combination of physical intellectual and psychological difficulties that need special attention \n",
            "\n",
            "\n",
            "Input Source Question: is sjgren syndrome inherited ?\n",
            "Actual Target Answer:  the inheritance pattern of this predisposition is unknown \n",
            "Predicted Target Answer:  most cases of xyy syndrome are not inherited \n",
            "\n",
            "\n",
            "Input Source Question: what are the genetic changes related to q deletion syndrome ?\n",
            "Actual Target Answer:  missing a sequence of about million dna building blocks on one copy of chromosome in each cell \n",
            "Predicted Target Answer:  mutations in the ptpn sos raf kras nras and braf genes cause noonan syndrome \n",
            "\n",
            "\n",
            "Input Source Question: what are the treatments for klippel feil syndrome ?\n",
            "Actual Target Answer:  diagnostic tests drug therapy surgery and rehabilitation genetic counseling palliative care \n",
            "Predicted Target Answer:  diagnostic tests drug therapy surgery and rehabilitation genetic counseling palliative care \n",
            "\n",
            "\n",
            "Input Source Question: what are the treatments for hereditary antithrombin deficiency ?\n",
            "Actual Target Answer:  drug therapy surgery palliative care chemotherapy radiation therapy \n",
            "Predicted Target Answer:  drug therapy surgery palliative care chemotherapy radiation therapy \n",
            "\n",
            "\n",
            "Input Source Question: what is the outlook for thoracic outlet syndrome ?\n",
            "Actual Target Answer:  the outcome for individuals with tos varies according to type \n",
            "Predicted Target Answer:  in most cases an individual with pots improves to some degree and becomes functional \n",
            "\n",
            "\n",
            "Input Source Question: what is are tay sachs disease ?\n",
            "Actual Target Answer:  an inherited metabolic disease caused by the harmful buildup of lipids in various cells and tissues in the body \n",
            "Predicted Target Answer:  an inherited disorder characterized by the accumulation of fats called sulfatides in cells \n",
            "\n",
            "\n",
            "Input Source Question: what are the genetic changes related to multiminicore disease ?\n",
            "Actual Target Answer:  mutations in the ryr and sepn genes cause multiminicore disease \n",
            "Predicted Target Answer:  mutations in the gfap gene cause alexander disease \n",
            "\n",
            "\n",
            "Input Source Question: what are the treatments for salivary gland cancer ?\n",
            "Actual Target Answer:  surgery radiation therapy chemotherapy \n",
            "Predicted Target Answer:  a child who has a febrile seizure usually doesn&apos t need to be hospitalized \n",
            "\n",
            "\n"
          ],
          "name": "stdout"
        }
      ]
    },
    {
      "cell_type": "code",
      "metadata": {
        "id": "Pb_DFSp1iTRN"
      },
      "source": [
        "#Make predictions on the train dataset\n",
        "\n",
        "train_gen = generate_batch(X_train, y_train, batch_size = 1)\n",
        "x=-1"
      ],
      "execution_count": 39,
      "outputs": []
    },
    {
      "cell_type": "code",
      "metadata": {
        "id": "wqzYkycev2Oy",
        "outputId": "4c1d53be-8313-4086-c20a-525f1d122f7d",
        "colab": {
          "base_uri": "https://localhost:8080/",
          "height": 1000
        }
      },
      "source": [
        "x+=1\n",
        "for j in range(x,x+40):\n",
        "    (input_seq, actual_output), _ = next(train_gen)\n",
        "    decoded_sentence = decode_sequence(input_seq)\n",
        "    print('Input Source Question:', X_train[j:j+1].values[0],'?')\n",
        "    print('Actual Target Answer:', y_train[j:j+1].values[0][6:-4])\n",
        "    print('Predicted Target Answer:', decoded_sentence[:-4])\n",
        "    print(\"\\n\")"
      ],
      "execution_count": 40,
      "outputs": [
        {
          "output_type": "stream",
          "text": [
            "Input Source Question: what is are phosphoribosylpyrophosphate synthetase superactivity ?\n",
            "Actual Target Answer:  characterized by the overproduction and accumulation of uric acid in the blood and urine \n",
            "Predicted Target Answer:  characterized by the overproduction and accumulation of uric acid in the blood and urine \n",
            "\n",
            "\n",
            "Input Source Question: what are the genetic changes related to von willebrand disease ?\n",
            "Actual Target Answer:  mutations in the vwf gene cause von willebrand disease \n",
            "Predicted Target Answer:  mutations in the myob gene cause microvillus inclusion disease \n",
            "\n",
            "\n",
            "Input Source Question: what are the genetic changes related to glutaric acidemia type ii ?\n",
            "Actual Target Answer:  mutations in any of three genes etfa etfb and etfdh can result in glutaric acidemia type ii \n",
            "Predicted Target Answer:  mutations in the pygm gene cause gsdv \n",
            "\n",
            "\n",
            "Input Source Question: how many people are affected by greenberg dysplasia ?\n",
            "Actual Target Answer:  approximately ten cases have been reported in the scientific literature \n",
            "Predicted Target Answer:  approximately ten cases have been reported in the scientific literature \n",
            "\n",
            "\n",
            "Input Source Question: how many people are affected by multiple mitochondrial dysfunctions syndrome ?\n",
            "Actual Target Answer:  multiple mitochondrial dysfunctions syndrome is a rare condition its prevalence is unknown \n",
            "Predicted Target Answer:  multiple mitochondrial dysfunctions syndrome is a rare condition its prevalence is unknown \n",
            "\n",
            "\n",
            "Input Source Question: what are the genetic changes related to hepatic lipase deficiency ?\n",
            "Actual Target Answer:  hepatic lipase deficiency is caused by mutations in the lipc gene \n",
            "Predicted Target Answer:  hepatic lipase deficiency is caused by mutations in the lipc gene \n",
            "\n",
            "\n",
            "Input Source Question: what is are multiple pterygium syndrome ?\n",
            "Actual Target Answer:  a condition that is the skin at the joints and a lack of muscle movement before birth \n",
            "Predicted Target Answer:  a condition that is the skin at the joints and a lack of muscle movement before birth \n",
            "\n",
            "\n",
            "Input Source Question: how to diagnose metastatic squamous neck cancer ?\n",
            "Actual Target Answer:  physical exam and history biopsy core needle biopsy \n",
            "Predicted Target Answer:  physical exam and history biopsy core needle biopsy \n",
            "\n",
            "\n",
            "Input Source Question: what is are n acetylglutamate synthase deficiency ?\n",
            "Actual Target Answer:  an inherited disorder that causes ammonia to accumulate in the blood \n",
            "Predicted Target Answer:  an inherited disorder that causes ammonia to accumulate in the blood \n",
            "\n",
            "\n",
            "Input Source Question: how many people are affected by gm gangliosidosis ab variant ?\n",
            "Actual Target Answer:  the ab variant is extremely rare only a few cases have been reported worldwide \n",
            "Predicted Target Answer:  the ab variant is extremely rare only a few cases have been reported worldwide \n",
            "\n",
            "\n",
            "Input Source Question: how many people are affected by slca associated distal renal tubular acidosis ?\n",
            "Actual Target Answer:  the prevalence of slca associated distal renal tubular acidosis is unknown \n",
            "Predicted Target Answer:  the prevalence of slca associated distal renal tubular acidosis is unknown \n",
            "\n",
            "\n",
            "Input Source Question: what are the treatments for polycystic kidney disease ?\n",
            "Actual Target Answer:  diagnostic tests drug therapy surgery and rehabilitation genetic counseling palliative care \n",
            "Predicted Target Answer:  diagnostic tests drug therapy surgery and rehabilitation genetic counseling palliative care \n",
            "\n",
            "\n",
            "Input Source Question: what are the treatments for heart failure ?\n",
            "Actual Target Answer:  there is no cure for heart failure but it can be controlled by treating the underlying conditions that cause it \n",
            "Predicted Target Answer:  there is no cure for heart failure but it can be controlled by treating a group of these conditions caused by mutat\n",
            "\n",
            "\n",
            "Input Source Question: what are the treatments for x linked creatine deficiency ?\n",
            "Actual Target Answer:  diagnostic tests drug therapy surgery and rehabilitation genetic counseling \n",
            "Predicted Target Answer:  diagnostic tests drug therapy surgery and rehabilitation genetic counseling \n",
            "\n",
            "\n",
            "Input Source Question: what are the treatments for very long chain acyl coa dehydrogenase deficiency ?\n",
            "Actual Target Answer:  diagnostic tests drug therapy surgery and rehabilitation genetic counseling \n",
            "Predicted Target Answer:  diagnostic tests drug therapy surgery and rehabilitation genetic counseling \n",
            "\n",
            "\n",
            "Input Source Question: what are the genetic changes related to isolated growth hormone deficiency ?\n",
            "Actual Target Answer:  isolated growth hormone deficiency is caused by mutations in one of at least three genes \n",
            "Predicted Target Answer:  isolated growth hormone deficiency is caused by mutations in one of at least three genes \n",
            "\n",
            "\n",
            "Input Source Question: is q microdeletion inherited ?\n",
            "Actual Target Answer:  this is inherited in an autosomal dominant pattern \n",
            "Predicted Target Answer:  q microdeletion is inherited in an autosomal dominant pattern \n",
            "\n",
            "\n",
            "Input Source Question: what are the treatments for wolman disease ?\n",
            "Actual Target Answer:  diagnostic tests drug therapy genetic counseling \n",
            "Predicted Target Answer:  diagnostic tests drug therapy genetic counseling \n",
            "\n",
            "\n",
            "Input Source Question: is limb girdle muscular dystrophy inherited ?\n",
            "Actual Target Answer:  the various forms of limb girdle muscular dystrophy are caused by mutations in many different genes \n",
            "Predicted Target Answer:  the various forms of limb girdle muscular dystrophy are caused by mutations in many different genes \n",
            "\n",
            "\n",
            "Input Source Question: how many people are affected by wagner syndrome ?\n",
            "Actual Target Answer:  approximately affected individuals have been described worldwide \n",
            "Predicted Target Answer:  approximately affected individuals have been identified worldwide \n",
            "\n",
            "\n",
            "Input Source Question: what are the symptoms of childhood cord tumors ?\n",
            "Actual Target Answer:  feeling sick to your stomach headaches vision problems \n",
            "Predicted Target Answer:  feeling sick to your stomach headaches vision problems \n",
            "\n",
            "\n",
            "Input Source Question: how many people are affected by maternally inherited diabetes and deafness ?\n",
            "Actual Target Answer:  about percent of people with diabetes have midd \n",
            "Predicted Target Answer:  about percent of people with diabetes have midd \n",
            "\n",
            "\n",
            "Input Source Question: what research is being done for vulvar cancer ?\n",
            "Actual Target Answer:  research continues to study the link between hpv and vulvar cancer \n",
            "Predicted Target Answer:  research continues to study the link between hpv and vulvar cancer \n",
            "\n",
            "\n",
            "Input Source Question: what are the genetic changes related to spondyloenchondrodysplasia with immune dysregulation ?\n",
            "Actual Target Answer:  mutations in the acp gene cause spencdi \n",
            "Predicted Target Answer:  mutations in the mutations gene cause this disorder \n",
            "\n",
            "\n",
            "Input Source Question: how many people are affected by lama related muscular dystrophy ?\n",
            "Actual Target Answer:  the prevalence of early onset lama related muscular dystrophy is estimated at in individuals \n",
            "Predicted Target Answer:  the prevalence of early onset lama related muscular dystrophy is estimated at in individuals \n",
            "\n",
            "\n",
            "Input Source Question: what is are q microdeletion ?\n",
            "Actual Target Answer:  a chromosomal change in which a small piece of chromosome is deleted in each cell \n",
            "Predicted Target Answer:  a chromosomal change in which a small piece of chromosome is deleted in each cell \n",
            "\n",
            "\n",
            "Input Source Question: what is are stickler syndrome ?\n",
            "Actual Target Answer:  a condition characterized by a distinctive facial appearance eye abnormalities hearing loss and joint problems \n",
            "Predicted Target Answer:  a condition characterized by a distinctive facial appearance eye abnormalities hearing loss and joint prob\n",
            "\n",
            "\n",
            "Input Source Question: what are the genetic changes related to sick sinus syndrome ?\n",
            "Actual Target Answer:  sick sinus syndrome can result from genetic or environmental factors \n",
            "Predicted Target Answer:  sick sinus syndrome can result from genetic or environmental factors \n",
            "\n",
            "\n",
            "Input Source Question: is lamellar ichthyosis inherited ?\n",
            "Actual Target Answer:  this condition is inherited in an autosomal recessive pattern \n",
            "Predicted Target Answer:  this condition is inherited in an autosomal recessive pattern \n",
            "\n",
            "\n",
            "Input Source Question: how many people are affected by nail patella syndrome ?\n",
            "Actual Target Answer:  the prevalence of nail patella syndrome is estimated to be in individuals \n",
            "Predicted Target Answer:  the prevalence of nail patella syndrome is estimated to be in individuals \n",
            "\n",
            "\n",
            "Input Source Question: what causes quitting smoking for older adults ?\n",
            "Actual Target Answer:  increases the risk of many types of cancer \n",
            "Predicted Target Answer:  increases the risk of many types of cancer \n",
            "\n",
            "\n",
            "Input Source Question: what is are ocular albinism ?\n",
            "Actual Target Answer:  ocular albinism is a genetic condition that primarily affects the eyes \n",
            "Predicted Target Answer:  ocular albinism is a genetic condition that primarily affects the eyes \n",
            "\n",
            "\n",
            "Input Source Question: is abetalipoproteinemia inherited ?\n",
            "Actual Target Answer:  this condition is inherited in an autosomal recessive pattern \n",
            "Predicted Target Answer:  inherited in an autosomal recessive pattern \n",
            "\n",
            "\n",
            "Input Source Question: what are the treatments for lactate dehydrogenase deficiency ?\n",
            "Actual Target Answer:  diagnostic tests drug therapy surgery and rehabilitation genetic counseling palliative care \n",
            "Predicted Target Answer:  diagnostic tests drug therapy surgery and rehabilitation genetic counseling palliative care \n",
            "\n",
            "\n",
            "Input Source Question: what is are miller syndrome ?\n",
            "Actual Target Answer:  miller syndrome is a rare condition that mainly affects the development of the face and limbs \n",
            "Predicted Target Answer:  miller syndrome is a rare condition that mainly affects the development of the face and limbs \n",
            "\n",
            "\n",
            "Input Source Question: what is are huntington disease ?\n",
            "Actual Target Answer:  a progressive brain disorder that causes uncontrolled movements emotional problems and loss of thinking ability \n",
            "Predicted Target Answer:  a progressive brain disorder that causes uncontrolled movements emotional problems and loss of thinking abi\n",
            "\n",
            "\n",
            "Input Source Question: is adams oliver syndrome inherited ?\n",
            "Actual Target Answer:  adams oliver syndrome can have different inheritance pattern \n",
            "Predicted Target Answer:  adams oliver syndrome can have different inheritance pattern \n",
            "\n",
            "\n",
            "Input Source Question: what is are tremor ?\n",
            "Actual Target Answer:  tremor is an unintentional muscle movement involving to and fro movements of one or more parts of the body \n",
            "Predicted Target Answer:  achondrogenesis is a group of severe disorders that affect cartilage and bone development \n",
            "\n",
            "\n",
            "Input Source Question: how many people are affected by activated pik delta syndrome ?\n",
            "Actual Target Answer:  the prevalence of activated pik delta syndrome is unknown \n",
            "Predicted Target Answer:  the prevalence of activated pik delta syndrome is unknown \n",
            "\n",
            "\n",
            "Input Source Question: what are the treatments for phosphoglycerate mutase deficiency ?\n",
            "Actual Target Answer:  diagnostic tests drug therapy surgery and rehabilitation genetic counseling palliative care \n",
            "Predicted Target Answer:  diagnostic tests drug therapy surgery and rehabilitation genetic counseling palliative care \n",
            "\n",
            "\n"
          ],
          "name": "stdout"
        }
      ]
    }
  ]
}